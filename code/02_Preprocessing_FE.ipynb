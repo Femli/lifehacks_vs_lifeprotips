{
 "cells": [
  {
   "cell_type": "markdown",
   "id": "51953a7a-f245-4152-bbdf-758d5a43d663",
   "metadata": {},
   "source": [
    "# Preprocessing and Feature Engineering"
   ]
  },
  {
   "cell_type": "markdown",
   "id": "4744c695-86af-4ba5-8037-7c2c1c59a3ca",
   "metadata": {},
   "source": [
    "This notebook is dedicated to preprocessing our data into a clean data set, and feature engineering our training datasets in preparation for modeling."
   ]
  },
  {
   "cell_type": "markdown",
   "id": "848e7404-0f8a-428b-823a-5c0c58a4e1f3",
   "metadata": {},
   "source": [
    "## Library Imports"
   ]
  },
  {
   "cell_type": "code",
   "execution_count": 320,
   "id": "701c38a0-c2c2-41e0-9630-bc49b3e86d18",
   "metadata": {},
   "outputs": [],
   "source": [
    "import pandas as pd\n",
    "import numpy as np\n",
    "import matplotlib.pyplot as plt\n",
    "import seaborn as sns\n",
    "\n",
    "## preprocessing\n",
    "from sklearn.model_selection import train_test_split\n",
    "from sklearn.preprocessing import LabelEncoder\n",
    "\n",
    "## preprocessing - NLP\n",
    "from sklearn.feature_extraction.text import CountVectorizer, TfidfVectorizer\n",
    "from nltk import word_tokenize\n",
    "from nltk.stem import WordNetLemmatizer"
   ]
  },
  {
   "cell_type": "code",
   "execution_count": 270,
   "id": "bca1217f-2fae-4b3f-a2a9-ef6af51a1267",
   "metadata": {},
   "outputs": [],
   "source": [
    "%run 00_Workflow_Functions.ipynb import na_only"
   ]
  },
  {
   "cell_type": "code",
   "execution_count": 422,
   "id": "d6329f46-6a94-488e-9f05-ad2b9fde22d8",
   "metadata": {},
   "outputs": [],
   "source": [
    "stored_data = {} #data to be stored and shared across other notebooks"
   ]
  },
  {
   "cell_type": "code",
   "execution_count": 291,
   "id": "b33cd74e-63b5-4064-9aa9-fec92890b210",
   "metadata": {},
   "outputs": [
    {
     "data": {
      "text/plain": [
       "(9717, 10)"
      ]
     },
     "execution_count": 291,
     "metadata": {},
     "output_type": "execute_result"
    }
   ],
   "source": [
    "subs = pd.read_csv('../datasets/submissions_data.csv')\n",
    "subs.shape"
   ]
  },
  {
   "cell_type": "markdown",
   "id": "7f75ffa5-10f0-4082-bbba-191bb71aa8d3",
   "metadata": {},
   "source": [
    "## Data Cleaning"
   ]
  },
  {
   "cell_type": "code",
   "execution_count": 292,
   "id": "ef0b8b05-fb8f-4b85-99dc-e26d7783dd28",
   "metadata": {},
   "outputs": [
    {
     "data": {
      "text/html": [
       "<div>\n",
       "<style scoped>\n",
       "    .dataframe tbody tr th:only-of-type {\n",
       "        vertical-align: middle;\n",
       "    }\n",
       "\n",
       "    .dataframe tbody tr th {\n",
       "        vertical-align: top;\n",
       "    }\n",
       "\n",
       "    .dataframe thead th {\n",
       "        text-align: right;\n",
       "    }\n",
       "</style>\n",
       "<table border=\"1\" class=\"dataframe\">\n",
       "  <thead>\n",
       "    <tr style=\"text-align: right;\">\n",
       "      <th></th>\n",
       "      <th>author</th>\n",
       "      <th>author_fullname</th>\n",
       "      <th>created_utc</th>\n",
       "      <th>selftext</th>\n",
       "      <th>title</th>\n",
       "      <th>subreddit</th>\n",
       "      <th>is_video</th>\n",
       "      <th>num_comments</th>\n",
       "      <th>score</th>\n",
       "      <th>upvote_ratio</th>\n",
       "    </tr>\n",
       "  </thead>\n",
       "  <tbody>\n",
       "    <tr>\n",
       "      <th>0</th>\n",
       "      <td>anonymousbrowzer</td>\n",
       "      <td>t2_14k10v</td>\n",
       "      <td>1.648770e+09</td>\n",
       "      <td>NaN</td>\n",
       "      <td>When the smoke detector goes off from cooking,...</td>\n",
       "      <td>lifehacks</td>\n",
       "      <td>False</td>\n",
       "      <td>0.0</td>\n",
       "      <td>1.0</td>\n",
       "      <td>1.0</td>\n",
       "    </tr>\n",
       "    <tr>\n",
       "      <th>1</th>\n",
       "      <td>PlantBasedRedditor</td>\n",
       "      <td>t2_g4e0rfz</td>\n",
       "      <td>1.648767e+09</td>\n",
       "      <td>NaN</td>\n",
       "      <td>Use Goo Gone on scissors and blades to reduce ...</td>\n",
       "      <td>lifehacks</td>\n",
       "      <td>False</td>\n",
       "      <td>0.0</td>\n",
       "      <td>1.0</td>\n",
       "      <td>1.0</td>\n",
       "    </tr>\n",
       "    <tr>\n",
       "      <th>2</th>\n",
       "      <td>CryptographerFar5073</td>\n",
       "      <td>t2_ldjcr311</td>\n",
       "      <td>1.648764e+09</td>\n",
       "      <td>NaN</td>\n",
       "      <td>Bingo Bash</td>\n",
       "      <td>lifehacks</td>\n",
       "      <td>False</td>\n",
       "      <td>0.0</td>\n",
       "      <td>1.0</td>\n",
       "      <td>1.0</td>\n",
       "    </tr>\n",
       "    <tr>\n",
       "      <th>3</th>\n",
       "      <td>Giant_weiner_not_dog</td>\n",
       "      <td>t2_konlr4kt</td>\n",
       "      <td>1.648763e+09</td>\n",
       "      <td>NaN</td>\n",
       "      <td>How to troll someone</td>\n",
       "      <td>lifehacks</td>\n",
       "      <td>False</td>\n",
       "      <td>0.0</td>\n",
       "      <td>1.0</td>\n",
       "      <td>1.0</td>\n",
       "    </tr>\n",
       "    <tr>\n",
       "      <th>4</th>\n",
       "      <td>Giant_weiner_not_dog</td>\n",
       "      <td>t2_konlr4kt</td>\n",
       "      <td>1.648762e+09</td>\n",
       "      <td>NaN</td>\n",
       "      <td>what a nice way to have your meal( credit to u...</td>\n",
       "      <td>lifehacks</td>\n",
       "      <td>False</td>\n",
       "      <td>0.0</td>\n",
       "      <td>1.0</td>\n",
       "      <td>1.0</td>\n",
       "    </tr>\n",
       "  </tbody>\n",
       "</table>\n",
       "</div>"
      ],
      "text/plain": [
       "                 author author_fullname   created_utc selftext  \\\n",
       "0      anonymousbrowzer       t2_14k10v  1.648770e+09      NaN   \n",
       "1    PlantBasedRedditor      t2_g4e0rfz  1.648767e+09      NaN   \n",
       "2  CryptographerFar5073     t2_ldjcr311  1.648764e+09      NaN   \n",
       "3  Giant_weiner_not_dog     t2_konlr4kt  1.648763e+09      NaN   \n",
       "4  Giant_weiner_not_dog     t2_konlr4kt  1.648762e+09      NaN   \n",
       "\n",
       "                                               title  subreddit  is_video  \\\n",
       "0  When the smoke detector goes off from cooking,...  lifehacks     False   \n",
       "1  Use Goo Gone on scissors and blades to reduce ...  lifehacks     False   \n",
       "2                                         Bingo Bash  lifehacks     False   \n",
       "3                               How to troll someone  lifehacks     False   \n",
       "4  what a nice way to have your meal( credit to u...  lifehacks     False   \n",
       "\n",
       "   num_comments  score  upvote_ratio  \n",
       "0           0.0    1.0           1.0  \n",
       "1           0.0    1.0           1.0  \n",
       "2           0.0    1.0           1.0  \n",
       "3           0.0    1.0           1.0  \n",
       "4           0.0    1.0           1.0  "
      ]
     },
     "execution_count": 292,
     "metadata": {},
     "output_type": "execute_result"
    }
   ],
   "source": [
    "subs.head(5)"
   ]
  },
  {
   "cell_type": "code",
   "execution_count": 293,
   "id": "21604ee1-7cde-4d2d-9eec-176b5ca5356a",
   "metadata": {},
   "outputs": [
    {
     "data": {
      "text/html": [
       "<div>\n",
       "<style scoped>\n",
       "    .dataframe tbody tr th:only-of-type {\n",
       "        vertical-align: middle;\n",
       "    }\n",
       "\n",
       "    .dataframe tbody tr th {\n",
       "        vertical-align: top;\n",
       "    }\n",
       "\n",
       "    .dataframe thead th {\n",
       "        text-align: right;\n",
       "    }\n",
       "</style>\n",
       "<table border=\"1\" class=\"dataframe\">\n",
       "  <thead>\n",
       "    <tr style=\"text-align: right;\">\n",
       "      <th></th>\n",
       "      <th>author</th>\n",
       "      <th>author_fullname</th>\n",
       "      <th>created_utc</th>\n",
       "      <th>selftext</th>\n",
       "      <th>title</th>\n",
       "      <th>subreddit</th>\n",
       "      <th>is_video</th>\n",
       "      <th>num_comments</th>\n",
       "      <th>score</th>\n",
       "      <th>upvote_ratio</th>\n",
       "    </tr>\n",
       "  </thead>\n",
       "  <tbody>\n",
       "    <tr>\n",
       "      <th>9712</th>\n",
       "      <td>sscorpio77</td>\n",
       "      <td>t2_jugpp8rg</td>\n",
       "      <td>1.646173e+09</td>\n",
       "      <td>[removed]</td>\n",
       "      <td>LPT: You won’t have to constantly brake to avo...</td>\n",
       "      <td>LifeProTips</td>\n",
       "      <td>False</td>\n",
       "      <td>2.0</td>\n",
       "      <td>1.0</td>\n",
       "      <td>1.0</td>\n",
       "    </tr>\n",
       "    <tr>\n",
       "      <th>9713</th>\n",
       "      <td>CreatorVilla</td>\n",
       "      <td>t2_f1xkvrju</td>\n",
       "      <td>1.646173e+09</td>\n",
       "      <td>NaN</td>\n",
       "      <td>LPT: If you want someone to trust you, approac...</td>\n",
       "      <td>LifeProTips</td>\n",
       "      <td>False</td>\n",
       "      <td>1.0</td>\n",
       "      <td>1.0</td>\n",
       "      <td>1.0</td>\n",
       "    </tr>\n",
       "    <tr>\n",
       "      <th>9714</th>\n",
       "      <td>TheNative93</td>\n",
       "      <td>t2_52ulcx1x</td>\n",
       "      <td>1.646173e+09</td>\n",
       "      <td>If they have a number on their website, or on ...</td>\n",
       "      <td>LPT Whenever you submit a resume don’t wait fo...</td>\n",
       "      <td>LifeProTips</td>\n",
       "      <td>False</td>\n",
       "      <td>1.0</td>\n",
       "      <td>1.0</td>\n",
       "      <td>1.0</td>\n",
       "    </tr>\n",
       "    <tr>\n",
       "      <th>9715</th>\n",
       "      <td>duskymk</td>\n",
       "      <td>t2_22umtf1d</td>\n",
       "      <td>1.646173e+09</td>\n",
       "      <td>[removed]</td>\n",
       "      <td>LPT: Always bring your phone with you in a pub...</td>\n",
       "      <td>LifeProTips</td>\n",
       "      <td>False</td>\n",
       "      <td>1.0</td>\n",
       "      <td>1.0</td>\n",
       "      <td>1.0</td>\n",
       "    </tr>\n",
       "    <tr>\n",
       "      <th>9716</th>\n",
       "      <td>shwarma_heaven</td>\n",
       "      <td>t2_ddvb4</td>\n",
       "      <td>1.646172e+09</td>\n",
       "      <td>NaN</td>\n",
       "      <td>LPT: Just because a car stops before a parking...</td>\n",
       "      <td>LifeProTips</td>\n",
       "      <td>False</td>\n",
       "      <td>1.0</td>\n",
       "      <td>1.0</td>\n",
       "      <td>1.0</td>\n",
       "    </tr>\n",
       "  </tbody>\n",
       "</table>\n",
       "</div>"
      ],
      "text/plain": [
       "              author author_fullname   created_utc  \\\n",
       "9712      sscorpio77     t2_jugpp8rg  1.646173e+09   \n",
       "9713    CreatorVilla     t2_f1xkvrju  1.646173e+09   \n",
       "9714     TheNative93     t2_52ulcx1x  1.646173e+09   \n",
       "9715         duskymk     t2_22umtf1d  1.646173e+09   \n",
       "9716  shwarma_heaven        t2_ddvb4  1.646172e+09   \n",
       "\n",
       "                                               selftext  \\\n",
       "9712                                          [removed]   \n",
       "9713                                                NaN   \n",
       "9714  If they have a number on their website, or on ...   \n",
       "9715                                          [removed]   \n",
       "9716                                                NaN   \n",
       "\n",
       "                                                  title    subreddit  \\\n",
       "9712  LPT: You won’t have to constantly brake to avo...  LifeProTips   \n",
       "9713  LPT: If you want someone to trust you, approac...  LifeProTips   \n",
       "9714  LPT Whenever you submit a resume don’t wait fo...  LifeProTips   \n",
       "9715  LPT: Always bring your phone with you in a pub...  LifeProTips   \n",
       "9716  LPT: Just because a car stops before a parking...  LifeProTips   \n",
       "\n",
       "      is_video  num_comments  score  upvote_ratio  \n",
       "9712     False           2.0    1.0           1.0  \n",
       "9713     False           1.0    1.0           1.0  \n",
       "9714     False           1.0    1.0           1.0  \n",
       "9715     False           1.0    1.0           1.0  \n",
       "9716     False           1.0    1.0           1.0  "
      ]
     },
     "execution_count": 293,
     "metadata": {},
     "output_type": "execute_result"
    }
   ],
   "source": [
    "subs.tail(5)"
   ]
  },
  {
   "cell_type": "code",
   "execution_count": 294,
   "id": "acc23335-3c39-4a9c-ac72-5f482afaca7d",
   "metadata": {},
   "outputs": [
    {
     "name": "stdout",
     "output_type": "stream",
     "text": [
      "<class 'pandas.core.frame.DataFrame'>\n",
      "RangeIndex: 9717 entries, 0 to 9716\n",
      "Data columns (total 10 columns):\n",
      " #   Column           Non-Null Count  Dtype  \n",
      "---  ------           --------------  -----  \n",
      " 0   author           9717 non-null   object \n",
      " 1   author_fullname  9717 non-null   object \n",
      " 2   created_utc      9717 non-null   float64\n",
      " 3   selftext         5557 non-null   object \n",
      " 4   title            9717 non-null   object \n",
      " 5   subreddit        9717 non-null   object \n",
      " 6   is_video         9717 non-null   bool   \n",
      " 7   num_comments     9717 non-null   float64\n",
      " 8   score            9717 non-null   float64\n",
      " 9   upvote_ratio     9717 non-null   float64\n",
      "dtypes: bool(1), float64(4), object(5)\n",
      "memory usage: 692.8+ KB\n"
     ]
    }
   ],
   "source": [
    "subs.info()"
   ]
  },
  {
   "cell_type": "code",
   "execution_count": 295,
   "id": "622952cd-4300-446c-990a-6ac4a9635cd2",
   "metadata": {},
   "outputs": [
    {
     "data": {
      "text/plain": [
       "selftext    4160\n",
       "dtype: int64"
      ]
     },
     "execution_count": 295,
     "metadata": {},
     "output_type": "execute_result"
    }
   ],
   "source": [
    "na_only(subs)"
   ]
  },
  {
   "cell_type": "markdown",
   "id": "8884769d-9953-4d29-86b9-e3f417ce3fdf",
   "metadata": {},
   "source": [
    "When we wrangled the data, we had no NAs reported. However, after exporting the CSV and importing the CSV, we now have NAs present. Also, there appears to be a particular value `[removed]` that indicates a submission was deleted, and data was redacted. We will need to drop all of this data for NLP, as it's not useful for us."
   ]
  },
  {
   "cell_type": "code",
   "execution_count": 296,
   "id": "c25deb2c-976e-4524-b937-6ffa62ac1652",
   "metadata": {},
   "outputs": [
    {
     "data": {
      "text/plain": [
       "lifehacks      0.520119\n",
       "LifeProTips    0.479881\n",
       "Name: subreddit, dtype: float64"
      ]
     },
     "execution_count": 296,
     "metadata": {},
     "output_type": "execute_result"
    }
   ],
   "source": [
    "subs['subreddit'].value_counts(normalize=True)"
   ]
  },
  {
   "cell_type": "markdown",
   "id": "13af95c4-eafd-4627-9b08-e159cfa09e51",
   "metadata": {},
   "source": [
    "Prior to dropping NAs, we have a nearly perfectly balance proportion between our two classes."
   ]
  },
  {
   "cell_type": "markdown",
   "id": "783760c0-0e1b-4ff1-8ac0-9444cded5348",
   "metadata": {},
   "source": [
    "Our data is likley to contain spam content from bots. What if we dropped all posts that have a score less than 2? Let's see how viable that is."
   ]
  },
  {
   "cell_type": "code",
   "execution_count": 297,
   "id": "f5b323a4-dda0-4cd2-b9da-20d5ca8bb7fa",
   "metadata": {},
   "outputs": [
    {
     "data": {
      "text/plain": [
       "(9680, 10)"
      ]
     },
     "execution_count": 297,
     "metadata": {},
     "output_type": "execute_result"
    }
   ],
   "source": [
    "subs[subs['score'] > 0].shape"
   ]
  },
  {
   "cell_type": "code",
   "execution_count": 298,
   "id": "6f755781-3c45-4a16-9101-8b8d05310cd4",
   "metadata": {},
   "outputs": [
    {
     "data": {
      "text/plain": [
       "(98, 10)"
      ]
     },
     "execution_count": 298,
     "metadata": {},
     "output_type": "execute_result"
    }
   ],
   "source": [
    "subs[subs['score'] > 1].shape"
   ]
  },
  {
   "cell_type": "markdown",
   "id": "229bdec6-3466-42e9-b804-7213f2bb7372",
   "metadata": {},
   "source": [
    "By simply excluding posts with a score of 1, we end up with very little data... not a viable strategy."
   ]
  },
  {
   "cell_type": "markdown",
   "id": "31065cec-db22-4d8a-a76b-92a077ffb346",
   "metadata": {},
   "source": [
    "Let's drop NAs from our dataset entirely, since only `selftext` data with content is relevant for us."
   ]
  },
  {
   "cell_type": "code",
   "execution_count": 299,
   "id": "2029ea1d-5538-41b3-87e1-6177c9532eca",
   "metadata": {},
   "outputs": [
    {
     "data": {
      "text/plain": [
       "(5557, 10)"
      ]
     },
     "execution_count": 299,
     "metadata": {},
     "output_type": "execute_result"
    }
   ],
   "source": [
    "# dropping NAs\n",
    "subs = subs.dropna()\n",
    "#subs.reset_index(drop=True, inplace=True) #resetting index after dropping rows\n",
    "subs.shape"
   ]
  },
  {
   "cell_type": "markdown",
   "id": "80ad664a-0ba4-41e9-92a9-07345d435159",
   "metadata": {},
   "source": [
    "In addition NAs, let's remove `[removed]` and selftext posts that are less than `7` words long (subjective choice). We do this because a post of a few words may indicate the post is referencing a multimedia file or hypyerlink, which is noise that will affect our model performance."
   ]
  },
  {
   "cell_type": "code",
   "execution_count": 300,
   "id": "03ca94ac-1fac-4260-8d10-b6ac6dccf39e",
   "metadata": {},
   "outputs": [],
   "source": [
    "#storing all (index,value) pairs of erraneous data in an array\n",
    "text_filter = np.array([[i, text] for i, text in enumerate(subs['selftext']) if len(str(text).split()) < 10]) "
   ]
  },
  {
   "cell_type": "code",
   "execution_count": 301,
   "id": "f3abd64e-d280-4cd3-afd6-af5b99a6d686",
   "metadata": {},
   "outputs": [
    {
     "data": {
      "text/plain": [
       "[removed]                                                                                                        2933\n",
       "to avoid their insanely high prices this summer!                                                                    2\n",
       "Original:\\nhttps://m.youtube.com/watch?v=SQNtGoM3FVU\\n\\nFor download:\\nhttps://m.yout.com/watch?v=SQNtGoM3FVU       2\n",
       "\\n\\n[View Poll](https://www.reddit.com/poll/rjy7cm)                                                                 1\n",
       "Went to make cookies and this did the trick.                                                                        1\n",
       "                                                                                                                 ... \n",
       "It's the most commonly used utensil.                                                                                1\n",
       "It’s less risky, and you can eat the evidence.                                                                      1\n",
       "It’s simply satisfying.                                                                                             1\n",
       "Just do it, it'll be good for you.                                                                                  1\n",
       "used it a couple of times.                                                                                          1\n",
       "Length: 147, dtype: int64"
      ]
     },
     "execution_count": 301,
     "metadata": {},
     "output_type": "execute_result"
    }
   ],
   "source": [
    "pd.DataFrame(text_filter[:, 1]).value_counts()"
   ]
  },
  {
   "cell_type": "code",
   "execution_count": 302,
   "id": "164d33b3-baea-4674-9f89-d5b433d05f7a",
   "metadata": {
    "tags": []
   },
   "outputs": [
    {
     "data": {
      "text/plain": [
       "[0, 3, 4, 6, 7, 8, 9, 10, 11, 12]"
      ]
     },
     "execution_count": 302,
     "metadata": {},
     "output_type": "execute_result"
    }
   ],
   "source": [
    "ind = list(text_filter[:, 0].astype(int)) #these indices contain the erraneous data\n",
    "ind[:10]"
   ]
  },
  {
   "cell_type": "code",
   "execution_count": 303,
   "id": "6df1cd12-bae0-4bfd-8c29-2b6a530e939d",
   "metadata": {},
   "outputs": [],
   "source": [
    "subs.iloc[ind, 3] = None"
   ]
  },
  {
   "cell_type": "code",
   "execution_count": 304,
   "id": "dafec894-741b-42b5-a409-60b53ab2dbd2",
   "metadata": {},
   "outputs": [
    {
     "name": "stdout",
     "output_type": "stream",
     "text": [
      "3081 3081\n"
     ]
    }
   ],
   "source": [
    "print(len(ind), subs.iloc[ind, 3].isna().sum())"
   ]
  },
  {
   "cell_type": "markdown",
   "id": "c9dfb7ac-39c5-4d9c-b509-1a586b91052c",
   "metadata": {},
   "source": [
    "Values match; we have replaced all erraneous text as NAs and we will now drop them."
   ]
  },
  {
   "cell_type": "code",
   "execution_count": 305,
   "id": "fff48d36-6202-45b8-b482-c3ddaf9715e9",
   "metadata": {},
   "outputs": [
    {
     "data": {
      "text/plain": [
       "(2476, 10)"
      ]
     },
     "execution_count": 305,
     "metadata": {},
     "output_type": "execute_result"
    }
   ],
   "source": [
    "# dropping NAs\n",
    "subs = subs.dropna()\n",
    "subs.shape"
   ]
  },
  {
   "cell_type": "code",
   "execution_count": 306,
   "id": "553be5d9-8ce5-46cb-bb2d-6d619e60f302",
   "metadata": {},
   "outputs": [
    {
     "data": {
      "text/plain": [
       "0"
      ]
     },
     "execution_count": 306,
     "metadata": {},
     "output_type": "execute_result"
    }
   ],
   "source": [
    "na_only(subs)"
   ]
  },
  {
   "cell_type": "code",
   "execution_count": 307,
   "id": "c64f076b-6d3a-43b6-919d-f199434e5b76",
   "metadata": {},
   "outputs": [
    {
     "data": {
      "text/plain": [
       "LifeProTips    0.758885\n",
       "lifehacks      0.241115\n",
       "Name: subreddit, dtype: float64"
      ]
     },
     "execution_count": 307,
     "metadata": {},
     "output_type": "execute_result"
    }
   ],
   "source": [
    "subs['subreddit'].value_counts(normalize=True)"
   ]
  },
  {
   "cell_type": "markdown",
   "id": "f5d132e5-a1d0-4840-b996-c85fffe75d32",
   "metadata": {},
   "source": [
    "After dropping NAs, `LifeProTips` has become our majority class."
   ]
  },
  {
   "cell_type": "markdown",
   "id": "448fe8cf-b49f-4101-88cf-3e479b4e2622",
   "metadata": {},
   "source": [
    "Let's explort our clean data. Uncomment code below to export data to CSV."
   ]
  },
  {
   "cell_type": "code",
   "execution_count": 308,
   "id": "7e21fe27-d67c-478a-83d9-295af0e2bdd3",
   "metadata": {},
   "outputs": [],
   "source": [
    "#subs.to_csv('../datasets/submissions_data_cleaned.csv', index=False)"
   ]
  },
  {
   "cell_type": "markdown",
   "id": "89d032e6-f1dd-493b-8309-8181ab6f1ca9",
   "metadata": {},
   "source": [
    "## Train and Test Splits"
   ]
  },
  {
   "cell_type": "markdown",
   "id": "2abe936a-aa12-4c60-b31b-809ef2b05864",
   "metadata": {},
   "source": [
    "Splitting our data to train and test our model performances."
   ]
  },
  {
   "cell_type": "code",
   "execution_count": 310,
   "id": "7935e58f-b286-4d1c-9725-8b873607d957",
   "metadata": {},
   "outputs": [],
   "source": [
    "# we are only interested in the self-text\n",
    "X = subs['selftext']\n",
    "y = subs['subreddit']\n",
    "\n",
    "X_train, X_test, y_train, y_test = train_test_split(X, y, random_state=14, stratify=y)"
   ]
  },
  {
   "cell_type": "code",
   "execution_count": 311,
   "id": "dbd354e2-dd6d-4f39-9b13-098b61e39b0b",
   "metadata": {},
   "outputs": [
    {
     "name": "stdout",
     "output_type": "stream",
     "text": [
      "(1857,) (619,)\n"
     ]
    }
   ],
   "source": [
    "print(X_train.shape, X_test.shape)"
   ]
  },
  {
   "cell_type": "code",
   "execution_count": 312,
   "id": "804becbc-ea96-437d-afdf-7bb1d96c2a3c",
   "metadata": {},
   "outputs": [
    {
     "name": "stdout",
     "output_type": "stream",
     "text": [
      "(1857,) (619,)\n"
     ]
    }
   ],
   "source": [
    "print(y_train.shape, y_test.shape)"
   ]
  },
  {
   "cell_type": "code",
   "execution_count": 314,
   "id": "00777529-264d-43ef-b255-1470d46dfdf3",
   "metadata": {},
   "outputs": [
    {
     "data": {
      "text/plain": [
       "LifeProTips    0.759289\n",
       "lifehacks      0.240711\n",
       "Name: subreddit, dtype: float64"
      ]
     },
     "execution_count": 314,
     "metadata": {},
     "output_type": "execute_result"
    }
   ],
   "source": [
    "y_test.value_counts(normalize=True) #verifying stratification"
   ]
  },
  {
   "cell_type": "markdown",
   "id": "5988b712-bcd5-4031-b1ed-faeaa63f6da2",
   "metadata": {},
   "source": [
    "## Encoding Response"
   ]
  },
  {
   "cell_type": "markdown",
   "id": "38e31ff7-3bd8-47f8-ac8f-64f5433f31bf",
   "metadata": {},
   "source": [
    "Transforming our response into labels of 1 and 0, where `lifehacks : 1` and `LifeProTips : 0`."
   ]
  },
  {
   "cell_type": "code",
   "execution_count": 315,
   "id": "13b41f7c-7e99-4019-9765-1c655829ca17",
   "metadata": {},
   "outputs": [],
   "source": [
    "le = LabelEncoder()"
   ]
  },
  {
   "cell_type": "code",
   "execution_count": 316,
   "id": "3885ec35-d1e2-4e32-aca3-0f30644bc266",
   "metadata": {},
   "outputs": [],
   "source": [
    "y_train_encoded = le.fit_transform(y_train)\n",
    "y_test_encoded = le.transform(y_test)"
   ]
  },
  {
   "cell_type": "code",
   "execution_count": 317,
   "id": "4a98a73b-1d19-461b-8555-34a69572b156",
   "metadata": {},
   "outputs": [
    {
     "data": {
      "text/plain": [
       "0    0.758751\n",
       "1    0.241249\n",
       "dtype: float64"
      ]
     },
     "execution_count": 317,
     "metadata": {},
     "output_type": "execute_result"
    }
   ],
   "source": [
    "pd.DataFrame(y_train_encoded).value_counts(normalize=True)"
   ]
  },
  {
   "cell_type": "markdown",
   "id": "d8a4b8ee-38b0-4720-89c3-3c4beb3b52cc",
   "metadata": {},
   "source": [
    "Although we started off with a strongly balanced proportion of positive and negative classes, after preprocessing our data we now have dataset that is fairly unbalanced. This may affect our model performance down the road. We may be able to mitigate this by wrangling more data from the subreddits. We will proceed for now."
   ]
  },
  {
   "cell_type": "markdown",
   "id": "b6f65111-d197-4261-b775-68f1dde99833",
   "metadata": {},
   "source": [
    "## Feature Engineering"
   ]
  },
  {
   "cell_type": "markdown",
   "id": "cb168408-8c0a-4671-8103-1a0e48c2213b",
   "metadata": {},
   "source": [
    "We will engineer our features iteratively, as we build and evaluate model performances on the features. We go back and forth between this notebook and `03_Models_Benchmarks`."
   ]
  },
  {
   "cell_type": "code",
   "execution_count": null,
   "id": "692db5f5-3756-43ae-b700-e546cfa816fc",
   "metadata": {},
   "outputs": [],
   "source": [
    "cvec = CountVectorizer()"
   ]
  },
  {
   "cell_type": "code",
   "execution_count": 322,
   "id": "04b10ef5-90f8-4fb9-b788-bee57b97f2df",
   "metadata": {},
   "outputs": [
    {
     "data": {
      "text/html": [
       "<div>\n",
       "<style scoped>\n",
       "    .dataframe tbody tr th:only-of-type {\n",
       "        vertical-align: middle;\n",
       "    }\n",
       "\n",
       "    .dataframe tbody tr th {\n",
       "        vertical-align: top;\n",
       "    }\n",
       "\n",
       "    .dataframe thead th {\n",
       "        text-align: right;\n",
       "    }\n",
       "</style>\n",
       "<table border=\"1\" class=\"dataframe\">\n",
       "  <thead>\n",
       "    <tr style=\"text-align: right;\">\n",
       "      <th></th>\n",
       "      <th>00</th>\n",
       "      <th>000</th>\n",
       "      <th>00001</th>\n",
       "      <th>026_007_plumb_repair</th>\n",
       "      <th>03</th>\n",
       "      <th>03am</th>\n",
       "      <th>04</th>\n",
       "      <th>054fd209</th>\n",
       "      <th>08</th>\n",
       "      <th>087</th>\n",
       "      <th>...</th>\n",
       "      <th>還是因為距離</th>\n",
       "      <th>還會陷入愛情嗎</th>\n",
       "      <th>那些懵懂而青澀的過往</th>\n",
       "      <th>那些沒有結果的感情</th>\n",
       "      <th>那個你本以為忘記的人</th>\n",
       "      <th>都成眷屬</th>\n",
       "      <th>都會實現</th>\n",
       "      <th>都會結果</th>\n",
       "      <th>都有可能改變你的生活</th>\n",
       "      <th>餘生</th>\n",
       "    </tr>\n",
       "  </thead>\n",
       "  <tbody>\n",
       "    <tr>\n",
       "      <th>0</th>\n",
       "      <td>0</td>\n",
       "      <td>0</td>\n",
       "      <td>0</td>\n",
       "      <td>0</td>\n",
       "      <td>0</td>\n",
       "      <td>0</td>\n",
       "      <td>0</td>\n",
       "      <td>0</td>\n",
       "      <td>0</td>\n",
       "      <td>0</td>\n",
       "      <td>...</td>\n",
       "      <td>0</td>\n",
       "      <td>0</td>\n",
       "      <td>0</td>\n",
       "      <td>0</td>\n",
       "      <td>0</td>\n",
       "      <td>0</td>\n",
       "      <td>0</td>\n",
       "      <td>0</td>\n",
       "      <td>0</td>\n",
       "      <td>0</td>\n",
       "    </tr>\n",
       "    <tr>\n",
       "      <th>1</th>\n",
       "      <td>0</td>\n",
       "      <td>0</td>\n",
       "      <td>0</td>\n",
       "      <td>0</td>\n",
       "      <td>0</td>\n",
       "      <td>0</td>\n",
       "      <td>0</td>\n",
       "      <td>0</td>\n",
       "      <td>0</td>\n",
       "      <td>0</td>\n",
       "      <td>...</td>\n",
       "      <td>0</td>\n",
       "      <td>0</td>\n",
       "      <td>0</td>\n",
       "      <td>0</td>\n",
       "      <td>0</td>\n",
       "      <td>0</td>\n",
       "      <td>0</td>\n",
       "      <td>0</td>\n",
       "      <td>0</td>\n",
       "      <td>0</td>\n",
       "    </tr>\n",
       "    <tr>\n",
       "      <th>2</th>\n",
       "      <td>0</td>\n",
       "      <td>0</td>\n",
       "      <td>0</td>\n",
       "      <td>0</td>\n",
       "      <td>0</td>\n",
       "      <td>0</td>\n",
       "      <td>0</td>\n",
       "      <td>0</td>\n",
       "      <td>0</td>\n",
       "      <td>0</td>\n",
       "      <td>...</td>\n",
       "      <td>0</td>\n",
       "      <td>0</td>\n",
       "      <td>0</td>\n",
       "      <td>0</td>\n",
       "      <td>0</td>\n",
       "      <td>0</td>\n",
       "      <td>0</td>\n",
       "      <td>0</td>\n",
       "      <td>0</td>\n",
       "      <td>0</td>\n",
       "    </tr>\n",
       "    <tr>\n",
       "      <th>3</th>\n",
       "      <td>0</td>\n",
       "      <td>0</td>\n",
       "      <td>0</td>\n",
       "      <td>0</td>\n",
       "      <td>0</td>\n",
       "      <td>0</td>\n",
       "      <td>0</td>\n",
       "      <td>0</td>\n",
       "      <td>0</td>\n",
       "      <td>0</td>\n",
       "      <td>...</td>\n",
       "      <td>0</td>\n",
       "      <td>0</td>\n",
       "      <td>0</td>\n",
       "      <td>0</td>\n",
       "      <td>0</td>\n",
       "      <td>0</td>\n",
       "      <td>0</td>\n",
       "      <td>0</td>\n",
       "      <td>0</td>\n",
       "      <td>0</td>\n",
       "    </tr>\n",
       "    <tr>\n",
       "      <th>4</th>\n",
       "      <td>0</td>\n",
       "      <td>0</td>\n",
       "      <td>0</td>\n",
       "      <td>0</td>\n",
       "      <td>0</td>\n",
       "      <td>0</td>\n",
       "      <td>0</td>\n",
       "      <td>0</td>\n",
       "      <td>0</td>\n",
       "      <td>0</td>\n",
       "      <td>...</td>\n",
       "      <td>0</td>\n",
       "      <td>0</td>\n",
       "      <td>0</td>\n",
       "      <td>0</td>\n",
       "      <td>0</td>\n",
       "      <td>0</td>\n",
       "      <td>0</td>\n",
       "      <td>0</td>\n",
       "      <td>0</td>\n",
       "      <td>0</td>\n",
       "    </tr>\n",
       "  </tbody>\n",
       "</table>\n",
       "<p>5 rows × 12373 columns</p>\n",
       "</div>"
      ],
      "text/plain": [
       "   00  000  00001  026_007_plumb_repair  03  03am  04  054fd209  08  087  ...  \\\n",
       "0   0    0      0                     0   0     0   0         0   0    0  ...   \n",
       "1   0    0      0                     0   0     0   0         0   0    0  ...   \n",
       "2   0    0      0                     0   0     0   0         0   0    0  ...   \n",
       "3   0    0      0                     0   0     0   0         0   0    0  ...   \n",
       "4   0    0      0                     0   0     0   0         0   0    0  ...   \n",
       "\n",
       "   還是因為距離  還會陷入愛情嗎  那些懵懂而青澀的過往  那些沒有結果的感情  那個你本以為忘記的人  都成眷屬  都會實現  都會結果  \\\n",
       "0       0        0           0          0           0     0     0     0   \n",
       "1       0        0           0          0           0     0     0     0   \n",
       "2       0        0           0          0           0     0     0     0   \n",
       "3       0        0           0          0           0     0     0     0   \n",
       "4       0        0           0          0           0     0     0     0   \n",
       "\n",
       "   都有可能改變你的生活  餘生  \n",
       "0           0   0  \n",
       "1           0   0  \n",
       "2           0   0  \n",
       "3           0   0  \n",
       "4           0   0  \n",
       "\n",
       "[5 rows x 12373 columns]"
      ]
     },
     "execution_count": 322,
     "metadata": {},
     "output_type": "execute_result"
    }
   ],
   "source": [
    "X_train_cvec = pd.DataFrame(cvec.fit_transform(X_train).A, columns=cvec.get_feature_names_out())\n",
    "X_test_cvec = pd.DataFrame(cvec.transform(X_test).A, columns=cvec.get_feature_names_out())\n",
    "X_train_cvec.head(5)"
   ]
  },
  {
   "cell_type": "code",
   "execution_count": 332,
   "id": "68bb9b49-b361-4f47-952a-7c0466f1de1c",
   "metadata": {},
   "outputs": [
    {
     "name": "stdout",
     "output_type": "stream",
     "text": [
      "(1857, 12373) (619, 12373)\n"
     ]
    }
   ],
   "source": [
    "# verifying column size match\n",
    "print(X_train_cvec.shape, X_test_cvec.shape)"
   ]
  },
  {
   "cell_type": "code",
   "execution_count": 327,
   "id": "8f72b64b-3c42-47dd-8f01-80b64c9f7b6c",
   "metadata": {},
   "outputs": [],
   "source": [
    "cvec_top_10 = X_train_cvec.sum().sort_values(ascending=False)[:10]"
   ]
  },
  {
   "cell_type": "code",
   "execution_count": 328,
   "id": "bf730739-ecff-4c74-8ed3-f31395e97e5a",
   "metadata": {},
   "outputs": [
    {
     "data": {
      "image/png": "[encoded data removed]",
      "text/plain": [
       "<Figure size 432x288 with 1 Axes>"
      ]
     },
     "metadata": {
      "needs_background": "light"
     },
     "output_type": "display_data"
    }
   ],
   "source": [
    "sns.barplot(y=list(cvec_top_10.index), x=cvec_top_10.values, orient='h', color='tab:blue')\n",
    "plt.title(\"Top 10 words produced by default countvectorizer\")\n",
    "#plt.savefig('../images/top_10_cvec');"
   ]
  },
  {
   "cell_type": "markdown",
   "id": "36a722f8-4364-4679-a289-bd41fdd9d387",
   "metadata": {},
   "source": [
    "There are vast amounts of stop words (nouns and pronouns) in our submission data. Let's try and cut them down using the default stopwords list in the vectorizer."
   ]
  },
  {
   "cell_type": "code",
   "execution_count": 329,
   "id": "6a61f06c-199b-442b-b4f8-9d36a14b1e1d",
   "metadata": {},
   "outputs": [],
   "source": [
    "cvec2 = CountVectorizer(stop_words='english')"
   ]
  },
  {
   "cell_type": "code",
   "execution_count": 330,
   "id": "97350d75-1f51-4df2-bae9-cdffec2112ce",
   "metadata": {},
   "outputs": [
    {
     "data": {
      "text/html": [
       "<div>\n",
       "<style scoped>\n",
       "    .dataframe tbody tr th:only-of-type {\n",
       "        vertical-align: middle;\n",
       "    }\n",
       "\n",
       "    .dataframe tbody tr th {\n",
       "        vertical-align: top;\n",
       "    }\n",
       "\n",
       "    .dataframe thead th {\n",
       "        text-align: right;\n",
       "    }\n",
       "</style>\n",
       "<table border=\"1\" class=\"dataframe\">\n",
       "  <thead>\n",
       "    <tr style=\"text-align: right;\">\n",
       "      <th></th>\n",
       "      <th>00</th>\n",
       "      <th>000</th>\n",
       "      <th>00001</th>\n",
       "      <th>026_007_plumb_repair</th>\n",
       "      <th>03</th>\n",
       "      <th>03am</th>\n",
       "      <th>04</th>\n",
       "      <th>054fd209</th>\n",
       "      <th>08</th>\n",
       "      <th>087</th>\n",
       "      <th>...</th>\n",
       "      <th>還是因為距離</th>\n",
       "      <th>還會陷入愛情嗎</th>\n",
       "      <th>那些懵懂而青澀的過往</th>\n",
       "      <th>那些沒有結果的感情</th>\n",
       "      <th>那個你本以為忘記的人</th>\n",
       "      <th>都成眷屬</th>\n",
       "      <th>都會實現</th>\n",
       "      <th>都會結果</th>\n",
       "      <th>都有可能改變你的生活</th>\n",
       "      <th>餘生</th>\n",
       "    </tr>\n",
       "  </thead>\n",
       "  <tbody>\n",
       "    <tr>\n",
       "      <th>0</th>\n",
       "      <td>0</td>\n",
       "      <td>0</td>\n",
       "      <td>0</td>\n",
       "      <td>0</td>\n",
       "      <td>0</td>\n",
       "      <td>0</td>\n",
       "      <td>0</td>\n",
       "      <td>0</td>\n",
       "      <td>0</td>\n",
       "      <td>0</td>\n",
       "      <td>...</td>\n",
       "      <td>0</td>\n",
       "      <td>0</td>\n",
       "      <td>0</td>\n",
       "      <td>0</td>\n",
       "      <td>0</td>\n",
       "      <td>0</td>\n",
       "      <td>0</td>\n",
       "      <td>0</td>\n",
       "      <td>0</td>\n",
       "      <td>0</td>\n",
       "    </tr>\n",
       "    <tr>\n",
       "      <th>1</th>\n",
       "      <td>0</td>\n",
       "      <td>0</td>\n",
       "      <td>0</td>\n",
       "      <td>0</td>\n",
       "      <td>0</td>\n",
       "      <td>0</td>\n",
       "      <td>0</td>\n",
       "      <td>0</td>\n",
       "      <td>0</td>\n",
       "      <td>0</td>\n",
       "      <td>...</td>\n",
       "      <td>0</td>\n",
       "      <td>0</td>\n",
       "      <td>0</td>\n",
       "      <td>0</td>\n",
       "      <td>0</td>\n",
       "      <td>0</td>\n",
       "      <td>0</td>\n",
       "      <td>0</td>\n",
       "      <td>0</td>\n",
       "      <td>0</td>\n",
       "    </tr>\n",
       "    <tr>\n",
       "      <th>2</th>\n",
       "      <td>0</td>\n",
       "      <td>0</td>\n",
       "      <td>0</td>\n",
       "      <td>0</td>\n",
       "      <td>0</td>\n",
       "      <td>0</td>\n",
       "      <td>0</td>\n",
       "      <td>0</td>\n",
       "      <td>0</td>\n",
       "      <td>0</td>\n",
       "      <td>...</td>\n",
       "      <td>0</td>\n",
       "      <td>0</td>\n",
       "      <td>0</td>\n",
       "      <td>0</td>\n",
       "      <td>0</td>\n",
       "      <td>0</td>\n",
       "      <td>0</td>\n",
       "      <td>0</td>\n",
       "      <td>0</td>\n",
       "      <td>0</td>\n",
       "    </tr>\n",
       "    <tr>\n",
       "      <th>3</th>\n",
       "      <td>0</td>\n",
       "      <td>0</td>\n",
       "      <td>0</td>\n",
       "      <td>0</td>\n",
       "      <td>0</td>\n",
       "      <td>0</td>\n",
       "      <td>0</td>\n",
       "      <td>0</td>\n",
       "      <td>0</td>\n",
       "      <td>0</td>\n",
       "      <td>...</td>\n",
       "      <td>0</td>\n",
       "      <td>0</td>\n",
       "      <td>0</td>\n",
       "      <td>0</td>\n",
       "      <td>0</td>\n",
       "      <td>0</td>\n",
       "      <td>0</td>\n",
       "      <td>0</td>\n",
       "      <td>0</td>\n",
       "      <td>0</td>\n",
       "    </tr>\n",
       "    <tr>\n",
       "      <th>4</th>\n",
       "      <td>0</td>\n",
       "      <td>0</td>\n",
       "      <td>0</td>\n",
       "      <td>0</td>\n",
       "      <td>0</td>\n",
       "      <td>0</td>\n",
       "      <td>0</td>\n",
       "      <td>0</td>\n",
       "      <td>0</td>\n",
       "      <td>0</td>\n",
       "      <td>...</td>\n",
       "      <td>0</td>\n",
       "      <td>0</td>\n",
       "      <td>0</td>\n",
       "      <td>0</td>\n",
       "      <td>0</td>\n",
       "      <td>0</td>\n",
       "      <td>0</td>\n",
       "      <td>0</td>\n",
       "      <td>0</td>\n",
       "      <td>0</td>\n",
       "    </tr>\n",
       "  </tbody>\n",
       "</table>\n",
       "<p>5 rows × 12084 columns</p>\n",
       "</div>"
      ],
      "text/plain": [
       "   00  000  00001  026_007_plumb_repair  03  03am  04  054fd209  08  087  ...  \\\n",
       "0   0    0      0                     0   0     0   0         0   0    0  ...   \n",
       "1   0    0      0                     0   0     0   0         0   0    0  ...   \n",
       "2   0    0      0                     0   0     0   0         0   0    0  ...   \n",
       "3   0    0      0                     0   0     0   0         0   0    0  ...   \n",
       "4   0    0      0                     0   0     0   0         0   0    0  ...   \n",
       "\n",
       "   還是因為距離  還會陷入愛情嗎  那些懵懂而青澀的過往  那些沒有結果的感情  那個你本以為忘記的人  都成眷屬  都會實現  都會結果  \\\n",
       "0       0        0           0          0           0     0     0     0   \n",
       "1       0        0           0          0           0     0     0     0   \n",
       "2       0        0           0          0           0     0     0     0   \n",
       "3       0        0           0          0           0     0     0     0   \n",
       "4       0        0           0          0           0     0     0     0   \n",
       "\n",
       "   都有可能改變你的生活  餘生  \n",
       "0           0   0  \n",
       "1           0   0  \n",
       "2           0   0  \n",
       "3           0   0  \n",
       "4           0   0  \n",
       "\n",
       "[5 rows x 12084 columns]"
      ]
     },
     "execution_count": 330,
     "metadata": {},
     "output_type": "execute_result"
    }
   ],
   "source": [
    "X_train_cvec2 = pd.DataFrame(cvec2.fit_transform(X_train).A, columns=cvec2.get_feature_names_out())\n",
    "X_test_cvec2 = pd.DataFrame(cvec2.transform(X_test).A, columns=cvec2.get_feature_names_out())\n",
    "X_train_cvec2.head(5)"
   ]
  },
  {
   "cell_type": "code",
   "execution_count": 333,
   "id": "db393812-00d3-403c-83b0-9890d0bad9dd",
   "metadata": {},
   "outputs": [
    {
     "name": "stdout",
     "output_type": "stream",
     "text": [
      "(1857, 12084) (619, 12084)\n"
     ]
    }
   ],
   "source": [
    "# verifying column size match\n",
    "print(X_train_cvec2.shape, X_test_cvec2.shape)"
   ]
  },
  {
   "cell_type": "code",
   "execution_count": 97,
   "id": "2e5e3161-9b97-4f16-a5d3-1bc8115d0f5b",
   "metadata": {},
   "outputs": [
    {
     "data": {
      "text/plain": [
       "-289"
      ]
     },
     "execution_count": 97,
     "metadata": {},
     "output_type": "execute_result"
    }
   ],
   "source": [
    "X_train_cvec2.shape[1] - X_train_cvec.shape[1]"
   ]
  },
  {
   "cell_type": "markdown",
   "id": "59b09fd3-04ac-4a6f-91ee-1c737e839044",
   "metadata": {},
   "source": [
    "We have 289 less columns in our vectorized features without stop words compared to the default vectorization."
   ]
  },
  {
   "cell_type": "code",
   "execution_count": 334,
   "id": "0877e70b-3375-4610-8816-f1fcdaa91110",
   "metadata": {},
   "outputs": [],
   "source": [
    "cvec2_top_10 = X_train_cvec2.sum().sort_values(ascending=False)[:10]"
   ]
  },
  {
   "cell_type": "code",
   "execution_count": 335,
   "id": "b6875afe-389b-454e-96bf-909a45b01a94",
   "metadata": {},
   "outputs": [
    {
     "data": {
      "image/png": "[encoded data removed]",
      "text/plain": [
       "<Figure size 432x288 with 1 Axes>"
      ]
     },
     "metadata": {
      "needs_background": "light"
     },
     "output_type": "display_data"
    }
   ],
   "source": [
    "sns.barplot(y=list(cvec2_top_10.index), x=cvec2_top_10.values, orient='h', color='tab:blue')\n",
    "plt.title(\"Top 10 words without stopwords\")\n",
    "#plt.savefig('../images/top_10_cvec2');"
   ]
  },
  {
   "cell_type": "markdown",
   "id": "cda01328-b0a0-4f75-b92d-ed44099cc40d",
   "metadata": {},
   "source": [
    "Stop words have been cut down; however, the frequency of the top 10 words has significantly decreased. We also have a lot more adverbs. <br />\n",
    "Let's now tokenize our words (without stop words) using uni- and bigrams, and see what patterns emerge."
   ]
  },
  {
   "cell_type": "code",
   "execution_count": 336,
   "id": "997eb73b-e3d5-4367-b60b-f2a44da15263",
   "metadata": {},
   "outputs": [],
   "source": [
    "cvec3 = CountVectorizer(stop_words='english', ngram_range=(2, 2))"
   ]
  },
  {
   "cell_type": "code",
   "execution_count": 337,
   "id": "08ab2ede-b41f-448f-904f-a85900067023",
   "metadata": {},
   "outputs": [
    {
     "data": {
      "text/html": [
       "<div>\n",
       "<style scoped>\n",
       "    .dataframe tbody tr th:only-of-type {\n",
       "        vertical-align: middle;\n",
       "    }\n",
       "\n",
       "    .dataframe tbody tr th {\n",
       "        vertical-align: top;\n",
       "    }\n",
       "\n",
       "    .dataframe thead th {\n",
       "        text-align: right;\n",
       "    }\n",
       "</style>\n",
       "<table border=\"1\" class=\"dataframe\">\n",
       "  <thead>\n",
       "    <tr style=\"text-align: right;\">\n",
       "      <th></th>\n",
       "      <th>00 apy</th>\n",
       "      <th>00 didn</th>\n",
       "      <th>00 lowest</th>\n",
       "      <th>00 mashing</th>\n",
       "      <th>00 pair</th>\n",
       "      <th>000 100</th>\n",
       "      <th>000 11</th>\n",
       "      <th>000 calories</th>\n",
       "      <th>000 doubled</th>\n",
       "      <th>000 dual</th>\n",
       "      <th>...</th>\n",
       "      <th>還是因為距離 還是因為每個人各自的苦衷</th>\n",
       "      <th>還會陷入愛情嗎 即便再來一次</th>\n",
       "      <th>那些懵懂而青澀的過往 卻會是我們一生的珍藏</th>\n",
       "      <th>那些沒有結果的感情 結局不完美</th>\n",
       "      <th>那個你本以為忘記的人 就會像蜜蜂蟄了心</th>\n",
       "      <th>都成眷屬 人生有得失</th>\n",
       "      <th>都會實現 不是每一對戀人</th>\n",
       "      <th>都會結果 不是每一次心願</th>\n",
       "      <th>都有可能改變你的生活 主播</th>\n",
       "      <th>餘生 希望彼此都能把對方放下</th>\n",
       "    </tr>\n",
       "  </thead>\n",
       "  <tbody>\n",
       "    <tr>\n",
       "      <th>0</th>\n",
       "      <td>0</td>\n",
       "      <td>0</td>\n",
       "      <td>0</td>\n",
       "      <td>0</td>\n",
       "      <td>0</td>\n",
       "      <td>0</td>\n",
       "      <td>0</td>\n",
       "      <td>0</td>\n",
       "      <td>0</td>\n",
       "      <td>0</td>\n",
       "      <td>...</td>\n",
       "      <td>0</td>\n",
       "      <td>0</td>\n",
       "      <td>0</td>\n",
       "      <td>0</td>\n",
       "      <td>0</td>\n",
       "      <td>0</td>\n",
       "      <td>0</td>\n",
       "      <td>0</td>\n",
       "      <td>0</td>\n",
       "      <td>0</td>\n",
       "    </tr>\n",
       "    <tr>\n",
       "      <th>1</th>\n",
       "      <td>0</td>\n",
       "      <td>0</td>\n",
       "      <td>0</td>\n",
       "      <td>0</td>\n",
       "      <td>0</td>\n",
       "      <td>0</td>\n",
       "      <td>0</td>\n",
       "      <td>0</td>\n",
       "      <td>0</td>\n",
       "      <td>0</td>\n",
       "      <td>...</td>\n",
       "      <td>0</td>\n",
       "      <td>0</td>\n",
       "      <td>0</td>\n",
       "      <td>0</td>\n",
       "      <td>0</td>\n",
       "      <td>0</td>\n",
       "      <td>0</td>\n",
       "      <td>0</td>\n",
       "      <td>0</td>\n",
       "      <td>0</td>\n",
       "    </tr>\n",
       "    <tr>\n",
       "      <th>2</th>\n",
       "      <td>0</td>\n",
       "      <td>0</td>\n",
       "      <td>0</td>\n",
       "      <td>0</td>\n",
       "      <td>0</td>\n",
       "      <td>0</td>\n",
       "      <td>0</td>\n",
       "      <td>0</td>\n",
       "      <td>0</td>\n",
       "      <td>0</td>\n",
       "      <td>...</td>\n",
       "      <td>0</td>\n",
       "      <td>0</td>\n",
       "      <td>0</td>\n",
       "      <td>0</td>\n",
       "      <td>0</td>\n",
       "      <td>0</td>\n",
       "      <td>0</td>\n",
       "      <td>0</td>\n",
       "      <td>0</td>\n",
       "      <td>0</td>\n",
       "    </tr>\n",
       "    <tr>\n",
       "      <th>3</th>\n",
       "      <td>0</td>\n",
       "      <td>0</td>\n",
       "      <td>0</td>\n",
       "      <td>0</td>\n",
       "      <td>0</td>\n",
       "      <td>0</td>\n",
       "      <td>0</td>\n",
       "      <td>0</td>\n",
       "      <td>0</td>\n",
       "      <td>0</td>\n",
       "      <td>...</td>\n",
       "      <td>0</td>\n",
       "      <td>0</td>\n",
       "      <td>0</td>\n",
       "      <td>0</td>\n",
       "      <td>0</td>\n",
       "      <td>0</td>\n",
       "      <td>0</td>\n",
       "      <td>0</td>\n",
       "      <td>0</td>\n",
       "      <td>0</td>\n",
       "    </tr>\n",
       "    <tr>\n",
       "      <th>4</th>\n",
       "      <td>0</td>\n",
       "      <td>0</td>\n",
       "      <td>0</td>\n",
       "      <td>0</td>\n",
       "      <td>0</td>\n",
       "      <td>0</td>\n",
       "      <td>0</td>\n",
       "      <td>0</td>\n",
       "      <td>0</td>\n",
       "      <td>0</td>\n",
       "      <td>...</td>\n",
       "      <td>0</td>\n",
       "      <td>0</td>\n",
       "      <td>0</td>\n",
       "      <td>0</td>\n",
       "      <td>0</td>\n",
       "      <td>0</td>\n",
       "      <td>0</td>\n",
       "      <td>0</td>\n",
       "      <td>0</td>\n",
       "      <td>0</td>\n",
       "    </tr>\n",
       "  </tbody>\n",
       "</table>\n",
       "<p>5 rows × 65514 columns</p>\n",
       "</div>"
      ],
      "text/plain": [
       "   00 apy  00 didn  00 lowest  00 mashing  00 pair  000 100  000 11  \\\n",
       "0       0        0          0           0        0        0       0   \n",
       "1       0        0          0           0        0        0       0   \n",
       "2       0        0          0           0        0        0       0   \n",
       "3       0        0          0           0        0        0       0   \n",
       "4       0        0          0           0        0        0       0   \n",
       "\n",
       "   000 calories  000 doubled  000 dual  ...  還是因為距離 還是因為每個人各自的苦衷  \\\n",
       "0             0            0         0  ...                    0   \n",
       "1             0            0         0  ...                    0   \n",
       "2             0            0         0  ...                    0   \n",
       "3             0            0         0  ...                    0   \n",
       "4             0            0         0  ...                    0   \n",
       "\n",
       "   還會陷入愛情嗎 即便再來一次  那些懵懂而青澀的過往 卻會是我們一生的珍藏  那些沒有結果的感情 結局不完美  \\\n",
       "0               0                      0                0   \n",
       "1               0                      0                0   \n",
       "2               0                      0                0   \n",
       "3               0                      0                0   \n",
       "4               0                      0                0   \n",
       "\n",
       "   那個你本以為忘記的人 就會像蜜蜂蟄了心  都成眷屬 人生有得失  都會實現 不是每一對戀人  都會結果 不是每一次心願  都有可能改變你的生活 主播  \\\n",
       "0                    0           0             0             0              0   \n",
       "1                    0           0             0             0              0   \n",
       "2                    0           0             0             0              0   \n",
       "3                    0           0             0             0              0   \n",
       "4                    0           0             0             0              0   \n",
       "\n",
       "   餘生 希望彼此都能把對方放下  \n",
       "0               0  \n",
       "1               0  \n",
       "2               0  \n",
       "3               0  \n",
       "4               0  \n",
       "\n",
       "[5 rows x 65514 columns]"
      ]
     },
     "execution_count": 337,
     "metadata": {},
     "output_type": "execute_result"
    }
   ],
   "source": [
    "X_train_cvec3 = pd.DataFrame(cvec3.fit_transform(X_train).A, columns=cvec3.get_feature_names_out())\n",
    "X_test_cvec3 = pd.DataFrame(cvec3.transform(X_test).A, columns=cvec3.get_feature_names_out())\n",
    "X_train_cvec3.head(5)"
   ]
  },
  {
   "cell_type": "code",
   "execution_count": 338,
   "id": "cb6e6c36-c59e-49dc-a0a3-f66542d82de6",
   "metadata": {},
   "outputs": [
    {
     "name": "stdout",
     "output_type": "stream",
     "text": [
      "(1857, 65514) (619, 65514)\n"
     ]
    }
   ],
   "source": [
    "# verifying column size match\n",
    "print(X_train_cvec3.shape, X_test_cvec3.shape)"
   ]
  },
  {
   "cell_type": "code",
   "execution_count": 339,
   "id": "f622439a-cca3-4867-8470-34319fd3b163",
   "metadata": {},
   "outputs": [
    {
     "data": {
      "text/plain": [
       "53141"
      ]
     },
     "execution_count": 339,
     "metadata": {},
     "output_type": "execute_result"
    }
   ],
   "source": [
    "X_train_cvec3.shape[1] - X_train_cvec.shape[1]"
   ]
  },
  {
   "cell_type": "markdown",
   "id": "867d3c3f-a870-461a-b8c3-5d705a550ace",
   "metadata": {},
   "source": [
    "We have 53,141 more columns by tokenizing our words into uni- and bigrams compared to the default vectorization."
   ]
  },
  {
   "cell_type": "code",
   "execution_count": 340,
   "id": "fc5df0b8-de34-4d9d-bb00-fe51ce9fdd75",
   "metadata": {},
   "outputs": [],
   "source": [
    "cvec3_top_10 = X_train_cvec3.sum().sort_values(ascending=False)[:10]"
   ]
  },
  {
   "cell_type": "code",
   "execution_count": 342,
   "id": "0924e6d8-c985-4089-944c-f881acd47935",
   "metadata": {},
   "outputs": [
    {
     "data": {
      "image/png": "[encoded data removed]",
      "text/plain": [
       "<Figure size 432x288 with 1 Axes>"
      ]
     },
     "metadata": {
      "needs_background": "light"
     },
     "output_type": "display_data"
    }
   ],
   "source": [
    "sns.barplot(y=list(cvec3_top_10.index), x=cvec3_top_10.values, orient='h', color='tab:blue')\n",
    "plt.title(\"Top 10 bigrams\")\n",
    "#plt.savefig('../images/top_10_cvec3');"
   ]
  },
  {
   "cell_type": "markdown",
   "id": "4bc2e33c-3f92-4adc-a9b1-743ba0c8f604",
   "metadata": {},
   "source": [
    "A fair amount of bigrams appear to include the word \"don\" which seems to be a typo of the word \"don't\". Typos are noise that will likely decrease the performances of our models."
   ]
  },
  {
   "cell_type": "markdown",
   "id": "12be65ab-e795-423c-8192-69cfd754afe2",
   "metadata": {},
   "source": [
    "Let's capture words that fall more in between the minimum and maximum occurences. We will drop tokens that appear only once or that appear more than 5% when compared to other token frequencies."
   ]
  },
  {
   "cell_type": "code",
   "execution_count": 343,
   "id": "b4266594-6c64-4148-a127-dc9dce16665f",
   "metadata": {},
   "outputs": [],
   "source": [
    "cvec4 = CountVectorizer(stop_words='english', min_df=2, max_df=.05)"
   ]
  },
  {
   "cell_type": "code",
   "execution_count": 344,
   "id": "eca3137b-6fd4-4d3c-94d1-9515640af237",
   "metadata": {},
   "outputs": [
    {
     "data": {
      "text/html": [
       "<div>\n",
       "<style scoped>\n",
       "    .dataframe tbody tr th:only-of-type {\n",
       "        vertical-align: middle;\n",
       "    }\n",
       "\n",
       "    .dataframe tbody tr th {\n",
       "        vertical-align: top;\n",
       "    }\n",
       "\n",
       "    .dataframe thead th {\n",
       "        text-align: right;\n",
       "    }\n",
       "</style>\n",
       "<table border=\"1\" class=\"dataframe\">\n",
       "  <thead>\n",
       "    <tr style=\"text-align: right;\">\n",
       "      <th></th>\n",
       "      <th>00</th>\n",
       "      <th>000</th>\n",
       "      <th>03</th>\n",
       "      <th>04</th>\n",
       "      <th>09</th>\n",
       "      <th>10</th>\n",
       "      <th>100</th>\n",
       "      <th>1000</th>\n",
       "      <th>10mm</th>\n",
       "      <th>10pm</th>\n",
       "      <th>...</th>\n",
       "      <th>youtube</th>\n",
       "      <th>youtubers</th>\n",
       "      <th>yr</th>\n",
       "      <th>ysk</th>\n",
       "      <th>yt</th>\n",
       "      <th>zero</th>\n",
       "      <th>zip</th>\n",
       "      <th>zipper</th>\n",
       "      <th>zone</th>\n",
       "      <th>zoom</th>\n",
       "    </tr>\n",
       "  </thead>\n",
       "  <tbody>\n",
       "    <tr>\n",
       "      <th>0</th>\n",
       "      <td>0</td>\n",
       "      <td>0</td>\n",
       "      <td>0</td>\n",
       "      <td>0</td>\n",
       "      <td>0</td>\n",
       "      <td>0</td>\n",
       "      <td>0</td>\n",
       "      <td>0</td>\n",
       "      <td>0</td>\n",
       "      <td>0</td>\n",
       "      <td>...</td>\n",
       "      <td>0</td>\n",
       "      <td>0</td>\n",
       "      <td>0</td>\n",
       "      <td>0</td>\n",
       "      <td>0</td>\n",
       "      <td>0</td>\n",
       "      <td>0</td>\n",
       "      <td>0</td>\n",
       "      <td>0</td>\n",
       "      <td>0</td>\n",
       "    </tr>\n",
       "    <tr>\n",
       "      <th>1</th>\n",
       "      <td>0</td>\n",
       "      <td>0</td>\n",
       "      <td>0</td>\n",
       "      <td>0</td>\n",
       "      <td>0</td>\n",
       "      <td>0</td>\n",
       "      <td>0</td>\n",
       "      <td>0</td>\n",
       "      <td>0</td>\n",
       "      <td>0</td>\n",
       "      <td>...</td>\n",
       "      <td>0</td>\n",
       "      <td>0</td>\n",
       "      <td>0</td>\n",
       "      <td>0</td>\n",
       "      <td>0</td>\n",
       "      <td>0</td>\n",
       "      <td>0</td>\n",
       "      <td>0</td>\n",
       "      <td>0</td>\n",
       "      <td>0</td>\n",
       "    </tr>\n",
       "    <tr>\n",
       "      <th>2</th>\n",
       "      <td>0</td>\n",
       "      <td>0</td>\n",
       "      <td>0</td>\n",
       "      <td>0</td>\n",
       "      <td>0</td>\n",
       "      <td>0</td>\n",
       "      <td>0</td>\n",
       "      <td>0</td>\n",
       "      <td>0</td>\n",
       "      <td>0</td>\n",
       "      <td>...</td>\n",
       "      <td>0</td>\n",
       "      <td>0</td>\n",
       "      <td>0</td>\n",
       "      <td>0</td>\n",
       "      <td>0</td>\n",
       "      <td>1</td>\n",
       "      <td>0</td>\n",
       "      <td>0</td>\n",
       "      <td>0</td>\n",
       "      <td>0</td>\n",
       "    </tr>\n",
       "    <tr>\n",
       "      <th>3</th>\n",
       "      <td>0</td>\n",
       "      <td>0</td>\n",
       "      <td>0</td>\n",
       "      <td>0</td>\n",
       "      <td>0</td>\n",
       "      <td>0</td>\n",
       "      <td>0</td>\n",
       "      <td>0</td>\n",
       "      <td>0</td>\n",
       "      <td>0</td>\n",
       "      <td>...</td>\n",
       "      <td>0</td>\n",
       "      <td>0</td>\n",
       "      <td>0</td>\n",
       "      <td>0</td>\n",
       "      <td>0</td>\n",
       "      <td>0</td>\n",
       "      <td>0</td>\n",
       "      <td>0</td>\n",
       "      <td>0</td>\n",
       "      <td>0</td>\n",
       "    </tr>\n",
       "    <tr>\n",
       "      <th>4</th>\n",
       "      <td>0</td>\n",
       "      <td>0</td>\n",
       "      <td>0</td>\n",
       "      <td>0</td>\n",
       "      <td>0</td>\n",
       "      <td>0</td>\n",
       "      <td>0</td>\n",
       "      <td>0</td>\n",
       "      <td>0</td>\n",
       "      <td>0</td>\n",
       "      <td>...</td>\n",
       "      <td>0</td>\n",
       "      <td>0</td>\n",
       "      <td>0</td>\n",
       "      <td>0</td>\n",
       "      <td>0</td>\n",
       "      <td>0</td>\n",
       "      <td>0</td>\n",
       "      <td>0</td>\n",
       "      <td>0</td>\n",
       "      <td>0</td>\n",
       "    </tr>\n",
       "  </tbody>\n",
       "</table>\n",
       "<p>5 rows × 5695 columns</p>\n",
       "</div>"
      ],
      "text/plain": [
       "   00  000  03  04  09  10  100  1000  10mm  10pm  ...  youtube  youtubers  \\\n",
       "0   0    0   0   0   0   0    0     0     0     0  ...        0          0   \n",
       "1   0    0   0   0   0   0    0     0     0     0  ...        0          0   \n",
       "2   0    0   0   0   0   0    0     0     0     0  ...        0          0   \n",
       "3   0    0   0   0   0   0    0     0     0     0  ...        0          0   \n",
       "4   0    0   0   0   0   0    0     0     0     0  ...        0          0   \n",
       "\n",
       "   yr  ysk  yt  zero  zip  zipper  zone  zoom  \n",
       "0   0    0   0     0    0       0     0     0  \n",
       "1   0    0   0     0    0       0     0     0  \n",
       "2   0    0   0     1    0       0     0     0  \n",
       "3   0    0   0     0    0       0     0     0  \n",
       "4   0    0   0     0    0       0     0     0  \n",
       "\n",
       "[5 rows x 5695 columns]"
      ]
     },
     "execution_count": 344,
     "metadata": {},
     "output_type": "execute_result"
    }
   ],
   "source": [
    "X_train_cvec4 = pd.DataFrame(cvec4.fit_transform(X_train).A, columns=cvec4.get_feature_names_out())\n",
    "X_test_cvec4 = pd.DataFrame(cvec4.transform(X_test).A, columns=cvec4.get_feature_names_out())\n",
    "X_train_cvec4.head(5)"
   ]
  },
  {
   "cell_type": "code",
   "execution_count": 345,
   "id": "9b7eacfe-c3d6-42ae-826b-a6566b801a11",
   "metadata": {},
   "outputs": [
    {
     "name": "stdout",
     "output_type": "stream",
     "text": [
      "(1857, 65514) (619, 65514)\n"
     ]
    }
   ],
   "source": [
    "# verifying column size match\n",
    "print(X_train_cvec3.shape, X_test_cvec3.shape)"
   ]
  },
  {
   "cell_type": "code",
   "execution_count": 346,
   "id": "c9923f44-202c-4436-9adc-949127df326b",
   "metadata": {},
   "outputs": [
    {
     "data": {
      "text/plain": [
       "-6678"
      ]
     },
     "execution_count": 346,
     "metadata": {},
     "output_type": "execute_result"
    }
   ],
   "source": [
    "X_train_cvec4.shape[1] - X_train_cvec.shape[1]"
   ]
  },
  {
   "cell_type": "markdown",
   "id": "a0e950a3-6160-4c17-903e-03822ceb278a",
   "metadata": {},
   "source": [
    "We have 6678 less columns here when compared to the default vectorization."
   ]
  },
  {
   "cell_type": "code",
   "execution_count": 347,
   "id": "da985857-55d0-4806-8411-f219f121ed00",
   "metadata": {},
   "outputs": [],
   "source": [
    "cvec4_top_10 = X_train_cvec4.sum().sort_values(ascending=False)[:10]"
   ]
  },
  {
   "cell_type": "code",
   "execution_count": 349,
   "id": "677566d9-9512-4b07-9190-5ff02e4625ab",
   "metadata": {},
   "outputs": [
    {
     "data": {
      "image/png": "[encoded data removed]",
      "text/plain": [
       "<Figure size 432x288 with 1 Axes>"
      ]
     },
     "metadata": {
      "needs_background": "light"
     },
     "output_type": "display_data"
    }
   ],
   "source": [
    "sns.barplot(y=list(cvec4_top_10.index), x=cvec4_top_10.values, orient='h', color='tab:blue')\n",
    "plt.title(\"Top 10 centermost words\")\n",
    "#plt.savefig('../images/top_10_cvec4');"
   ]
  },
  {
   "cell_type": "markdown",
   "id": "00ec41cf-9f75-4165-aec7-7690e824ffab",
   "metadata": {},
   "source": [
    "----"
   ]
  },
  {
   "cell_type": "markdown",
   "id": "0baaad5d-3f58-4acf-9d2e-0c2370f465f6",
   "metadata": {},
   "source": [
    "Let's now explore more obscure words using the term frequency inverse document frequency."
   ]
  },
  {
   "cell_type": "code",
   "execution_count": 350,
   "id": "75a5f74b-c074-4527-bbda-5161f13c05a5",
   "metadata": {
    "tags": []
   },
   "outputs": [],
   "source": [
    "tf = TfidfVectorizer()"
   ]
  },
  {
   "cell_type": "code",
   "execution_count": 351,
   "id": "fcfcb2b8-def1-468f-8931-161ad58d2f34",
   "metadata": {},
   "outputs": [
    {
     "data": {
      "text/html": [
       "<div>\n",
       "<style scoped>\n",
       "    .dataframe tbody tr th:only-of-type {\n",
       "        vertical-align: middle;\n",
       "    }\n",
       "\n",
       "    .dataframe tbody tr th {\n",
       "        vertical-align: top;\n",
       "    }\n",
       "\n",
       "    .dataframe thead th {\n",
       "        text-align: right;\n",
       "    }\n",
       "</style>\n",
       "<table border=\"1\" class=\"dataframe\">\n",
       "  <thead>\n",
       "    <tr style=\"text-align: right;\">\n",
       "      <th></th>\n",
       "      <th>00</th>\n",
       "      <th>000</th>\n",
       "      <th>00001</th>\n",
       "      <th>026_007_plumb_repair</th>\n",
       "      <th>03</th>\n",
       "      <th>03am</th>\n",
       "      <th>04</th>\n",
       "      <th>054fd209</th>\n",
       "      <th>08</th>\n",
       "      <th>087</th>\n",
       "      <th>...</th>\n",
       "      <th>還是因為距離</th>\n",
       "      <th>還會陷入愛情嗎</th>\n",
       "      <th>那些懵懂而青澀的過往</th>\n",
       "      <th>那些沒有結果的感情</th>\n",
       "      <th>那個你本以為忘記的人</th>\n",
       "      <th>都成眷屬</th>\n",
       "      <th>都會實現</th>\n",
       "      <th>都會結果</th>\n",
       "      <th>都有可能改變你的生活</th>\n",
       "      <th>餘生</th>\n",
       "    </tr>\n",
       "  </thead>\n",
       "  <tbody>\n",
       "    <tr>\n",
       "      <th>0</th>\n",
       "      <td>0.0</td>\n",
       "      <td>0.0</td>\n",
       "      <td>0.0</td>\n",
       "      <td>0.0</td>\n",
       "      <td>0.0</td>\n",
       "      <td>0.0</td>\n",
       "      <td>0.0</td>\n",
       "      <td>0.0</td>\n",
       "      <td>0.0</td>\n",
       "      <td>0.0</td>\n",
       "      <td>...</td>\n",
       "      <td>0.0</td>\n",
       "      <td>0.0</td>\n",
       "      <td>0.0</td>\n",
       "      <td>0.0</td>\n",
       "      <td>0.0</td>\n",
       "      <td>0.0</td>\n",
       "      <td>0.0</td>\n",
       "      <td>0.0</td>\n",
       "      <td>0.0</td>\n",
       "      <td>0.0</td>\n",
       "    </tr>\n",
       "    <tr>\n",
       "      <th>1</th>\n",
       "      <td>0.0</td>\n",
       "      <td>0.0</td>\n",
       "      <td>0.0</td>\n",
       "      <td>0.0</td>\n",
       "      <td>0.0</td>\n",
       "      <td>0.0</td>\n",
       "      <td>0.0</td>\n",
       "      <td>0.0</td>\n",
       "      <td>0.0</td>\n",
       "      <td>0.0</td>\n",
       "      <td>...</td>\n",
       "      <td>0.0</td>\n",
       "      <td>0.0</td>\n",
       "      <td>0.0</td>\n",
       "      <td>0.0</td>\n",
       "      <td>0.0</td>\n",
       "      <td>0.0</td>\n",
       "      <td>0.0</td>\n",
       "      <td>0.0</td>\n",
       "      <td>0.0</td>\n",
       "      <td>0.0</td>\n",
       "    </tr>\n",
       "    <tr>\n",
       "      <th>2</th>\n",
       "      <td>0.0</td>\n",
       "      <td>0.0</td>\n",
       "      <td>0.0</td>\n",
       "      <td>0.0</td>\n",
       "      <td>0.0</td>\n",
       "      <td>0.0</td>\n",
       "      <td>0.0</td>\n",
       "      <td>0.0</td>\n",
       "      <td>0.0</td>\n",
       "      <td>0.0</td>\n",
       "      <td>...</td>\n",
       "      <td>0.0</td>\n",
       "      <td>0.0</td>\n",
       "      <td>0.0</td>\n",
       "      <td>0.0</td>\n",
       "      <td>0.0</td>\n",
       "      <td>0.0</td>\n",
       "      <td>0.0</td>\n",
       "      <td>0.0</td>\n",
       "      <td>0.0</td>\n",
       "      <td>0.0</td>\n",
       "    </tr>\n",
       "    <tr>\n",
       "      <th>3</th>\n",
       "      <td>0.0</td>\n",
       "      <td>0.0</td>\n",
       "      <td>0.0</td>\n",
       "      <td>0.0</td>\n",
       "      <td>0.0</td>\n",
       "      <td>0.0</td>\n",
       "      <td>0.0</td>\n",
       "      <td>0.0</td>\n",
       "      <td>0.0</td>\n",
       "      <td>0.0</td>\n",
       "      <td>...</td>\n",
       "      <td>0.0</td>\n",
       "      <td>0.0</td>\n",
       "      <td>0.0</td>\n",
       "      <td>0.0</td>\n",
       "      <td>0.0</td>\n",
       "      <td>0.0</td>\n",
       "      <td>0.0</td>\n",
       "      <td>0.0</td>\n",
       "      <td>0.0</td>\n",
       "      <td>0.0</td>\n",
       "    </tr>\n",
       "    <tr>\n",
       "      <th>4</th>\n",
       "      <td>0.0</td>\n",
       "      <td>0.0</td>\n",
       "      <td>0.0</td>\n",
       "      <td>0.0</td>\n",
       "      <td>0.0</td>\n",
       "      <td>0.0</td>\n",
       "      <td>0.0</td>\n",
       "      <td>0.0</td>\n",
       "      <td>0.0</td>\n",
       "      <td>0.0</td>\n",
       "      <td>...</td>\n",
       "      <td>0.0</td>\n",
       "      <td>0.0</td>\n",
       "      <td>0.0</td>\n",
       "      <td>0.0</td>\n",
       "      <td>0.0</td>\n",
       "      <td>0.0</td>\n",
       "      <td>0.0</td>\n",
       "      <td>0.0</td>\n",
       "      <td>0.0</td>\n",
       "      <td>0.0</td>\n",
       "    </tr>\n",
       "  </tbody>\n",
       "</table>\n",
       "<p>5 rows × 12373 columns</p>\n",
       "</div>"
      ],
      "text/plain": [
       "    00  000  00001  026_007_plumb_repair   03  03am   04  054fd209   08  087  \\\n",
       "0  0.0  0.0    0.0                   0.0  0.0   0.0  0.0       0.0  0.0  0.0   \n",
       "1  0.0  0.0    0.0                   0.0  0.0   0.0  0.0       0.0  0.0  0.0   \n",
       "2  0.0  0.0    0.0                   0.0  0.0   0.0  0.0       0.0  0.0  0.0   \n",
       "3  0.0  0.0    0.0                   0.0  0.0   0.0  0.0       0.0  0.0  0.0   \n",
       "4  0.0  0.0    0.0                   0.0  0.0   0.0  0.0       0.0  0.0  0.0   \n",
       "\n",
       "   ...  還是因為距離  還會陷入愛情嗎  那些懵懂而青澀的過往  那些沒有結果的感情  那個你本以為忘記的人  都成眷屬  都會實現  都會結果  \\\n",
       "0  ...     0.0      0.0         0.0        0.0         0.0   0.0   0.0   0.0   \n",
       "1  ...     0.0      0.0         0.0        0.0         0.0   0.0   0.0   0.0   \n",
       "2  ...     0.0      0.0         0.0        0.0         0.0   0.0   0.0   0.0   \n",
       "3  ...     0.0      0.0         0.0        0.0         0.0   0.0   0.0   0.0   \n",
       "4  ...     0.0      0.0         0.0        0.0         0.0   0.0   0.0   0.0   \n",
       "\n",
       "   都有可能改變你的生活   餘生  \n",
       "0         0.0  0.0  \n",
       "1         0.0  0.0  \n",
       "2         0.0  0.0  \n",
       "3         0.0  0.0  \n",
       "4         0.0  0.0  \n",
       "\n",
       "[5 rows x 12373 columns]"
      ]
     },
     "execution_count": 351,
     "metadata": {},
     "output_type": "execute_result"
    }
   ],
   "source": [
    "X_train_tf = pd.DataFrame(tf.fit_transform(X_train).A, columns=tf.get_feature_names_out())\n",
    "X_test_tf = pd.DataFrame(tf.transform(X_test).A, columns=tf.get_feature_names_out())\n",
    "X_train_tf.head(5)"
   ]
  },
  {
   "cell_type": "code",
   "execution_count": 352,
   "id": "8d5ad382-70c6-41c8-8760-ae8e2e619f06",
   "metadata": {},
   "outputs": [
    {
     "name": "stdout",
     "output_type": "stream",
     "text": [
      "(1857, 12373) (619, 12373)\n"
     ]
    }
   ],
   "source": [
    "# verifying column size match\n",
    "print(X_train_tf.shape, X_test_tf.shape)"
   ]
  },
  {
   "cell_type": "code",
   "execution_count": 353,
   "id": "75caf8cf-3d5a-4779-af41-6b0464094394",
   "metadata": {},
   "outputs": [
    {
     "data": {
      "text/plain": [
       "0"
      ]
     },
     "execution_count": 353,
     "metadata": {},
     "output_type": "execute_result"
    }
   ],
   "source": [
    "X_train_tf.shape[1] - X_train_cvec.shape[1]"
   ]
  },
  {
   "cell_type": "markdown",
   "id": "aaea566b-0106-463c-b522-95f8b3c201c0",
   "metadata": {},
   "source": [
    "No difference in columns size when compared to the default vectorization."
   ]
  },
  {
   "cell_type": "code",
   "execution_count": 354,
   "id": "b69cd0ee-5c9d-49fe-b08d-aba416a142fc",
   "metadata": {},
   "outputs": [],
   "source": [
    "tf_top_10 = X_train_tf.sum().sort_values(ascending=False)[:10]"
   ]
  },
  {
   "cell_type": "code",
   "execution_count": 364,
   "id": "ac24c64b-4b6a-4c71-91b5-b9034132ce90",
   "metadata": {},
   "outputs": [
    {
     "data": {
      "image/png": "[encoded data removed]",
      "text/plain": [
       "<Figure size 432x288 with 1 Axes>"
      ]
     },
     "metadata": {
      "needs_background": "light"
     },
     "output_type": "display_data"
    }
   ],
   "source": [
    "sns.barplot(y=list(tf_top_10.index), x=tf_top_10.values, orient='h', color='tab:blue')\n",
    "plt.title(\"Top 10 tokens produced by TF-IDF\")\n",
    "#plt.savefig('../images/top_10_tf');"
   ]
  },
  {
   "cell_type": "markdown",
   "id": "d802ba89-9a82-47a5-adf8-a1ebcc757a3d",
   "metadata": {},
   "source": [
    "Let's remove stop words in our TF-IDF tokenization."
   ]
  },
  {
   "cell_type": "code",
   "execution_count": 357,
   "id": "46f213d2-f3dd-4fc3-88b2-de45d42f9551",
   "metadata": {
    "tags": []
   },
   "outputs": [],
   "source": [
    "tf2 = TfidfVectorizer(stop_words='english')"
   ]
  },
  {
   "cell_type": "code",
   "execution_count": 358,
   "id": "fb0c04fc-db8c-4f5c-9d8d-085c0a482c50",
   "metadata": {},
   "outputs": [
    {
     "data": {
      "text/html": [
       "<div>\n",
       "<style scoped>\n",
       "    .dataframe tbody tr th:only-of-type {\n",
       "        vertical-align: middle;\n",
       "    }\n",
       "\n",
       "    .dataframe tbody tr th {\n",
       "        vertical-align: top;\n",
       "    }\n",
       "\n",
       "    .dataframe thead th {\n",
       "        text-align: right;\n",
       "    }\n",
       "</style>\n",
       "<table border=\"1\" class=\"dataframe\">\n",
       "  <thead>\n",
       "    <tr style=\"text-align: right;\">\n",
       "      <th></th>\n",
       "      <th>00</th>\n",
       "      <th>000</th>\n",
       "      <th>00001</th>\n",
       "      <th>026_007_plumb_repair</th>\n",
       "      <th>03</th>\n",
       "      <th>03am</th>\n",
       "      <th>04</th>\n",
       "      <th>054fd209</th>\n",
       "      <th>08</th>\n",
       "      <th>087</th>\n",
       "      <th>...</th>\n",
       "      <th>還是因為距離</th>\n",
       "      <th>還會陷入愛情嗎</th>\n",
       "      <th>那些懵懂而青澀的過往</th>\n",
       "      <th>那些沒有結果的感情</th>\n",
       "      <th>那個你本以為忘記的人</th>\n",
       "      <th>都成眷屬</th>\n",
       "      <th>都會實現</th>\n",
       "      <th>都會結果</th>\n",
       "      <th>都有可能改變你的生活</th>\n",
       "      <th>餘生</th>\n",
       "    </tr>\n",
       "  </thead>\n",
       "  <tbody>\n",
       "    <tr>\n",
       "      <th>0</th>\n",
       "      <td>0.0</td>\n",
       "      <td>0.0</td>\n",
       "      <td>0.0</td>\n",
       "      <td>0.0</td>\n",
       "      <td>0.0</td>\n",
       "      <td>0.0</td>\n",
       "      <td>0.0</td>\n",
       "      <td>0.0</td>\n",
       "      <td>0.0</td>\n",
       "      <td>0.0</td>\n",
       "      <td>...</td>\n",
       "      <td>0.0</td>\n",
       "      <td>0.0</td>\n",
       "      <td>0.0</td>\n",
       "      <td>0.0</td>\n",
       "      <td>0.0</td>\n",
       "      <td>0.0</td>\n",
       "      <td>0.0</td>\n",
       "      <td>0.0</td>\n",
       "      <td>0.0</td>\n",
       "      <td>0.0</td>\n",
       "    </tr>\n",
       "    <tr>\n",
       "      <th>1</th>\n",
       "      <td>0.0</td>\n",
       "      <td>0.0</td>\n",
       "      <td>0.0</td>\n",
       "      <td>0.0</td>\n",
       "      <td>0.0</td>\n",
       "      <td>0.0</td>\n",
       "      <td>0.0</td>\n",
       "      <td>0.0</td>\n",
       "      <td>0.0</td>\n",
       "      <td>0.0</td>\n",
       "      <td>...</td>\n",
       "      <td>0.0</td>\n",
       "      <td>0.0</td>\n",
       "      <td>0.0</td>\n",
       "      <td>0.0</td>\n",
       "      <td>0.0</td>\n",
       "      <td>0.0</td>\n",
       "      <td>0.0</td>\n",
       "      <td>0.0</td>\n",
       "      <td>0.0</td>\n",
       "      <td>0.0</td>\n",
       "    </tr>\n",
       "    <tr>\n",
       "      <th>2</th>\n",
       "      <td>0.0</td>\n",
       "      <td>0.0</td>\n",
       "      <td>0.0</td>\n",
       "      <td>0.0</td>\n",
       "      <td>0.0</td>\n",
       "      <td>0.0</td>\n",
       "      <td>0.0</td>\n",
       "      <td>0.0</td>\n",
       "      <td>0.0</td>\n",
       "      <td>0.0</td>\n",
       "      <td>...</td>\n",
       "      <td>0.0</td>\n",
       "      <td>0.0</td>\n",
       "      <td>0.0</td>\n",
       "      <td>0.0</td>\n",
       "      <td>0.0</td>\n",
       "      <td>0.0</td>\n",
       "      <td>0.0</td>\n",
       "      <td>0.0</td>\n",
       "      <td>0.0</td>\n",
       "      <td>0.0</td>\n",
       "    </tr>\n",
       "    <tr>\n",
       "      <th>3</th>\n",
       "      <td>0.0</td>\n",
       "      <td>0.0</td>\n",
       "      <td>0.0</td>\n",
       "      <td>0.0</td>\n",
       "      <td>0.0</td>\n",
       "      <td>0.0</td>\n",
       "      <td>0.0</td>\n",
       "      <td>0.0</td>\n",
       "      <td>0.0</td>\n",
       "      <td>0.0</td>\n",
       "      <td>...</td>\n",
       "      <td>0.0</td>\n",
       "      <td>0.0</td>\n",
       "      <td>0.0</td>\n",
       "      <td>0.0</td>\n",
       "      <td>0.0</td>\n",
       "      <td>0.0</td>\n",
       "      <td>0.0</td>\n",
       "      <td>0.0</td>\n",
       "      <td>0.0</td>\n",
       "      <td>0.0</td>\n",
       "    </tr>\n",
       "    <tr>\n",
       "      <th>4</th>\n",
       "      <td>0.0</td>\n",
       "      <td>0.0</td>\n",
       "      <td>0.0</td>\n",
       "      <td>0.0</td>\n",
       "      <td>0.0</td>\n",
       "      <td>0.0</td>\n",
       "      <td>0.0</td>\n",
       "      <td>0.0</td>\n",
       "      <td>0.0</td>\n",
       "      <td>0.0</td>\n",
       "      <td>...</td>\n",
       "      <td>0.0</td>\n",
       "      <td>0.0</td>\n",
       "      <td>0.0</td>\n",
       "      <td>0.0</td>\n",
       "      <td>0.0</td>\n",
       "      <td>0.0</td>\n",
       "      <td>0.0</td>\n",
       "      <td>0.0</td>\n",
       "      <td>0.0</td>\n",
       "      <td>0.0</td>\n",
       "    </tr>\n",
       "  </tbody>\n",
       "</table>\n",
       "<p>5 rows × 12084 columns</p>\n",
       "</div>"
      ],
      "text/plain": [
       "    00  000  00001  026_007_plumb_repair   03  03am   04  054fd209   08  087  \\\n",
       "0  0.0  0.0    0.0                   0.0  0.0   0.0  0.0       0.0  0.0  0.0   \n",
       "1  0.0  0.0    0.0                   0.0  0.0   0.0  0.0       0.0  0.0  0.0   \n",
       "2  0.0  0.0    0.0                   0.0  0.0   0.0  0.0       0.0  0.0  0.0   \n",
       "3  0.0  0.0    0.0                   0.0  0.0   0.0  0.0       0.0  0.0  0.0   \n",
       "4  0.0  0.0    0.0                   0.0  0.0   0.0  0.0       0.0  0.0  0.0   \n",
       "\n",
       "   ...  還是因為距離  還會陷入愛情嗎  那些懵懂而青澀的過往  那些沒有結果的感情  那個你本以為忘記的人  都成眷屬  都會實現  都會結果  \\\n",
       "0  ...     0.0      0.0         0.0        0.0         0.0   0.0   0.0   0.0   \n",
       "1  ...     0.0      0.0         0.0        0.0         0.0   0.0   0.0   0.0   \n",
       "2  ...     0.0      0.0         0.0        0.0         0.0   0.0   0.0   0.0   \n",
       "3  ...     0.0      0.0         0.0        0.0         0.0   0.0   0.0   0.0   \n",
       "4  ...     0.0      0.0         0.0        0.0         0.0   0.0   0.0   0.0   \n",
       "\n",
       "   都有可能改變你的生活   餘生  \n",
       "0         0.0  0.0  \n",
       "1         0.0  0.0  \n",
       "2         0.0  0.0  \n",
       "3         0.0  0.0  \n",
       "4         0.0  0.0  \n",
       "\n",
       "[5 rows x 12084 columns]"
      ]
     },
     "execution_count": 358,
     "metadata": {},
     "output_type": "execute_result"
    }
   ],
   "source": [
    "X_train_tf2 = pd.DataFrame(tf2.fit_transform(X_train).A, columns=tf2.get_feature_names_out())\n",
    "X_test_tf2 = pd.DataFrame(tf2.transform(X_test).A, columns=tf2.get_feature_names_out())\n",
    "X_train_tf2.head(5)"
   ]
  },
  {
   "cell_type": "code",
   "execution_count": 359,
   "id": "87be75f7-6457-40d3-a488-9100927c90f5",
   "metadata": {},
   "outputs": [
    {
     "name": "stdout",
     "output_type": "stream",
     "text": [
      "(1857, 12084) (619, 12084)\n"
     ]
    }
   ],
   "source": [
    "# verifying column size match\n",
    "print(X_train_tf2.shape, X_test_tf2.shape)"
   ]
  },
  {
   "cell_type": "code",
   "execution_count": 360,
   "id": "ac850118-fa00-405e-b536-36dff389ff57",
   "metadata": {},
   "outputs": [
    {
     "data": {
      "text/plain": [
       "-289"
      ]
     },
     "execution_count": 360,
     "metadata": {},
     "output_type": "execute_result"
    }
   ],
   "source": [
    "X_train_tf2.shape[1] - X_train_cvec.shape[1]"
   ]
  },
  {
   "cell_type": "markdown",
   "id": "8aeeedf4-9dbf-42a1-a0f5-07513c9b81d2",
   "metadata": {},
   "source": [
    "We have 289 less columns here when compared to the default vectorization."
   ]
  },
  {
   "cell_type": "code",
   "execution_count": 362,
   "id": "4a886dc2-641e-45fa-a729-136690b40d6f",
   "metadata": {},
   "outputs": [],
   "source": [
    "tf2_top_10 = X_train_tf2.sum().sort_values(ascending=False)[:10]"
   ]
  },
  {
   "cell_type": "code",
   "execution_count": 372,
   "id": "5b9a7c5d-a913-4173-bf41-e0dc70861d6c",
   "metadata": {},
   "outputs": [
    {
     "data": {
      "image/png": "[encoded data removed]",
      "text/plain": [
       "<Figure size 432x288 with 1 Axes>"
      ]
     },
     "metadata": {
      "needs_background": "light"
     },
     "output_type": "display_data"
    }
   ],
   "source": [
    "sns.barplot(y=list(tf2_top_10.index), x=tf2_top_10.values, orient='h', color='tab:blue')\n",
    "plt.title(\"Top 10 tokens produced by TF-IDF without stop words\");\n",
    "#plt.savefig('../images/top_10_tf2');"
   ]
  },
  {
   "cell_type": "markdown",
   "id": "9f9200e4-2996-4b1b-9279-8a3458fc5705",
   "metadata": {},
   "source": [
    "Let's capture words that fall more in between the minimum and maximum occurences. We will drop tokens that appear only once or that appear more than 5% when compared to other token frequencies."
   ]
  },
  {
   "cell_type": "code",
   "execution_count": 366,
   "id": "d8195e45-a4a8-4971-8c22-5c83b5b57acb",
   "metadata": {
    "tags": []
   },
   "outputs": [],
   "source": [
    "tf3 = TfidfVectorizer(min_df=2, max_df=.05)"
   ]
  },
  {
   "cell_type": "code",
   "execution_count": 367,
   "id": "59592b6e-561e-44d6-8300-cda496ff875d",
   "metadata": {},
   "outputs": [
    {
     "data": {
      "text/html": [
       "<div>\n",
       "<style scoped>\n",
       "    .dataframe tbody tr th:only-of-type {\n",
       "        vertical-align: middle;\n",
       "    }\n",
       "\n",
       "    .dataframe tbody tr th {\n",
       "        vertical-align: top;\n",
       "    }\n",
       "\n",
       "    .dataframe thead th {\n",
       "        text-align: right;\n",
       "    }\n",
       "</style>\n",
       "<table border=\"1\" class=\"dataframe\">\n",
       "  <thead>\n",
       "    <tr style=\"text-align: right;\">\n",
       "      <th></th>\n",
       "      <th>00</th>\n",
       "      <th>000</th>\n",
       "      <th>03</th>\n",
       "      <th>04</th>\n",
       "      <th>09</th>\n",
       "      <th>10</th>\n",
       "      <th>100</th>\n",
       "      <th>1000</th>\n",
       "      <th>10mm</th>\n",
       "      <th>10pm</th>\n",
       "      <th>...</th>\n",
       "      <th>youtube</th>\n",
       "      <th>youtubers</th>\n",
       "      <th>yr</th>\n",
       "      <th>ysk</th>\n",
       "      <th>yt</th>\n",
       "      <th>zero</th>\n",
       "      <th>zip</th>\n",
       "      <th>zipper</th>\n",
       "      <th>zone</th>\n",
       "      <th>zoom</th>\n",
       "    </tr>\n",
       "  </thead>\n",
       "  <tbody>\n",
       "    <tr>\n",
       "      <th>0</th>\n",
       "      <td>0.0</td>\n",
       "      <td>0.0</td>\n",
       "      <td>0.0</td>\n",
       "      <td>0.0</td>\n",
       "      <td>0.0</td>\n",
       "      <td>0.0</td>\n",
       "      <td>0.0</td>\n",
       "      <td>0.0</td>\n",
       "      <td>0.0</td>\n",
       "      <td>0.0</td>\n",
       "      <td>...</td>\n",
       "      <td>0.0</td>\n",
       "      <td>0.0</td>\n",
       "      <td>0.0</td>\n",
       "      <td>0.0</td>\n",
       "      <td>0.0</td>\n",
       "      <td>0.000000</td>\n",
       "      <td>0.0</td>\n",
       "      <td>0.0</td>\n",
       "      <td>0.0</td>\n",
       "      <td>0.0</td>\n",
       "    </tr>\n",
       "    <tr>\n",
       "      <th>1</th>\n",
       "      <td>0.0</td>\n",
       "      <td>0.0</td>\n",
       "      <td>0.0</td>\n",
       "      <td>0.0</td>\n",
       "      <td>0.0</td>\n",
       "      <td>0.0</td>\n",
       "      <td>0.0</td>\n",
       "      <td>0.0</td>\n",
       "      <td>0.0</td>\n",
       "      <td>0.0</td>\n",
       "      <td>...</td>\n",
       "      <td>0.0</td>\n",
       "      <td>0.0</td>\n",
       "      <td>0.0</td>\n",
       "      <td>0.0</td>\n",
       "      <td>0.0</td>\n",
       "      <td>0.000000</td>\n",
       "      <td>0.0</td>\n",
       "      <td>0.0</td>\n",
       "      <td>0.0</td>\n",
       "      <td>0.0</td>\n",
       "    </tr>\n",
       "    <tr>\n",
       "      <th>2</th>\n",
       "      <td>0.0</td>\n",
       "      <td>0.0</td>\n",
       "      <td>0.0</td>\n",
       "      <td>0.0</td>\n",
       "      <td>0.0</td>\n",
       "      <td>0.0</td>\n",
       "      <td>0.0</td>\n",
       "      <td>0.0</td>\n",
       "      <td>0.0</td>\n",
       "      <td>0.0</td>\n",
       "      <td>...</td>\n",
       "      <td>0.0</td>\n",
       "      <td>0.0</td>\n",
       "      <td>0.0</td>\n",
       "      <td>0.0</td>\n",
       "      <td>0.0</td>\n",
       "      <td>0.018179</td>\n",
       "      <td>0.0</td>\n",
       "      <td>0.0</td>\n",
       "      <td>0.0</td>\n",
       "      <td>0.0</td>\n",
       "    </tr>\n",
       "    <tr>\n",
       "      <th>3</th>\n",
       "      <td>0.0</td>\n",
       "      <td>0.0</td>\n",
       "      <td>0.0</td>\n",
       "      <td>0.0</td>\n",
       "      <td>0.0</td>\n",
       "      <td>0.0</td>\n",
       "      <td>0.0</td>\n",
       "      <td>0.0</td>\n",
       "      <td>0.0</td>\n",
       "      <td>0.0</td>\n",
       "      <td>...</td>\n",
       "      <td>0.0</td>\n",
       "      <td>0.0</td>\n",
       "      <td>0.0</td>\n",
       "      <td>0.0</td>\n",
       "      <td>0.0</td>\n",
       "      <td>0.000000</td>\n",
       "      <td>0.0</td>\n",
       "      <td>0.0</td>\n",
       "      <td>0.0</td>\n",
       "      <td>0.0</td>\n",
       "    </tr>\n",
       "    <tr>\n",
       "      <th>4</th>\n",
       "      <td>0.0</td>\n",
       "      <td>0.0</td>\n",
       "      <td>0.0</td>\n",
       "      <td>0.0</td>\n",
       "      <td>0.0</td>\n",
       "      <td>0.0</td>\n",
       "      <td>0.0</td>\n",
       "      <td>0.0</td>\n",
       "      <td>0.0</td>\n",
       "      <td>0.0</td>\n",
       "      <td>...</td>\n",
       "      <td>0.0</td>\n",
       "      <td>0.0</td>\n",
       "      <td>0.0</td>\n",
       "      <td>0.0</td>\n",
       "      <td>0.0</td>\n",
       "      <td>0.000000</td>\n",
       "      <td>0.0</td>\n",
       "      <td>0.0</td>\n",
       "      <td>0.0</td>\n",
       "      <td>0.0</td>\n",
       "    </tr>\n",
       "  </tbody>\n",
       "</table>\n",
       "<p>5 rows × 5849 columns</p>\n",
       "</div>"
      ],
      "text/plain": [
       "    00  000   03   04   09   10  100  1000  10mm  10pm  ...  youtube  \\\n",
       "0  0.0  0.0  0.0  0.0  0.0  0.0  0.0   0.0   0.0   0.0  ...      0.0   \n",
       "1  0.0  0.0  0.0  0.0  0.0  0.0  0.0   0.0   0.0   0.0  ...      0.0   \n",
       "2  0.0  0.0  0.0  0.0  0.0  0.0  0.0   0.0   0.0   0.0  ...      0.0   \n",
       "3  0.0  0.0  0.0  0.0  0.0  0.0  0.0   0.0   0.0   0.0  ...      0.0   \n",
       "4  0.0  0.0  0.0  0.0  0.0  0.0  0.0   0.0   0.0   0.0  ...      0.0   \n",
       "\n",
       "   youtubers   yr  ysk   yt      zero  zip  zipper  zone  zoom  \n",
       "0        0.0  0.0  0.0  0.0  0.000000  0.0     0.0   0.0   0.0  \n",
       "1        0.0  0.0  0.0  0.0  0.000000  0.0     0.0   0.0   0.0  \n",
       "2        0.0  0.0  0.0  0.0  0.018179  0.0     0.0   0.0   0.0  \n",
       "3        0.0  0.0  0.0  0.0  0.000000  0.0     0.0   0.0   0.0  \n",
       "4        0.0  0.0  0.0  0.0  0.000000  0.0     0.0   0.0   0.0  \n",
       "\n",
       "[5 rows x 5849 columns]"
      ]
     },
     "execution_count": 367,
     "metadata": {},
     "output_type": "execute_result"
    }
   ],
   "source": [
    "X_train_tf3 = pd.DataFrame(tf3.fit_transform(X_train).A, columns=tf3.get_feature_names_out())\n",
    "X_test_tf3 = pd.DataFrame(tf3.transform(X_test).A, columns=tf3.get_feature_names_out())\n",
    "X_train_tf3.head(5)"
   ]
  },
  {
   "cell_type": "code",
   "execution_count": 368,
   "id": "f8e9c99e-97ba-4d71-9ff9-f9eae9dbd51e",
   "metadata": {},
   "outputs": [
    {
     "name": "stdout",
     "output_type": "stream",
     "text": [
      "(1857, 5849) (619, 5849)\n"
     ]
    }
   ],
   "source": [
    "# verifying column size match\n",
    "print(X_train_tf3.shape, X_test_tf3.shape)"
   ]
  },
  {
   "cell_type": "code",
   "execution_count": 369,
   "id": "66260034-e1be-4d00-8d00-5ae4f6a62f5e",
   "metadata": {},
   "outputs": [
    {
     "data": {
      "text/plain": [
       "-6524"
      ]
     },
     "execution_count": 369,
     "metadata": {},
     "output_type": "execute_result"
    }
   ],
   "source": [
    "X_train_tf3.shape[1] - X_train_cvec.shape[1]"
   ]
  },
  {
   "cell_type": "markdown",
   "id": "249c19e6-7806-4862-818b-855487b19f78",
   "metadata": {},
   "source": [
    "We have 6524 less columns here when compared to the default vectorization."
   ]
  },
  {
   "cell_type": "code",
   "execution_count": 370,
   "id": "5c747529-2cd0-4763-bc24-67b7ec5229b2",
   "metadata": {},
   "outputs": [],
   "source": [
    "tf3_top_10 = X_train_tf3.sum().sort_values(ascending=False)[:10]"
   ]
  },
  {
   "cell_type": "code",
   "execution_count": 375,
   "id": "6f52b89e-71f3-495f-b941-4e551e4173f0",
   "metadata": {},
   "outputs": [
    {
     "data": {
      "image/png": "[encoded data removed]",
      "text/plain": [
       "<Figure size 432x288 with 1 Axes>"
      ]
     },
     "metadata": {
      "needs_background": "light"
     },
     "output_type": "display_data"
    }
   ],
   "source": [
    "sns.barplot(y=list(tf3_top_10.index), x=tf3_top_10.values, orient='h', color='tab:blue')\n",
    "plt.title(\"Top 10 centermost tokens produced by TF-IDF\")\n",
    "#plt.savefig('../images/top_10_tf3');"
   ]
  },
  {
   "cell_type": "markdown",
   "id": "ca738502-84df-4019-9bec-c4a16bb61342",
   "metadata": {},
   "source": [
    "Let's restrict the frequencies even more, and see what patterns emerge."
   ]
  },
  {
   "cell_type": "code",
   "execution_count": 376,
   "id": "59950ae0-841c-468d-8c72-12f875a91bab",
   "metadata": {
    "tags": []
   },
   "outputs": [],
   "source": [
    "tf4 = TfidfVectorizer(min_df=15, max_df=.05)"
   ]
  },
  {
   "cell_type": "code",
   "execution_count": 377,
   "id": "a8260cb7-08a4-4062-9ce1-af551148859d",
   "metadata": {},
   "outputs": [
    {
     "data": {
      "text/html": [
       "<div>\n",
       "<style scoped>\n",
       "    .dataframe tbody tr th:only-of-type {\n",
       "        vertical-align: middle;\n",
       "    }\n",
       "\n",
       "    .dataframe tbody tr th {\n",
       "        vertical-align: top;\n",
       "    }\n",
       "\n",
       "    .dataframe thead th {\n",
       "        text-align: right;\n",
       "    }\n",
       "</style>\n",
       "<table border=\"1\" class=\"dataframe\">\n",
       "  <thead>\n",
       "    <tr style=\"text-align: right;\">\n",
       "      <th></th>\n",
       "      <th>10</th>\n",
       "      <th>100</th>\n",
       "      <th>12</th>\n",
       "      <th>15</th>\n",
       "      <th>20</th>\n",
       "      <th>25</th>\n",
       "      <th>30</th>\n",
       "      <th>50</th>\n",
       "      <th>able</th>\n",
       "      <th>above</th>\n",
       "      <th>...</th>\n",
       "      <th>writing</th>\n",
       "      <th>wrong</th>\n",
       "      <th>www</th>\n",
       "      <th>x200b</th>\n",
       "      <th>year</th>\n",
       "      <th>yes</th>\n",
       "      <th>yet</th>\n",
       "      <th>young</th>\n",
       "      <th>youtube</th>\n",
       "      <th>zero</th>\n",
       "    </tr>\n",
       "  </thead>\n",
       "  <tbody>\n",
       "    <tr>\n",
       "      <th>0</th>\n",
       "      <td>0.0</td>\n",
       "      <td>0.0</td>\n",
       "      <td>0.0</td>\n",
       "      <td>0.0</td>\n",
       "      <td>0.0</td>\n",
       "      <td>0.0</td>\n",
       "      <td>0.0</td>\n",
       "      <td>0.0</td>\n",
       "      <td>0.0</td>\n",
       "      <td>0.000000</td>\n",
       "      <td>...</td>\n",
       "      <td>0.000000</td>\n",
       "      <td>0.00000</td>\n",
       "      <td>0.0</td>\n",
       "      <td>0.0</td>\n",
       "      <td>0.0</td>\n",
       "      <td>0.000000</td>\n",
       "      <td>0.0</td>\n",
       "      <td>0.0</td>\n",
       "      <td>0.0</td>\n",
       "      <td>0.000000</td>\n",
       "    </tr>\n",
       "    <tr>\n",
       "      <th>1</th>\n",
       "      <td>0.0</td>\n",
       "      <td>0.0</td>\n",
       "      <td>0.0</td>\n",
       "      <td>0.0</td>\n",
       "      <td>0.0</td>\n",
       "      <td>0.0</td>\n",
       "      <td>0.0</td>\n",
       "      <td>0.0</td>\n",
       "      <td>0.0</td>\n",
       "      <td>0.000000</td>\n",
       "      <td>...</td>\n",
       "      <td>0.000000</td>\n",
       "      <td>0.27878</td>\n",
       "      <td>0.0</td>\n",
       "      <td>0.0</td>\n",
       "      <td>0.0</td>\n",
       "      <td>0.149714</td>\n",
       "      <td>0.0</td>\n",
       "      <td>0.0</td>\n",
       "      <td>0.0</td>\n",
       "      <td>0.000000</td>\n",
       "    </tr>\n",
       "    <tr>\n",
       "      <th>2</th>\n",
       "      <td>0.0</td>\n",
       "      <td>0.0</td>\n",
       "      <td>0.0</td>\n",
       "      <td>0.0</td>\n",
       "      <td>0.0</td>\n",
       "      <td>0.0</td>\n",
       "      <td>0.0</td>\n",
       "      <td>0.0</td>\n",
       "      <td>0.0</td>\n",
       "      <td>0.038148</td>\n",
       "      <td>...</td>\n",
       "      <td>0.081017</td>\n",
       "      <td>0.00000</td>\n",
       "      <td>0.0</td>\n",
       "      <td>0.0</td>\n",
       "      <td>0.0</td>\n",
       "      <td>0.000000</td>\n",
       "      <td>0.0</td>\n",
       "      <td>0.0</td>\n",
       "      <td>0.0</td>\n",
       "      <td>0.040509</td>\n",
       "    </tr>\n",
       "    <tr>\n",
       "      <th>3</th>\n",
       "      <td>0.0</td>\n",
       "      <td>0.0</td>\n",
       "      <td>0.0</td>\n",
       "      <td>0.0</td>\n",
       "      <td>0.0</td>\n",
       "      <td>0.0</td>\n",
       "      <td>0.0</td>\n",
       "      <td>0.0</td>\n",
       "      <td>0.0</td>\n",
       "      <td>0.000000</td>\n",
       "      <td>...</td>\n",
       "      <td>0.000000</td>\n",
       "      <td>0.00000</td>\n",
       "      <td>0.0</td>\n",
       "      <td>0.0</td>\n",
       "      <td>0.0</td>\n",
       "      <td>0.000000</td>\n",
       "      <td>0.0</td>\n",
       "      <td>0.0</td>\n",
       "      <td>0.0</td>\n",
       "      <td>0.000000</td>\n",
       "    </tr>\n",
       "    <tr>\n",
       "      <th>4</th>\n",
       "      <td>0.0</td>\n",
       "      <td>0.0</td>\n",
       "      <td>0.0</td>\n",
       "      <td>0.0</td>\n",
       "      <td>0.0</td>\n",
       "      <td>0.0</td>\n",
       "      <td>0.0</td>\n",
       "      <td>0.0</td>\n",
       "      <td>0.0</td>\n",
       "      <td>0.000000</td>\n",
       "      <td>...</td>\n",
       "      <td>0.000000</td>\n",
       "      <td>0.00000</td>\n",
       "      <td>0.0</td>\n",
       "      <td>0.0</td>\n",
       "      <td>0.0</td>\n",
       "      <td>0.000000</td>\n",
       "      <td>0.0</td>\n",
       "      <td>0.0</td>\n",
       "      <td>0.0</td>\n",
       "      <td>0.000000</td>\n",
       "    </tr>\n",
       "  </tbody>\n",
       "</table>\n",
       "<p>5 rows × 863 columns</p>\n",
       "</div>"
      ],
      "text/plain": [
       "    10  100   12   15   20   25   30   50  able     above  ...   writing  \\\n",
       "0  0.0  0.0  0.0  0.0  0.0  0.0  0.0  0.0   0.0  0.000000  ...  0.000000   \n",
       "1  0.0  0.0  0.0  0.0  0.0  0.0  0.0  0.0   0.0  0.000000  ...  0.000000   \n",
       "2  0.0  0.0  0.0  0.0  0.0  0.0  0.0  0.0   0.0  0.038148  ...  0.081017   \n",
       "3  0.0  0.0  0.0  0.0  0.0  0.0  0.0  0.0   0.0  0.000000  ...  0.000000   \n",
       "4  0.0  0.0  0.0  0.0  0.0  0.0  0.0  0.0   0.0  0.000000  ...  0.000000   \n",
       "\n",
       "     wrong  www  x200b  year       yes  yet  young  youtube      zero  \n",
       "0  0.00000  0.0    0.0   0.0  0.000000  0.0    0.0      0.0  0.000000  \n",
       "1  0.27878  0.0    0.0   0.0  0.149714  0.0    0.0      0.0  0.000000  \n",
       "2  0.00000  0.0    0.0   0.0  0.000000  0.0    0.0      0.0  0.040509  \n",
       "3  0.00000  0.0    0.0   0.0  0.000000  0.0    0.0      0.0  0.000000  \n",
       "4  0.00000  0.0    0.0   0.0  0.000000  0.0    0.0      0.0  0.000000  \n",
       "\n",
       "[5 rows x 863 columns]"
      ]
     },
     "execution_count": 377,
     "metadata": {},
     "output_type": "execute_result"
    }
   ],
   "source": [
    "X_train_tf4 = pd.DataFrame(tf4.fit_transform(X_train).A, columns=tf4.get_feature_names_out())\n",
    "X_test_tf4 = pd.DataFrame(tf4.transform(X_test).A, columns=tf4.get_feature_names_out())\n",
    "X_train_tf4.head(5)"
   ]
  },
  {
   "cell_type": "code",
   "execution_count": 379,
   "id": "1f19ef30-c698-45a9-aabd-e7b5a1c5a2d5",
   "metadata": {},
   "outputs": [
    {
     "name": "stdout",
     "output_type": "stream",
     "text": [
      "(1857, 863) (619, 863)\n"
     ]
    }
   ],
   "source": [
    "# verifying column size match\n",
    "print(X_train_tf4.shape, X_test_tf4.shape)"
   ]
  },
  {
   "cell_type": "code",
   "execution_count": 380,
   "id": "12612387-6d34-42f0-a618-f0a722710fe8",
   "metadata": {},
   "outputs": [
    {
     "data": {
      "text/plain": [
       "-11510"
      ]
     },
     "execution_count": 380,
     "metadata": {},
     "output_type": "execute_result"
    }
   ],
   "source": [
    "X_train_tf4.shape[1] - X_train_cvec.shape[1]"
   ]
  },
  {
   "cell_type": "markdown",
   "id": "09997107-684a-44f6-81e4-edb3454e5ef0",
   "metadata": {},
   "source": [
    "We have 11,510 less columns here when compared to the default vectorization."
   ]
  },
  {
   "cell_type": "code",
   "execution_count": 381,
   "id": "16068894-752d-48c1-a81d-4d48db398f08",
   "metadata": {},
   "outputs": [],
   "source": [
    "tf4_top_10 = X_train_tf4.sum().sort_values(ascending=False)[:10]"
   ]
  },
  {
   "cell_type": "code",
   "execution_count": 384,
   "id": "b01e3ab1-09ff-4170-9f9d-ddf91f892572",
   "metadata": {},
   "outputs": [
    {
     "data": {
      "image/png": "[encoded data removed]",
      "text/plain": [
       "<Figure size 432x288 with 1 Axes>"
      ]
     },
     "metadata": {
      "needs_background": "light"
     },
     "output_type": "display_data"
    }
   ],
   "source": [
    "sns.barplot(y=list(tf4_top_10.index), x=tf4_top_10.values, orient='h', color='tab:blue')\n",
    "plt.title(\"Top 10 centermost (more restrictive) tokens produced by TF-IDF\")\n",
    "#plt.savefig('../images/top_10_tf4');"
   ]
  },
  {
   "cell_type": "markdown",
   "id": "121cec78-4b79-4590-8d18-662d2cf9ab97",
   "metadata": {},
   "source": [
    "Let's take the same restrictive parameters and create bigrams."
   ]
  },
  {
   "cell_type": "code",
   "execution_count": 385,
   "id": "a2cc2dc9-a0ca-4d14-9125-df8b5a4b95b1",
   "metadata": {
    "tags": []
   },
   "outputs": [],
   "source": [
    "tf5 = TfidfVectorizer(min_df=15, max_df=.05, ngram_range=(2, 2))"
   ]
  },
  {
   "cell_type": "code",
   "execution_count": 386,
   "id": "c2858ea4-4f89-4a55-86b2-a465bed0ef32",
   "metadata": {},
   "outputs": [
    {
     "data": {
      "text/html": [
       "<div>\n",
       "<style scoped>\n",
       "    .dataframe tbody tr th:only-of-type {\n",
       "        vertical-align: middle;\n",
       "    }\n",
       "\n",
       "    .dataframe tbody tr th {\n",
       "        vertical-align: top;\n",
       "    }\n",
       "\n",
       "    .dataframe thead th {\n",
       "        text-align: right;\n",
       "    }\n",
       "</style>\n",
       "<table border=\"1\" class=\"dataframe\">\n",
       "  <thead>\n",
       "    <tr style=\"text-align: right;\">\n",
       "      <th></th>\n",
       "      <th>able to</th>\n",
       "      <th>about how</th>\n",
       "      <th>about it</th>\n",
       "      <th>about the</th>\n",
       "      <th>about this</th>\n",
       "      <th>about what</th>\n",
       "      <th>after the</th>\n",
       "      <th>all my</th>\n",
       "      <th>all of</th>\n",
       "      <th>all you</th>\n",
       "      <th>...</th>\n",
       "      <th>you would</th>\n",
       "      <th>you you</th>\n",
       "      <th>your body</th>\n",
       "      <th>your car</th>\n",
       "      <th>your friends</th>\n",
       "      <th>your life</th>\n",
       "      <th>your mind</th>\n",
       "      <th>your own</th>\n",
       "      <th>your phone</th>\n",
       "      <th>your time</th>\n",
       "    </tr>\n",
       "  </thead>\n",
       "  <tbody>\n",
       "    <tr>\n",
       "      <th>0</th>\n",
       "      <td>0.0</td>\n",
       "      <td>0.0</td>\n",
       "      <td>0.000000</td>\n",
       "      <td>0.000000</td>\n",
       "      <td>0.0</td>\n",
       "      <td>0.00000</td>\n",
       "      <td>0.0</td>\n",
       "      <td>0.0</td>\n",
       "      <td>0.0</td>\n",
       "      <td>0.0</td>\n",
       "      <td>...</td>\n",
       "      <td>0.00000</td>\n",
       "      <td>0.0</td>\n",
       "      <td>0.0</td>\n",
       "      <td>0.0000</td>\n",
       "      <td>0.0</td>\n",
       "      <td>0.0</td>\n",
       "      <td>0.0</td>\n",
       "      <td>0.0</td>\n",
       "      <td>0.0</td>\n",
       "      <td>0.0</td>\n",
       "    </tr>\n",
       "    <tr>\n",
       "      <th>1</th>\n",
       "      <td>0.0</td>\n",
       "      <td>0.0</td>\n",
       "      <td>0.000000</td>\n",
       "      <td>0.000000</td>\n",
       "      <td>0.0</td>\n",
       "      <td>0.00000</td>\n",
       "      <td>0.0</td>\n",
       "      <td>0.0</td>\n",
       "      <td>0.0</td>\n",
       "      <td>0.0</td>\n",
       "      <td>...</td>\n",
       "      <td>0.00000</td>\n",
       "      <td>0.0</td>\n",
       "      <td>0.0</td>\n",
       "      <td>0.1638</td>\n",
       "      <td>0.0</td>\n",
       "      <td>0.0</td>\n",
       "      <td>0.0</td>\n",
       "      <td>0.0</td>\n",
       "      <td>0.0</td>\n",
       "      <td>0.0</td>\n",
       "    </tr>\n",
       "    <tr>\n",
       "      <th>2</th>\n",
       "      <td>0.0</td>\n",
       "      <td>0.0</td>\n",
       "      <td>0.067396</td>\n",
       "      <td>0.068213</td>\n",
       "      <td>0.0</td>\n",
       "      <td>0.07389</td>\n",
       "      <td>0.0</td>\n",
       "      <td>0.0</td>\n",
       "      <td>0.0</td>\n",
       "      <td>0.0</td>\n",
       "      <td>...</td>\n",
       "      <td>0.07389</td>\n",
       "      <td>0.0</td>\n",
       "      <td>0.0</td>\n",
       "      <td>0.0000</td>\n",
       "      <td>0.0</td>\n",
       "      <td>0.0</td>\n",
       "      <td>0.0</td>\n",
       "      <td>0.0</td>\n",
       "      <td>0.0</td>\n",
       "      <td>0.0</td>\n",
       "    </tr>\n",
       "    <tr>\n",
       "      <th>3</th>\n",
       "      <td>0.0</td>\n",
       "      <td>0.0</td>\n",
       "      <td>0.000000</td>\n",
       "      <td>0.000000</td>\n",
       "      <td>0.0</td>\n",
       "      <td>0.00000</td>\n",
       "      <td>0.0</td>\n",
       "      <td>0.0</td>\n",
       "      <td>0.0</td>\n",
       "      <td>0.0</td>\n",
       "      <td>...</td>\n",
       "      <td>0.00000</td>\n",
       "      <td>0.0</td>\n",
       "      <td>0.0</td>\n",
       "      <td>0.0000</td>\n",
       "      <td>0.0</td>\n",
       "      <td>0.0</td>\n",
       "      <td>0.0</td>\n",
       "      <td>0.0</td>\n",
       "      <td>0.0</td>\n",
       "      <td>0.0</td>\n",
       "    </tr>\n",
       "    <tr>\n",
       "      <th>4</th>\n",
       "      <td>0.0</td>\n",
       "      <td>0.0</td>\n",
       "      <td>0.000000</td>\n",
       "      <td>0.000000</td>\n",
       "      <td>0.0</td>\n",
       "      <td>0.00000</td>\n",
       "      <td>0.0</td>\n",
       "      <td>0.0</td>\n",
       "      <td>0.0</td>\n",
       "      <td>0.0</td>\n",
       "      <td>...</td>\n",
       "      <td>0.00000</td>\n",
       "      <td>0.0</td>\n",
       "      <td>0.0</td>\n",
       "      <td>0.0000</td>\n",
       "      <td>0.0</td>\n",
       "      <td>0.0</td>\n",
       "      <td>0.0</td>\n",
       "      <td>0.0</td>\n",
       "      <td>0.0</td>\n",
       "      <td>0.0</td>\n",
       "    </tr>\n",
       "  </tbody>\n",
       "</table>\n",
       "<p>5 rows × 758 columns</p>\n",
       "</div>"
      ],
      "text/plain": [
       "   able to  about how  about it  about the  about this  about what  after the  \\\n",
       "0      0.0        0.0  0.000000   0.000000         0.0     0.00000        0.0   \n",
       "1      0.0        0.0  0.000000   0.000000         0.0     0.00000        0.0   \n",
       "2      0.0        0.0  0.067396   0.068213         0.0     0.07389        0.0   \n",
       "3      0.0        0.0  0.000000   0.000000         0.0     0.00000        0.0   \n",
       "4      0.0        0.0  0.000000   0.000000         0.0     0.00000        0.0   \n",
       "\n",
       "   all my  all of  all you  ...  you would  you you  your body  your car  \\\n",
       "0     0.0     0.0      0.0  ...    0.00000      0.0        0.0    0.0000   \n",
       "1     0.0     0.0      0.0  ...    0.00000      0.0        0.0    0.1638   \n",
       "2     0.0     0.0      0.0  ...    0.07389      0.0        0.0    0.0000   \n",
       "3     0.0     0.0      0.0  ...    0.00000      0.0        0.0    0.0000   \n",
       "4     0.0     0.0      0.0  ...    0.00000      0.0        0.0    0.0000   \n",
       "\n",
       "   your friends  your life  your mind  your own  your phone  your time  \n",
       "0           0.0        0.0        0.0       0.0         0.0        0.0  \n",
       "1           0.0        0.0        0.0       0.0         0.0        0.0  \n",
       "2           0.0        0.0        0.0       0.0         0.0        0.0  \n",
       "3           0.0        0.0        0.0       0.0         0.0        0.0  \n",
       "4           0.0        0.0        0.0       0.0         0.0        0.0  \n",
       "\n",
       "[5 rows x 758 columns]"
      ]
     },
     "execution_count": 386,
     "metadata": {},
     "output_type": "execute_result"
    }
   ],
   "source": [
    "X_train_tf5 = pd.DataFrame(tf5.fit_transform(X_train).A, columns=tf5.get_feature_names_out())\n",
    "X_test_tf5 = pd.DataFrame(tf5.transform(X_test).A, columns=tf5.get_feature_names_out())\n",
    "X_train_tf5.head(5)"
   ]
  },
  {
   "cell_type": "code",
   "execution_count": 387,
   "id": "2b2225a3-ec49-48cb-9cbb-56982e6642b0",
   "metadata": {},
   "outputs": [
    {
     "name": "stdout",
     "output_type": "stream",
     "text": [
      "(1857, 758) (619, 758)\n"
     ]
    }
   ],
   "source": [
    "# verifying column size match\n",
    "print(X_train_tf5.shape, X_test_tf5.shape)"
   ]
  },
  {
   "cell_type": "code",
   "execution_count": 388,
   "id": "c8a0d856-1ac1-460b-8640-06cc99f1974e",
   "metadata": {},
   "outputs": [
    {
     "data": {
      "text/plain": [
       "-11615"
      ]
     },
     "execution_count": 388,
     "metadata": {},
     "output_type": "execute_result"
    }
   ],
   "source": [
    "X_train_tf5.shape[1] - X_train_cvec.shape[1]"
   ]
  },
  {
   "cell_type": "markdown",
   "id": "d544f836-656a-4e7a-a0d7-ff93e1990a2f",
   "metadata": {},
   "source": [
    "We have 11,615 less columns here when compared to the default vectorization."
   ]
  },
  {
   "cell_type": "code",
   "execution_count": 389,
   "id": "08634a54-a8e7-44d3-a67f-6922b4de2d05",
   "metadata": {},
   "outputs": [],
   "source": [
    "tf5_top_10 = X_train_tf5.sum().sort_values(ascending=False)[:10]"
   ]
  },
  {
   "cell_type": "code",
   "execution_count": 391,
   "id": "5431f4db-04f9-4b27-9b3d-21c5e928a8c4",
   "metadata": {},
   "outputs": [
    {
     "data": {
      "image/png": "[encoded data removed]",
      "text/plain": [
       "<Figure size 432x288 with 1 Axes>"
      ]
     },
     "metadata": {
      "needs_background": "light"
     },
     "output_type": "display_data"
    }
   ],
   "source": [
    "sns.barplot(y=list(tf5_top_10.index), x=tf5_top_10.values, orient='h', color='tab:blue')\n",
    "plt.title(\"Top 10 centermost (more restrictive) bigrams produced by TF-IDF\")\n",
    "#plt.savefig('../images/top_10_tf5');"
   ]
  },
  {
   "cell_type": "markdown",
   "id": "5d4f5386-3b03-4328-8148-a720055a703e",
   "metadata": {},
   "source": [
    "----"
   ]
  },
  {
   "cell_type": "markdown",
   "id": "6ab8f77b-0637-4bde-8b01-1d2903571e66",
   "metadata": {},
   "source": [
    "Our last engineering process will be lemmatization of the words. Let's see what patterns we find."
   ]
  },
  {
   "cell_type": "code",
   "execution_count": 392,
   "id": "5857f4c5-eb74-48ae-9512-f8e87bee9e5b",
   "metadata": {},
   "outputs": [],
   "source": [
    "## Creating lemmatization class\n",
    "class LemmaTokenizer():\n",
    "    def __init__(self):\n",
    "        self.wnl = WordNetLemmatizer()\n",
    "        \n",
    "    def __call__(self, doc):\n",
    "        return [self.wnl.lemmatize(word) for word in word_tokenize(doc)]"
   ]
  },
  {
   "cell_type": "code",
   "execution_count": 393,
   "id": "8ac64168-7e49-498b-a10d-8f68f9b93fb4",
   "metadata": {
    "tags": []
   },
   "outputs": [
    {
     "data": {
      "text/plain": [
       "CountVectorizer(tokenizer=<__main__.LemmaTokenizer object at 0x0000026AF50FE820>)"
      ]
     },
     "execution_count": 393,
     "metadata": {},
     "output_type": "execute_result"
    }
   ],
   "source": [
    "lt = CountVectorizer(tokenizer=LemmaTokenizer())\n",
    "lt"
   ]
  },
  {
   "cell_type": "code",
   "execution_count": 394,
   "id": "697d81d1-88e1-4c2d-b8c5-06df09f5f699",
   "metadata": {},
   "outputs": [
    {
     "data": {
      "text/html": [
       "<div>\n",
       "<style scoped>\n",
       "    .dataframe tbody tr th:only-of-type {\n",
       "        vertical-align: middle;\n",
       "    }\n",
       "\n",
       "    .dataframe tbody tr th {\n",
       "        vertical-align: top;\n",
       "    }\n",
       "\n",
       "    .dataframe thead th {\n",
       "        text-align: right;\n",
       "    }\n",
       "</style>\n",
       "<table border=\"1\" class=\"dataframe\">\n",
       "  <thead>\n",
       "    <tr style=\"text-align: right;\">\n",
       "      <th></th>\n",
       "      <th>!</th>\n",
       "      <th>#</th>\n",
       "      <th>$</th>\n",
       "      <th>%</th>\n",
       "      <th>&amp;</th>\n",
       "      <th>'</th>\n",
       "      <th>''</th>\n",
       "      <th>'actually</th>\n",
       "      <th>'advice</th>\n",
       "      <th>'alpha</th>\n",
       "      <th>...</th>\n",
       "      <th>🙏</th>\n",
       "      <th>🙏❤️</th>\n",
       "      <th>🛑</th>\n",
       "      <th>🤒</th>\n",
       "      <th>🤮</th>\n",
       "      <th>🥑</th>\n",
       "      <th>🥶</th>\n",
       "      <th>🧵</th>\n",
       "      <th>🪖</th>\n",
       "      <th>🪡</th>\n",
       "    </tr>\n",
       "  </thead>\n",
       "  <tbody>\n",
       "    <tr>\n",
       "      <th>0</th>\n",
       "      <td>0</td>\n",
       "      <td>0</td>\n",
       "      <td>0</td>\n",
       "      <td>0</td>\n",
       "      <td>0</td>\n",
       "      <td>0</td>\n",
       "      <td>0</td>\n",
       "      <td>0</td>\n",
       "      <td>0</td>\n",
       "      <td>0</td>\n",
       "      <td>...</td>\n",
       "      <td>0</td>\n",
       "      <td>0</td>\n",
       "      <td>0</td>\n",
       "      <td>0</td>\n",
       "      <td>0</td>\n",
       "      <td>0</td>\n",
       "      <td>0</td>\n",
       "      <td>0</td>\n",
       "      <td>0</td>\n",
       "      <td>0</td>\n",
       "    </tr>\n",
       "    <tr>\n",
       "      <th>1</th>\n",
       "      <td>0</td>\n",
       "      <td>0</td>\n",
       "      <td>0</td>\n",
       "      <td>0</td>\n",
       "      <td>0</td>\n",
       "      <td>0</td>\n",
       "      <td>0</td>\n",
       "      <td>0</td>\n",
       "      <td>0</td>\n",
       "      <td>0</td>\n",
       "      <td>...</td>\n",
       "      <td>0</td>\n",
       "      <td>0</td>\n",
       "      <td>0</td>\n",
       "      <td>0</td>\n",
       "      <td>0</td>\n",
       "      <td>0</td>\n",
       "      <td>0</td>\n",
       "      <td>0</td>\n",
       "      <td>0</td>\n",
       "      <td>0</td>\n",
       "    </tr>\n",
       "    <tr>\n",
       "      <th>2</th>\n",
       "      <td>3</td>\n",
       "      <td>0</td>\n",
       "      <td>0</td>\n",
       "      <td>0</td>\n",
       "      <td>0</td>\n",
       "      <td>1</td>\n",
       "      <td>2</td>\n",
       "      <td>0</td>\n",
       "      <td>0</td>\n",
       "      <td>0</td>\n",
       "      <td>...</td>\n",
       "      <td>0</td>\n",
       "      <td>0</td>\n",
       "      <td>0</td>\n",
       "      <td>0</td>\n",
       "      <td>0</td>\n",
       "      <td>0</td>\n",
       "      <td>0</td>\n",
       "      <td>0</td>\n",
       "      <td>0</td>\n",
       "      <td>0</td>\n",
       "    </tr>\n",
       "    <tr>\n",
       "      <th>3</th>\n",
       "      <td>0</td>\n",
       "      <td>0</td>\n",
       "      <td>0</td>\n",
       "      <td>0</td>\n",
       "      <td>0</td>\n",
       "      <td>0</td>\n",
       "      <td>0</td>\n",
       "      <td>0</td>\n",
       "      <td>0</td>\n",
       "      <td>0</td>\n",
       "      <td>...</td>\n",
       "      <td>0</td>\n",
       "      <td>0</td>\n",
       "      <td>0</td>\n",
       "      <td>0</td>\n",
       "      <td>0</td>\n",
       "      <td>0</td>\n",
       "      <td>0</td>\n",
       "      <td>0</td>\n",
       "      <td>0</td>\n",
       "      <td>0</td>\n",
       "    </tr>\n",
       "    <tr>\n",
       "      <th>4</th>\n",
       "      <td>0</td>\n",
       "      <td>0</td>\n",
       "      <td>0</td>\n",
       "      <td>0</td>\n",
       "      <td>0</td>\n",
       "      <td>0</td>\n",
       "      <td>0</td>\n",
       "      <td>0</td>\n",
       "      <td>0</td>\n",
       "      <td>0</td>\n",
       "      <td>...</td>\n",
       "      <td>0</td>\n",
       "      <td>0</td>\n",
       "      <td>0</td>\n",
       "      <td>0</td>\n",
       "      <td>0</td>\n",
       "      <td>0</td>\n",
       "      <td>0</td>\n",
       "      <td>0</td>\n",
       "      <td>0</td>\n",
       "      <td>0</td>\n",
       "    </tr>\n",
       "  </tbody>\n",
       "</table>\n",
       "<p>5 rows × 11800 columns</p>\n",
       "</div>"
      ],
      "text/plain": [
       "   !  #  $  %  &  '  ''  'actually  'advice  'alpha  ...  🙏  🙏❤️  🛑  🤒  🤮  🥑  \\\n",
       "0  0  0  0  0  0  0   0          0        0       0  ...  0    0  0  0  0  0   \n",
       "1  0  0  0  0  0  0   0          0        0       0  ...  0    0  0  0  0  0   \n",
       "2  3  0  0  0  0  1   2          0        0       0  ...  0    0  0  0  0  0   \n",
       "3  0  0  0  0  0  0   0          0        0       0  ...  0    0  0  0  0  0   \n",
       "4  0  0  0  0  0  0   0          0        0       0  ...  0    0  0  0  0  0   \n",
       "\n",
       "   🥶  🧵  🪖  🪡  \n",
       "0  0  0  0  0  \n",
       "1  0  0  0  0  \n",
       "2  0  0  0  0  \n",
       "3  0  0  0  0  \n",
       "4  0  0  0  0  \n",
       "\n",
       "[5 rows x 11800 columns]"
      ]
     },
     "execution_count": 394,
     "metadata": {},
     "output_type": "execute_result"
    }
   ],
   "source": [
    "X_train_lt = pd.DataFrame(lt.fit_transform(X_train).A, columns=lt.get_feature_names_out())\n",
    "X_test_lt = pd.DataFrame(lt.transform(X_test).A, columns=lt.get_feature_names_out())\n",
    "X_train_lt.head(5)"
   ]
  },
  {
   "cell_type": "code",
   "execution_count": 395,
   "id": "01817895-2105-4993-87e5-ab3ca3b11be8",
   "metadata": {},
   "outputs": [
    {
     "name": "stdout",
     "output_type": "stream",
     "text": [
      "(1857, 11800) (619, 11800)\n"
     ]
    }
   ],
   "source": [
    "# verifying column size match\n",
    "print(X_train_lt.shape, X_test_lt.shape)"
   ]
  },
  {
   "cell_type": "code",
   "execution_count": 352,
   "id": "820b63a7-1f4b-4a9b-bed5-a3d449341929",
   "metadata": {},
   "outputs": [
    {
     "data": {
      "text/plain": [
       "-573"
      ]
     },
     "execution_count": 352,
     "metadata": {},
     "output_type": "execute_result"
    }
   ],
   "source": [
    "X_train_lt.shape[1] - X_train_cvec.shape[1]"
   ]
  },
  {
   "cell_type": "markdown",
   "id": "ead3fa6e-127d-4033-bb64-5f66b99eb9bd",
   "metadata": {},
   "source": [
    "We have 573 less columns here when compared to the default vectorization."
   ]
  },
  {
   "cell_type": "code",
   "execution_count": 396,
   "id": "68f8f355-0357-4319-b73c-4c744482b6f3",
   "metadata": {},
   "outputs": [],
   "source": [
    "lt_top_10 = X_train_lt.sum().sort_values(ascending=False)[:10]"
   ]
  },
  {
   "cell_type": "code",
   "execution_count": 399,
   "id": "1c473d87-4f70-4dbb-99a1-5960d401a2a2",
   "metadata": {},
   "outputs": [
    {
     "data": {
      "image/png": "[encoded data removed]",
      "text/plain": [
       "<Figure size 432x288 with 1 Axes>"
      ]
     },
     "metadata": {
      "needs_background": "light"
     },
     "output_type": "display_data"
    }
   ],
   "source": [
    "sns.barplot(y=list(lt_top_10.index), x=lt_top_10.values, orient='h', color='tab:blue')\n",
    "plt.title(\"Top 10 lemmatized tokens\")\n",
    "#plt.savefig('../images/top_10_lt');"
   ]
  },
  {
   "cell_type": "markdown",
   "id": "880ecf22-4711-415c-93b6-d5738593ada0",
   "metadata": {},
   "source": [
    "Let's restrict the highest and lowest frequencies, and see what patterns emerge."
   ]
  },
  {
   "cell_type": "code",
   "execution_count": 400,
   "id": "b90b74b5-f58a-4c48-ba39-3667e2cb8545",
   "metadata": {
    "tags": []
   },
   "outputs": [],
   "source": [
    "lt2 = CountVectorizer(tokenizer=LemmaTokenizer(), min_df=5, max_df=.03)"
   ]
  },
  {
   "cell_type": "code",
   "execution_count": 401,
   "id": "0465d7c5-47a5-4464-b5b5-456854d18e6c",
   "metadata": {},
   "outputs": [
    {
     "data": {
      "text/html": [
       "<div>\n",
       "<style scoped>\n",
       "    .dataframe tbody tr th:only-of-type {\n",
       "        vertical-align: middle;\n",
       "    }\n",
       "\n",
       "    .dataframe tbody tr th {\n",
       "        vertical-align: top;\n",
       "    }\n",
       "\n",
       "    .dataframe thead th {\n",
       "        text-align: right;\n",
       "    }\n",
       "</style>\n",
       "<table border=\"1\" class=\"dataframe\">\n",
       "  <thead>\n",
       "    <tr style=\"text-align: right;\">\n",
       "      <th></th>\n",
       "      <th>#</th>\n",
       "      <th>'</th>\n",
       "      <th>+</th>\n",
       "      <th>--</th>\n",
       "      <th>..</th>\n",
       "      <th>/</th>\n",
       "      <th>//www.youtube.com/watch</th>\n",
       "      <th>0</th>\n",
       "      <th>1.</th>\n",
       "      <th>10</th>\n",
       "      <th>...</th>\n",
       "      <th>yet</th>\n",
       "      <th>young</th>\n",
       "      <th>younger</th>\n",
       "      <th>yours</th>\n",
       "      <th>youtube</th>\n",
       "      <th>zero</th>\n",
       "      <th>zip</th>\n",
       "      <th>~</th>\n",
       "      <th>–</th>\n",
       "      <th>‘</th>\n",
       "    </tr>\n",
       "  </thead>\n",
       "  <tbody>\n",
       "    <tr>\n",
       "      <th>0</th>\n",
       "      <td>0</td>\n",
       "      <td>0</td>\n",
       "      <td>0</td>\n",
       "      <td>0</td>\n",
       "      <td>0</td>\n",
       "      <td>0</td>\n",
       "      <td>0</td>\n",
       "      <td>0</td>\n",
       "      <td>0</td>\n",
       "      <td>0</td>\n",
       "      <td>...</td>\n",
       "      <td>0</td>\n",
       "      <td>0</td>\n",
       "      <td>0</td>\n",
       "      <td>0</td>\n",
       "      <td>0</td>\n",
       "      <td>0</td>\n",
       "      <td>0</td>\n",
       "      <td>0</td>\n",
       "      <td>0</td>\n",
       "      <td>0</td>\n",
       "    </tr>\n",
       "    <tr>\n",
       "      <th>1</th>\n",
       "      <td>0</td>\n",
       "      <td>0</td>\n",
       "      <td>0</td>\n",
       "      <td>0</td>\n",
       "      <td>0</td>\n",
       "      <td>0</td>\n",
       "      <td>0</td>\n",
       "      <td>0</td>\n",
       "      <td>0</td>\n",
       "      <td>0</td>\n",
       "      <td>...</td>\n",
       "      <td>0</td>\n",
       "      <td>0</td>\n",
       "      <td>0</td>\n",
       "      <td>0</td>\n",
       "      <td>0</td>\n",
       "      <td>0</td>\n",
       "      <td>0</td>\n",
       "      <td>0</td>\n",
       "      <td>0</td>\n",
       "      <td>0</td>\n",
       "    </tr>\n",
       "    <tr>\n",
       "      <th>2</th>\n",
       "      <td>0</td>\n",
       "      <td>1</td>\n",
       "      <td>0</td>\n",
       "      <td>0</td>\n",
       "      <td>0</td>\n",
       "      <td>0</td>\n",
       "      <td>0</td>\n",
       "      <td>0</td>\n",
       "      <td>0</td>\n",
       "      <td>0</td>\n",
       "      <td>...</td>\n",
       "      <td>0</td>\n",
       "      <td>0</td>\n",
       "      <td>0</td>\n",
       "      <td>0</td>\n",
       "      <td>0</td>\n",
       "      <td>1</td>\n",
       "      <td>0</td>\n",
       "      <td>0</td>\n",
       "      <td>0</td>\n",
       "      <td>0</td>\n",
       "    </tr>\n",
       "    <tr>\n",
       "      <th>3</th>\n",
       "      <td>0</td>\n",
       "      <td>0</td>\n",
       "      <td>0</td>\n",
       "      <td>0</td>\n",
       "      <td>0</td>\n",
       "      <td>0</td>\n",
       "      <td>0</td>\n",
       "      <td>0</td>\n",
       "      <td>0</td>\n",
       "      <td>0</td>\n",
       "      <td>...</td>\n",
       "      <td>0</td>\n",
       "      <td>0</td>\n",
       "      <td>0</td>\n",
       "      <td>0</td>\n",
       "      <td>0</td>\n",
       "      <td>0</td>\n",
       "      <td>0</td>\n",
       "      <td>0</td>\n",
       "      <td>0</td>\n",
       "      <td>0</td>\n",
       "    </tr>\n",
       "    <tr>\n",
       "      <th>4</th>\n",
       "      <td>0</td>\n",
       "      <td>0</td>\n",
       "      <td>0</td>\n",
       "      <td>0</td>\n",
       "      <td>0</td>\n",
       "      <td>0</td>\n",
       "      <td>0</td>\n",
       "      <td>0</td>\n",
       "      <td>0</td>\n",
       "      <td>0</td>\n",
       "      <td>...</td>\n",
       "      <td>0</td>\n",
       "      <td>0</td>\n",
       "      <td>0</td>\n",
       "      <td>0</td>\n",
       "      <td>0</td>\n",
       "      <td>0</td>\n",
       "      <td>0</td>\n",
       "      <td>0</td>\n",
       "      <td>0</td>\n",
       "      <td>0</td>\n",
       "    </tr>\n",
       "  </tbody>\n",
       "</table>\n",
       "<p>5 rows × 2248 columns</p>\n",
       "</div>"
      ],
      "text/plain": [
       "   #  '  +  --  ..  /  //www.youtube.com/watch  0  1.  10  ...  yet  young  \\\n",
       "0  0  0  0   0   0  0                        0  0   0   0  ...    0      0   \n",
       "1  0  0  0   0   0  0                        0  0   0   0  ...    0      0   \n",
       "2  0  1  0   0   0  0                        0  0   0   0  ...    0      0   \n",
       "3  0  0  0   0   0  0                        0  0   0   0  ...    0      0   \n",
       "4  0  0  0   0   0  0                        0  0   0   0  ...    0      0   \n",
       "\n",
       "   younger  yours  youtube  zero  zip  ~  –  ‘  \n",
       "0        0      0        0     0    0  0  0  0  \n",
       "1        0      0        0     0    0  0  0  0  \n",
       "2        0      0        0     1    0  0  0  0  \n",
       "3        0      0        0     0    0  0  0  0  \n",
       "4        0      0        0     0    0  0  0  0  \n",
       "\n",
       "[5 rows x 2248 columns]"
      ]
     },
     "execution_count": 401,
     "metadata": {},
     "output_type": "execute_result"
    }
   ],
   "source": [
    "X_train_lt2 = pd.DataFrame(lt2.fit_transform(X_train).A, columns=lt2.get_feature_names_out())\n",
    "X_test_lt2 = pd.DataFrame(lt2.transform(X_test).A, columns=lt2.get_feature_names_out())\n",
    "X_train_lt2.head(5)"
   ]
  },
  {
   "cell_type": "code",
   "execution_count": 402,
   "id": "b933c52f-a468-43a9-b202-f1056cf76976",
   "metadata": {},
   "outputs": [
    {
     "name": "stdout",
     "output_type": "stream",
     "text": [
      "(1857, 2248) (619, 2248)\n"
     ]
    }
   ],
   "source": [
    "# verifying column size match\n",
    "print(X_train_lt2.shape, X_test_lt2.shape)"
   ]
  },
  {
   "cell_type": "code",
   "execution_count": 413,
   "id": "02c337f8-87a6-424f-8dfc-2fbabaa36aee",
   "metadata": {},
   "outputs": [
    {
     "data": {
      "text/plain": [
       "-10125"
      ]
     },
     "execution_count": 413,
     "metadata": {},
     "output_type": "execute_result"
    }
   ],
   "source": [
    "X_train_lt2.shape[1] - X_train_cvec.shape[1]"
   ]
  },
  {
   "cell_type": "markdown",
   "id": "e89d1c3f-6c7a-4d12-806d-f0bf2cc7c281",
   "metadata": {},
   "source": [
    "We have 10,125 less columns here when compared to the default vectorization."
   ]
  },
  {
   "cell_type": "code",
   "execution_count": 403,
   "id": "ffc85c37-707b-45f4-ae71-11cd69240208",
   "metadata": {},
   "outputs": [],
   "source": [
    "lt2_top_10 = X_train_lt2.sum().sort_values(ascending=False)[:10]"
   ]
  },
  {
   "cell_type": "code",
   "execution_count": 406,
   "id": "c9fdb562-ef97-4db8-a005-d31e0df5309b",
   "metadata": {},
   "outputs": [
    {
     "data": {
      "image/png": "[encoded data removed]",
      "text/plain": [
       "<Figure size 432x288 with 1 Axes>"
      ]
     },
     "metadata": {
      "needs_background": "light"
     },
     "output_type": "display_data"
    }
   ],
   "source": [
    "sns.barplot(y=list(lt2_top_10.index), x=lt2_top_10.values, orient='h', color='tab:blue')\n",
    "plt.title(\"Top 10 centermost lemmatized tokens\")\n",
    "#plt.savefig('../images/top_10_lt2');"
   ]
  },
  {
   "cell_type": "markdown",
   "id": "862e0db3-5f92-4f86-bec6-4c0413734464",
   "metadata": {},
   "source": [
    "Let's be even more restrictive on the upper and lower token frequencies."
   ]
  },
  {
   "cell_type": "code",
   "execution_count": 409,
   "id": "74f5959b-ebc9-49b3-8461-33c6878b22a0",
   "metadata": {
    "tags": []
   },
   "outputs": [],
   "source": [
    "lt4 = TfidfVectorizer(tokenizer=LemmaTokenizer(), min_df=15, max_df=.01)"
   ]
  },
  {
   "cell_type": "code",
   "execution_count": 410,
   "id": "6c117a6d-d397-402d-9de4-6a071e699660",
   "metadata": {},
   "outputs": [
    {
     "data": {
      "text/html": [
       "<div>\n",
       "<style scoped>\n",
       "    .dataframe tbody tr th:only-of-type {\n",
       "        vertical-align: middle;\n",
       "    }\n",
       "\n",
       "    .dataframe tbody tr th {\n",
       "        vertical-align: top;\n",
       "    }\n",
       "\n",
       "    .dataframe thead th {\n",
       "        text-align: right;\n",
       "    }\n",
       "</style>\n",
       "<table border=\"1\" class=\"dataframe\">\n",
       "  <thead>\n",
       "    <tr style=\"text-align: right;\">\n",
       "      <th></th>\n",
       "      <th>12</th>\n",
       "      <th>5.</th>\n",
       "      <th>7</th>\n",
       "      <th>accept</th>\n",
       "      <th>active</th>\n",
       "      <th>activity</th>\n",
       "      <th>added</th>\n",
       "      <th>adding</th>\n",
       "      <th>adult</th>\n",
       "      <th>advance</th>\n",
       "      <th>...</th>\n",
       "      <th>washing</th>\n",
       "      <th>wear</th>\n",
       "      <th>wet</th>\n",
       "      <th>white</th>\n",
       "      <th>wife</th>\n",
       "      <th>willing</th>\n",
       "      <th>win</th>\n",
       "      <th>writing</th>\n",
       "      <th>young</th>\n",
       "      <th>zero</th>\n",
       "    </tr>\n",
       "  </thead>\n",
       "  <tbody>\n",
       "    <tr>\n",
       "      <th>0</th>\n",
       "      <td>0.0</td>\n",
       "      <td>0.0</td>\n",
       "      <td>0.0</td>\n",
       "      <td>0.0</td>\n",
       "      <td>0.0</td>\n",
       "      <td>0.0</td>\n",
       "      <td>0.0</td>\n",
       "      <td>0.0</td>\n",
       "      <td>0.000000</td>\n",
       "      <td>0.0</td>\n",
       "      <td>...</td>\n",
       "      <td>0.0</td>\n",
       "      <td>0.0</td>\n",
       "      <td>0.0</td>\n",
       "      <td>0.0</td>\n",
       "      <td>0.0</td>\n",
       "      <td>0.0</td>\n",
       "      <td>0.0</td>\n",
       "      <td>0.000000</td>\n",
       "      <td>0.0</td>\n",
       "      <td>0.000000</td>\n",
       "    </tr>\n",
       "    <tr>\n",
       "      <th>1</th>\n",
       "      <td>0.0</td>\n",
       "      <td>0.0</td>\n",
       "      <td>0.0</td>\n",
       "      <td>0.0</td>\n",
       "      <td>0.0</td>\n",
       "      <td>0.0</td>\n",
       "      <td>0.0</td>\n",
       "      <td>0.0</td>\n",
       "      <td>0.000000</td>\n",
       "      <td>0.0</td>\n",
       "      <td>...</td>\n",
       "      <td>0.0</td>\n",
       "      <td>0.0</td>\n",
       "      <td>0.0</td>\n",
       "      <td>0.0</td>\n",
       "      <td>0.0</td>\n",
       "      <td>0.0</td>\n",
       "      <td>0.0</td>\n",
       "      <td>0.000000</td>\n",
       "      <td>0.0</td>\n",
       "      <td>0.000000</td>\n",
       "    </tr>\n",
       "    <tr>\n",
       "      <th>2</th>\n",
       "      <td>0.0</td>\n",
       "      <td>0.0</td>\n",
       "      <td>0.0</td>\n",
       "      <td>0.0</td>\n",
       "      <td>0.0</td>\n",
       "      <td>0.0</td>\n",
       "      <td>0.0</td>\n",
       "      <td>0.0</td>\n",
       "      <td>0.146754</td>\n",
       "      <td>0.0</td>\n",
       "      <td>...</td>\n",
       "      <td>0.0</td>\n",
       "      <td>0.0</td>\n",
       "      <td>0.0</td>\n",
       "      <td>0.0</td>\n",
       "      <td>0.0</td>\n",
       "      <td>0.0</td>\n",
       "      <td>0.0</td>\n",
       "      <td>0.296352</td>\n",
       "      <td>0.0</td>\n",
       "      <td>0.149678</td>\n",
       "    </tr>\n",
       "    <tr>\n",
       "      <th>3</th>\n",
       "      <td>0.0</td>\n",
       "      <td>0.0</td>\n",
       "      <td>0.0</td>\n",
       "      <td>0.0</td>\n",
       "      <td>0.0</td>\n",
       "      <td>0.0</td>\n",
       "      <td>0.0</td>\n",
       "      <td>0.0</td>\n",
       "      <td>0.000000</td>\n",
       "      <td>0.0</td>\n",
       "      <td>...</td>\n",
       "      <td>0.0</td>\n",
       "      <td>0.0</td>\n",
       "      <td>0.0</td>\n",
       "      <td>0.0</td>\n",
       "      <td>0.0</td>\n",
       "      <td>0.0</td>\n",
       "      <td>0.0</td>\n",
       "      <td>0.000000</td>\n",
       "      <td>0.0</td>\n",
       "      <td>0.000000</td>\n",
       "    </tr>\n",
       "    <tr>\n",
       "      <th>4</th>\n",
       "      <td>0.0</td>\n",
       "      <td>0.0</td>\n",
       "      <td>0.0</td>\n",
       "      <td>0.0</td>\n",
       "      <td>0.0</td>\n",
       "      <td>0.0</td>\n",
       "      <td>0.0</td>\n",
       "      <td>0.0</td>\n",
       "      <td>0.000000</td>\n",
       "      <td>0.0</td>\n",
       "      <td>...</td>\n",
       "      <td>0.0</td>\n",
       "      <td>0.0</td>\n",
       "      <td>0.0</td>\n",
       "      <td>0.0</td>\n",
       "      <td>0.0</td>\n",
       "      <td>0.0</td>\n",
       "      <td>0.0</td>\n",
       "      <td>0.000000</td>\n",
       "      <td>0.0</td>\n",
       "      <td>0.000000</td>\n",
       "    </tr>\n",
       "  </tbody>\n",
       "</table>\n",
       "<p>5 rows × 204 columns</p>\n",
       "</div>"
      ],
      "text/plain": [
       "    12   5.    7  accept  active  activity  added  adding     adult  advance  \\\n",
       "0  0.0  0.0  0.0     0.0     0.0       0.0    0.0     0.0  0.000000      0.0   \n",
       "1  0.0  0.0  0.0     0.0     0.0       0.0    0.0     0.0  0.000000      0.0   \n",
       "2  0.0  0.0  0.0     0.0     0.0       0.0    0.0     0.0  0.146754      0.0   \n",
       "3  0.0  0.0  0.0     0.0     0.0       0.0    0.0     0.0  0.000000      0.0   \n",
       "4  0.0  0.0  0.0     0.0     0.0       0.0    0.0     0.0  0.000000      0.0   \n",
       "\n",
       "   ...  washing  wear  wet  white  wife  willing  win   writing  young  \\\n",
       "0  ...      0.0   0.0  0.0    0.0   0.0      0.0  0.0  0.000000    0.0   \n",
       "1  ...      0.0   0.0  0.0    0.0   0.0      0.0  0.0  0.000000    0.0   \n",
       "2  ...      0.0   0.0  0.0    0.0   0.0      0.0  0.0  0.296352    0.0   \n",
       "3  ...      0.0   0.0  0.0    0.0   0.0      0.0  0.0  0.000000    0.0   \n",
       "4  ...      0.0   0.0  0.0    0.0   0.0      0.0  0.0  0.000000    0.0   \n",
       "\n",
       "       zero  \n",
       "0  0.000000  \n",
       "1  0.000000  \n",
       "2  0.149678  \n",
       "3  0.000000  \n",
       "4  0.000000  \n",
       "\n",
       "[5 rows x 204 columns]"
      ]
     },
     "execution_count": 410,
     "metadata": {},
     "output_type": "execute_result"
    }
   ],
   "source": [
    "X_train_lt4 = pd.DataFrame(lt4.fit_transform(X_train).A, columns=lt4.get_feature_names_out())\n",
    "X_test_lt4 = pd.DataFrame(lt4.transform(X_test).A, columns=lt4.get_feature_names_out())\n",
    "X_train_lt4.head(5)"
   ]
  },
  {
   "cell_type": "code",
   "execution_count": 411,
   "id": "9207afc1-25ba-41e1-a4c1-612d38db7237",
   "metadata": {},
   "outputs": [
    {
     "name": "stdout",
     "output_type": "stream",
     "text": [
      "(1857, 204) (619, 204)\n"
     ]
    }
   ],
   "source": [
    "# verifying column size match\n",
    "print(X_train_lt4.shape, X_test_lt4.shape)"
   ]
  },
  {
   "cell_type": "code",
   "execution_count": 412,
   "id": "7e8a7e6b-5d60-4e1c-abd9-ab26414e329c",
   "metadata": {},
   "outputs": [
    {
     "data": {
      "text/plain": [
       "-12169"
      ]
     },
     "execution_count": 412,
     "metadata": {},
     "output_type": "execute_result"
    }
   ],
   "source": [
    "X_train_lt4.shape[1] - X_train_cvec.shape[1]"
   ]
  },
  {
   "cell_type": "markdown",
   "id": "708d3158-3d6f-452f-aeff-fabc8036d99c",
   "metadata": {},
   "source": [
    "We have 12,169 less columns here when compared to the default vectorization."
   ]
  },
  {
   "cell_type": "code",
   "execution_count": 415,
   "id": "1c48d0f8-47ec-4097-a326-c7c3fdaa302f",
   "metadata": {},
   "outputs": [],
   "source": [
    "lt4_top_10 = X_train_lt4.sum().sort_values(ascending=False)[:10]"
   ]
  },
  {
   "cell_type": "code",
   "execution_count": 418,
   "id": "d75edc9d-9af0-4044-ad13-a5ec4a4eaa3a",
   "metadata": {},
   "outputs": [
    {
     "data": {
      "image/png": "[encoded data removed]",
      "text/plain": [
       "<Figure size 432x288 with 1 Axes>"
      ]
     },
     "metadata": {
      "needs_background": "light"
     },
     "output_type": "display_data"
    }
   ],
   "source": [
    "sns.barplot(y=list(lt4_top_10.index), x=lt4_top_10.values, orient='h', color='tab:blue')\n",
    "plt.title(\"Top 10 centermost (more restrictive) lemmatized tokens\")\n",
    "#plt.savefig('../images/top_10_lt4');"
   ]
  },
  {
   "cell_type": "markdown",
   "id": "974d6fa1-974d-4d39-a83c-b0a9119e632d",
   "metadata": {},
   "source": [
    "With all our features engineered in various ways, let's store them and fit them into various models to see what results we can produce.<br />\n",
    "Recall that with an unbalanced dataset, our goal is to get strong recall, precision and F1 scores."
   ]
  },
  {
   "cell_type": "code",
   "execution_count": 423,
   "id": "af766d1f-b01f-4d07-a6e5-f0f4c4c01b66",
   "metadata": {},
   "outputs": [],
   "source": [
    "# saving engineered train test splits for modeling\n",
    "stored_data['X_train_cvec'] = X_train_cvec\n",
    "stored_data['X_test_cvec'] = X_test_cvec\n",
    "stored_data['X_train_cvec2'] = X_train_cvec2\n",
    "stored_data['X_test_cvec2'] = X_test_cvec2\n",
    "stored_data['X_train_cvec3'] = X_train_cvec3\n",
    "stored_data['X_test_cvec3'] = X_test_cvec3\n",
    "stored_data['X_train_cvec4'] = X_train_cvec4\n",
    "stored_data['X_test_cvec4'] = X_test_cvec4\n",
    "\n",
    "stored_data['X_train_tf'] = X_train_tf\n",
    "stored_data['X_test_tf'] = X_test_tf\n",
    "stored_data['X_train_tf2'] = X_train_tf2\n",
    "stored_data['X_test_tf2'] = X_test_tf2\n",
    "stored_data['X_train_tf3'] = X_train_tf3\n",
    "stored_data['X_test_tf3'] = X_test_tf3\n",
    "stored_data['X_train_tf4'] = X_train_tf4\n",
    "stored_data['X_test_tf4'] = X_test_tf4\n",
    "stored_data['X_train_tf5'] = X_train_tf5\n",
    "stored_data['X_test_tf5'] = X_test_tf5\n",
    "\n",
    "stored_data['X_train_lt'] = X_train_lt\n",
    "stored_data['X_test_lt'] = X_test_lt\n",
    "stored_data['X_train_lt2'] = X_train_lt2\n",
    "stored_data['X_test_lt2'] = X_test_lt2\n",
    "stored_data['X_train_lt4'] = X_train_lt4\n",
    "stored_data['X_test_lt4'] = X_test_lt4\n",
    "\n",
    "stored_data['y_train_encoded'] = y_train_encoded\n",
    "stored_data['y_test_encoded'] = y_test_encoded"
   ]
  },
  {
   "cell_type": "code",
   "execution_count": 424,
   "id": "80189a4c-10f2-47df-b06f-caa1d0b8161f",
   "metadata": {},
   "outputs": [
    {
     "name": "stdout",
     "output_type": "stream",
     "text": [
      "Stored 'stored_data' (dict)\n"
     ]
    }
   ],
   "source": [
    "%store stored_data\n",
    "del stored_data"
   ]
  }
 ],
 "metadata": {
  "kernelspec": {
   "display_name": "Python 3 (ipykernel)",
   "language": "python",
   "name": "python3"
  },
  "language_info": {
   "codemirror_mode": {
    "name": "ipython",
    "version": 3
   },
   "file_extension": ".py",
   "mimetype": "text/x-python",
   "name": "python",
   "nbconvert_exporter": "python",
   "pygments_lexer": "ipython3",
   "version": "3.9.7"
  }
 },
 "nbformat": 4,
 "nbformat_minor": 5
}
