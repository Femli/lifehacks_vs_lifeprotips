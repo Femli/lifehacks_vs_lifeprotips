{
 "cells": [
  {
   "cell_type": "markdown",
   "id": "858fb400-2215-4cae-b0d2-e16ab075a881",
   "metadata": {},
   "source": [
    "# Data Wrangling"
   ]
  },
  {
   "cell_type": "markdown",
   "id": "cbd1f5f8-c578-4423-8bb7-f42172dc0d4d",
   "metadata": {},
   "source": [
    "## Problem Statements"
   ]
  },
  {
   "cell_type": "markdown",
   "id": "d38851fb-810a-43c6-86f6-0fdeccb0a7c7",
   "metadata": {},
   "source": [
    "> 1. Develop a classification model that can predict whether a reddit post belongs to the subreddits r/LifeProTips or r/Lifehacks, based on the content of the post\n",
    ">    - Furthermore, optimize accuracy and precision\n",
    "\n",
    "> 2. Identify the top 15 keywords that distinguish r/LifeProTips and r/Lifehacks\n",
    "\n",
    "> 3. Determine the most frequent content posted in each subbreddit, and provide a recommendation that is most appropriate to new reddit users\n",
    "\n",
    "> 4. Insights on what makes a most popular, and unpopular, in each subbreddit\n",
    ">    - Based on self-texts only"
   ]
  },
  {
   "cell_type": "markdown",
   "id": "f9a43b8e-8b4a-4215-bd69-9f383be8b993",
   "metadata": {},
   "source": [
    "## Imports"
   ]
  },
  {
   "cell_type": "code",
   "execution_count": 165,
   "id": "2162d58b-2d98-4bb8-9b83-2ac5553dcda7",
   "metadata": {},
   "outputs": [],
   "source": [
    "%run 00_Workflow_Functions.ipynb import api_call, data_wrangling"
   ]
  },
  {
   "cell_type": "code",
   "execution_count": 150,
   "id": "c8abd2d9-43e1-4692-a56b-c9acdaa1e15f",
   "metadata": {},
   "outputs": [],
   "source": [
    "import pandas as pd\n",
    "import requests\n",
    "from collections import defaultdict"
   ]
  },
  {
   "cell_type": "markdown",
   "id": "2391f83c-b784-4752-b722-60c895ada890",
   "metadata": {},
   "source": [
    "## Preliminaries"
   ]
  },
  {
   "cell_type": "code",
   "execution_count": 4,
   "id": "b7d1f358-a222-476b-b150-8e92c1d4bb0a",
   "metadata": {},
   "outputs": [],
   "source": [
    "# lifehacks\n",
    "lhs_url = \"https://api.pushshift.io/reddit/search/submission/?subreddit=lifehacks&metadata=true&size=0\"\n",
    "lht_url = \"https://api.pushshift.io/reddit/search/submission/?subreddit=lifehacks&metadata=true&size=0&is_self=true\"\n",
    "\n",
    "# lifeprotips\n",
    "lpts_url = \"https://api.pushshift.io/reddit/search/submission/?subreddit=LifeProTips&metadata=true&size=0\"\n",
    "lptt_url = \"https://api.pushshift.io/reddit/search/submission/?subreddit=LifeProTips&metadata=true&size=0&is_self=true\""
   ]
  },
  {
   "cell_type": "code",
   "execution_count": 5,
   "id": "32660d53-9068-4212-aa47-0c32b7a3fc35",
   "metadata": {},
   "outputs": [
    {
     "name": "stdout",
     "output_type": "stream",
     "text": [
      "200 200\n",
      "200 200\n"
     ]
    }
   ],
   "source": [
    "res_lhs = requests.get(lhs_url)\n",
    "res_lht = requests.get(lht_url)\n",
    "res_lpts = requests.get(lpts_url)\n",
    "res_lptt = requests.get(lptt_url)\n",
    "\n",
    "print(res_lhs.status_code, res_lht.status_code)\n",
    "print(res_lpts.status_code, res_lptt.status_code)"
   ]
  },
  {
   "cell_type": "markdown",
   "id": "0622e598-b207-4295-a23b-e9d828a88dd2",
   "metadata": {},
   "source": [
    "All requests successful."
   ]
  },
  {
   "cell_type": "code",
   "execution_count": 6,
   "id": "fb1df2c9-8e94-4fdf-9daa-6f0aa488e2df",
   "metadata": {},
   "outputs": [
    {
     "name": "stdout",
     "output_type": "stream",
     "text": [
      "LifeHacks Total Submissions: 81787\n",
      "LifeHacks Total Self-Text Posts: 23266\n",
      "LifeProTips Total Submissions: 555477\n",
      "LifeProTips Total Self-Text Posts: 534475\n"
     ]
    }
   ],
   "source": [
    "lhs_count = res_lhs.json()['metadata']['total_results']\n",
    "lht_count = res_lht.json()['metadata']['total_results']\n",
    "\n",
    "lpts_count = res_lpts.json()['metadata']['total_results']\n",
    "lptt_count = res_lptt.json()['metadata']['total_results']\n",
    "\n",
    "print(f\"LifeHacks Total Submissions: {lhs_count}\\nLifeHacks Total Self-Text Posts: {lht_count}\")\n",
    "print(f\"LifeProTips Total Submissions: {lpts_count}\\nLifeProTips Total Self-Text Posts: {lptt_count}\")"
   ]
  },
  {
   "cell_type": "markdown",
   "id": "8a82ced8-cbdf-44f1-be99-ba59f15dfe4d",
   "metadata": {},
   "source": [
    "## Data Wrangling - r/Lifehacks"
   ]
  },
  {
   "cell_type": "code",
   "execution_count": 182,
   "id": "aa359293-f0fd-4424-ae9b-a5d119c39247",
   "metadata": {},
   "outputs": [],
   "source": [
    "# Content we care about:\n",
    "keys = ['author', 'author_fullname', 'created_utc', 'selftext', 'title', 'subreddit', 'is_video', 'num_comments', 'score', 'upvote_ratio']\n",
    "\n",
    "# instantiate new dict to capture api data\n",
    "lh_data = defaultdict(list)"
   ]
  },
  {
   "cell_type": "code",
   "execution_count": 163,
   "id": "5f171c76-4a6a-456b-94a5-254c620475c5",
   "metadata": {},
   "outputs": [],
   "source": [
    "# making api call\n",
    "lf_call = api_call('lifehacks', 100)"
   ]
  },
  {
   "cell_type": "code",
   "execution_count": 164,
   "id": "c93426f5-3c11-4d62-89f4-687274e03879",
   "metadata": {},
   "outputs": [
    {
     "data": {
      "text/plain": [
       "100"
      ]
     },
     "execution_count": 164,
     "metadata": {},
     "output_type": "execute_result"
    }
   ],
   "source": [
    "len(lf_call) # we could only request data 100 submissions at a time"
   ]
  },
  {
   "cell_type": "code",
   "execution_count": 179,
   "id": "bf5a9aae-7020-436f-8b9a-b66dfc12492e",
   "metadata": {},
   "outputs": [],
   "source": [
    "# wrangling api call into a dictionary that will be used on a dataframe\n",
    "data = data_wrangling(lh_data, keys, lf_call)"
   ]
  },
  {
   "cell_type": "code",
   "execution_count": 184,
   "id": "7b744887-9f80-4938-a07e-ff04ace3f856",
   "metadata": {},
   "outputs": [
    {
     "data": {
      "text/plain": [
       "[]"
      ]
     },
     "execution_count": 184,
     "metadata": {},
     "output_type": "execute_result"
    }
   ],
   "source": [
    "# checking if any data was not capture in the api call\n",
    "data['error_log']"
   ]
  },
  {
   "cell_type": "code",
   "execution_count": 180,
   "id": "1cfd06df-68f6-46ef-897a-aa73c1054de1",
   "metadata": {},
   "outputs": [
    {
     "data": {
      "text/html": [
       "<div>\n",
       "<style scoped>\n",
       "    .dataframe tbody tr th:only-of-type {\n",
       "        vertical-align: middle;\n",
       "    }\n",
       "\n",
       "    .dataframe tbody tr th {\n",
       "        vertical-align: top;\n",
       "    }\n",
       "\n",
       "    .dataframe thead th {\n",
       "        text-align: right;\n",
       "    }\n",
       "</style>\n",
       "<table border=\"1\" class=\"dataframe\">\n",
       "  <thead>\n",
       "    <tr style=\"text-align: right;\">\n",
       "      <th></th>\n",
       "      <th>author</th>\n",
       "      <th>author_fullname</th>\n",
       "      <th>created_utc</th>\n",
       "      <th>selftext</th>\n",
       "      <th>title</th>\n",
       "      <th>subreddit</th>\n",
       "      <th>is_video</th>\n",
       "      <th>num_comments</th>\n",
       "      <th>score</th>\n",
       "      <th>upvote_ratio</th>\n",
       "    </tr>\n",
       "  </thead>\n",
       "  <tbody>\n",
       "    <tr>\n",
       "      <th>95</th>\n",
       "      <td>Panzerschwein45</td>\n",
       "      <td>t2_72ju8ai7</td>\n",
       "      <td>1650824490</td>\n",
       "      <td></td>\n",
       "      <td>Ad-Hoc Smoked Tuna!</td>\n",
       "      <td>lifehacks</td>\n",
       "      <td>False</td>\n",
       "      <td>0</td>\n",
       "      <td>1</td>\n",
       "      <td>1.00</td>\n",
       "    </tr>\n",
       "    <tr>\n",
       "      <th>96</th>\n",
       "      <td>Not_your_hoe_</td>\n",
       "      <td>t2_g37s4cyh</td>\n",
       "      <td>1650823542</td>\n",
       "      <td>I have an important upcoming examination in 2 ...</td>\n",
       "      <td>how can i make an efficient study routine?</td>\n",
       "      <td>lifehacks</td>\n",
       "      <td>False</td>\n",
       "      <td>0</td>\n",
       "      <td>1</td>\n",
       "      <td>0.99</td>\n",
       "    </tr>\n",
       "    <tr>\n",
       "      <th>97</th>\n",
       "      <td>AlternativeAgile747</td>\n",
       "      <td>t2_m57ssorg</td>\n",
       "      <td>1650823516</td>\n",
       "      <td>[removed]</td>\n",
       "      <td>Top 50 Law Schools In The USA #Best Law School...</td>\n",
       "      <td>lifehacks</td>\n",
       "      <td>False</td>\n",
       "      <td>0</td>\n",
       "      <td>1</td>\n",
       "      <td>1.00</td>\n",
       "    </tr>\n",
       "    <tr>\n",
       "      <th>98</th>\n",
       "      <td>jamesgang007</td>\n",
       "      <td>t2_bus45</td>\n",
       "      <td>1650821923</td>\n",
       "      <td></td>\n",
       "      <td>Yeti cocktail life hack</td>\n",
       "      <td>lifehacks</td>\n",
       "      <td>False</td>\n",
       "      <td>0</td>\n",
       "      <td>2</td>\n",
       "      <td>1.00</td>\n",
       "    </tr>\n",
       "    <tr>\n",
       "      <th>99</th>\n",
       "      <td>MustacheMufasa</td>\n",
       "      <td>t2_m6py7kop</td>\n",
       "      <td>1650821565</td>\n",
       "      <td>About 2/3 of ovens made in the past ten years ...</td>\n",
       "      <td>Hack your oven to use it as an air fryer</td>\n",
       "      <td>lifehacks</td>\n",
       "      <td>False</td>\n",
       "      <td>0</td>\n",
       "      <td>1</td>\n",
       "      <td>1.00</td>\n",
       "    </tr>\n",
       "  </tbody>\n",
       "</table>\n",
       "</div>"
      ],
      "text/plain": [
       "                 author author_fullname  created_utc  \\\n",
       "95      Panzerschwein45     t2_72ju8ai7   1650824490   \n",
       "96        Not_your_hoe_     t2_g37s4cyh   1650823542   \n",
       "97  AlternativeAgile747     t2_m57ssorg   1650823516   \n",
       "98         jamesgang007        t2_bus45   1650821923   \n",
       "99       MustacheMufasa     t2_m6py7kop   1650821565   \n",
       "\n",
       "                                             selftext  \\\n",
       "95                                                      \n",
       "96  I have an important upcoming examination in 2 ...   \n",
       "97                                          [removed]   \n",
       "98                                                      \n",
       "99  About 2/3 of ovens made in the past ten years ...   \n",
       "\n",
       "                                                title  subreddit  is_video  \\\n",
       "95                                Ad-Hoc Smoked Tuna!  lifehacks     False   \n",
       "96         how can i make an efficient study routine?  lifehacks     False   \n",
       "97  Top 50 Law Schools In The USA #Best Law School...  lifehacks     False   \n",
       "98                            Yeti cocktail life hack  lifehacks     False   \n",
       "99           Hack your oven to use it as an air fryer  lifehacks     False   \n",
       "\n",
       "    num_comments  score  upvote_ratio  \n",
       "95             0      1          1.00  \n",
       "96             0      1          0.99  \n",
       "97             0      1          1.00  \n",
       "98             0      2          1.00  \n",
       "99             0      1          1.00  "
      ]
     },
     "execution_count": 180,
     "metadata": {},
     "output_type": "execute_result"
    }
   ],
   "source": [
    "# api data dictionary to dataframe\n",
    "df = pd.DataFrame(data['data'])\n",
    "df.tail()"
   ]
  },
  {
   "cell_type": "markdown",
   "id": "aa82b922-8694-4074-809a-179075a27e90",
   "metadata": {},
   "source": [
    "A small trick here. We will use the submission time of the last post we collected, and wrangle more data that predates that submission. We will then append that data to the dataframe, until we have all the data we need. The process for that is below."
   ]
  },
  {
   "cell_type": "code",
   "execution_count": 186,
   "id": "96eb2b8c-8289-423b-9143-7c0831b19949",
   "metadata": {},
   "outputs": [
    {
     "data": {
      "text/plain": [
       "1650821565"
      ]
     },
     "execution_count": 186,
     "metadata": {},
     "output_type": "execute_result"
    }
   ],
   "source": [
    "# last collected submission\n",
    "last_utc = df.loc[len(df) - 1, 'created_utc']\n",
    "last_utc"
   ]
  },
  {
   "cell_type": "markdown",
   "id": "9f7e0be3-3af3-4b01-9e2a-da9ec0d41a02",
   "metadata": {},
   "source": [
    "----"
   ]
  },
  {
   "cell_type": "markdown",
   "id": "cfdb4454-52b6-4323-aa0f-fe9f283c829e",
   "metadata": {},
   "source": [
    "Here we continue making api calls, with new data each time (predating the last data that is collected each time). We will collect at least 1000 rows of data."
   ]
  },
  {
   "cell_type": "code",
   "execution_count": 188,
   "id": "4be82681-9a1d-4407-b5e8-ed4f2c9d8e1c",
   "metadata": {},
   "outputs": [],
   "source": [
    "# continue wrangling data until a certain size is met\n",
    "while len(df) < 1000:\n",
    "    try:\n",
    "        lf_call = api_call('lifehacks', 100, last_utc)\n",
    "    except:\n",
    "        print(\"Data wrangling failed.\")\n",
    "        break\n",
    "    \n",
    "    data = data_wrangling(lh_data, keys, lf_call)\n",
    "    df = pd.DataFrame(data['data'])\n",
    "    last_utc = df.loc[len(df) - 1, 'created_utc']"
   ]
  },
  {
   "cell_type": "code",
   "execution_count": 189,
   "id": "8802b7ed-3194-44a4-a684-3180dd1de90c",
   "metadata": {},
   "outputs": [
    {
     "data": {
      "text/plain": [
       "(1099, 10)"
      ]
     },
     "execution_count": 189,
     "metadata": {},
     "output_type": "execute_result"
    }
   ],
   "source": [
    "# verifying data was collected\n",
    "df.shape"
   ]
  },
  {
   "cell_type": "code",
   "execution_count": 190,
   "id": "454443ef-147b-4edb-8d1f-447d80d8e7e4",
   "metadata": {},
   "outputs": [
    {
     "name": "stdout",
     "output_type": "stream",
     "text": [
      "<class 'pandas.core.frame.DataFrame'>\n",
      "RangeIndex: 1099 entries, 0 to 1098\n",
      "Data columns (total 10 columns):\n",
      " #   Column           Non-Null Count  Dtype  \n",
      "---  ------           --------------  -----  \n",
      " 0   author           1099 non-null   object \n",
      " 1   author_fullname  1095 non-null   object \n",
      " 2   created_utc      1099 non-null   int64  \n",
      " 3   selftext         1097 non-null   object \n",
      " 4   title            1099 non-null   object \n",
      " 5   subreddit        1099 non-null   object \n",
      " 6   is_video         1099 non-null   bool   \n",
      " 7   num_comments     1099 non-null   int64  \n",
      " 8   score            1099 non-null   int64  \n",
      " 9   upvote_ratio     1099 non-null   float64\n",
      "dtypes: bool(1), float64(1), int64(3), object(5)\n",
      "memory usage: 78.5+ KB\n"
     ]
    }
   ],
   "source": [
    "df.info()"
   ]
  },
  {
   "cell_type": "code",
   "execution_count": 191,
   "id": "e48ba811-6abd-4590-8293-0974197ba56e",
   "metadata": {},
   "outputs": [
    {
     "data": {
      "text/plain": [
       "author             0\n",
       "author_fullname    4\n",
       "created_utc        0\n",
       "selftext           2\n",
       "title              0\n",
       "subreddit          0\n",
       "is_video           0\n",
       "num_comments       0\n",
       "score              0\n",
       "upvote_ratio       0\n",
       "dtype: int64"
      ]
     },
     "execution_count": 191,
     "metadata": {},
     "output_type": "execute_result"
    }
   ],
   "source": [
    "df.isna().sum()"
   ]
  },
  {
   "cell_type": "markdown",
   "id": "49ea398d-a22a-4cf0-bdb5-c49dcfe167d4",
   "metadata": {},
   "source": [
    "Looks like we have some missing data. Since it's a very small amount, we will drop it now."
   ]
  },
  {
   "cell_type": "code",
   "execution_count": 192,
   "id": "34e684a7-4d2b-4d56-a7cb-92a8f7e37b49",
   "metadata": {},
   "outputs": [
    {
     "data": {
      "text/plain": [
       "1099"
      ]
     },
     "execution_count": 192,
     "metadata": {},
     "output_type": "execute_result"
    }
   ],
   "source": [
    "# checking if our data is unique based on submission times\n",
    "len(np.unique(df['created_utc']))"
   ]
  },
  {
   "cell_type": "markdown",
   "id": "679fdab0-abaf-4d73-95e2-bf6584f8afc9",
   "metadata": {},
   "source": [
    "All row data has different time of submission, which is a strong suggestion all our data are unique submissions."
   ]
  },
  {
   "cell_type": "code",
   "execution_count": null,
   "id": "069e8f8d-aafb-4842-b72d-e4b4ae3e8bb8",
   "metadata": {},
   "outputs": [],
   "source": []
  }
 ],
 "metadata": {
  "kernelspec": {
   "display_name": "Python 3 (ipykernel)",
   "language": "python",
   "name": "python3"
  },
  "language_info": {
   "codemirror_mode": {
    "name": "ipython",
    "version": 3
   },
   "file_extension": ".py",
   "mimetype": "text/x-python",
   "name": "python",
   "nbconvert_exporter": "python",
   "pygments_lexer": "ipython3",
   "version": "3.9.7"
  }
 },
 "nbformat": 4,
 "nbformat_minor": 5
}
