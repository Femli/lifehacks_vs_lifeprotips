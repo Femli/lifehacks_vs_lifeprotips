{
 "cells": [
  {
   "cell_type": "markdown",
   "id": "858fb400-2215-4cae-b0d2-e16ab075a881",
   "metadata": {},
   "source": [
    "# Data Wrangling"
   ]
  },
  {
   "cell_type": "markdown",
   "id": "cbd1f5f8-c578-4423-8bb7-f42172dc0d4d",
   "metadata": {},
   "source": [
    "## Problem Statements"
   ]
  },
  {
   "cell_type": "markdown",
   "id": "d38851fb-810a-43c6-86f6-0fdeccb0a7c7",
   "metadata": {},
   "source": [
    "> 1. Develop a classification model that can predict whether a reddit post belongs to the subreddits r/LifeProTips or r/Lifehacks, based on the content of the post\n",
    ">    - Furthermore, optimize accuracy and precision\n",
    "\n",
    "> 2. Identify the top 15 keywords that distinguish r/LifeProTips and r/Lifehacks\n",
    "\n",
    "> 3. Determine the most frequent content posted in each subbreddit, and provide a recommendation that is most appropriate to new reddit users\n",
    "\n",
    "> 4. Insights on what makes a most popular, and unpopular, in each subbreddit\n",
    ">    - Based on self-texts only"
   ]
  },
  {
   "cell_type": "markdown",
   "id": "f9a43b8e-8b4a-4215-bd69-9f383be8b993",
   "metadata": {},
   "source": [
    "## Imports"
   ]
  },
  {
   "cell_type": "code",
   "execution_count": 1,
   "id": "2162d58b-2d98-4bb8-9b83-2ac5553dcda7",
   "metadata": {},
   "outputs": [],
   "source": [
    "%run 00_Workflow_Functions.ipynb import api_call, data_wrangling"
   ]
  },
  {
   "cell_type": "code",
   "execution_count": 2,
   "id": "c8abd2d9-43e1-4692-a56b-c9acdaa1e15f",
   "metadata": {},
   "outputs": [],
   "source": [
    "import pandas as pd\n",
    "import requests\n",
    "from collections import defaultdict"
   ]
  },
  {
   "cell_type": "markdown",
   "id": "2391f83c-b784-4752-b722-60c895ada890",
   "metadata": {},
   "source": [
    "## Preliminaries"
   ]
  },
  {
   "cell_type": "code",
   "execution_count": 3,
   "id": "b7d1f358-a222-476b-b150-8e92c1d4bb0a",
   "metadata": {},
   "outputs": [],
   "source": [
    "# lifehacks\n",
    "lhs_url = \"https://api.pushshift.io/reddit/search/submission/?subreddit=lifehacks&metadata=true&size=0\"\n",
    "lht_url = \"https://api.pushshift.io/reddit/search/submission/?subreddit=lifehacks&metadata=true&size=0&is_self=true\"\n",
    "\n",
    "# lifeprotips\n",
    "lpts_url = \"https://api.pushshift.io/reddit/search/submission/?subreddit=LifeProTips&metadata=true&size=0\"\n",
    "lptt_url = \"https://api.pushshift.io/reddit/search/submission/?subreddit=LifeProTips&metadata=true&size=0&is_self=true\""
   ]
  },
  {
   "cell_type": "code",
   "execution_count": 4,
   "id": "32660d53-9068-4212-aa47-0c32b7a3fc35",
   "metadata": {},
   "outputs": [
    {
     "name": "stdout",
     "output_type": "stream",
     "text": [
      "200 200\n",
      "200 200\n"
     ]
    }
   ],
   "source": [
    "res_lhs = requests.get(lhs_url)\n",
    "res_lht = requests.get(lht_url)\n",
    "res_lpts = requests.get(lpts_url)\n",
    "res_lptt = requests.get(lptt_url)\n",
    "\n",
    "print(res_lhs.status_code, res_lht.status_code)\n",
    "print(res_lpts.status_code, res_lptt.status_code)"
   ]
  },
  {
   "cell_type": "markdown",
   "id": "0622e598-b207-4295-a23b-e9d828a88dd2",
   "metadata": {},
   "source": [
    "All requests successful."
   ]
  },
  {
   "cell_type": "code",
   "execution_count": 5,
   "id": "fb1df2c9-8e94-4fdf-9daa-6f0aa488e2df",
   "metadata": {},
   "outputs": [
    {
     "name": "stdout",
     "output_type": "stream",
     "text": [
      "LifeHacks Total Submissions: 81814\n",
      "LifeHacks Total Self-Text Posts: 23275\n",
      "LifeProTips Total Submissions: 555600\n",
      "LifeProTips Total Self-Text Posts: 534598\n"
     ]
    }
   ],
   "source": [
    "lhs_count = res_lhs.json()['metadata']['total_results']\n",
    "lht_count = res_lht.json()['metadata']['total_results']\n",
    "\n",
    "lpts_count = res_lpts.json()['metadata']['total_results']\n",
    "lptt_count = res_lptt.json()['metadata']['total_results']\n",
    "\n",
    "print(f\"LifeHacks Total Submissions: {lhs_count}\\nLifeHacks Total Self-Text Posts: {lht_count}\")\n",
    "print(f\"LifeProTips Total Submissions: {lpts_count}\\nLifeProTips Total Self-Text Posts: {lptt_count}\")"
   ]
  },
  {
   "cell_type": "markdown",
   "id": "8a82ced8-cbdf-44f1-be99-ba59f15dfe4d",
   "metadata": {},
   "source": [
    "## Data Wrangling - r/Lifehacks"
   ]
  },
  {
   "cell_type": "code",
   "execution_count": 6,
   "id": "aa359293-f0fd-4424-ae9b-a5d119c39247",
   "metadata": {},
   "outputs": [],
   "source": [
    "# Content we care about:\n",
    "keys = ['author', 'author_fullname', 'created_utc', 'selftext', 'title', 'subreddit', 'is_video', 'num_comments', 'score', 'upvote_ratio']\n",
    "\n",
    "# instantiate new dict to capture api data\n",
    "lh_data = defaultdict(list)"
   ]
  },
  {
   "cell_type": "code",
   "execution_count": 7,
   "id": "5f171c76-4a6a-456b-94a5-254c620475c5",
   "metadata": {},
   "outputs": [],
   "source": [
    "# making api call\n",
    "lh_call = api_call('lifehacks', 100)"
   ]
  },
  {
   "cell_type": "code",
   "execution_count": 8,
   "id": "c93426f5-3c11-4d62-89f4-687274e03879",
   "metadata": {},
   "outputs": [
    {
     "data": {
      "text/plain": [
       "100"
      ]
     },
     "execution_count": 8,
     "metadata": {},
     "output_type": "execute_result"
    }
   ],
   "source": [
    "len(lh_call) # we could only request data 100 submissions at a time"
   ]
  },
  {
   "cell_type": "code",
   "execution_count": 9,
   "id": "bf5a9aae-7020-436f-8b9a-b66dfc12492e",
   "metadata": {},
   "outputs": [],
   "source": [
    "# wrangling api call into a dictionary that will be used on a dataframe\n",
    "data = data_wrangling(lh_data, keys, lh_call)"
   ]
  },
  {
   "cell_type": "code",
   "execution_count": 10,
   "id": "7b744887-9f80-4938-a07e-ff04ace3f856",
   "metadata": {},
   "outputs": [
    {
     "data": {
      "text/plain": [
       "[]"
      ]
     },
     "execution_count": 10,
     "metadata": {},
     "output_type": "execute_result"
    }
   ],
   "source": [
    "# checking if any data was not capture in the api call\n",
    "data['error_log']"
   ]
  },
  {
   "cell_type": "code",
   "execution_count": 11,
   "id": "1cfd06df-68f6-46ef-897a-aa73c1054de1",
   "metadata": {},
   "outputs": [
    {
     "data": {
      "text/html": [
       "<div>\n",
       "<style scoped>\n",
       "    .dataframe tbody tr th:only-of-type {\n",
       "        vertical-align: middle;\n",
       "    }\n",
       "\n",
       "    .dataframe tbody tr th {\n",
       "        vertical-align: top;\n",
       "    }\n",
       "\n",
       "    .dataframe thead th {\n",
       "        text-align: right;\n",
       "    }\n",
       "</style>\n",
       "<table border=\"1\" class=\"dataframe\">\n",
       "  <thead>\n",
       "    <tr style=\"text-align: right;\">\n",
       "      <th></th>\n",
       "      <th>author</th>\n",
       "      <th>author_fullname</th>\n",
       "      <th>created_utc</th>\n",
       "      <th>selftext</th>\n",
       "      <th>title</th>\n",
       "      <th>subreddit</th>\n",
       "      <th>is_video</th>\n",
       "      <th>num_comments</th>\n",
       "      <th>score</th>\n",
       "      <th>upvote_ratio</th>\n",
       "    </tr>\n",
       "  </thead>\n",
       "  <tbody>\n",
       "    <tr>\n",
       "      <th>95</th>\n",
       "      <td>YoMammasAHo420</td>\n",
       "      <td>t2_fq0c3sa0</td>\n",
       "      <td>1650895181</td>\n",
       "      <td></td>\n",
       "      <td>The Ultimate Life Hack From Norm Macdonald</td>\n",
       "      <td>lifehacks</td>\n",
       "      <td>False</td>\n",
       "      <td>0</td>\n",
       "      <td>1</td>\n",
       "      <td>1.0</td>\n",
       "    </tr>\n",
       "    <tr>\n",
       "      <th>96</th>\n",
       "      <td>Kylanv</td>\n",
       "      <td>t2_fckvhxug</td>\n",
       "      <td>1650891971</td>\n",
       "      <td></td>\n",
       "      <td>20 Hilarious Comics By ‘Bits &amp;amp; Pieces’ Wit...</td>\n",
       "      <td>lifehacks</td>\n",
       "      <td>False</td>\n",
       "      <td>0</td>\n",
       "      <td>1</td>\n",
       "      <td>1.0</td>\n",
       "    </tr>\n",
       "    <tr>\n",
       "      <th>97</th>\n",
       "      <td>incutech</td>\n",
       "      <td>t2_9zs2u</td>\n",
       "      <td>1650891393</td>\n",
       "      <td></td>\n",
       "      <td>when your mom refuses to quit driving after he...</td>\n",
       "      <td>lifehacks</td>\n",
       "      <td>False</td>\n",
       "      <td>0</td>\n",
       "      <td>1</td>\n",
       "      <td>1.0</td>\n",
       "    </tr>\n",
       "    <tr>\n",
       "      <th>98</th>\n",
       "      <td>Skorobogatiji</td>\n",
       "      <td>t2_y98z7</td>\n",
       "      <td>1650887003</td>\n",
       "      <td></td>\n",
       "      <td>Do you know that dogs can smell serious diseas...</td>\n",
       "      <td>lifehacks</td>\n",
       "      <td>False</td>\n",
       "      <td>0</td>\n",
       "      <td>1</td>\n",
       "      <td>1.0</td>\n",
       "    </tr>\n",
       "    <tr>\n",
       "      <th>99</th>\n",
       "      <td>Apprehensive_Toe8550</td>\n",
       "      <td>t2_4gjyet18</td>\n",
       "      <td>1650885527</td>\n",
       "      <td>[removed]</td>\n",
       "      <td>For every upvote and comment I will give a lif...</td>\n",
       "      <td>lifehacks</td>\n",
       "      <td>False</td>\n",
       "      <td>0</td>\n",
       "      <td>1</td>\n",
       "      <td>1.0</td>\n",
       "    </tr>\n",
       "  </tbody>\n",
       "</table>\n",
       "</div>"
      ],
      "text/plain": [
       "                  author author_fullname  created_utc   selftext  \\\n",
       "95        YoMammasAHo420     t2_fq0c3sa0   1650895181              \n",
       "96                Kylanv     t2_fckvhxug   1650891971              \n",
       "97              incutech        t2_9zs2u   1650891393              \n",
       "98         Skorobogatiji        t2_y98z7   1650887003              \n",
       "99  Apprehensive_Toe8550     t2_4gjyet18   1650885527  [removed]   \n",
       "\n",
       "                                                title  subreddit  is_video  \\\n",
       "95         The Ultimate Life Hack From Norm Macdonald  lifehacks     False   \n",
       "96  20 Hilarious Comics By ‘Bits &amp; Pieces’ Wit...  lifehacks     False   \n",
       "97  when your mom refuses to quit driving after he...  lifehacks     False   \n",
       "98  Do you know that dogs can smell serious diseas...  lifehacks     False   \n",
       "99  For every upvote and comment I will give a lif...  lifehacks     False   \n",
       "\n",
       "    num_comments  score  upvote_ratio  \n",
       "95             0      1           1.0  \n",
       "96             0      1           1.0  \n",
       "97             0      1           1.0  \n",
       "98             0      1           1.0  \n",
       "99             0      1           1.0  "
      ]
     },
     "execution_count": 11,
     "metadata": {},
     "output_type": "execute_result"
    }
   ],
   "source": [
    "# api data dictionary to dataframe\n",
    "df_lh = pd.DataFrame(data['data'])\n",
    "df_lh.tail()"
   ]
  },
  {
   "cell_type": "markdown",
   "id": "aa82b922-8694-4074-809a-179075a27e90",
   "metadata": {},
   "source": [
    "A small trick here. We will use the submission time of the last post we collected, and wrangle more data that predates that submission. We will then append that data to the dataframe, until we have all the data we need. The process for that is below."
   ]
  },
  {
   "cell_type": "code",
   "execution_count": 12,
   "id": "96eb2b8c-8289-423b-9143-7c0831b19949",
   "metadata": {},
   "outputs": [
    {
     "data": {
      "text/plain": [
       "1650885527"
      ]
     },
     "execution_count": 12,
     "metadata": {},
     "output_type": "execute_result"
    }
   ],
   "source": [
    "# last collected submission\n",
    "last_utc = df_lh.loc[len(df_lh) - 1, 'created_utc']\n",
    "last_utc"
   ]
  },
  {
   "cell_type": "markdown",
   "id": "cfdb4454-52b6-4323-aa0f-fe9f283c829e",
   "metadata": {},
   "source": [
    "Here we continue making api calls, with new data each time (predating the last data that is collected each time). We will collect at least 1000 rows of data."
   ]
  },
  {
   "cell_type": "code",
   "execution_count": 13,
   "id": "4be82681-9a1d-4407-b5e8-ed4f2c9d8e1c",
   "metadata": {},
   "outputs": [],
   "source": [
    "# continue wrangling data until a certain size is met\n",
    "while len(df_lh) < 1000:\n",
    "    try:\n",
    "        lh_call = api_call('lifehacks', 100, last_utc)\n",
    "    except:\n",
    "        print(\"Data wrangling failed.\")\n",
    "        break\n",
    "    \n",
    "    data = data_wrangling(lh_data, keys, lh_call)\n",
    "    df_lh = pd.DataFrame(data['data'])\n",
    "    last_utc = df_lh.loc[len(df_lh) - 1, 'created_utc']"
   ]
  },
  {
   "cell_type": "code",
   "execution_count": 14,
   "id": "8802b7ed-3194-44a4-a684-3180dd1de90c",
   "metadata": {},
   "outputs": [
    {
     "data": {
      "text/plain": [
       "(1099, 10)"
      ]
     },
     "execution_count": 14,
     "metadata": {},
     "output_type": "execute_result"
    }
   ],
   "source": [
    "# verifying data was collected\n",
    "df_lh.shape"
   ]
  },
  {
   "cell_type": "code",
   "execution_count": 15,
   "id": "454443ef-147b-4edb-8d1f-447d80d8e7e4",
   "metadata": {},
   "outputs": [
    {
     "name": "stdout",
     "output_type": "stream",
     "text": [
      "<class 'pandas.core.frame.DataFrame'>\n",
      "RangeIndex: 1099 entries, 0 to 1098\n",
      "Data columns (total 10 columns):\n",
      " #   Column           Non-Null Count  Dtype  \n",
      "---  ------           --------------  -----  \n",
      " 0   author           1099 non-null   object \n",
      " 1   author_fullname  1095 non-null   object \n",
      " 2   created_utc      1099 non-null   int64  \n",
      " 3   selftext         1097 non-null   object \n",
      " 4   title            1099 non-null   object \n",
      " 5   subreddit        1099 non-null   object \n",
      " 6   is_video         1099 non-null   bool   \n",
      " 7   num_comments     1099 non-null   int64  \n",
      " 8   score            1099 non-null   int64  \n",
      " 9   upvote_ratio     1099 non-null   float64\n",
      "dtypes: bool(1), float64(1), int64(3), object(5)\n",
      "memory usage: 78.5+ KB\n"
     ]
    }
   ],
   "source": [
    "df_lh.info()"
   ]
  },
  {
   "cell_type": "code",
   "execution_count": 17,
   "id": "e48ba811-6abd-4590-8293-0974197ba56e",
   "metadata": {},
   "outputs": [
    {
     "data": {
      "text/plain": [
       "author             0\n",
       "author_fullname    4\n",
       "created_utc        0\n",
       "selftext           2\n",
       "title              0\n",
       "subreddit          0\n",
       "is_video           0\n",
       "num_comments       0\n",
       "score              0\n",
       "upvote_ratio       0\n",
       "dtype: int64"
      ]
     },
     "execution_count": 17,
     "metadata": {},
     "output_type": "execute_result"
    }
   ],
   "source": [
    "df_lh.isna().sum()"
   ]
  },
  {
   "cell_type": "markdown",
   "id": "49ea398d-a22a-4cf0-bdb5-c49dcfe167d4",
   "metadata": {},
   "source": [
    "Looks like we have some missing data. Since it's a very small amount, we will drop it now."
   ]
  },
  {
   "cell_type": "code",
   "execution_count": 19,
   "id": "ce312624-f81d-4321-89ee-4587a37df8c5",
   "metadata": {},
   "outputs": [],
   "source": [
    "# drop NAs\n",
    "df_lh = df_lh.dropna()"
   ]
  },
  {
   "cell_type": "code",
   "execution_count": 20,
   "id": "395c0bc7-688b-486c-8fe4-142622f1ff7b",
   "metadata": {},
   "outputs": [
    {
     "data": {
      "text/plain": [
       "1095"
      ]
     },
     "execution_count": 20,
     "metadata": {},
     "output_type": "execute_result"
    }
   ],
   "source": [
    "len(df_lh) #nunmber of rows"
   ]
  },
  {
   "cell_type": "code",
   "execution_count": 21,
   "id": "34e684a7-4d2b-4d56-a7cb-92a8f7e37b49",
   "metadata": {},
   "outputs": [
    {
     "data": {
      "text/plain": [
       "1095"
      ]
     },
     "execution_count": 21,
     "metadata": {},
     "output_type": "execute_result"
    }
   ],
   "source": [
    "# checking if our data is unique based on submission times\n",
    "len(np.unique(df_lh['created_utc']))"
   ]
  },
  {
   "cell_type": "markdown",
   "id": "679fdab0-abaf-4d73-95e2-bf6584f8afc9",
   "metadata": {},
   "source": [
    "All row data has different times of submission, which is a strong suggestion all our data are unique submissions."
   ]
  },
  {
   "cell_type": "code",
   "execution_count": 22,
   "id": "e9bf28dd-7fea-4289-9012-0b486837b127",
   "metadata": {},
   "outputs": [
    {
     "data": {
      "text/html": [
       "<div>\n",
       "<style scoped>\n",
       "    .dataframe tbody tr th:only-of-type {\n",
       "        vertical-align: middle;\n",
       "    }\n",
       "\n",
       "    .dataframe tbody tr th {\n",
       "        vertical-align: top;\n",
       "    }\n",
       "\n",
       "    .dataframe thead th {\n",
       "        text-align: right;\n",
       "    }\n",
       "</style>\n",
       "<table border=\"1\" class=\"dataframe\">\n",
       "  <thead>\n",
       "    <tr style=\"text-align: right;\">\n",
       "      <th></th>\n",
       "      <th>author</th>\n",
       "      <th>author_fullname</th>\n",
       "      <th>created_utc</th>\n",
       "      <th>selftext</th>\n",
       "      <th>title</th>\n",
       "      <th>subreddit</th>\n",
       "      <th>is_video</th>\n",
       "      <th>num_comments</th>\n",
       "      <th>score</th>\n",
       "      <th>upvote_ratio</th>\n",
       "    </tr>\n",
       "  </thead>\n",
       "  <tbody>\n",
       "    <tr>\n",
       "      <th>0</th>\n",
       "      <td>Cutesifer_101</td>\n",
       "      <td>t2_7zsy6pvt</td>\n",
       "      <td>1651176966</td>\n",
       "      <td>The damage wasn’t that bad other than the fact...</td>\n",
       "      <td>I spilled monster energy</td>\n",
       "      <td>lifehacks</td>\n",
       "      <td>False</td>\n",
       "      <td>0</td>\n",
       "      <td>1</td>\n",
       "      <td>1.0</td>\n",
       "    </tr>\n",
       "    <tr>\n",
       "      <th>1</th>\n",
       "      <td>Subtotalpoet</td>\n",
       "      <td>t2_dcvoz53</td>\n",
       "      <td>1651176676</td>\n",
       "      <td></td>\n",
       "      <td>Wife forgot ur favorite ice cream? Improvise, ...</td>\n",
       "      <td>lifehacks</td>\n",
       "      <td>False</td>\n",
       "      <td>0</td>\n",
       "      <td>1</td>\n",
       "      <td>1.0</td>\n",
       "    </tr>\n",
       "    <tr>\n",
       "      <th>2</th>\n",
       "      <td>amintowords</td>\n",
       "      <td>t2_racie</td>\n",
       "      <td>1651175651</td>\n",
       "      <td>Set an alarm for an hour after you're meant to...</td>\n",
       "      <td>How to remember to take tablets on time</td>\n",
       "      <td>lifehacks</td>\n",
       "      <td>False</td>\n",
       "      <td>0</td>\n",
       "      <td>1</td>\n",
       "      <td>1.0</td>\n",
       "    </tr>\n",
       "    <tr>\n",
       "      <th>3</th>\n",
       "      <td>rokokslot87</td>\n",
       "      <td>t2_kv1oregh</td>\n",
       "      <td>1651174857</td>\n",
       "      <td></td>\n",
       "      <td>SLOT ONLINE MENANG BESAR | SLOT DEPOSIT PULSA</td>\n",
       "      <td>lifehacks</td>\n",
       "      <td>False</td>\n",
       "      <td>0</td>\n",
       "      <td>1</td>\n",
       "      <td>1.0</td>\n",
       "    </tr>\n",
       "    <tr>\n",
       "      <th>4</th>\n",
       "      <td>Distinct_Expert_7648</td>\n",
       "      <td>t2_mczxpj82</td>\n",
       "      <td>1651174438</td>\n",
       "      <td>[removed]</td>\n",
       "      <td>Infertility Clinic in Pune</td>\n",
       "      <td>lifehacks</td>\n",
       "      <td>False</td>\n",
       "      <td>0</td>\n",
       "      <td>1</td>\n",
       "      <td>1.0</td>\n",
       "    </tr>\n",
       "  </tbody>\n",
       "</table>\n",
       "</div>"
      ],
      "text/plain": [
       "                 author author_fullname  created_utc  \\\n",
       "0         Cutesifer_101     t2_7zsy6pvt   1651176966   \n",
       "1          Subtotalpoet      t2_dcvoz53   1651176676   \n",
       "2           amintowords        t2_racie   1651175651   \n",
       "3           rokokslot87     t2_kv1oregh   1651174857   \n",
       "4  Distinct_Expert_7648     t2_mczxpj82   1651174438   \n",
       "\n",
       "                                            selftext  \\\n",
       "0  The damage wasn’t that bad other than the fact...   \n",
       "1                                                      \n",
       "2  Set an alarm for an hour after you're meant to...   \n",
       "3                                                      \n",
       "4                                          [removed]   \n",
       "\n",
       "                                               title  subreddit  is_video  \\\n",
       "0                           I spilled monster energy  lifehacks     False   \n",
       "1  Wife forgot ur favorite ice cream? Improvise, ...  lifehacks     False   \n",
       "2            How to remember to take tablets on time  lifehacks     False   \n",
       "3      SLOT ONLINE MENANG BESAR | SLOT DEPOSIT PULSA  lifehacks     False   \n",
       "4                         Infertility Clinic in Pune  lifehacks     False   \n",
       "\n",
       "   num_comments  score  upvote_ratio  \n",
       "0             0      1           1.0  \n",
       "1             0      1           1.0  \n",
       "2             0      1           1.0  \n",
       "3             0      1           1.0  \n",
       "4             0      1           1.0  "
      ]
     },
     "execution_count": 22,
     "metadata": {},
     "output_type": "execute_result"
    }
   ],
   "source": [
    "df_lh.head()"
   ]
  },
  {
   "cell_type": "code",
   "execution_count": 23,
   "id": "d8b95b26-fbe8-402b-a3c2-20921b6cd651",
   "metadata": {},
   "outputs": [
    {
     "data": {
      "text/html": [
       "<div>\n",
       "<style scoped>\n",
       "    .dataframe tbody tr th:only-of-type {\n",
       "        vertical-align: middle;\n",
       "    }\n",
       "\n",
       "    .dataframe tbody tr th {\n",
       "        vertical-align: top;\n",
       "    }\n",
       "\n",
       "    .dataframe thead th {\n",
       "        text-align: right;\n",
       "    }\n",
       "</style>\n",
       "<table border=\"1\" class=\"dataframe\">\n",
       "  <thead>\n",
       "    <tr style=\"text-align: right;\">\n",
       "      <th></th>\n",
       "      <th>author</th>\n",
       "      <th>author_fullname</th>\n",
       "      <th>created_utc</th>\n",
       "      <th>selftext</th>\n",
       "      <th>title</th>\n",
       "      <th>subreddit</th>\n",
       "      <th>is_video</th>\n",
       "      <th>num_comments</th>\n",
       "      <th>score</th>\n",
       "      <th>upvote_ratio</th>\n",
       "    </tr>\n",
       "  </thead>\n",
       "  <tbody>\n",
       "    <tr>\n",
       "      <th>1094</th>\n",
       "      <td>Benjamin-Info</td>\n",
       "      <td>t2_6qa849ep</td>\n",
       "      <td>1648141834</td>\n",
       "      <td></td>\n",
       "      <td>STORY TO ILLUSTRATE THE WARNING: LOOK BEFORE Y...</td>\n",
       "      <td>lifehacks</td>\n",
       "      <td>False</td>\n",
       "      <td>0</td>\n",
       "      <td>1</td>\n",
       "      <td>1.0</td>\n",
       "    </tr>\n",
       "    <tr>\n",
       "      <th>1095</th>\n",
       "      <td>Universal-theories</td>\n",
       "      <td>t2_l2v5b5rh</td>\n",
       "      <td>1648139884</td>\n",
       "      <td></td>\n",
       "      <td>Who is the Lord</td>\n",
       "      <td>lifehacks</td>\n",
       "      <td>False</td>\n",
       "      <td>0</td>\n",
       "      <td>1</td>\n",
       "      <td>1.0</td>\n",
       "    </tr>\n",
       "    <tr>\n",
       "      <th>1096</th>\n",
       "      <td>Comfortable_College9</td>\n",
       "      <td>t2_9xvv1oxg</td>\n",
       "      <td>1648134172</td>\n",
       "      <td></td>\n",
       "      <td>How to sleep alone without fear 🌼😁😁</td>\n",
       "      <td>lifehacks</td>\n",
       "      <td>False</td>\n",
       "      <td>0</td>\n",
       "      <td>1</td>\n",
       "      <td>1.0</td>\n",
       "    </tr>\n",
       "    <tr>\n",
       "      <th>1097</th>\n",
       "      <td>zareth_merus</td>\n",
       "      <td>t2_evdznttz</td>\n",
       "      <td>1648129366</td>\n",
       "      <td></td>\n",
       "      <td>Use heavy duty paper clips to organize your fr...</td>\n",
       "      <td>lifehacks</td>\n",
       "      <td>False</td>\n",
       "      <td>0</td>\n",
       "      <td>1</td>\n",
       "      <td>1.0</td>\n",
       "    </tr>\n",
       "    <tr>\n",
       "      <th>1098</th>\n",
       "      <td>Serious-Ice3998</td>\n",
       "      <td>t2_evi4rvxq</td>\n",
       "      <td>1648129038</td>\n",
       "      <td></td>\n",
       "      <td>You're welcome. The right way to untangle jewe...</td>\n",
       "      <td>lifehacks</td>\n",
       "      <td>False</td>\n",
       "      <td>0</td>\n",
       "      <td>1</td>\n",
       "      <td>1.0</td>\n",
       "    </tr>\n",
       "  </tbody>\n",
       "</table>\n",
       "</div>"
      ],
      "text/plain": [
       "                    author author_fullname  created_utc selftext  \\\n",
       "1094         Benjamin-Info     t2_6qa849ep   1648141834            \n",
       "1095    Universal-theories     t2_l2v5b5rh   1648139884            \n",
       "1096  Comfortable_College9     t2_9xvv1oxg   1648134172            \n",
       "1097          zareth_merus     t2_evdznttz   1648129366            \n",
       "1098       Serious-Ice3998     t2_evi4rvxq   1648129038            \n",
       "\n",
       "                                                  title  subreddit  is_video  \\\n",
       "1094  STORY TO ILLUSTRATE THE WARNING: LOOK BEFORE Y...  lifehacks     False   \n",
       "1095                                    Who is the Lord  lifehacks     False   \n",
       "1096                How to sleep alone without fear 🌼😁😁  lifehacks     False   \n",
       "1097  Use heavy duty paper clips to organize your fr...  lifehacks     False   \n",
       "1098  You're welcome. The right way to untangle jewe...  lifehacks     False   \n",
       "\n",
       "      num_comments  score  upvote_ratio  \n",
       "1094             0      1           1.0  \n",
       "1095             0      1           1.0  \n",
       "1096             0      1           1.0  \n",
       "1097             0      1           1.0  \n",
       "1098             0      1           1.0  "
      ]
     },
     "execution_count": 23,
     "metadata": {},
     "output_type": "execute_result"
    }
   ],
   "source": [
    "df_lh.tail()"
   ]
  },
  {
   "cell_type": "markdown",
   "id": "bfe2fe87-0017-4f86-8c7a-8b8906315b86",
   "metadata": {},
   "source": [
    "## Data Wrangling - r/LifeProTips"
   ]
  },
  {
   "cell_type": "markdown",
   "id": "702e5812-0d0b-44d5-82ab-8b8e26f8e2fe",
   "metadata": {},
   "source": [
    "We use the exact methodology to wrangle data for `r/LifeProTips` as we did with `r/lifehacks`."
   ]
  },
  {
   "cell_type": "code",
   "execution_count": 24,
   "id": "23966dc7-a583-4a8c-88ca-c16b9d1b8865",
   "metadata": {},
   "outputs": [],
   "source": [
    "# instantiate new dict to capture api data\n",
    "lpt_data = defaultdict(list)"
   ]
  },
  {
   "cell_type": "code",
   "execution_count": 25,
   "id": "31a22eb2-08dd-48d4-884a-220cc9f14613",
   "metadata": {},
   "outputs": [],
   "source": [
    "# making api call\n",
    "lpt_call = api_call('LifeProTips', 100)"
   ]
  },
  {
   "cell_type": "code",
   "execution_count": 26,
   "id": "03cec5bf-8352-4c55-9e04-d77d8d69af7c",
   "metadata": {},
   "outputs": [
    {
     "data": {
      "text/plain": [
       "100"
      ]
     },
     "execution_count": 26,
     "metadata": {},
     "output_type": "execute_result"
    }
   ],
   "source": [
    "len(lpt_call) # we could only request data 100 submissions at a time"
   ]
  },
  {
   "cell_type": "code",
   "execution_count": 27,
   "id": "42a57f8a-40a8-4424-ba49-50d2ad6b2dff",
   "metadata": {},
   "outputs": [],
   "source": [
    "# wrangling api call into a dictionary that will be used on a dataframe\n",
    "data = data_wrangling(lpt_data, keys, lpt_call)"
   ]
  },
  {
   "cell_type": "markdown",
   "id": "51ca4140-3a97-44be-ae48-39fd2d0264d8",
   "metadata": {},
   "source": [
    "Note we are using the same keys as `r/lifehacks`."
   ]
  },
  {
   "cell_type": "code",
   "execution_count": 28,
   "id": "ecd83d9d-f3de-439f-a9d0-af14e07c0caf",
   "metadata": {},
   "outputs": [
    {
     "data": {
      "text/plain": [
       "[]"
      ]
     },
     "execution_count": 28,
     "metadata": {},
     "output_type": "execute_result"
    }
   ],
   "source": [
    "# checking if any data was not capture in the api call\n",
    "data['error_log']"
   ]
  },
  {
   "cell_type": "code",
   "execution_count": 29,
   "id": "11ec6884-0068-4d13-88dd-8f1c74cdc5fb",
   "metadata": {},
   "outputs": [
    {
     "data": {
      "text/html": [
       "<div>\n",
       "<style scoped>\n",
       "    .dataframe tbody tr th:only-of-type {\n",
       "        vertical-align: middle;\n",
       "    }\n",
       "\n",
       "    .dataframe tbody tr th {\n",
       "        vertical-align: top;\n",
       "    }\n",
       "\n",
       "    .dataframe thead th {\n",
       "        text-align: right;\n",
       "    }\n",
       "</style>\n",
       "<table border=\"1\" class=\"dataframe\">\n",
       "  <thead>\n",
       "    <tr style=\"text-align: right;\">\n",
       "      <th></th>\n",
       "      <th>author</th>\n",
       "      <th>author_fullname</th>\n",
       "      <th>created_utc</th>\n",
       "      <th>selftext</th>\n",
       "      <th>title</th>\n",
       "      <th>subreddit</th>\n",
       "      <th>is_video</th>\n",
       "      <th>num_comments</th>\n",
       "      <th>score</th>\n",
       "      <th>upvote_ratio</th>\n",
       "    </tr>\n",
       "  </thead>\n",
       "  <tbody>\n",
       "    <tr>\n",
       "      <th>95</th>\n",
       "      <td>Old-Maintenance24923</td>\n",
       "      <td>t2_j2e8k26h</td>\n",
       "      <td>1651130044</td>\n",
       "      <td>[removed]</td>\n",
       "      <td>LPT: Any LPT suggesting some jobs actually req...</td>\n",
       "      <td>LifeProTips</td>\n",
       "      <td>False</td>\n",
       "      <td>0</td>\n",
       "      <td>1</td>\n",
       "      <td>1.0</td>\n",
       "    </tr>\n",
       "    <tr>\n",
       "      <th>96</th>\n",
       "      <td>cascadegaming</td>\n",
       "      <td>t2_15yrfc</td>\n",
       "      <td>1651128770</td>\n",
       "      <td>I use this strategy every time I cook or bake ...</td>\n",
       "      <td>LPT: When planning a recipe, instead of making...</td>\n",
       "      <td>LifeProTips</td>\n",
       "      <td>False</td>\n",
       "      <td>1</td>\n",
       "      <td>1</td>\n",
       "      <td>1.0</td>\n",
       "    </tr>\n",
       "    <tr>\n",
       "      <th>97</th>\n",
       "      <td>perfectlysaneboy</td>\n",
       "      <td>t2_a0ez8oa4</td>\n",
       "      <td>1651127996</td>\n",
       "      <td></td>\n",
       "      <td>LPT: When given a raise, be ambitious and alwa...</td>\n",
       "      <td>LifeProTips</td>\n",
       "      <td>False</td>\n",
       "      <td>1</td>\n",
       "      <td>1</td>\n",
       "      <td>1.0</td>\n",
       "    </tr>\n",
       "    <tr>\n",
       "      <th>98</th>\n",
       "      <td>goretsky</td>\n",
       "      <td>t2_3tihk</td>\n",
       "      <td>1651127544</td>\n",
       "      <td>Hello,\\n\\nIf you are taking a trip that involv...</td>\n",
       "      <td>LPT: Taking a trip? Add your flight to your ca...</td>\n",
       "      <td>LifeProTips</td>\n",
       "      <td>False</td>\n",
       "      <td>1</td>\n",
       "      <td>1</td>\n",
       "      <td>1.0</td>\n",
       "    </tr>\n",
       "    <tr>\n",
       "      <th>99</th>\n",
       "      <td>Playful_Impression_8</td>\n",
       "      <td>t2_835oyy5h</td>\n",
       "      <td>1651127055</td>\n",
       "      <td>[removed]</td>\n",
       "      <td>HP LaserJet Enterprise M612dn A blank sheet of...</td>\n",
       "      <td>LifeProTips</td>\n",
       "      <td>False</td>\n",
       "      <td>1</td>\n",
       "      <td>1</td>\n",
       "      <td>1.0</td>\n",
       "    </tr>\n",
       "  </tbody>\n",
       "</table>\n",
       "</div>"
      ],
      "text/plain": [
       "                  author author_fullname  created_utc  \\\n",
       "95  Old-Maintenance24923     t2_j2e8k26h   1651130044   \n",
       "96         cascadegaming       t2_15yrfc   1651128770   \n",
       "97      perfectlysaneboy     t2_a0ez8oa4   1651127996   \n",
       "98              goretsky        t2_3tihk   1651127544   \n",
       "99  Playful_Impression_8     t2_835oyy5h   1651127055   \n",
       "\n",
       "                                             selftext  \\\n",
       "95                                          [removed]   \n",
       "96  I use this strategy every time I cook or bake ...   \n",
       "97                                                      \n",
       "98  Hello,\\n\\nIf you are taking a trip that involv...   \n",
       "99                                          [removed]   \n",
       "\n",
       "                                                title    subreddit  is_video  \\\n",
       "95  LPT: Any LPT suggesting some jobs actually req...  LifeProTips     False   \n",
       "96  LPT: When planning a recipe, instead of making...  LifeProTips     False   \n",
       "97  LPT: When given a raise, be ambitious and alwa...  LifeProTips     False   \n",
       "98  LPT: Taking a trip? Add your flight to your ca...  LifeProTips     False   \n",
       "99  HP LaserJet Enterprise M612dn A blank sheet of...  LifeProTips     False   \n",
       "\n",
       "    num_comments  score  upvote_ratio  \n",
       "95             0      1           1.0  \n",
       "96             1      1           1.0  \n",
       "97             1      1           1.0  \n",
       "98             1      1           1.0  \n",
       "99             1      1           1.0  "
      ]
     },
     "execution_count": 29,
     "metadata": {},
     "output_type": "execute_result"
    }
   ],
   "source": [
    "# api data dictionary to dataframe\n",
    "df_lpt = pd.DataFrame(data['data'])\n",
    "df_lpt.tail()"
   ]
  },
  {
   "cell_type": "code",
   "execution_count": 30,
   "id": "33485f4b-257a-4090-b970-a233858caab4",
   "metadata": {},
   "outputs": [
    {
     "data": {
      "text/plain": [
       "1651127055"
      ]
     },
     "execution_count": 30,
     "metadata": {},
     "output_type": "execute_result"
    }
   ],
   "source": [
    "# last collected submission\n",
    "last_utc = df_lpt.loc[len(df_lpt) - 1, 'created_utc']\n",
    "last_utc"
   ]
  },
  {
   "cell_type": "markdown",
   "id": "57122d39-2f58-4365-8781-3eadbbb46ef6",
   "metadata": {},
   "source": [
    "Here we continue making api calls, with new data each time (predating the last data that is collected each time). We will collect at least 1000 rows of data."
   ]
  },
  {
   "cell_type": "code",
   "execution_count": 31,
   "id": "c54fdd7c-577d-4d1f-b6ec-cb6c116294d1",
   "metadata": {},
   "outputs": [],
   "source": [
    "# continue wrangling data until a certain size is met\n",
    "while len(df_lpt) < 1000:\n",
    "    try:\n",
    "        lpt_call = api_call('Lifeprotips', 100, last_utc)\n",
    "    except:\n",
    "        print(\"Data wrangling failed.\")\n",
    "        break\n",
    "    \n",
    "    data = data_wrangling(lpt_data, keys, lpt_call)\n",
    "    df_lpt = pd.DataFrame(data['data'])\n",
    "    last_utc = df_lpt.loc[len(df_lpt) - 1, 'created_utc']"
   ]
  },
  {
   "cell_type": "code",
   "execution_count": 32,
   "id": "f53f7032-c1e5-4a4e-83b8-67efb64730c3",
   "metadata": {},
   "outputs": [
    {
     "data": {
      "text/plain": [
       "(1099, 10)"
      ]
     },
     "execution_count": 32,
     "metadata": {},
     "output_type": "execute_result"
    }
   ],
   "source": [
    "# verifying data was collected\n",
    "df_lpt.shape"
   ]
  },
  {
   "cell_type": "code",
   "execution_count": 34,
   "id": "da180aaa-18a1-4dd4-840a-1662ae0a1f48",
   "metadata": {},
   "outputs": [
    {
     "name": "stdout",
     "output_type": "stream",
     "text": [
      "<class 'pandas.core.frame.DataFrame'>\n",
      "RangeIndex: 1099 entries, 0 to 1098\n",
      "Data columns (total 10 columns):\n",
      " #   Column           Non-Null Count  Dtype  \n",
      "---  ------           --------------  -----  \n",
      " 0   author           1099 non-null   object \n",
      " 1   author_fullname  1083 non-null   object \n",
      " 2   created_utc      1099 non-null   int64  \n",
      " 3   selftext         1089 non-null   object \n",
      " 4   title            1099 non-null   object \n",
      " 5   subreddit        1099 non-null   object \n",
      " 6   is_video         1099 non-null   bool   \n",
      " 7   num_comments     1099 non-null   int64  \n",
      " 8   score            1099 non-null   int64  \n",
      " 9   upvote_ratio     1099 non-null   float64\n",
      "dtypes: bool(1), float64(1), int64(3), object(5)\n",
      "memory usage: 78.5+ KB\n"
     ]
    }
   ],
   "source": [
    "df_lpt.info()"
   ]
  },
  {
   "cell_type": "code",
   "execution_count": 35,
   "id": "253a2a67-29c8-4ab2-8f5b-bc556031f47e",
   "metadata": {},
   "outputs": [
    {
     "data": {
      "text/plain": [
       "author              0\n",
       "author_fullname    16\n",
       "created_utc         0\n",
       "selftext           10\n",
       "title               0\n",
       "subreddit           0\n",
       "is_video            0\n",
       "num_comments        0\n",
       "score               0\n",
       "upvote_ratio        0\n",
       "dtype: int64"
      ]
     },
     "execution_count": 35,
     "metadata": {},
     "output_type": "execute_result"
    }
   ],
   "source": [
    "df_lpt.isna().sum()"
   ]
  },
  {
   "cell_type": "markdown",
   "id": "39c54012-0f58-493d-aaf3-fc9af85cf310",
   "metadata": {},
   "source": [
    "Looks like we have some missing data. Since it's a very small amount, we will drop it now."
   ]
  },
  {
   "cell_type": "code",
   "execution_count": 36,
   "id": "30023a68-5607-44e5-94e4-f5d5030e8180",
   "metadata": {},
   "outputs": [],
   "source": [
    "# drop NAs\n",
    "df_lpt = df_lpt.dropna()"
   ]
  },
  {
   "cell_type": "code",
   "execution_count": 38,
   "id": "7eb76e8b-4daf-40ab-99a2-341725ead478",
   "metadata": {},
   "outputs": [
    {
     "data": {
      "text/plain": [
       "1083"
      ]
     },
     "execution_count": 38,
     "metadata": {},
     "output_type": "execute_result"
    }
   ],
   "source": [
    "len(df_lpt) #nunmber of rows"
   ]
  },
  {
   "cell_type": "code",
   "execution_count": 39,
   "id": "c9f06c47-e39e-456c-98b9-7bd7ee8fefc4",
   "metadata": {},
   "outputs": [
    {
     "data": {
      "text/plain": [
       "1083"
      ]
     },
     "execution_count": 39,
     "metadata": {},
     "output_type": "execute_result"
    }
   ],
   "source": [
    "# checking if our data is unique based on submission times\n",
    "len(np.unique(df_lpt['created_utc']))"
   ]
  },
  {
   "cell_type": "markdown",
   "id": "99365b6c-be08-4dfd-b23a-204f83724346",
   "metadata": {},
   "source": [
    "All row data has different times of submission, which is a strong suggestion all our data are unique submissions."
   ]
  },
  {
   "cell_type": "code",
   "execution_count": 40,
   "id": "ba9abaf4-db5d-4314-a57b-1d2115ab6521",
   "metadata": {},
   "outputs": [
    {
     "data": {
      "text/html": [
       "<div>\n",
       "<style scoped>\n",
       "    .dataframe tbody tr th:only-of-type {\n",
       "        vertical-align: middle;\n",
       "    }\n",
       "\n",
       "    .dataframe tbody tr th {\n",
       "        vertical-align: top;\n",
       "    }\n",
       "\n",
       "    .dataframe thead th {\n",
       "        text-align: right;\n",
       "    }\n",
       "</style>\n",
       "<table border=\"1\" class=\"dataframe\">\n",
       "  <thead>\n",
       "    <tr style=\"text-align: right;\">\n",
       "      <th></th>\n",
       "      <th>author</th>\n",
       "      <th>author_fullname</th>\n",
       "      <th>created_utc</th>\n",
       "      <th>selftext</th>\n",
       "      <th>title</th>\n",
       "      <th>subreddit</th>\n",
       "      <th>is_video</th>\n",
       "      <th>num_comments</th>\n",
       "      <th>score</th>\n",
       "      <th>upvote_ratio</th>\n",
       "    </tr>\n",
       "  </thead>\n",
       "  <tbody>\n",
       "    <tr>\n",
       "      <th>0</th>\n",
       "      <td>Relative-Kesuki9802</td>\n",
       "      <td>t2_izoub7ix</td>\n",
       "      <td>1651180668</td>\n",
       "      <td>[removed]</td>\n",
       "      <td>Student Research Survey</td>\n",
       "      <td>LifeProTips</td>\n",
       "      <td>False</td>\n",
       "      <td>1</td>\n",
       "      <td>1</td>\n",
       "      <td>1.0</td>\n",
       "    </tr>\n",
       "    <tr>\n",
       "      <th>1</th>\n",
       "      <td>johnkoetsier</td>\n",
       "      <td>t2_iy7f</td>\n",
       "      <td>1651180441</td>\n",
       "      <td>[removed]</td>\n",
       "      <td>When someone comes to build/install/renovate s...</td>\n",
       "      <td>LifeProTips</td>\n",
       "      <td>False</td>\n",
       "      <td>1</td>\n",
       "      <td>1</td>\n",
       "      <td>1.0</td>\n",
       "    </tr>\n",
       "    <tr>\n",
       "      <th>2</th>\n",
       "      <td>Fair-Pattern-1745</td>\n",
       "      <td>t2_mhzb1dp4</td>\n",
       "      <td>1651178681</td>\n",
       "      <td>[removed]</td>\n",
       "      <td>i removed clothes</td>\n",
       "      <td>LifeProTips</td>\n",
       "      <td>False</td>\n",
       "      <td>1</td>\n",
       "      <td>1</td>\n",
       "      <td>1.0</td>\n",
       "    </tr>\n",
       "    <tr>\n",
       "      <th>3</th>\n",
       "      <td>BigOlBlimp</td>\n",
       "      <td>t2_53c1t8bg</td>\n",
       "      <td>1651178589</td>\n",
       "      <td>Lots of people think blower hand dryers aren't...</td>\n",
       "      <td>LPT: Air hand dryers will dry your hands quick...</td>\n",
       "      <td>LifeProTips</td>\n",
       "      <td>False</td>\n",
       "      <td>1</td>\n",
       "      <td>1</td>\n",
       "      <td>1.0</td>\n",
       "    </tr>\n",
       "    <tr>\n",
       "      <th>4</th>\n",
       "      <td>JonusTJonnerson</td>\n",
       "      <td>t2_2qhrakuw</td>\n",
       "      <td>1651178192</td>\n",
       "      <td></td>\n",
       "      <td>LPT Tell your jokes at work with a straight (a...</td>\n",
       "      <td>LifeProTips</td>\n",
       "      <td>False</td>\n",
       "      <td>1</td>\n",
       "      <td>1</td>\n",
       "      <td>1.0</td>\n",
       "    </tr>\n",
       "  </tbody>\n",
       "</table>\n",
       "</div>"
      ],
      "text/plain": [
       "                author author_fullname  created_utc  \\\n",
       "0  Relative-Kesuki9802     t2_izoub7ix   1651180668   \n",
       "1         johnkoetsier         t2_iy7f   1651180441   \n",
       "2    Fair-Pattern-1745     t2_mhzb1dp4   1651178681   \n",
       "3           BigOlBlimp     t2_53c1t8bg   1651178589   \n",
       "4      JonusTJonnerson     t2_2qhrakuw   1651178192   \n",
       "\n",
       "                                            selftext  \\\n",
       "0                                          [removed]   \n",
       "1                                          [removed]   \n",
       "2                                          [removed]   \n",
       "3  Lots of people think blower hand dryers aren't...   \n",
       "4                                                      \n",
       "\n",
       "                                               title    subreddit  is_video  \\\n",
       "0                            Student Research Survey  LifeProTips     False   \n",
       "1  When someone comes to build/install/renovate s...  LifeProTips     False   \n",
       "2                                  i removed clothes  LifeProTips     False   \n",
       "3  LPT: Air hand dryers will dry your hands quick...  LifeProTips     False   \n",
       "4  LPT Tell your jokes at work with a straight (a...  LifeProTips     False   \n",
       "\n",
       "   num_comments  score  upvote_ratio  \n",
       "0             1      1           1.0  \n",
       "1             1      1           1.0  \n",
       "2             1      1           1.0  \n",
       "3             1      1           1.0  \n",
       "4             1      1           1.0  "
      ]
     },
     "execution_count": 40,
     "metadata": {},
     "output_type": "execute_result"
    }
   ],
   "source": [
    "df_lpt.head()"
   ]
  },
  {
   "cell_type": "code",
   "execution_count": 41,
   "id": "78316a95-bf3d-4f78-ade9-d7e5b351cd48",
   "metadata": {},
   "outputs": [
    {
     "data": {
      "text/html": [
       "<div>\n",
       "<style scoped>\n",
       "    .dataframe tbody tr th:only-of-type {\n",
       "        vertical-align: middle;\n",
       "    }\n",
       "\n",
       "    .dataframe tbody tr th {\n",
       "        vertical-align: top;\n",
       "    }\n",
       "\n",
       "    .dataframe thead th {\n",
       "        text-align: right;\n",
       "    }\n",
       "</style>\n",
       "<table border=\"1\" class=\"dataframe\">\n",
       "  <thead>\n",
       "    <tr style=\"text-align: right;\">\n",
       "      <th></th>\n",
       "      <th>author</th>\n",
       "      <th>author_fullname</th>\n",
       "      <th>created_utc</th>\n",
       "      <th>selftext</th>\n",
       "      <th>title</th>\n",
       "      <th>subreddit</th>\n",
       "      <th>is_video</th>\n",
       "      <th>num_comments</th>\n",
       "      <th>score</th>\n",
       "      <th>upvote_ratio</th>\n",
       "    </tr>\n",
       "  </thead>\n",
       "  <tbody>\n",
       "    <tr>\n",
       "      <th>1094</th>\n",
       "      <td>Bloodstone2012</td>\n",
       "      <td>t2_jt1jo</td>\n",
       "      <td>1650646779</td>\n",
       "      <td></td>\n",
       "      <td>LPT: it is healthier to skip a meal and just d...</td>\n",
       "      <td>LifeProTips</td>\n",
       "      <td>False</td>\n",
       "      <td>1</td>\n",
       "      <td>1</td>\n",
       "      <td>1.0</td>\n",
       "    </tr>\n",
       "    <tr>\n",
       "      <th>1095</th>\n",
       "      <td>cross_peach</td>\n",
       "      <td>t2_30cjlc75</td>\n",
       "      <td>1650646116</td>\n",
       "      <td></td>\n",
       "      <td>LPT: You can access several online courses and...</td>\n",
       "      <td>LifeProTips</td>\n",
       "      <td>False</td>\n",
       "      <td>1</td>\n",
       "      <td>1</td>\n",
       "      <td>1.0</td>\n",
       "    </tr>\n",
       "    <tr>\n",
       "      <th>1096</th>\n",
       "      <td>jmincorporated</td>\n",
       "      <td>t2_16tlrj</td>\n",
       "      <td>1650645631</td>\n",
       "      <td></td>\n",
       "      <td>LPT - when you receive a medical bill always c...</td>\n",
       "      <td>LifeProTips</td>\n",
       "      <td>False</td>\n",
       "      <td>1</td>\n",
       "      <td>1</td>\n",
       "      <td>1.0</td>\n",
       "    </tr>\n",
       "    <tr>\n",
       "      <th>1097</th>\n",
       "      <td>the_women_era</td>\n",
       "      <td>t2_m8qtr3lc</td>\n",
       "      <td>1650645336</td>\n",
       "      <td>[removed]</td>\n",
       "      <td>People Will Always Judge Your Actions. No Matt...</td>\n",
       "      <td>LifeProTips</td>\n",
       "      <td>False</td>\n",
       "      <td>1</td>\n",
       "      <td>1</td>\n",
       "      <td>1.0</td>\n",
       "    </tr>\n",
       "    <tr>\n",
       "      <th>1098</th>\n",
       "      <td>patchaclus</td>\n",
       "      <td>t2_9411lb63</td>\n",
       "      <td>1650645171</td>\n",
       "      <td></td>\n",
       "      <td>LPT: you can set rules on your email to redire...</td>\n",
       "      <td>LifeProTips</td>\n",
       "      <td>False</td>\n",
       "      <td>1</td>\n",
       "      <td>1</td>\n",
       "      <td>1.0</td>\n",
       "    </tr>\n",
       "  </tbody>\n",
       "</table>\n",
       "</div>"
      ],
      "text/plain": [
       "              author author_fullname  created_utc   selftext  \\\n",
       "1094  Bloodstone2012        t2_jt1jo   1650646779              \n",
       "1095     cross_peach     t2_30cjlc75   1650646116              \n",
       "1096  jmincorporated       t2_16tlrj   1650645631              \n",
       "1097   the_women_era     t2_m8qtr3lc   1650645336  [removed]   \n",
       "1098      patchaclus     t2_9411lb63   1650645171              \n",
       "\n",
       "                                                  title    subreddit  \\\n",
       "1094  LPT: it is healthier to skip a meal and just d...  LifeProTips   \n",
       "1095  LPT: You can access several online courses and...  LifeProTips   \n",
       "1096  LPT - when you receive a medical bill always c...  LifeProTips   \n",
       "1097  People Will Always Judge Your Actions. No Matt...  LifeProTips   \n",
       "1098  LPT: you can set rules on your email to redire...  LifeProTips   \n",
       "\n",
       "      is_video  num_comments  score  upvote_ratio  \n",
       "1094     False             1      1           1.0  \n",
       "1095     False             1      1           1.0  \n",
       "1096     False             1      1           1.0  \n",
       "1097     False             1      1           1.0  \n",
       "1098     False             1      1           1.0  "
      ]
     },
     "execution_count": 41,
     "metadata": {},
     "output_type": "execute_result"
    }
   ],
   "source": [
    "df_lpt.tail()"
   ]
  },
  {
   "cell_type": "markdown",
   "id": "e539bbc9-aa07-47e0-8f77-cb6455344853",
   "metadata": {},
   "source": [
    "-----"
   ]
  },
  {
   "cell_type": "markdown",
   "id": "de62592d-9643-4d04-8b94-b70049ebee1e",
   "metadata": {},
   "source": [
    "### Merging Data"
   ]
  },
  {
   "cell_type": "code",
   "execution_count": 43,
   "id": "4e0487b0-56af-4781-9c83-a5e16073eec2",
   "metadata": {},
   "outputs": [],
   "source": [
    "# \"stacking\" both dataframes by row using concatenate method\n",
    "df_all = pd.concat([df_lh, df_lpt], axis=0)"
   ]
  },
  {
   "cell_type": "code",
   "execution_count": 48,
   "id": "94b2dcdf-ae23-4a43-991e-37485babddfd",
   "metadata": {},
   "outputs": [],
   "source": [
    "# must reset repeated indices after concatenation\n",
    "df_all.reset_index(drop=True, inplace=True)"
   ]
  },
  {
   "cell_type": "code",
   "execution_count": 45,
   "id": "fece2975-8754-4acf-937c-a7ff4e73af94",
   "metadata": {},
   "outputs": [
    {
     "data": {
      "text/plain": [
       "(2178, 10)"
      ]
     },
     "execution_count": 45,
     "metadata": {},
     "output_type": "execute_result"
    }
   ],
   "source": [
    "df_all.shape"
   ]
  },
  {
   "cell_type": "code",
   "execution_count": 49,
   "id": "53356ae4-e1c1-47d0-aaee-25635bd8bec6",
   "metadata": {},
   "outputs": [
    {
     "data": {
      "text/html": [
       "<div>\n",
       "<style scoped>\n",
       "    .dataframe tbody tr th:only-of-type {\n",
       "        vertical-align: middle;\n",
       "    }\n",
       "\n",
       "    .dataframe tbody tr th {\n",
       "        vertical-align: top;\n",
       "    }\n",
       "\n",
       "    .dataframe thead th {\n",
       "        text-align: right;\n",
       "    }\n",
       "</style>\n",
       "<table border=\"1\" class=\"dataframe\">\n",
       "  <thead>\n",
       "    <tr style=\"text-align: right;\">\n",
       "      <th></th>\n",
       "      <th>author</th>\n",
       "      <th>author_fullname</th>\n",
       "      <th>created_utc</th>\n",
       "      <th>selftext</th>\n",
       "      <th>title</th>\n",
       "      <th>subreddit</th>\n",
       "      <th>is_video</th>\n",
       "      <th>num_comments</th>\n",
       "      <th>score</th>\n",
       "      <th>upvote_ratio</th>\n",
       "    </tr>\n",
       "  </thead>\n",
       "  <tbody>\n",
       "    <tr>\n",
       "      <th>0</th>\n",
       "      <td>Cutesifer_101</td>\n",
       "      <td>t2_7zsy6pvt</td>\n",
       "      <td>1651176966</td>\n",
       "      <td>The damage wasn’t that bad other than the fact...</td>\n",
       "      <td>I spilled monster energy</td>\n",
       "      <td>lifehacks</td>\n",
       "      <td>False</td>\n",
       "      <td>0</td>\n",
       "      <td>1</td>\n",
       "      <td>1.0</td>\n",
       "    </tr>\n",
       "    <tr>\n",
       "      <th>1</th>\n",
       "      <td>Subtotalpoet</td>\n",
       "      <td>t2_dcvoz53</td>\n",
       "      <td>1651176676</td>\n",
       "      <td></td>\n",
       "      <td>Wife forgot ur favorite ice cream? Improvise, ...</td>\n",
       "      <td>lifehacks</td>\n",
       "      <td>False</td>\n",
       "      <td>0</td>\n",
       "      <td>1</td>\n",
       "      <td>1.0</td>\n",
       "    </tr>\n",
       "    <tr>\n",
       "      <th>2</th>\n",
       "      <td>amintowords</td>\n",
       "      <td>t2_racie</td>\n",
       "      <td>1651175651</td>\n",
       "      <td>Set an alarm for an hour after you're meant to...</td>\n",
       "      <td>How to remember to take tablets on time</td>\n",
       "      <td>lifehacks</td>\n",
       "      <td>False</td>\n",
       "      <td>0</td>\n",
       "      <td>1</td>\n",
       "      <td>1.0</td>\n",
       "    </tr>\n",
       "    <tr>\n",
       "      <th>3</th>\n",
       "      <td>rokokslot87</td>\n",
       "      <td>t2_kv1oregh</td>\n",
       "      <td>1651174857</td>\n",
       "      <td></td>\n",
       "      <td>SLOT ONLINE MENANG BESAR | SLOT DEPOSIT PULSA</td>\n",
       "      <td>lifehacks</td>\n",
       "      <td>False</td>\n",
       "      <td>0</td>\n",
       "      <td>1</td>\n",
       "      <td>1.0</td>\n",
       "    </tr>\n",
       "    <tr>\n",
       "      <th>4</th>\n",
       "      <td>Distinct_Expert_7648</td>\n",
       "      <td>t2_mczxpj82</td>\n",
       "      <td>1651174438</td>\n",
       "      <td>[removed]</td>\n",
       "      <td>Infertility Clinic in Pune</td>\n",
       "      <td>lifehacks</td>\n",
       "      <td>False</td>\n",
       "      <td>0</td>\n",
       "      <td>1</td>\n",
       "      <td>1.0</td>\n",
       "    </tr>\n",
       "  </tbody>\n",
       "</table>\n",
       "</div>"
      ],
      "text/plain": [
       "                 author author_fullname  created_utc  \\\n",
       "0         Cutesifer_101     t2_7zsy6pvt   1651176966   \n",
       "1          Subtotalpoet      t2_dcvoz53   1651176676   \n",
       "2           amintowords        t2_racie   1651175651   \n",
       "3           rokokslot87     t2_kv1oregh   1651174857   \n",
       "4  Distinct_Expert_7648     t2_mczxpj82   1651174438   \n",
       "\n",
       "                                            selftext  \\\n",
       "0  The damage wasn’t that bad other than the fact...   \n",
       "1                                                      \n",
       "2  Set an alarm for an hour after you're meant to...   \n",
       "3                                                      \n",
       "4                                          [removed]   \n",
       "\n",
       "                                               title  subreddit  is_video  \\\n",
       "0                           I spilled monster energy  lifehacks     False   \n",
       "1  Wife forgot ur favorite ice cream? Improvise, ...  lifehacks     False   \n",
       "2            How to remember to take tablets on time  lifehacks     False   \n",
       "3      SLOT ONLINE MENANG BESAR | SLOT DEPOSIT PULSA  lifehacks     False   \n",
       "4                         Infertility Clinic in Pune  lifehacks     False   \n",
       "\n",
       "   num_comments  score  upvote_ratio  \n",
       "0             0      1           1.0  \n",
       "1             0      1           1.0  \n",
       "2             0      1           1.0  \n",
       "3             0      1           1.0  \n",
       "4             0      1           1.0  "
      ]
     },
     "execution_count": 49,
     "metadata": {},
     "output_type": "execute_result"
    }
   ],
   "source": [
    "df_all.head()"
   ]
  },
  {
   "cell_type": "code",
   "execution_count": 50,
   "id": "a19cd1fc-bb2e-4594-9d41-c262e41f24de",
   "metadata": {},
   "outputs": [
    {
     "data": {
      "text/html": [
       "<div>\n",
       "<style scoped>\n",
       "    .dataframe tbody tr th:only-of-type {\n",
       "        vertical-align: middle;\n",
       "    }\n",
       "\n",
       "    .dataframe tbody tr th {\n",
       "        vertical-align: top;\n",
       "    }\n",
       "\n",
       "    .dataframe thead th {\n",
       "        text-align: right;\n",
       "    }\n",
       "</style>\n",
       "<table border=\"1\" class=\"dataframe\">\n",
       "  <thead>\n",
       "    <tr style=\"text-align: right;\">\n",
       "      <th></th>\n",
       "      <th>author</th>\n",
       "      <th>author_fullname</th>\n",
       "      <th>created_utc</th>\n",
       "      <th>selftext</th>\n",
       "      <th>title</th>\n",
       "      <th>subreddit</th>\n",
       "      <th>is_video</th>\n",
       "      <th>num_comments</th>\n",
       "      <th>score</th>\n",
       "      <th>upvote_ratio</th>\n",
       "    </tr>\n",
       "  </thead>\n",
       "  <tbody>\n",
       "    <tr>\n",
       "      <th>2173</th>\n",
       "      <td>Bloodstone2012</td>\n",
       "      <td>t2_jt1jo</td>\n",
       "      <td>1650646779</td>\n",
       "      <td></td>\n",
       "      <td>LPT: it is healthier to skip a meal and just d...</td>\n",
       "      <td>LifeProTips</td>\n",
       "      <td>False</td>\n",
       "      <td>1</td>\n",
       "      <td>1</td>\n",
       "      <td>1.0</td>\n",
       "    </tr>\n",
       "    <tr>\n",
       "      <th>2174</th>\n",
       "      <td>cross_peach</td>\n",
       "      <td>t2_30cjlc75</td>\n",
       "      <td>1650646116</td>\n",
       "      <td></td>\n",
       "      <td>LPT: You can access several online courses and...</td>\n",
       "      <td>LifeProTips</td>\n",
       "      <td>False</td>\n",
       "      <td>1</td>\n",
       "      <td>1</td>\n",
       "      <td>1.0</td>\n",
       "    </tr>\n",
       "    <tr>\n",
       "      <th>2175</th>\n",
       "      <td>jmincorporated</td>\n",
       "      <td>t2_16tlrj</td>\n",
       "      <td>1650645631</td>\n",
       "      <td></td>\n",
       "      <td>LPT - when you receive a medical bill always c...</td>\n",
       "      <td>LifeProTips</td>\n",
       "      <td>False</td>\n",
       "      <td>1</td>\n",
       "      <td>1</td>\n",
       "      <td>1.0</td>\n",
       "    </tr>\n",
       "    <tr>\n",
       "      <th>2176</th>\n",
       "      <td>the_women_era</td>\n",
       "      <td>t2_m8qtr3lc</td>\n",
       "      <td>1650645336</td>\n",
       "      <td>[removed]</td>\n",
       "      <td>People Will Always Judge Your Actions. No Matt...</td>\n",
       "      <td>LifeProTips</td>\n",
       "      <td>False</td>\n",
       "      <td>1</td>\n",
       "      <td>1</td>\n",
       "      <td>1.0</td>\n",
       "    </tr>\n",
       "    <tr>\n",
       "      <th>2177</th>\n",
       "      <td>patchaclus</td>\n",
       "      <td>t2_9411lb63</td>\n",
       "      <td>1650645171</td>\n",
       "      <td></td>\n",
       "      <td>LPT: you can set rules on your email to redire...</td>\n",
       "      <td>LifeProTips</td>\n",
       "      <td>False</td>\n",
       "      <td>1</td>\n",
       "      <td>1</td>\n",
       "      <td>1.0</td>\n",
       "    </tr>\n",
       "  </tbody>\n",
       "</table>\n",
       "</div>"
      ],
      "text/plain": [
       "              author author_fullname  created_utc   selftext  \\\n",
       "2173  Bloodstone2012        t2_jt1jo   1650646779              \n",
       "2174     cross_peach     t2_30cjlc75   1650646116              \n",
       "2175  jmincorporated       t2_16tlrj   1650645631              \n",
       "2176   the_women_era     t2_m8qtr3lc   1650645336  [removed]   \n",
       "2177      patchaclus     t2_9411lb63   1650645171              \n",
       "\n",
       "                                                  title    subreddit  \\\n",
       "2173  LPT: it is healthier to skip a meal and just d...  LifeProTips   \n",
       "2174  LPT: You can access several online courses and...  LifeProTips   \n",
       "2175  LPT - when you receive a medical bill always c...  LifeProTips   \n",
       "2176  People Will Always Judge Your Actions. No Matt...  LifeProTips   \n",
       "2177  LPT: you can set rules on your email to redire...  LifeProTips   \n",
       "\n",
       "      is_video  num_comments  score  upvote_ratio  \n",
       "2173     False             1      1           1.0  \n",
       "2174     False             1      1           1.0  \n",
       "2175     False             1      1           1.0  \n",
       "2176     False             1      1           1.0  \n",
       "2177     False             1      1           1.0  "
      ]
     },
     "execution_count": 50,
     "metadata": {},
     "output_type": "execute_result"
    }
   ],
   "source": [
    "df_all.tail()"
   ]
  },
  {
   "cell_type": "code",
   "execution_count": 55,
   "id": "73e66544-1e64-4bb3-8098-f455010cce26",
   "metadata": {},
   "outputs": [
    {
     "name": "stdout",
     "output_type": "stream",
     "text": [
      "<class 'pandas.core.frame.DataFrame'>\n",
      "RangeIndex: 2178 entries, 0 to 2177\n",
      "Data columns (total 10 columns):\n",
      " #   Column           Non-Null Count  Dtype  \n",
      "---  ------           --------------  -----  \n",
      " 0   author           2178 non-null   object \n",
      " 1   author_fullname  2178 non-null   object \n",
      " 2   created_utc      2178 non-null   int64  \n",
      " 3   selftext         2178 non-null   object \n",
      " 4   title            2178 non-null   object \n",
      " 5   subreddit        2178 non-null   object \n",
      " 6   is_video         2178 non-null   bool   \n",
      " 7   num_comments     2178 non-null   int64  \n",
      " 8   score            2178 non-null   int64  \n",
      " 9   upvote_ratio     2178 non-null   float64\n",
      "dtypes: bool(1), float64(1), int64(3), object(5)\n",
      "memory usage: 155.4+ KB\n"
     ]
    }
   ],
   "source": [
    "df_all.info()"
   ]
  },
  {
   "cell_type": "code",
   "execution_count": 56,
   "id": "f20f5a96-920a-4112-99b7-a5f6af2a0c10",
   "metadata": {},
   "outputs": [
    {
     "data": {
      "text/plain": [
       "0"
      ]
     },
     "execution_count": 56,
     "metadata": {},
     "output_type": "execute_result"
    }
   ],
   "source": [
    "na_only(df_all)"
   ]
  },
  {
   "cell_type": "markdown",
   "id": "449a1ad8-1bc8-4514-89bd-24ab7e132d4e",
   "metadata": {},
   "source": [
    "Everything looks good! We can now export."
   ]
  },
  {
   "cell_type": "markdown",
   "id": "f955af05-a371-4463-bfde-80135231d1c6",
   "metadata": {},
   "source": [
    "## Data Exporting"
   ]
  },
  {
   "cell_type": "code",
   "execution_count": 54,
   "id": "38983d79-0390-441d-af53-bff13f76a7bd",
   "metadata": {},
   "outputs": [],
   "source": [
    "#df_all.to_csv('../datasets/submissions_data.csv', index=False)"
   ]
  },
  {
   "cell_type": "code",
   "execution_count": 1,
   "id": "70f4afe8-d309-40e2-9058-a1afa8aecd2e",
   "metadata": {},
   "outputs": [],
   "source": [
    "# TODO: wrangle data for top posts only"
   ]
  }
 ],
 "metadata": {
  "kernelspec": {
   "display_name": "Python 3 (ipykernel)",
   "language": "python",
   "name": "python3"
  },
  "language_info": {
   "codemirror_mode": {
    "name": "ipython",
    "version": 3
   },
   "file_extension": ".py",
   "mimetype": "text/x-python",
   "name": "python",
   "nbconvert_exporter": "python",
   "pygments_lexer": "ipython3",
   "version": "3.9.7"
  }
 },
 "nbformat": 4,
 "nbformat_minor": 5
}
