{
 "cells": [
  {
   "cell_type": "markdown",
   "id": "858fb400-2215-4cae-b0d2-e16ab075a881",
   "metadata": {},
   "source": [
    "# Data Wrangling"
   ]
  },
  {
   "cell_type": "markdown",
   "id": "2eae03f8-a341-4d33-8eb2-7793bd80a44e",
   "metadata": {},
   "source": [
    "This notebook is dedicated to wrangling data from the subreddits `r/lifehacks` and `r/LifeProTips` using the Pushshift Reddit API."
   ]
  },
  {
   "cell_type": "markdown",
   "id": "cbd1f5f8-c578-4423-8bb7-f42172dc0d4d",
   "metadata": {},
   "source": [
    "## Problem Statements"
   ]
  },
  {
   "cell_type": "markdown",
   "id": "d38851fb-810a-43c6-86f6-0fdeccb0a7c7",
   "metadata": {},
   "source": [
    "> 1. Develop a classification model that can predict whether a reddit post belongs to the subreddits r/LifeProTips or r/Lifehacks, based on the content of the post\n",
    "\n",
    "> 2. Identify the top 10 keywords that distinguish r/LifeProTips and r/Lifehacks"
   ]
  },
  {
   "cell_type": "markdown",
   "id": "dbc3c041-df0f-41d3-9894-568c1cfb9f81",
   "metadata": {},
   "source": [
    "These two problem statements will guide the analysis of this study."
   ]
  },
  {
   "cell_type": "markdown",
   "id": "f9a43b8e-8b4a-4215-bd69-9f383be8b993",
   "metadata": {},
   "source": [
    "## Library Imports"
   ]
  },
  {
   "cell_type": "code",
   "execution_count": 39,
   "id": "2162d58b-2d98-4bb8-9b83-2ac5553dcda7",
   "metadata": {},
   "outputs": [],
   "source": [
    "%run 00_Workflow_Functions.ipynb import na_only, api_call, data_wrangling"
   ]
  },
  {
   "cell_type": "code",
   "execution_count": 40,
   "id": "c8abd2d9-43e1-4692-a56b-c9acdaa1e15f",
   "metadata": {},
   "outputs": [],
   "source": [
    "import pandas as pd\n",
    "import requests\n",
    "from collections import defaultdict"
   ]
  },
  {
   "cell_type": "markdown",
   "id": "2391f83c-b784-4752-b722-60c895ada890",
   "metadata": {},
   "source": [
    "## API Call Tests"
   ]
  },
  {
   "cell_type": "code",
   "execution_count": 41,
   "id": "b7d1f358-a222-476b-b150-8e92c1d4bb0a",
   "metadata": {},
   "outputs": [],
   "source": [
    "# lifehacks endpoint\n",
    "lhs_url = \"https://api.pushshift.io/reddit/search/submission/?subreddit=lifehacks&metadata=true&size=0\"\n",
    "lht_url = \"https://api.pushshift.io/reddit/search/submission/?subreddit=lifehacks&metadata=true&size=0&is_self=true\"\n",
    "\n",
    "# lifeprotips endpoint\n",
    "lpts_url = \"https://api.pushshift.io/reddit/search/submission/?subreddit=LifeProTips&metadata=true&size=0\"\n",
    "lptt_url = \"https://api.pushshift.io/reddit/search/submission/?subreddit=LifeProTips&metadata=true&size=0&is_self=true\""
   ]
  },
  {
   "cell_type": "code",
   "execution_count": 42,
   "id": "32660d53-9068-4212-aa47-0c32b7a3fc35",
   "metadata": {},
   "outputs": [
    {
     "name": "stdout",
     "output_type": "stream",
     "text": [
      "200 200\n",
      "200 200\n"
     ]
    }
   ],
   "source": [
    "# verifying call was successful\n",
    "res_lhs = requests.get(lhs_url)\n",
    "res_lht = requests.get(lht_url)\n",
    "res_lpts = requests.get(lpts_url)\n",
    "res_lptt = requests.get(lptt_url)\n",
    "\n",
    "print(res_lhs.status_code, res_lht.status_code)\n",
    "print(res_lpts.status_code, res_lptt.status_code)"
   ]
  },
  {
   "cell_type": "markdown",
   "id": "0622e598-b207-4295-a23b-e9d828a88dd2",
   "metadata": {},
   "source": [
    "All requests successful."
   ]
  },
  {
   "cell_type": "code",
   "execution_count": 43,
   "id": "fb1df2c9-8e94-4fdf-9daa-6f0aa488e2df",
   "metadata": {},
   "outputs": [
    {
     "name": "stdout",
     "output_type": "stream",
     "text": [
      "LifeHacks Total Submissions: 81966\n",
      "LifeHacks Total Self-Text Posts: 23329\n",
      "LifeProTips Total Submissions: 556214\n",
      "LifeProTips Total Self-Text Posts: 535212\n"
     ]
    }
   ],
   "source": [
    "lhs_count = res_lhs.json()['metadata']['total_results']\n",
    "lht_count = res_lht.json()['metadata']['total_results']\n",
    "\n",
    "lpts_count = res_lpts.json()['metadata']['total_results']\n",
    "lptt_count = res_lptt.json()['metadata']['total_results']\n",
    "\n",
    "print(f\"LifeHacks Total Submissions: {lhs_count}\\nLifeHacks Total Self-Text Posts: {lht_count}\")\n",
    "print(f\"LifeProTips Total Submissions: {lpts_count}\\nLifeProTips Total Self-Text Posts: {lptt_count}\")"
   ]
  },
  {
   "cell_type": "markdown",
   "id": "8a82ced8-cbdf-44f1-be99-ba59f15dfe4d",
   "metadata": {},
   "source": [
    "## Data Wrangling - r/Lifehacks"
   ]
  },
  {
   "cell_type": "markdown",
   "id": "aec7a124-b478-4eb5-b84c-e04b077ced5c",
   "metadata": {},
   "source": [
    "Here we request data and aggregate it into a single dataframe."
   ]
  },
  {
   "cell_type": "code",
   "execution_count": 44,
   "id": "aa359293-f0fd-4424-ae9b-a5d119c39247",
   "metadata": {},
   "outputs": [],
   "source": [
    "# Content we care about:\n",
    "keys = ['author', 'author_fullname', 'created_utc', 'selftext', 'title', 'subreddit', 'is_video', 'num_comments', 'score', 'upvote_ratio']\n",
    "\n",
    "# instantiate new dict to capture api data\n",
    "lh_data = defaultdict(list)"
   ]
  },
  {
   "cell_type": "code",
   "execution_count": 45,
   "id": "5f171c76-4a6a-456b-94a5-254c620475c5",
   "metadata": {},
   "outputs": [],
   "source": [
    "# making api call\n",
    "lh_call = api_call('lifehacks', 100, '1648771200')"
   ]
  },
  {
   "cell_type": "markdown",
   "id": "d7b5d0fb-ca32-4203-82c7-fe0a1e9f1cdc",
   "metadata": {},
   "source": [
    "Note here we use the UTC `1648771200` which is `Friday, April 1, 2022 12:00:00 AM`. We use this date for consistency of the data we obtain."
   ]
  },
  {
   "cell_type": "code",
   "execution_count": 46,
   "id": "c93426f5-3c11-4d62-89f4-687274e03879",
   "metadata": {},
   "outputs": [
    {
     "data": {
      "text/plain": [
       "100"
      ]
     },
     "execution_count": 46,
     "metadata": {},
     "output_type": "execute_result"
    }
   ],
   "source": [
    "len(lh_call) # we could only request data 100 submissions at a time"
   ]
  },
  {
   "cell_type": "code",
   "execution_count": 47,
   "id": "bf5a9aae-7020-436f-8b9a-b66dfc12492e",
   "metadata": {},
   "outputs": [],
   "source": [
    "# wrangling api call into a dictionary that will be used on a dataframe\n",
    "data = data_wrangling(lh_data, keys, lh_call)"
   ]
  },
  {
   "cell_type": "code",
   "execution_count": 48,
   "id": "7b744887-9f80-4938-a07e-ff04ace3f856",
   "metadata": {},
   "outputs": [
    {
     "data": {
      "text/plain": [
       "[]"
      ]
     },
     "execution_count": 48,
     "metadata": {},
     "output_type": "execute_result"
    }
   ],
   "source": [
    "# checking if any data was not capture in the api call\n",
    "data['error_log']"
   ]
  },
  {
   "cell_type": "code",
   "execution_count": 49,
   "id": "1cfd06df-68f6-46ef-897a-aa73c1054de1",
   "metadata": {},
   "outputs": [
    {
     "data": {
      "text/html": [
       "<div>\n",
       "<style scoped>\n",
       "    .dataframe tbody tr th:only-of-type {\n",
       "        vertical-align: middle;\n",
       "    }\n",
       "\n",
       "    .dataframe tbody tr th {\n",
       "        vertical-align: top;\n",
       "    }\n",
       "\n",
       "    .dataframe thead th {\n",
       "        text-align: right;\n",
       "    }\n",
       "</style>\n",
       "<table border=\"1\" class=\"dataframe\">\n",
       "  <thead>\n",
       "    <tr style=\"text-align: right;\">\n",
       "      <th></th>\n",
       "      <th>author</th>\n",
       "      <th>author_fullname</th>\n",
       "      <th>created_utc</th>\n",
       "      <th>selftext</th>\n",
       "      <th>title</th>\n",
       "      <th>subreddit</th>\n",
       "      <th>is_video</th>\n",
       "      <th>num_comments</th>\n",
       "      <th>score</th>\n",
       "      <th>upvote_ratio</th>\n",
       "    </tr>\n",
       "  </thead>\n",
       "  <tbody>\n",
       "    <tr>\n",
       "      <th>95</th>\n",
       "      <td>Agent_Exile</td>\n",
       "      <td>t2_jsijnho7</td>\n",
       "      <td>1648637199</td>\n",
       "      <td></td>\n",
       "      <td>true lifehack</td>\n",
       "      <td>lifehacks</td>\n",
       "      <td>False</td>\n",
       "      <td>0</td>\n",
       "      <td>1</td>\n",
       "      <td>1.0</td>\n",
       "    </tr>\n",
       "    <tr>\n",
       "      <th>96</th>\n",
       "      <td>satrianovian20</td>\n",
       "      <td>t2_l18xyp0p</td>\n",
       "      <td>1648636580</td>\n",
       "      <td></td>\n",
       "      <td>useful education that will bring you closer to...</td>\n",
       "      <td>lifehacks</td>\n",
       "      <td>False</td>\n",
       "      <td>0</td>\n",
       "      <td>1</td>\n",
       "      <td>1.0</td>\n",
       "    </tr>\n",
       "    <tr>\n",
       "      <th>97</th>\n",
       "      <td>Scvoopy</td>\n",
       "      <td>t2_dj6kvqr3</td>\n",
       "      <td>1648631857</td>\n",
       "      <td></td>\n",
       "      <td>Ottocast Coupon Code | 30% OFF Discount Code 2022</td>\n",
       "      <td>lifehacks</td>\n",
       "      <td>False</td>\n",
       "      <td>0</td>\n",
       "      <td>1</td>\n",
       "      <td>1.0</td>\n",
       "    </tr>\n",
       "    <tr>\n",
       "      <th>98</th>\n",
       "      <td>FederalBlacksmith663</td>\n",
       "      <td>t2_imeh5kjl</td>\n",
       "      <td>1648629755</td>\n",
       "      <td>[removed]</td>\n",
       "      <td>Should I send a gift to my ex?</td>\n",
       "      <td>lifehacks</td>\n",
       "      <td>False</td>\n",
       "      <td>0</td>\n",
       "      <td>1</td>\n",
       "      <td>1.0</td>\n",
       "    </tr>\n",
       "    <tr>\n",
       "      <th>99</th>\n",
       "      <td>satrianovian20</td>\n",
       "      <td>t2_l18xyp0p</td>\n",
       "      <td>1648624604</td>\n",
       "      <td></td>\n",
       "      <td>useful information that will bring you closer ...</td>\n",
       "      <td>lifehacks</td>\n",
       "      <td>False</td>\n",
       "      <td>0</td>\n",
       "      <td>1</td>\n",
       "      <td>1.0</td>\n",
       "    </tr>\n",
       "  </tbody>\n",
       "</table>\n",
       "</div>"
      ],
      "text/plain": [
       "                  author author_fullname  created_utc   selftext  \\\n",
       "95           Agent_Exile     t2_jsijnho7   1648637199              \n",
       "96        satrianovian20     t2_l18xyp0p   1648636580              \n",
       "97               Scvoopy     t2_dj6kvqr3   1648631857              \n",
       "98  FederalBlacksmith663     t2_imeh5kjl   1648629755  [removed]   \n",
       "99        satrianovian20     t2_l18xyp0p   1648624604              \n",
       "\n",
       "                                                title  subreddit  is_video  \\\n",
       "95                                      true lifehack  lifehacks     False   \n",
       "96  useful education that will bring you closer to...  lifehacks     False   \n",
       "97  Ottocast Coupon Code | 30% OFF Discount Code 2022  lifehacks     False   \n",
       "98                     Should I send a gift to my ex?  lifehacks     False   \n",
       "99  useful information that will bring you closer ...  lifehacks     False   \n",
       "\n",
       "    num_comments  score  upvote_ratio  \n",
       "95             0      1           1.0  \n",
       "96             0      1           1.0  \n",
       "97             0      1           1.0  \n",
       "98             0      1           1.0  \n",
       "99             0      1           1.0  "
      ]
     },
     "execution_count": 49,
     "metadata": {},
     "output_type": "execute_result"
    }
   ],
   "source": [
    "# api data dictionary to dataframe\n",
    "df_lh = pd.DataFrame(data['data'])\n",
    "df_lh.tail()"
   ]
  },
  {
   "cell_type": "markdown",
   "id": "aa82b922-8694-4074-809a-179075a27e90",
   "metadata": {},
   "source": [
    "A small trick here. We will use the submission time of the last post we collected, and wrangle more data that predates that submission. We will then append that data to the dataframe, until we have all the data we need. The process for that is below."
   ]
  },
  {
   "cell_type": "code",
   "execution_count": 50,
   "id": "96eb2b8c-8289-423b-9143-7c0831b19949",
   "metadata": {},
   "outputs": [
    {
     "data": {
      "text/plain": [
       "1648624604"
      ]
     },
     "execution_count": 50,
     "metadata": {},
     "output_type": "execute_result"
    }
   ],
   "source": [
    "# last collected submission\n",
    "last_utc = df_lh.loc[len(df_lh) - 1, 'created_utc']\n",
    "last_utc"
   ]
  },
  {
   "cell_type": "markdown",
   "id": "cfdb4454-52b6-4323-aa0f-fe9f283c829e",
   "metadata": {},
   "source": [
    "Here we continue making api calls, with new data each time (predating the last data that is collected each time). We will collect at least 5000 rows of data."
   ]
  },
  {
   "cell_type": "code",
   "execution_count": 51,
   "id": "4be82681-9a1d-4407-b5e8-ed4f2c9d8e1c",
   "metadata": {},
   "outputs": [],
   "source": [
    "# continue wrangling data until a certain size is met\n",
    "while len(df_lh) < 5000:\n",
    "    try:\n",
    "        lh_call = api_call('lifehacks', 100, last_utc)\n",
    "    except:\n",
    "        print(\"Data wrangling failed.\")\n",
    "        break\n",
    "    \n",
    "    data = data_wrangling(lh_data, keys, lh_call)\n",
    "    df_lh = pd.DataFrame(data['data'])\n",
    "    last_utc = df_lh.loc[len(df_lh) - 1, 'created_utc']"
   ]
  },
  {
   "cell_type": "code",
   "execution_count": 52,
   "id": "8802b7ed-3194-44a4-a684-3180dd1de90c",
   "metadata": {},
   "outputs": [
    {
     "data": {
      "text/plain": [
       "(5022, 10)"
      ]
     },
     "execution_count": 52,
     "metadata": {},
     "output_type": "execute_result"
    }
   ],
   "source": [
    "# verifying data was collected\n",
    "df_lh.shape"
   ]
  },
  {
   "cell_type": "code",
   "execution_count": 53,
   "id": "454443ef-147b-4edb-8d1f-447d80d8e7e4",
   "metadata": {},
   "outputs": [
    {
     "name": "stdout",
     "output_type": "stream",
     "text": [
      "<class 'pandas.core.frame.DataFrame'>\n",
      "RangeIndex: 5022 entries, 0 to 5021\n",
      "Data columns (total 10 columns):\n",
      " #   Column           Non-Null Count  Dtype  \n",
      "---  ------           --------------  -----  \n",
      " 0   author           2998 non-null   object \n",
      " 1   author_fullname  2990 non-null   object \n",
      " 2   created_utc      2998 non-null   float64\n",
      " 3   selftext         2995 non-null   object \n",
      " 4   title            2998 non-null   object \n",
      " 5   subreddit        2998 non-null   object \n",
      " 6   is_video         2998 non-null   object \n",
      " 7   num_comments     2998 non-null   float64\n",
      " 8   score            2998 non-null   float64\n",
      " 9   upvote_ratio     2998 non-null   float64\n",
      "dtypes: float64(4), object(6)\n",
      "memory usage: 392.5+ KB\n"
     ]
    }
   ],
   "source": [
    "df_lh.info()"
   ]
  },
  {
   "cell_type": "code",
   "execution_count": 54,
   "id": "e48ba811-6abd-4590-8293-0974197ba56e",
   "metadata": {},
   "outputs": [
    {
     "data": {
      "text/plain": [
       "author_fullname    2032\n",
       "selftext           2027\n",
       "author             2024\n",
       "created_utc        2024\n",
       "title              2024\n",
       "subreddit          2024\n",
       "is_video           2024\n",
       "num_comments       2024\n",
       "score              2024\n",
       "upvote_ratio       2024\n",
       "dtype: int64"
      ]
     },
     "execution_count": 54,
     "metadata": {},
     "output_type": "execute_result"
    }
   ],
   "source": [
    "na_only(df_lh)"
   ]
  },
  {
   "cell_type": "markdown",
   "id": "49ea398d-a22a-4cf0-bdb5-c49dcfe167d4",
   "metadata": {},
   "source": [
    "Looks like we have missing data. We are only interested in posts with data, so we will drop them now."
   ]
  },
  {
   "cell_type": "code",
   "execution_count": 55,
   "id": "ce312624-f81d-4321-89ee-4587a37df8c5",
   "metadata": {},
   "outputs": [],
   "source": [
    "# drop NAs\n",
    "df_lh = df_lh.dropna()"
   ]
  },
  {
   "cell_type": "code",
   "execution_count": 56,
   "id": "395c0bc7-688b-486c-8fe4-142622f1ff7b",
   "metadata": {},
   "outputs": [
    {
     "data": {
      "text/plain": [
       "2990"
      ]
     },
     "execution_count": 56,
     "metadata": {},
     "output_type": "execute_result"
    }
   ],
   "source": [
    "len(df_lh) #nunmber of rows"
   ]
  },
  {
   "cell_type": "code",
   "execution_count": 57,
   "id": "34e684a7-4d2b-4d56-a7cb-92a8f7e37b49",
   "metadata": {},
   "outputs": [
    {
     "data": {
      "text/plain": [
       "2988"
      ]
     },
     "execution_count": 57,
     "metadata": {},
     "output_type": "execute_result"
    }
   ],
   "source": [
    "# checking if our data is unique based on submission times\n",
    "len(np.unique(df_lh['created_utc']))"
   ]
  },
  {
   "cell_type": "markdown",
   "id": "679fdab0-abaf-4d73-95e2-bf6584f8afc9",
   "metadata": {},
   "source": [
    "All but a few rows of data have different times of submission, which is a strong suggestion all our data are unique submissions."
   ]
  },
  {
   "cell_type": "code",
   "execution_count": 58,
   "id": "e9bf28dd-7fea-4289-9012-0b486837b127",
   "metadata": {},
   "outputs": [
    {
     "data": {
      "text/html": [
       "<div>\n",
       "<style scoped>\n",
       "    .dataframe tbody tr th:only-of-type {\n",
       "        vertical-align: middle;\n",
       "    }\n",
       "\n",
       "    .dataframe tbody tr th {\n",
       "        vertical-align: top;\n",
       "    }\n",
       "\n",
       "    .dataframe thead th {\n",
       "        text-align: right;\n",
       "    }\n",
       "</style>\n",
       "<table border=\"1\" class=\"dataframe\">\n",
       "  <thead>\n",
       "    <tr style=\"text-align: right;\">\n",
       "      <th></th>\n",
       "      <th>author</th>\n",
       "      <th>author_fullname</th>\n",
       "      <th>created_utc</th>\n",
       "      <th>selftext</th>\n",
       "      <th>title</th>\n",
       "      <th>subreddit</th>\n",
       "      <th>is_video</th>\n",
       "      <th>num_comments</th>\n",
       "      <th>score</th>\n",
       "      <th>upvote_ratio</th>\n",
       "    </tr>\n",
       "  </thead>\n",
       "  <tbody>\n",
       "    <tr>\n",
       "      <th>0</th>\n",
       "      <td>anonymousbrowzer</td>\n",
       "      <td>t2_14k10v</td>\n",
       "      <td>1.648770e+09</td>\n",
       "      <td></td>\n",
       "      <td>When the smoke detector goes off from cooking,...</td>\n",
       "      <td>lifehacks</td>\n",
       "      <td>False</td>\n",
       "      <td>0.0</td>\n",
       "      <td>1.0</td>\n",
       "      <td>1.0</td>\n",
       "    </tr>\n",
       "    <tr>\n",
       "      <th>1</th>\n",
       "      <td>PlantBasedRedditor</td>\n",
       "      <td>t2_g4e0rfz</td>\n",
       "      <td>1.648767e+09</td>\n",
       "      <td></td>\n",
       "      <td>Use Goo Gone on scissors and blades to reduce ...</td>\n",
       "      <td>lifehacks</td>\n",
       "      <td>False</td>\n",
       "      <td>0.0</td>\n",
       "      <td>1.0</td>\n",
       "      <td>1.0</td>\n",
       "    </tr>\n",
       "    <tr>\n",
       "      <th>2</th>\n",
       "      <td>CryptographerFar5073</td>\n",
       "      <td>t2_ldjcr311</td>\n",
       "      <td>1.648764e+09</td>\n",
       "      <td></td>\n",
       "      <td>Bingo Bash</td>\n",
       "      <td>lifehacks</td>\n",
       "      <td>False</td>\n",
       "      <td>0.0</td>\n",
       "      <td>1.0</td>\n",
       "      <td>1.0</td>\n",
       "    </tr>\n",
       "    <tr>\n",
       "      <th>3</th>\n",
       "      <td>Giant_weiner_not_dog</td>\n",
       "      <td>t2_konlr4kt</td>\n",
       "      <td>1.648763e+09</td>\n",
       "      <td></td>\n",
       "      <td>How to troll someone</td>\n",
       "      <td>lifehacks</td>\n",
       "      <td>False</td>\n",
       "      <td>0.0</td>\n",
       "      <td>1.0</td>\n",
       "      <td>1.0</td>\n",
       "    </tr>\n",
       "    <tr>\n",
       "      <th>4</th>\n",
       "      <td>Giant_weiner_not_dog</td>\n",
       "      <td>t2_konlr4kt</td>\n",
       "      <td>1.648762e+09</td>\n",
       "      <td></td>\n",
       "      <td>what a nice way to have your meal( credit to u...</td>\n",
       "      <td>lifehacks</td>\n",
       "      <td>False</td>\n",
       "      <td>0.0</td>\n",
       "      <td>1.0</td>\n",
       "      <td>1.0</td>\n",
       "    </tr>\n",
       "  </tbody>\n",
       "</table>\n",
       "</div>"
      ],
      "text/plain": [
       "                 author author_fullname   created_utc selftext  \\\n",
       "0      anonymousbrowzer       t2_14k10v  1.648770e+09            \n",
       "1    PlantBasedRedditor      t2_g4e0rfz  1.648767e+09            \n",
       "2  CryptographerFar5073     t2_ldjcr311  1.648764e+09            \n",
       "3  Giant_weiner_not_dog     t2_konlr4kt  1.648763e+09            \n",
       "4  Giant_weiner_not_dog     t2_konlr4kt  1.648762e+09            \n",
       "\n",
       "                                               title  subreddit is_video  \\\n",
       "0  When the smoke detector goes off from cooking,...  lifehacks    False   \n",
       "1  Use Goo Gone on scissors and blades to reduce ...  lifehacks    False   \n",
       "2                                         Bingo Bash  lifehacks    False   \n",
       "3                               How to troll someone  lifehacks    False   \n",
       "4  what a nice way to have your meal( credit to u...  lifehacks    False   \n",
       "\n",
       "   num_comments  score  upvote_ratio  \n",
       "0           0.0    1.0           1.0  \n",
       "1           0.0    1.0           1.0  \n",
       "2           0.0    1.0           1.0  \n",
       "3           0.0    1.0           1.0  \n",
       "4           0.0    1.0           1.0  "
      ]
     },
     "execution_count": 58,
     "metadata": {},
     "output_type": "execute_result"
    }
   ],
   "source": [
    "df_lh.head()"
   ]
  },
  {
   "cell_type": "code",
   "execution_count": 59,
   "id": "d8b95b26-fbe8-402b-a3c2-20921b6cd651",
   "metadata": {},
   "outputs": [
    {
     "data": {
      "text/html": [
       "<div>\n",
       "<style scoped>\n",
       "    .dataframe tbody tr th:only-of-type {\n",
       "        vertical-align: middle;\n",
       "    }\n",
       "\n",
       "    .dataframe tbody tr th {\n",
       "        vertical-align: top;\n",
       "    }\n",
       "\n",
       "    .dataframe thead th {\n",
       "        text-align: right;\n",
       "    }\n",
       "</style>\n",
       "<table border=\"1\" class=\"dataframe\">\n",
       "  <thead>\n",
       "    <tr style=\"text-align: right;\">\n",
       "      <th></th>\n",
       "      <th>author</th>\n",
       "      <th>author_fullname</th>\n",
       "      <th>created_utc</th>\n",
       "      <th>selftext</th>\n",
       "      <th>title</th>\n",
       "      <th>subreddit</th>\n",
       "      <th>is_video</th>\n",
       "      <th>num_comments</th>\n",
       "      <th>score</th>\n",
       "      <th>upvote_ratio</th>\n",
       "    </tr>\n",
       "  </thead>\n",
       "  <tbody>\n",
       "    <tr>\n",
       "      <th>2993</th>\n",
       "      <td>AnyBeing6604</td>\n",
       "      <td>t2_iag9y01b</td>\n",
       "      <td>1.642053e+09</td>\n",
       "      <td>[removed]</td>\n",
       "      <td>懲罰一個男人不忠的最好方式：不是報復，也不是讓他付出代價</td>\n",
       "      <td>lifehacks</td>\n",
       "      <td>False</td>\n",
       "      <td>0.0</td>\n",
       "      <td>1.0</td>\n",
       "      <td>1.0</td>\n",
       "    </tr>\n",
       "    <tr>\n",
       "      <th>2994</th>\n",
       "      <td>polkmjh</td>\n",
       "      <td>t2_xrd6cwt</td>\n",
       "      <td>1.642052e+09</td>\n",
       "      <td></td>\n",
       "      <td>buy f-phenibut powder</td>\n",
       "      <td>lifehacks</td>\n",
       "      <td>False</td>\n",
       "      <td>0.0</td>\n",
       "      <td>1.0</td>\n",
       "      <td>1.0</td>\n",
       "    </tr>\n",
       "    <tr>\n",
       "      <th>2995</th>\n",
       "      <td>AnyBeing6604</td>\n",
       "      <td>t2_iag9y01b</td>\n",
       "      <td>1.642052e+09</td>\n",
       "      <td>[removed]</td>\n",
       "      <td>懲罰一個男人不忠的最好方式：不是報復，也不是讓他付出代價</td>\n",
       "      <td>lifehacks</td>\n",
       "      <td>False</td>\n",
       "      <td>0.0</td>\n",
       "      <td>1.0</td>\n",
       "      <td>1.0</td>\n",
       "    </tr>\n",
       "    <tr>\n",
       "      <th>2996</th>\n",
       "      <td>polkmjh</td>\n",
       "      <td>t2_xrd6cwt</td>\n",
       "      <td>1.642049e+09</td>\n",
       "      <td></td>\n",
       "      <td>Dike Ajiri</td>\n",
       "      <td>lifehacks</td>\n",
       "      <td>False</td>\n",
       "      <td>0.0</td>\n",
       "      <td>1.0</td>\n",
       "      <td>1.0</td>\n",
       "    </tr>\n",
       "    <tr>\n",
       "      <th>2997</th>\n",
       "      <td>polkmjh</td>\n",
       "      <td>t2_xrd6cwt</td>\n",
       "      <td>1.642049e+09</td>\n",
       "      <td></td>\n",
       "      <td>Dike Ajiri</td>\n",
       "      <td>lifehacks</td>\n",
       "      <td>False</td>\n",
       "      <td>0.0</td>\n",
       "      <td>1.0</td>\n",
       "      <td>1.0</td>\n",
       "    </tr>\n",
       "  </tbody>\n",
       "</table>\n",
       "</div>"
      ],
      "text/plain": [
       "            author author_fullname   created_utc   selftext  \\\n",
       "2993  AnyBeing6604     t2_iag9y01b  1.642053e+09  [removed]   \n",
       "2994       polkmjh      t2_xrd6cwt  1.642052e+09              \n",
       "2995  AnyBeing6604     t2_iag9y01b  1.642052e+09  [removed]   \n",
       "2996       polkmjh      t2_xrd6cwt  1.642049e+09              \n",
       "2997       polkmjh      t2_xrd6cwt  1.642049e+09              \n",
       "\n",
       "                             title  subreddit is_video  num_comments  score  \\\n",
       "2993  懲罰一個男人不忠的最好方式：不是報復，也不是讓他付出代價  lifehacks    False           0.0    1.0   \n",
       "2994         buy f-phenibut powder  lifehacks    False           0.0    1.0   \n",
       "2995  懲罰一個男人不忠的最好方式：不是報復，也不是讓他付出代價  lifehacks    False           0.0    1.0   \n",
       "2996                    Dike Ajiri  lifehacks    False           0.0    1.0   \n",
       "2997                    Dike Ajiri  lifehacks    False           0.0    1.0   \n",
       "\n",
       "      upvote_ratio  \n",
       "2993           1.0  \n",
       "2994           1.0  \n",
       "2995           1.0  \n",
       "2996           1.0  \n",
       "2997           1.0  "
      ]
     },
     "execution_count": 59,
     "metadata": {},
     "output_type": "execute_result"
    }
   ],
   "source": [
    "df_lh.tail()"
   ]
  },
  {
   "cell_type": "markdown",
   "id": "bfe2fe87-0017-4f86-8c7a-8b8906315b86",
   "metadata": {},
   "source": [
    "## Data Wrangling - r/LifeProTips"
   ]
  },
  {
   "cell_type": "markdown",
   "id": "702e5812-0d0b-44d5-82ab-8b8e26f8e2fe",
   "metadata": {},
   "source": [
    "We use the exact methodology to wrangle data for `r/LifeProTips` as we did with `r/lifehacks`."
   ]
  },
  {
   "cell_type": "code",
   "execution_count": 60,
   "id": "23966dc7-a583-4a8c-88ca-c16b9d1b8865",
   "metadata": {},
   "outputs": [],
   "source": [
    "# instantiate new dict to capture api data\n",
    "lpt_data = defaultdict(list)"
   ]
  },
  {
   "cell_type": "code",
   "execution_count": 61,
   "id": "31a22eb2-08dd-48d4-884a-220cc9f14613",
   "metadata": {},
   "outputs": [],
   "source": [
    "# making api call\n",
    "lpt_call = api_call('LifeProTips', 100, '1648771200')"
   ]
  },
  {
   "cell_type": "code",
   "execution_count": 62,
   "id": "03cec5bf-8352-4c55-9e04-d77d8d69af7c",
   "metadata": {},
   "outputs": [
    {
     "data": {
      "text/plain": [
       "100"
      ]
     },
     "execution_count": 62,
     "metadata": {},
     "output_type": "execute_result"
    }
   ],
   "source": [
    "len(lpt_call) # we could only request data 100 submissions at a time"
   ]
  },
  {
   "cell_type": "code",
   "execution_count": 63,
   "id": "42a57f8a-40a8-4424-ba49-50d2ad6b2dff",
   "metadata": {},
   "outputs": [],
   "source": [
    "# wrangling api call into a dictionary that will be used on a dataframe\n",
    "data = data_wrangling(lpt_data, keys, lpt_call)"
   ]
  },
  {
   "cell_type": "markdown",
   "id": "51ca4140-3a97-44be-ae48-39fd2d0264d8",
   "metadata": {},
   "source": [
    "Note we are using the same keys as `r/lifehacks`."
   ]
  },
  {
   "cell_type": "code",
   "execution_count": 64,
   "id": "ecd83d9d-f3de-439f-a9d0-af14e07c0caf",
   "metadata": {},
   "outputs": [
    {
     "data": {
      "text/plain": [
       "[]"
      ]
     },
     "execution_count": 64,
     "metadata": {},
     "output_type": "execute_result"
    }
   ],
   "source": [
    "# checking if any data was not capture in the api call\n",
    "data['error_log']"
   ]
  },
  {
   "cell_type": "code",
   "execution_count": 65,
   "id": "11ec6884-0068-4d13-88dd-8f1c74cdc5fb",
   "metadata": {},
   "outputs": [
    {
     "data": {
      "text/html": [
       "<div>\n",
       "<style scoped>\n",
       "    .dataframe tbody tr th:only-of-type {\n",
       "        vertical-align: middle;\n",
       "    }\n",
       "\n",
       "    .dataframe tbody tr th {\n",
       "        vertical-align: top;\n",
       "    }\n",
       "\n",
       "    .dataframe thead th {\n",
       "        text-align: right;\n",
       "    }\n",
       "</style>\n",
       "<table border=\"1\" class=\"dataframe\">\n",
       "  <thead>\n",
       "    <tr style=\"text-align: right;\">\n",
       "      <th></th>\n",
       "      <th>author</th>\n",
       "      <th>author_fullname</th>\n",
       "      <th>created_utc</th>\n",
       "      <th>selftext</th>\n",
       "      <th>title</th>\n",
       "      <th>subreddit</th>\n",
       "      <th>is_video</th>\n",
       "      <th>num_comments</th>\n",
       "      <th>score</th>\n",
       "      <th>upvote_ratio</th>\n",
       "    </tr>\n",
       "  </thead>\n",
       "  <tbody>\n",
       "    <tr>\n",
       "      <th>95</th>\n",
       "      <td>PrinceLelouch</td>\n",
       "      <td>t2_gdxku</td>\n",
       "      <td>1648735730</td>\n",
       "      <td>[removed]</td>\n",
       "      <td>Save space with your Jigsaw Puzzles by putting...</td>\n",
       "      <td>LifeProTips</td>\n",
       "      <td>False</td>\n",
       "      <td>1</td>\n",
       "      <td>1</td>\n",
       "      <td>1.0</td>\n",
       "    </tr>\n",
       "    <tr>\n",
       "      <th>96</th>\n",
       "      <td>bmbustamante</td>\n",
       "      <td>t2_kb04e</td>\n",
       "      <td>1648735471</td>\n",
       "      <td>[removed]</td>\n",
       "      <td>LPT Request: How to learn how to re-string my ...</td>\n",
       "      <td>LifeProTips</td>\n",
       "      <td>False</td>\n",
       "      <td>1</td>\n",
       "      <td>1</td>\n",
       "      <td>1.0</td>\n",
       "    </tr>\n",
       "    <tr>\n",
       "      <th>97</th>\n",
       "      <td>AGirlNamedPanini</td>\n",
       "      <td>t2_shu2lou</td>\n",
       "      <td>1648735345</td>\n",
       "      <td>[removed]</td>\n",
       "      <td>You can have a nice bathroom to use anywhere y...</td>\n",
       "      <td>LifeProTips</td>\n",
       "      <td>False</td>\n",
       "      <td>1</td>\n",
       "      <td>1</td>\n",
       "      <td>1.0</td>\n",
       "    </tr>\n",
       "    <tr>\n",
       "      <th>98</th>\n",
       "      <td>cosmicucumber</td>\n",
       "      <td>t2_942tzpp</td>\n",
       "      <td>1648734733</td>\n",
       "      <td>I finally got around to painting my nails blac...</td>\n",
       "      <td>LPT: Want more compliments as a guy? Paint you...</td>\n",
       "      <td>LifeProTips</td>\n",
       "      <td>False</td>\n",
       "      <td>1</td>\n",
       "      <td>1</td>\n",
       "      <td>1.0</td>\n",
       "    </tr>\n",
       "    <tr>\n",
       "      <th>99</th>\n",
       "      <td>MarkGibneyNSC</td>\n",
       "      <td>t2_cspu1pkh</td>\n",
       "      <td>1648733196</td>\n",
       "      <td></td>\n",
       "      <td>LPT: If you’ve naturally clammy hands and you’...</td>\n",
       "      <td>LifeProTips</td>\n",
       "      <td>False</td>\n",
       "      <td>1</td>\n",
       "      <td>1</td>\n",
       "      <td>1.0</td>\n",
       "    </tr>\n",
       "  </tbody>\n",
       "</table>\n",
       "</div>"
      ],
      "text/plain": [
       "              author author_fullname  created_utc  \\\n",
       "95     PrinceLelouch        t2_gdxku   1648735730   \n",
       "96      bmbustamante        t2_kb04e   1648735471   \n",
       "97  AGirlNamedPanini      t2_shu2lou   1648735345   \n",
       "98     cosmicucumber      t2_942tzpp   1648734733   \n",
       "99     MarkGibneyNSC     t2_cspu1pkh   1648733196   \n",
       "\n",
       "                                             selftext  \\\n",
       "95                                          [removed]   \n",
       "96                                          [removed]   \n",
       "97                                          [removed]   \n",
       "98  I finally got around to painting my nails blac...   \n",
       "99                                                      \n",
       "\n",
       "                                                title    subreddit  is_video  \\\n",
       "95  Save space with your Jigsaw Puzzles by putting...  LifeProTips     False   \n",
       "96  LPT Request: How to learn how to re-string my ...  LifeProTips     False   \n",
       "97  You can have a nice bathroom to use anywhere y...  LifeProTips     False   \n",
       "98  LPT: Want more compliments as a guy? Paint you...  LifeProTips     False   \n",
       "99  LPT: If you’ve naturally clammy hands and you’...  LifeProTips     False   \n",
       "\n",
       "    num_comments  score  upvote_ratio  \n",
       "95             1      1           1.0  \n",
       "96             1      1           1.0  \n",
       "97             1      1           1.0  \n",
       "98             1      1           1.0  \n",
       "99             1      1           1.0  "
      ]
     },
     "execution_count": 65,
     "metadata": {},
     "output_type": "execute_result"
    }
   ],
   "source": [
    "# api data dictionary to dataframe\n",
    "df_lpt = pd.DataFrame(data['data'])\n",
    "df_lpt.tail()"
   ]
  },
  {
   "cell_type": "code",
   "execution_count": 66,
   "id": "33485f4b-257a-4090-b970-a233858caab4",
   "metadata": {},
   "outputs": [
    {
     "data": {
      "text/plain": [
       "1648733196"
      ]
     },
     "execution_count": 66,
     "metadata": {},
     "output_type": "execute_result"
    }
   ],
   "source": [
    "# last collected submission\n",
    "last_utc = df_lpt.loc[len(df_lpt) - 1, 'created_utc']\n",
    "last_utc"
   ]
  },
  {
   "cell_type": "markdown",
   "id": "57122d39-2f58-4365-8781-3eadbbb46ef6",
   "metadata": {},
   "source": [
    "Here we continue making api calls, with new data each time (predating the last data that is collected each time). We will collect at least 1000 rows of data."
   ]
  },
  {
   "cell_type": "code",
   "execution_count": 67,
   "id": "c54fdd7c-577d-4d1f-b6ec-cb6c116294d1",
   "metadata": {},
   "outputs": [],
   "source": [
    "# continue wrangling data until a certain size is met\n",
    "while len(df_lpt) < 5000:\n",
    "    try:\n",
    "        lpt_call = api_call('Lifeprotips', 100, last_utc)\n",
    "    except:\n",
    "        print(\"Data wrangling failed.\")\n",
    "        break\n",
    "    \n",
    "    data = data_wrangling(lpt_data, keys, lpt_call)\n",
    "    df_lpt = pd.DataFrame(data['data'])\n",
    "    last_utc = df_lpt.loc[len(df_lpt) - 1, 'created_utc']"
   ]
  },
  {
   "cell_type": "code",
   "execution_count": 68,
   "id": "f53f7032-c1e5-4a4e-83b8-67efb64730c3",
   "metadata": {},
   "outputs": [
    {
     "data": {
      "text/plain": [
       "(5003, 10)"
      ]
     },
     "execution_count": 68,
     "metadata": {},
     "output_type": "execute_result"
    }
   ],
   "source": [
    "# verifying data was collected\n",
    "df_lpt.shape"
   ]
  },
  {
   "cell_type": "code",
   "execution_count": 69,
   "id": "da180aaa-18a1-4dd4-840a-1662ae0a1f48",
   "metadata": {},
   "outputs": [
    {
     "name": "stdout",
     "output_type": "stream",
     "text": [
      "<class 'pandas.core.frame.DataFrame'>\n",
      "RangeIndex: 5003 entries, 0 to 5002\n",
      "Data columns (total 10 columns):\n",
      " #   Column           Non-Null Count  Dtype  \n",
      "---  ------           --------------  -----  \n",
      " 0   author           2496 non-null   object \n",
      " 1   author_fullname  2477 non-null   object \n",
      " 2   created_utc      2496 non-null   float64\n",
      " 3   selftext         2483 non-null   object \n",
      " 4   title            2496 non-null   object \n",
      " 5   subreddit        2496 non-null   object \n",
      " 6   is_video         2496 non-null   object \n",
      " 7   num_comments     2496 non-null   float64\n",
      " 8   score            2496 non-null   float64\n",
      " 9   upvote_ratio     2496 non-null   float64\n",
      "dtypes: float64(4), object(6)\n",
      "memory usage: 391.0+ KB\n"
     ]
    }
   ],
   "source": [
    "df_lpt.info()"
   ]
  },
  {
   "cell_type": "code",
   "execution_count": 70,
   "id": "253a2a67-29c8-4ab2-8f5b-bc556031f47e",
   "metadata": {},
   "outputs": [
    {
     "data": {
      "text/plain": [
       "author_fullname    2526\n",
       "selftext           2520\n",
       "author             2507\n",
       "created_utc        2507\n",
       "title              2507\n",
       "subreddit          2507\n",
       "is_video           2507\n",
       "num_comments       2507\n",
       "score              2507\n",
       "upvote_ratio       2507\n",
       "dtype: int64"
      ]
     },
     "execution_count": 70,
     "metadata": {},
     "output_type": "execute_result"
    }
   ],
   "source": [
    "na_only(df_lpt)"
   ]
  },
  {
   "cell_type": "markdown",
   "id": "d0e7de3f-a660-46d0-8a3b-d569caa3de59",
   "metadata": {},
   "source": [
    "Looks like we have missing data. We are only interested in posts with data, so we will drop them now."
   ]
  },
  {
   "cell_type": "code",
   "execution_count": 71,
   "id": "30023a68-5607-44e5-94e4-f5d5030e8180",
   "metadata": {},
   "outputs": [],
   "source": [
    "# drop NAs\n",
    "df_lpt = df_lpt.dropna()"
   ]
  },
  {
   "cell_type": "code",
   "execution_count": 72,
   "id": "7eb76e8b-4daf-40ab-99a2-341725ead478",
   "metadata": {},
   "outputs": [
    {
     "data": {
      "text/plain": [
       "2477"
      ]
     },
     "execution_count": 72,
     "metadata": {},
     "output_type": "execute_result"
    }
   ],
   "source": [
    "len(df_lpt) #nunmber of rows"
   ]
  },
  {
   "cell_type": "code",
   "execution_count": 73,
   "id": "c9f06c47-e39e-456c-98b9-7bd7ee8fefc4",
   "metadata": {},
   "outputs": [
    {
     "data": {
      "text/plain": [
       "2477"
      ]
     },
     "execution_count": 73,
     "metadata": {},
     "output_type": "execute_result"
    }
   ],
   "source": [
    "# checking if our data is unique based on submission times\n",
    "len(np.unique(df_lpt['created_utc']))"
   ]
  },
  {
   "cell_type": "markdown",
   "id": "e39c6472-cb03-4957-8250-98fb9b6b9e67",
   "metadata": {},
   "source": [
    "All but a few rows of data have different times of submission, which is a strong suggestion all our data are unique submissions."
   ]
  },
  {
   "cell_type": "code",
   "execution_count": 74,
   "id": "ba9abaf4-db5d-4314-a57b-1d2115ab6521",
   "metadata": {},
   "outputs": [
    {
     "data": {
      "text/html": [
       "<div>\n",
       "<style scoped>\n",
       "    .dataframe tbody tr th:only-of-type {\n",
       "        vertical-align: middle;\n",
       "    }\n",
       "\n",
       "    .dataframe tbody tr th {\n",
       "        vertical-align: top;\n",
       "    }\n",
       "\n",
       "    .dataframe thead th {\n",
       "        text-align: right;\n",
       "    }\n",
       "</style>\n",
       "<table border=\"1\" class=\"dataframe\">\n",
       "  <thead>\n",
       "    <tr style=\"text-align: right;\">\n",
       "      <th></th>\n",
       "      <th>author</th>\n",
       "      <th>author_fullname</th>\n",
       "      <th>created_utc</th>\n",
       "      <th>selftext</th>\n",
       "      <th>title</th>\n",
       "      <th>subreddit</th>\n",
       "      <th>is_video</th>\n",
       "      <th>num_comments</th>\n",
       "      <th>score</th>\n",
       "      <th>upvote_ratio</th>\n",
       "    </tr>\n",
       "  </thead>\n",
       "  <tbody>\n",
       "    <tr>\n",
       "      <th>0</th>\n",
       "      <td>No-Software5654</td>\n",
       "      <td>t2_d3qolst6</td>\n",
       "      <td>1.648771e+09</td>\n",
       "      <td>Be very careful who you are surrounding yourse...</td>\n",
       "      <td>LPT: In a world like this, don't trust anybody.</td>\n",
       "      <td>LifeProTips</td>\n",
       "      <td>False</td>\n",
       "      <td>1.0</td>\n",
       "      <td>1.0</td>\n",
       "      <td>1.0</td>\n",
       "    </tr>\n",
       "    <tr>\n",
       "      <th>1</th>\n",
       "      <td>A-RareEntity</td>\n",
       "      <td>t2_4puu3g6g</td>\n",
       "      <td>1.648770e+09</td>\n",
       "      <td>[removed]</td>\n",
       "      <td>LPT: When you have a long drive ahead of you t...</td>\n",
       "      <td>LifeProTips</td>\n",
       "      <td>False</td>\n",
       "      <td>1.0</td>\n",
       "      <td>1.0</td>\n",
       "      <td>1.0</td>\n",
       "    </tr>\n",
       "    <tr>\n",
       "      <th>2</th>\n",
       "      <td>thegreatparanoia</td>\n",
       "      <td>t2_1j3hi83u</td>\n",
       "      <td>1.648769e+09</td>\n",
       "      <td>[removed]</td>\n",
       "      <td>LPT: Take 2 seconds to ask \"Can you hear me\" b...</td>\n",
       "      <td>LifeProTips</td>\n",
       "      <td>False</td>\n",
       "      <td>1.0</td>\n",
       "      <td>1.0</td>\n",
       "      <td>1.0</td>\n",
       "    </tr>\n",
       "    <tr>\n",
       "      <th>3</th>\n",
       "      <td>PreppingKangaroo</td>\n",
       "      <td>t2_h4nwbg1s</td>\n",
       "      <td>1.648769e+09</td>\n",
       "      <td>Keep in mind, these prices are based on where ...</td>\n",
       "      <td>LPT: Always take advantage of sales on non-per...</td>\n",
       "      <td>LifeProTips</td>\n",
       "      <td>False</td>\n",
       "      <td>1.0</td>\n",
       "      <td>1.0</td>\n",
       "      <td>1.0</td>\n",
       "    </tr>\n",
       "    <tr>\n",
       "      <th>4</th>\n",
       "      <td>photomancottrell</td>\n",
       "      <td>t2_6e6siq1u</td>\n",
       "      <td>1.648768e+09</td>\n",
       "      <td>Focus your work on the areas of your house tha...</td>\n",
       "      <td>LPT: When short on time and your house needs t...</td>\n",
       "      <td>LifeProTips</td>\n",
       "      <td>False</td>\n",
       "      <td>1.0</td>\n",
       "      <td>1.0</td>\n",
       "      <td>1.0</td>\n",
       "    </tr>\n",
       "  </tbody>\n",
       "</table>\n",
       "</div>"
      ],
      "text/plain": [
       "             author author_fullname   created_utc  \\\n",
       "0   No-Software5654     t2_d3qolst6  1.648771e+09   \n",
       "1      A-RareEntity     t2_4puu3g6g  1.648770e+09   \n",
       "2  thegreatparanoia     t2_1j3hi83u  1.648769e+09   \n",
       "3  PreppingKangaroo     t2_h4nwbg1s  1.648769e+09   \n",
       "4  photomancottrell     t2_6e6siq1u  1.648768e+09   \n",
       "\n",
       "                                            selftext  \\\n",
       "0  Be very careful who you are surrounding yourse...   \n",
       "1                                          [removed]   \n",
       "2                                          [removed]   \n",
       "3  Keep in mind, these prices are based on where ...   \n",
       "4  Focus your work on the areas of your house tha...   \n",
       "\n",
       "                                               title    subreddit is_video  \\\n",
       "0    LPT: In a world like this, don't trust anybody.  LifeProTips    False   \n",
       "1  LPT: When you have a long drive ahead of you t...  LifeProTips    False   \n",
       "2  LPT: Take 2 seconds to ask \"Can you hear me\" b...  LifeProTips    False   \n",
       "3  LPT: Always take advantage of sales on non-per...  LifeProTips    False   \n",
       "4  LPT: When short on time and your house needs t...  LifeProTips    False   \n",
       "\n",
       "   num_comments  score  upvote_ratio  \n",
       "0           1.0    1.0           1.0  \n",
       "1           1.0    1.0           1.0  \n",
       "2           1.0    1.0           1.0  \n",
       "3           1.0    1.0           1.0  \n",
       "4           1.0    1.0           1.0  "
      ]
     },
     "execution_count": 74,
     "metadata": {},
     "output_type": "execute_result"
    }
   ],
   "source": [
    "df_lpt.head()"
   ]
  },
  {
   "cell_type": "code",
   "execution_count": 75,
   "id": "78316a95-bf3d-4f78-ade9-d7e5b351cd48",
   "metadata": {},
   "outputs": [
    {
     "data": {
      "text/html": [
       "<div>\n",
       "<style scoped>\n",
       "    .dataframe tbody tr th:only-of-type {\n",
       "        vertical-align: middle;\n",
       "    }\n",
       "\n",
       "    .dataframe tbody tr th {\n",
       "        vertical-align: top;\n",
       "    }\n",
       "\n",
       "    .dataframe thead th {\n",
       "        text-align: right;\n",
       "    }\n",
       "</style>\n",
       "<table border=\"1\" class=\"dataframe\">\n",
       "  <thead>\n",
       "    <tr style=\"text-align: right;\">\n",
       "      <th></th>\n",
       "      <th>author</th>\n",
       "      <th>author_fullname</th>\n",
       "      <th>created_utc</th>\n",
       "      <th>selftext</th>\n",
       "      <th>title</th>\n",
       "      <th>subreddit</th>\n",
       "      <th>is_video</th>\n",
       "      <th>num_comments</th>\n",
       "      <th>score</th>\n",
       "      <th>upvote_ratio</th>\n",
       "    </tr>\n",
       "  </thead>\n",
       "  <tbody>\n",
       "    <tr>\n",
       "      <th>2491</th>\n",
       "      <td>dochoiday</td>\n",
       "      <td>t2_79f5e</td>\n",
       "      <td>1.647382e+09</td>\n",
       "      <td>[removed]</td>\n",
       "      <td>Unless it is covered under warranty, DO NOT br...</td>\n",
       "      <td>LifeProTips</td>\n",
       "      <td>False</td>\n",
       "      <td>1.0</td>\n",
       "      <td>1.0</td>\n",
       "      <td>1.0</td>\n",
       "    </tr>\n",
       "    <tr>\n",
       "      <th>2492</th>\n",
       "      <td>devilenka</td>\n",
       "      <td>t2_8kn983ie</td>\n",
       "      <td>1.647382e+09</td>\n",
       "      <td></td>\n",
       "      <td>LPT: Be careful about how much you share at wo...</td>\n",
       "      <td>LifeProTips</td>\n",
       "      <td>False</td>\n",
       "      <td>1.0</td>\n",
       "      <td>1.0</td>\n",
       "      <td>1.0</td>\n",
       "    </tr>\n",
       "    <tr>\n",
       "      <th>2493</th>\n",
       "      <td>gladeyes</td>\n",
       "      <td>t2_erudf</td>\n",
       "      <td>1.647381e+09</td>\n",
       "      <td></td>\n",
       "      <td>LPT. Sometimes it’s easier to figure out what ...</td>\n",
       "      <td>LifeProTips</td>\n",
       "      <td>False</td>\n",
       "      <td>1.0</td>\n",
       "      <td>1.0</td>\n",
       "      <td>1.0</td>\n",
       "    </tr>\n",
       "    <tr>\n",
       "      <th>2494</th>\n",
       "      <td>Optimistprime777</td>\n",
       "      <td>t2_3z31bmer</td>\n",
       "      <td>1.647381e+09</td>\n",
       "      <td></td>\n",
       "      <td>LPT: Clean up your YouTube subscriptions from ...</td>\n",
       "      <td>LifeProTips</td>\n",
       "      <td>False</td>\n",
       "      <td>1.0</td>\n",
       "      <td>1.0</td>\n",
       "      <td>1.0</td>\n",
       "    </tr>\n",
       "    <tr>\n",
       "      <th>2495</th>\n",
       "      <td>ContributionNarrow88</td>\n",
       "      <td>t2_6982d42g</td>\n",
       "      <td>1.647380e+09</td>\n",
       "      <td></td>\n",
       "      <td>LPT: Never attack someone else's character if ...</td>\n",
       "      <td>LifeProTips</td>\n",
       "      <td>False</td>\n",
       "      <td>1.0</td>\n",
       "      <td>1.0</td>\n",
       "      <td>1.0</td>\n",
       "    </tr>\n",
       "  </tbody>\n",
       "</table>\n",
       "</div>"
      ],
      "text/plain": [
       "                    author author_fullname   created_utc   selftext  \\\n",
       "2491             dochoiday        t2_79f5e  1.647382e+09  [removed]   \n",
       "2492             devilenka     t2_8kn983ie  1.647382e+09              \n",
       "2493              gladeyes        t2_erudf  1.647381e+09              \n",
       "2494      Optimistprime777     t2_3z31bmer  1.647381e+09              \n",
       "2495  ContributionNarrow88     t2_6982d42g  1.647380e+09              \n",
       "\n",
       "                                                  title    subreddit is_video  \\\n",
       "2491  Unless it is covered under warranty, DO NOT br...  LifeProTips    False   \n",
       "2492  LPT: Be careful about how much you share at wo...  LifeProTips    False   \n",
       "2493  LPT. Sometimes it’s easier to figure out what ...  LifeProTips    False   \n",
       "2494  LPT: Clean up your YouTube subscriptions from ...  LifeProTips    False   \n",
       "2495  LPT: Never attack someone else's character if ...  LifeProTips    False   \n",
       "\n",
       "      num_comments  score  upvote_ratio  \n",
       "2491           1.0    1.0           1.0  \n",
       "2492           1.0    1.0           1.0  \n",
       "2493           1.0    1.0           1.0  \n",
       "2494           1.0    1.0           1.0  \n",
       "2495           1.0    1.0           1.0  "
      ]
     },
     "execution_count": 75,
     "metadata": {},
     "output_type": "execute_result"
    }
   ],
   "source": [
    "df_lpt.tail()"
   ]
  },
  {
   "cell_type": "markdown",
   "id": "e539bbc9-aa07-47e0-8f77-cb6455344853",
   "metadata": {},
   "source": [
    "-----"
   ]
  },
  {
   "cell_type": "markdown",
   "id": "de62592d-9643-4d04-8b94-b70049ebee1e",
   "metadata": {},
   "source": [
    "### Merging Data"
   ]
  },
  {
   "cell_type": "code",
   "execution_count": 76,
   "id": "4e0487b0-56af-4781-9c83-a5e16073eec2",
   "metadata": {},
   "outputs": [],
   "source": [
    "# \"stacking\" both dataframes by row using concatenate method\n",
    "df_all = pd.concat([df_lh, df_lpt], axis=0)"
   ]
  },
  {
   "cell_type": "code",
   "execution_count": 77,
   "id": "94b2dcdf-ae23-4a43-991e-37485babddfd",
   "metadata": {},
   "outputs": [],
   "source": [
    "# must reset repeated indices after concatenation\n",
    "df_all.reset_index(drop=True, inplace=True)"
   ]
  },
  {
   "cell_type": "code",
   "execution_count": 78,
   "id": "fece2975-8754-4acf-937c-a7ff4e73af94",
   "metadata": {},
   "outputs": [
    {
     "data": {
      "text/plain": [
       "(5467, 10)"
      ]
     },
     "execution_count": 78,
     "metadata": {},
     "output_type": "execute_result"
    }
   ],
   "source": [
    "df_all.shape"
   ]
  },
  {
   "cell_type": "code",
   "execution_count": 79,
   "id": "53356ae4-e1c1-47d0-aaee-25635bd8bec6",
   "metadata": {},
   "outputs": [
    {
     "data": {
      "text/html": [
       "<div>\n",
       "<style scoped>\n",
       "    .dataframe tbody tr th:only-of-type {\n",
       "        vertical-align: middle;\n",
       "    }\n",
       "\n",
       "    .dataframe tbody tr th {\n",
       "        vertical-align: top;\n",
       "    }\n",
       "\n",
       "    .dataframe thead th {\n",
       "        text-align: right;\n",
       "    }\n",
       "</style>\n",
       "<table border=\"1\" class=\"dataframe\">\n",
       "  <thead>\n",
       "    <tr style=\"text-align: right;\">\n",
       "      <th></th>\n",
       "      <th>author</th>\n",
       "      <th>author_fullname</th>\n",
       "      <th>created_utc</th>\n",
       "      <th>selftext</th>\n",
       "      <th>title</th>\n",
       "      <th>subreddit</th>\n",
       "      <th>is_video</th>\n",
       "      <th>num_comments</th>\n",
       "      <th>score</th>\n",
       "      <th>upvote_ratio</th>\n",
       "    </tr>\n",
       "  </thead>\n",
       "  <tbody>\n",
       "    <tr>\n",
       "      <th>0</th>\n",
       "      <td>anonymousbrowzer</td>\n",
       "      <td>t2_14k10v</td>\n",
       "      <td>1.648770e+09</td>\n",
       "      <td></td>\n",
       "      <td>When the smoke detector goes off from cooking,...</td>\n",
       "      <td>lifehacks</td>\n",
       "      <td>False</td>\n",
       "      <td>0.0</td>\n",
       "      <td>1.0</td>\n",
       "      <td>1.0</td>\n",
       "    </tr>\n",
       "    <tr>\n",
       "      <th>1</th>\n",
       "      <td>PlantBasedRedditor</td>\n",
       "      <td>t2_g4e0rfz</td>\n",
       "      <td>1.648767e+09</td>\n",
       "      <td></td>\n",
       "      <td>Use Goo Gone on scissors and blades to reduce ...</td>\n",
       "      <td>lifehacks</td>\n",
       "      <td>False</td>\n",
       "      <td>0.0</td>\n",
       "      <td>1.0</td>\n",
       "      <td>1.0</td>\n",
       "    </tr>\n",
       "    <tr>\n",
       "      <th>2</th>\n",
       "      <td>CryptographerFar5073</td>\n",
       "      <td>t2_ldjcr311</td>\n",
       "      <td>1.648764e+09</td>\n",
       "      <td></td>\n",
       "      <td>Bingo Bash</td>\n",
       "      <td>lifehacks</td>\n",
       "      <td>False</td>\n",
       "      <td>0.0</td>\n",
       "      <td>1.0</td>\n",
       "      <td>1.0</td>\n",
       "    </tr>\n",
       "    <tr>\n",
       "      <th>3</th>\n",
       "      <td>Giant_weiner_not_dog</td>\n",
       "      <td>t2_konlr4kt</td>\n",
       "      <td>1.648763e+09</td>\n",
       "      <td></td>\n",
       "      <td>How to troll someone</td>\n",
       "      <td>lifehacks</td>\n",
       "      <td>False</td>\n",
       "      <td>0.0</td>\n",
       "      <td>1.0</td>\n",
       "      <td>1.0</td>\n",
       "    </tr>\n",
       "    <tr>\n",
       "      <th>4</th>\n",
       "      <td>Giant_weiner_not_dog</td>\n",
       "      <td>t2_konlr4kt</td>\n",
       "      <td>1.648762e+09</td>\n",
       "      <td></td>\n",
       "      <td>what a nice way to have your meal( credit to u...</td>\n",
       "      <td>lifehacks</td>\n",
       "      <td>False</td>\n",
       "      <td>0.0</td>\n",
       "      <td>1.0</td>\n",
       "      <td>1.0</td>\n",
       "    </tr>\n",
       "  </tbody>\n",
       "</table>\n",
       "</div>"
      ],
      "text/plain": [
       "                 author author_fullname   created_utc selftext  \\\n",
       "0      anonymousbrowzer       t2_14k10v  1.648770e+09            \n",
       "1    PlantBasedRedditor      t2_g4e0rfz  1.648767e+09            \n",
       "2  CryptographerFar5073     t2_ldjcr311  1.648764e+09            \n",
       "3  Giant_weiner_not_dog     t2_konlr4kt  1.648763e+09            \n",
       "4  Giant_weiner_not_dog     t2_konlr4kt  1.648762e+09            \n",
       "\n",
       "                                               title  subreddit is_video  \\\n",
       "0  When the smoke detector goes off from cooking,...  lifehacks    False   \n",
       "1  Use Goo Gone on scissors and blades to reduce ...  lifehacks    False   \n",
       "2                                         Bingo Bash  lifehacks    False   \n",
       "3                               How to troll someone  lifehacks    False   \n",
       "4  what a nice way to have your meal( credit to u...  lifehacks    False   \n",
       "\n",
       "   num_comments  score  upvote_ratio  \n",
       "0           0.0    1.0           1.0  \n",
       "1           0.0    1.0           1.0  \n",
       "2           0.0    1.0           1.0  \n",
       "3           0.0    1.0           1.0  \n",
       "4           0.0    1.0           1.0  "
      ]
     },
     "execution_count": 79,
     "metadata": {},
     "output_type": "execute_result"
    }
   ],
   "source": [
    "df_all.head()"
   ]
  },
  {
   "cell_type": "code",
   "execution_count": 80,
   "id": "a19cd1fc-bb2e-4594-9d41-c262e41f24de",
   "metadata": {},
   "outputs": [
    {
     "data": {
      "text/html": [
       "<div>\n",
       "<style scoped>\n",
       "    .dataframe tbody tr th:only-of-type {\n",
       "        vertical-align: middle;\n",
       "    }\n",
       "\n",
       "    .dataframe tbody tr th {\n",
       "        vertical-align: top;\n",
       "    }\n",
       "\n",
       "    .dataframe thead th {\n",
       "        text-align: right;\n",
       "    }\n",
       "</style>\n",
       "<table border=\"1\" class=\"dataframe\">\n",
       "  <thead>\n",
       "    <tr style=\"text-align: right;\">\n",
       "      <th></th>\n",
       "      <th>author</th>\n",
       "      <th>author_fullname</th>\n",
       "      <th>created_utc</th>\n",
       "      <th>selftext</th>\n",
       "      <th>title</th>\n",
       "      <th>subreddit</th>\n",
       "      <th>is_video</th>\n",
       "      <th>num_comments</th>\n",
       "      <th>score</th>\n",
       "      <th>upvote_ratio</th>\n",
       "    </tr>\n",
       "  </thead>\n",
       "  <tbody>\n",
       "    <tr>\n",
       "      <th>5462</th>\n",
       "      <td>dochoiday</td>\n",
       "      <td>t2_79f5e</td>\n",
       "      <td>1.647382e+09</td>\n",
       "      <td>[removed]</td>\n",
       "      <td>Unless it is covered under warranty, DO NOT br...</td>\n",
       "      <td>LifeProTips</td>\n",
       "      <td>False</td>\n",
       "      <td>1.0</td>\n",
       "      <td>1.0</td>\n",
       "      <td>1.0</td>\n",
       "    </tr>\n",
       "    <tr>\n",
       "      <th>5463</th>\n",
       "      <td>devilenka</td>\n",
       "      <td>t2_8kn983ie</td>\n",
       "      <td>1.647382e+09</td>\n",
       "      <td></td>\n",
       "      <td>LPT: Be careful about how much you share at wo...</td>\n",
       "      <td>LifeProTips</td>\n",
       "      <td>False</td>\n",
       "      <td>1.0</td>\n",
       "      <td>1.0</td>\n",
       "      <td>1.0</td>\n",
       "    </tr>\n",
       "    <tr>\n",
       "      <th>5464</th>\n",
       "      <td>gladeyes</td>\n",
       "      <td>t2_erudf</td>\n",
       "      <td>1.647381e+09</td>\n",
       "      <td></td>\n",
       "      <td>LPT. Sometimes it’s easier to figure out what ...</td>\n",
       "      <td>LifeProTips</td>\n",
       "      <td>False</td>\n",
       "      <td>1.0</td>\n",
       "      <td>1.0</td>\n",
       "      <td>1.0</td>\n",
       "    </tr>\n",
       "    <tr>\n",
       "      <th>5465</th>\n",
       "      <td>Optimistprime777</td>\n",
       "      <td>t2_3z31bmer</td>\n",
       "      <td>1.647381e+09</td>\n",
       "      <td></td>\n",
       "      <td>LPT: Clean up your YouTube subscriptions from ...</td>\n",
       "      <td>LifeProTips</td>\n",
       "      <td>False</td>\n",
       "      <td>1.0</td>\n",
       "      <td>1.0</td>\n",
       "      <td>1.0</td>\n",
       "    </tr>\n",
       "    <tr>\n",
       "      <th>5466</th>\n",
       "      <td>ContributionNarrow88</td>\n",
       "      <td>t2_6982d42g</td>\n",
       "      <td>1.647380e+09</td>\n",
       "      <td></td>\n",
       "      <td>LPT: Never attack someone else's character if ...</td>\n",
       "      <td>LifeProTips</td>\n",
       "      <td>False</td>\n",
       "      <td>1.0</td>\n",
       "      <td>1.0</td>\n",
       "      <td>1.0</td>\n",
       "    </tr>\n",
       "  </tbody>\n",
       "</table>\n",
       "</div>"
      ],
      "text/plain": [
       "                    author author_fullname   created_utc   selftext  \\\n",
       "5462             dochoiday        t2_79f5e  1.647382e+09  [removed]   \n",
       "5463             devilenka     t2_8kn983ie  1.647382e+09              \n",
       "5464              gladeyes        t2_erudf  1.647381e+09              \n",
       "5465      Optimistprime777     t2_3z31bmer  1.647381e+09              \n",
       "5466  ContributionNarrow88     t2_6982d42g  1.647380e+09              \n",
       "\n",
       "                                                  title    subreddit is_video  \\\n",
       "5462  Unless it is covered under warranty, DO NOT br...  LifeProTips    False   \n",
       "5463  LPT: Be careful about how much you share at wo...  LifeProTips    False   \n",
       "5464  LPT. Sometimes it’s easier to figure out what ...  LifeProTips    False   \n",
       "5465  LPT: Clean up your YouTube subscriptions from ...  LifeProTips    False   \n",
       "5466  LPT: Never attack someone else's character if ...  LifeProTips    False   \n",
       "\n",
       "      num_comments  score  upvote_ratio  \n",
       "5462           1.0    1.0           1.0  \n",
       "5463           1.0    1.0           1.0  \n",
       "5464           1.0    1.0           1.0  \n",
       "5465           1.0    1.0           1.0  \n",
       "5466           1.0    1.0           1.0  "
      ]
     },
     "execution_count": 80,
     "metadata": {},
     "output_type": "execute_result"
    }
   ],
   "source": [
    "df_all.tail()"
   ]
  },
  {
   "cell_type": "code",
   "execution_count": 81,
   "id": "73e66544-1e64-4bb3-8098-f455010cce26",
   "metadata": {},
   "outputs": [
    {
     "name": "stdout",
     "output_type": "stream",
     "text": [
      "<class 'pandas.core.frame.DataFrame'>\n",
      "RangeIndex: 5467 entries, 0 to 5466\n",
      "Data columns (total 10 columns):\n",
      " #   Column           Non-Null Count  Dtype  \n",
      "---  ------           --------------  -----  \n",
      " 0   author           5467 non-null   object \n",
      " 1   author_fullname  5467 non-null   object \n",
      " 2   created_utc      5467 non-null   float64\n",
      " 3   selftext         5467 non-null   object \n",
      " 4   title            5467 non-null   object \n",
      " 5   subreddit        5467 non-null   object \n",
      " 6   is_video         5467 non-null   object \n",
      " 7   num_comments     5467 non-null   float64\n",
      " 8   score            5467 non-null   float64\n",
      " 9   upvote_ratio     5467 non-null   float64\n",
      "dtypes: float64(4), object(6)\n",
      "memory usage: 427.2+ KB\n"
     ]
    }
   ],
   "source": [
    "df_all.info()"
   ]
  },
  {
   "cell_type": "code",
   "execution_count": 82,
   "id": "f20f5a96-920a-4112-99b7-a5f6af2a0c10",
   "metadata": {},
   "outputs": [
    {
     "data": {
      "text/plain": [
       "0"
      ]
     },
     "execution_count": 82,
     "metadata": {},
     "output_type": "execute_result"
    }
   ],
   "source": [
    "na_only(df_all)"
   ]
  },
  {
   "cell_type": "markdown",
   "id": "449a1ad8-1bc8-4514-89bd-24ab7e132d4e",
   "metadata": {},
   "source": [
    "Everything looks good! We can now export."
   ]
  },
  {
   "cell_type": "markdown",
   "id": "f955af05-a371-4463-bfde-80135231d1c6",
   "metadata": {},
   "source": [
    "## Data Exporting"
   ]
  },
  {
   "cell_type": "markdown",
   "id": "c78292b7-01ad-4dfe-b757-8809cada0ea5",
   "metadata": {},
   "source": [
    "Uncomment cell below to export CSV."
   ]
  },
  {
   "cell_type": "markdown",
   "id": "9a24eb08-99bd-4621-b6c3-3928ae4a0ed0",
   "metadata": {},
   "source": [
    "**NOTE**: Reddit is a living forum, and the state of the data is likely to change day-to-day. It is likely that you may wrangle data that is different from the one presented here, which may have drastic effects on the models in the next notebooks. Data that was wrangled when this notebook was created is stored in as `../datasets/submissions_data.csv`. If you wish to replicate the results exactly as we did here, please use that dataset."
   ]
  },
  {
   "cell_type": "code",
   "execution_count": 83,
   "id": "38983d79-0390-441d-af53-bff13f76a7bd",
   "metadata": {},
   "outputs": [],
   "source": [
    "#df_all.to_csv('../datasets/submissions_data.csv', index=False)"
   ]
  }
 ],
 "metadata": {
  "kernelspec": {
   "display_name": "Python 3 (ipykernel)",
   "language": "python",
   "name": "python3"
  },
  "language_info": {
   "codemirror_mode": {
    "name": "ipython",
    "version": 3
   },
   "file_extension": ".py",
   "mimetype": "text/x-python",
   "name": "python",
   "nbconvert_exporter": "python",
   "pygments_lexer": "ipython3",
   "version": "3.9.7"
  }
 },
 "nbformat": 4,
 "nbformat_minor": 5
}
