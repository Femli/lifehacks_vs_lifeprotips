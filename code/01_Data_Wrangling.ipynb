{
 "cells": [
  {
   "cell_type": "markdown",
   "id": "858fb400-2215-4cae-b0d2-e16ab075a881",
   "metadata": {},
   "source": [
    "# Data Wrangling"
   ]
  },
  {
   "cell_type": "code",
   "execution_count": 1,
   "id": "c8abd2d9-43e1-4692-a56b-c9acdaa1e15f",
   "metadata": {},
   "outputs": [],
   "source": [
    "import pandas as pd\n",
    "import requests"
   ]
  },
  {
   "cell_type": "code",
   "execution_count": 2,
   "id": "b7d1f358-a222-476b-b150-8e92c1d4bb0a",
   "metadata": {},
   "outputs": [],
   "source": [
    "# lifehacks\n",
    "lhs_url = \"https://api.pushshift.io/reddit/search/submission/?subreddit=lifehacks&metadata=true&size=0\"\n",
    "lht_url = \"https://api.pushshift.io/reddit/search/submission/?subreddit=lifehacks&metadata=true&size=0&is_self=true\"\n",
    "\n",
    "# lifeprotips\n",
    "lpts_url = \"https://api.pushshift.io/reddit/search/submission/?subreddit=LifeProTips&metadata=true&size=0\"\n",
    "lptt_url = \"https://api.pushshift.io/reddit/search/submission/?subreddit=LifeProTips&metadata=true&size=0&is_self=true\""
   ]
  },
  {
   "cell_type": "code",
   "execution_count": 3,
   "id": "32660d53-9068-4212-aa47-0c32b7a3fc35",
   "metadata": {},
   "outputs": [
    {
     "name": "stdout",
     "output_type": "stream",
     "text": [
      "200 200\n",
      "200 200\n"
     ]
    }
   ],
   "source": [
    "res_lhs = requests.get(lhs_url)\n",
    "res_lht = requests.get(lht_url)\n",
    "res_lpts = requests.get(lpts_url)\n",
    "res_lptt = requests.get(lptt_url)\n",
    "\n",
    "print(res_lhs.status_code, res_lht.status_code)\n",
    "print(res_lpts.status_code, res_lptt.status_code)"
   ]
  },
  {
   "cell_type": "markdown",
   "id": "0622e598-b207-4295-a23b-e9d828a88dd2",
   "metadata": {},
   "source": [
    "All requests successful."
   ]
  },
  {
   "cell_type": "code",
   "execution_count": 4,
   "id": "fb1df2c9-8e94-4fdf-9daa-6f0aa488e2df",
   "metadata": {},
   "outputs": [
    {
     "name": "stdout",
     "output_type": "stream",
     "text": [
      "LifeHacks Total Submissions: 81718\n",
      "LifeHacks Total Self-Text Posts: 23233\n",
      "LifeProTips Total Submissions: 555135\n",
      "LifeProTips Total Self-Text Posts: 534133\n"
     ]
    }
   ],
   "source": [
    "lhs_count = res_lhs.json()['metadata']['total_results']\n",
    "lht_count = res_lht.json()['metadata']['total_results']\n",
    "\n",
    "lpts_count = res_lpts.json()['metadata']['total_results']\n",
    "lptt_count = res_lptt.json()['metadata']['total_results']\n",
    "\n",
    "print(f\"LifeHacks Total Submissions: {lhs_count}\\nLifeHacks Total Self-Text Posts: {lht_count}\")\n",
    "print(f\"LifeProTips Total Submissions: {lpts_count}\\nLifeProTips Total Self-Text Posts: {lptt_count}\")"
   ]
  },
  {
   "cell_type": "code",
   "execution_count": null,
   "id": "e6727f35-6427-4a06-8f38-d6ddffd8a5c4",
   "metadata": {},
   "outputs": [],
   "source": []
  }
 ],
 "metadata": {
  "kernelspec": {
   "display_name": "Python 3 (ipykernel)",
   "language": "python",
   "name": "python3"
  },
  "language_info": {
   "codemirror_mode": {
    "name": "ipython",
    "version": 3
   },
   "file_extension": ".py",
   "mimetype": "text/x-python",
   "name": "python",
   "nbconvert_exporter": "python",
   "pygments_lexer": "ipython3",
   "version": "3.9.7"
  }
 },
 "nbformat": 4,
 "nbformat_minor": 5
}
