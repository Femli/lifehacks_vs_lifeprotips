{
 "cells": [
  {
   "cell_type": "markdown",
   "id": "858fb400-2215-4cae-b0d2-e16ab075a881",
   "metadata": {},
   "source": [
    "# Data Wrangling"
   ]
  },
  {
   "cell_type": "markdown",
   "id": "cbd1f5f8-c578-4423-8bb7-f42172dc0d4d",
   "metadata": {},
   "source": [
    "## Problem Statements"
   ]
  },
  {
   "cell_type": "markdown",
   "id": "d38851fb-810a-43c6-86f6-0fdeccb0a7c7",
   "metadata": {},
   "source": [
    "> 1. Develop a classification model that can predict whether a reddit post belongs to the subreddits r/LifeProTips or r/Lifehacks, based on the content of the post\n",
    ">    - Furthermore, optimize accuracy and precision\n",
    "\n",
    "> 2. Identify the top 15 keywords that distinguish r/LifeProTips and r/Lifehacks\n",
    "\n",
    "> 3. Determine the most frequent content posted in each subbreddit, and provide a recommendation that is most appropriate to new reddit users\n",
    "\n",
    "> 4. Insights on what makes a most popular, and unpopular, in each subbreddit\n",
    ">    - Based on self-texts only"
   ]
  },
  {
   "cell_type": "markdown",
   "id": "f9a43b8e-8b4a-4215-bd69-9f383be8b993",
   "metadata": {},
   "source": [
    "## Imports"
   ]
  },
  {
   "cell_type": "code",
   "execution_count": 155,
   "id": "2162d58b-2d98-4bb8-9b83-2ac5553dcda7",
   "metadata": {},
   "outputs": [],
   "source": [
    "%run 00_Workflow_Functions.ipynb import api_call"
   ]
  },
  {
   "cell_type": "code",
   "execution_count": 150,
   "id": "c8abd2d9-43e1-4692-a56b-c9acdaa1e15f",
   "metadata": {},
   "outputs": [],
   "source": [
    "import pandas as pd\n",
    "import requests\n",
    "from collections import defaultdict"
   ]
  },
  {
   "cell_type": "markdown",
   "id": "2391f83c-b784-4752-b722-60c895ada890",
   "metadata": {},
   "source": [
    "## Preliminaries"
   ]
  },
  {
   "cell_type": "code",
   "execution_count": 4,
   "id": "b7d1f358-a222-476b-b150-8e92c1d4bb0a",
   "metadata": {},
   "outputs": [],
   "source": [
    "# lifehacks\n",
    "lhs_url = \"https://api.pushshift.io/reddit/search/submission/?subreddit=lifehacks&metadata=true&size=0\"\n",
    "lht_url = \"https://api.pushshift.io/reddit/search/submission/?subreddit=lifehacks&metadata=true&size=0&is_self=true\"\n",
    "\n",
    "# lifeprotips\n",
    "lpts_url = \"https://api.pushshift.io/reddit/search/submission/?subreddit=LifeProTips&metadata=true&size=0\"\n",
    "lptt_url = \"https://api.pushshift.io/reddit/search/submission/?subreddit=LifeProTips&metadata=true&size=0&is_self=true\""
   ]
  },
  {
   "cell_type": "code",
   "execution_count": 5,
   "id": "32660d53-9068-4212-aa47-0c32b7a3fc35",
   "metadata": {},
   "outputs": [
    {
     "name": "stdout",
     "output_type": "stream",
     "text": [
      "200 200\n",
      "200 200\n"
     ]
    }
   ],
   "source": [
    "res_lhs = requests.get(lhs_url)\n",
    "res_lht = requests.get(lht_url)\n",
    "res_lpts = requests.get(lpts_url)\n",
    "res_lptt = requests.get(lptt_url)\n",
    "\n",
    "print(res_lhs.status_code, res_lht.status_code)\n",
    "print(res_lpts.status_code, res_lptt.status_code)"
   ]
  },
  {
   "cell_type": "markdown",
   "id": "0622e598-b207-4295-a23b-e9d828a88dd2",
   "metadata": {},
   "source": [
    "All requests successful."
   ]
  },
  {
   "cell_type": "code",
   "execution_count": 6,
   "id": "fb1df2c9-8e94-4fdf-9daa-6f0aa488e2df",
   "metadata": {},
   "outputs": [
    {
     "name": "stdout",
     "output_type": "stream",
     "text": [
      "LifeHacks Total Submissions: 81787\n",
      "LifeHacks Total Self-Text Posts: 23266\n",
      "LifeProTips Total Submissions: 555477\n",
      "LifeProTips Total Self-Text Posts: 534475\n"
     ]
    }
   ],
   "source": [
    "lhs_count = res_lhs.json()['metadata']['total_results']\n",
    "lht_count = res_lht.json()['metadata']['total_results']\n",
    "\n",
    "lpts_count = res_lpts.json()['metadata']['total_results']\n",
    "lptt_count = res_lptt.json()['metadata']['total_results']\n",
    "\n",
    "print(f\"LifeHacks Total Submissions: {lhs_count}\\nLifeHacks Total Self-Text Posts: {lht_count}\")\n",
    "print(f\"LifeProTips Total Submissions: {lpts_count}\\nLifeProTips Total Self-Text Posts: {lptt_count}\")"
   ]
  },
  {
   "cell_type": "markdown",
   "id": "8a82ced8-cbdf-44f1-be99-ba59f15dfe4d",
   "metadata": {},
   "source": [
    "## Wrangling Data - User Posts"
   ]
  },
  {
   "cell_type": "code",
   "execution_count": 159,
   "id": "5f171c76-4a6a-456b-94a5-254c620475c5",
   "metadata": {},
   "outputs": [],
   "source": [
    "lf_call = api_call('lifehacks')"
   ]
  },
  {
   "cell_type": "code",
   "execution_count": 160,
   "id": "c93426f5-3c11-4d62-89f4-687274e03879",
   "metadata": {},
   "outputs": [
    {
     "data": {
      "text/plain": [
       "25"
      ]
     },
     "execution_count": 160,
     "metadata": {},
     "output_type": "execute_result"
    }
   ],
   "source": [
    "len(lf_call)"
   ]
  },
  {
   "cell_type": "code",
   "execution_count": 161,
   "id": "3b0e7c8a-4d9b-4bd4-adc1-94e38367fada",
   "metadata": {
    "tags": []
   },
   "outputs": [
    {
     "data": {
      "text/plain": [
       "dict_keys(['all_awardings', 'allow_live_comments', 'author', 'author_flair_css_class', 'author_flair_richtext', 'author_flair_text', 'author_flair_type', 'author_fullname', 'author_is_blocked', 'author_patreon_flair', 'author_premium', 'awarders', 'can_mod_post', 'contest_mode', 'created_utc', 'domain', 'full_link', 'gildings', 'id', 'is_created_from_ads_ui', 'is_crosspostable', 'is_meta', 'is_original_content', 'is_reddit_media_domain', 'is_robot_indexable', 'is_self', 'is_video', 'link_flair_background_color', 'link_flair_richtext', 'link_flair_text_color', 'link_flair_type', 'locked', 'media', 'media_embed', 'media_only', 'no_follow', 'num_comments', 'num_crossposts', 'over_18', 'parent_whitelist_status', 'permalink', 'pinned', 'post_hint', 'preview', 'pwls', 'removed_by_category', 'retrieved_on', 'score', 'secure_media', 'secure_media_embed', 'selftext', 'send_replies', 'spoiler', 'stickied', 'subreddit', 'subreddit_id', 'subreddit_subscribers', 'subreddit_type', 'thumbnail', 'thumbnail_height', 'thumbnail_width', 'title', 'total_awards_received', 'treatment_tags', 'upvote_ratio', 'url', 'url_overridden_by_dest', 'whitelist_status', 'wls'])"
      ]
     },
     "execution_count": 161,
     "metadata": {},
     "output_type": "execute_result"
    }
   ],
   "source": [
    "# data keys\n",
    "# lf_call[0].keys()"
   ]
  },
  {
   "cell_type": "code",
   "execution_count": 126,
   "id": "293e486e-4735-461f-ba28-a4f9c3e931f5",
   "metadata": {
    "tags": []
   },
   "outputs": [],
   "source": [
    "# metadata keys\n",
    "# lh_sub_json['metadata'].keys()"
   ]
  },
  {
   "cell_type": "code",
   "execution_count": 127,
   "id": "0686f5de-5f2d-4ef0-9240-29eab0db94ff",
   "metadata": {
    "tags": []
   },
   "outputs": [],
   "source": [
    "# lh_sub_json['data'][63]"
   ]
  },
  {
   "cell_type": "code",
   "execution_count": 39,
   "id": "ca956624-b546-459a-a759-60023eda59e6",
   "metadata": {
    "tags": []
   },
   "outputs": [],
   "source": [
    "#lh_sub_json['metadata']"
   ]
  },
  {
   "cell_type": "code",
   "execution_count": 59,
   "id": "e2797a2b-a9f3-4e08-9670-c62a92b32d14",
   "metadata": {},
   "outputs": [],
   "source": [
    "#lh_sub_json['data'][0]['author']"
   ]
  },
  {
   "cell_type": "code",
   "execution_count": 128,
   "id": "75bb6d6d-6bd2-4062-a6ca-eb362ff1352a",
   "metadata": {},
   "outputs": [],
   "source": [
    "# Content we care about:\n",
    "# keys = ['author', 'author_fullname', 'created_utc', 'selftext', 'title', 'subreddit', 'is_video', 'num_comments', 'score', 'upvote_ratio']"
   ]
  },
  {
   "cell_type": "code",
   "execution_count": 133,
   "id": "97bbb170-4239-49fe-9dd2-424aa70a9e49",
   "metadata": {},
   "outputs": [],
   "source": [
    "# lh_data = defaultdict(list)"
   ]
  },
  {
   "cell_type": "code",
   "execution_count": 134,
   "id": "2befaba0-1625-40d1-8b82-cf3fa04e5ecd",
   "metadata": {},
   "outputs": [],
   "source": [
    "for i in range(len(lh_sub_json['data'])):\n",
    "    for key in keys:\n",
    "        try:\n",
    "            lh_data[key].append(lh_sub_json['data'][i][key])\n",
    "        except:\n",
    "            print(f\"Error on index: {i}\\nkey \\\"{key}\\\" not found.\")\n",
    "            lh_data[key].append(None)"
   ]
  },
  {
   "cell_type": "code",
   "execution_count": 135,
   "id": "90d00a20-e451-4a25-bd75-584186983f37",
   "metadata": {},
   "outputs": [
    {
     "data": {
      "text/html": [
       "<div>\n",
       "<style scoped>\n",
       "    .dataframe tbody tr th:only-of-type {\n",
       "        vertical-align: middle;\n",
       "    }\n",
       "\n",
       "    .dataframe tbody tr th {\n",
       "        vertical-align: top;\n",
       "    }\n",
       "\n",
       "    .dataframe thead th {\n",
       "        text-align: right;\n",
       "    }\n",
       "</style>\n",
       "<table border=\"1\" class=\"dataframe\">\n",
       "  <thead>\n",
       "    <tr style=\"text-align: right;\">\n",
       "      <th></th>\n",
       "      <th>author</th>\n",
       "      <th>author_fullname</th>\n",
       "      <th>created_utc</th>\n",
       "      <th>selftext</th>\n",
       "      <th>title</th>\n",
       "      <th>subreddit</th>\n",
       "      <th>is_video</th>\n",
       "      <th>num_comments</th>\n",
       "      <th>score</th>\n",
       "      <th>upvote_ratio</th>\n",
       "    </tr>\n",
       "  </thead>\n",
       "  <tbody>\n",
       "    <tr>\n",
       "      <th>95</th>\n",
       "      <td>MustacheMufasa</td>\n",
       "      <td>t2_m6py7kop</td>\n",
       "      <td>1650821565</td>\n",
       "      <td>About 2/3 of ovens made in the past ten years ...</td>\n",
       "      <td>Hack your oven to use it as an air fryer</td>\n",
       "      <td>lifehacks</td>\n",
       "      <td>False</td>\n",
       "      <td>0</td>\n",
       "      <td>1</td>\n",
       "      <td>1.0</td>\n",
       "    </tr>\n",
       "    <tr>\n",
       "      <th>96</th>\n",
       "      <td>cableguysmith</td>\n",
       "      <td>t2_b3xrj</td>\n",
       "      <td>1650820039</td>\n",
       "      <td></td>\n",
       "      <td>Store mushrooms in a paper bag in the fridge -...</td>\n",
       "      <td>lifehacks</td>\n",
       "      <td>False</td>\n",
       "      <td>0</td>\n",
       "      <td>1</td>\n",
       "      <td>1.0</td>\n",
       "    </tr>\n",
       "    <tr>\n",
       "      <th>97</th>\n",
       "      <td>Nail6085</td>\n",
       "      <td>t2_mab45wyg</td>\n",
       "      <td>1650816720</td>\n",
       "      <td>[removed]</td>\n",
       "      <td>Do you know that you can make up to $10,600 da...</td>\n",
       "      <td>lifehacks</td>\n",
       "      <td>False</td>\n",
       "      <td>0</td>\n",
       "      <td>1</td>\n",
       "      <td>1.0</td>\n",
       "    </tr>\n",
       "    <tr>\n",
       "      <th>98</th>\n",
       "      <td>ractacsac</td>\n",
       "      <td>t2_3ejy81pe</td>\n",
       "      <td>1650816225</td>\n",
       "      <td></td>\n",
       "      <td>just a tip for y'all</td>\n",
       "      <td>lifehacks</td>\n",
       "      <td>False</td>\n",
       "      <td>0</td>\n",
       "      <td>1</td>\n",
       "      <td>1.0</td>\n",
       "    </tr>\n",
       "    <tr>\n",
       "      <th>99</th>\n",
       "      <td>JaneStudioTV1</td>\n",
       "      <td>t2_jy6lfsg7</td>\n",
       "      <td>1650813489</td>\n",
       "      <td></td>\n",
       "      <td>🎯 ICE MAKER FOR SODA COLA MACHINE STREAM SPARK...</td>\n",
       "      <td>lifehacks</td>\n",
       "      <td>False</td>\n",
       "      <td>0</td>\n",
       "      <td>1</td>\n",
       "      <td>1.0</td>\n",
       "    </tr>\n",
       "  </tbody>\n",
       "</table>\n",
       "</div>"
      ],
      "text/plain": [
       "            author author_fullname  created_utc  \\\n",
       "95  MustacheMufasa     t2_m6py7kop   1650821565   \n",
       "96   cableguysmith        t2_b3xrj   1650820039   \n",
       "97        Nail6085     t2_mab45wyg   1650816720   \n",
       "98       ractacsac     t2_3ejy81pe   1650816225   \n",
       "99   JaneStudioTV1     t2_jy6lfsg7   1650813489   \n",
       "\n",
       "                                             selftext  \\\n",
       "95  About 2/3 of ovens made in the past ten years ...   \n",
       "96                                                      \n",
       "97                                          [removed]   \n",
       "98                                                      \n",
       "99                                                      \n",
       "\n",
       "                                                title  subreddit  is_video  \\\n",
       "95           Hack your oven to use it as an air fryer  lifehacks     False   \n",
       "96  Store mushrooms in a paper bag in the fridge -...  lifehacks     False   \n",
       "97  Do you know that you can make up to $10,600 da...  lifehacks     False   \n",
       "98                               just a tip for y'all  lifehacks     False   \n",
       "99  🎯 ICE MAKER FOR SODA COLA MACHINE STREAM SPARK...  lifehacks     False   \n",
       "\n",
       "    num_comments  score  upvote_ratio  \n",
       "95             0      1           1.0  \n",
       "96             0      1           1.0  \n",
       "97             0      1           1.0  \n",
       "98             0      1           1.0  \n",
       "99             0      1           1.0  "
      ]
     },
     "execution_count": 135,
     "metadata": {},
     "output_type": "execute_result"
    }
   ],
   "source": [
    "pd.DataFrame(lh_data).tail()"
   ]
  },
  {
   "cell_type": "code",
   "execution_count": 139,
   "id": "f31b49c0-2d7c-477a-bcb4-114660a83953",
   "metadata": {},
   "outputs": [
    {
     "data": {
      "text/html": [
       "<div>\n",
       "<style scoped>\n",
       "    .dataframe tbody tr th:only-of-type {\n",
       "        vertical-align: middle;\n",
       "    }\n",
       "\n",
       "    .dataframe tbody tr th {\n",
       "        vertical-align: top;\n",
       "    }\n",
       "\n",
       "    .dataframe thead th {\n",
       "        text-align: right;\n",
       "    }\n",
       "</style>\n",
       "<table border=\"1\" class=\"dataframe\">\n",
       "  <thead>\n",
       "    <tr style=\"text-align: right;\">\n",
       "      <th></th>\n",
       "      <th>author</th>\n",
       "      <th>author_fullname</th>\n",
       "      <th>created_utc</th>\n",
       "      <th>selftext</th>\n",
       "      <th>title</th>\n",
       "      <th>subreddit</th>\n",
       "      <th>is_video</th>\n",
       "      <th>num_comments</th>\n",
       "      <th>score</th>\n",
       "      <th>upvote_ratio</th>\n",
       "    </tr>\n",
       "  </thead>\n",
       "  <tbody>\n",
       "    <tr>\n",
       "      <th>95</th>\n",
       "      <td>MustacheMufasa</td>\n",
       "      <td>t2_m6py7kop</td>\n",
       "      <td>1650821565</td>\n",
       "      <td>About 2/3 of ovens made in the past ten years ...</td>\n",
       "      <td>Hack your oven to use it as an air fryer</td>\n",
       "      <td>lifehacks</td>\n",
       "      <td>False</td>\n",
       "      <td>0</td>\n",
       "      <td>1</td>\n",
       "      <td>1.0</td>\n",
       "    </tr>\n",
       "    <tr>\n",
       "      <th>96</th>\n",
       "      <td>cableguysmith</td>\n",
       "      <td>t2_b3xrj</td>\n",
       "      <td>1650820039</td>\n",
       "      <td></td>\n",
       "      <td>Store mushrooms in a paper bag in the fridge -...</td>\n",
       "      <td>lifehacks</td>\n",
       "      <td>False</td>\n",
       "      <td>0</td>\n",
       "      <td>1</td>\n",
       "      <td>1.0</td>\n",
       "    </tr>\n",
       "    <tr>\n",
       "      <th>97</th>\n",
       "      <td>Nail6085</td>\n",
       "      <td>t2_mab45wyg</td>\n",
       "      <td>1650816720</td>\n",
       "      <td>[removed]</td>\n",
       "      <td>Do you know that you can make up to $10,600 da...</td>\n",
       "      <td>lifehacks</td>\n",
       "      <td>False</td>\n",
       "      <td>0</td>\n",
       "      <td>1</td>\n",
       "      <td>1.0</td>\n",
       "    </tr>\n",
       "    <tr>\n",
       "      <th>98</th>\n",
       "      <td>ractacsac</td>\n",
       "      <td>t2_3ejy81pe</td>\n",
       "      <td>1650816225</td>\n",
       "      <td></td>\n",
       "      <td>just a tip for y'all</td>\n",
       "      <td>lifehacks</td>\n",
       "      <td>False</td>\n",
       "      <td>0</td>\n",
       "      <td>1</td>\n",
       "      <td>1.0</td>\n",
       "    </tr>\n",
       "    <tr>\n",
       "      <th>99</th>\n",
       "      <td>JaneStudioTV1</td>\n",
       "      <td>t2_jy6lfsg7</td>\n",
       "      <td>1650813489</td>\n",
       "      <td></td>\n",
       "      <td>🎯 ICE MAKER FOR SODA COLA MACHINE STREAM SPARK...</td>\n",
       "      <td>lifehacks</td>\n",
       "      <td>False</td>\n",
       "      <td>0</td>\n",
       "      <td>1</td>\n",
       "      <td>1.0</td>\n",
       "    </tr>\n",
       "  </tbody>\n",
       "</table>\n",
       "</div>"
      ],
      "text/plain": [
       "            author author_fullname  created_utc  \\\n",
       "95  MustacheMufasa     t2_m6py7kop   1650821565   \n",
       "96   cableguysmith        t2_b3xrj   1650820039   \n",
       "97        Nail6085     t2_mab45wyg   1650816720   \n",
       "98       ractacsac     t2_3ejy81pe   1650816225   \n",
       "99   JaneStudioTV1     t2_jy6lfsg7   1650813489   \n",
       "\n",
       "                                             selftext  \\\n",
       "95  About 2/3 of ovens made in the past ten years ...   \n",
       "96                                                      \n",
       "97                                          [removed]   \n",
       "98                                                      \n",
       "99                                                      \n",
       "\n",
       "                                                title  subreddit  is_video  \\\n",
       "95           Hack your oven to use it as an air fryer  lifehacks     False   \n",
       "96  Store mushrooms in a paper bag in the fridge -...  lifehacks     False   \n",
       "97  Do you know that you can make up to $10,600 da...  lifehacks     False   \n",
       "98                               just a tip for y'all  lifehacks     False   \n",
       "99  🎯 ICE MAKER FOR SODA COLA MACHINE STREAM SPARK...  lifehacks     False   \n",
       "\n",
       "    num_comments  score  upvote_ratio  \n",
       "95             0      1           1.0  \n",
       "96             0      1           1.0  \n",
       "97             0      1           1.0  \n",
       "98             0      1           1.0  \n",
       "99             0      1           1.0  "
      ]
     },
     "execution_count": 139,
     "metadata": {},
     "output_type": "execute_result"
    }
   ],
   "source": [
    "data = pd.DataFrame(lh_data)\n",
    "data.tail()"
   ]
  },
  {
   "cell_type": "code",
   "execution_count": 144,
   "id": "96eb2b8c-8289-423b-9143-7c0831b19949",
   "metadata": {},
   "outputs": [],
   "source": [
    "last_utc = data.loc[len(data) - 1, 'created_utc']"
   ]
  },
  {
   "cell_type": "code",
   "execution_count": null,
   "id": "71addc36-2f9b-4246-8d2f-730aba3a1f8e",
   "metadata": {},
   "outputs": [],
   "source": []
  }
 ],
 "metadata": {
  "kernelspec": {
   "display_name": "Python 3 (ipykernel)",
   "language": "python",
   "name": "python3"
  },
  "language_info": {
   "codemirror_mode": {
    "name": "ipython",
    "version": 3
   },
   "file_extension": ".py",
   "mimetype": "text/x-python",
   "name": "python",
   "nbconvert_exporter": "python",
   "pygments_lexer": "ipython3",
   "version": "3.9.7"
  }
 },
 "nbformat": 4,
 "nbformat_minor": 5
}
