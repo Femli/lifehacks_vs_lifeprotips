{
 "cells": [
  {
   "cell_type": "markdown",
   "id": "1bef0acd-4ad8-43b7-b638-e2d89c77e72b",
   "metadata": {},
   "source": [
    "# Workflow and Automation Functions"
   ]
  },
  {
   "cell_type": "markdown",
   "id": "ae2c3d3f-434c-4f1e-b101-bc0857b2c2bd",
   "metadata": {},
   "source": [
    "This notebook is dedicated to setting various functions that will assist us in EDA, modeling, performance tuning, and interpretation of results for this project."
   ]
  },
  {
   "cell_type": "code",
   "execution_count": 1,
   "id": "543141cc-3b9d-4ec2-9752-0cdfb9a7c805",
   "metadata": {},
   "outputs": [],
   "source": [
    "# importing relevant libraries\n",
    "import pandas as pd\n",
    "import numpy as np\n",
    "import matplotlib.pyplot as plt\n",
    "import seaborn as sns\n",
    "import requests\n",
    "\n",
    "## metrics\n",
    "from sklearn.metrics import accuracy_score, balanced_accuracy_score, recall_score, precision_score, f1_score, confusion_matrix"
   ]
  },
  {
   "cell_type": "markdown",
   "id": "93a290c5-cb76-4623-bd08-5ed414f32be4",
   "metadata": {
    "tags": []
   },
   "source": [
    "### Find NA values"
   ]
  },
  {
   "cell_type": "markdown",
   "id": "fae0f6e1-c2de-4e84-869f-492cd0e16c68",
   "metadata": {},
   "source": [
    "This function will find all NA values, and capture the sum of NAs in their respective column, in descending order, **only** if there are NAs present.\n",
    "\n",
    "**Input:** Dataframe <br />\n",
    "**Output:** Series of NA counts for each column"
   ]
  },
  {
   "cell_type": "code",
   "execution_count": 2,
   "id": "d310a887-9e65-442b-b1b2-82add485c1ba",
   "metadata": {},
   "outputs": [],
   "source": [
    "def na_only(df):\n",
    "    na_ser = df.isna().sum().sort_values(ascending=False)[lambda x: x > 0]\n",
    "    if na_ser.empty:\n",
    "        return 0\n",
    "    else:\n",
    "        return na_ser"
   ]
  },
  {
   "cell_type": "markdown",
   "id": "c9232420-914f-4d62-8850-3b42de72d365",
   "metadata": {},
   "source": [
    "### API Call"
   ]
  },
  {
   "cell_type": "markdown",
   "id": "a32094cf-1bd7-4083-a82c-c5491e01173f",
   "metadata": {},
   "source": [
    "Using the Pushshift API, this funcion makes calls for reddit submission data.\n",
    "\n",
    "**Input**: subbreddit parameter, size parameter, before date parameter <br />\n",
    "**Output**: json object with response data."
   ]
  },
  {
   "cell_type": "code",
   "execution_count": 3,
   "id": "a3b65f83-5634-4e9c-b1d6-ac8573bbc8ee",
   "metadata": {},
   "outputs": [],
   "source": [
    "def api_call(subreddit, size=25, before=''):\n",
    "    url = f\"https://api.pushshift.io/reddit/search/submission/?subreddit={subreddit}&size={size}&metadata=True&is_video=False&before={before}\"\n",
    "    req = requests.get(url)\n",
    "    \n",
    "    if req.status_code != 200:\n",
    "        return \"Error: API call failed.\"\n",
    "    else:\n",
    "        call = req.json()\n",
    "        return call['data']"
   ]
  },
  {
   "cell_type": "markdown",
   "id": "7e9b3065-2b6c-4aa6-adeb-ecfe0efee033",
   "metadata": {},
   "source": [
    "## Data Wrangling"
   ]
  },
  {
   "cell_type": "markdown",
   "id": "34448cc3-7555-45d9-a8cd-3ab12ef77540",
   "metadata": {},
   "source": [
    "This function takes an json object and parses relevant data into a dictionary.\n",
    "\n",
    "**Input**: dictionary to store data, json object keys, json object storing api response data <br />\n",
    "**Output**: dictionary with stored data"
   ]
  },
  {
   "cell_type": "code",
   "execution_count": 4,
   "id": "2e2e1f34-019e-4201-8d29-a87577ab410f",
   "metadata": {},
   "outputs": [],
   "source": [
    "def data_wrangling(dict_, keys, api_call):\n",
    "    error_log = [] #used to capture indices with missing data\n",
    "    for i in range(len(api_call)):\n",
    "        for key in keys:\n",
    "            try:\n",
    "                dict_[key].append(api_call[i][key])\n",
    "            except:\n",
    "                error_log.append(f\"Error on index: {i}\\nkey \\\"{key}\\\" not found.\")\n",
    "                dict_[key].append(None) #if there is not data, set it to null\n",
    "    return {'data': dict_, 'error_log': error_log}"
   ]
  },
  {
   "cell_type": "markdown",
   "id": "25204946-4b90-4fee-b2fe-8e4c6407d90f",
   "metadata": {},
   "source": [
    "## Model Instantiation and Performance"
   ]
  },
  {
   "cell_type": "markdown",
   "id": "563bd88b-60e9-4a7e-bf0a-be6fd0ca8680",
   "metadata": {},
   "source": [
    "This function instates an estimator and prints various model performance metrics:\n",
    "\n",
    "**Input:** estimator, feature train data, feature test data, response train data, response test data <br/>\n",
    "**Output:** Printout of all metrics."
   ]
  },
  {
   "cell_type": "code",
   "execution_count": 5,
   "id": "64fcb7d8-846b-4e67-b906-7f96663c05ce",
   "metadata": {},
   "outputs": [],
   "source": [
    "def make_model(estimator, X_train, X_test, y_train, y_test):\n",
    "    estimator.fit(X_train, y_train)\n",
    "    preds = estimator.predict(X_test)\n",
    "    \n",
    "    print(f'''\n",
    "        Training Accuracy Score: {estimator.score(X_train, y_train)}\n",
    "        Test Accuracy Score: {estimator.score(X_test, y_test)}\n",
    "        \n",
    "        --- Performance on unseen data ----\n",
    "        Recall (Sensitivity): {recall_score(y_test, preds)}\n",
    "        Specificity: {recall_score(y_test, preds, pos_label=0)}\n",
    "        Precision: {precision_score(y_test, preds)}\n",
    "        \n",
    "        Balance Accuracy: {balanced_accuracy_score(y_test, preds)}\n",
    "        F1 Score: {f1_score(y_test, preds)}\n",
    "        ''')"
   ]
  }
 ],
 "metadata": {
  "kernelspec": {
   "display_name": "Python 3 (ipykernel)",
   "language": "python",
   "name": "python3"
  },
  "language_info": {
   "codemirror_mode": {
    "name": "ipython",
    "version": 3
   },
   "file_extension": ".py",
   "mimetype": "text/x-python",
   "name": "python",
   "nbconvert_exporter": "python",
   "pygments_lexer": "ipython3",
   "version": "3.9.7"
  }
 },
 "nbformat": 4,
 "nbformat_minor": 5
}
