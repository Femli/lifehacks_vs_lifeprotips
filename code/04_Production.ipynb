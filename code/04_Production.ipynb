{
 "cells": [
  {
   "cell_type": "markdown",
   "id": "5c726bc7-bd4d-48cd-a1cd-0436ab785641",
   "metadata": {},
   "source": [
    "# Production"
   ]
  },
  {
   "cell_type": "markdown",
   "id": "653c621e-ded0-4378-a21f-4f3e1d46c7fc",
   "metadata": {},
   "source": [
    "In this notebook we analyze the results of our best model."
   ]
  },
  {
   "cell_type": "code",
   "execution_count": 1,
   "id": "da318927-fa6d-4f09-8351-4b7d5a912a31",
   "metadata": {},
   "outputs": [],
   "source": [
    "# imports\n",
    "import pandas as pd\n",
    "import numpy as np\n",
    "import matplotlib.pyplot as plt\n",
    "import seaborn as sns\n",
    "import warnings\n",
    "\n",
    "## metrics\n",
    "from sklearn.metrics import (accuracy_score, balanced_accuracy_score, recall_score, precision_score, f1_score, confusion_matrix, \n",
    "                            ConfusionMatrixDisplay, plot_roc_curve, roc_auc_score, classification_report, RocCurveDisplay)"
   ]
  },
  {
   "cell_type": "code",
   "execution_count": 19,
   "id": "e59eab8a-e9e1-4c6a-8ee1-fab099bddd87",
   "metadata": {},
   "outputs": [],
   "source": [
    "# recovering data\n",
    "%store -r stored_data"
   ]
  },
  {
   "cell_type": "markdown",
   "id": "f9faac8f-911a-40e8-9c33-62fcdc84f568",
   "metadata": {},
   "source": [
    "## Baseline Model"
   ]
  },
  {
   "cell_type": "markdown",
   "id": "8b3cd1bf-d82e-4524-9903-bfca57193d91",
   "metadata": {},
   "source": [
    "Let's create a baseline model to compare our results."
   ]
  },
  {
   "cell_type": "code",
   "execution_count": 8,
   "id": "7619941a-656d-46dc-87de-5224f88dc672",
   "metadata": {},
   "outputs": [],
   "source": [
    "dc = DummyClassifier()"
   ]
  },
  {
   "cell_type": "code",
   "execution_count": 604,
   "id": "3cfa2741-8463-4ad0-8146-16883b6cdf9a",
   "metadata": {},
   "outputs": [
    {
     "name": "stdout",
     "output_type": "stream",
     "text": [
      "\n",
      "        Training Accuracy Score: 0.7587506731287023\n",
      "        Test Accuracy Score: 0.7592891760904685\n",
      "        \n",
      "        --- Performance on unseen data ----\n",
      "        Recall (Sensitivity): 0.0\n",
      "        Specificity: 1.0\n",
      "        Precision: 0.0\n",
      "        \n",
      "        Balance Accuracy: 0.5\n",
      "        F1 Score: 0.0\n",
      "        \n"
     ]
    }
   ],
   "source": [
    "with warnings.catch_warnings(record=True): #ignore warnings\n",
    "    make_model(dc, X_train_cvec, X_test_cvec, y_train_encoded, y_test_encoded)"
   ]
  },
  {
   "cell_type": "markdown",
   "id": "c11a6f43-eac0-4978-8d32-065882989114",
   "metadata": {},
   "source": [
    "- Regarding accuracy, 75.9% of our predictions correctly predicted if a posts belongs to `r/LifeProTips` or `r/lifehacks`.\n",
    "\n",
    "- Regarding recall, the proportion of correctly predicted `r/lifehacks` posts over actual `r/lifehacks` posts. <br />\n",
    "In this case we did not correctly predict any posts belong to `r/lifehacks`.\n",
    "\n",
    "- Regarding specificity, the proportion of correctly predicted `r/LifeProTips` posts over actual `r/LifeProTips` posts. <br />\n",
    "In this case we correctly predicted all `r/LifeProTips` posts that belong to `r/LifeProTips`.\n",
    "\n",
    "- Regarding precision, the proportion of correct `r/lifehacks` predictions over all `r/lifehacks` predictions. <br />\n",
    "Since we did not predict any post to belong to `r/lifehacks`, our precision score cannot be calculated (can't divide by zero). Defaults to zero instead.\n",
    "\n",
    "- Our balanced accuracy score is the average of our recall and specificty score. It's important for us here because our data is imbalanced (far more cases of `r/LifeProTips` than `r/lifehacks`). <br />\n",
    "Here we can see that our model is not doing a good job of predicting both classes correctly.\n",
    "\n",
    "- Our F1 score is perhaps the most important metric here, because it measures the effects of recall and precision, the two most relevant metrics in our predictive model. </ br>\n",
    "Since our recall was 0, our F1 score is 0 as well."
   ]
  },
  {
   "cell_type": "markdown",
   "id": "636d88f6-75da-4cc3-91c3-ff1913bad59a",
   "metadata": {},
   "source": [
    "Given that our recall score is `0`, and our specifity score is `1`, our baseline model simply predicted all posts in the dataset to belong to `r/LifeProTips`! <br />\n",
    "That means we incorrectly predicted about `30%` of our data, hence our accuracy score of 0.759."
   ]
  },
  {
   "cell_type": "markdown",
   "id": "2970b5af-2357-41bd-8f0e-4801937290c0",
   "metadata": {},
   "source": [
    "## Best Model: Logistic Regression"
   ]
  },
  {
   "cell_type": "code",
   "execution_count": 36,
   "id": "a5ab0809-e031-49dd-8de9-11345c83e0f3",
   "metadata": {},
   "outputs": [],
   "source": [
    "best_model = stored_data['best_model']\n",
    "X_train = stored_data['X_train_tf'] \n",
    "X_test = stored_data['X_test_tf']\n",
    "y_train = stored_data['y_train_encoded']\n",
    "y_test = stored_data['y_test_encoded']"
   ]
  },
  {
   "cell_type": "code",
   "execution_count": 37,
   "id": "a348fff4-4ddb-45ae-820c-198d5420e017",
   "metadata": {},
   "outputs": [],
   "source": [
    "preds = best_model.predict(X_test)"
   ]
  },
  {
   "cell_type": "code",
   "execution_count": 38,
   "id": "bc99023a-93a4-4682-831c-7569bd23f04b",
   "metadata": {},
   "outputs": [
    {
     "name": "stdout",
     "output_type": "stream",
     "text": [
      "\n",
      "    Training Accuracy Score: 0.9176090468497576\n",
      "    Test Accuracy Score: 0.7463651050080775\n",
      "    \n",
      "    --- Performance on unseen data ----\n",
      "    Recall (Sensitivity): 0.5906040268456376\n",
      "    Specificity: 0.7957446808510639\n",
      "    Precision: 0.4782608695652174\n",
      "\n",
      "    Balance Accuracy: 0.6931743538483508\n",
      "    F1 Score: 0.5285285285285286\n",
      "    \n"
     ]
    }
   ],
   "source": [
    "print(f'''\n",
    "    Training Accuracy Score: {best_model.score(X_train, y_train)}\n",
    "    Test Accuracy Score: {best_model.score(X_test, y_test)}\n",
    "    \n",
    "    --- Performance on unseen data ----\n",
    "    Recall (Sensitivity): {recall_score(y_test, preds)}\n",
    "    Specificity: {recall_score(y_test, preds, pos_label=0)}\n",
    "    Precision: {precision_score(y_test, preds)}\n",
    "\n",
    "    Balance Accuracy: {balanced_accuracy_score(y_test, preds)}\n",
    "    F1 Score: {f1_score(y_test, preds)}\n",
    "    ''')"
   ]
  },
  {
   "cell_type": "markdown",
   "id": "b5758e2e-e33d-46a7-bf70-21de206c3fa4",
   "metadata": {},
   "source": [
    "This model performed the best in terms of recall and precision, which were our scores of interest given the imbalanced dataset. "
   ]
  },
  {
   "cell_type": "code",
   "execution_count": 35,
   "id": "466e52ee-49e5-4366-9d1e-fc0feac4f0bb",
   "metadata": {},
   "outputs": [
    {
     "data": {
      "text/plain": [
       "{'C': 1,\n",
       " 'class_weight': 'balanced',\n",
       " 'dual': False,\n",
       " 'fit_intercept': True,\n",
       " 'intercept_scaling': 1,\n",
       " 'l1_ratio': None,\n",
       " 'max_iter': 1000,\n",
       " 'multi_class': 'auto',\n",
       " 'n_jobs': None,\n",
       " 'penalty': 'l2',\n",
       " 'random_state': 14,\n",
       " 'solver': 'lbfgs',\n",
       " 'tol': 0.0001,\n",
       " 'verbose': 0,\n",
       " 'warm_start': False}"
      ]
     },
     "execution_count": 35,
     "metadata": {},
     "output_type": "execute_result"
    }
   ],
   "source": [
    "# model parameters\n",
    "best_model.get_params()"
   ]
  },
  {
   "cell_type": "markdown",
   "id": "4c5a7e52-6284-40f1-b3eb-cf43b87c5514",
   "metadata": {},
   "source": [
    "These were the hyperparameters that led to the strongest results, given our training features."
   ]
  },
  {
   "cell_type": "code",
   "execution_count": 52,
   "id": "0aae486d-8772-4837-8aab-52735e9dd202",
   "metadata": {
    "tags": []
   },
   "outputs": [
    {
     "data": {
      "image/png": "[encoded data removed]",
      "text/plain": [
       "<Figure size 432x288 with 2 Axes>"
      ]
     },
     "metadata": {
      "needs_background": "light"
     },
     "output_type": "display_data"
    }
   ],
   "source": [
    "# Confusion matrix\n",
    "ConfusionMatrixDisplay.from_estimator(best_model, X_test, y_test, display_labels=['LPT (0)', 'LH (1)'])\n",
    "#plt.savefig(\"../images/confusion_matrix.png\");"
   ]
  },
  {
   "cell_type": "code",
   "execution_count": 51,
   "id": "a7204d20-82d1-4b62-825d-e583c6420366",
   "metadata": {
    "tags": []
   },
   "outputs": [
    {
     "data": {
      "image/png": "[encoded data removed]",
      "text/plain": [
       "<Figure size 432x288 with 2 Axes>"
      ]
     },
     "metadata": {
      "needs_background": "light"
     },
     "output_type": "display_data"
    }
   ],
   "source": [
    "# Confusion matrix\n",
    "ConfusionMatrixDisplay.from_estimator(best_model, X_test, y_test, display_labels=['LPT (0)', 'LH (1)'], normalize='pred')\n",
    "#plt.savefig(\"../images/confusion_matrix_props.png\");"
   ]
  },
  {
   "cell_type": "markdown",
   "id": "7ae7d0bd-deb2-47cb-8578-6ecbeada38e5",
   "metadata": {},
   "source": [
    "Due to the imbalanced data, the majority class (LPT) had strong correct prediction, and the minority class (LH) had less correct prediction. In fact, we had more incorrect LH prediction than correct predictions."
   ]
  },
  {
   "cell_type": "code",
   "execution_count": 53,
   "id": "c2cf53f5-4e63-42a1-98f3-2bfe94b9dbb1",
   "metadata": {
    "tags": []
   },
   "outputs": [
    {
     "data": {
      "image/png": "[encoded data removed]",
      "text/plain": [
       "<Figure size 432x288 with 1 Axes>"
      ]
     },
     "metadata": {
      "needs_background": "light"
     },
     "output_type": "display_data"
    }
   ],
   "source": [
    "RocCurveDisplay.from_estimator(best_model, X_test, y_test)\n",
    "plt.plot([0,1], [0,1], label='no prediction value', linestyle='--', color='gray') # add'worst case scenario' line\n",
    "plt.legend()\n",
    "#plt.savefig(\"../images/roc_curve.png\");"
   ]
  },
  {
   "cell_type": "markdown",
   "id": "d344b57e-e2f7-4b29-aa03-f38a5823f9ad",
   "metadata": {},
   "source": [
    "Our ROC curve demonstrates that our model does fairly well at making correct LH post predictions. Performance starts to go down around the 0.8 true positive rate."
   ]
  },
  {
   "cell_type": "code",
   "execution_count": 47,
   "id": "0c7b72ae-cb35-4b4e-bf4d-12bf3ee48e11",
   "metadata": {},
   "outputs": [],
   "source": [
    "coefs = pd.DataFrame(best_model.coef_[0], index=X_train.columns)\n",
    "lh_coefs = coefs.sort_values(by=0, ascending=False)[:10]\n",
    "lpt_coefs = coefs.sort_values(by=0, ascending=True)[:10]"
   ]
  },
  {
   "cell_type": "code",
   "execution_count": 54,
   "id": "351912e9-245e-449f-8391-502fa6649c55",
   "metadata": {},
   "outputs": [
    {
     "data": {
      "image/png": "[encoded data removed]",
      "text/plain": [
       "<Figure size 432x288 with 1 Axes>"
      ]
     },
     "metadata": {
      "needs_background": "light"
     },
     "output_type": "display_data"
    }
   ],
   "source": [
    "sns.barplot(y=lh_coefs.index, x=lh_coefs[0].values, orient='h', color='orange')\n",
    "plt.title(\"Top 10 most impactful words in predicting LH\")\n",
    "#plt.savefig('../images/lh_coefs.png');"
   ]
  },
  {
   "cell_type": "code",
   "execution_count": 55,
   "id": "d1e74b42-7125-4059-8db4-2f6a93ca37dd",
   "metadata": {},
   "outputs": [
    {
     "data": {
      "image/png": "[encoded data removed]",
      "text/plain": [
       "<Figure size 432x288 with 1 Axes>"
      ]
     },
     "metadata": {
      "needs_background": "light"
     },
     "output_type": "display_data"
    }
   ],
   "source": [
    "sns.barplot(y=lpt_coefs.index, x=lpt_coefs[0].values, orient='h', color='orange')\n",
    "plt.title(\"Top 10 most impactful words in predicting LPT\")\n",
    "#plt.savefig('../images/lpt_coefs.png');"
   ]
  },
  {
   "cell_type": "markdown",
   "id": "4560666e-7428-497c-a1c3-1d4bb568a5bd",
   "metadata": {},
   "source": [
    "Interestingly enough, our top coefficients for predicting LH includes the word \"tips\" which is something we might expect to see more in LPT. We also notice that http is the top word in LH post, which might indicate that most submissions to LH include some type of hyperlink in the body text. Furthermore, LPT has more nouns and pronouns, perhaps indicating a more narrative-based submission style."
   ]
  }
 ],
 "metadata": {
  "kernelspec": {
   "display_name": "Python 3 (ipykernel)",
   "language": "python",
   "name": "python3"
  },
  "language_info": {
   "codemirror_mode": {
    "name": "ipython",
    "version": 3
   },
   "file_extension": ".py",
   "mimetype": "text/x-python",
   "name": "python",
   "nbconvert_exporter": "python",
   "pygments_lexer": "ipython3",
   "version": "3.9.7"
  }
 },
 "nbformat": 4,
 "nbformat_minor": 5
}
