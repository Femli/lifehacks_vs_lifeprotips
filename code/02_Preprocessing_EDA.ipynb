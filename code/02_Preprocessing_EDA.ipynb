{
 "cells": [
  {
   "cell_type": "markdown",
   "id": "848e7404-0f8a-428b-823a-5c0c58a4e1f3",
   "metadata": {},
   "source": [
    "### Imports"
   ]
  },
  {
   "cell_type": "code",
   "execution_count": 1,
   "id": "701c38a0-c2c2-41e0-9630-bc49b3e86d18",
   "metadata": {},
   "outputs": [],
   "source": [
    "import pandas as pd\n",
    "import numpy as np\n",
    "import matplotlib.pyplot as plt\n",
    "import seaborn as sns\n",
    "\n",
    "## preprocessing\n",
    "from sklearn.model_selection import train_test_split\n",
    "from sklearn.preprocessing import LabelEncoder\n",
    "\n",
    "## preprocessing - NLP\n",
    "from sklearn.feature_extraction.text import CountVectorizer, TfidfVectorizer\n",
    "from nltk import word_tokenize\n",
    "from nltk.stem import WordNetLemmatizer\n",
    "\n",
    "## workflow\n",
    "from sklearn.pipeline import Pipeline\n",
    "from sklearn.compose import ColumnTransformer\n",
    "from sklearn.model_selection import GridSearchCV\n",
    "\n",
    "## models\n",
    "from sklearn.dummy import DummyClassifier\n",
    "from sklearn.linear_model import LogisticRegression\n",
    "from sklearn.neighbors import KNeighborsClassifier\n",
    "\n",
    "## metrics\n",
    "from sklearn.metrics import accuracy_score, balanced_accuracy_score, recall_score, precision_score, f1_score, confusion_matrix"
   ]
  },
  {
   "cell_type": "code",
   "execution_count": 2,
   "id": "bca1217f-2fae-4b3f-a2a9-ef6af51a1267",
   "metadata": {},
   "outputs": [],
   "source": [
    "%run 00_Workflow_Functions.ipynb import na_only, api_call, data_wrangling"
   ]
  },
  {
   "cell_type": "code",
   "execution_count": 3,
   "id": "b33cd74e-63b5-4064-9aa9-fec92890b210",
   "metadata": {},
   "outputs": [
    {
     "data": {
      "text/plain": [
       "(2178, 10)"
      ]
     },
     "execution_count": 3,
     "metadata": {},
     "output_type": "execute_result"
    }
   ],
   "source": [
    "subs = pd.read_csv('../datasets/submissions_data.csv')\n",
    "subs.shape"
   ]
  },
  {
   "cell_type": "code",
   "execution_count": 4,
   "id": "ef0b8b05-fb8f-4b85-99dc-e26d7783dd28",
   "metadata": {},
   "outputs": [
    {
     "data": {
      "text/html": [
       "<div>\n",
       "<style scoped>\n",
       "    .dataframe tbody tr th:only-of-type {\n",
       "        vertical-align: middle;\n",
       "    }\n",
       "\n",
       "    .dataframe tbody tr th {\n",
       "        vertical-align: top;\n",
       "    }\n",
       "\n",
       "    .dataframe thead th {\n",
       "        text-align: right;\n",
       "    }\n",
       "</style>\n",
       "<table border=\"1\" class=\"dataframe\">\n",
       "  <thead>\n",
       "    <tr style=\"text-align: right;\">\n",
       "      <th></th>\n",
       "      <th>author</th>\n",
       "      <th>author_fullname</th>\n",
       "      <th>created_utc</th>\n",
       "      <th>selftext</th>\n",
       "      <th>title</th>\n",
       "      <th>subreddit</th>\n",
       "      <th>is_video</th>\n",
       "      <th>num_comments</th>\n",
       "      <th>score</th>\n",
       "      <th>upvote_ratio</th>\n",
       "    </tr>\n",
       "  </thead>\n",
       "  <tbody>\n",
       "    <tr>\n",
       "      <th>0</th>\n",
       "      <td>Cutesifer_101</td>\n",
       "      <td>t2_7zsy6pvt</td>\n",
       "      <td>1651176966</td>\n",
       "      <td>The damage wasn’t that bad other than the fact...</td>\n",
       "      <td>I spilled monster energy</td>\n",
       "      <td>lifehacks</td>\n",
       "      <td>False</td>\n",
       "      <td>0</td>\n",
       "      <td>1</td>\n",
       "      <td>1.0</td>\n",
       "    </tr>\n",
       "    <tr>\n",
       "      <th>1</th>\n",
       "      <td>Subtotalpoet</td>\n",
       "      <td>t2_dcvoz53</td>\n",
       "      <td>1651176676</td>\n",
       "      <td>NaN</td>\n",
       "      <td>Wife forgot ur favorite ice cream? Improvise, ...</td>\n",
       "      <td>lifehacks</td>\n",
       "      <td>False</td>\n",
       "      <td>0</td>\n",
       "      <td>1</td>\n",
       "      <td>1.0</td>\n",
       "    </tr>\n",
       "    <tr>\n",
       "      <th>2</th>\n",
       "      <td>amintowords</td>\n",
       "      <td>t2_racie</td>\n",
       "      <td>1651175651</td>\n",
       "      <td>Set an alarm for an hour after you're meant to...</td>\n",
       "      <td>How to remember to take tablets on time</td>\n",
       "      <td>lifehacks</td>\n",
       "      <td>False</td>\n",
       "      <td>0</td>\n",
       "      <td>1</td>\n",
       "      <td>1.0</td>\n",
       "    </tr>\n",
       "    <tr>\n",
       "      <th>3</th>\n",
       "      <td>rokokslot87</td>\n",
       "      <td>t2_kv1oregh</td>\n",
       "      <td>1651174857</td>\n",
       "      <td>NaN</td>\n",
       "      <td>SLOT ONLINE MENANG BESAR | SLOT DEPOSIT PULSA</td>\n",
       "      <td>lifehacks</td>\n",
       "      <td>False</td>\n",
       "      <td>0</td>\n",
       "      <td>1</td>\n",
       "      <td>1.0</td>\n",
       "    </tr>\n",
       "    <tr>\n",
       "      <th>4</th>\n",
       "      <td>Distinct_Expert_7648</td>\n",
       "      <td>t2_mczxpj82</td>\n",
       "      <td>1651174438</td>\n",
       "      <td>[removed]</td>\n",
       "      <td>Infertility Clinic in Pune</td>\n",
       "      <td>lifehacks</td>\n",
       "      <td>False</td>\n",
       "      <td>0</td>\n",
       "      <td>1</td>\n",
       "      <td>1.0</td>\n",
       "    </tr>\n",
       "  </tbody>\n",
       "</table>\n",
       "</div>"
      ],
      "text/plain": [
       "                 author author_fullname  created_utc  \\\n",
       "0         Cutesifer_101     t2_7zsy6pvt   1651176966   \n",
       "1          Subtotalpoet      t2_dcvoz53   1651176676   \n",
       "2           amintowords        t2_racie   1651175651   \n",
       "3           rokokslot87     t2_kv1oregh   1651174857   \n",
       "4  Distinct_Expert_7648     t2_mczxpj82   1651174438   \n",
       "\n",
       "                                            selftext  \\\n",
       "0  The damage wasn’t that bad other than the fact...   \n",
       "1                                                NaN   \n",
       "2  Set an alarm for an hour after you're meant to...   \n",
       "3                                                NaN   \n",
       "4                                          [removed]   \n",
       "\n",
       "                                               title  subreddit  is_video  \\\n",
       "0                           I spilled monster energy  lifehacks     False   \n",
       "1  Wife forgot ur favorite ice cream? Improvise, ...  lifehacks     False   \n",
       "2            How to remember to take tablets on time  lifehacks     False   \n",
       "3      SLOT ONLINE MENANG BESAR | SLOT DEPOSIT PULSA  lifehacks     False   \n",
       "4                         Infertility Clinic in Pune  lifehacks     False   \n",
       "\n",
       "   num_comments  score  upvote_ratio  \n",
       "0             0      1           1.0  \n",
       "1             0      1           1.0  \n",
       "2             0      1           1.0  \n",
       "3             0      1           1.0  \n",
       "4             0      1           1.0  "
      ]
     },
     "execution_count": 4,
     "metadata": {},
     "output_type": "execute_result"
    }
   ],
   "source": [
    "subs.head(5)"
   ]
  },
  {
   "cell_type": "code",
   "execution_count": 5,
   "id": "21604ee1-7cde-4d2d-9eec-176b5ca5356a",
   "metadata": {},
   "outputs": [
    {
     "data": {
      "text/html": [
       "<div>\n",
       "<style scoped>\n",
       "    .dataframe tbody tr th:only-of-type {\n",
       "        vertical-align: middle;\n",
       "    }\n",
       "\n",
       "    .dataframe tbody tr th {\n",
       "        vertical-align: top;\n",
       "    }\n",
       "\n",
       "    .dataframe thead th {\n",
       "        text-align: right;\n",
       "    }\n",
       "</style>\n",
       "<table border=\"1\" class=\"dataframe\">\n",
       "  <thead>\n",
       "    <tr style=\"text-align: right;\">\n",
       "      <th></th>\n",
       "      <th>author</th>\n",
       "      <th>author_fullname</th>\n",
       "      <th>created_utc</th>\n",
       "      <th>selftext</th>\n",
       "      <th>title</th>\n",
       "      <th>subreddit</th>\n",
       "      <th>is_video</th>\n",
       "      <th>num_comments</th>\n",
       "      <th>score</th>\n",
       "      <th>upvote_ratio</th>\n",
       "    </tr>\n",
       "  </thead>\n",
       "  <tbody>\n",
       "    <tr>\n",
       "      <th>2173</th>\n",
       "      <td>Bloodstone2012</td>\n",
       "      <td>t2_jt1jo</td>\n",
       "      <td>1650646779</td>\n",
       "      <td>NaN</td>\n",
       "      <td>LPT: it is healthier to skip a meal and just d...</td>\n",
       "      <td>LifeProTips</td>\n",
       "      <td>False</td>\n",
       "      <td>1</td>\n",
       "      <td>1</td>\n",
       "      <td>1.0</td>\n",
       "    </tr>\n",
       "    <tr>\n",
       "      <th>2174</th>\n",
       "      <td>cross_peach</td>\n",
       "      <td>t2_30cjlc75</td>\n",
       "      <td>1650646116</td>\n",
       "      <td>NaN</td>\n",
       "      <td>LPT: You can access several online courses and...</td>\n",
       "      <td>LifeProTips</td>\n",
       "      <td>False</td>\n",
       "      <td>1</td>\n",
       "      <td>1</td>\n",
       "      <td>1.0</td>\n",
       "    </tr>\n",
       "    <tr>\n",
       "      <th>2175</th>\n",
       "      <td>jmincorporated</td>\n",
       "      <td>t2_16tlrj</td>\n",
       "      <td>1650645631</td>\n",
       "      <td>NaN</td>\n",
       "      <td>LPT - when you receive a medical bill always c...</td>\n",
       "      <td>LifeProTips</td>\n",
       "      <td>False</td>\n",
       "      <td>1</td>\n",
       "      <td>1</td>\n",
       "      <td>1.0</td>\n",
       "    </tr>\n",
       "    <tr>\n",
       "      <th>2176</th>\n",
       "      <td>the_women_era</td>\n",
       "      <td>t2_m8qtr3lc</td>\n",
       "      <td>1650645336</td>\n",
       "      <td>[removed]</td>\n",
       "      <td>People Will Always Judge Your Actions. No Matt...</td>\n",
       "      <td>LifeProTips</td>\n",
       "      <td>False</td>\n",
       "      <td>1</td>\n",
       "      <td>1</td>\n",
       "      <td>1.0</td>\n",
       "    </tr>\n",
       "    <tr>\n",
       "      <th>2177</th>\n",
       "      <td>patchaclus</td>\n",
       "      <td>t2_9411lb63</td>\n",
       "      <td>1650645171</td>\n",
       "      <td>NaN</td>\n",
       "      <td>LPT: you can set rules on your email to redire...</td>\n",
       "      <td>LifeProTips</td>\n",
       "      <td>False</td>\n",
       "      <td>1</td>\n",
       "      <td>1</td>\n",
       "      <td>1.0</td>\n",
       "    </tr>\n",
       "  </tbody>\n",
       "</table>\n",
       "</div>"
      ],
      "text/plain": [
       "              author author_fullname  created_utc   selftext  \\\n",
       "2173  Bloodstone2012        t2_jt1jo   1650646779        NaN   \n",
       "2174     cross_peach     t2_30cjlc75   1650646116        NaN   \n",
       "2175  jmincorporated       t2_16tlrj   1650645631        NaN   \n",
       "2176   the_women_era     t2_m8qtr3lc   1650645336  [removed]   \n",
       "2177      patchaclus     t2_9411lb63   1650645171        NaN   \n",
       "\n",
       "                                                  title    subreddit  \\\n",
       "2173  LPT: it is healthier to skip a meal and just d...  LifeProTips   \n",
       "2174  LPT: You can access several online courses and...  LifeProTips   \n",
       "2175  LPT - when you receive a medical bill always c...  LifeProTips   \n",
       "2176  People Will Always Judge Your Actions. No Matt...  LifeProTips   \n",
       "2177  LPT: you can set rules on your email to redire...  LifeProTips   \n",
       "\n",
       "      is_video  num_comments  score  upvote_ratio  \n",
       "2173     False             1      1           1.0  \n",
       "2174     False             1      1           1.0  \n",
       "2175     False             1      1           1.0  \n",
       "2176     False             1      1           1.0  \n",
       "2177     False             1      1           1.0  "
      ]
     },
     "execution_count": 5,
     "metadata": {},
     "output_type": "execute_result"
    }
   ],
   "source": [
    "subs.tail(5)"
   ]
  },
  {
   "cell_type": "code",
   "execution_count": 6,
   "id": "acc23335-3c39-4a9c-ac72-5f482afaca7d",
   "metadata": {},
   "outputs": [
    {
     "name": "stdout",
     "output_type": "stream",
     "text": [
      "<class 'pandas.core.frame.DataFrame'>\n",
      "RangeIndex: 2178 entries, 0 to 2177\n",
      "Data columns (total 10 columns):\n",
      " #   Column           Non-Null Count  Dtype  \n",
      "---  ------           --------------  -----  \n",
      " 0   author           2178 non-null   object \n",
      " 1   author_fullname  2178 non-null   object \n",
      " 2   created_utc      2178 non-null   int64  \n",
      " 3   selftext         1298 non-null   object \n",
      " 4   title            2178 non-null   object \n",
      " 5   subreddit        2178 non-null   object \n",
      " 6   is_video         2178 non-null   bool   \n",
      " 7   num_comments     2178 non-null   int64  \n",
      " 8   score            2178 non-null   int64  \n",
      " 9   upvote_ratio     2178 non-null   float64\n",
      "dtypes: bool(1), float64(1), int64(3), object(5)\n",
      "memory usage: 155.4+ KB\n"
     ]
    }
   ],
   "source": [
    "subs.info()"
   ]
  },
  {
   "cell_type": "code",
   "execution_count": 7,
   "id": "622952cd-4300-446c-990a-6ac4a9635cd2",
   "metadata": {},
   "outputs": [
    {
     "data": {
      "text/plain": [
       "selftext    880\n",
       "dtype: int64"
      ]
     },
     "execution_count": 7,
     "metadata": {},
     "output_type": "execute_result"
    }
   ],
   "source": [
    "na_only(subs)"
   ]
  },
  {
   "cell_type": "markdown",
   "id": "8884769d-9953-4d29-86b9-e3f417ce3fdf",
   "metadata": {},
   "source": [
    "When we wrangled the data, we had no NAs reported. However, after exporting the CSV and importing the CSV, we now have NAs present. Also, there appears to be a particular value `[removed]` that indicates a submission was deleted, and data was redacted. We will need to drop all of this data for NLP, as it's not useful for us."
   ]
  },
  {
   "cell_type": "markdown",
   "id": "c5d62846-eeac-48e2-8d2c-e4a4e86c7579",
   "metadata": {},
   "source": [
    "### Dropping erraneous data"
   ]
  },
  {
   "cell_type": "markdown",
   "id": "80ad664a-0ba4-41e9-92a9-07345d435159",
   "metadata": {},
   "source": [
    "In addition to `[removed]`, let's remove selftext posts that are less than 7 words long (subjective choice). We do this because a post of a few words may indicate the post is referencing a multimedia file or hypyerlink."
   ]
  },
  {
   "cell_type": "code",
   "execution_count": 54,
   "id": "03ca94ac-1fac-4260-8d10-b6ac6dccf39e",
   "metadata": {},
   "outputs": [],
   "source": [
    "text_filter = np.array([[i, text] for i, text in enumerate(subs['selftext']) if len(text.split()) < 7])"
   ]
  },
  {
   "cell_type": "code",
   "execution_count": 55,
   "id": "f3abd64e-d280-4cd3-afd6-af5b99a6d686",
   "metadata": {},
   "outputs": [
    {
     "data": {
      "text/plain": [
       "[removed]                                                             716\n",
       "Looking at you google fi                                                2\n",
       "/storage/emulated/0/Download/IMG_20220327_220539366_103259.jpg          1\n",
       "That’s where the juicy stuff is.                                        1\n",
       "https://www.youtube.com/watch?v=Qwscb3QIVSg?t=                          1\n",
       "[https://youtu.be/Ho53oi4nUBQ](https://youtu.be/Ho53oi4nUBQ)            1\n",
       "[body odor blog](https://blogsbyq.com/2022/04/16/onion-body-odor/)      1\n",
       "Use a little lip balm                                                   1\n",
       "Trying to read small print                                              1\n",
       "Source: I work in hotels                                                1\n",
       "Go watch this https://youtube.com/c/ThatVeganTeacherYouTube             1\n",
       "See above                                                               1\n",
       "Reduced falls = increased longevity.                                    1\n",
       "Ladies love it.                                                         1\n",
       "I def do                                                                1\n",
       "He was a good president                                                 1\n",
       "Happy April Fools!                                                      1\n",
       "kinda works                                                             1\n",
       "dtype: int64"
      ]
     },
     "execution_count": 55,
     "metadata": {},
     "output_type": "execute_result"
    }
   ],
   "source": [
    "pd.DataFrame(text_filter[:, 1]).value_counts()"
   ]
  },
  {
   "cell_type": "code",
   "execution_count": 7,
   "id": "c25deb2c-976e-4524-b937-6ffa62ac1652",
   "metadata": {},
   "outputs": [
    {
     "data": {
      "text/plain": [
       "lifehacks      0.502755\n",
       "LifeProTips    0.497245\n",
       "Name: subreddit, dtype: float64"
      ]
     },
     "execution_count": 7,
     "metadata": {},
     "output_type": "execute_result"
    }
   ],
   "source": [
    "subs['subreddit'].value_counts(normalize=True)"
   ]
  },
  {
   "cell_type": "markdown",
   "id": "13af95c4-eafd-4627-9b08-e159cfa09e51",
   "metadata": {},
   "source": [
    "Prior to dropping NAs, we have a nearly perfectly balance proportion between our two classes."
   ]
  },
  {
   "cell_type": "code",
   "execution_count": 8,
   "id": "2029ea1d-5538-41b3-87e1-6177c9532eca",
   "metadata": {},
   "outputs": [
    {
     "data": {
      "text/plain": [
       "(1298, 10)"
      ]
     },
     "execution_count": 8,
     "metadata": {},
     "output_type": "execute_result"
    }
   ],
   "source": [
    "subs = subs.dropna()\n",
    "subs.shape"
   ]
  },
  {
   "cell_type": "code",
   "execution_count": 9,
   "id": "c64f076b-6d3a-43b6-919d-f199434e5b76",
   "metadata": {},
   "outputs": [
    {
     "data": {
      "text/plain": [
       "LifeProTips    0.644838\n",
       "lifehacks      0.355162\n",
       "Name: subreddit, dtype: float64"
      ]
     },
     "execution_count": 9,
     "metadata": {},
     "output_type": "execute_result"
    }
   ],
   "source": [
    "subs['subreddit'].value_counts(normalize=True)"
   ]
  },
  {
   "cell_type": "markdown",
   "id": "f5d132e5-a1d0-4840-b996-c85fffe75d32",
   "metadata": {},
   "source": [
    "After dropping NAs, `LifeProTips` has become our majority class."
   ]
  },
  {
   "cell_type": "markdown",
   "id": "89d032e6-f1dd-493b-8309-8181ab6f1ca9",
   "metadata": {},
   "source": [
    "### Train and Test Splits"
   ]
  },
  {
   "cell_type": "code",
   "execution_count": 10,
   "id": "7935e58f-b286-4d1c-9725-8b873607d957",
   "metadata": {},
   "outputs": [],
   "source": [
    "# we are only interested in the self-text\n",
    "X = subs[['selftext']]\n",
    "y = subs['subreddit']\n",
    "\n",
    "X_train, X_test, y_train, y_test = train_test_split(X, y, random_state=14, stratify=y)"
   ]
  },
  {
   "cell_type": "code",
   "execution_count": 11,
   "id": "dbd354e2-dd6d-4f39-9b13-098b61e39b0b",
   "metadata": {},
   "outputs": [
    {
     "name": "stdout",
     "output_type": "stream",
     "text": [
      "(973, 1) (325, 1)\n"
     ]
    }
   ],
   "source": [
    "print(X_train.shape, X_test.shape)"
   ]
  },
  {
   "cell_type": "code",
   "execution_count": 12,
   "id": "804becbc-ea96-437d-afdf-7bb1d96c2a3c",
   "metadata": {},
   "outputs": [
    {
     "name": "stdout",
     "output_type": "stream",
     "text": [
      "(973,) (325,)\n"
     ]
    }
   ],
   "source": [
    "print(y_train.shape, y_test.shape)"
   ]
  },
  {
   "cell_type": "code",
   "execution_count": 13,
   "id": "00777529-264d-43ef-b255-1470d46dfdf3",
   "metadata": {},
   "outputs": [
    {
     "data": {
      "text/plain": [
       "LifeProTips    0.646154\n",
       "lifehacks      0.353846\n",
       "Name: subreddit, dtype: float64"
      ]
     },
     "execution_count": 13,
     "metadata": {},
     "output_type": "execute_result"
    }
   ],
   "source": [
    "y_test.value_counts(normalize=True)"
   ]
  },
  {
   "cell_type": "markdown",
   "id": "1e278ee8-38cc-4eb4-abc0-9587f8de8175",
   "metadata": {},
   "source": [
    "Our stratification worked well."
   ]
  },
  {
   "cell_type": "markdown",
   "id": "5988b712-bcd5-4031-b1ed-faeaa63f6da2",
   "metadata": {},
   "source": [
    "### Preprocessing"
   ]
  },
  {
   "cell_type": "markdown",
   "id": "38e31ff7-3bd8-47f8-ac8f-64f5433f31bf",
   "metadata": {},
   "source": [
    "Transforming our response into labels of 1 and 0, where 1 is `lifehacks` and 0 is `LifeProTips`."
   ]
  },
  {
   "cell_type": "code",
   "execution_count": 14,
   "id": "13b41f7c-7e99-4019-9765-1c655829ca17",
   "metadata": {},
   "outputs": [],
   "source": [
    "le = LabelEncoder()"
   ]
  },
  {
   "cell_type": "code",
   "execution_count": 15,
   "id": "3885ec35-d1e2-4e32-aca3-0f30644bc266",
   "metadata": {},
   "outputs": [],
   "source": [
    "y_train_encoded = le.fit_transform(y_train)\n",
    "y_test_encoded = le.transform(y_test)"
   ]
  },
  {
   "cell_type": "code",
   "execution_count": 16,
   "id": "4a98a73b-1d19-461b-8555-34a69572b156",
   "metadata": {},
   "outputs": [
    {
     "data": {
      "text/plain": [
       "0    0.644399\n",
       "1    0.355601\n",
       "dtype: float64"
      ]
     },
     "execution_count": 16,
     "metadata": {},
     "output_type": "execute_result"
    }
   ],
   "source": [
    "pd.DataFrame(y_train_encoded).value_counts(normalize=True)"
   ]
  },
  {
   "cell_type": "code",
   "execution_count": 17,
   "id": "fb5c9e73-dc2d-4a17-bce4-8c4fccf497e5",
   "metadata": {},
   "outputs": [
    {
     "data": {
      "text/plain": [
       "0"
      ]
     },
     "execution_count": 17,
     "metadata": {},
     "output_type": "execute_result"
    }
   ],
   "source": [
    "na_only(X_train)"
   ]
  },
  {
   "cell_type": "code",
   "execution_count": 18,
   "id": "d0c25c82-dab6-4f88-9503-3210b789c297",
   "metadata": {},
   "outputs": [
    {
     "data": {
      "text/plain": [
       "0"
      ]
     },
     "execution_count": 18,
     "metadata": {},
     "output_type": "execute_result"
    }
   ],
   "source": [
    "na_only(X_test)"
   ]
  },
  {
   "cell_type": "markdown",
   "id": "ddcd3fec-4c35-4647-8a75-3fdf043882b0",
   "metadata": {},
   "source": [
    "No NAs present"
   ]
  },
  {
   "cell_type": "code",
   "execution_count": 36,
   "id": "d726ea05-aaf9-4af1-9316-8d4343d20fb1",
   "metadata": {},
   "outputs": [],
   "source": [
    "X_train = X_train.dropna()\n",
    "X_test = X_test.dropna()"
   ]
  },
  {
   "cell_type": "code",
   "execution_count": 37,
   "id": "e5695242-e3d5-40ba-9dcf-fbbf75c6e70f",
   "metadata": {},
   "outputs": [
    {
     "name": "stdout",
     "output_type": "stream",
     "text": [
      "(973, 1) (325, 1)\n"
     ]
    }
   ],
   "source": [
    "print(X_train.shape, X_test.shape)"
   ]
  },
  {
   "cell_type": "code",
   "execution_count": null,
   "id": "0b4cbb38-46ef-4da3-8e07-aed59c699c90",
   "metadata": {},
   "outputs": [],
   "source": []
  }
 ],
 "metadata": {
  "kernelspec": {
   "display_name": "Python 3 (ipykernel)",
   "language": "python",
   "name": "python3"
  },
  "language_info": {
   "codemirror_mode": {
    "name": "ipython",
    "version": 3
   },
   "file_extension": ".py",
   "mimetype": "text/x-python",
   "name": "python",
   "nbconvert_exporter": "python",
   "pygments_lexer": "ipython3",
   "version": "3.9.7"
  }
 },
 "nbformat": 4,
 "nbformat_minor": 5
}
