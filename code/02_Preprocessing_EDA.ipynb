{
 "cells": [
  {
   "cell_type": "markdown",
   "id": "848e7404-0f8a-428b-823a-5c0c58a4e1f3",
   "metadata": {},
   "source": [
    "### Imports"
   ]
  },
  {
   "cell_type": "code",
   "execution_count": 8,
   "id": "701c38a0-c2c2-41e0-9630-bc49b3e86d18",
   "metadata": {},
   "outputs": [],
   "source": [
    "import pandas as pd\n",
    "import numpy as np\n",
    "import matplotlib.pyplot as plt\n",
    "import seaborn as sns\n",
    "\n",
    "from sklearn.model_selection import train_test_split"
   ]
  },
  {
   "cell_type": "code",
   "execution_count": 2,
   "id": "bca1217f-2fae-4b3f-a2a9-ef6af51a1267",
   "metadata": {},
   "outputs": [],
   "source": [
    "%run 00_Workflow_Functions.ipynb import na_only, api_call, data_wrangling"
   ]
  },
  {
   "cell_type": "code",
   "execution_count": 3,
   "id": "b33cd74e-63b5-4064-9aa9-fec92890b210",
   "metadata": {},
   "outputs": [
    {
     "data": {
      "text/plain": [
       "(2178, 10)"
      ]
     },
     "execution_count": 3,
     "metadata": {},
     "output_type": "execute_result"
    }
   ],
   "source": [
    "subs = pd.read_csv('../datasets/submissions_data.csv')\n",
    "subs.shape"
   ]
  },
  {
   "cell_type": "code",
   "execution_count": 4,
   "id": "ef0b8b05-fb8f-4b85-99dc-e26d7783dd28",
   "metadata": {},
   "outputs": [
    {
     "data": {
      "text/html": [
       "<div>\n",
       "<style scoped>\n",
       "    .dataframe tbody tr th:only-of-type {\n",
       "        vertical-align: middle;\n",
       "    }\n",
       "\n",
       "    .dataframe tbody tr th {\n",
       "        vertical-align: top;\n",
       "    }\n",
       "\n",
       "    .dataframe thead th {\n",
       "        text-align: right;\n",
       "    }\n",
       "</style>\n",
       "<table border=\"1\" class=\"dataframe\">\n",
       "  <thead>\n",
       "    <tr style=\"text-align: right;\">\n",
       "      <th></th>\n",
       "      <th>author</th>\n",
       "      <th>author_fullname</th>\n",
       "      <th>created_utc</th>\n",
       "      <th>selftext</th>\n",
       "      <th>title</th>\n",
       "      <th>subreddit</th>\n",
       "      <th>is_video</th>\n",
       "      <th>num_comments</th>\n",
       "      <th>score</th>\n",
       "      <th>upvote_ratio</th>\n",
       "    </tr>\n",
       "  </thead>\n",
       "  <tbody>\n",
       "    <tr>\n",
       "      <th>0</th>\n",
       "      <td>Cutesifer_101</td>\n",
       "      <td>t2_7zsy6pvt</td>\n",
       "      <td>1651176966</td>\n",
       "      <td>The damage wasn’t that bad other than the fact...</td>\n",
       "      <td>I spilled monster energy</td>\n",
       "      <td>lifehacks</td>\n",
       "      <td>False</td>\n",
       "      <td>0</td>\n",
       "      <td>1</td>\n",
       "      <td>1.0</td>\n",
       "    </tr>\n",
       "    <tr>\n",
       "      <th>1</th>\n",
       "      <td>Subtotalpoet</td>\n",
       "      <td>t2_dcvoz53</td>\n",
       "      <td>1651176676</td>\n",
       "      <td>NaN</td>\n",
       "      <td>Wife forgot ur favorite ice cream? Improvise, ...</td>\n",
       "      <td>lifehacks</td>\n",
       "      <td>False</td>\n",
       "      <td>0</td>\n",
       "      <td>1</td>\n",
       "      <td>1.0</td>\n",
       "    </tr>\n",
       "    <tr>\n",
       "      <th>2</th>\n",
       "      <td>amintowords</td>\n",
       "      <td>t2_racie</td>\n",
       "      <td>1651175651</td>\n",
       "      <td>Set an alarm for an hour after you're meant to...</td>\n",
       "      <td>How to remember to take tablets on time</td>\n",
       "      <td>lifehacks</td>\n",
       "      <td>False</td>\n",
       "      <td>0</td>\n",
       "      <td>1</td>\n",
       "      <td>1.0</td>\n",
       "    </tr>\n",
       "    <tr>\n",
       "      <th>3</th>\n",
       "      <td>rokokslot87</td>\n",
       "      <td>t2_kv1oregh</td>\n",
       "      <td>1651174857</td>\n",
       "      <td>NaN</td>\n",
       "      <td>SLOT ONLINE MENANG BESAR | SLOT DEPOSIT PULSA</td>\n",
       "      <td>lifehacks</td>\n",
       "      <td>False</td>\n",
       "      <td>0</td>\n",
       "      <td>1</td>\n",
       "      <td>1.0</td>\n",
       "    </tr>\n",
       "    <tr>\n",
       "      <th>4</th>\n",
       "      <td>Distinct_Expert_7648</td>\n",
       "      <td>t2_mczxpj82</td>\n",
       "      <td>1651174438</td>\n",
       "      <td>[removed]</td>\n",
       "      <td>Infertility Clinic in Pune</td>\n",
       "      <td>lifehacks</td>\n",
       "      <td>False</td>\n",
       "      <td>0</td>\n",
       "      <td>1</td>\n",
       "      <td>1.0</td>\n",
       "    </tr>\n",
       "  </tbody>\n",
       "</table>\n",
       "</div>"
      ],
      "text/plain": [
       "                 author author_fullname  created_utc  \\\n",
       "0         Cutesifer_101     t2_7zsy6pvt   1651176966   \n",
       "1          Subtotalpoet      t2_dcvoz53   1651176676   \n",
       "2           amintowords        t2_racie   1651175651   \n",
       "3           rokokslot87     t2_kv1oregh   1651174857   \n",
       "4  Distinct_Expert_7648     t2_mczxpj82   1651174438   \n",
       "\n",
       "                                            selftext  \\\n",
       "0  The damage wasn’t that bad other than the fact...   \n",
       "1                                                NaN   \n",
       "2  Set an alarm for an hour after you're meant to...   \n",
       "3                                                NaN   \n",
       "4                                          [removed]   \n",
       "\n",
       "                                               title  subreddit  is_video  \\\n",
       "0                           I spilled monster energy  lifehacks     False   \n",
       "1  Wife forgot ur favorite ice cream? Improvise, ...  lifehacks     False   \n",
       "2            How to remember to take tablets on time  lifehacks     False   \n",
       "3      SLOT ONLINE MENANG BESAR | SLOT DEPOSIT PULSA  lifehacks     False   \n",
       "4                         Infertility Clinic in Pune  lifehacks     False   \n",
       "\n",
       "   num_comments  score  upvote_ratio  \n",
       "0             0      1           1.0  \n",
       "1             0      1           1.0  \n",
       "2             0      1           1.0  \n",
       "3             0      1           1.0  \n",
       "4             0      1           1.0  "
      ]
     },
     "execution_count": 4,
     "metadata": {},
     "output_type": "execute_result"
    }
   ],
   "source": [
    "subs.head(5)"
   ]
  },
  {
   "cell_type": "code",
   "execution_count": 5,
   "id": "21604ee1-7cde-4d2d-9eec-176b5ca5356a",
   "metadata": {},
   "outputs": [
    {
     "data": {
      "text/html": [
       "<div>\n",
       "<style scoped>\n",
       "    .dataframe tbody tr th:only-of-type {\n",
       "        vertical-align: middle;\n",
       "    }\n",
       "\n",
       "    .dataframe tbody tr th {\n",
       "        vertical-align: top;\n",
       "    }\n",
       "\n",
       "    .dataframe thead th {\n",
       "        text-align: right;\n",
       "    }\n",
       "</style>\n",
       "<table border=\"1\" class=\"dataframe\">\n",
       "  <thead>\n",
       "    <tr style=\"text-align: right;\">\n",
       "      <th></th>\n",
       "      <th>author</th>\n",
       "      <th>author_fullname</th>\n",
       "      <th>created_utc</th>\n",
       "      <th>selftext</th>\n",
       "      <th>title</th>\n",
       "      <th>subreddit</th>\n",
       "      <th>is_video</th>\n",
       "      <th>num_comments</th>\n",
       "      <th>score</th>\n",
       "      <th>upvote_ratio</th>\n",
       "    </tr>\n",
       "  </thead>\n",
       "  <tbody>\n",
       "    <tr>\n",
       "      <th>2173</th>\n",
       "      <td>Bloodstone2012</td>\n",
       "      <td>t2_jt1jo</td>\n",
       "      <td>1650646779</td>\n",
       "      <td>NaN</td>\n",
       "      <td>LPT: it is healthier to skip a meal and just d...</td>\n",
       "      <td>LifeProTips</td>\n",
       "      <td>False</td>\n",
       "      <td>1</td>\n",
       "      <td>1</td>\n",
       "      <td>1.0</td>\n",
       "    </tr>\n",
       "    <tr>\n",
       "      <th>2174</th>\n",
       "      <td>cross_peach</td>\n",
       "      <td>t2_30cjlc75</td>\n",
       "      <td>1650646116</td>\n",
       "      <td>NaN</td>\n",
       "      <td>LPT: You can access several online courses and...</td>\n",
       "      <td>LifeProTips</td>\n",
       "      <td>False</td>\n",
       "      <td>1</td>\n",
       "      <td>1</td>\n",
       "      <td>1.0</td>\n",
       "    </tr>\n",
       "    <tr>\n",
       "      <th>2175</th>\n",
       "      <td>jmincorporated</td>\n",
       "      <td>t2_16tlrj</td>\n",
       "      <td>1650645631</td>\n",
       "      <td>NaN</td>\n",
       "      <td>LPT - when you receive a medical bill always c...</td>\n",
       "      <td>LifeProTips</td>\n",
       "      <td>False</td>\n",
       "      <td>1</td>\n",
       "      <td>1</td>\n",
       "      <td>1.0</td>\n",
       "    </tr>\n",
       "    <tr>\n",
       "      <th>2176</th>\n",
       "      <td>the_women_era</td>\n",
       "      <td>t2_m8qtr3lc</td>\n",
       "      <td>1650645336</td>\n",
       "      <td>[removed]</td>\n",
       "      <td>People Will Always Judge Your Actions. No Matt...</td>\n",
       "      <td>LifeProTips</td>\n",
       "      <td>False</td>\n",
       "      <td>1</td>\n",
       "      <td>1</td>\n",
       "      <td>1.0</td>\n",
       "    </tr>\n",
       "    <tr>\n",
       "      <th>2177</th>\n",
       "      <td>patchaclus</td>\n",
       "      <td>t2_9411lb63</td>\n",
       "      <td>1650645171</td>\n",
       "      <td>NaN</td>\n",
       "      <td>LPT: you can set rules on your email to redire...</td>\n",
       "      <td>LifeProTips</td>\n",
       "      <td>False</td>\n",
       "      <td>1</td>\n",
       "      <td>1</td>\n",
       "      <td>1.0</td>\n",
       "    </tr>\n",
       "  </tbody>\n",
       "</table>\n",
       "</div>"
      ],
      "text/plain": [
       "              author author_fullname  created_utc   selftext  \\\n",
       "2173  Bloodstone2012        t2_jt1jo   1650646779        NaN   \n",
       "2174     cross_peach     t2_30cjlc75   1650646116        NaN   \n",
       "2175  jmincorporated       t2_16tlrj   1650645631        NaN   \n",
       "2176   the_women_era     t2_m8qtr3lc   1650645336  [removed]   \n",
       "2177      patchaclus     t2_9411lb63   1650645171        NaN   \n",
       "\n",
       "                                                  title    subreddit  \\\n",
       "2173  LPT: it is healthier to skip a meal and just d...  LifeProTips   \n",
       "2174  LPT: You can access several online courses and...  LifeProTips   \n",
       "2175  LPT - when you receive a medical bill always c...  LifeProTips   \n",
       "2176  People Will Always Judge Your Actions. No Matt...  LifeProTips   \n",
       "2177  LPT: you can set rules on your email to redire...  LifeProTips   \n",
       "\n",
       "      is_video  num_comments  score  upvote_ratio  \n",
       "2173     False             1      1           1.0  \n",
       "2174     False             1      1           1.0  \n",
       "2175     False             1      1           1.0  \n",
       "2176     False             1      1           1.0  \n",
       "2177     False             1      1           1.0  "
      ]
     },
     "execution_count": 5,
     "metadata": {},
     "output_type": "execute_result"
    }
   ],
   "source": [
    "subs.tail(5)"
   ]
  },
  {
   "cell_type": "code",
   "execution_count": 6,
   "id": "acc23335-3c39-4a9c-ac72-5f482afaca7d",
   "metadata": {},
   "outputs": [
    {
     "name": "stdout",
     "output_type": "stream",
     "text": [
      "<class 'pandas.core.frame.DataFrame'>\n",
      "RangeIndex: 2178 entries, 0 to 2177\n",
      "Data columns (total 10 columns):\n",
      " #   Column           Non-Null Count  Dtype  \n",
      "---  ------           --------------  -----  \n",
      " 0   author           2178 non-null   object \n",
      " 1   author_fullname  2178 non-null   object \n",
      " 2   created_utc      2178 non-null   int64  \n",
      " 3   selftext         1298 non-null   object \n",
      " 4   title            2178 non-null   object \n",
      " 5   subreddit        2178 non-null   object \n",
      " 6   is_video         2178 non-null   bool   \n",
      " 7   num_comments     2178 non-null   int64  \n",
      " 8   score            2178 non-null   int64  \n",
      " 9   upvote_ratio     2178 non-null   float64\n",
      "dtypes: bool(1), float64(1), int64(3), object(5)\n",
      "memory usage: 155.4+ KB\n"
     ]
    }
   ],
   "source": [
    "subs.info()"
   ]
  },
  {
   "cell_type": "code",
   "execution_count": 7,
   "id": "622952cd-4300-446c-990a-6ac4a9635cd2",
   "metadata": {},
   "outputs": [
    {
     "data": {
      "text/plain": [
       "selftext    880\n",
       "dtype: int64"
      ]
     },
     "execution_count": 7,
     "metadata": {},
     "output_type": "execute_result"
    }
   ],
   "source": [
    "na_only(subs)"
   ]
  },
  {
   "cell_type": "markdown",
   "id": "8884769d-9953-4d29-86b9-e3f417ce3fdf",
   "metadata": {},
   "source": [
    "When we wrangled the data, we had no NAs reported. However, after exporting the a CSV and importing the CSV, we now have NAs present. Also, there appears to be a particular value `[removed]` that indicates a submission was deleted, and data was redacted. We will need to drop all of this data for NLP, as it's not useful for us."
   ]
  },
  {
   "cell_type": "markdown",
   "id": "89d032e6-f1dd-493b-8309-8181ab6f1ca9",
   "metadata": {},
   "source": [
    "### Train and Test Splits"
   ]
  },
  {
   "cell_type": "code",
   "execution_count": null,
   "id": "7935e58f-b286-4d1c-9725-8b873607d957",
   "metadata": {},
   "outputs": [],
   "source": [
    "# we are only interested in the self-text\n",
    "X = subs[['selftext']]\n",
    "y = subs['subreddit']\n",
    "\n"
   ]
  }
 ],
 "metadata": {
  "kernelspec": {
   "display_name": "Python 3 (ipykernel)",
   "language": "python",
   "name": "python3"
  },
  "language_info": {
   "codemirror_mode": {
    "name": "ipython",
    "version": 3
   },
   "file_extension": ".py",
   "mimetype": "text/x-python",
   "name": "python",
   "nbconvert_exporter": "python",
   "pygments_lexer": "ipython3",
   "version": "3.9.7"
  }
 },
 "nbformat": 4,
 "nbformat_minor": 5
}
