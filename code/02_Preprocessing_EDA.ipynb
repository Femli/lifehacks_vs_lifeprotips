{
 "cells": [
  {
   "cell_type": "markdown",
   "id": "848e7404-0f8a-428b-823a-5c0c58a4e1f3",
   "metadata": {},
   "source": [
    "### Imports"
   ]
  },
  {
   "cell_type": "code",
   "execution_count": 1,
   "id": "701c38a0-c2c2-41e0-9630-bc49b3e86d18",
   "metadata": {},
   "outputs": [],
   "source": [
    "import pandas as pd\n",
    "import numpy as np\n",
    "import matplotlib.pyplot as plt\n",
    "import seaborn as sns\n",
    "\n",
    "## preprocessing\n",
    "from sklearn.model_selection import train_test_split\n",
    "from sklearn.preprocessing import LabelEncoder\n",
    "\n",
    "## preprocessing - NLP\n",
    "from sklearn.feature_extraction.text import CountVectorizer, TfidfVectorizer\n",
    "from nltk import word_tokenize\n",
    "from nltk.stem import WordNetLemmatizer\n",
    "\n",
    "## workflow\n",
    "from sklearn.pipeline import Pipeline\n",
    "from sklearn.compose import ColumnTransformer\n",
    "from sklearn.model_selection import GridSearchCV\n",
    "\n",
    "## models\n",
    "from sklearn.dummy import DummyClassifier\n",
    "from sklearn.linear_model import LogisticRegression\n",
    "from sklearn.neighbors import KNeighborsClassifier\n",
    "\n",
    "## metrics\n",
    "from sklearn.metrics import accuracy_score, balanced_accuracy_score, recall_score, precision_score, f1_score, confusion_matrix"
   ]
  },
  {
   "cell_type": "code",
   "execution_count": 2,
   "id": "bca1217f-2fae-4b3f-a2a9-ef6af51a1267",
   "metadata": {},
   "outputs": [],
   "source": [
    "%run 00_Workflow_Functions.ipynb import na_only, api_call, data_wrangling"
   ]
  },
  {
   "cell_type": "code",
   "execution_count": 3,
   "id": "b33cd74e-63b5-4064-9aa9-fec92890b210",
   "metadata": {},
   "outputs": [
    {
     "data": {
      "text/plain": [
       "(9717, 10)"
      ]
     },
     "execution_count": 3,
     "metadata": {},
     "output_type": "execute_result"
    }
   ],
   "source": [
    "subs = pd.read_csv('../datasets/submissions_data.csv')\n",
    "subs.shape"
   ]
  },
  {
   "cell_type": "code",
   "execution_count": 4,
   "id": "ef0b8b05-fb8f-4b85-99dc-e26d7783dd28",
   "metadata": {},
   "outputs": [
    {
     "data": {
      "text/html": [
       "<div>\n",
       "<style scoped>\n",
       "    .dataframe tbody tr th:only-of-type {\n",
       "        vertical-align: middle;\n",
       "    }\n",
       "\n",
       "    .dataframe tbody tr th {\n",
       "        vertical-align: top;\n",
       "    }\n",
       "\n",
       "    .dataframe thead th {\n",
       "        text-align: right;\n",
       "    }\n",
       "</style>\n",
       "<table border=\"1\" class=\"dataframe\">\n",
       "  <thead>\n",
       "    <tr style=\"text-align: right;\">\n",
       "      <th></th>\n",
       "      <th>author</th>\n",
       "      <th>author_fullname</th>\n",
       "      <th>created_utc</th>\n",
       "      <th>selftext</th>\n",
       "      <th>title</th>\n",
       "      <th>subreddit</th>\n",
       "      <th>is_video</th>\n",
       "      <th>num_comments</th>\n",
       "      <th>score</th>\n",
       "      <th>upvote_ratio</th>\n",
       "    </tr>\n",
       "  </thead>\n",
       "  <tbody>\n",
       "    <tr>\n",
       "      <th>0</th>\n",
       "      <td>anonymousbrowzer</td>\n",
       "      <td>t2_14k10v</td>\n",
       "      <td>1.648770e+09</td>\n",
       "      <td>NaN</td>\n",
       "      <td>When the smoke detector goes off from cooking,...</td>\n",
       "      <td>lifehacks</td>\n",
       "      <td>False</td>\n",
       "      <td>0.0</td>\n",
       "      <td>1.0</td>\n",
       "      <td>1.0</td>\n",
       "    </tr>\n",
       "    <tr>\n",
       "      <th>1</th>\n",
       "      <td>PlantBasedRedditor</td>\n",
       "      <td>t2_g4e0rfz</td>\n",
       "      <td>1.648767e+09</td>\n",
       "      <td>NaN</td>\n",
       "      <td>Use Goo Gone on scissors and blades to reduce ...</td>\n",
       "      <td>lifehacks</td>\n",
       "      <td>False</td>\n",
       "      <td>0.0</td>\n",
       "      <td>1.0</td>\n",
       "      <td>1.0</td>\n",
       "    </tr>\n",
       "    <tr>\n",
       "      <th>2</th>\n",
       "      <td>CryptographerFar5073</td>\n",
       "      <td>t2_ldjcr311</td>\n",
       "      <td>1.648764e+09</td>\n",
       "      <td>NaN</td>\n",
       "      <td>Bingo Bash</td>\n",
       "      <td>lifehacks</td>\n",
       "      <td>False</td>\n",
       "      <td>0.0</td>\n",
       "      <td>1.0</td>\n",
       "      <td>1.0</td>\n",
       "    </tr>\n",
       "    <tr>\n",
       "      <th>3</th>\n",
       "      <td>Giant_weiner_not_dog</td>\n",
       "      <td>t2_konlr4kt</td>\n",
       "      <td>1.648763e+09</td>\n",
       "      <td>NaN</td>\n",
       "      <td>How to troll someone</td>\n",
       "      <td>lifehacks</td>\n",
       "      <td>False</td>\n",
       "      <td>0.0</td>\n",
       "      <td>1.0</td>\n",
       "      <td>1.0</td>\n",
       "    </tr>\n",
       "    <tr>\n",
       "      <th>4</th>\n",
       "      <td>Giant_weiner_not_dog</td>\n",
       "      <td>t2_konlr4kt</td>\n",
       "      <td>1.648762e+09</td>\n",
       "      <td>NaN</td>\n",
       "      <td>what a nice way to have your meal( credit to u...</td>\n",
       "      <td>lifehacks</td>\n",
       "      <td>False</td>\n",
       "      <td>0.0</td>\n",
       "      <td>1.0</td>\n",
       "      <td>1.0</td>\n",
       "    </tr>\n",
       "  </tbody>\n",
       "</table>\n",
       "</div>"
      ],
      "text/plain": [
       "                 author author_fullname   created_utc selftext  \\\n",
       "0      anonymousbrowzer       t2_14k10v  1.648770e+09      NaN   \n",
       "1    PlantBasedRedditor      t2_g4e0rfz  1.648767e+09      NaN   \n",
       "2  CryptographerFar5073     t2_ldjcr311  1.648764e+09      NaN   \n",
       "3  Giant_weiner_not_dog     t2_konlr4kt  1.648763e+09      NaN   \n",
       "4  Giant_weiner_not_dog     t2_konlr4kt  1.648762e+09      NaN   \n",
       "\n",
       "                                               title  subreddit  is_video  \\\n",
       "0  When the smoke detector goes off from cooking,...  lifehacks     False   \n",
       "1  Use Goo Gone on scissors and blades to reduce ...  lifehacks     False   \n",
       "2                                         Bingo Bash  lifehacks     False   \n",
       "3                               How to troll someone  lifehacks     False   \n",
       "4  what a nice way to have your meal( credit to u...  lifehacks     False   \n",
       "\n",
       "   num_comments  score  upvote_ratio  \n",
       "0           0.0    1.0           1.0  \n",
       "1           0.0    1.0           1.0  \n",
       "2           0.0    1.0           1.0  \n",
       "3           0.0    1.0           1.0  \n",
       "4           0.0    1.0           1.0  "
      ]
     },
     "execution_count": 4,
     "metadata": {},
     "output_type": "execute_result"
    }
   ],
   "source": [
    "subs.head(5)"
   ]
  },
  {
   "cell_type": "code",
   "execution_count": 5,
   "id": "21604ee1-7cde-4d2d-9eec-176b5ca5356a",
   "metadata": {},
   "outputs": [
    {
     "data": {
      "text/html": [
       "<div>\n",
       "<style scoped>\n",
       "    .dataframe tbody tr th:only-of-type {\n",
       "        vertical-align: middle;\n",
       "    }\n",
       "\n",
       "    .dataframe tbody tr th {\n",
       "        vertical-align: top;\n",
       "    }\n",
       "\n",
       "    .dataframe thead th {\n",
       "        text-align: right;\n",
       "    }\n",
       "</style>\n",
       "<table border=\"1\" class=\"dataframe\">\n",
       "  <thead>\n",
       "    <tr style=\"text-align: right;\">\n",
       "      <th></th>\n",
       "      <th>author</th>\n",
       "      <th>author_fullname</th>\n",
       "      <th>created_utc</th>\n",
       "      <th>selftext</th>\n",
       "      <th>title</th>\n",
       "      <th>subreddit</th>\n",
       "      <th>is_video</th>\n",
       "      <th>num_comments</th>\n",
       "      <th>score</th>\n",
       "      <th>upvote_ratio</th>\n",
       "    </tr>\n",
       "  </thead>\n",
       "  <tbody>\n",
       "    <tr>\n",
       "      <th>9712</th>\n",
       "      <td>sscorpio77</td>\n",
       "      <td>t2_jugpp8rg</td>\n",
       "      <td>1.646173e+09</td>\n",
       "      <td>[removed]</td>\n",
       "      <td>LPT: You won’t have to constantly brake to avo...</td>\n",
       "      <td>LifeProTips</td>\n",
       "      <td>False</td>\n",
       "      <td>2.0</td>\n",
       "      <td>1.0</td>\n",
       "      <td>1.0</td>\n",
       "    </tr>\n",
       "    <tr>\n",
       "      <th>9713</th>\n",
       "      <td>CreatorVilla</td>\n",
       "      <td>t2_f1xkvrju</td>\n",
       "      <td>1.646173e+09</td>\n",
       "      <td>NaN</td>\n",
       "      <td>LPT: If you want someone to trust you, approac...</td>\n",
       "      <td>LifeProTips</td>\n",
       "      <td>False</td>\n",
       "      <td>1.0</td>\n",
       "      <td>1.0</td>\n",
       "      <td>1.0</td>\n",
       "    </tr>\n",
       "    <tr>\n",
       "      <th>9714</th>\n",
       "      <td>TheNative93</td>\n",
       "      <td>t2_52ulcx1x</td>\n",
       "      <td>1.646173e+09</td>\n",
       "      <td>If they have a number on their website, or on ...</td>\n",
       "      <td>LPT Whenever you submit a resume don’t wait fo...</td>\n",
       "      <td>LifeProTips</td>\n",
       "      <td>False</td>\n",
       "      <td>1.0</td>\n",
       "      <td>1.0</td>\n",
       "      <td>1.0</td>\n",
       "    </tr>\n",
       "    <tr>\n",
       "      <th>9715</th>\n",
       "      <td>duskymk</td>\n",
       "      <td>t2_22umtf1d</td>\n",
       "      <td>1.646173e+09</td>\n",
       "      <td>[removed]</td>\n",
       "      <td>LPT: Always bring your phone with you in a pub...</td>\n",
       "      <td>LifeProTips</td>\n",
       "      <td>False</td>\n",
       "      <td>1.0</td>\n",
       "      <td>1.0</td>\n",
       "      <td>1.0</td>\n",
       "    </tr>\n",
       "    <tr>\n",
       "      <th>9716</th>\n",
       "      <td>shwarma_heaven</td>\n",
       "      <td>t2_ddvb4</td>\n",
       "      <td>1.646172e+09</td>\n",
       "      <td>NaN</td>\n",
       "      <td>LPT: Just because a car stops before a parking...</td>\n",
       "      <td>LifeProTips</td>\n",
       "      <td>False</td>\n",
       "      <td>1.0</td>\n",
       "      <td>1.0</td>\n",
       "      <td>1.0</td>\n",
       "    </tr>\n",
       "  </tbody>\n",
       "</table>\n",
       "</div>"
      ],
      "text/plain": [
       "              author author_fullname   created_utc  \\\n",
       "9712      sscorpio77     t2_jugpp8rg  1.646173e+09   \n",
       "9713    CreatorVilla     t2_f1xkvrju  1.646173e+09   \n",
       "9714     TheNative93     t2_52ulcx1x  1.646173e+09   \n",
       "9715         duskymk     t2_22umtf1d  1.646173e+09   \n",
       "9716  shwarma_heaven        t2_ddvb4  1.646172e+09   \n",
       "\n",
       "                                               selftext  \\\n",
       "9712                                          [removed]   \n",
       "9713                                                NaN   \n",
       "9714  If they have a number on their website, or on ...   \n",
       "9715                                          [removed]   \n",
       "9716                                                NaN   \n",
       "\n",
       "                                                  title    subreddit  \\\n",
       "9712  LPT: You won’t have to constantly brake to avo...  LifeProTips   \n",
       "9713  LPT: If you want someone to trust you, approac...  LifeProTips   \n",
       "9714  LPT Whenever you submit a resume don’t wait fo...  LifeProTips   \n",
       "9715  LPT: Always bring your phone with you in a pub...  LifeProTips   \n",
       "9716  LPT: Just because a car stops before a parking...  LifeProTips   \n",
       "\n",
       "      is_video  num_comments  score  upvote_ratio  \n",
       "9712     False           2.0    1.0           1.0  \n",
       "9713     False           1.0    1.0           1.0  \n",
       "9714     False           1.0    1.0           1.0  \n",
       "9715     False           1.0    1.0           1.0  \n",
       "9716     False           1.0    1.0           1.0  "
      ]
     },
     "execution_count": 5,
     "metadata": {},
     "output_type": "execute_result"
    }
   ],
   "source": [
    "subs.tail(5)"
   ]
  },
  {
   "cell_type": "code",
   "execution_count": 6,
   "id": "acc23335-3c39-4a9c-ac72-5f482afaca7d",
   "metadata": {},
   "outputs": [
    {
     "name": "stdout",
     "output_type": "stream",
     "text": [
      "<class 'pandas.core.frame.DataFrame'>\n",
      "RangeIndex: 9717 entries, 0 to 9716\n",
      "Data columns (total 10 columns):\n",
      " #   Column           Non-Null Count  Dtype  \n",
      "---  ------           --------------  -----  \n",
      " 0   author           9717 non-null   object \n",
      " 1   author_fullname  9717 non-null   object \n",
      " 2   created_utc      9717 non-null   float64\n",
      " 3   selftext         5557 non-null   object \n",
      " 4   title            9717 non-null   object \n",
      " 5   subreddit        9717 non-null   object \n",
      " 6   is_video         9717 non-null   bool   \n",
      " 7   num_comments     9717 non-null   float64\n",
      " 8   score            9717 non-null   float64\n",
      " 9   upvote_ratio     9717 non-null   float64\n",
      "dtypes: bool(1), float64(4), object(5)\n",
      "memory usage: 692.8+ KB\n"
     ]
    }
   ],
   "source": [
    "subs.info()"
   ]
  },
  {
   "cell_type": "code",
   "execution_count": 7,
   "id": "622952cd-4300-446c-990a-6ac4a9635cd2",
   "metadata": {},
   "outputs": [
    {
     "data": {
      "text/plain": [
       "selftext    4160\n",
       "dtype: int64"
      ]
     },
     "execution_count": 7,
     "metadata": {},
     "output_type": "execute_result"
    }
   ],
   "source": [
    "na_only(subs)"
   ]
  },
  {
   "cell_type": "markdown",
   "id": "8884769d-9953-4d29-86b9-e3f417ce3fdf",
   "metadata": {},
   "source": [
    "When we wrangled the data, we had no NAs reported. However, after exporting the CSV and importing the CSV, we now have NAs present. Also, there appears to be a particular value `[removed]` that indicates a submission was deleted, and data was redacted. We will need to drop all of this data for NLP, as it's not useful for us."
   ]
  },
  {
   "cell_type": "code",
   "execution_count": 8,
   "id": "c25deb2c-976e-4524-b937-6ffa62ac1652",
   "metadata": {},
   "outputs": [
    {
     "data": {
      "text/plain": [
       "lifehacks      0.520119\n",
       "LifeProTips    0.479881\n",
       "Name: subreddit, dtype: float64"
      ]
     },
     "execution_count": 8,
     "metadata": {},
     "output_type": "execute_result"
    }
   ],
   "source": [
    "subs['subreddit'].value_counts(normalize=True)"
   ]
  },
  {
   "cell_type": "markdown",
   "id": "13af95c4-eafd-4627-9b08-e159cfa09e51",
   "metadata": {},
   "source": [
    "Prior to dropping NAs, we have a nearly perfectly balance proportion between our two classes."
   ]
  },
  {
   "cell_type": "markdown",
   "id": "c5d62846-eeac-48e2-8d2c-e4a4e86c7579",
   "metadata": {},
   "source": [
    "### Dropping erraneous data"
   ]
  },
  {
   "cell_type": "markdown",
   "id": "31065cec-db22-4d8a-a76b-92a077ffb346",
   "metadata": {},
   "source": [
    "Let's drop NAs from our dataset entirely, since only `selftext` data with content is relevant for us."
   ]
  },
  {
   "cell_type": "code",
   "execution_count": 9,
   "id": "2029ea1d-5538-41b3-87e1-6177c9532eca",
   "metadata": {},
   "outputs": [
    {
     "data": {
      "text/plain": [
       "(5557, 10)"
      ]
     },
     "execution_count": 9,
     "metadata": {},
     "output_type": "execute_result"
    }
   ],
   "source": [
    "# dropping NAs\n",
    "subs = subs.dropna()\n",
    "#subs.reset_index(drop=True, inplace=True) #resetting index after dropping rows\n",
    "subs.shape"
   ]
  },
  {
   "cell_type": "markdown",
   "id": "80ad664a-0ba4-41e9-92a9-07345d435159",
   "metadata": {},
   "source": [
    "In addition NAs, let's remove `[removed]` and selftext posts that are less than `7` words long (subjective choice). We do this because a post of a few words may indicate the post is referencing a multimedia file or hypyerlink, which is noise that will affect our model performance."
   ]
  },
  {
   "cell_type": "code",
   "execution_count": 10,
   "id": "03ca94ac-1fac-4260-8d10-b6ac6dccf39e",
   "metadata": {},
   "outputs": [],
   "source": [
    "#storing all (index,value) pairs of erraneous data in an array\n",
    "text_filter = np.array([[i, text] for i, text in enumerate(subs['selftext']) if len(str(text).split()) < 10]) "
   ]
  },
  {
   "cell_type": "code",
   "execution_count": 11,
   "id": "f3abd64e-d280-4cd3-afd6-af5b99a6d686",
   "metadata": {},
   "outputs": [
    {
     "data": {
      "text/plain": [
       "[removed]                                                                                                        2933\n",
       "to avoid their insanely high prices this summer!                                                                    2\n",
       "Original:\\nhttps://m.youtube.com/watch?v=SQNtGoM3FVU\\n\\nFor download:\\nhttps://m.yout.com/watch?v=SQNtGoM3FVU       2\n",
       "\\n\\n[View Poll](https://www.reddit.com/poll/rjy7cm)                                                                 1\n",
       "Went to make cookies and this did the trick.                                                                        1\n",
       "                                                                                                                 ... \n",
       "It's the most commonly used utensil.                                                                                1\n",
       "It’s less risky, and you can eat the evidence.                                                                      1\n",
       "It’s simply satisfying.                                                                                             1\n",
       "Just do it, it'll be good for you.                                                                                  1\n",
       "used it a couple of times.                                                                                          1\n",
       "Length: 147, dtype: int64"
      ]
     },
     "execution_count": 11,
     "metadata": {},
     "output_type": "execute_result"
    }
   ],
   "source": [
    "pd.DataFrame(text_filter[:, 1]).value_counts()"
   ]
  },
  {
   "cell_type": "code",
   "execution_count": 12,
   "id": "164d33b3-baea-4674-9f89-d5b433d05f7a",
   "metadata": {
    "tags": []
   },
   "outputs": [
    {
     "data": {
      "text/plain": [
       "[0, 3, 4, 6, 7, 8, 9, 10, 11, 12]"
      ]
     },
     "execution_count": 12,
     "metadata": {},
     "output_type": "execute_result"
    }
   ],
   "source": [
    "ind = list(text_filter[:, 0].astype(int)) #these indices contain the erraneous data\n",
    "ind[:10]"
   ]
  },
  {
   "cell_type": "code",
   "execution_count": 14,
   "id": "6df1cd12-bae0-4bfd-8c29-2b6a530e939d",
   "metadata": {},
   "outputs": [],
   "source": [
    "subs.iloc[ind, 3] = None"
   ]
  },
  {
   "cell_type": "code",
   "execution_count": 18,
   "id": "dafec894-741b-42b5-a409-60b53ab2dbd2",
   "metadata": {},
   "outputs": [
    {
     "name": "stdout",
     "output_type": "stream",
     "text": [
      "3081 3081\n"
     ]
    }
   ],
   "source": [
    "print(len(ind), subs.iloc[ind, 3].isna().sum())"
   ]
  },
  {
   "cell_type": "markdown",
   "id": "c9dfb7ac-39c5-4d9c-b509-1a586b91052c",
   "metadata": {},
   "source": [
    "Values match; we have replaced all erraneous text as NAs and we will now drop them."
   ]
  },
  {
   "cell_type": "code",
   "execution_count": 19,
   "id": "fff48d36-6202-45b8-b482-c3ddaf9715e9",
   "metadata": {},
   "outputs": [
    {
     "data": {
      "text/plain": [
       "(2476, 10)"
      ]
     },
     "execution_count": 19,
     "metadata": {},
     "output_type": "execute_result"
    }
   ],
   "source": [
    "# dropping NAs\n",
    "subs = subs.dropna()\n",
    "subs.shape"
   ]
  },
  {
   "cell_type": "code",
   "execution_count": 33,
   "id": "553be5d9-8ce5-46cb-bb2d-6d619e60f302",
   "metadata": {},
   "outputs": [
    {
     "data": {
      "text/plain": [
       "0"
      ]
     },
     "execution_count": 33,
     "metadata": {},
     "output_type": "execute_result"
    }
   ],
   "source": [
    "na_only(subs)"
   ]
  },
  {
   "cell_type": "code",
   "execution_count": 20,
   "id": "c64f076b-6d3a-43b6-919d-f199434e5b76",
   "metadata": {},
   "outputs": [
    {
     "data": {
      "text/plain": [
       "LifeProTips    0.758885\n",
       "lifehacks      0.241115\n",
       "Name: subreddit, dtype: float64"
      ]
     },
     "execution_count": 20,
     "metadata": {},
     "output_type": "execute_result"
    }
   ],
   "source": [
    "subs['subreddit'].value_counts(normalize=True)"
   ]
  },
  {
   "cell_type": "markdown",
   "id": "f5d132e5-a1d0-4840-b996-c85fffe75d32",
   "metadata": {},
   "source": [
    "After dropping NAs, `LifeProTips` has become our majority class."
   ]
  },
  {
   "cell_type": "markdown",
   "id": "89d032e6-f1dd-493b-8309-8181ab6f1ca9",
   "metadata": {},
   "source": [
    "### Train and Test Splits"
   ]
  },
  {
   "cell_type": "code",
   "execution_count": 22,
   "id": "7935e58f-b286-4d1c-9725-8b873607d957",
   "metadata": {},
   "outputs": [],
   "source": [
    "# we are only interested in the self-text\n",
    "X = subs[['selftext']]\n",
    "y = subs['subreddit']\n",
    "\n",
    "X_train, X_test, y_train, y_test = train_test_split(X, y, random_state=14, stratify=y)"
   ]
  },
  {
   "cell_type": "code",
   "execution_count": 23,
   "id": "dbd354e2-dd6d-4f39-9b13-098b61e39b0b",
   "metadata": {},
   "outputs": [
    {
     "name": "stdout",
     "output_type": "stream",
     "text": [
      "(1857, 1) (619, 1)\n"
     ]
    }
   ],
   "source": [
    "print(X_train.shape, X_test.shape)"
   ]
  },
  {
   "cell_type": "code",
   "execution_count": 24,
   "id": "804becbc-ea96-437d-afdf-7bb1d96c2a3c",
   "metadata": {},
   "outputs": [
    {
     "name": "stdout",
     "output_type": "stream",
     "text": [
      "(1857,) (619,)\n"
     ]
    }
   ],
   "source": [
    "print(y_train.shape, y_test.shape)"
   ]
  },
  {
   "cell_type": "code",
   "execution_count": 25,
   "id": "00777529-264d-43ef-b255-1470d46dfdf3",
   "metadata": {},
   "outputs": [
    {
     "data": {
      "text/plain": [
       "LifeProTips    0.759289\n",
       "lifehacks      0.240711\n",
       "Name: subreddit, dtype: float64"
      ]
     },
     "execution_count": 25,
     "metadata": {},
     "output_type": "execute_result"
    }
   ],
   "source": [
    "y_test.value_counts(normalize=True) #verifying stratification worked"
   ]
  },
  {
   "cell_type": "markdown",
   "id": "5988b712-bcd5-4031-b1ed-faeaa63f6da2",
   "metadata": {},
   "source": [
    "### Preprocessing"
   ]
  },
  {
   "cell_type": "markdown",
   "id": "38e31ff7-3bd8-47f8-ac8f-64f5433f31bf",
   "metadata": {},
   "source": [
    "Transforming our response into labels of 1 and 0, where 1 is `lifehacks` and 0 is `LifeProTips`."
   ]
  },
  {
   "cell_type": "code",
   "execution_count": 26,
   "id": "13b41f7c-7e99-4019-9765-1c655829ca17",
   "metadata": {},
   "outputs": [],
   "source": [
    "le = LabelEncoder()"
   ]
  },
  {
   "cell_type": "code",
   "execution_count": 27,
   "id": "3885ec35-d1e2-4e32-aca3-0f30644bc266",
   "metadata": {},
   "outputs": [],
   "source": [
    "y_train_encoded = le.fit_transform(y_train)\n",
    "y_test_encoded = le.transform(y_test)"
   ]
  },
  {
   "cell_type": "code",
   "execution_count": 28,
   "id": "4a98a73b-1d19-461b-8555-34a69572b156",
   "metadata": {},
   "outputs": [
    {
     "data": {
      "text/plain": [
       "0    0.758751\n",
       "1    0.241249\n",
       "dtype: float64"
      ]
     },
     "execution_count": 28,
     "metadata": {},
     "output_type": "execute_result"
    }
   ],
   "source": [
    "pd.DataFrame(y_train_encoded).value_counts(normalize=True)"
   ]
  },
  {
   "cell_type": "markdown",
   "id": "d8a4b8ee-38b0-4720-89c3-3c4beb3b52cc",
   "metadata": {},
   "source": [
    "Although we started off with a strongly balanced proportion of positive and negative classes, after preprocessing our data we now have dataset that is fairly unbalanced. This may affect our model performance down the road. We may be able to mitigate this by wrangling more data from the subreddits. We will proceed for now."
   ]
  },
  {
   "cell_type": "markdown",
   "id": "7c460a9e-f6b1-4735-8ed4-672df3e47b56",
   "metadata": {},
   "source": [
    "Lets vectorize our training data."
   ]
  }
 ],
 "metadata": {
  "kernelspec": {
   "display_name": "Python 3 (ipykernel)",
   "language": "python",
   "name": "python3"
  },
  "language_info": {
   "codemirror_mode": {
    "name": "ipython",
    "version": 3
   },
   "file_extension": ".py",
   "mimetype": "text/x-python",
   "name": "python",
   "nbconvert_exporter": "python",
   "pygments_lexer": "ipython3",
   "version": "3.9.7"
  }
 },
 "nbformat": 4,
 "nbformat_minor": 5
}
