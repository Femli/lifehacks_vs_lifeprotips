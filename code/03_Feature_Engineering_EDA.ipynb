{
 "cells": [
  {
   "cell_type": "markdown",
   "id": "7aa52892-c9ff-4c24-a225-418933e79930",
   "metadata": {},
   "source": [
    "### Imports"
   ]
  },
  {
   "cell_type": "code",
   "execution_count": 58,
   "id": "2ed60d12-3bf6-43f4-8c2a-d430f186a99a",
   "metadata": {},
   "outputs": [],
   "source": [
    "import pandas as pd\n",
    "import numpy as np\n",
    "import matplotlib.pyplot as plt\n",
    "import seaborn as sns\n",
    "\n",
    "## preprocessing\n",
    "from sklearn.model_selection import train_test_split\n",
    "from sklearn.preprocessing import LabelEncoder\n",
    "\n",
    "## preprocessing - NLP\n",
    "from sklearn.feature_extraction.text import CountVectorizer, TfidfVectorizer\n",
    "from nltk import word_tokenize\n",
    "from nltk.stem import WordNetLemmatizer\n",
    "\n",
    "## workflow\n",
    "from sklearn.pipeline import Pipeline\n",
    "from sklearn.compose import ColumnTransformer\n",
    "from sklearn.model_selection import GridSearchCV\n",
    "\n",
    "## models\n",
    "from sklearn.dummy import DummyClassifier\n",
    "from sklearn.linear_model import LogisticRegression\n",
    "from sklearn.neighbors import KNeighborsClassifier\n",
    "from sklearn.ensemble import BaggingClassifier\n",
    "\n",
    "## metrics\n",
    "from sklearn.metrics import accuracy_score, balanced_accuracy_score, recall_score, precision_score, f1_score, confusion_matrix"
   ]
  },
  {
   "cell_type": "code",
   "execution_count": 64,
   "id": "c80b62c4-6aa4-4213-8294-74fd555fb442",
   "metadata": {},
   "outputs": [],
   "source": [
    "%run 00_Workflow_Functions.ipynb import na_only, make_model"
   ]
  },
  {
   "cell_type": "code",
   "execution_count": 3,
   "id": "1a66c32a-5635-4c35-abfd-9725514a4fcf",
   "metadata": {},
   "outputs": [],
   "source": [
    "# recovering train and test data\n",
    "%store -r stored_data"
   ]
  },
  {
   "cell_type": "code",
   "execution_count": 4,
   "id": "2e433310-54c1-473d-90bd-2b1422903a64",
   "metadata": {},
   "outputs": [],
   "source": [
    "X_train = stored_data['X_train']\n",
    "X_test = stored_data['X_test']\n",
    "\n",
    "y_train_encoded = stored_data['y_train_encoded']\n",
    "y_test_encoded = stored_data['y_test_encoded']"
   ]
  },
  {
   "cell_type": "markdown",
   "id": "b7accb47-e726-4c2b-bbd3-d0c8cc2b7b7c",
   "metadata": {},
   "source": [
    "### Vectorizing Data"
   ]
  },
  {
   "cell_type": "markdown",
   "id": "bdb7631c-9e87-40a9-bbb4-3872abbcf063",
   "metadata": {},
   "source": [
    "For our first model iteration, we will do a simple vectorization of text data. We will then evaluate our model performance and further engineer our text features."
   ]
  },
  {
   "cell_type": "code",
   "execution_count": 5,
   "id": "3ac12ad9-0439-4c83-a97a-043d98bb3042",
   "metadata": {},
   "outputs": [],
   "source": [
    "cvec = CountVectorizer()"
   ]
  },
  {
   "cell_type": "code",
   "execution_count": 8,
   "id": "60418fdc-49eb-435e-899a-976e6b132fd1",
   "metadata": {},
   "outputs": [
    {
     "data": {
      "text/html": [
       "<div>\n",
       "<style scoped>\n",
       "    .dataframe tbody tr th:only-of-type {\n",
       "        vertical-align: middle;\n",
       "    }\n",
       "\n",
       "    .dataframe tbody tr th {\n",
       "        vertical-align: top;\n",
       "    }\n",
       "\n",
       "    .dataframe thead th {\n",
       "        text-align: right;\n",
       "    }\n",
       "</style>\n",
       "<table border=\"1\" class=\"dataframe\">\n",
       "  <thead>\n",
       "    <tr style=\"text-align: right;\">\n",
       "      <th></th>\n",
       "      <th>00</th>\n",
       "      <th>000</th>\n",
       "      <th>00001</th>\n",
       "      <th>026_007_plumb_repair</th>\n",
       "      <th>03</th>\n",
       "      <th>03am</th>\n",
       "      <th>04</th>\n",
       "      <th>054fd209</th>\n",
       "      <th>08</th>\n",
       "      <th>087</th>\n",
       "      <th>...</th>\n",
       "      <th>還是因為距離</th>\n",
       "      <th>還會陷入愛情嗎</th>\n",
       "      <th>那些懵懂而青澀的過往</th>\n",
       "      <th>那些沒有結果的感情</th>\n",
       "      <th>那個你本以為忘記的人</th>\n",
       "      <th>都成眷屬</th>\n",
       "      <th>都會實現</th>\n",
       "      <th>都會結果</th>\n",
       "      <th>都有可能改變你的生活</th>\n",
       "      <th>餘生</th>\n",
       "    </tr>\n",
       "  </thead>\n",
       "  <tbody>\n",
       "    <tr>\n",
       "      <th>0</th>\n",
       "      <td>0</td>\n",
       "      <td>0</td>\n",
       "      <td>0</td>\n",
       "      <td>0</td>\n",
       "      <td>0</td>\n",
       "      <td>0</td>\n",
       "      <td>0</td>\n",
       "      <td>0</td>\n",
       "      <td>0</td>\n",
       "      <td>0</td>\n",
       "      <td>...</td>\n",
       "      <td>0</td>\n",
       "      <td>0</td>\n",
       "      <td>0</td>\n",
       "      <td>0</td>\n",
       "      <td>0</td>\n",
       "      <td>0</td>\n",
       "      <td>0</td>\n",
       "      <td>0</td>\n",
       "      <td>0</td>\n",
       "      <td>0</td>\n",
       "    </tr>\n",
       "    <tr>\n",
       "      <th>1</th>\n",
       "      <td>0</td>\n",
       "      <td>0</td>\n",
       "      <td>0</td>\n",
       "      <td>0</td>\n",
       "      <td>0</td>\n",
       "      <td>0</td>\n",
       "      <td>0</td>\n",
       "      <td>0</td>\n",
       "      <td>0</td>\n",
       "      <td>0</td>\n",
       "      <td>...</td>\n",
       "      <td>0</td>\n",
       "      <td>0</td>\n",
       "      <td>0</td>\n",
       "      <td>0</td>\n",
       "      <td>0</td>\n",
       "      <td>0</td>\n",
       "      <td>0</td>\n",
       "      <td>0</td>\n",
       "      <td>0</td>\n",
       "      <td>0</td>\n",
       "    </tr>\n",
       "    <tr>\n",
       "      <th>2</th>\n",
       "      <td>0</td>\n",
       "      <td>0</td>\n",
       "      <td>0</td>\n",
       "      <td>0</td>\n",
       "      <td>0</td>\n",
       "      <td>0</td>\n",
       "      <td>0</td>\n",
       "      <td>0</td>\n",
       "      <td>0</td>\n",
       "      <td>0</td>\n",
       "      <td>...</td>\n",
       "      <td>0</td>\n",
       "      <td>0</td>\n",
       "      <td>0</td>\n",
       "      <td>0</td>\n",
       "      <td>0</td>\n",
       "      <td>0</td>\n",
       "      <td>0</td>\n",
       "      <td>0</td>\n",
       "      <td>0</td>\n",
       "      <td>0</td>\n",
       "    </tr>\n",
       "    <tr>\n",
       "      <th>3</th>\n",
       "      <td>0</td>\n",
       "      <td>0</td>\n",
       "      <td>0</td>\n",
       "      <td>0</td>\n",
       "      <td>0</td>\n",
       "      <td>0</td>\n",
       "      <td>0</td>\n",
       "      <td>0</td>\n",
       "      <td>0</td>\n",
       "      <td>0</td>\n",
       "      <td>...</td>\n",
       "      <td>0</td>\n",
       "      <td>0</td>\n",
       "      <td>0</td>\n",
       "      <td>0</td>\n",
       "      <td>0</td>\n",
       "      <td>0</td>\n",
       "      <td>0</td>\n",
       "      <td>0</td>\n",
       "      <td>0</td>\n",
       "      <td>0</td>\n",
       "    </tr>\n",
       "    <tr>\n",
       "      <th>4</th>\n",
       "      <td>0</td>\n",
       "      <td>0</td>\n",
       "      <td>0</td>\n",
       "      <td>0</td>\n",
       "      <td>0</td>\n",
       "      <td>0</td>\n",
       "      <td>0</td>\n",
       "      <td>0</td>\n",
       "      <td>0</td>\n",
       "      <td>0</td>\n",
       "      <td>...</td>\n",
       "      <td>0</td>\n",
       "      <td>0</td>\n",
       "      <td>0</td>\n",
       "      <td>0</td>\n",
       "      <td>0</td>\n",
       "      <td>0</td>\n",
       "      <td>0</td>\n",
       "      <td>0</td>\n",
       "      <td>0</td>\n",
       "      <td>0</td>\n",
       "    </tr>\n",
       "  </tbody>\n",
       "</table>\n",
       "<p>5 rows × 12373 columns</p>\n",
       "</div>"
      ],
      "text/plain": [
       "   00  000  00001  026_007_plumb_repair  03  03am  04  054fd209  08  087  ...  \\\n",
       "0   0    0      0                     0   0     0   0         0   0    0  ...   \n",
       "1   0    0      0                     0   0     0   0         0   0    0  ...   \n",
       "2   0    0      0                     0   0     0   0         0   0    0  ...   \n",
       "3   0    0      0                     0   0     0   0         0   0    0  ...   \n",
       "4   0    0      0                     0   0     0   0         0   0    0  ...   \n",
       "\n",
       "   還是因為距離  還會陷入愛情嗎  那些懵懂而青澀的過往  那些沒有結果的感情  那個你本以為忘記的人  都成眷屬  都會實現  都會結果  \\\n",
       "0       0        0           0          0           0     0     0     0   \n",
       "1       0        0           0          0           0     0     0     0   \n",
       "2       0        0           0          0           0     0     0     0   \n",
       "3       0        0           0          0           0     0     0     0   \n",
       "4       0        0           0          0           0     0     0     0   \n",
       "\n",
       "   都有可能改變你的生活  餘生  \n",
       "0           0   0  \n",
       "1           0   0  \n",
       "2           0   0  \n",
       "3           0   0  \n",
       "4           0   0  \n",
       "\n",
       "[5 rows x 12373 columns]"
      ]
     },
     "execution_count": 8,
     "metadata": {},
     "output_type": "execute_result"
    }
   ],
   "source": [
    "X_train_cvec = pd.DataFrame(cvec.fit_transform(X_train).A, columns=cvec.get_feature_names_out())\n",
    "X_test_cvec = pd.DataFrame(cvec.transform(X_test).A, columns=cvec.get_feature_names_out())\n",
    "X_train_cvec.head(5)"
   ]
  },
  {
   "cell_type": "code",
   "execution_count": 10,
   "id": "76a0310b-463d-4fd9-b0bf-a7af0f7ddcec",
   "metadata": {},
   "outputs": [
    {
     "name": "stdout",
     "output_type": "stream",
     "text": [
      "(1857, 12373) (619, 12373)\n"
     ]
    }
   ],
   "source": [
    "print(X_train_cvec.shape, X_test_cvec.shape)"
   ]
  },
  {
   "cell_type": "markdown",
   "id": "0affc9a1-813b-48de-9ceb-44529d057e91",
   "metadata": {},
   "source": [
    "Both train and test splits have been successfully vectorized. We have generated 12,373 unique strings of characters to use as features."
   ]
  },
  {
   "cell_type": "markdown",
   "id": "3f023e6c-d573-4f35-b384-a76104d4e1fd",
   "metadata": {},
   "source": [
    "### Baseline Model"
   ]
  },
  {
   "cell_type": "markdown",
   "id": "447dd23e-3691-404e-89c9-0ea3bce6cbe3",
   "metadata": {},
   "source": [
    "Let's create a baseline model to compare our results."
   ]
  },
  {
   "cell_type": "code",
   "execution_count": 12,
   "id": "ddc27ae3-1260-405e-8454-f9a6c3e36b8c",
   "metadata": {},
   "outputs": [],
   "source": [
    "dc = DummyClassifier()"
   ]
  },
  {
   "cell_type": "code",
   "execution_count": 63,
   "id": "123810de-7b26-4f05-b802-0ddf33f60b0e",
   "metadata": {},
   "outputs": [
    {
     "name": "stdout",
     "output_type": "stream",
     "text": [
      "\n",
      "        Training Accuracy Score: 0.7587506731287023\n",
      "        Test Accuracy Score: 0.7587506731287023\n",
      "        \n",
      "        --- Performance on unseen data ----\n",
      "        Balance Accuracy: 0.5\n",
      "        Recall: 0.0\n",
      "        Specificity: 1.0\n",
      "        Precision: 0.0\n",
      "        F1 Score: 0.0\n",
      "        \n"
     ]
    },
    {
     "name": "stderr",
     "output_type": "stream",
     "text": [
      "C:\\ProgramData\\Anaconda3\\lib\\site-packages\\sklearn\\metrics\\_classification.py:1318: UndefinedMetricWarning: Precision is ill-defined and being set to 0.0 due to no predicted samples. Use `zero_division` parameter to control this behavior.\n",
      "  _warn_prf(average, modifier, msg_start, len(result))\n"
     ]
    }
   ],
   "source": [
    "make_model(dc, X_train_cvec, X_test_cvec, y_train_encoded, y_test_encoded)"
   ]
  },
  {
   "cell_type": "markdown",
   "id": "efa549f2-a3f5-4607-993d-36577190a5a4",
   "metadata": {},
   "source": [
    "75.9% of our predictions correctly predicted if a posts belongs to `r/LifeProTips` or `r/lifehacks`."
   ]
  },
  {
   "cell_type": "code",
   "execution_count": 24,
   "id": "15ded3de-3063-404e-a0f2-862e4dbd2be3",
   "metadata": {},
   "outputs": [
    {
     "data": {
      "text/plain": [
       "0.0"
      ]
     },
     "execution_count": 24,
     "metadata": {},
     "output_type": "execute_result"
    }
   ],
   "source": [
    "# sensitivity\n",
    "recall_score(y_test_encoded, base_preds)"
   ]
  },
  {
   "cell_type": "markdown",
   "id": "20c5607d-7efe-4a05-a04b-51fb9ce3e1a6",
   "metadata": {},
   "source": [
    "The proportion of correctly predicted `r/lifehacks` posts over actual `r/lifehacks` posts. <br />\n",
    "In this case we did not correctly predict any posts belong to `r/lifehacks`."
   ]
  },
  {
   "cell_type": "code",
   "execution_count": 21,
   "id": "f5b5bb71-3319-4e4f-a419-a853d3c663f4",
   "metadata": {},
   "outputs": [
    {
     "data": {
      "text/plain": [
       "1.0"
      ]
     },
     "execution_count": 21,
     "metadata": {},
     "output_type": "execute_result"
    }
   ],
   "source": [
    "# specificity\n",
    "recall_score(y_test_encoded, base_preds, pos_label=0)"
   ]
  },
  {
   "cell_type": "markdown",
   "id": "ea98ddab-04cc-438f-bc9d-b2a5caeb05f2",
   "metadata": {},
   "source": [
    "The proportion of correctly predicted `r/LifeProTips` posts over actual `r/LifeProTips` posts. <br />\n",
    "In this case we correctly predicted all `r/LifeProTips` posts that belong to `r/LifeProTips`."
   ]
  },
  {
   "cell_type": "markdown",
   "id": "b096d517-7d57-4469-92a6-35898f194cf2",
   "metadata": {},
   "source": [
    "Given that our recall score is `0`, and our specifity score is `1`, our baseline model simply predicted all posts in the dataset to belong to `r/LifeProTips`! That means we incorrectly predicted about `30%` of our data, hence our accuracy score of 0.759."
   ]
  },
  {
   "cell_type": "code",
   "execution_count": 56,
   "id": "8f477a73-494f-4711-8bf9-c88acadb9717",
   "metadata": {},
   "outputs": [
    {
     "data": {
      "text/plain": [
       "0.5"
      ]
     },
     "execution_count": 56,
     "metadata": {},
     "output_type": "execute_result"
    }
   ],
   "source": [
    "balanced_accuracy_score(y_test_encoded, base_preds)"
   ]
  },
  {
   "cell_type": "markdown",
   "id": "539a3989-f266-497e-8898-8576c7665ec4",
   "metadata": {},
   "source": [
    "Our balanced accuracy score is the average of our recall and specificty score. It's important for us here because our data is imbalanced (far more cases of `r/LifeProTips` than `r/lifehacks`). <br />\n",
    "Here we can see that our model is not doing a good job of predicting both classes correctly."
   ]
  },
  {
   "cell_type": "code",
   "execution_count": 25,
   "id": "747dbaa3-5313-4a6d-9677-ab69b7fd9a5a",
   "metadata": {},
   "outputs": [
    {
     "name": "stderr",
     "output_type": "stream",
     "text": [
      "C:\\ProgramData\\Anaconda3\\lib\\site-packages\\sklearn\\metrics\\_classification.py:1318: UndefinedMetricWarning: Precision is ill-defined and being set to 0.0 due to no predicted samples. Use `zero_division` parameter to control this behavior.\n",
      "  _warn_prf(average, modifier, msg_start, len(result))\n"
     ]
    },
    {
     "data": {
      "text/plain": [
       "0.0"
      ]
     },
     "execution_count": 25,
     "metadata": {},
     "output_type": "execute_result"
    }
   ],
   "source": [
    "# precision\n",
    "precision_score(y_test_encoded, base_preds)"
   ]
  },
  {
   "cell_type": "markdown",
   "id": "e07e93bc-6ba9-4a92-96eb-57fa5b73e485",
   "metadata": {},
   "source": [
    "The proportion of correct `r/lifehacks` predictions over all `r/lifehacks` predictions. <br />\n",
    "Since we did not predict any post to belong to `r/lifehacks`, our precision score cannot be calculated (can't divide by zero)."
   ]
  },
  {
   "cell_type": "markdown",
   "id": "40b80a46-efee-4f9e-bc9d-504347ff8906",
   "metadata": {},
   "source": [
    "### Logistic Regression"
   ]
  },
  {
   "cell_type": "markdown",
   "id": "f930bfc3-e402-4618-a578-d1c4029872f6",
   "metadata": {},
   "source": [
    "Alias: Kronk"
   ]
  },
  {
   "cell_type": "code",
   "execution_count": 34,
   "id": "ef298f31-c339-40a4-a69a-d03e154f7f27",
   "metadata": {},
   "outputs": [],
   "source": [
    "lr = LogisticRegression(max_iter=1_000, random_state=14)"
   ]
  },
  {
   "cell_type": "code",
   "execution_count": 35,
   "id": "56cb831f-2ba7-4876-99ff-71de049501c7",
   "metadata": {},
   "outputs": [
    {
     "data": {
      "text/plain": [
       "LogisticRegression(max_iter=1000, random_state=14)"
      ]
     },
     "execution_count": 35,
     "metadata": {},
     "output_type": "execute_result"
    }
   ],
   "source": [
    "lr.fit(X_train_cvec, y_train_encoded)"
   ]
  },
  {
   "cell_type": "code",
   "execution_count": 36,
   "id": "77344f71-79de-45c1-b2f5-cf7522755cd6",
   "metadata": {},
   "outputs": [
    {
     "name": "stdout",
     "output_type": "stream",
     "text": [
      "0.9983844911147012 0.7366720516962844\n"
     ]
    }
   ],
   "source": [
    "print(lr.score(X_train_cvec, y_train_encoded), lr.score(X_test_cvec, y_test_encoded))"
   ]
  },
  {
   "cell_type": "code",
   "execution_count": 37,
   "id": "ed3c4966-e55b-460e-b7de-83f6ffc5d9df",
   "metadata": {},
   "outputs": [],
   "source": [
    "kronk_preds =lr.predict(X_test_cvec)"
   ]
  },
  {
   "cell_type": "code",
   "execution_count": 38,
   "id": "faee56a5-8cd8-4698-b1ee-9e20c0a4d1b9",
   "metadata": {},
   "outputs": [
    {
     "data": {
      "text/plain": [
       "0.35570469798657717"
      ]
     },
     "execution_count": 38,
     "metadata": {},
     "output_type": "execute_result"
    }
   ],
   "source": [
    "# sensitivity\n",
    "recall_score(y_test_encoded, kronk_preds)"
   ]
  },
  {
   "cell_type": "code",
   "execution_count": 39,
   "id": "a228dbaa-6105-4876-8f3d-fc108ad45611",
   "metadata": {},
   "outputs": [
    {
     "data": {
      "text/plain": [
       "0.8574468085106383"
      ]
     },
     "execution_count": 39,
     "metadata": {},
     "output_type": "execute_result"
    }
   ],
   "source": [
    "# specificity\n",
    "recall_score(y_test_encoded, kronk_preds, pos_label=0)"
   ]
  },
  {
   "cell_type": "code",
   "execution_count": 40,
   "id": "737bb2d4-034d-4a31-9562-e0f747293aa3",
   "metadata": {},
   "outputs": [
    {
     "data": {
      "text/plain": [
       "0.44166666666666665"
      ]
     },
     "execution_count": 40,
     "metadata": {},
     "output_type": "execute_result"
    }
   ],
   "source": [
    "precision_score(y_test_encoded, kronk_preds)"
   ]
  },
  {
   "cell_type": "markdown",
   "id": "32f36923-4503-4740-ae09-2a08b66b53a4",
   "metadata": {},
   "source": [
    "Verdict: Bad! Worse than our baseline in terms of accuracy."
   ]
  },
  {
   "cell_type": "markdown",
   "id": "4b9a0a54-6596-4f77-a664-cf390438ba29",
   "metadata": {},
   "source": [
    "### K-Nearest-Neighbors"
   ]
  },
  {
   "cell_type": "markdown",
   "id": "9376877b-a1ca-417c-9fbd-26df4d147786",
   "metadata": {},
   "source": [
    "Alisas: Kuzko"
   ]
  },
  {
   "cell_type": "code",
   "execution_count": 44,
   "id": "be24341e-4c60-451e-b0a3-ec385d9bbf79",
   "metadata": {},
   "outputs": [],
   "source": [
    "knn = KNeighborsClassifier(n_jobs=-1)"
   ]
  },
  {
   "cell_type": "code",
   "execution_count": 45,
   "id": "38c5a520-16d2-4f94-ad8f-d8b089ced7f1",
   "metadata": {},
   "outputs": [
    {
     "data": {
      "text/plain": [
       "KNeighborsClassifier(n_jobs=-1)"
      ]
     },
     "execution_count": 45,
     "metadata": {},
     "output_type": "execute_result"
    }
   ],
   "source": [
    "knn.fit(X_train_cvec, y_train_encoded)"
   ]
  },
  {
   "cell_type": "code",
   "execution_count": 47,
   "id": "636df25e-8cae-4e1a-847a-eb0acd980f38",
   "metadata": {},
   "outputs": [
    {
     "name": "stdout",
     "output_type": "stream",
     "text": [
      "0.8056004308023694 0.8056004308023694\n"
     ]
    }
   ],
   "source": [
    "print(knn.score(X_train_cvec, y_train_encoded), knn.score(X_train_cvec, y_train_encoded))"
   ]
  },
  {
   "cell_type": "code",
   "execution_count": 49,
   "id": "3d5a62e7-c4b3-4e85-b454-66cb2772e9ff",
   "metadata": {},
   "outputs": [],
   "source": [
    "kuzko_preds =knn.predict(X_test_cvec)"
   ]
  },
  {
   "cell_type": "code",
   "execution_count": 50,
   "id": "cfe129a8-ce05-450f-ba23-d1bfd24385c6",
   "metadata": {},
   "outputs": [
    {
     "data": {
      "text/plain": [
       "0.24161073825503357"
      ]
     },
     "execution_count": 50,
     "metadata": {},
     "output_type": "execute_result"
    }
   ],
   "source": [
    "# sensitivity\n",
    "recall_score(y_test_encoded, kuzko_preds)"
   ]
  },
  {
   "cell_type": "code",
   "execution_count": 51,
   "id": "69eb686b-aa9c-4631-b555-e3b484831b38",
   "metadata": {},
   "outputs": [
    {
     "data": {
      "text/plain": [
       "0.874468085106383"
      ]
     },
     "execution_count": 51,
     "metadata": {},
     "output_type": "execute_result"
    }
   ],
   "source": [
    "# specificity\n",
    "recall_score(y_test_encoded, kuzko_preds, pos_label=0)"
   ]
  },
  {
   "cell_type": "code",
   "execution_count": 52,
   "id": "88252bee-cece-48a4-afc6-4b3994fe2570",
   "metadata": {},
   "outputs": [
    {
     "data": {
      "text/plain": [
       "0.37894736842105264"
      ]
     },
     "execution_count": 52,
     "metadata": {},
     "output_type": "execute_result"
    }
   ],
   "source": [
    "precision_score(y_test_encoded, kuzko_preds)"
   ]
  },
  {
   "cell_type": "markdown",
   "id": "fbb7a69e-5460-427a-aae1-c4862ab756d3",
   "metadata": {},
   "source": [
    "While the accuracy is better, the recall and precision score went down. This tells us that the model made more correct `r/LifeProTips` predictions, and more incorrect `r/lifehacks`. <br />\n",
    "Verdict: Worse than Kronk model."
   ]
  },
  {
   "cell_type": "markdown",
   "id": "79252427-8637-4e76-9d52-16454e878cc6",
   "metadata": {},
   "source": [
    "### Bagging Classifier"
   ]
  },
  {
   "cell_type": "markdown",
   "id": "f9e1bda6-408a-44ea-bd43-a044563f3fb0",
   "metadata": {},
   "source": [
    "Alias: Yzma"
   ]
  },
  {
   "cell_type": "code",
   "execution_count": 59,
   "id": "78e71f59-27cc-493e-a9dd-0ac18961a9e1",
   "metadata": {},
   "outputs": [],
   "source": [
    "bc = BaggingClassifier(random_state=14, n_jobs=-1)"
   ]
  },
  {
   "cell_type": "code",
   "execution_count": null,
   "id": "4c34b2aa-226b-47db-ae73-21f8b64f1c07",
   "metadata": {},
   "outputs": [],
   "source": [
    "bc.fit(X_train_cvec, y_train_encoded)"
   ]
  },
  {
   "cell_type": "markdown",
   "id": "013c8beb-dd17-4d58-982e-ee9065f12889",
   "metadata": {},
   "source": [
    "### Logsitic Regression v2.0"
   ]
  },
  {
   "cell_type": "markdown",
   "id": "f838d751-2559-463a-a8c3-56bb8547dced",
   "metadata": {},
   "source": [
    "Alias: Kuzko"
   ]
  },
  {
   "cell_type": "code",
   "execution_count": 41,
   "id": "74409e23-4a31-441a-b97c-dd1011a31f2b",
   "metadata": {},
   "outputs": [],
   "source": [
    "lr_pipe = Pipeline(\n",
    "    [\n",
    "        ('lr', LogisticRegression(max_iter=1_000))\n",
    "    ]\n",
    ")"
   ]
  },
  {
   "cell_type": "code",
   "execution_count": null,
   "id": "48f50d9d-4254-4c46-ba89-880b7fb6b33c",
   "metadata": {},
   "outputs": [],
   "source": [
    "rs = Rand"
   ]
  },
  {
   "cell_type": "raw",
   "id": "8a0c6edd-e84e-4019-bd48-b409d6026906",
   "metadata": {},
   "source": [
    "# saving train test splits for next notebook\n",
    "stored_data['X_train_cvec'] = X_train_cvec\n",
    "stored_data['X_test_cvec'] = X_test_cvec\n",
    "\n",
    "stored_data['y_train_encoded'] = y_train_encoded\n",
    "stored_data['y_test_encoded'] = y_test_encoded"
   ]
  },
  {
   "cell_type": "raw",
   "id": "72c2fa77-4c86-4874-8545-c3ebf759bf71",
   "metadata": {},
   "source": [
    "%store stored_data\n",
    "del stored_data"
   ]
  }
 ],
 "metadata": {
  "kernelspec": {
   "display_name": "Python 3 (ipykernel)",
   "language": "python",
   "name": "python3"
  },
  "language_info": {
   "codemirror_mode": {
    "name": "ipython",
    "version": 3
   },
   "file_extension": ".py",
   "mimetype": "text/x-python",
   "name": "python",
   "nbconvert_exporter": "python",
   "pygments_lexer": "ipython3",
   "version": "3.9.7"
  }
 },
 "nbformat": 4,
 "nbformat_minor": 5
}
