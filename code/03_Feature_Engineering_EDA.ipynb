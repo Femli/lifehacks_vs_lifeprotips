{
 "cells": [
  {
   "cell_type": "markdown",
   "id": "7aa52892-c9ff-4c24-a225-418933e79930",
   "metadata": {},
   "source": [
    "### Imports"
   ]
  },
  {
   "cell_type": "code",
   "execution_count": 227,
   "id": "2ed60d12-3bf6-43f4-8c2a-d430f186a99a",
   "metadata": {},
   "outputs": [],
   "source": [
    "import pandas as pd\n",
    "import numpy as np\n",
    "import matplotlib.pyplot as plt\n",
    "import seaborn as sns\n",
    "\n",
    "## preprocessing\n",
    "from sklearn.model_selection import train_test_split\n",
    "from sklearn.preprocessing import LabelEncoder\n",
    "\n",
    "## preprocessing - NLP\n",
    "from sklearn.feature_extraction.text import CountVectorizer, TfidfVectorizer\n",
    "from nltk import word_tokenize\n",
    "from nltk.stem import WordNetLemmatizer\n",
    "\n",
    "## workflow\n",
    "from sklearn.pipeline import Pipeline\n",
    "from sklearn.compose import ColumnTransformer\n",
    "from sklearn.model_selection import GridSearchCV, RandomizedSearchCV\n",
    "\n",
    "## models\n",
    "from sklearn.dummy import DummyClassifier\n",
    "from sklearn.linear_model import LogisticRegression\n",
    "from sklearn.neighbors import KNeighborsClassifier\n",
    "from sklearn.ensemble import BaggingClassifier, RandomForestClassifier, ExtraTreesClassifier, AdaBoostClassifier, VotingClassifier\n",
    "\n",
    "## metrics\n",
    "from sklearn.metrics import accuracy_score, balanced_accuracy_score, recall_score, precision_score, f1_score, confusion_matrix"
   ]
  },
  {
   "cell_type": "code",
   "execution_count": 2,
   "id": "c80b62c4-6aa4-4213-8294-74fd555fb442",
   "metadata": {},
   "outputs": [],
   "source": [
    "%run 00_Workflow_Functions.ipynb import na_only, make_model"
   ]
  },
  {
   "cell_type": "code",
   "execution_count": 3,
   "id": "1a66c32a-5635-4c35-abfd-9725514a4fcf",
   "metadata": {},
   "outputs": [],
   "source": [
    "# recovering train and test data\n",
    "%store -r stored_data"
   ]
  },
  {
   "cell_type": "code",
   "execution_count": 4,
   "id": "2e433310-54c1-473d-90bd-2b1422903a64",
   "metadata": {},
   "outputs": [],
   "source": [
    "X_train = stored_data['X_train']\n",
    "X_test = stored_data['X_test']\n",
    "\n",
    "y_train_encoded = stored_data['y_train_encoded']\n",
    "y_test_encoded = stored_data['y_test_encoded']"
   ]
  },
  {
   "cell_type": "markdown",
   "id": "b7accb47-e726-4c2b-bbd3-d0c8cc2b7b7c",
   "metadata": {},
   "source": [
    "### Vectorizing Data"
   ]
  },
  {
   "cell_type": "markdown",
   "id": "bdb7631c-9e87-40a9-bbb4-3872abbcf063",
   "metadata": {},
   "source": [
    "For our first model iteration, we will do a simple vectorization of text data. We will then evaluate our model performance and further engineer our text features."
   ]
  },
  {
   "cell_type": "code",
   "execution_count": 5,
   "id": "3ac12ad9-0439-4c83-a97a-043d98bb3042",
   "metadata": {},
   "outputs": [],
   "source": [
    "cvec = CountVectorizer()"
   ]
  },
  {
   "cell_type": "code",
   "execution_count": 6,
   "id": "60418fdc-49eb-435e-899a-976e6b132fd1",
   "metadata": {},
   "outputs": [
    {
     "data": {
      "text/html": [
       "<div>\n",
       "<style scoped>\n",
       "    .dataframe tbody tr th:only-of-type {\n",
       "        vertical-align: middle;\n",
       "    }\n",
       "\n",
       "    .dataframe tbody tr th {\n",
       "        vertical-align: top;\n",
       "    }\n",
       "\n",
       "    .dataframe thead th {\n",
       "        text-align: right;\n",
       "    }\n",
       "</style>\n",
       "<table border=\"1\" class=\"dataframe\">\n",
       "  <thead>\n",
       "    <tr style=\"text-align: right;\">\n",
       "      <th></th>\n",
       "      <th>00</th>\n",
       "      <th>000</th>\n",
       "      <th>00001</th>\n",
       "      <th>026_007_plumb_repair</th>\n",
       "      <th>03</th>\n",
       "      <th>03am</th>\n",
       "      <th>04</th>\n",
       "      <th>054fd209</th>\n",
       "      <th>08</th>\n",
       "      <th>087</th>\n",
       "      <th>...</th>\n",
       "      <th>還是因為距離</th>\n",
       "      <th>還會陷入愛情嗎</th>\n",
       "      <th>那些懵懂而青澀的過往</th>\n",
       "      <th>那些沒有結果的感情</th>\n",
       "      <th>那個你本以為忘記的人</th>\n",
       "      <th>都成眷屬</th>\n",
       "      <th>都會實現</th>\n",
       "      <th>都會結果</th>\n",
       "      <th>都有可能改變你的生活</th>\n",
       "      <th>餘生</th>\n",
       "    </tr>\n",
       "  </thead>\n",
       "  <tbody>\n",
       "    <tr>\n",
       "      <th>0</th>\n",
       "      <td>0</td>\n",
       "      <td>0</td>\n",
       "      <td>0</td>\n",
       "      <td>0</td>\n",
       "      <td>0</td>\n",
       "      <td>0</td>\n",
       "      <td>0</td>\n",
       "      <td>0</td>\n",
       "      <td>0</td>\n",
       "      <td>0</td>\n",
       "      <td>...</td>\n",
       "      <td>0</td>\n",
       "      <td>0</td>\n",
       "      <td>0</td>\n",
       "      <td>0</td>\n",
       "      <td>0</td>\n",
       "      <td>0</td>\n",
       "      <td>0</td>\n",
       "      <td>0</td>\n",
       "      <td>0</td>\n",
       "      <td>0</td>\n",
       "    </tr>\n",
       "    <tr>\n",
       "      <th>1</th>\n",
       "      <td>0</td>\n",
       "      <td>0</td>\n",
       "      <td>0</td>\n",
       "      <td>0</td>\n",
       "      <td>0</td>\n",
       "      <td>0</td>\n",
       "      <td>0</td>\n",
       "      <td>0</td>\n",
       "      <td>0</td>\n",
       "      <td>0</td>\n",
       "      <td>...</td>\n",
       "      <td>0</td>\n",
       "      <td>0</td>\n",
       "      <td>0</td>\n",
       "      <td>0</td>\n",
       "      <td>0</td>\n",
       "      <td>0</td>\n",
       "      <td>0</td>\n",
       "      <td>0</td>\n",
       "      <td>0</td>\n",
       "      <td>0</td>\n",
       "    </tr>\n",
       "    <tr>\n",
       "      <th>2</th>\n",
       "      <td>0</td>\n",
       "      <td>0</td>\n",
       "      <td>0</td>\n",
       "      <td>0</td>\n",
       "      <td>0</td>\n",
       "      <td>0</td>\n",
       "      <td>0</td>\n",
       "      <td>0</td>\n",
       "      <td>0</td>\n",
       "      <td>0</td>\n",
       "      <td>...</td>\n",
       "      <td>0</td>\n",
       "      <td>0</td>\n",
       "      <td>0</td>\n",
       "      <td>0</td>\n",
       "      <td>0</td>\n",
       "      <td>0</td>\n",
       "      <td>0</td>\n",
       "      <td>0</td>\n",
       "      <td>0</td>\n",
       "      <td>0</td>\n",
       "    </tr>\n",
       "    <tr>\n",
       "      <th>3</th>\n",
       "      <td>0</td>\n",
       "      <td>0</td>\n",
       "      <td>0</td>\n",
       "      <td>0</td>\n",
       "      <td>0</td>\n",
       "      <td>0</td>\n",
       "      <td>0</td>\n",
       "      <td>0</td>\n",
       "      <td>0</td>\n",
       "      <td>0</td>\n",
       "      <td>...</td>\n",
       "      <td>0</td>\n",
       "      <td>0</td>\n",
       "      <td>0</td>\n",
       "      <td>0</td>\n",
       "      <td>0</td>\n",
       "      <td>0</td>\n",
       "      <td>0</td>\n",
       "      <td>0</td>\n",
       "      <td>0</td>\n",
       "      <td>0</td>\n",
       "    </tr>\n",
       "    <tr>\n",
       "      <th>4</th>\n",
       "      <td>0</td>\n",
       "      <td>0</td>\n",
       "      <td>0</td>\n",
       "      <td>0</td>\n",
       "      <td>0</td>\n",
       "      <td>0</td>\n",
       "      <td>0</td>\n",
       "      <td>0</td>\n",
       "      <td>0</td>\n",
       "      <td>0</td>\n",
       "      <td>...</td>\n",
       "      <td>0</td>\n",
       "      <td>0</td>\n",
       "      <td>0</td>\n",
       "      <td>0</td>\n",
       "      <td>0</td>\n",
       "      <td>0</td>\n",
       "      <td>0</td>\n",
       "      <td>0</td>\n",
       "      <td>0</td>\n",
       "      <td>0</td>\n",
       "    </tr>\n",
       "  </tbody>\n",
       "</table>\n",
       "<p>5 rows × 12373 columns</p>\n",
       "</div>"
      ],
      "text/plain": [
       "   00  000  00001  026_007_plumb_repair  03  03am  04  054fd209  08  087  ...  \\\n",
       "0   0    0      0                     0   0     0   0         0   0    0  ...   \n",
       "1   0    0      0                     0   0     0   0         0   0    0  ...   \n",
       "2   0    0      0                     0   0     0   0         0   0    0  ...   \n",
       "3   0    0      0                     0   0     0   0         0   0    0  ...   \n",
       "4   0    0      0                     0   0     0   0         0   0    0  ...   \n",
       "\n",
       "   還是因為距離  還會陷入愛情嗎  那些懵懂而青澀的過往  那些沒有結果的感情  那個你本以為忘記的人  都成眷屬  都會實現  都會結果  \\\n",
       "0       0        0           0          0           0     0     0     0   \n",
       "1       0        0           0          0           0     0     0     0   \n",
       "2       0        0           0          0           0     0     0     0   \n",
       "3       0        0           0          0           0     0     0     0   \n",
       "4       0        0           0          0           0     0     0     0   \n",
       "\n",
       "   都有可能改變你的生活  餘生  \n",
       "0           0   0  \n",
       "1           0   0  \n",
       "2           0   0  \n",
       "3           0   0  \n",
       "4           0   0  \n",
       "\n",
       "[5 rows x 12373 columns]"
      ]
     },
     "execution_count": 6,
     "metadata": {},
     "output_type": "execute_result"
    }
   ],
   "source": [
    "X_train_cvec = pd.DataFrame(cvec.fit_transform(X_train).A, columns=cvec.get_feature_names_out())\n",
    "X_test_cvec = pd.DataFrame(cvec.transform(X_test).A, columns=cvec.get_feature_names_out())\n",
    "X_train_cvec.head(5)"
   ]
  },
  {
   "cell_type": "code",
   "execution_count": 7,
   "id": "76a0310b-463d-4fd9-b0bf-a7af0f7ddcec",
   "metadata": {},
   "outputs": [
    {
     "name": "stdout",
     "output_type": "stream",
     "text": [
      "(1857, 12373) (619, 12373)\n"
     ]
    }
   ],
   "source": [
    "print(X_train_cvec.shape, X_test_cvec.shape)"
   ]
  },
  {
   "cell_type": "code",
   "execution_count": 78,
   "id": "0b8f29cf-c794-470d-9f04-6c60117e5012",
   "metadata": {},
   "outputs": [
    {
     "data": {
      "text/plain": [
       "the     5813\n",
       "to      5415\n",
       "and     4540\n",
       "you     4057\n",
       "it      3075\n",
       "of      2726\n",
       "in      2164\n",
       "that    2072\n",
       "for     1982\n",
       "is      1788\n",
       "your    1763\n",
       "this    1450\n",
       "if      1327\n",
       "on      1295\n",
       "my      1281\n",
       "or      1280\n",
       "can     1243\n",
       "have    1223\n",
       "with    1180\n",
       "but     1125\n",
       "dtype: int64"
      ]
     },
     "execution_count": 78,
     "metadata": {},
     "output_type": "execute_result"
    }
   ],
   "source": [
    "cvec_top_20 = X_train_cvec.sum().sort_values(ascending=False)[:20]\n",
    "cvec_top_20"
   ]
  },
  {
   "cell_type": "code",
   "execution_count": 93,
   "id": "ac276698-121a-4c82-b885-c1912f0544ff",
   "metadata": {},
   "outputs": [
    {
     "data": {
      "image/png": "[encoded data removed]",
      "text/plain": [
       "<Figure size 432x288 with 1 Axes>"
      ]
     },
     "metadata": {
      "needs_background": "light"
     },
     "output_type": "display_data"
    }
   ],
   "source": [
    "sns.barplot(y=list(cvec_top_20.index), x=cvec_top_20.values, orient='h', color='tab:blue')\n",
    "plt.title(\"Top 20 words with default countvectorizer\");"
   ]
  },
  {
   "cell_type": "markdown",
   "id": "73f038ca-f0c6-4789-af08-32b3f811b8cb",
   "metadata": {},
   "source": [
    "There are a vast amount of stop words (nouns and pronouns) in our submission data. Let's try and cut that down using the default stopwords list in the count vectorizer class."
   ]
  },
  {
   "cell_type": "code",
   "execution_count": 94,
   "id": "be87e4b1-5d16-4634-bfaf-0ddc0fd2096c",
   "metadata": {},
   "outputs": [],
   "source": [
    "cvec2 = CountVectorizer(stop_words='english')"
   ]
  },
  {
   "cell_type": "code",
   "execution_count": 95,
   "id": "d989a8d3-4082-4413-8717-0631c327d5c8",
   "metadata": {},
   "outputs": [
    {
     "data": {
      "text/html": [
       "<div>\n",
       "<style scoped>\n",
       "    .dataframe tbody tr th:only-of-type {\n",
       "        vertical-align: middle;\n",
       "    }\n",
       "\n",
       "    .dataframe tbody tr th {\n",
       "        vertical-align: top;\n",
       "    }\n",
       "\n",
       "    .dataframe thead th {\n",
       "        text-align: right;\n",
       "    }\n",
       "</style>\n",
       "<table border=\"1\" class=\"dataframe\">\n",
       "  <thead>\n",
       "    <tr style=\"text-align: right;\">\n",
       "      <th></th>\n",
       "      <th>00</th>\n",
       "      <th>000</th>\n",
       "      <th>00001</th>\n",
       "      <th>026_007_plumb_repair</th>\n",
       "      <th>03</th>\n",
       "      <th>03am</th>\n",
       "      <th>04</th>\n",
       "      <th>054fd209</th>\n",
       "      <th>08</th>\n",
       "      <th>087</th>\n",
       "      <th>...</th>\n",
       "      <th>還是因為距離</th>\n",
       "      <th>還會陷入愛情嗎</th>\n",
       "      <th>那些懵懂而青澀的過往</th>\n",
       "      <th>那些沒有結果的感情</th>\n",
       "      <th>那個你本以為忘記的人</th>\n",
       "      <th>都成眷屬</th>\n",
       "      <th>都會實現</th>\n",
       "      <th>都會結果</th>\n",
       "      <th>都有可能改變你的生活</th>\n",
       "      <th>餘生</th>\n",
       "    </tr>\n",
       "  </thead>\n",
       "  <tbody>\n",
       "    <tr>\n",
       "      <th>0</th>\n",
       "      <td>0</td>\n",
       "      <td>0</td>\n",
       "      <td>0</td>\n",
       "      <td>0</td>\n",
       "      <td>0</td>\n",
       "      <td>0</td>\n",
       "      <td>0</td>\n",
       "      <td>0</td>\n",
       "      <td>0</td>\n",
       "      <td>0</td>\n",
       "      <td>...</td>\n",
       "      <td>0</td>\n",
       "      <td>0</td>\n",
       "      <td>0</td>\n",
       "      <td>0</td>\n",
       "      <td>0</td>\n",
       "      <td>0</td>\n",
       "      <td>0</td>\n",
       "      <td>0</td>\n",
       "      <td>0</td>\n",
       "      <td>0</td>\n",
       "    </tr>\n",
       "    <tr>\n",
       "      <th>1</th>\n",
       "      <td>0</td>\n",
       "      <td>0</td>\n",
       "      <td>0</td>\n",
       "      <td>0</td>\n",
       "      <td>0</td>\n",
       "      <td>0</td>\n",
       "      <td>0</td>\n",
       "      <td>0</td>\n",
       "      <td>0</td>\n",
       "      <td>0</td>\n",
       "      <td>...</td>\n",
       "      <td>0</td>\n",
       "      <td>0</td>\n",
       "      <td>0</td>\n",
       "      <td>0</td>\n",
       "      <td>0</td>\n",
       "      <td>0</td>\n",
       "      <td>0</td>\n",
       "      <td>0</td>\n",
       "      <td>0</td>\n",
       "      <td>0</td>\n",
       "    </tr>\n",
       "    <tr>\n",
       "      <th>2</th>\n",
       "      <td>0</td>\n",
       "      <td>0</td>\n",
       "      <td>0</td>\n",
       "      <td>0</td>\n",
       "      <td>0</td>\n",
       "      <td>0</td>\n",
       "      <td>0</td>\n",
       "      <td>0</td>\n",
       "      <td>0</td>\n",
       "      <td>0</td>\n",
       "      <td>...</td>\n",
       "      <td>0</td>\n",
       "      <td>0</td>\n",
       "      <td>0</td>\n",
       "      <td>0</td>\n",
       "      <td>0</td>\n",
       "      <td>0</td>\n",
       "      <td>0</td>\n",
       "      <td>0</td>\n",
       "      <td>0</td>\n",
       "      <td>0</td>\n",
       "    </tr>\n",
       "    <tr>\n",
       "      <th>3</th>\n",
       "      <td>0</td>\n",
       "      <td>0</td>\n",
       "      <td>0</td>\n",
       "      <td>0</td>\n",
       "      <td>0</td>\n",
       "      <td>0</td>\n",
       "      <td>0</td>\n",
       "      <td>0</td>\n",
       "      <td>0</td>\n",
       "      <td>0</td>\n",
       "      <td>...</td>\n",
       "      <td>0</td>\n",
       "      <td>0</td>\n",
       "      <td>0</td>\n",
       "      <td>0</td>\n",
       "      <td>0</td>\n",
       "      <td>0</td>\n",
       "      <td>0</td>\n",
       "      <td>0</td>\n",
       "      <td>0</td>\n",
       "      <td>0</td>\n",
       "    </tr>\n",
       "    <tr>\n",
       "      <th>4</th>\n",
       "      <td>0</td>\n",
       "      <td>0</td>\n",
       "      <td>0</td>\n",
       "      <td>0</td>\n",
       "      <td>0</td>\n",
       "      <td>0</td>\n",
       "      <td>0</td>\n",
       "      <td>0</td>\n",
       "      <td>0</td>\n",
       "      <td>0</td>\n",
       "      <td>...</td>\n",
       "      <td>0</td>\n",
       "      <td>0</td>\n",
       "      <td>0</td>\n",
       "      <td>0</td>\n",
       "      <td>0</td>\n",
       "      <td>0</td>\n",
       "      <td>0</td>\n",
       "      <td>0</td>\n",
       "      <td>0</td>\n",
       "      <td>0</td>\n",
       "    </tr>\n",
       "  </tbody>\n",
       "</table>\n",
       "<p>5 rows × 12084 columns</p>\n",
       "</div>"
      ],
      "text/plain": [
       "   00  000  00001  026_007_plumb_repair  03  03am  04  054fd209  08  087  ...  \\\n",
       "0   0    0      0                     0   0     0   0         0   0    0  ...   \n",
       "1   0    0      0                     0   0     0   0         0   0    0  ...   \n",
       "2   0    0      0                     0   0     0   0         0   0    0  ...   \n",
       "3   0    0      0                     0   0     0   0         0   0    0  ...   \n",
       "4   0    0      0                     0   0     0   0         0   0    0  ...   \n",
       "\n",
       "   還是因為距離  還會陷入愛情嗎  那些懵懂而青澀的過往  那些沒有結果的感情  那個你本以為忘記的人  都成眷屬  都會實現  都會結果  \\\n",
       "0       0        0           0          0           0     0     0     0   \n",
       "1       0        0           0          0           0     0     0     0   \n",
       "2       0        0           0          0           0     0     0     0   \n",
       "3       0        0           0          0           0     0     0     0   \n",
       "4       0        0           0          0           0     0     0     0   \n",
       "\n",
       "   都有可能改變你的生活  餘生  \n",
       "0           0   0  \n",
       "1           0   0  \n",
       "2           0   0  \n",
       "3           0   0  \n",
       "4           0   0  \n",
       "\n",
       "[5 rows x 12084 columns]"
      ]
     },
     "execution_count": 95,
     "metadata": {},
     "output_type": "execute_result"
    }
   ],
   "source": [
    "X_train_cvec2 = pd.DataFrame(cvec2.fit_transform(X_train).A, columns=cvec2.get_feature_names_out())\n",
    "X_test_cvec2 = pd.DataFrame(cvec2.transform(X_test).A, columns=cvec2.get_feature_names_out())\n",
    "X_train_cvec2.head(5)"
   ]
  },
  {
   "cell_type": "code",
   "execution_count": 96,
   "id": "167bb702-b969-4509-823a-1ba17f9bbc7d",
   "metadata": {},
   "outputs": [
    {
     "name": "stdout",
     "output_type": "stream",
     "text": [
      "(1857, 12084) (619, 12084)\n"
     ]
    }
   ],
   "source": [
    "print(X_train_cvec2.shape, X_test_cvec2.shape)"
   ]
  },
  {
   "cell_type": "code",
   "execution_count": 97,
   "id": "cdbdc08d-50a5-4033-ab51-834232da0def",
   "metadata": {},
   "outputs": [
    {
     "data": {
      "text/plain": [
       "-289"
      ]
     },
     "execution_count": 97,
     "metadata": {},
     "output_type": "execute_result"
    }
   ],
   "source": [
    "X_train_cvec2.shape[1] - X_train_cvec.shape[1]"
   ]
  },
  {
   "cell_type": "markdown",
   "id": "a72e06fb-958a-4478-a825-30ab8702458f",
   "metadata": {},
   "source": [
    "We have 289 less columns in our vectorization without stop words."
   ]
  },
  {
   "cell_type": "code",
   "execution_count": 98,
   "id": "a88948f8-8ba0-41af-b951-bf87f07f53f9",
   "metadata": {},
   "outputs": [
    {
     "data": {
      "text/plain": [
       "just      747\n",
       "don       660\n",
       "like      631\n",
       "time      579\n",
       "people    487\n",
       "know      412\n",
       "make      399\n",
       "ve        360\n",
       "work      343\n",
       "want      341\n",
       "way       321\n",
       "use       315\n",
       "need      296\n",
       "life      268\n",
       "really    257\n",
       "help      246\n",
       "things    246\n",
       "day       233\n",
       "feel      227\n",
       "good      219\n",
       "dtype: int64"
      ]
     },
     "execution_count": 98,
     "metadata": {},
     "output_type": "execute_result"
    }
   ],
   "source": [
    "cvec2_top_20 = X_train_cvec2.sum().sort_values(ascending=False)[:20]\n",
    "cvec2_top_20"
   ]
  },
  {
   "cell_type": "code",
   "execution_count": 99,
   "id": "c7bc193d-f9a8-4467-842a-17d3e4693498",
   "metadata": {},
   "outputs": [
    {
     "data": {
      "image/png": "[encoded data removed]",
      "text/plain": [
       "<Figure size 432x288 with 1 Axes>"
      ]
     },
     "metadata": {
      "needs_background": "light"
     },
     "output_type": "display_data"
    }
   ],
   "source": [
    "sns.barplot(y=list(cvec2_top_20.index), x=cvec2_top_20.values, orient='h', color='tab:blue')\n",
    "plt.title(\"Top 20 words without stopwords\");"
   ]
  },
  {
   "cell_type": "markdown",
   "id": "2e48ee3f-bdcf-4d42-ab04-a8ef25de1741",
   "metadata": {},
   "source": [
    "Stop words have been cut down; however, the frequency of the new words are a lot less than the frequency of stop words.\n",
    "We also have a lot more adverbs in hour list.\n",
    "\n",
    "Let's now tokenize our words using uni- and bigrams, and see what patterns emerge."
   ]
  },
  {
   "cell_type": "code",
   "execution_count": 126,
   "id": "374c1f3d-2fac-4f8f-8a03-f1e2a7b9ecd2",
   "metadata": {},
   "outputs": [],
   "source": [
    "cvec3 = CountVectorizer(stop_words='english', ngram_range=(2, 2))"
   ]
  },
  {
   "cell_type": "code",
   "execution_count": 127,
   "id": "badd0a6e-26e1-46c0-bc8f-949293ed122e",
   "metadata": {},
   "outputs": [
    {
     "data": {
      "text/html": [
       "<div>\n",
       "<style scoped>\n",
       "    .dataframe tbody tr th:only-of-type {\n",
       "        vertical-align: middle;\n",
       "    }\n",
       "\n",
       "    .dataframe tbody tr th {\n",
       "        vertical-align: top;\n",
       "    }\n",
       "\n",
       "    .dataframe thead th {\n",
       "        text-align: right;\n",
       "    }\n",
       "</style>\n",
       "<table border=\"1\" class=\"dataframe\">\n",
       "  <thead>\n",
       "    <tr style=\"text-align: right;\">\n",
       "      <th></th>\n",
       "      <th>00 apy</th>\n",
       "      <th>00 didn</th>\n",
       "      <th>00 lowest</th>\n",
       "      <th>00 mashing</th>\n",
       "      <th>00 pair</th>\n",
       "      <th>000 100</th>\n",
       "      <th>000 11</th>\n",
       "      <th>000 calories</th>\n",
       "      <th>000 doubled</th>\n",
       "      <th>000 dual</th>\n",
       "      <th>...</th>\n",
       "      <th>還是因為距離 還是因為每個人各自的苦衷</th>\n",
       "      <th>還會陷入愛情嗎 即便再來一次</th>\n",
       "      <th>那些懵懂而青澀的過往 卻會是我們一生的珍藏</th>\n",
       "      <th>那些沒有結果的感情 結局不完美</th>\n",
       "      <th>那個你本以為忘記的人 就會像蜜蜂蟄了心</th>\n",
       "      <th>都成眷屬 人生有得失</th>\n",
       "      <th>都會實現 不是每一對戀人</th>\n",
       "      <th>都會結果 不是每一次心願</th>\n",
       "      <th>都有可能改變你的生活 主播</th>\n",
       "      <th>餘生 希望彼此都能把對方放下</th>\n",
       "    </tr>\n",
       "  </thead>\n",
       "  <tbody>\n",
       "    <tr>\n",
       "      <th>0</th>\n",
       "      <td>0</td>\n",
       "      <td>0</td>\n",
       "      <td>0</td>\n",
       "      <td>0</td>\n",
       "      <td>0</td>\n",
       "      <td>0</td>\n",
       "      <td>0</td>\n",
       "      <td>0</td>\n",
       "      <td>0</td>\n",
       "      <td>0</td>\n",
       "      <td>...</td>\n",
       "      <td>0</td>\n",
       "      <td>0</td>\n",
       "      <td>0</td>\n",
       "      <td>0</td>\n",
       "      <td>0</td>\n",
       "      <td>0</td>\n",
       "      <td>0</td>\n",
       "      <td>0</td>\n",
       "      <td>0</td>\n",
       "      <td>0</td>\n",
       "    </tr>\n",
       "    <tr>\n",
       "      <th>1</th>\n",
       "      <td>0</td>\n",
       "      <td>0</td>\n",
       "      <td>0</td>\n",
       "      <td>0</td>\n",
       "      <td>0</td>\n",
       "      <td>0</td>\n",
       "      <td>0</td>\n",
       "      <td>0</td>\n",
       "      <td>0</td>\n",
       "      <td>0</td>\n",
       "      <td>...</td>\n",
       "      <td>0</td>\n",
       "      <td>0</td>\n",
       "      <td>0</td>\n",
       "      <td>0</td>\n",
       "      <td>0</td>\n",
       "      <td>0</td>\n",
       "      <td>0</td>\n",
       "      <td>0</td>\n",
       "      <td>0</td>\n",
       "      <td>0</td>\n",
       "    </tr>\n",
       "    <tr>\n",
       "      <th>2</th>\n",
       "      <td>0</td>\n",
       "      <td>0</td>\n",
       "      <td>0</td>\n",
       "      <td>0</td>\n",
       "      <td>0</td>\n",
       "      <td>0</td>\n",
       "      <td>0</td>\n",
       "      <td>0</td>\n",
       "      <td>0</td>\n",
       "      <td>0</td>\n",
       "      <td>...</td>\n",
       "      <td>0</td>\n",
       "      <td>0</td>\n",
       "      <td>0</td>\n",
       "      <td>0</td>\n",
       "      <td>0</td>\n",
       "      <td>0</td>\n",
       "      <td>0</td>\n",
       "      <td>0</td>\n",
       "      <td>0</td>\n",
       "      <td>0</td>\n",
       "    </tr>\n",
       "    <tr>\n",
       "      <th>3</th>\n",
       "      <td>0</td>\n",
       "      <td>0</td>\n",
       "      <td>0</td>\n",
       "      <td>0</td>\n",
       "      <td>0</td>\n",
       "      <td>0</td>\n",
       "      <td>0</td>\n",
       "      <td>0</td>\n",
       "      <td>0</td>\n",
       "      <td>0</td>\n",
       "      <td>...</td>\n",
       "      <td>0</td>\n",
       "      <td>0</td>\n",
       "      <td>0</td>\n",
       "      <td>0</td>\n",
       "      <td>0</td>\n",
       "      <td>0</td>\n",
       "      <td>0</td>\n",
       "      <td>0</td>\n",
       "      <td>0</td>\n",
       "      <td>0</td>\n",
       "    </tr>\n",
       "    <tr>\n",
       "      <th>4</th>\n",
       "      <td>0</td>\n",
       "      <td>0</td>\n",
       "      <td>0</td>\n",
       "      <td>0</td>\n",
       "      <td>0</td>\n",
       "      <td>0</td>\n",
       "      <td>0</td>\n",
       "      <td>0</td>\n",
       "      <td>0</td>\n",
       "      <td>0</td>\n",
       "      <td>...</td>\n",
       "      <td>0</td>\n",
       "      <td>0</td>\n",
       "      <td>0</td>\n",
       "      <td>0</td>\n",
       "      <td>0</td>\n",
       "      <td>0</td>\n",
       "      <td>0</td>\n",
       "      <td>0</td>\n",
       "      <td>0</td>\n",
       "      <td>0</td>\n",
       "    </tr>\n",
       "  </tbody>\n",
       "</table>\n",
       "<p>5 rows × 65514 columns</p>\n",
       "</div>"
      ],
      "text/plain": [
       "   00 apy  00 didn  00 lowest  00 mashing  00 pair  000 100  000 11  \\\n",
       "0       0        0          0           0        0        0       0   \n",
       "1       0        0          0           0        0        0       0   \n",
       "2       0        0          0           0        0        0       0   \n",
       "3       0        0          0           0        0        0       0   \n",
       "4       0        0          0           0        0        0       0   \n",
       "\n",
       "   000 calories  000 doubled  000 dual  ...  還是因為距離 還是因為每個人各自的苦衷  \\\n",
       "0             0            0         0  ...                    0   \n",
       "1             0            0         0  ...                    0   \n",
       "2             0            0         0  ...                    0   \n",
       "3             0            0         0  ...                    0   \n",
       "4             0            0         0  ...                    0   \n",
       "\n",
       "   還會陷入愛情嗎 即便再來一次  那些懵懂而青澀的過往 卻會是我們一生的珍藏  那些沒有結果的感情 結局不完美  \\\n",
       "0               0                      0                0   \n",
       "1               0                      0                0   \n",
       "2               0                      0                0   \n",
       "3               0                      0                0   \n",
       "4               0                      0                0   \n",
       "\n",
       "   那個你本以為忘記的人 就會像蜜蜂蟄了心  都成眷屬 人生有得失  都會實現 不是每一對戀人  都會結果 不是每一次心願  都有可能改變你的生活 主播  \\\n",
       "0                    0           0             0             0              0   \n",
       "1                    0           0             0             0              0   \n",
       "2                    0           0             0             0              0   \n",
       "3                    0           0             0             0              0   \n",
       "4                    0           0             0             0              0   \n",
       "\n",
       "   餘生 希望彼此都能把對方放下  \n",
       "0               0  \n",
       "1               0  \n",
       "2               0  \n",
       "3               0  \n",
       "4               0  \n",
       "\n",
       "[5 rows x 65514 columns]"
      ]
     },
     "execution_count": 127,
     "metadata": {},
     "output_type": "execute_result"
    }
   ],
   "source": [
    "X_train_cvec3 = pd.DataFrame(cvec3.fit_transform(X_train).A, columns=cvec3.get_feature_names_out())\n",
    "X_test_cvec3 = pd.DataFrame(cvec3.transform(X_test).A, columns=cvec3.get_feature_names_out())\n",
    "X_train_cvec3.head(5)"
   ]
  },
  {
   "cell_type": "code",
   "execution_count": 128,
   "id": "00538892-b487-4125-9d1b-fb36034c9a0d",
   "metadata": {},
   "outputs": [
    {
     "name": "stdout",
     "output_type": "stream",
     "text": [
      "(1857, 65514) (619, 65514)\n"
     ]
    }
   ],
   "source": [
    "print(X_train_cvec3.shape, X_test_cvec3.shape)"
   ]
  },
  {
   "cell_type": "code",
   "execution_count": 129,
   "id": "73109379-20f8-4bbd-9ec9-0b2b8f9915a9",
   "metadata": {},
   "outputs": [
    {
     "data": {
      "text/plain": [
       "53141"
      ]
     },
     "execution_count": 129,
     "metadata": {},
     "output_type": "execute_result"
    }
   ],
   "source": [
    "X_train_cvec3.shape[1] - X_train_cvec.shape[1]"
   ]
  },
  {
   "cell_type": "markdown",
   "id": "c575fecb-28e5-427e-8fb5-5ceea412b3d1",
   "metadata": {},
   "source": [
    "We have 65,225 more columns by tokenizing our words into uni- and bigrams."
   ]
  },
  {
   "cell_type": "code",
   "execution_count": 130,
   "id": "5db2f7cd-3f0d-4b96-ba28-f35ad5558727",
   "metadata": {},
   "outputs": [
    {
     "data": {
      "text/plain": [
       "https www        79\n",
       "make sure        75\n",
       "don know         69\n",
       "don want         65\n",
       "feel like        56\n",
       "amp x200b        52\n",
       "don need         26\n",
       "long time        26\n",
       "ice cream        25\n",
       "things like      25\n",
       "credit card      24\n",
       "just like        22\n",
       "tiger19 tw       21\n",
       "https tiger19    21\n",
       "best way         21\n",
       "years ago        20\n",
       "lot people       20\n",
       "let know         19\n",
       "just need        19\n",
       "don let          18\n",
       "dtype: int64"
      ]
     },
     "execution_count": 130,
     "metadata": {},
     "output_type": "execute_result"
    }
   ],
   "source": [
    "cvec3_top_20 = X_train_cvec3.sum().sort_values(ascending=False)[:20]\n",
    "cvec3_top_20"
   ]
  },
  {
   "cell_type": "markdown",
   "id": "405c25dd-4bf0-41aa-b695-bb8ac848888e",
   "metadata": {},
   "source": [
    "A fair amount of bigrams appear to include the word \"don\" which seems to be a typo of the word \"don't\"."
   ]
  },
  {
   "cell_type": "markdown",
   "id": "ac91877b-f3cd-4a47-abe1-daf7621c0d66",
   "metadata": {},
   "source": [
    "---"
   ]
  },
  {
   "cell_type": "markdown",
   "id": "9ab2310f-125a-4903-ac7a-3ec2190f7c85",
   "metadata": {},
   "source": [
    "Let's try to capture words that fall more inbetween, and drop the stop words. Ideally, we will get more substance in our tokens."
   ]
  },
  {
   "cell_type": "code",
   "execution_count": 222,
   "id": "deb70a4f-cc42-4602-9ab5-9088190e4529",
   "metadata": {},
   "outputs": [],
   "source": [
    "cvec4 = CountVectorizer(stop_words='english', min_df=2, max_df=.05)"
   ]
  },
  {
   "cell_type": "code",
   "execution_count": 223,
   "id": "98a7327b-8f52-4881-b125-b265ef9313f2",
   "metadata": {},
   "outputs": [
    {
     "data": {
      "text/html": [
       "<div>\n",
       "<style scoped>\n",
       "    .dataframe tbody tr th:only-of-type {\n",
       "        vertical-align: middle;\n",
       "    }\n",
       "\n",
       "    .dataframe tbody tr th {\n",
       "        vertical-align: top;\n",
       "    }\n",
       "\n",
       "    .dataframe thead th {\n",
       "        text-align: right;\n",
       "    }\n",
       "</style>\n",
       "<table border=\"1\" class=\"dataframe\">\n",
       "  <thead>\n",
       "    <tr style=\"text-align: right;\">\n",
       "      <th></th>\n",
       "      <th>00</th>\n",
       "      <th>000</th>\n",
       "      <th>03</th>\n",
       "      <th>04</th>\n",
       "      <th>09</th>\n",
       "      <th>10</th>\n",
       "      <th>100</th>\n",
       "      <th>1000</th>\n",
       "      <th>10mm</th>\n",
       "      <th>10pm</th>\n",
       "      <th>...</th>\n",
       "      <th>youtube</th>\n",
       "      <th>youtubers</th>\n",
       "      <th>yr</th>\n",
       "      <th>ysk</th>\n",
       "      <th>yt</th>\n",
       "      <th>zero</th>\n",
       "      <th>zip</th>\n",
       "      <th>zipper</th>\n",
       "      <th>zone</th>\n",
       "      <th>zoom</th>\n",
       "    </tr>\n",
       "  </thead>\n",
       "  <tbody>\n",
       "    <tr>\n",
       "      <th>0</th>\n",
       "      <td>0</td>\n",
       "      <td>0</td>\n",
       "      <td>0</td>\n",
       "      <td>0</td>\n",
       "      <td>0</td>\n",
       "      <td>0</td>\n",
       "      <td>0</td>\n",
       "      <td>0</td>\n",
       "      <td>0</td>\n",
       "      <td>0</td>\n",
       "      <td>...</td>\n",
       "      <td>0</td>\n",
       "      <td>0</td>\n",
       "      <td>0</td>\n",
       "      <td>0</td>\n",
       "      <td>0</td>\n",
       "      <td>0</td>\n",
       "      <td>0</td>\n",
       "      <td>0</td>\n",
       "      <td>0</td>\n",
       "      <td>0</td>\n",
       "    </tr>\n",
       "    <tr>\n",
       "      <th>1</th>\n",
       "      <td>0</td>\n",
       "      <td>0</td>\n",
       "      <td>0</td>\n",
       "      <td>0</td>\n",
       "      <td>0</td>\n",
       "      <td>0</td>\n",
       "      <td>0</td>\n",
       "      <td>0</td>\n",
       "      <td>0</td>\n",
       "      <td>0</td>\n",
       "      <td>...</td>\n",
       "      <td>0</td>\n",
       "      <td>0</td>\n",
       "      <td>0</td>\n",
       "      <td>0</td>\n",
       "      <td>0</td>\n",
       "      <td>0</td>\n",
       "      <td>0</td>\n",
       "      <td>0</td>\n",
       "      <td>0</td>\n",
       "      <td>0</td>\n",
       "    </tr>\n",
       "    <tr>\n",
       "      <th>2</th>\n",
       "      <td>0</td>\n",
       "      <td>0</td>\n",
       "      <td>0</td>\n",
       "      <td>0</td>\n",
       "      <td>0</td>\n",
       "      <td>0</td>\n",
       "      <td>0</td>\n",
       "      <td>0</td>\n",
       "      <td>0</td>\n",
       "      <td>0</td>\n",
       "      <td>...</td>\n",
       "      <td>0</td>\n",
       "      <td>0</td>\n",
       "      <td>0</td>\n",
       "      <td>0</td>\n",
       "      <td>0</td>\n",
       "      <td>1</td>\n",
       "      <td>0</td>\n",
       "      <td>0</td>\n",
       "      <td>0</td>\n",
       "      <td>0</td>\n",
       "    </tr>\n",
       "    <tr>\n",
       "      <th>3</th>\n",
       "      <td>0</td>\n",
       "      <td>0</td>\n",
       "      <td>0</td>\n",
       "      <td>0</td>\n",
       "      <td>0</td>\n",
       "      <td>0</td>\n",
       "      <td>0</td>\n",
       "      <td>0</td>\n",
       "      <td>0</td>\n",
       "      <td>0</td>\n",
       "      <td>...</td>\n",
       "      <td>0</td>\n",
       "      <td>0</td>\n",
       "      <td>0</td>\n",
       "      <td>0</td>\n",
       "      <td>0</td>\n",
       "      <td>0</td>\n",
       "      <td>0</td>\n",
       "      <td>0</td>\n",
       "      <td>0</td>\n",
       "      <td>0</td>\n",
       "    </tr>\n",
       "    <tr>\n",
       "      <th>4</th>\n",
       "      <td>0</td>\n",
       "      <td>0</td>\n",
       "      <td>0</td>\n",
       "      <td>0</td>\n",
       "      <td>0</td>\n",
       "      <td>0</td>\n",
       "      <td>0</td>\n",
       "      <td>0</td>\n",
       "      <td>0</td>\n",
       "      <td>0</td>\n",
       "      <td>...</td>\n",
       "      <td>0</td>\n",
       "      <td>0</td>\n",
       "      <td>0</td>\n",
       "      <td>0</td>\n",
       "      <td>0</td>\n",
       "      <td>0</td>\n",
       "      <td>0</td>\n",
       "      <td>0</td>\n",
       "      <td>0</td>\n",
       "      <td>0</td>\n",
       "    </tr>\n",
       "  </tbody>\n",
       "</table>\n",
       "<p>5 rows × 5695 columns</p>\n",
       "</div>"
      ],
      "text/plain": [
       "   00  000  03  04  09  10  100  1000  10mm  10pm  ...  youtube  youtubers  \\\n",
       "0   0    0   0   0   0   0    0     0     0     0  ...        0          0   \n",
       "1   0    0   0   0   0   0    0     0     0     0  ...        0          0   \n",
       "2   0    0   0   0   0   0    0     0     0     0  ...        0          0   \n",
       "3   0    0   0   0   0   0    0     0     0     0  ...        0          0   \n",
       "4   0    0   0   0   0   0    0     0     0     0  ...        0          0   \n",
       "\n",
       "   yr  ysk  yt  zero  zip  zipper  zone  zoom  \n",
       "0   0    0   0     0    0       0     0     0  \n",
       "1   0    0   0     0    0       0     0     0  \n",
       "2   0    0   0     1    0       0     0     0  \n",
       "3   0    0   0     0    0       0     0     0  \n",
       "4   0    0   0     0    0       0     0     0  \n",
       "\n",
       "[5 rows x 5695 columns]"
      ]
     },
     "execution_count": 223,
     "metadata": {},
     "output_type": "execute_result"
    }
   ],
   "source": [
    "X_train_cvec4 = pd.DataFrame(cvec4.fit_transform(X_train).A, columns=cvec4.get_feature_names_out())\n",
    "X_test_cvec4 = pd.DataFrame(cvec4.transform(X_test).A, columns=cvec4.get_feature_names_out())\n",
    "X_train_cvec4.head(5)"
   ]
  },
  {
   "cell_type": "code",
   "execution_count": 224,
   "id": "003f8138-cf5e-496e-a646-608a75457636",
   "metadata": {},
   "outputs": [
    {
     "name": "stdout",
     "output_type": "stream",
     "text": [
      "(1857, 65514) (619, 65514)\n"
     ]
    }
   ],
   "source": [
    "print(X_train_cvec3.shape, X_test_cvec3.shape)"
   ]
  },
  {
   "cell_type": "code",
   "execution_count": 225,
   "id": "50d2f57e-7de7-44cd-ada2-901e113616aa",
   "metadata": {},
   "outputs": [
    {
     "data": {
      "text/plain": [
       "-6678"
      ]
     },
     "execution_count": 225,
     "metadata": {},
     "output_type": "execute_result"
    }
   ],
   "source": [
    "X_train_cvec4.shape[1] - X_train_cvec.shape[1]"
   ]
  },
  {
   "cell_type": "markdown",
   "id": "eefe8d2a-b448-4737-ad71-e80c9274fb81",
   "metadata": {},
   "source": [
    "We have 6341 less columns in our vectorization that removes all tokens that appear only once."
   ]
  },
  {
   "cell_type": "code",
   "execution_count": 226,
   "id": "4c558f0b-6e5e-410c-8f4a-db006ef23dbe",
   "metadata": {},
   "outputs": [
    {
     "data": {
      "text/plain": [
       "amp         210\n",
       "com         160\n",
       "job         152\n",
       "car         139\n",
       "phone       138\n",
       "food        131\n",
       "didn        117\n",
       "tell        115\n",
       "friends     114\n",
       "buy         112\n",
       "year        109\n",
       "home        109\n",
       "place       108\n",
       "days        108\n",
       "away        108\n",
       "hard        107\n",
       "thought     106\n",
       "actually    103\n",
       "makes       102\n",
       "family      102\n",
       "dtype: int64"
      ]
     },
     "execution_count": 226,
     "metadata": {},
     "output_type": "execute_result"
    }
   ],
   "source": [
    "cvec4_top_20 = X_train_cvec4.sum().sort_values(ascending=False)[:20]\n",
    "cvec4_top_20"
   ]
  },
  {
   "cell_type": "markdown",
   "id": "0affc9a1-813b-48de-9ceb-44529d057e91",
   "metadata": {},
   "source": [
    "Both train and test splits have been successfully vectorized. We have generated 12,373 unique strings of characters to use as features."
   ]
  },
  {
   "cell_type": "markdown",
   "id": "3f023e6c-d573-4f35-b384-a76104d4e1fd",
   "metadata": {},
   "source": [
    "### Baseline Model"
   ]
  },
  {
   "cell_type": "markdown",
   "id": "447dd23e-3691-404e-89c9-0ea3bce6cbe3",
   "metadata": {},
   "source": [
    "Let's create a baseline model to compare our results."
   ]
  },
  {
   "cell_type": "code",
   "execution_count": 8,
   "id": "ddc27ae3-1260-405e-8454-f9a6c3e36b8c",
   "metadata": {},
   "outputs": [],
   "source": [
    "dc = DummyClassifier()"
   ]
  },
  {
   "cell_type": "code",
   "execution_count": 9,
   "id": "123810de-7b26-4f05-b802-0ddf33f60b0e",
   "metadata": {},
   "outputs": [
    {
     "name": "stdout",
     "output_type": "stream",
     "text": [
      "\n",
      "        Training Accuracy Score: 0.7587506731287023\n",
      "        Test Accuracy Score: 0.7592891760904685\n",
      "        \n",
      "        --- Performance on unseen data ----\n",
      "        Recall (Sensitivity): 0.0\n",
      "        Specificity: 1.0\n",
      "        Precision: 0.0\n",
      "        \n",
      "        Balance Accuracy: 0.5\n",
      "        F1 Score: 0.0\n",
      "        \n"
     ]
    },
    {
     "name": "stderr",
     "output_type": "stream",
     "text": [
      "C:\\ProgramData\\Anaconda3\\lib\\site-packages\\sklearn\\metrics\\_classification.py:1318: UndefinedMetricWarning: Precision is ill-defined and being set to 0.0 due to no predicted samples. Use `zero_division` parameter to control this behavior.\n",
      "  _warn_prf(average, modifier, msg_start, len(result))\n"
     ]
    }
   ],
   "source": [
    "make_model(dc, X_train_cvec, X_test_cvec, y_train_encoded, y_test_encoded)"
   ]
  },
  {
   "cell_type": "markdown",
   "id": "1cc9d1de-d8e0-4c0d-a8bd-8ddbfc9abef0",
   "metadata": {},
   "source": [
    "- Regarding accuracy, 75.9% of our predictions correctly predicted if a posts belongs to `r/LifeProTips` or `r/lifehacks`.\n",
    "\n",
    "- Regarding recall, the proportion of correctly predicted `r/lifehacks` posts over actual `r/lifehacks` posts. <br />\n",
    "In this case we did not correctly predict any posts belong to `r/lifehacks`.\n",
    "\n",
    "- Regarding specificity, the proportion of correctly predicted `r/LifeProTips` posts over actual `r/LifeProTips` posts. <br />\n",
    "In this case we correctly predicted all `r/LifeProTips` posts that belong to `r/LifeProTips`.\n",
    "\n",
    "- Regarding precision, the proportion of correct `r/lifehacks` predictions over all `r/lifehacks` predictions. <br />\n",
    "Since we did not predict any post to belong to `r/lifehacks`, our precision score cannot be calculated (can't divide by zero). Defaults to zero instead.\n",
    "\n",
    "- Our balanced accuracy score is the average of our recall and specificty score. It's important for us here because our data is imbalanced (far more cases of `r/LifeProTips` than `r/lifehacks`). <br />\n",
    "Here we can see that our model is not doing a good job of predicting both classes correctly."
   ]
  },
  {
   "cell_type": "markdown",
   "id": "b096d517-7d57-4469-92a6-35898f194cf2",
   "metadata": {},
   "source": [
    "Given that our recall score is `0`, and our specifity score is `1`, our baseline model simply predicted all posts in the dataset to belong to `r/LifeProTips`! <br />\n",
    "That means we incorrectly predicted about `30%` of our data, hence our accuracy score of 0.759."
   ]
  },
  {
   "cell_type": "markdown",
   "id": "768f7ca5-e491-4fa1-b673-815f33b64ef3",
   "metadata": {},
   "source": [
    "F1 score...."
   ]
  },
  {
   "cell_type": "markdown",
   "id": "40b80a46-efee-4f9e-bc9d-504347ff8906",
   "metadata": {},
   "source": [
    "### Logistic Regression"
   ]
  },
  {
   "cell_type": "markdown",
   "id": "f930bfc3-e402-4618-a578-d1c4029872f6",
   "metadata": {},
   "source": [
    "Alias: Kronk"
   ]
  },
  {
   "cell_type": "code",
   "execution_count": 10,
   "id": "ef298f31-c339-40a4-a69a-d03e154f7f27",
   "metadata": {},
   "outputs": [],
   "source": [
    "lr = LogisticRegression(max_iter=1_000, random_state=14)"
   ]
  },
  {
   "cell_type": "code",
   "execution_count": 11,
   "id": "ac5e15d4-9809-45e1-bd37-a9295060d64c",
   "metadata": {},
   "outputs": [
    {
     "name": "stdout",
     "output_type": "stream",
     "text": [
      "\n",
      "        Training Accuracy Score: 0.9983844911147012\n",
      "        Test Accuracy Score: 0.7366720516962844\n",
      "        \n",
      "        --- Performance on unseen data ----\n",
      "        Recall (Sensitivity): 0.35570469798657717\n",
      "        Specificity: 0.8574468085106383\n",
      "        Precision: 0.44166666666666665\n",
      "        \n",
      "        Balance Accuracy: 0.6065757532486077\n",
      "        F1 Score: 0.3940520446096654\n",
      "        \n"
     ]
    }
   ],
   "source": [
    "make_model(lr, X_train_cvec, X_test_cvec, y_train_encoded, y_test_encoded)"
   ]
  },
  {
   "cell_type": "markdown",
   "id": "32f36923-4503-4740-ae09-2a08b66b53a4",
   "metadata": {},
   "source": [
    "Verdict: Worse than our baseline in terms of accuracy."
   ]
  },
  {
   "cell_type": "code",
   "execution_count": 12,
   "id": "a2c55dbd-25f6-4bea-a787-288ee9c4b6de",
   "metadata": {},
   "outputs": [
    {
     "data": {
      "text/html": [
       "<div>\n",
       "<style scoped>\n",
       "    .dataframe tbody tr th:only-of-type {\n",
       "        vertical-align: middle;\n",
       "    }\n",
       "\n",
       "    .dataframe tbody tr th {\n",
       "        vertical-align: top;\n",
       "    }\n",
       "\n",
       "    .dataframe thead th {\n",
       "        text-align: right;\n",
       "    }\n",
       "</style>\n",
       "<table border=\"1\" class=\"dataframe\">\n",
       "  <thead>\n",
       "    <tr style=\"text-align: right;\">\n",
       "      <th></th>\n",
       "      <th>0</th>\n",
       "    </tr>\n",
       "  </thead>\n",
       "  <tbody>\n",
       "    <tr>\n",
       "      <th>hack</th>\n",
       "      <td>1.316535</td>\n",
       "    </tr>\n",
       "    <tr>\n",
       "      <th>tried</th>\n",
       "      <td>1.203418</td>\n",
       "    </tr>\n",
       "    <tr>\n",
       "      <th>tips</th>\n",
       "      <td>1.167859</td>\n",
       "    </tr>\n",
       "    <tr>\n",
       "      <th>oil</th>\n",
       "      <td>0.963483</td>\n",
       "    </tr>\n",
       "    <tr>\n",
       "      <th>any</th>\n",
       "      <td>0.821774</td>\n",
       "    </tr>\n",
       "    <tr>\n",
       "      <th>...</th>\n",
       "      <td>...</td>\n",
       "    </tr>\n",
       "    <tr>\n",
       "      <th>people</th>\n",
       "      <td>-0.749673</td>\n",
       "    </tr>\n",
       "    <tr>\n",
       "      <th>money</th>\n",
       "      <td>-0.827517</td>\n",
       "    </tr>\n",
       "    <tr>\n",
       "      <th>often</th>\n",
       "      <td>-0.844439</td>\n",
       "    </tr>\n",
       "    <tr>\n",
       "      <th>many</th>\n",
       "      <td>-0.859666</td>\n",
       "    </tr>\n",
       "    <tr>\n",
       "      <th>lpt</th>\n",
       "      <td>-0.867368</td>\n",
       "    </tr>\n",
       "  </tbody>\n",
       "</table>\n",
       "<p>12373 rows × 1 columns</p>\n",
       "</div>"
      ],
      "text/plain": [
       "               0\n",
       "hack    1.316535\n",
       "tried   1.203418\n",
       "tips    1.167859\n",
       "oil     0.963483\n",
       "any     0.821774\n",
       "...          ...\n",
       "people -0.749673\n",
       "money  -0.827517\n",
       "often  -0.844439\n",
       "many   -0.859666\n",
       "lpt    -0.867368\n",
       "\n",
       "[12373 rows x 1 columns]"
      ]
     },
     "execution_count": 12,
     "metadata": {},
     "output_type": "execute_result"
    }
   ],
   "source": [
    "kronk_coefs = pd.DataFrame(lr.coef_[0], index=X_train_cvec.columns)\n",
    "kronk_coefs.sort_values(by=0, ascending=False)"
   ]
  },
  {
   "cell_type": "markdown",
   "id": "2bcc754d-02b4-4bca-b18f-a6447ee80880",
   "metadata": {},
   "source": [
    "Higher scores correlate with `r/lifehack` and lower scores correlate with `r/LifeProTips`."
   ]
  },
  {
   "cell_type": "markdown",
   "id": "4132761f-2c24-40c3-93f0-bc1826e54c73",
   "metadata": {},
   "source": [
    "#### Kronk v2.0"
   ]
  },
  {
   "cell_type": "code",
   "execution_count": 13,
   "id": "cbe26833-ef79-4aff-8f85-1783829f7b59",
   "metadata": {},
   "outputs": [
    {
     "data": {
      "text/plain": [
       "{'C': 1.0,\n",
       " 'class_weight': None,\n",
       " 'dual': False,\n",
       " 'fit_intercept': True,\n",
       " 'intercept_scaling': 1,\n",
       " 'l1_ratio': None,\n",
       " 'max_iter': 1000,\n",
       " 'multi_class': 'auto',\n",
       " 'n_jobs': None,\n",
       " 'penalty': 'l2',\n",
       " 'random_state': 14,\n",
       " 'solver': 'lbfgs',\n",
       " 'tol': 0.0001,\n",
       " 'verbose': 0,\n",
       " 'warm_start': False}"
      ]
     },
     "execution_count": 13,
     "metadata": {},
     "output_type": "execute_result"
    }
   ],
   "source": [
    "lr.get_params()"
   ]
  },
  {
   "cell_type": "raw",
   "id": "40b67e77-03a7-437b-8f9d-93d00734d7df",
   "metadata": {},
   "source": [
    "# will use this sample space for performing a randomsearch on hyperparameters\n",
    "C_sample_space = pd.DataFrame(list(np.round(np.arange(0.01, 1, 0.01), 2)) + list(np.arange(1, 10, 1)))"
   ]
  },
  {
   "cell_type": "raw",
   "id": "87006381-c3ab-4c51-8659-d34d97f34842",
   "metadata": {},
   "source": [
    "# sampling and converting results to a list\n",
    "np.random.seed(14)\n",
    "C_vals = list(C_sample_space.sample(n=5)[0].values)"
   ]
  },
  {
   "cell_type": "code",
   "execution_count": 14,
   "id": "72d310cc-000b-46a2-b185-7fcd053f8b0e",
   "metadata": {},
   "outputs": [
    {
     "data": {
      "text/plain": [
       "GridSearchCV(estimator=LogisticRegression(max_iter=1000, random_state=14),\n",
       "             n_jobs=-1, param_grid={'C': [1, 5, 10]})"
      ]
     },
     "execution_count": 14,
     "metadata": {},
     "output_type": "execute_result"
    }
   ],
   "source": [
    "lr_gs = GridSearchCV(\n",
    "    LogisticRegression(max_iter=1_000, random_state=14),\n",
    "    param_grid={\n",
    "        'C': [1, 5, 10]\n",
    "    },\n",
    "    n_jobs=-1\n",
    ")\n",
    "lr_gs"
   ]
  },
  {
   "cell_type": "code",
   "execution_count": 15,
   "id": "1dee9a28-9951-4314-87a7-c0b54d800f14",
   "metadata": {
    "tags": []
   },
   "outputs": [
    {
     "name": "stdout",
     "output_type": "stream",
     "text": [
      "\n",
      "        Training Accuracy Score: 0.9983844911147012\n",
      "        Test Accuracy Score: 0.7366720516962844\n",
      "        \n",
      "        --- Performance on unseen data ----\n",
      "        Recall (Sensitivity): 0.35570469798657717\n",
      "        Specificity: 0.8574468085106383\n",
      "        Precision: 0.44166666666666665\n",
      "        \n",
      "        Balance Accuracy: 0.6065757532486077\n",
      "        F1 Score: 0.3940520446096654\n",
      "        \n"
     ]
    }
   ],
   "source": [
    "make_model(lr_gs, X_train_cvec, X_test_cvec, y_train_encoded, y_test_encoded)"
   ]
  },
  {
   "cell_type": "code",
   "execution_count": 17,
   "id": "b06d7808-cfdd-4b60-85f7-d033af542d26",
   "metadata": {},
   "outputs": [
    {
     "data": {
      "text/plain": [
       "{'C': 1}"
      ]
     },
     "execution_count": 17,
     "metadata": {},
     "output_type": "execute_result"
    }
   ],
   "source": [
    "lr_gs.best_params_"
   ]
  },
  {
   "cell_type": "markdown",
   "id": "e3d058ef-4221-41ea-bb6b-b6f79580211a",
   "metadata": {},
   "source": [
    "For some reason this is not working on 'saga' solver!!"
   ]
  },
  {
   "cell_type": "code",
   "execution_count": null,
   "id": "62ed5bf8-d528-4639-a6d6-ace335d24674",
   "metadata": {},
   "outputs": [],
   "source": [
    "lr_gs2 = GridSearchCV(\n",
    "    LogisticRegression(penalty='l1', max_iter=1_000, random_state=14, solver='saga'),\n",
    "    param_grid={\n",
    "        'C': [0.1, 0.5, 1]\n",
    "    },\n",
    "    n_jobs=-1\n",
    ")\n",
    "lr_gs2"
   ]
  },
  {
   "cell_type": "code",
   "execution_count": null,
   "id": "debf2d35-7c90-46dd-b458-a8ffe759fc50",
   "metadata": {
    "tags": []
   },
   "outputs": [],
   "source": [
    "#make_model(lr_gs2, X_train_cvec, X_test_cvec, y_train_encoded, y_test_encoded)"
   ]
  },
  {
   "cell_type": "markdown",
   "id": "4b9a0a54-6596-4f77-a664-cf390438ba29",
   "metadata": {},
   "source": [
    "### K-Nearest-Neighbors"
   ]
  },
  {
   "cell_type": "markdown",
   "id": "9376877b-a1ca-417c-9fbd-26df4d147786",
   "metadata": {},
   "source": [
    "Alisas: Kuzko"
   ]
  },
  {
   "cell_type": "code",
   "execution_count": 44,
   "id": "be24341e-4c60-451e-b0a3-ec385d9bbf79",
   "metadata": {},
   "outputs": [],
   "source": [
    "knn = KNeighborsClassifier(n_jobs=-1)"
   ]
  },
  {
   "cell_type": "code",
   "execution_count": 73,
   "id": "556e5b8f-43fb-43b7-82e6-8b46acc09e7e",
   "metadata": {},
   "outputs": [
    {
     "name": "stdout",
     "output_type": "stream",
     "text": [
      "\n",
      "        Training Accuracy Score: 0.8056004308023694\n",
      "        Test Accuracy Score: 0.7221324717285945\n",
      "        \n",
      "        --- Performance on unseen data ----\n",
      "        Recall (Sensitivity): 0.24161073825503357\n",
      "        Specificity: 0.874468085106383\n",
      "        Precision: 0.37894736842105264\n",
      "        \n",
      "        Balance Accuracy: 0.5580394116807083\n",
      "        F1 Score: 0.29508196721311475\n",
      "        \n"
     ]
    }
   ],
   "source": [
    "make_model(knn, X_train_cvec, X_test_cvec, y_train_encoded, y_test_encoded)"
   ]
  },
  {
   "cell_type": "markdown",
   "id": "fbb7a69e-5460-427a-aae1-c4862ab756d3",
   "metadata": {},
   "source": [
    "While the accuracy is better, the recall and precision score went down. This tells us that the model made more correct `r/LifeProTips` predictions, and more incorrect `r/lifehacks`. <br />\n",
    "Verdict: Worse than Kronk model."
   ]
  },
  {
   "cell_type": "code",
   "execution_count": 30,
   "id": "38ce3c88-a84a-4906-89f3-a09a7ef0ffc5",
   "metadata": {},
   "outputs": [
    {
     "data": {
      "text/plain": [
       "GridSearchCV(estimator=KNeighborsClassifier(n_jobs=-1), n_jobs=-1,\n",
       "             param_grid={'n_neighbors': [20, 25, 30, 35]})"
      ]
     },
     "execution_count": 30,
     "metadata": {},
     "output_type": "execute_result"
    }
   ],
   "source": [
    "knn_gs = GridSearchCV(\n",
    "    KNeighborsClassifier(n_jobs=-1),\n",
    "    param_grid={\n",
    "        'n_neighbors': [20, 25, 30, 35]\n",
    "    },\n",
    "    n_jobs=-1\n",
    ")\n",
    "knn_gs"
   ]
  },
  {
   "cell_type": "code",
   "execution_count": 31,
   "id": "84ac4505-5866-4402-b9b2-57d1ac2d7968",
   "metadata": {},
   "outputs": [
    {
     "name": "stdout",
     "output_type": "stream",
     "text": [
      "\n",
      "        Training Accuracy Score: 0.7587506731287023\n",
      "        Test Accuracy Score: 0.7576736672051696\n",
      "        \n",
      "        --- Performance on unseen data ----\n",
      "        Recall (Sensitivity): 0.006711409395973154\n",
      "        Specificity: 0.9957446808510638\n",
      "        Precision: 0.3333333333333333\n",
      "        \n",
      "        Balance Accuracy: 0.5012280451235185\n",
      "        F1 Score: 0.013157894736842106\n",
      "        \n"
     ]
    }
   ],
   "source": [
    "make_model(knn_gs, X_train_cvec, X_test_cvec, y_train_encoded, y_test_encoded)"
   ]
  },
  {
   "cell_type": "code",
   "execution_count": 32,
   "id": "028b9c77-6bbf-4223-9e79-82829bbf724a",
   "metadata": {},
   "outputs": [
    {
     "data": {
      "text/plain": [
       "{'n_neighbors': 30}"
      ]
     },
     "execution_count": 32,
     "metadata": {},
     "output_type": "execute_result"
    }
   ],
   "source": [
    "knn_gs.best_params_"
   ]
  },
  {
   "cell_type": "markdown",
   "id": "79252427-8637-4e76-9d52-16454e878cc6",
   "metadata": {},
   "source": [
    "### Bagging Classifier"
   ]
  },
  {
   "cell_type": "markdown",
   "id": "f9e1bda6-408a-44ea-bd43-a044563f3fb0",
   "metadata": {},
   "source": [
    "Alias: Yzma"
   ]
  },
  {
   "cell_type": "code",
   "execution_count": 59,
   "id": "78e71f59-27cc-493e-a9dd-0ac18961a9e1",
   "metadata": {},
   "outputs": [],
   "source": [
    "bc = BaggingClassifier(random_state=14, n_jobs=-1)"
   ]
  },
  {
   "cell_type": "code",
   "execution_count": 74,
   "id": "4bb6640c-d54d-44b4-ae33-752f681d17cc",
   "metadata": {},
   "outputs": [
    {
     "name": "stdout",
     "output_type": "stream",
     "text": [
      "\n",
      "        Training Accuracy Score: 0.975767366720517\n",
      "        Test Accuracy Score: 0.7625201938610663\n",
      "        \n",
      "        --- Performance on unseen data ----\n",
      "        Recall (Sensitivity): 0.1476510067114094\n",
      "        Specificity: 0.9574468085106383\n",
      "        Precision: 0.5238095238095238\n",
      "        \n",
      "        Balance Accuracy: 0.5525489076110239\n",
      "        F1 Score: 0.23036649214659685\n",
      "        \n"
     ]
    }
   ],
   "source": [
    "make_model(bc, X_train_cvec, X_test_cvec, y_train_encoded, y_test_encoded)"
   ]
  },
  {
   "cell_type": "markdown",
   "id": "975fd6f3-e379-4457-b350-bf000c037582",
   "metadata": {},
   "source": [
    "Looks like Yzma model is making less predictions of `r/lifehacks`; however, the few that it does predict, it's getting more of those correct, hence why our precision score has increased.\n",
    "Slight improvement over the Kuzko model."
   ]
  },
  {
   "cell_type": "code",
   "execution_count": 34,
   "id": "abd65891-fc5f-43fb-80ac-10f582cea8f5",
   "metadata": {},
   "outputs": [
    {
     "data": {
      "text/plain": [
       "GridSearchCV(estimator=BaggingClassifier(n_jobs=-1, random_state=14), n_jobs=-1,\n",
       "             param_grid={'bootstrap_features': [False, True],\n",
       "                         'n_estimators': [5, 10, 25, 50, 100]})"
      ]
     },
     "execution_count": 34,
     "metadata": {},
     "output_type": "execute_result"
    }
   ],
   "source": [
    "bc_gs = GridSearchCV(\n",
    "    BaggingClassifier(random_state=14, n_jobs=-1),\n",
    "    param_grid={\n",
    "        'n_estimators' : [5, 10, 25, 50, 100],\n",
    "        'bootstrap_features': [False, True]\n",
    "    },\n",
    "    n_jobs=-1\n",
    ")\n",
    "bc_gs"
   ]
  },
  {
   "cell_type": "code",
   "execution_count": 35,
   "id": "308b4692-0e6b-4147-9125-e536ad20550b",
   "metadata": {},
   "outputs": [
    {
     "name": "stdout",
     "output_type": "stream",
     "text": [
      "\n",
      "        Training Accuracy Score: 0.9983844911147012\n",
      "        Test Accuracy Score: 0.7625201938610663\n",
      "        \n",
      "        --- Performance on unseen data ----\n",
      "        Recall (Sensitivity): 0.1610738255033557\n",
      "        Specificity: 0.9531914893617022\n",
      "        Precision: 0.5217391304347826\n",
      "        \n",
      "        Balance Accuracy: 0.5571326574325289\n",
      "        F1 Score: 0.24615384615384617\n",
      "        \n"
     ]
    }
   ],
   "source": [
    "make_model(bc_gs, X_train_cvec, X_test_cvec, y_train_encoded, y_test_encoded)"
   ]
  },
  {
   "cell_type": "code",
   "execution_count": 36,
   "id": "b6079c1d-4d63-4fb0-b0af-d5803bdfe02d",
   "metadata": {},
   "outputs": [
    {
     "data": {
      "text/plain": [
       "{'bootstrap_features': False, 'n_estimators': 50}"
      ]
     },
     "execution_count": 36,
     "metadata": {},
     "output_type": "execute_result"
    }
   ],
   "source": [
    "bc_gs.best_params_"
   ]
  },
  {
   "cell_type": "markdown",
   "id": "47c67cb6-3462-4fac-b7c3-d14053f0c8d2",
   "metadata": {},
   "source": [
    "### Random Forests"
   ]
  },
  {
   "cell_type": "markdown",
   "id": "63171c7c-732c-40d1-83b3-45f5d428f3e7",
   "metadata": {},
   "source": [
    "Alias: Pacha"
   ]
  },
  {
   "cell_type": "code",
   "execution_count": 77,
   "id": "7e99b3e8-ecfd-46e4-94f1-edf479160336",
   "metadata": {},
   "outputs": [],
   "source": [
    "rf = RandomForestClassifier(random_state=14, n_jobs=-1)"
   ]
  },
  {
   "cell_type": "code",
   "execution_count": 78,
   "id": "fe872258-5795-4084-bc2c-3a2fa7e7b970",
   "metadata": {},
   "outputs": [
    {
     "name": "stdout",
     "output_type": "stream",
     "text": [
      "\n",
      "        Training Accuracy Score: 1.0\n",
      "        Test Accuracy Score: 0.7705977382875606\n",
      "        \n",
      "        --- Performance on unseen data ----\n",
      "        Recall (Sensitivity): 0.06711409395973154\n",
      "        Specificity: 0.9936170212765958\n",
      "        Precision: 0.7692307692307693\n",
      "        \n",
      "        Balance Accuracy: 0.5303655576181636\n",
      "        F1 Score: 0.12345679012345678\n",
      "        \n"
     ]
    }
   ],
   "source": [
    "make_model(rf, X_train_cvec, X_test_cvec, y_train_encoded, y_test_encoded)"
   ]
  },
  {
   "cell_type": "markdown",
   "id": "1acb1df8-b68d-42a9-a66e-2fa0e8279e10",
   "metadata": {},
   "source": [
    "Our recall has gone down significantly, which indicates very few predictions for `r/lifehacks` were made. The few predictions that were made about `r/lifehacks` were mostly correct, which is why we have a relatively high precision score.\n",
    "\n",
    "Making few predictoins for `r/lifehacks` is not ideal for us. Does not outperform Yzma model."
   ]
  },
  {
   "cell_type": "code",
   "execution_count": 38,
   "id": "08a082bd-9df0-44a1-bd24-4fdd85a7eb79",
   "metadata": {},
   "outputs": [
    {
     "data": {
      "text/plain": [
       "GridSearchCV(estimator=RandomForestClassifier(n_jobs=-1, random_state=14),\n",
       "             n_jobs=-1,\n",
       "             param_grid={'max_depth': [None, 5, 10, 15],\n",
       "                         'min_samples_split': [2, 3, 5],\n",
       "                         'n_estimators': [100, 150, 200]})"
      ]
     },
     "execution_count": 38,
     "metadata": {},
     "output_type": "execute_result"
    }
   ],
   "source": [
    "rf_gs = GridSearchCV(\n",
    "    RandomForestClassifier(random_state=14, n_jobs=-1),\n",
    "    param_grid={\n",
    "        'n_estimators': [100, 150, 200],\n",
    "        'max_depth': [None, 5, 10, 15],\n",
    "        'min_samples_split': [2, 3, 5]\n",
    "    },\n",
    "    n_jobs=-1\n",
    ")\n",
    "rf_gs"
   ]
  },
  {
   "cell_type": "code",
   "execution_count": 39,
   "id": "597b4f88-188e-4983-b533-07b37ffeea89",
   "metadata": {},
   "outputs": [
    {
     "name": "stdout",
     "output_type": "stream",
     "text": [
      "\n",
      "        Training Accuracy Score: 1.0\n",
      "        Test Accuracy Score: 0.7705977382875606\n",
      "        \n",
      "        --- Performance on unseen data ----\n",
      "        Recall (Sensitivity): 0.06711409395973154\n",
      "        Specificity: 0.9936170212765958\n",
      "        Precision: 0.7692307692307693\n",
      "        \n",
      "        Balance Accuracy: 0.5303655576181636\n",
      "        F1 Score: 0.12345679012345678\n",
      "        \n"
     ]
    }
   ],
   "source": [
    "make_model(rf_gs, X_train_cvec, X_test_cvec, y_train_encoded, y_test_encoded)"
   ]
  },
  {
   "cell_type": "code",
   "execution_count": 40,
   "id": "ac2fe223-6e4a-4d52-a5bd-44c86cccffb9",
   "metadata": {},
   "outputs": [
    {
     "data": {
      "text/plain": [
       "{'max_depth': None, 'min_samples_split': 2, 'n_estimators': 100}"
      ]
     },
     "execution_count": 40,
     "metadata": {},
     "output_type": "execute_result"
    }
   ],
   "source": [
    "rf_gs.best_params_"
   ]
  },
  {
   "cell_type": "code",
   "execution_count": 60,
   "id": "ed505776-06d4-4e93-a208-3a402a210fc5",
   "metadata": {},
   "outputs": [
    {
     "data": {
      "text/html": [
       "<div>\n",
       "<style scoped>\n",
       "    .dataframe tbody tr th:only-of-type {\n",
       "        vertical-align: middle;\n",
       "    }\n",
       "\n",
       "    .dataframe tbody tr th {\n",
       "        vertical-align: top;\n",
       "    }\n",
       "\n",
       "    .dataframe thead th {\n",
       "        text-align: right;\n",
       "    }\n",
       "</style>\n",
       "<table border=\"1\" class=\"dataframe\">\n",
       "  <thead>\n",
       "    <tr style=\"text-align: right;\">\n",
       "      <th></th>\n",
       "      <th>0</th>\n",
       "    </tr>\n",
       "  </thead>\n",
       "  <tbody>\n",
       "    <tr>\n",
       "      <th>hack</th>\n",
       "      <td>0.007384</td>\n",
       "    </tr>\n",
       "    <tr>\n",
       "      <th>you</th>\n",
       "      <td>0.006622</td>\n",
       "    </tr>\n",
       "    <tr>\n",
       "      <th>tried</th>\n",
       "      <td>0.004729</td>\n",
       "    </tr>\n",
       "    <tr>\n",
       "      <th>to</th>\n",
       "      <td>0.004566</td>\n",
       "    </tr>\n",
       "    <tr>\n",
       "      <th>https</th>\n",
       "      <td>0.004552</td>\n",
       "    </tr>\n",
       "    <tr>\n",
       "      <th>...</th>\n",
       "      <td>...</td>\n",
       "    </tr>\n",
       "    <tr>\n",
       "      <th>couldnt</th>\n",
       "      <td>0.000000</td>\n",
       "    </tr>\n",
       "    <tr>\n",
       "      <th>offhand</th>\n",
       "      <td>0.000000</td>\n",
       "    </tr>\n",
       "    <tr>\n",
       "      <th>counselors</th>\n",
       "      <td>0.000000</td>\n",
       "    </tr>\n",
       "    <tr>\n",
       "      <th>offensive</th>\n",
       "      <td>0.000000</td>\n",
       "    </tr>\n",
       "    <tr>\n",
       "      <th>餘生</th>\n",
       "      <td>0.000000</td>\n",
       "    </tr>\n",
       "  </tbody>\n",
       "</table>\n",
       "<p>12373 rows × 1 columns</p>\n",
       "</div>"
      ],
      "text/plain": [
       "                   0\n",
       "hack        0.007384\n",
       "you         0.006622\n",
       "tried       0.004729\n",
       "to          0.004566\n",
       "https       0.004552\n",
       "...              ...\n",
       "couldnt     0.000000\n",
       "offhand     0.000000\n",
       "counselors  0.000000\n",
       "offensive   0.000000\n",
       "餘生          0.000000\n",
       "\n",
       "[12373 rows x 1 columns]"
      ]
     },
     "execution_count": 60,
     "metadata": {},
     "output_type": "execute_result"
    }
   ],
   "source": [
    "pd.DataFrame(rf_gs.best_estimator_.feature_importances_, index=X_train_cvec.columns).sort_values(by=0, ascending=False)"
   ]
  },
  {
   "cell_type": "markdown",
   "id": "27f560e0-6efd-4b46-b53f-97e01f2f2bdb",
   "metadata": {},
   "source": [
    "### Extra Trees"
   ]
  },
  {
   "cell_type": "markdown",
   "id": "f012e15a-2d41-49f0-b7bf-e179e3d193a9",
   "metadata": {},
   "source": [
    "Alias: Chaca"
   ]
  },
  {
   "cell_type": "code",
   "execution_count": 81,
   "id": "6165d13a-ffdb-4a4c-bdd3-36e894450386",
   "metadata": {},
   "outputs": [],
   "source": [
    "et = ExtraTreesClassifier(random_state=14, n_jobs=-1)"
   ]
  },
  {
   "cell_type": "code",
   "execution_count": 82,
   "id": "75b90268-fdc4-45b9-a940-387669ef983e",
   "metadata": {},
   "outputs": [
    {
     "name": "stdout",
     "output_type": "stream",
     "text": [
      "\n",
      "        Training Accuracy Score: 1.0\n",
      "        Test Accuracy Score: 0.778675282714055\n",
      "        \n",
      "        --- Performance on unseen data ----\n",
      "        Recall (Sensitivity): 0.12080536912751678\n",
      "        Specificity: 0.9872340425531915\n",
      "        Precision: 0.75\n",
      "        \n",
      "        Balance Accuracy: 0.5540197058403541\n",
      "        F1 Score: 0.20809248554913296\n",
      "        \n"
     ]
    }
   ],
   "source": [
    "make_model(et, X_train_cvec, X_test_cvec, y_train_encoded, y_test_encoded)"
   ]
  },
  {
   "cell_type": "markdown",
   "id": "2b53042a-7bcb-4eed-8324-820b0e6ef144",
   "metadata": {},
   "source": [
    "Higher recall score than Pacha model (makes more `r/lifehacks` predictions) while maintaining essentially the same precision score (same correct/incorrect ratio predictions of `r/lifehacks`). This is a slight imporovement of the Pacha and Yzma model. "
   ]
  },
  {
   "cell_type": "code",
   "execution_count": 41,
   "id": "7c17de48-62f2-47d4-be75-effb6f66ac4a",
   "metadata": {},
   "outputs": [
    {
     "data": {
      "text/plain": [
       "GridSearchCV(estimator=ExtraTreesClassifier(n_jobs=-1, random_state=14),\n",
       "             param_grid={'max_depth': [None, 5, 10, 15],\n",
       "                         'min_samples_split': [2, 3, 5],\n",
       "                         'n_estimators': [100, 150, 200]})"
      ]
     },
     "execution_count": 41,
     "metadata": {},
     "output_type": "execute_result"
    }
   ],
   "source": [
    "et_gs = GridSearchCV(\n",
    "    ExtraTreesClassifier(random_state=14, n_jobs=-1),\n",
    "    param_grid={\n",
    "        'n_estimators': [100, 150, 200],\n",
    "        'max_depth': [None, 5, 10, 15],\n",
    "        'min_samples_split': [2, 3, 5]\n",
    "    },\n",
    "    n_jobs=-1\n",
    ")\n",
    "et_gs"
   ]
  },
  {
   "cell_type": "code",
   "execution_count": 42,
   "id": "61f1a7e7-da78-4ce6-9a9f-2a855523b123",
   "metadata": {},
   "outputs": [
    {
     "name": "stdout",
     "output_type": "stream",
     "text": [
      "\n",
      "        Training Accuracy Score: 1.0\n",
      "        Test Accuracy Score: 0.778675282714055\n",
      "        \n",
      "        --- Performance on unseen data ----\n",
      "        Recall (Sensitivity): 0.12080536912751678\n",
      "        Specificity: 0.9872340425531915\n",
      "        Precision: 0.75\n",
      "        \n",
      "        Balance Accuracy: 0.5540197058403541\n",
      "        F1 Score: 0.20809248554913296\n",
      "        \n"
     ]
    }
   ],
   "source": [
    "make_model(et_gs, X_train_cvec, X_test_cvec, y_train_encoded, y_test_encoded)"
   ]
  },
  {
   "cell_type": "code",
   "execution_count": 61,
   "id": "d3924427-e0de-4275-b37d-a836d4942245",
   "metadata": {},
   "outputs": [
    {
     "data": {
      "text/html": [
       "<div>\n",
       "<style scoped>\n",
       "    .dataframe tbody tr th:only-of-type {\n",
       "        vertical-align: middle;\n",
       "    }\n",
       "\n",
       "    .dataframe tbody tr th {\n",
       "        vertical-align: top;\n",
       "    }\n",
       "\n",
       "    .dataframe thead th {\n",
       "        text-align: right;\n",
       "    }\n",
       "</style>\n",
       "<table border=\"1\" class=\"dataframe\">\n",
       "  <thead>\n",
       "    <tr style=\"text-align: right;\">\n",
       "      <th></th>\n",
       "      <th>0</th>\n",
       "    </tr>\n",
       "  </thead>\n",
       "  <tbody>\n",
       "    <tr>\n",
       "      <th>hack</th>\n",
       "      <td>0.008882</td>\n",
       "    </tr>\n",
       "    <tr>\n",
       "      <th>hacks</th>\n",
       "      <td>0.005128</td>\n",
       "    </tr>\n",
       "    <tr>\n",
       "      <th>tried</th>\n",
       "      <td>0.004048</td>\n",
       "    </tr>\n",
       "    <tr>\n",
       "      <th>tips</th>\n",
       "      <td>0.003809</td>\n",
       "    </tr>\n",
       "    <tr>\n",
       "      <th>you</th>\n",
       "      <td>0.003743</td>\n",
       "    </tr>\n",
       "    <tr>\n",
       "      <th>...</th>\n",
       "      <td>...</td>\n",
       "    </tr>\n",
       "    <tr>\n",
       "      <th>cosmic</th>\n",
       "      <td>0.000000</td>\n",
       "    </tr>\n",
       "    <tr>\n",
       "      <th>costco</th>\n",
       "      <td>0.000000</td>\n",
       "    </tr>\n",
       "    <tr>\n",
       "      <th>costing</th>\n",
       "      <td>0.000000</td>\n",
       "    </tr>\n",
       "    <tr>\n",
       "      <th>proxy</th>\n",
       "      <td>0.000000</td>\n",
       "    </tr>\n",
       "    <tr>\n",
       "      <th>greeted</th>\n",
       "      <td>0.000000</td>\n",
       "    </tr>\n",
       "  </tbody>\n",
       "</table>\n",
       "<p>12373 rows × 1 columns</p>\n",
       "</div>"
      ],
      "text/plain": [
       "                0\n",
       "hack     0.008882\n",
       "hacks    0.005128\n",
       "tried    0.004048\n",
       "tips     0.003809\n",
       "you      0.003743\n",
       "...           ...\n",
       "cosmic   0.000000\n",
       "costco   0.000000\n",
       "costing  0.000000\n",
       "proxy    0.000000\n",
       "greeted  0.000000\n",
       "\n",
       "[12373 rows x 1 columns]"
      ]
     },
     "execution_count": 61,
     "metadata": {},
     "output_type": "execute_result"
    }
   ],
   "source": [
    "pd.DataFrame(et_gs.best_estimator_.feature_importances_, index=X_train_cvec.columns).sort_values(by=0, ascending=False)"
   ]
  },
  {
   "cell_type": "markdown",
   "id": "f8bad457-6bde-44d6-a88c-8b2b310eaeb1",
   "metadata": {},
   "source": [
    "### Ada Boost Classifier"
   ]
  },
  {
   "cell_type": "markdown",
   "id": "323021c8-d15e-46c4-be92-5feef3b069a8",
   "metadata": {},
   "source": [
    "Alias: Tipo"
   ]
  },
  {
   "cell_type": "code",
   "execution_count": 85,
   "id": "94d804b9-63fd-4d8e-8b6f-f5ddc024f226",
   "metadata": {},
   "outputs": [],
   "source": [
    "abc = AdaBoostClassifier(random_state=14)"
   ]
  },
  {
   "cell_type": "code",
   "execution_count": 86,
   "id": "4953d818-d6dd-4646-855b-b1f5e157c46a",
   "metadata": {},
   "outputs": [
    {
     "name": "stdout",
     "output_type": "stream",
     "text": [
      "\n",
      "        Training Accuracy Score: 0.8136779752288638\n",
      "        Test Accuracy Score: 0.7576736672051696\n",
      "        \n",
      "        --- Performance on unseen data ----\n",
      "        Recall (Sensitivity): 0.28859060402684567\n",
      "        Specificity: 0.9063829787234042\n",
      "        Precision: 0.4942528735632184\n",
      "        \n",
      "        Balance Accuracy: 0.597486791375125\n",
      "        F1 Score: 0.3644067796610169\n",
      "        \n"
     ]
    }
   ],
   "source": [
    "make_model(abc, X_train_cvec, X_test_cvec, y_train_encoded, y_test_encoded)"
   ]
  },
  {
   "cell_type": "markdown",
   "id": "2b306e7e-0e14-4861-91af-dcbf757543ce",
   "metadata": {},
   "source": [
    "It appears more predictions were made for `r/lifehacks` (higher recall score) but the amount of correct predictions went down (lower precision score). Our F1 score is only second to the Kronk model."
   ]
  },
  {
   "cell_type": "code",
   "execution_count": 44,
   "id": "22659c17-8d43-4110-9802-3d8b7f369e27",
   "metadata": {},
   "outputs": [
    {
     "data": {
      "text/plain": [
       "GridSearchCV(estimator=AdaBoostClassifier(random_state=14), n_jobs=-1,\n",
       "             param_grid={'n_estimators': [100, 150, 200, 250]})"
      ]
     },
     "execution_count": 44,
     "metadata": {},
     "output_type": "execute_result"
    }
   ],
   "source": [
    "abc_gs = GridSearchCV(\n",
    "    AdaBoostClassifier(random_state=14),\n",
    "    param_grid={\n",
    "        'n_estimators': [100, 150, 200, 250]\n",
    "    },\n",
    "    n_jobs=-1\n",
    ")\n",
    "abc_gs"
   ]
  },
  {
   "cell_type": "code",
   "execution_count": 45,
   "id": "984859c2-a943-4dac-a8cc-dc8f59c60a0a",
   "metadata": {},
   "outputs": [
    {
     "name": "stdout",
     "output_type": "stream",
     "text": [
      "\n",
      "        Training Accuracy Score: 0.8933764135702746\n",
      "        Test Accuracy Score: 0.7447495961227787\n",
      "        \n",
      "        --- Performance on unseen data ----\n",
      "        Recall (Sensitivity): 0.30201342281879195\n",
      "        Specificity: 0.8851063829787233\n",
      "        Precision: 0.45454545454545453\n",
      "        \n",
      "        Balance Accuracy: 0.5935599028987577\n",
      "        F1 Score: 0.3629032258064516\n",
      "        \n"
     ]
    }
   ],
   "source": [
    "make_model(abc_gs, X_train_cvec, X_test_cvec, y_train_encoded, y_test_encoded)"
   ]
  },
  {
   "cell_type": "code",
   "execution_count": 46,
   "id": "bc75cb23-6ee5-42ba-90e9-9b97aa26612d",
   "metadata": {},
   "outputs": [
    {
     "data": {
      "text/plain": [
       "{'n_estimators': 150}"
      ]
     },
     "execution_count": 46,
     "metadata": {},
     "output_type": "execute_result"
    }
   ],
   "source": [
    "abc_gs.best_params_"
   ]
  },
  {
   "cell_type": "code",
   "execution_count": 62,
   "id": "e83371ad-e971-4304-9975-e14c8cf44ee4",
   "metadata": {},
   "outputs": [
    {
     "data": {
      "text/html": [
       "<div>\n",
       "<style scoped>\n",
       "    .dataframe tbody tr th:only-of-type {\n",
       "        vertical-align: middle;\n",
       "    }\n",
       "\n",
       "    .dataframe tbody tr th {\n",
       "        vertical-align: top;\n",
       "    }\n",
       "\n",
       "    .dataframe thead th {\n",
       "        text-align: right;\n",
       "    }\n",
       "</style>\n",
       "<table border=\"1\" class=\"dataframe\">\n",
       "  <thead>\n",
       "    <tr style=\"text-align: right;\">\n",
       "      <th></th>\n",
       "      <th>0</th>\n",
       "    </tr>\n",
       "  </thead>\n",
       "  <tbody>\n",
       "    <tr>\n",
       "      <th>at</th>\n",
       "      <td>0.020000</td>\n",
       "    </tr>\n",
       "    <tr>\n",
       "      <th>often</th>\n",
       "      <td>0.013333</td>\n",
       "    </tr>\n",
       "    <tr>\n",
       "      <th>tips</th>\n",
       "      <td>0.013333</td>\n",
       "    </tr>\n",
       "    <tr>\n",
       "      <th>time</th>\n",
       "      <td>0.013333</td>\n",
       "    </tr>\n",
       "    <tr>\n",
       "      <th>be</th>\n",
       "      <td>0.013333</td>\n",
       "    </tr>\n",
       "    <tr>\n",
       "      <th>...</th>\n",
       "      <td>...</td>\n",
       "    </tr>\n",
       "    <tr>\n",
       "      <th>eyeball</th>\n",
       "      <td>0.000000</td>\n",
       "    </tr>\n",
       "    <tr>\n",
       "      <th>eyebrow</th>\n",
       "      <td>0.000000</td>\n",
       "    </tr>\n",
       "    <tr>\n",
       "      <th>eyeglasses</th>\n",
       "      <td>0.000000</td>\n",
       "    </tr>\n",
       "    <tr>\n",
       "      <th>eyeing</th>\n",
       "      <td>0.000000</td>\n",
       "    </tr>\n",
       "    <tr>\n",
       "      <th>餘生</th>\n",
       "      <td>0.000000</td>\n",
       "    </tr>\n",
       "  </tbody>\n",
       "</table>\n",
       "<p>12373 rows × 1 columns</p>\n",
       "</div>"
      ],
      "text/plain": [
       "                   0\n",
       "at          0.020000\n",
       "often       0.013333\n",
       "tips        0.013333\n",
       "time        0.013333\n",
       "be          0.013333\n",
       "...              ...\n",
       "eyeball     0.000000\n",
       "eyebrow     0.000000\n",
       "eyeglasses  0.000000\n",
       "eyeing      0.000000\n",
       "餘生          0.000000\n",
       "\n",
       "[12373 rows x 1 columns]"
      ]
     },
     "execution_count": 62,
     "metadata": {},
     "output_type": "execute_result"
    }
   ],
   "source": [
    "pd.DataFrame(abc_gs.best_estimator_.feature_importances_, index=X_train_cvec.columns).sort_values(by=0, ascending=False)"
   ]
  },
  {
   "cell_type": "markdown",
   "id": "21b9d83f-d37d-4636-9f5e-ed4dbc64e8af",
   "metadata": {},
   "source": [
    "-----"
   ]
  },
  {
   "cell_type": "markdown",
   "id": "1b797887-4ab9-4ea6-88da-18c57a43acb4",
   "metadata": {},
   "source": [
    "Now that we have found the best estimators in our gridsearches, let's ensemble all our models for the best possible classifications."
   ]
  },
  {
   "cell_type": "code",
   "execution_count": 236,
   "id": "84ade87d-bec7-4542-861d-2a1de705a4b2",
   "metadata": {},
   "outputs": [
    {
     "data": {
      "text/plain": [
       "VotingClassifier(estimators=[LogisticRegression(C=1, max_iter=1000,\n",
       "                                                random_state=14),\n",
       "                             KNeighborsClassifier(n_jobs=-1, n_neighbors=30),\n",
       "                             BaggingClassifier(n_estimators=50, n_jobs=-1,\n",
       "                                               random_state=14),\n",
       "                             RandomForestClassifier(n_jobs=-1, random_state=14),\n",
       "                             ExtraTreesClassifier(n_jobs=-1, random_state=14),\n",
       "                             AdaBoostClassifier(n_estimators=150,\n",
       "                                                random_state=14)],\n",
       "                 n_jobs=-1)"
      ]
     },
     "execution_count": 236,
     "metadata": {},
     "output_type": "execute_result"
    }
   ],
   "source": [
    "vr = VotingClassifier(\n",
    "    [\n",
    "        (lr_gs.best_estimator_),\n",
    "        (knn_gs.best_estimator_),\n",
    "        (bc_gs.best_estimator_),\n",
    "        (rf_gs.best_estimator_),\n",
    "        (et_gs.best_estimator_),\n",
    "        (abc_gs.best_estimator_)\n",
    "    ],\n",
    "    n_jobs=-1\n",
    ")\n",
    "vr"
   ]
  },
  {
   "cell_type": "code",
   "execution_count": null,
   "id": "ff913962-64f4-4ea8-846d-5e5c136aa393",
   "metadata": {},
   "outputs": [],
   "source": [
    "make_model(vr, X_train_cvec, X_test_cvec, y_train_encoded, y_test_encoded)"
   ]
  },
  {
   "cell_type": "raw",
   "id": "8a0c6edd-e84e-4019-bd48-b409d6026906",
   "metadata": {},
   "source": [
    "# saving train test splits for next notebook\n",
    "stored_data['X_train_cvec'] = X_train_cvec\n",
    "stored_data['X_test_cvec'] = X_test_cvec\n",
    "\n",
    "stored_data['y_train_encoded'] = y_train_encoded\n",
    "stored_data['y_test_encoded'] = y_test_encoded"
   ]
  },
  {
   "cell_type": "raw",
   "id": "72c2fa77-4c86-4874-8545-c3ebf759bf71",
   "metadata": {},
   "source": [
    "%store stored_data\n",
    "del stored_data"
   ]
  }
 ],
 "metadata": {
  "kernelspec": {
   "display_name": "Python 3 (ipykernel)",
   "language": "python",
   "name": "python3"
  },
  "language_info": {
   "codemirror_mode": {
    "name": "ipython",
    "version": 3
   },
   "file_extension": ".py",
   "mimetype": "text/x-python",
   "name": "python",
   "nbconvert_exporter": "python",
   "pygments_lexer": "ipython3",
   "version": "3.9.7"
  }
 },
 "nbformat": 4,
 "nbformat_minor": 5
}
