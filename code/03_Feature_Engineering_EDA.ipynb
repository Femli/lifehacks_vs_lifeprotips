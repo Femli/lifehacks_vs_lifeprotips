{
 "cells": [
  {
   "cell_type": "markdown",
   "id": "7aa52892-c9ff-4c24-a225-418933e79930",
   "metadata": {},
   "source": [
    "### Imports"
   ]
  },
  {
   "cell_type": "code",
   "execution_count": 1,
   "id": "2ed60d12-3bf6-43f4-8c2a-d430f186a99a",
   "metadata": {},
   "outputs": [],
   "source": [
    "import pandas as pd\n",
    "import numpy as np\n",
    "import matplotlib.pyplot as plt\n",
    "import seaborn as sns\n",
    "\n",
    "## preprocessing\n",
    "from sklearn.model_selection import train_test_split\n",
    "from sklearn.preprocessing import LabelEncoder\n",
    "\n",
    "## preprocessing - NLP\n",
    "from sklearn.feature_extraction.text import CountVectorizer, TfidfVectorizer\n",
    "from nltk import word_tokenize\n",
    "from nltk.stem import WordNetLemmatizer\n",
    "\n",
    "## workflow\n",
    "from sklearn.pipeline import Pipeline\n",
    "from sklearn.compose import ColumnTransformer\n",
    "from sklearn.model_selection import GridSearchCV\n",
    "\n",
    "## models\n",
    "from sklearn.dummy import DummyClassifier\n",
    "from sklearn.linear_model import LogisticRegression\n",
    "from sklearn.neighbors import KNeighborsClassifier\n",
    "\n",
    "## metrics\n",
    "from sklearn.metrics import accuracy_score, balanced_accuracy_score, recall_score, precision_score, f1_score, confusion_matrix"
   ]
  },
  {
   "cell_type": "code",
   "execution_count": 2,
   "id": "c80b62c4-6aa4-4213-8294-74fd555fb442",
   "metadata": {},
   "outputs": [],
   "source": [
    "%run 00_Workflow_Functions.ipynb import na_only"
   ]
  },
  {
   "cell_type": "code",
   "execution_count": 3,
   "id": "1a66c32a-5635-4c35-abfd-9725514a4fcf",
   "metadata": {},
   "outputs": [],
   "source": [
    "# recovering train and test data\n",
    "%store -r stored_data"
   ]
  },
  {
   "cell_type": "code",
   "execution_count": 4,
   "id": "2e433310-54c1-473d-90bd-2b1422903a64",
   "metadata": {},
   "outputs": [],
   "source": [
    "X_train = stored_data['X_train']\n",
    "X_test = stored_data['X_test']\n",
    "\n",
    "y_train_encoded = stored_data['y_train_encoded']\n",
    "y_test_encoded = stored_data['y_test_encoded']"
   ]
  },
  {
   "cell_type": "markdown",
   "id": "b7accb47-e726-4c2b-bbd3-d0c8cc2b7b7c",
   "metadata": {},
   "source": [
    "### Vectorizing Data"
   ]
  },
  {
   "cell_type": "markdown",
   "id": "bdb7631c-9e87-40a9-bbb4-3872abbcf063",
   "metadata": {},
   "source": [
    "For our first model iteration, we will do a simple vectorization of text data. We will then evaluate our model performance and further engineer our text features."
   ]
  },
  {
   "cell_type": "code",
   "execution_count": 5,
   "id": "3ac12ad9-0439-4c83-a97a-043d98bb3042",
   "metadata": {},
   "outputs": [],
   "source": [
    "cvec = CountVectorizer()"
   ]
  },
  {
   "cell_type": "code",
   "execution_count": 6,
   "id": "9e912de4-d671-4133-92fc-83c387d70326",
   "metadata": {},
   "outputs": [
    {
     "data": {
      "text/plain": [
       "array([[0, 0, 0, ..., 0, 0, 0],\n",
       "       [0, 0, 0, ..., 0, 0, 0],\n",
       "       [0, 0, 0, ..., 0, 0, 0],\n",
       "       ...,\n",
       "       [0, 0, 0, ..., 0, 0, 0],\n",
       "       [0, 0, 0, ..., 0, 0, 0],\n",
       "       [0, 0, 0, ..., 0, 0, 0]], dtype=int64)"
      ]
     },
     "execution_count": 6,
     "metadata": {},
     "output_type": "execute_result"
    }
   ],
   "source": [
    "cvec.fit_transform(X_train).A"
   ]
  },
  {
   "cell_type": "code",
   "execution_count": 8,
   "id": "60418fdc-49eb-435e-899a-976e6b132fd1",
   "metadata": {},
   "outputs": [
    {
     "data": {
      "text/html": [
       "<div>\n",
       "<style scoped>\n",
       "    .dataframe tbody tr th:only-of-type {\n",
       "        vertical-align: middle;\n",
       "    }\n",
       "\n",
       "    .dataframe tbody tr th {\n",
       "        vertical-align: top;\n",
       "    }\n",
       "\n",
       "    .dataframe thead th {\n",
       "        text-align: right;\n",
       "    }\n",
       "</style>\n",
       "<table border=\"1\" class=\"dataframe\">\n",
       "  <thead>\n",
       "    <tr style=\"text-align: right;\">\n",
       "      <th></th>\n",
       "      <th>00</th>\n",
       "      <th>000</th>\n",
       "      <th>00001</th>\n",
       "      <th>026_007_plumb_repair</th>\n",
       "      <th>03</th>\n",
       "      <th>03am</th>\n",
       "      <th>04</th>\n",
       "      <th>054fd209</th>\n",
       "      <th>08</th>\n",
       "      <th>087</th>\n",
       "      <th>...</th>\n",
       "      <th>還是因為距離</th>\n",
       "      <th>還會陷入愛情嗎</th>\n",
       "      <th>那些懵懂而青澀的過往</th>\n",
       "      <th>那些沒有結果的感情</th>\n",
       "      <th>那個你本以為忘記的人</th>\n",
       "      <th>都成眷屬</th>\n",
       "      <th>都會實現</th>\n",
       "      <th>都會結果</th>\n",
       "      <th>都有可能改變你的生活</th>\n",
       "      <th>餘生</th>\n",
       "    </tr>\n",
       "  </thead>\n",
       "  <tbody>\n",
       "    <tr>\n",
       "      <th>0</th>\n",
       "      <td>0</td>\n",
       "      <td>0</td>\n",
       "      <td>0</td>\n",
       "      <td>0</td>\n",
       "      <td>0</td>\n",
       "      <td>0</td>\n",
       "      <td>0</td>\n",
       "      <td>0</td>\n",
       "      <td>0</td>\n",
       "      <td>0</td>\n",
       "      <td>...</td>\n",
       "      <td>0</td>\n",
       "      <td>0</td>\n",
       "      <td>0</td>\n",
       "      <td>0</td>\n",
       "      <td>0</td>\n",
       "      <td>0</td>\n",
       "      <td>0</td>\n",
       "      <td>0</td>\n",
       "      <td>0</td>\n",
       "      <td>0</td>\n",
       "    </tr>\n",
       "    <tr>\n",
       "      <th>1</th>\n",
       "      <td>0</td>\n",
       "      <td>0</td>\n",
       "      <td>0</td>\n",
       "      <td>0</td>\n",
       "      <td>0</td>\n",
       "      <td>0</td>\n",
       "      <td>0</td>\n",
       "      <td>0</td>\n",
       "      <td>0</td>\n",
       "      <td>0</td>\n",
       "      <td>...</td>\n",
       "      <td>0</td>\n",
       "      <td>0</td>\n",
       "      <td>0</td>\n",
       "      <td>0</td>\n",
       "      <td>0</td>\n",
       "      <td>0</td>\n",
       "      <td>0</td>\n",
       "      <td>0</td>\n",
       "      <td>0</td>\n",
       "      <td>0</td>\n",
       "    </tr>\n",
       "    <tr>\n",
       "      <th>2</th>\n",
       "      <td>0</td>\n",
       "      <td>0</td>\n",
       "      <td>0</td>\n",
       "      <td>0</td>\n",
       "      <td>0</td>\n",
       "      <td>0</td>\n",
       "      <td>0</td>\n",
       "      <td>0</td>\n",
       "      <td>0</td>\n",
       "      <td>0</td>\n",
       "      <td>...</td>\n",
       "      <td>0</td>\n",
       "      <td>0</td>\n",
       "      <td>0</td>\n",
       "      <td>0</td>\n",
       "      <td>0</td>\n",
       "      <td>0</td>\n",
       "      <td>0</td>\n",
       "      <td>0</td>\n",
       "      <td>0</td>\n",
       "      <td>0</td>\n",
       "    </tr>\n",
       "    <tr>\n",
       "      <th>3</th>\n",
       "      <td>0</td>\n",
       "      <td>0</td>\n",
       "      <td>0</td>\n",
       "      <td>0</td>\n",
       "      <td>0</td>\n",
       "      <td>0</td>\n",
       "      <td>0</td>\n",
       "      <td>0</td>\n",
       "      <td>0</td>\n",
       "      <td>0</td>\n",
       "      <td>...</td>\n",
       "      <td>0</td>\n",
       "      <td>0</td>\n",
       "      <td>0</td>\n",
       "      <td>0</td>\n",
       "      <td>0</td>\n",
       "      <td>0</td>\n",
       "      <td>0</td>\n",
       "      <td>0</td>\n",
       "      <td>0</td>\n",
       "      <td>0</td>\n",
       "    </tr>\n",
       "    <tr>\n",
       "      <th>4</th>\n",
       "      <td>0</td>\n",
       "      <td>0</td>\n",
       "      <td>0</td>\n",
       "      <td>0</td>\n",
       "      <td>0</td>\n",
       "      <td>0</td>\n",
       "      <td>0</td>\n",
       "      <td>0</td>\n",
       "      <td>0</td>\n",
       "      <td>0</td>\n",
       "      <td>...</td>\n",
       "      <td>0</td>\n",
       "      <td>0</td>\n",
       "      <td>0</td>\n",
       "      <td>0</td>\n",
       "      <td>0</td>\n",
       "      <td>0</td>\n",
       "      <td>0</td>\n",
       "      <td>0</td>\n",
       "      <td>0</td>\n",
       "      <td>0</td>\n",
       "    </tr>\n",
       "  </tbody>\n",
       "</table>\n",
       "<p>5 rows × 12373 columns</p>\n",
       "</div>"
      ],
      "text/plain": [
       "   00  000  00001  026_007_plumb_repair  03  03am  04  054fd209  08  087  ...  \\\n",
       "0   0    0      0                     0   0     0   0         0   0    0  ...   \n",
       "1   0    0      0                     0   0     0   0         0   0    0  ...   \n",
       "2   0    0      0                     0   0     0   0         0   0    0  ...   \n",
       "3   0    0      0                     0   0     0   0         0   0    0  ...   \n",
       "4   0    0      0                     0   0     0   0         0   0    0  ...   \n",
       "\n",
       "   還是因為距離  還會陷入愛情嗎  那些懵懂而青澀的過往  那些沒有結果的感情  那個你本以為忘記的人  都成眷屬  都會實現  都會結果  \\\n",
       "0       0        0           0          0           0     0     0     0   \n",
       "1       0        0           0          0           0     0     0     0   \n",
       "2       0        0           0          0           0     0     0     0   \n",
       "3       0        0           0          0           0     0     0     0   \n",
       "4       0        0           0          0           0     0     0     0   \n",
       "\n",
       "   都有可能改變你的生活  餘生  \n",
       "0           0   0  \n",
       "1           0   0  \n",
       "2           0   0  \n",
       "3           0   0  \n",
       "4           0   0  \n",
       "\n",
       "[5 rows x 12373 columns]"
      ]
     },
     "execution_count": 8,
     "metadata": {},
     "output_type": "execute_result"
    }
   ],
   "source": [
    "X_train_cvec = pd.DataFrame(cvec.fit_transform(X_train).A, columns=cvec.get_feature_names_out())\n",
    "X_test_cvec = pd.DataFrame(cvec.transform(X_test).A, columns=cvec.get_feature_names_out())\n",
    "X_train_cvec.head(5)"
   ]
  },
  {
   "cell_type": "code",
   "execution_count": 10,
   "id": "76a0310b-463d-4fd9-b0bf-a7af0f7ddcec",
   "metadata": {},
   "outputs": [
    {
     "name": "stdout",
     "output_type": "stream",
     "text": [
      "(1857, 12373) (619, 12373)\n"
     ]
    }
   ],
   "source": [
    "print(X_train_cvec.shape, X_test_cvec.shape)"
   ]
  },
  {
   "cell_type": "markdown",
   "id": "0affc9a1-813b-48de-9ceb-44529d057e91",
   "metadata": {},
   "source": [
    "Both train and test splits have been successfully vectorized."
   ]
  },
  {
   "cell_type": "code",
   "execution_count": null,
   "id": "24a2ca0d-6864-4452-8cd1-b6130b4f72f9",
   "metadata": {},
   "outputs": [],
   "source": []
  }
 ],
 "metadata": {
  "kernelspec": {
   "display_name": "Python 3 (ipykernel)",
   "language": "python",
   "name": "python3"
  },
  "language_info": {
   "codemirror_mode": {
    "name": "ipython",
    "version": 3
   },
   "file_extension": ".py",
   "mimetype": "text/x-python",
   "name": "python",
   "nbconvert_exporter": "python",
   "pygments_lexer": "ipython3",
   "version": "3.9.7"
  }
 },
 "nbformat": 4,
 "nbformat_minor": 5
}
