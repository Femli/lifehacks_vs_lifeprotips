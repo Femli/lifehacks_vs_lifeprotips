{
 "cells": [
  {
   "cell_type": "markdown",
   "id": "7aa52892-c9ff-4c24-a225-418933e79930",
   "metadata": {},
   "source": [
    "### Imports"
   ]
  },
  {
   "cell_type": "code",
   "execution_count": 520,
   "id": "2ed60d12-3bf6-43f4-8c2a-d430f186a99a",
   "metadata": {},
   "outputs": [],
   "source": [
    "import pandas as pd\n",
    "import numpy as np\n",
    "import matplotlib.pyplot as plt\n",
    "import seaborn as sns\n",
    "\n",
    "## preprocessing - NLP\n",
    "from sklearn.feature_extraction.text import CountVectorizer, TfidfVectorizer\n",
    "from nltk import word_tokenize\n",
    "from nltk.stem import WordNetLemmatizer\n",
    "\n",
    "## workflow\n",
    "from sklearn.model_selection import GridSearchCV, RandomizedSearchCV\n",
    "\n",
    "## models\n",
    "from sklearn.dummy import DummyClassifier\n",
    "from sklearn.linear_model import LogisticRegression\n",
    "from sklearn.neighbors import KNeighborsClassifier\n",
    "from sklearn.ensemble import BaggingClassifier, RandomForestClassifier, ExtraTreesClassifier, AdaBoostClassifier, VotingClassifier\n",
    "\n",
    "## metrics\n",
    "from sklearn.metrics import (accuracy_score, balanced_accuracy_score, recall_score, precision_score, f1_score, confusion_matrix, \n",
    "                            ConfusionMatrixDisplay, plot_roc_curve, roc_auc_score, classification_report, RocCurveDisplay)"
   ]
  },
  {
   "cell_type": "code",
   "execution_count": 2,
   "id": "c80b62c4-6aa4-4213-8294-74fd555fb442",
   "metadata": {},
   "outputs": [],
   "source": [
    "%run 00_Workflow_Functions.ipynb import na_only, make_model"
   ]
  },
  {
   "cell_type": "code",
   "execution_count": 3,
   "id": "1a66c32a-5635-4c35-abfd-9725514a4fcf",
   "metadata": {},
   "outputs": [],
   "source": [
    "# recovering train and test data\n",
    "%store -r stored_data"
   ]
  },
  {
   "cell_type": "code",
   "execution_count": 4,
   "id": "2e433310-54c1-473d-90bd-2b1422903a64",
   "metadata": {},
   "outputs": [],
   "source": [
    "X_train = stored_data['X_train']\n",
    "X_test = stored_data['X_test']\n",
    "\n",
    "y_train_encoded = stored_data['y_train_encoded']\n",
    "y_test_encoded = stored_data['y_test_encoded']"
   ]
  },
  {
   "cell_type": "markdown",
   "id": "b7accb47-e726-4c2b-bbd3-d0c8cc2b7b7c",
   "metadata": {},
   "source": [
    "### Vectorizing Data"
   ]
  },
  {
   "cell_type": "markdown",
   "id": "bdb7631c-9e87-40a9-bbb4-3872abbcf063",
   "metadata": {},
   "source": [
    "For our first model iteration, we will do a simple vectorization of text data. We will then evaluate our model performance and further engineer our text features."
   ]
  },
  {
   "cell_type": "code",
   "execution_count": 5,
   "id": "3ac12ad9-0439-4c83-a97a-043d98bb3042",
   "metadata": {},
   "outputs": [],
   "source": [
    "cvec = CountVectorizer()"
   ]
  },
  {
   "cell_type": "code",
   "execution_count": 6,
   "id": "60418fdc-49eb-435e-899a-976e6b132fd1",
   "metadata": {},
   "outputs": [
    {
     "data": {
      "text/html": [
       "<div>\n",
       "<style scoped>\n",
       "    .dataframe tbody tr th:only-of-type {\n",
       "        vertical-align: middle;\n",
       "    }\n",
       "\n",
       "    .dataframe tbody tr th {\n",
       "        vertical-align: top;\n",
       "    }\n",
       "\n",
       "    .dataframe thead th {\n",
       "        text-align: right;\n",
       "    }\n",
       "</style>\n",
       "<table border=\"1\" class=\"dataframe\">\n",
       "  <thead>\n",
       "    <tr style=\"text-align: right;\">\n",
       "      <th></th>\n",
       "      <th>00</th>\n",
       "      <th>000</th>\n",
       "      <th>00001</th>\n",
       "      <th>026_007_plumb_repair</th>\n",
       "      <th>03</th>\n",
       "      <th>03am</th>\n",
       "      <th>04</th>\n",
       "      <th>054fd209</th>\n",
       "      <th>08</th>\n",
       "      <th>087</th>\n",
       "      <th>...</th>\n",
       "      <th>還是因為距離</th>\n",
       "      <th>還會陷入愛情嗎</th>\n",
       "      <th>那些懵懂而青澀的過往</th>\n",
       "      <th>那些沒有結果的感情</th>\n",
       "      <th>那個你本以為忘記的人</th>\n",
       "      <th>都成眷屬</th>\n",
       "      <th>都會實現</th>\n",
       "      <th>都會結果</th>\n",
       "      <th>都有可能改變你的生活</th>\n",
       "      <th>餘生</th>\n",
       "    </tr>\n",
       "  </thead>\n",
       "  <tbody>\n",
       "    <tr>\n",
       "      <th>0</th>\n",
       "      <td>0</td>\n",
       "      <td>0</td>\n",
       "      <td>0</td>\n",
       "      <td>0</td>\n",
       "      <td>0</td>\n",
       "      <td>0</td>\n",
       "      <td>0</td>\n",
       "      <td>0</td>\n",
       "      <td>0</td>\n",
       "      <td>0</td>\n",
       "      <td>...</td>\n",
       "      <td>0</td>\n",
       "      <td>0</td>\n",
       "      <td>0</td>\n",
       "      <td>0</td>\n",
       "      <td>0</td>\n",
       "      <td>0</td>\n",
       "      <td>0</td>\n",
       "      <td>0</td>\n",
       "      <td>0</td>\n",
       "      <td>0</td>\n",
       "    </tr>\n",
       "    <tr>\n",
       "      <th>1</th>\n",
       "      <td>0</td>\n",
       "      <td>0</td>\n",
       "      <td>0</td>\n",
       "      <td>0</td>\n",
       "      <td>0</td>\n",
       "      <td>0</td>\n",
       "      <td>0</td>\n",
       "      <td>0</td>\n",
       "      <td>0</td>\n",
       "      <td>0</td>\n",
       "      <td>...</td>\n",
       "      <td>0</td>\n",
       "      <td>0</td>\n",
       "      <td>0</td>\n",
       "      <td>0</td>\n",
       "      <td>0</td>\n",
       "      <td>0</td>\n",
       "      <td>0</td>\n",
       "      <td>0</td>\n",
       "      <td>0</td>\n",
       "      <td>0</td>\n",
       "    </tr>\n",
       "    <tr>\n",
       "      <th>2</th>\n",
       "      <td>0</td>\n",
       "      <td>0</td>\n",
       "      <td>0</td>\n",
       "      <td>0</td>\n",
       "      <td>0</td>\n",
       "      <td>0</td>\n",
       "      <td>0</td>\n",
       "      <td>0</td>\n",
       "      <td>0</td>\n",
       "      <td>0</td>\n",
       "      <td>...</td>\n",
       "      <td>0</td>\n",
       "      <td>0</td>\n",
       "      <td>0</td>\n",
       "      <td>0</td>\n",
       "      <td>0</td>\n",
       "      <td>0</td>\n",
       "      <td>0</td>\n",
       "      <td>0</td>\n",
       "      <td>0</td>\n",
       "      <td>0</td>\n",
       "    </tr>\n",
       "    <tr>\n",
       "      <th>3</th>\n",
       "      <td>0</td>\n",
       "      <td>0</td>\n",
       "      <td>0</td>\n",
       "      <td>0</td>\n",
       "      <td>0</td>\n",
       "      <td>0</td>\n",
       "      <td>0</td>\n",
       "      <td>0</td>\n",
       "      <td>0</td>\n",
       "      <td>0</td>\n",
       "      <td>...</td>\n",
       "      <td>0</td>\n",
       "      <td>0</td>\n",
       "      <td>0</td>\n",
       "      <td>0</td>\n",
       "      <td>0</td>\n",
       "      <td>0</td>\n",
       "      <td>0</td>\n",
       "      <td>0</td>\n",
       "      <td>0</td>\n",
       "      <td>0</td>\n",
       "    </tr>\n",
       "    <tr>\n",
       "      <th>4</th>\n",
       "      <td>0</td>\n",
       "      <td>0</td>\n",
       "      <td>0</td>\n",
       "      <td>0</td>\n",
       "      <td>0</td>\n",
       "      <td>0</td>\n",
       "      <td>0</td>\n",
       "      <td>0</td>\n",
       "      <td>0</td>\n",
       "      <td>0</td>\n",
       "      <td>...</td>\n",
       "      <td>0</td>\n",
       "      <td>0</td>\n",
       "      <td>0</td>\n",
       "      <td>0</td>\n",
       "      <td>0</td>\n",
       "      <td>0</td>\n",
       "      <td>0</td>\n",
       "      <td>0</td>\n",
       "      <td>0</td>\n",
       "      <td>0</td>\n",
       "    </tr>\n",
       "  </tbody>\n",
       "</table>\n",
       "<p>5 rows × 12373 columns</p>\n",
       "</div>"
      ],
      "text/plain": [
       "   00  000  00001  026_007_plumb_repair  03  03am  04  054fd209  08  087  ...  \\\n",
       "0   0    0      0                     0   0     0   0         0   0    0  ...   \n",
       "1   0    0      0                     0   0     0   0         0   0    0  ...   \n",
       "2   0    0      0                     0   0     0   0         0   0    0  ...   \n",
       "3   0    0      0                     0   0     0   0         0   0    0  ...   \n",
       "4   0    0      0                     0   0     0   0         0   0    0  ...   \n",
       "\n",
       "   還是因為距離  還會陷入愛情嗎  那些懵懂而青澀的過往  那些沒有結果的感情  那個你本以為忘記的人  都成眷屬  都會實現  都會結果  \\\n",
       "0       0        0           0          0           0     0     0     0   \n",
       "1       0        0           0          0           0     0     0     0   \n",
       "2       0        0           0          0           0     0     0     0   \n",
       "3       0        0           0          0           0     0     0     0   \n",
       "4       0        0           0          0           0     0     0     0   \n",
       "\n",
       "   都有可能改變你的生活  餘生  \n",
       "0           0   0  \n",
       "1           0   0  \n",
       "2           0   0  \n",
       "3           0   0  \n",
       "4           0   0  \n",
       "\n",
       "[5 rows x 12373 columns]"
      ]
     },
     "execution_count": 6,
     "metadata": {},
     "output_type": "execute_result"
    }
   ],
   "source": [
    "X_train_cvec = pd.DataFrame(cvec.fit_transform(X_train).A, columns=cvec.get_feature_names_out())\n",
    "X_test_cvec = pd.DataFrame(cvec.transform(X_test).A, columns=cvec.get_feature_names_out())\n",
    "X_train_cvec.head(5)"
   ]
  },
  {
   "cell_type": "code",
   "execution_count": 7,
   "id": "76a0310b-463d-4fd9-b0bf-a7af0f7ddcec",
   "metadata": {},
   "outputs": [
    {
     "name": "stdout",
     "output_type": "stream",
     "text": [
      "(1857, 12373) (619, 12373)\n"
     ]
    }
   ],
   "source": [
    "print(X_train_cvec.shape, X_test_cvec.shape)"
   ]
  },
  {
   "cell_type": "code",
   "execution_count": 78,
   "id": "0b8f29cf-c794-470d-9f04-6c60117e5012",
   "metadata": {},
   "outputs": [
    {
     "data": {
      "text/plain": [
       "the     5813\n",
       "to      5415\n",
       "and     4540\n",
       "you     4057\n",
       "it      3075\n",
       "of      2726\n",
       "in      2164\n",
       "that    2072\n",
       "for     1982\n",
       "is      1788\n",
       "your    1763\n",
       "this    1450\n",
       "if      1327\n",
       "on      1295\n",
       "my      1281\n",
       "or      1280\n",
       "can     1243\n",
       "have    1223\n",
       "with    1180\n",
       "but     1125\n",
       "dtype: int64"
      ]
     },
     "execution_count": 78,
     "metadata": {},
     "output_type": "execute_result"
    }
   ],
   "source": [
    "cvec_top_20 = X_train_cvec.sum().sort_values(ascending=False)[:20]\n",
    "cvec_top_20"
   ]
  },
  {
   "cell_type": "code",
   "execution_count": 93,
   "id": "ac276698-121a-4c82-b885-c1912f0544ff",
   "metadata": {},
   "outputs": [
    {
     "data": {
      "image/png": "[encoded data removed]",
      "text/plain": [
       "<Figure size 432x288 with 1 Axes>"
      ]
     },
     "metadata": {
      "needs_background": "light"
     },
     "output_type": "display_data"
    }
   ],
   "source": [
    "sns.barplot(y=list(cvec_top_20.index), x=cvec_top_20.values, orient='h', color='tab:blue')\n",
    "plt.title(\"Top 20 words with default countvectorizer\");"
   ]
  },
  {
   "cell_type": "markdown",
   "id": "73f038ca-f0c6-4789-af08-32b3f811b8cb",
   "metadata": {},
   "source": [
    "There are a vast amount of stop words (nouns and pronouns) in our submission data. Let's try and cut that down using the default stopwords list in the count vectorizer class."
   ]
  },
  {
   "cell_type": "code",
   "execution_count": 94,
   "id": "be87e4b1-5d16-4634-bfaf-0ddc0fd2096c",
   "metadata": {},
   "outputs": [],
   "source": [
    "cvec2 = CountVectorizer(stop_words='english')"
   ]
  },
  {
   "cell_type": "code",
   "execution_count": 95,
   "id": "d989a8d3-4082-4413-8717-0631c327d5c8",
   "metadata": {},
   "outputs": [
    {
     "data": {
      "text/html": [
       "<div>\n",
       "<style scoped>\n",
       "    .dataframe tbody tr th:only-of-type {\n",
       "        vertical-align: middle;\n",
       "    }\n",
       "\n",
       "    .dataframe tbody tr th {\n",
       "        vertical-align: top;\n",
       "    }\n",
       "\n",
       "    .dataframe thead th {\n",
       "        text-align: right;\n",
       "    }\n",
       "</style>\n",
       "<table border=\"1\" class=\"dataframe\">\n",
       "  <thead>\n",
       "    <tr style=\"text-align: right;\">\n",
       "      <th></th>\n",
       "      <th>00</th>\n",
       "      <th>000</th>\n",
       "      <th>00001</th>\n",
       "      <th>026_007_plumb_repair</th>\n",
       "      <th>03</th>\n",
       "      <th>03am</th>\n",
       "      <th>04</th>\n",
       "      <th>054fd209</th>\n",
       "      <th>08</th>\n",
       "      <th>087</th>\n",
       "      <th>...</th>\n",
       "      <th>還是因為距離</th>\n",
       "      <th>還會陷入愛情嗎</th>\n",
       "      <th>那些懵懂而青澀的過往</th>\n",
       "      <th>那些沒有結果的感情</th>\n",
       "      <th>那個你本以為忘記的人</th>\n",
       "      <th>都成眷屬</th>\n",
       "      <th>都會實現</th>\n",
       "      <th>都會結果</th>\n",
       "      <th>都有可能改變你的生活</th>\n",
       "      <th>餘生</th>\n",
       "    </tr>\n",
       "  </thead>\n",
       "  <tbody>\n",
       "    <tr>\n",
       "      <th>0</th>\n",
       "      <td>0</td>\n",
       "      <td>0</td>\n",
       "      <td>0</td>\n",
       "      <td>0</td>\n",
       "      <td>0</td>\n",
       "      <td>0</td>\n",
       "      <td>0</td>\n",
       "      <td>0</td>\n",
       "      <td>0</td>\n",
       "      <td>0</td>\n",
       "      <td>...</td>\n",
       "      <td>0</td>\n",
       "      <td>0</td>\n",
       "      <td>0</td>\n",
       "      <td>0</td>\n",
       "      <td>0</td>\n",
       "      <td>0</td>\n",
       "      <td>0</td>\n",
       "      <td>0</td>\n",
       "      <td>0</td>\n",
       "      <td>0</td>\n",
       "    </tr>\n",
       "    <tr>\n",
       "      <th>1</th>\n",
       "      <td>0</td>\n",
       "      <td>0</td>\n",
       "      <td>0</td>\n",
       "      <td>0</td>\n",
       "      <td>0</td>\n",
       "      <td>0</td>\n",
       "      <td>0</td>\n",
       "      <td>0</td>\n",
       "      <td>0</td>\n",
       "      <td>0</td>\n",
       "      <td>...</td>\n",
       "      <td>0</td>\n",
       "      <td>0</td>\n",
       "      <td>0</td>\n",
       "      <td>0</td>\n",
       "      <td>0</td>\n",
       "      <td>0</td>\n",
       "      <td>0</td>\n",
       "      <td>0</td>\n",
       "      <td>0</td>\n",
       "      <td>0</td>\n",
       "    </tr>\n",
       "    <tr>\n",
       "      <th>2</th>\n",
       "      <td>0</td>\n",
       "      <td>0</td>\n",
       "      <td>0</td>\n",
       "      <td>0</td>\n",
       "      <td>0</td>\n",
       "      <td>0</td>\n",
       "      <td>0</td>\n",
       "      <td>0</td>\n",
       "      <td>0</td>\n",
       "      <td>0</td>\n",
       "      <td>...</td>\n",
       "      <td>0</td>\n",
       "      <td>0</td>\n",
       "      <td>0</td>\n",
       "      <td>0</td>\n",
       "      <td>0</td>\n",
       "      <td>0</td>\n",
       "      <td>0</td>\n",
       "      <td>0</td>\n",
       "      <td>0</td>\n",
       "      <td>0</td>\n",
       "    </tr>\n",
       "    <tr>\n",
       "      <th>3</th>\n",
       "      <td>0</td>\n",
       "      <td>0</td>\n",
       "      <td>0</td>\n",
       "      <td>0</td>\n",
       "      <td>0</td>\n",
       "      <td>0</td>\n",
       "      <td>0</td>\n",
       "      <td>0</td>\n",
       "      <td>0</td>\n",
       "      <td>0</td>\n",
       "      <td>...</td>\n",
       "      <td>0</td>\n",
       "      <td>0</td>\n",
       "      <td>0</td>\n",
       "      <td>0</td>\n",
       "      <td>0</td>\n",
       "      <td>0</td>\n",
       "      <td>0</td>\n",
       "      <td>0</td>\n",
       "      <td>0</td>\n",
       "      <td>0</td>\n",
       "    </tr>\n",
       "    <tr>\n",
       "      <th>4</th>\n",
       "      <td>0</td>\n",
       "      <td>0</td>\n",
       "      <td>0</td>\n",
       "      <td>0</td>\n",
       "      <td>0</td>\n",
       "      <td>0</td>\n",
       "      <td>0</td>\n",
       "      <td>0</td>\n",
       "      <td>0</td>\n",
       "      <td>0</td>\n",
       "      <td>...</td>\n",
       "      <td>0</td>\n",
       "      <td>0</td>\n",
       "      <td>0</td>\n",
       "      <td>0</td>\n",
       "      <td>0</td>\n",
       "      <td>0</td>\n",
       "      <td>0</td>\n",
       "      <td>0</td>\n",
       "      <td>0</td>\n",
       "      <td>0</td>\n",
       "    </tr>\n",
       "  </tbody>\n",
       "</table>\n",
       "<p>5 rows × 12084 columns</p>\n",
       "</div>"
      ],
      "text/plain": [
       "   00  000  00001  026_007_plumb_repair  03  03am  04  054fd209  08  087  ...  \\\n",
       "0   0    0      0                     0   0     0   0         0   0    0  ...   \n",
       "1   0    0      0                     0   0     0   0         0   0    0  ...   \n",
       "2   0    0      0                     0   0     0   0         0   0    0  ...   \n",
       "3   0    0      0                     0   0     0   0         0   0    0  ...   \n",
       "4   0    0      0                     0   0     0   0         0   0    0  ...   \n",
       "\n",
       "   還是因為距離  還會陷入愛情嗎  那些懵懂而青澀的過往  那些沒有結果的感情  那個你本以為忘記的人  都成眷屬  都會實現  都會結果  \\\n",
       "0       0        0           0          0           0     0     0     0   \n",
       "1       0        0           0          0           0     0     0     0   \n",
       "2       0        0           0          0           0     0     0     0   \n",
       "3       0        0           0          0           0     0     0     0   \n",
       "4       0        0           0          0           0     0     0     0   \n",
       "\n",
       "   都有可能改變你的生活  餘生  \n",
       "0           0   0  \n",
       "1           0   0  \n",
       "2           0   0  \n",
       "3           0   0  \n",
       "4           0   0  \n",
       "\n",
       "[5 rows x 12084 columns]"
      ]
     },
     "execution_count": 95,
     "metadata": {},
     "output_type": "execute_result"
    }
   ],
   "source": [
    "X_train_cvec2 = pd.DataFrame(cvec2.fit_transform(X_train).A, columns=cvec2.get_feature_names_out())\n",
    "X_test_cvec2 = pd.DataFrame(cvec2.transform(X_test).A, columns=cvec2.get_feature_names_out())\n",
    "X_train_cvec2.head(5)"
   ]
  },
  {
   "cell_type": "code",
   "execution_count": 96,
   "id": "167bb702-b969-4509-823a-1ba17f9bbc7d",
   "metadata": {},
   "outputs": [
    {
     "name": "stdout",
     "output_type": "stream",
     "text": [
      "(1857, 12084) (619, 12084)\n"
     ]
    }
   ],
   "source": [
    "print(X_train_cvec2.shape, X_test_cvec2.shape)"
   ]
  },
  {
   "cell_type": "code",
   "execution_count": 97,
   "id": "cdbdc08d-50a5-4033-ab51-834232da0def",
   "metadata": {},
   "outputs": [
    {
     "data": {
      "text/plain": [
       "-289"
      ]
     },
     "execution_count": 97,
     "metadata": {},
     "output_type": "execute_result"
    }
   ],
   "source": [
    "X_train_cvec2.shape[1] - X_train_cvec.shape[1]"
   ]
  },
  {
   "cell_type": "markdown",
   "id": "a72e06fb-958a-4478-a825-30ab8702458f",
   "metadata": {},
   "source": [
    "We have 289 less columns in our vectorization without stop words."
   ]
  },
  {
   "cell_type": "code",
   "execution_count": 98,
   "id": "a88948f8-8ba0-41af-b951-bf87f07f53f9",
   "metadata": {},
   "outputs": [
    {
     "data": {
      "text/plain": [
       "just      747\n",
       "don       660\n",
       "like      631\n",
       "time      579\n",
       "people    487\n",
       "know      412\n",
       "make      399\n",
       "ve        360\n",
       "work      343\n",
       "want      341\n",
       "way       321\n",
       "use       315\n",
       "need      296\n",
       "life      268\n",
       "really    257\n",
       "help      246\n",
       "things    246\n",
       "day       233\n",
       "feel      227\n",
       "good      219\n",
       "dtype: int64"
      ]
     },
     "execution_count": 98,
     "metadata": {},
     "output_type": "execute_result"
    }
   ],
   "source": [
    "cvec2_top_20 = X_train_cvec2.sum().sort_values(ascending=False)[:20]\n",
    "cvec2_top_20"
   ]
  },
  {
   "cell_type": "code",
   "execution_count": 99,
   "id": "c7bc193d-f9a8-4467-842a-17d3e4693498",
   "metadata": {},
   "outputs": [
    {
     "data": {
      "image/png": "[encoded data removed]",
      "text/plain": [
       "<Figure size 432x288 with 1 Axes>"
      ]
     },
     "metadata": {
      "needs_background": "light"
     },
     "output_type": "display_data"
    }
   ],
   "source": [
    "sns.barplot(y=list(cvec2_top_20.index), x=cvec2_top_20.values, orient='h', color='tab:blue')\n",
    "plt.title(\"Top 20 words without stopwords\");"
   ]
  },
  {
   "cell_type": "markdown",
   "id": "2e48ee3f-bdcf-4d42-ab04-a8ef25de1741",
   "metadata": {},
   "source": [
    "Stop words have been cut down; however, the frequency of the new words are a lot less than the frequency of stop words.\n",
    "We also have a lot more adverbs in hour list.\n",
    "\n",
    "Let's now tokenize our words using uni- and bigrams, and see what patterns emerge."
   ]
  },
  {
   "cell_type": "code",
   "execution_count": 126,
   "id": "374c1f3d-2fac-4f8f-8a03-f1e2a7b9ecd2",
   "metadata": {},
   "outputs": [],
   "source": [
    "cvec3 = CountVectorizer(stop_words='english', ngram_range=(2, 2))"
   ]
  },
  {
   "cell_type": "code",
   "execution_count": 127,
   "id": "badd0a6e-26e1-46c0-bc8f-949293ed122e",
   "metadata": {},
   "outputs": [
    {
     "data": {
      "text/html": [
       "<div>\n",
       "<style scoped>\n",
       "    .dataframe tbody tr th:only-of-type {\n",
       "        vertical-align: middle;\n",
       "    }\n",
       "\n",
       "    .dataframe tbody tr th {\n",
       "        vertical-align: top;\n",
       "    }\n",
       "\n",
       "    .dataframe thead th {\n",
       "        text-align: right;\n",
       "    }\n",
       "</style>\n",
       "<table border=\"1\" class=\"dataframe\">\n",
       "  <thead>\n",
       "    <tr style=\"text-align: right;\">\n",
       "      <th></th>\n",
       "      <th>00 apy</th>\n",
       "      <th>00 didn</th>\n",
       "      <th>00 lowest</th>\n",
       "      <th>00 mashing</th>\n",
       "      <th>00 pair</th>\n",
       "      <th>000 100</th>\n",
       "      <th>000 11</th>\n",
       "      <th>000 calories</th>\n",
       "      <th>000 doubled</th>\n",
       "      <th>000 dual</th>\n",
       "      <th>...</th>\n",
       "      <th>還是因為距離 還是因為每個人各自的苦衷</th>\n",
       "      <th>還會陷入愛情嗎 即便再來一次</th>\n",
       "      <th>那些懵懂而青澀的過往 卻會是我們一生的珍藏</th>\n",
       "      <th>那些沒有結果的感情 結局不完美</th>\n",
       "      <th>那個你本以為忘記的人 就會像蜜蜂蟄了心</th>\n",
       "      <th>都成眷屬 人生有得失</th>\n",
       "      <th>都會實現 不是每一對戀人</th>\n",
       "      <th>都會結果 不是每一次心願</th>\n",
       "      <th>都有可能改變你的生活 主播</th>\n",
       "      <th>餘生 希望彼此都能把對方放下</th>\n",
       "    </tr>\n",
       "  </thead>\n",
       "  <tbody>\n",
       "    <tr>\n",
       "      <th>0</th>\n",
       "      <td>0</td>\n",
       "      <td>0</td>\n",
       "      <td>0</td>\n",
       "      <td>0</td>\n",
       "      <td>0</td>\n",
       "      <td>0</td>\n",
       "      <td>0</td>\n",
       "      <td>0</td>\n",
       "      <td>0</td>\n",
       "      <td>0</td>\n",
       "      <td>...</td>\n",
       "      <td>0</td>\n",
       "      <td>0</td>\n",
       "      <td>0</td>\n",
       "      <td>0</td>\n",
       "      <td>0</td>\n",
       "      <td>0</td>\n",
       "      <td>0</td>\n",
       "      <td>0</td>\n",
       "      <td>0</td>\n",
       "      <td>0</td>\n",
       "    </tr>\n",
       "    <tr>\n",
       "      <th>1</th>\n",
       "      <td>0</td>\n",
       "      <td>0</td>\n",
       "      <td>0</td>\n",
       "      <td>0</td>\n",
       "      <td>0</td>\n",
       "      <td>0</td>\n",
       "      <td>0</td>\n",
       "      <td>0</td>\n",
       "      <td>0</td>\n",
       "      <td>0</td>\n",
       "      <td>...</td>\n",
       "      <td>0</td>\n",
       "      <td>0</td>\n",
       "      <td>0</td>\n",
       "      <td>0</td>\n",
       "      <td>0</td>\n",
       "      <td>0</td>\n",
       "      <td>0</td>\n",
       "      <td>0</td>\n",
       "      <td>0</td>\n",
       "      <td>0</td>\n",
       "    </tr>\n",
       "    <tr>\n",
       "      <th>2</th>\n",
       "      <td>0</td>\n",
       "      <td>0</td>\n",
       "      <td>0</td>\n",
       "      <td>0</td>\n",
       "      <td>0</td>\n",
       "      <td>0</td>\n",
       "      <td>0</td>\n",
       "      <td>0</td>\n",
       "      <td>0</td>\n",
       "      <td>0</td>\n",
       "      <td>...</td>\n",
       "      <td>0</td>\n",
       "      <td>0</td>\n",
       "      <td>0</td>\n",
       "      <td>0</td>\n",
       "      <td>0</td>\n",
       "      <td>0</td>\n",
       "      <td>0</td>\n",
       "      <td>0</td>\n",
       "      <td>0</td>\n",
       "      <td>0</td>\n",
       "    </tr>\n",
       "    <tr>\n",
       "      <th>3</th>\n",
       "      <td>0</td>\n",
       "      <td>0</td>\n",
       "      <td>0</td>\n",
       "      <td>0</td>\n",
       "      <td>0</td>\n",
       "      <td>0</td>\n",
       "      <td>0</td>\n",
       "      <td>0</td>\n",
       "      <td>0</td>\n",
       "      <td>0</td>\n",
       "      <td>...</td>\n",
       "      <td>0</td>\n",
       "      <td>0</td>\n",
       "      <td>0</td>\n",
       "      <td>0</td>\n",
       "      <td>0</td>\n",
       "      <td>0</td>\n",
       "      <td>0</td>\n",
       "      <td>0</td>\n",
       "      <td>0</td>\n",
       "      <td>0</td>\n",
       "    </tr>\n",
       "    <tr>\n",
       "      <th>4</th>\n",
       "      <td>0</td>\n",
       "      <td>0</td>\n",
       "      <td>0</td>\n",
       "      <td>0</td>\n",
       "      <td>0</td>\n",
       "      <td>0</td>\n",
       "      <td>0</td>\n",
       "      <td>0</td>\n",
       "      <td>0</td>\n",
       "      <td>0</td>\n",
       "      <td>...</td>\n",
       "      <td>0</td>\n",
       "      <td>0</td>\n",
       "      <td>0</td>\n",
       "      <td>0</td>\n",
       "      <td>0</td>\n",
       "      <td>0</td>\n",
       "      <td>0</td>\n",
       "      <td>0</td>\n",
       "      <td>0</td>\n",
       "      <td>0</td>\n",
       "    </tr>\n",
       "  </tbody>\n",
       "</table>\n",
       "<p>5 rows × 65514 columns</p>\n",
       "</div>"
      ],
      "text/plain": [
       "   00 apy  00 didn  00 lowest  00 mashing  00 pair  000 100  000 11  \\\n",
       "0       0        0          0           0        0        0       0   \n",
       "1       0        0          0           0        0        0       0   \n",
       "2       0        0          0           0        0        0       0   \n",
       "3       0        0          0           0        0        0       0   \n",
       "4       0        0          0           0        0        0       0   \n",
       "\n",
       "   000 calories  000 doubled  000 dual  ...  還是因為距離 還是因為每個人各自的苦衷  \\\n",
       "0             0            0         0  ...                    0   \n",
       "1             0            0         0  ...                    0   \n",
       "2             0            0         0  ...                    0   \n",
       "3             0            0         0  ...                    0   \n",
       "4             0            0         0  ...                    0   \n",
       "\n",
       "   還會陷入愛情嗎 即便再來一次  那些懵懂而青澀的過往 卻會是我們一生的珍藏  那些沒有結果的感情 結局不完美  \\\n",
       "0               0                      0                0   \n",
       "1               0                      0                0   \n",
       "2               0                      0                0   \n",
       "3               0                      0                0   \n",
       "4               0                      0                0   \n",
       "\n",
       "   那個你本以為忘記的人 就會像蜜蜂蟄了心  都成眷屬 人生有得失  都會實現 不是每一對戀人  都會結果 不是每一次心願  都有可能改變你的生活 主播  \\\n",
       "0                    0           0             0             0              0   \n",
       "1                    0           0             0             0              0   \n",
       "2                    0           0             0             0              0   \n",
       "3                    0           0             0             0              0   \n",
       "4                    0           0             0             0              0   \n",
       "\n",
       "   餘生 希望彼此都能把對方放下  \n",
       "0               0  \n",
       "1               0  \n",
       "2               0  \n",
       "3               0  \n",
       "4               0  \n",
       "\n",
       "[5 rows x 65514 columns]"
      ]
     },
     "execution_count": 127,
     "metadata": {},
     "output_type": "execute_result"
    }
   ],
   "source": [
    "X_train_cvec3 = pd.DataFrame(cvec3.fit_transform(X_train).A, columns=cvec3.get_feature_names_out())\n",
    "X_test_cvec3 = pd.DataFrame(cvec3.transform(X_test).A, columns=cvec3.get_feature_names_out())\n",
    "X_train_cvec3.head(5)"
   ]
  },
  {
   "cell_type": "code",
   "execution_count": 128,
   "id": "00538892-b487-4125-9d1b-fb36034c9a0d",
   "metadata": {},
   "outputs": [
    {
     "name": "stdout",
     "output_type": "stream",
     "text": [
      "(1857, 65514) (619, 65514)\n"
     ]
    }
   ],
   "source": [
    "print(X_train_cvec3.shape, X_test_cvec3.shape)"
   ]
  },
  {
   "cell_type": "code",
   "execution_count": 129,
   "id": "73109379-20f8-4bbd-9ec9-0b2b8f9915a9",
   "metadata": {},
   "outputs": [
    {
     "data": {
      "text/plain": [
       "53141"
      ]
     },
     "execution_count": 129,
     "metadata": {},
     "output_type": "execute_result"
    }
   ],
   "source": [
    "X_train_cvec3.shape[1] - X_train_cvec.shape[1]"
   ]
  },
  {
   "cell_type": "markdown",
   "id": "c575fecb-28e5-427e-8fb5-5ceea412b3d1",
   "metadata": {},
   "source": [
    "We have 65,225 more columns by tokenizing our words into uni- and bigrams."
   ]
  },
  {
   "cell_type": "code",
   "execution_count": 130,
   "id": "5db2f7cd-3f0d-4b96-ba28-f35ad5558727",
   "metadata": {},
   "outputs": [
    {
     "data": {
      "text/plain": [
       "https www        79\n",
       "make sure        75\n",
       "don know         69\n",
       "don want         65\n",
       "feel like        56\n",
       "amp x200b        52\n",
       "don need         26\n",
       "long time        26\n",
       "ice cream        25\n",
       "things like      25\n",
       "credit card      24\n",
       "just like        22\n",
       "tiger19 tw       21\n",
       "https tiger19    21\n",
       "best way         21\n",
       "years ago        20\n",
       "lot people       20\n",
       "let know         19\n",
       "just need        19\n",
       "don let          18\n",
       "dtype: int64"
      ]
     },
     "execution_count": 130,
     "metadata": {},
     "output_type": "execute_result"
    }
   ],
   "source": [
    "cvec3_top_20 = X_train_cvec3.sum().sort_values(ascending=False)[:20]\n",
    "cvec3_top_20"
   ]
  },
  {
   "cell_type": "markdown",
   "id": "405c25dd-4bf0-41aa-b695-bb8ac848888e",
   "metadata": {},
   "source": [
    "A fair amount of bigrams appear to include the word \"don\" which seems to be a typo of the word \"don't\"."
   ]
  },
  {
   "cell_type": "markdown",
   "id": "9ab2310f-125a-4903-ac7a-3ec2190f7c85",
   "metadata": {},
   "source": [
    "Let's try to capture words that fall more inbetween, and drop the stop words. Ideally, we will get more substance in our tokens."
   ]
  },
  {
   "cell_type": "code",
   "execution_count": 222,
   "id": "deb70a4f-cc42-4602-9ab5-9088190e4529",
   "metadata": {},
   "outputs": [],
   "source": [
    "cvec4 = CountVectorizer(stop_words='english', min_df=2, max_df=.05)"
   ]
  },
  {
   "cell_type": "code",
   "execution_count": 223,
   "id": "98a7327b-8f52-4881-b125-b265ef9313f2",
   "metadata": {},
   "outputs": [
    {
     "data": {
      "text/html": [
       "<div>\n",
       "<style scoped>\n",
       "    .dataframe tbody tr th:only-of-type {\n",
       "        vertical-align: middle;\n",
       "    }\n",
       "\n",
       "    .dataframe tbody tr th {\n",
       "        vertical-align: top;\n",
       "    }\n",
       "\n",
       "    .dataframe thead th {\n",
       "        text-align: right;\n",
       "    }\n",
       "</style>\n",
       "<table border=\"1\" class=\"dataframe\">\n",
       "  <thead>\n",
       "    <tr style=\"text-align: right;\">\n",
       "      <th></th>\n",
       "      <th>00</th>\n",
       "      <th>000</th>\n",
       "      <th>03</th>\n",
       "      <th>04</th>\n",
       "      <th>09</th>\n",
       "      <th>10</th>\n",
       "      <th>100</th>\n",
       "      <th>1000</th>\n",
       "      <th>10mm</th>\n",
       "      <th>10pm</th>\n",
       "      <th>...</th>\n",
       "      <th>youtube</th>\n",
       "      <th>youtubers</th>\n",
       "      <th>yr</th>\n",
       "      <th>ysk</th>\n",
       "      <th>yt</th>\n",
       "      <th>zero</th>\n",
       "      <th>zip</th>\n",
       "      <th>zipper</th>\n",
       "      <th>zone</th>\n",
       "      <th>zoom</th>\n",
       "    </tr>\n",
       "  </thead>\n",
       "  <tbody>\n",
       "    <tr>\n",
       "      <th>0</th>\n",
       "      <td>0</td>\n",
       "      <td>0</td>\n",
       "      <td>0</td>\n",
       "      <td>0</td>\n",
       "      <td>0</td>\n",
       "      <td>0</td>\n",
       "      <td>0</td>\n",
       "      <td>0</td>\n",
       "      <td>0</td>\n",
       "      <td>0</td>\n",
       "      <td>...</td>\n",
       "      <td>0</td>\n",
       "      <td>0</td>\n",
       "      <td>0</td>\n",
       "      <td>0</td>\n",
       "      <td>0</td>\n",
       "      <td>0</td>\n",
       "      <td>0</td>\n",
       "      <td>0</td>\n",
       "      <td>0</td>\n",
       "      <td>0</td>\n",
       "    </tr>\n",
       "    <tr>\n",
       "      <th>1</th>\n",
       "      <td>0</td>\n",
       "      <td>0</td>\n",
       "      <td>0</td>\n",
       "      <td>0</td>\n",
       "      <td>0</td>\n",
       "      <td>0</td>\n",
       "      <td>0</td>\n",
       "      <td>0</td>\n",
       "      <td>0</td>\n",
       "      <td>0</td>\n",
       "      <td>...</td>\n",
       "      <td>0</td>\n",
       "      <td>0</td>\n",
       "      <td>0</td>\n",
       "      <td>0</td>\n",
       "      <td>0</td>\n",
       "      <td>0</td>\n",
       "      <td>0</td>\n",
       "      <td>0</td>\n",
       "      <td>0</td>\n",
       "      <td>0</td>\n",
       "    </tr>\n",
       "    <tr>\n",
       "      <th>2</th>\n",
       "      <td>0</td>\n",
       "      <td>0</td>\n",
       "      <td>0</td>\n",
       "      <td>0</td>\n",
       "      <td>0</td>\n",
       "      <td>0</td>\n",
       "      <td>0</td>\n",
       "      <td>0</td>\n",
       "      <td>0</td>\n",
       "      <td>0</td>\n",
       "      <td>...</td>\n",
       "      <td>0</td>\n",
       "      <td>0</td>\n",
       "      <td>0</td>\n",
       "      <td>0</td>\n",
       "      <td>0</td>\n",
       "      <td>1</td>\n",
       "      <td>0</td>\n",
       "      <td>0</td>\n",
       "      <td>0</td>\n",
       "      <td>0</td>\n",
       "    </tr>\n",
       "    <tr>\n",
       "      <th>3</th>\n",
       "      <td>0</td>\n",
       "      <td>0</td>\n",
       "      <td>0</td>\n",
       "      <td>0</td>\n",
       "      <td>0</td>\n",
       "      <td>0</td>\n",
       "      <td>0</td>\n",
       "      <td>0</td>\n",
       "      <td>0</td>\n",
       "      <td>0</td>\n",
       "      <td>...</td>\n",
       "      <td>0</td>\n",
       "      <td>0</td>\n",
       "      <td>0</td>\n",
       "      <td>0</td>\n",
       "      <td>0</td>\n",
       "      <td>0</td>\n",
       "      <td>0</td>\n",
       "      <td>0</td>\n",
       "      <td>0</td>\n",
       "      <td>0</td>\n",
       "    </tr>\n",
       "    <tr>\n",
       "      <th>4</th>\n",
       "      <td>0</td>\n",
       "      <td>0</td>\n",
       "      <td>0</td>\n",
       "      <td>0</td>\n",
       "      <td>0</td>\n",
       "      <td>0</td>\n",
       "      <td>0</td>\n",
       "      <td>0</td>\n",
       "      <td>0</td>\n",
       "      <td>0</td>\n",
       "      <td>...</td>\n",
       "      <td>0</td>\n",
       "      <td>0</td>\n",
       "      <td>0</td>\n",
       "      <td>0</td>\n",
       "      <td>0</td>\n",
       "      <td>0</td>\n",
       "      <td>0</td>\n",
       "      <td>0</td>\n",
       "      <td>0</td>\n",
       "      <td>0</td>\n",
       "    </tr>\n",
       "  </tbody>\n",
       "</table>\n",
       "<p>5 rows × 5695 columns</p>\n",
       "</div>"
      ],
      "text/plain": [
       "   00  000  03  04  09  10  100  1000  10mm  10pm  ...  youtube  youtubers  \\\n",
       "0   0    0   0   0   0   0    0     0     0     0  ...        0          0   \n",
       "1   0    0   0   0   0   0    0     0     0     0  ...        0          0   \n",
       "2   0    0   0   0   0   0    0     0     0     0  ...        0          0   \n",
       "3   0    0   0   0   0   0    0     0     0     0  ...        0          0   \n",
       "4   0    0   0   0   0   0    0     0     0     0  ...        0          0   \n",
       "\n",
       "   yr  ysk  yt  zero  zip  zipper  zone  zoom  \n",
       "0   0    0   0     0    0       0     0     0  \n",
       "1   0    0   0     0    0       0     0     0  \n",
       "2   0    0   0     1    0       0     0     0  \n",
       "3   0    0   0     0    0       0     0     0  \n",
       "4   0    0   0     0    0       0     0     0  \n",
       "\n",
       "[5 rows x 5695 columns]"
      ]
     },
     "execution_count": 223,
     "metadata": {},
     "output_type": "execute_result"
    }
   ],
   "source": [
    "X_train_cvec4 = pd.DataFrame(cvec4.fit_transform(X_train).A, columns=cvec4.get_feature_names_out())\n",
    "X_test_cvec4 = pd.DataFrame(cvec4.transform(X_test).A, columns=cvec4.get_feature_names_out())\n",
    "X_train_cvec4.head(5)"
   ]
  },
  {
   "cell_type": "code",
   "execution_count": 224,
   "id": "003f8138-cf5e-496e-a646-608a75457636",
   "metadata": {},
   "outputs": [
    {
     "name": "stdout",
     "output_type": "stream",
     "text": [
      "(1857, 65514) (619, 65514)\n"
     ]
    }
   ],
   "source": [
    "print(X_train_cvec3.shape, X_test_cvec3.shape)"
   ]
  },
  {
   "cell_type": "code",
   "execution_count": 225,
   "id": "50d2f57e-7de7-44cd-ada2-901e113616aa",
   "metadata": {},
   "outputs": [
    {
     "data": {
      "text/plain": [
       "-6678"
      ]
     },
     "execution_count": 225,
     "metadata": {},
     "output_type": "execute_result"
    }
   ],
   "source": [
    "X_train_cvec4.shape[1] - X_train_cvec.shape[1]"
   ]
  },
  {
   "cell_type": "markdown",
   "id": "eefe8d2a-b448-4737-ad71-e80c9274fb81",
   "metadata": {},
   "source": [
    "We have 6341 less columns in our vectorization that removes all tokens that appear only once."
   ]
  },
  {
   "cell_type": "code",
   "execution_count": 226,
   "id": "4c558f0b-6e5e-410c-8f4a-db006ef23dbe",
   "metadata": {},
   "outputs": [
    {
     "data": {
      "text/plain": [
       "amp         210\n",
       "com         160\n",
       "job         152\n",
       "car         139\n",
       "phone       138\n",
       "food        131\n",
       "didn        117\n",
       "tell        115\n",
       "friends     114\n",
       "buy         112\n",
       "year        109\n",
       "home        109\n",
       "place       108\n",
       "days        108\n",
       "away        108\n",
       "hard        107\n",
       "thought     106\n",
       "actually    103\n",
       "makes       102\n",
       "family      102\n",
       "dtype: int64"
      ]
     },
     "execution_count": 226,
     "metadata": {},
     "output_type": "execute_result"
    }
   ],
   "source": [
    "cvec4_top_20 = X_train_cvec4.sum().sort_values(ascending=False)[:20]\n",
    "cvec4_top_20"
   ]
  },
  {
   "cell_type": "markdown",
   "id": "0affc9a1-813b-48de-9ceb-44529d057e91",
   "metadata": {},
   "source": [
    "Both train and test splits have been successfully vectorized. We have generated 12,373 unique strings of characters to use as features."
   ]
  },
  {
   "cell_type": "markdown",
   "id": "a81e7e3e-0c06-4397-9cd2-f10672fa06e1",
   "metadata": {},
   "source": [
    "----"
   ]
  },
  {
   "cell_type": "code",
   "execution_count": 247,
   "id": "ec846569-6919-404e-b94e-fea2fdf2745a",
   "metadata": {
    "tags": []
   },
   "outputs": [],
   "source": [
    "tf = TfidfVectorizer()"
   ]
  },
  {
   "cell_type": "code",
   "execution_count": 248,
   "id": "4c238b81-1ccc-4040-9c7a-37e73bff2cc3",
   "metadata": {},
   "outputs": [
    {
     "data": {
      "text/html": [
       "<div>\n",
       "<style scoped>\n",
       "    .dataframe tbody tr th:only-of-type {\n",
       "        vertical-align: middle;\n",
       "    }\n",
       "\n",
       "    .dataframe tbody tr th {\n",
       "        vertical-align: top;\n",
       "    }\n",
       "\n",
       "    .dataframe thead th {\n",
       "        text-align: right;\n",
       "    }\n",
       "</style>\n",
       "<table border=\"1\" class=\"dataframe\">\n",
       "  <thead>\n",
       "    <tr style=\"text-align: right;\">\n",
       "      <th></th>\n",
       "      <th>00</th>\n",
       "      <th>000</th>\n",
       "      <th>00001</th>\n",
       "      <th>026_007_plumb_repair</th>\n",
       "      <th>03</th>\n",
       "      <th>03am</th>\n",
       "      <th>04</th>\n",
       "      <th>054fd209</th>\n",
       "      <th>08</th>\n",
       "      <th>087</th>\n",
       "      <th>...</th>\n",
       "      <th>還是因為距離</th>\n",
       "      <th>還會陷入愛情嗎</th>\n",
       "      <th>那些懵懂而青澀的過往</th>\n",
       "      <th>那些沒有結果的感情</th>\n",
       "      <th>那個你本以為忘記的人</th>\n",
       "      <th>都成眷屬</th>\n",
       "      <th>都會實現</th>\n",
       "      <th>都會結果</th>\n",
       "      <th>都有可能改變你的生活</th>\n",
       "      <th>餘生</th>\n",
       "    </tr>\n",
       "  </thead>\n",
       "  <tbody>\n",
       "    <tr>\n",
       "      <th>0</th>\n",
       "      <td>0.0</td>\n",
       "      <td>0.0</td>\n",
       "      <td>0.0</td>\n",
       "      <td>0.0</td>\n",
       "      <td>0.0</td>\n",
       "      <td>0.0</td>\n",
       "      <td>0.0</td>\n",
       "      <td>0.0</td>\n",
       "      <td>0.0</td>\n",
       "      <td>0.0</td>\n",
       "      <td>...</td>\n",
       "      <td>0.0</td>\n",
       "      <td>0.0</td>\n",
       "      <td>0.0</td>\n",
       "      <td>0.0</td>\n",
       "      <td>0.0</td>\n",
       "      <td>0.0</td>\n",
       "      <td>0.0</td>\n",
       "      <td>0.0</td>\n",
       "      <td>0.0</td>\n",
       "      <td>0.0</td>\n",
       "    </tr>\n",
       "    <tr>\n",
       "      <th>1</th>\n",
       "      <td>0.0</td>\n",
       "      <td>0.0</td>\n",
       "      <td>0.0</td>\n",
       "      <td>0.0</td>\n",
       "      <td>0.0</td>\n",
       "      <td>0.0</td>\n",
       "      <td>0.0</td>\n",
       "      <td>0.0</td>\n",
       "      <td>0.0</td>\n",
       "      <td>0.0</td>\n",
       "      <td>...</td>\n",
       "      <td>0.0</td>\n",
       "      <td>0.0</td>\n",
       "      <td>0.0</td>\n",
       "      <td>0.0</td>\n",
       "      <td>0.0</td>\n",
       "      <td>0.0</td>\n",
       "      <td>0.0</td>\n",
       "      <td>0.0</td>\n",
       "      <td>0.0</td>\n",
       "      <td>0.0</td>\n",
       "    </tr>\n",
       "    <tr>\n",
       "      <th>2</th>\n",
       "      <td>0.0</td>\n",
       "      <td>0.0</td>\n",
       "      <td>0.0</td>\n",
       "      <td>0.0</td>\n",
       "      <td>0.0</td>\n",
       "      <td>0.0</td>\n",
       "      <td>0.0</td>\n",
       "      <td>0.0</td>\n",
       "      <td>0.0</td>\n",
       "      <td>0.0</td>\n",
       "      <td>...</td>\n",
       "      <td>0.0</td>\n",
       "      <td>0.0</td>\n",
       "      <td>0.0</td>\n",
       "      <td>0.0</td>\n",
       "      <td>0.0</td>\n",
       "      <td>0.0</td>\n",
       "      <td>0.0</td>\n",
       "      <td>0.0</td>\n",
       "      <td>0.0</td>\n",
       "      <td>0.0</td>\n",
       "    </tr>\n",
       "    <tr>\n",
       "      <th>3</th>\n",
       "      <td>0.0</td>\n",
       "      <td>0.0</td>\n",
       "      <td>0.0</td>\n",
       "      <td>0.0</td>\n",
       "      <td>0.0</td>\n",
       "      <td>0.0</td>\n",
       "      <td>0.0</td>\n",
       "      <td>0.0</td>\n",
       "      <td>0.0</td>\n",
       "      <td>0.0</td>\n",
       "      <td>...</td>\n",
       "      <td>0.0</td>\n",
       "      <td>0.0</td>\n",
       "      <td>0.0</td>\n",
       "      <td>0.0</td>\n",
       "      <td>0.0</td>\n",
       "      <td>0.0</td>\n",
       "      <td>0.0</td>\n",
       "      <td>0.0</td>\n",
       "      <td>0.0</td>\n",
       "      <td>0.0</td>\n",
       "    </tr>\n",
       "    <tr>\n",
       "      <th>4</th>\n",
       "      <td>0.0</td>\n",
       "      <td>0.0</td>\n",
       "      <td>0.0</td>\n",
       "      <td>0.0</td>\n",
       "      <td>0.0</td>\n",
       "      <td>0.0</td>\n",
       "      <td>0.0</td>\n",
       "      <td>0.0</td>\n",
       "      <td>0.0</td>\n",
       "      <td>0.0</td>\n",
       "      <td>...</td>\n",
       "      <td>0.0</td>\n",
       "      <td>0.0</td>\n",
       "      <td>0.0</td>\n",
       "      <td>0.0</td>\n",
       "      <td>0.0</td>\n",
       "      <td>0.0</td>\n",
       "      <td>0.0</td>\n",
       "      <td>0.0</td>\n",
       "      <td>0.0</td>\n",
       "      <td>0.0</td>\n",
       "    </tr>\n",
       "  </tbody>\n",
       "</table>\n",
       "<p>5 rows × 12373 columns</p>\n",
       "</div>"
      ],
      "text/plain": [
       "    00  000  00001  026_007_plumb_repair   03  03am   04  054fd209   08  087  \\\n",
       "0  0.0  0.0    0.0                   0.0  0.0   0.0  0.0       0.0  0.0  0.0   \n",
       "1  0.0  0.0    0.0                   0.0  0.0   0.0  0.0       0.0  0.0  0.0   \n",
       "2  0.0  0.0    0.0                   0.0  0.0   0.0  0.0       0.0  0.0  0.0   \n",
       "3  0.0  0.0    0.0                   0.0  0.0   0.0  0.0       0.0  0.0  0.0   \n",
       "4  0.0  0.0    0.0                   0.0  0.0   0.0  0.0       0.0  0.0  0.0   \n",
       "\n",
       "   ...  還是因為距離  還會陷入愛情嗎  那些懵懂而青澀的過往  那些沒有結果的感情  那個你本以為忘記的人  都成眷屬  都會實現  都會結果  \\\n",
       "0  ...     0.0      0.0         0.0        0.0         0.0   0.0   0.0   0.0   \n",
       "1  ...     0.0      0.0         0.0        0.0         0.0   0.0   0.0   0.0   \n",
       "2  ...     0.0      0.0         0.0        0.0         0.0   0.0   0.0   0.0   \n",
       "3  ...     0.0      0.0         0.0        0.0         0.0   0.0   0.0   0.0   \n",
       "4  ...     0.0      0.0         0.0        0.0         0.0   0.0   0.0   0.0   \n",
       "\n",
       "   都有可能改變你的生活   餘生  \n",
       "0         0.0  0.0  \n",
       "1         0.0  0.0  \n",
       "2         0.0  0.0  \n",
       "3         0.0  0.0  \n",
       "4         0.0  0.0  \n",
       "\n",
       "[5 rows x 12373 columns]"
      ]
     },
     "execution_count": 248,
     "metadata": {},
     "output_type": "execute_result"
    }
   ],
   "source": [
    "X_train_tf = pd.DataFrame(tf.fit_transform(X_train).A, columns=tf.get_feature_names_out())\n",
    "X_test_tf = pd.DataFrame(tf.transform(X_test).A, columns=tf.get_feature_names_out())\n",
    "X_train_tf.head(5)"
   ]
  },
  {
   "cell_type": "code",
   "execution_count": 249,
   "id": "156b1ae8-0097-438c-8bda-44469c1ce5cd",
   "metadata": {},
   "outputs": [
    {
     "name": "stdout",
     "output_type": "stream",
     "text": [
      "(1857, 12373) (619, 12373)\n"
     ]
    }
   ],
   "source": [
    "print(X_train_tf.shape, X_test_tf.shape)"
   ]
  },
  {
   "cell_type": "code",
   "execution_count": 250,
   "id": "c9e78196-3eeb-48d8-ae65-ace9cde44732",
   "metadata": {},
   "outputs": [
    {
     "data": {
      "text/plain": [
       "0"
      ]
     },
     "execution_count": 250,
     "metadata": {},
     "output_type": "execute_result"
    }
   ],
   "source": [
    "X_train_tf.shape[1] - X_train_cvec.shape[1]"
   ]
  },
  {
   "cell_type": "markdown",
   "id": "52b7d75a-7f91-4b1d-855e-373ce5aa8af6",
   "metadata": {},
   "source": [
    "No difference in columns."
   ]
  },
  {
   "cell_type": "code",
   "execution_count": 251,
   "id": "5d7d840d-bcef-48e5-bdab-043432c11cfc",
   "metadata": {},
   "outputs": [
    {
     "data": {
      "text/plain": [
       "the     134.358644\n",
       "to      126.538852\n",
       "you     119.742349\n",
       "and     107.773955\n",
       "it       92.904469\n",
       "of       76.170678\n",
       "in       66.430528\n",
       "your     65.054745\n",
       "that     63.961475\n",
       "for      63.268461\n",
       "is       58.390111\n",
       "my       52.660376\n",
       "this     52.333168\n",
       "if       49.337244\n",
       "or       49.092183\n",
       "they     48.041709\n",
       "can      47.644796\n",
       "on       47.471241\n",
       "have     47.353845\n",
       "be       43.878182\n",
       "dtype: float64"
      ]
     },
     "execution_count": 251,
     "metadata": {},
     "output_type": "execute_result"
    }
   ],
   "source": [
    "tf_top_20 = X_train_tf.sum().sort_values(ascending=False)[:20]\n",
    "tf_top_20"
   ]
  },
  {
   "cell_type": "code",
   "execution_count": 261,
   "id": "b4fc6f03-1e7c-4762-9602-9d0c2a2ff8ef",
   "metadata": {
    "tags": []
   },
   "outputs": [],
   "source": [
    "tf2 = TfidfVectorizer(stop_words='english')"
   ]
  },
  {
   "cell_type": "code",
   "execution_count": 262,
   "id": "c0e99719-d863-4513-a8d8-4505d3e7b504",
   "metadata": {},
   "outputs": [
    {
     "data": {
      "text/html": [
       "<div>\n",
       "<style scoped>\n",
       "    .dataframe tbody tr th:only-of-type {\n",
       "        vertical-align: middle;\n",
       "    }\n",
       "\n",
       "    .dataframe tbody tr th {\n",
       "        vertical-align: top;\n",
       "    }\n",
       "\n",
       "    .dataframe thead th {\n",
       "        text-align: right;\n",
       "    }\n",
       "</style>\n",
       "<table border=\"1\" class=\"dataframe\">\n",
       "  <thead>\n",
       "    <tr style=\"text-align: right;\">\n",
       "      <th></th>\n",
       "      <th>00</th>\n",
       "      <th>000</th>\n",
       "      <th>00001</th>\n",
       "      <th>026_007_plumb_repair</th>\n",
       "      <th>03</th>\n",
       "      <th>03am</th>\n",
       "      <th>04</th>\n",
       "      <th>054fd209</th>\n",
       "      <th>08</th>\n",
       "      <th>087</th>\n",
       "      <th>...</th>\n",
       "      <th>還是因為距離</th>\n",
       "      <th>還會陷入愛情嗎</th>\n",
       "      <th>那些懵懂而青澀的過往</th>\n",
       "      <th>那些沒有結果的感情</th>\n",
       "      <th>那個你本以為忘記的人</th>\n",
       "      <th>都成眷屬</th>\n",
       "      <th>都會實現</th>\n",
       "      <th>都會結果</th>\n",
       "      <th>都有可能改變你的生活</th>\n",
       "      <th>餘生</th>\n",
       "    </tr>\n",
       "  </thead>\n",
       "  <tbody>\n",
       "    <tr>\n",
       "      <th>0</th>\n",
       "      <td>0.0</td>\n",
       "      <td>0.0</td>\n",
       "      <td>0.0</td>\n",
       "      <td>0.0</td>\n",
       "      <td>0.0</td>\n",
       "      <td>0.0</td>\n",
       "      <td>0.0</td>\n",
       "      <td>0.0</td>\n",
       "      <td>0.0</td>\n",
       "      <td>0.0</td>\n",
       "      <td>...</td>\n",
       "      <td>0.0</td>\n",
       "      <td>0.0</td>\n",
       "      <td>0.0</td>\n",
       "      <td>0.0</td>\n",
       "      <td>0.0</td>\n",
       "      <td>0.0</td>\n",
       "      <td>0.0</td>\n",
       "      <td>0.0</td>\n",
       "      <td>0.0</td>\n",
       "      <td>0.0</td>\n",
       "    </tr>\n",
       "    <tr>\n",
       "      <th>1</th>\n",
       "      <td>0.0</td>\n",
       "      <td>0.0</td>\n",
       "      <td>0.0</td>\n",
       "      <td>0.0</td>\n",
       "      <td>0.0</td>\n",
       "      <td>0.0</td>\n",
       "      <td>0.0</td>\n",
       "      <td>0.0</td>\n",
       "      <td>0.0</td>\n",
       "      <td>0.0</td>\n",
       "      <td>...</td>\n",
       "      <td>0.0</td>\n",
       "      <td>0.0</td>\n",
       "      <td>0.0</td>\n",
       "      <td>0.0</td>\n",
       "      <td>0.0</td>\n",
       "      <td>0.0</td>\n",
       "      <td>0.0</td>\n",
       "      <td>0.0</td>\n",
       "      <td>0.0</td>\n",
       "      <td>0.0</td>\n",
       "    </tr>\n",
       "    <tr>\n",
       "      <th>2</th>\n",
       "      <td>0.0</td>\n",
       "      <td>0.0</td>\n",
       "      <td>0.0</td>\n",
       "      <td>0.0</td>\n",
       "      <td>0.0</td>\n",
       "      <td>0.0</td>\n",
       "      <td>0.0</td>\n",
       "      <td>0.0</td>\n",
       "      <td>0.0</td>\n",
       "      <td>0.0</td>\n",
       "      <td>...</td>\n",
       "      <td>0.0</td>\n",
       "      <td>0.0</td>\n",
       "      <td>0.0</td>\n",
       "      <td>0.0</td>\n",
       "      <td>0.0</td>\n",
       "      <td>0.0</td>\n",
       "      <td>0.0</td>\n",
       "      <td>0.0</td>\n",
       "      <td>0.0</td>\n",
       "      <td>0.0</td>\n",
       "    </tr>\n",
       "    <tr>\n",
       "      <th>3</th>\n",
       "      <td>0.0</td>\n",
       "      <td>0.0</td>\n",
       "      <td>0.0</td>\n",
       "      <td>0.0</td>\n",
       "      <td>0.0</td>\n",
       "      <td>0.0</td>\n",
       "      <td>0.0</td>\n",
       "      <td>0.0</td>\n",
       "      <td>0.0</td>\n",
       "      <td>0.0</td>\n",
       "      <td>...</td>\n",
       "      <td>0.0</td>\n",
       "      <td>0.0</td>\n",
       "      <td>0.0</td>\n",
       "      <td>0.0</td>\n",
       "      <td>0.0</td>\n",
       "      <td>0.0</td>\n",
       "      <td>0.0</td>\n",
       "      <td>0.0</td>\n",
       "      <td>0.0</td>\n",
       "      <td>0.0</td>\n",
       "    </tr>\n",
       "    <tr>\n",
       "      <th>4</th>\n",
       "      <td>0.0</td>\n",
       "      <td>0.0</td>\n",
       "      <td>0.0</td>\n",
       "      <td>0.0</td>\n",
       "      <td>0.0</td>\n",
       "      <td>0.0</td>\n",
       "      <td>0.0</td>\n",
       "      <td>0.0</td>\n",
       "      <td>0.0</td>\n",
       "      <td>0.0</td>\n",
       "      <td>...</td>\n",
       "      <td>0.0</td>\n",
       "      <td>0.0</td>\n",
       "      <td>0.0</td>\n",
       "      <td>0.0</td>\n",
       "      <td>0.0</td>\n",
       "      <td>0.0</td>\n",
       "      <td>0.0</td>\n",
       "      <td>0.0</td>\n",
       "      <td>0.0</td>\n",
       "      <td>0.0</td>\n",
       "    </tr>\n",
       "  </tbody>\n",
       "</table>\n",
       "<p>5 rows × 12084 columns</p>\n",
       "</div>"
      ],
      "text/plain": [
       "    00  000  00001  026_007_plumb_repair   03  03am   04  054fd209   08  087  \\\n",
       "0  0.0  0.0    0.0                   0.0  0.0   0.0  0.0       0.0  0.0  0.0   \n",
       "1  0.0  0.0    0.0                   0.0  0.0   0.0  0.0       0.0  0.0  0.0   \n",
       "2  0.0  0.0    0.0                   0.0  0.0   0.0  0.0       0.0  0.0  0.0   \n",
       "3  0.0  0.0    0.0                   0.0  0.0   0.0  0.0       0.0  0.0  0.0   \n",
       "4  0.0  0.0    0.0                   0.0  0.0   0.0  0.0       0.0  0.0  0.0   \n",
       "\n",
       "   ...  還是因為距離  還會陷入愛情嗎  那些懵懂而青澀的過往  那些沒有結果的感情  那個你本以為忘記的人  都成眷屬  都會實現  都會結果  \\\n",
       "0  ...     0.0      0.0         0.0        0.0         0.0   0.0   0.0   0.0   \n",
       "1  ...     0.0      0.0         0.0        0.0         0.0   0.0   0.0   0.0   \n",
       "2  ...     0.0      0.0         0.0        0.0         0.0   0.0   0.0   0.0   \n",
       "3  ...     0.0      0.0         0.0        0.0         0.0   0.0   0.0   0.0   \n",
       "4  ...     0.0      0.0         0.0        0.0         0.0   0.0   0.0   0.0   \n",
       "\n",
       "   都有可能改變你的生活   餘生  \n",
       "0         0.0  0.0  \n",
       "1         0.0  0.0  \n",
       "2         0.0  0.0  \n",
       "3         0.0  0.0  \n",
       "4         0.0  0.0  \n",
       "\n",
       "[5 rows x 12084 columns]"
      ]
     },
     "execution_count": 262,
     "metadata": {},
     "output_type": "execute_result"
    }
   ],
   "source": [
    "X_train_tf2 = pd.DataFrame(tf2.fit_transform(X_train).A, columns=tf2.get_feature_names_out())\n",
    "X_test_tf2 = pd.DataFrame(tf2.transform(X_test).A, columns=tf2.get_feature_names_out())\n",
    "X_train_tf2.head(5)"
   ]
  },
  {
   "cell_type": "code",
   "execution_count": 263,
   "id": "fc33fc51-5f76-43bf-ac11-d67eb3ec0fce",
   "metadata": {},
   "outputs": [
    {
     "name": "stdout",
     "output_type": "stream",
     "text": [
      "(1857, 12084) (619, 12084)\n"
     ]
    }
   ],
   "source": [
    "print(X_train_tf2.shape, X_test_tf2.shape)"
   ]
  },
  {
   "cell_type": "code",
   "execution_count": 264,
   "id": "8aea7a8d-0ded-4272-87b7-8b217d53018f",
   "metadata": {},
   "outputs": [
    {
     "data": {
      "text/plain": [
       "-289"
      ]
     },
     "execution_count": 264,
     "metadata": {},
     "output_type": "execute_result"
    }
   ],
   "source": [
    "X_train_tf2.shape[1] - X_train_cvec.shape[1]"
   ]
  },
  {
   "cell_type": "markdown",
   "id": "206649ba-6a4b-430f-b61a-78bd137978f1",
   "metadata": {},
   "source": [
    "No difference in columns."
   ]
  },
  {
   "cell_type": "code",
   "execution_count": 265,
   "id": "b7f894ee-7811-429b-ad04-91fb954f6053",
   "metadata": {},
   "outputs": [
    {
     "data": {
      "text/plain": [
       "just      40.954925\n",
       "don       39.303518\n",
       "time      35.072493\n",
       "like      33.896326\n",
       "people    30.334257\n",
       "know      28.402043\n",
       "make      25.380831\n",
       "ve        24.500534\n",
       "way       23.576415\n",
       "work      22.752416\n",
       "use       22.512086\n",
       "need      22.328425\n",
       "want      21.779673\n",
       "life      20.344747\n",
       "ll        20.041487\n",
       "help      19.270469\n",
       "things    19.059382\n",
       "day       18.570899\n",
       "really    17.310903\n",
       "better    16.670762\n",
       "dtype: float64"
      ]
     },
     "execution_count": 265,
     "metadata": {},
     "output_type": "execute_result"
    }
   ],
   "source": [
    "tf2_top_20 = X_train_tf2.sum().sort_values(ascending=False)[:20]\n",
    "tf2_top_20"
   ]
  },
  {
   "cell_type": "code",
   "execution_count": 269,
   "id": "5b13c468-6a93-44c0-a23c-a386bc8cc1c7",
   "metadata": {
    "tags": []
   },
   "outputs": [],
   "source": [
    "tf3 = TfidfVectorizer(min_df=2, max_df=.05)"
   ]
  },
  {
   "cell_type": "code",
   "execution_count": 270,
   "id": "3dd7db16-2541-4568-8243-7d97abaf7030",
   "metadata": {},
   "outputs": [
    {
     "data": {
      "text/html": [
       "<div>\n",
       "<style scoped>\n",
       "    .dataframe tbody tr th:only-of-type {\n",
       "        vertical-align: middle;\n",
       "    }\n",
       "\n",
       "    .dataframe tbody tr th {\n",
       "        vertical-align: top;\n",
       "    }\n",
       "\n",
       "    .dataframe thead th {\n",
       "        text-align: right;\n",
       "    }\n",
       "</style>\n",
       "<table border=\"1\" class=\"dataframe\">\n",
       "  <thead>\n",
       "    <tr style=\"text-align: right;\">\n",
       "      <th></th>\n",
       "      <th>00</th>\n",
       "      <th>000</th>\n",
       "      <th>03</th>\n",
       "      <th>04</th>\n",
       "      <th>09</th>\n",
       "      <th>10</th>\n",
       "      <th>100</th>\n",
       "      <th>1000</th>\n",
       "      <th>10mm</th>\n",
       "      <th>10pm</th>\n",
       "      <th>...</th>\n",
       "      <th>youtube</th>\n",
       "      <th>youtubers</th>\n",
       "      <th>yr</th>\n",
       "      <th>ysk</th>\n",
       "      <th>yt</th>\n",
       "      <th>zero</th>\n",
       "      <th>zip</th>\n",
       "      <th>zipper</th>\n",
       "      <th>zone</th>\n",
       "      <th>zoom</th>\n",
       "    </tr>\n",
       "  </thead>\n",
       "  <tbody>\n",
       "    <tr>\n",
       "      <th>0</th>\n",
       "      <td>0.0</td>\n",
       "      <td>0.0</td>\n",
       "      <td>0.0</td>\n",
       "      <td>0.0</td>\n",
       "      <td>0.0</td>\n",
       "      <td>0.0</td>\n",
       "      <td>0.0</td>\n",
       "      <td>0.0</td>\n",
       "      <td>0.0</td>\n",
       "      <td>0.0</td>\n",
       "      <td>...</td>\n",
       "      <td>0.0</td>\n",
       "      <td>0.0</td>\n",
       "      <td>0.0</td>\n",
       "      <td>0.0</td>\n",
       "      <td>0.0</td>\n",
       "      <td>0.000000</td>\n",
       "      <td>0.0</td>\n",
       "      <td>0.0</td>\n",
       "      <td>0.0</td>\n",
       "      <td>0.0</td>\n",
       "    </tr>\n",
       "    <tr>\n",
       "      <th>1</th>\n",
       "      <td>0.0</td>\n",
       "      <td>0.0</td>\n",
       "      <td>0.0</td>\n",
       "      <td>0.0</td>\n",
       "      <td>0.0</td>\n",
       "      <td>0.0</td>\n",
       "      <td>0.0</td>\n",
       "      <td>0.0</td>\n",
       "      <td>0.0</td>\n",
       "      <td>0.0</td>\n",
       "      <td>...</td>\n",
       "      <td>0.0</td>\n",
       "      <td>0.0</td>\n",
       "      <td>0.0</td>\n",
       "      <td>0.0</td>\n",
       "      <td>0.0</td>\n",
       "      <td>0.000000</td>\n",
       "      <td>0.0</td>\n",
       "      <td>0.0</td>\n",
       "      <td>0.0</td>\n",
       "      <td>0.0</td>\n",
       "    </tr>\n",
       "    <tr>\n",
       "      <th>2</th>\n",
       "      <td>0.0</td>\n",
       "      <td>0.0</td>\n",
       "      <td>0.0</td>\n",
       "      <td>0.0</td>\n",
       "      <td>0.0</td>\n",
       "      <td>0.0</td>\n",
       "      <td>0.0</td>\n",
       "      <td>0.0</td>\n",
       "      <td>0.0</td>\n",
       "      <td>0.0</td>\n",
       "      <td>...</td>\n",
       "      <td>0.0</td>\n",
       "      <td>0.0</td>\n",
       "      <td>0.0</td>\n",
       "      <td>0.0</td>\n",
       "      <td>0.0</td>\n",
       "      <td>0.018179</td>\n",
       "      <td>0.0</td>\n",
       "      <td>0.0</td>\n",
       "      <td>0.0</td>\n",
       "      <td>0.0</td>\n",
       "    </tr>\n",
       "    <tr>\n",
       "      <th>3</th>\n",
       "      <td>0.0</td>\n",
       "      <td>0.0</td>\n",
       "      <td>0.0</td>\n",
       "      <td>0.0</td>\n",
       "      <td>0.0</td>\n",
       "      <td>0.0</td>\n",
       "      <td>0.0</td>\n",
       "      <td>0.0</td>\n",
       "      <td>0.0</td>\n",
       "      <td>0.0</td>\n",
       "      <td>...</td>\n",
       "      <td>0.0</td>\n",
       "      <td>0.0</td>\n",
       "      <td>0.0</td>\n",
       "      <td>0.0</td>\n",
       "      <td>0.0</td>\n",
       "      <td>0.000000</td>\n",
       "      <td>0.0</td>\n",
       "      <td>0.0</td>\n",
       "      <td>0.0</td>\n",
       "      <td>0.0</td>\n",
       "    </tr>\n",
       "    <tr>\n",
       "      <th>4</th>\n",
       "      <td>0.0</td>\n",
       "      <td>0.0</td>\n",
       "      <td>0.0</td>\n",
       "      <td>0.0</td>\n",
       "      <td>0.0</td>\n",
       "      <td>0.0</td>\n",
       "      <td>0.0</td>\n",
       "      <td>0.0</td>\n",
       "      <td>0.0</td>\n",
       "      <td>0.0</td>\n",
       "      <td>...</td>\n",
       "      <td>0.0</td>\n",
       "      <td>0.0</td>\n",
       "      <td>0.0</td>\n",
       "      <td>0.0</td>\n",
       "      <td>0.0</td>\n",
       "      <td>0.000000</td>\n",
       "      <td>0.0</td>\n",
       "      <td>0.0</td>\n",
       "      <td>0.0</td>\n",
       "      <td>0.0</td>\n",
       "    </tr>\n",
       "  </tbody>\n",
       "</table>\n",
       "<p>5 rows × 5849 columns</p>\n",
       "</div>"
      ],
      "text/plain": [
       "    00  000   03   04   09   10  100  1000  10mm  10pm  ...  youtube  \\\n",
       "0  0.0  0.0  0.0  0.0  0.0  0.0  0.0   0.0   0.0   0.0  ...      0.0   \n",
       "1  0.0  0.0  0.0  0.0  0.0  0.0  0.0   0.0   0.0   0.0  ...      0.0   \n",
       "2  0.0  0.0  0.0  0.0  0.0  0.0  0.0   0.0   0.0   0.0  ...      0.0   \n",
       "3  0.0  0.0  0.0  0.0  0.0  0.0  0.0   0.0   0.0   0.0  ...      0.0   \n",
       "4  0.0  0.0  0.0  0.0  0.0  0.0  0.0   0.0   0.0   0.0  ...      0.0   \n",
       "\n",
       "   youtubers   yr  ysk   yt      zero  zip  zipper  zone  zoom  \n",
       "0        0.0  0.0  0.0  0.0  0.000000  0.0     0.0   0.0   0.0  \n",
       "1        0.0  0.0  0.0  0.0  0.000000  0.0     0.0   0.0   0.0  \n",
       "2        0.0  0.0  0.0  0.0  0.018179  0.0     0.0   0.0   0.0  \n",
       "3        0.0  0.0  0.0  0.0  0.000000  0.0     0.0   0.0   0.0  \n",
       "4        0.0  0.0  0.0  0.0  0.000000  0.0     0.0   0.0   0.0  \n",
       "\n",
       "[5 rows x 5849 columns]"
      ]
     },
     "execution_count": 270,
     "metadata": {},
     "output_type": "execute_result"
    }
   ],
   "source": [
    "X_train_tf3 = pd.DataFrame(tf3.fit_transform(X_train).A, columns=tf3.get_feature_names_out())\n",
    "X_test_tf3 = pd.DataFrame(tf3.transform(X_test).A, columns=tf3.get_feature_names_out())\n",
    "X_train_tf3.head(5)"
   ]
  },
  {
   "cell_type": "code",
   "execution_count": 271,
   "id": "53b1cdb3-de37-4be7-8bcb-c3c18d318be3",
   "metadata": {},
   "outputs": [
    {
     "name": "stdout",
     "output_type": "stream",
     "text": [
      "(1857, 5849) (619, 5849)\n"
     ]
    }
   ],
   "source": [
    "print(X_train_tf3.shape, X_test_tf3.shape)"
   ]
  },
  {
   "cell_type": "code",
   "execution_count": 272,
   "id": "45c9ff4b-659d-406f-8443-77c9881ffeed",
   "metadata": {},
   "outputs": [
    {
     "data": {
      "text/plain": [
       "-6524"
      ]
     },
     "execution_count": 272,
     "metadata": {},
     "output_type": "execute_result"
    }
   ],
   "source": [
    "X_train_tf3.shape[1] - X_train_cvec.shape[1]"
   ]
  },
  {
   "cell_type": "markdown",
   "id": "f73b417e-6609-4d0f-8bd0-e0d47eca1488",
   "metadata": {},
   "source": [
    "No difference in columns."
   ]
  },
  {
   "cell_type": "code",
   "execution_count": 273,
   "id": "21899a3e-8e83-4544-bf63-247ec86673d4",
   "metadata": {},
   "outputs": [
    {
     "data": {
      "text/plain": [
       "he         15.618677\n",
       "amp        15.152735\n",
       "car        14.741961\n",
       "phone      14.189532\n",
       "her        13.867897\n",
       "job        13.575588\n",
       "food       13.565272\n",
       "she        12.454210\n",
       "com        12.298219\n",
       "else       11.787635\n",
       "tell       11.560581\n",
       "easy       11.390016\n",
       "days       11.296299\n",
       "makes      11.206555\n",
       "why        11.009124\n",
       "thought    10.993230\n",
       "next       10.724250\n",
       "buy        10.718025\n",
       "friends    10.627139\n",
       "our        10.619609\n",
       "dtype: float64"
      ]
     },
     "execution_count": 273,
     "metadata": {},
     "output_type": "execute_result"
    }
   ],
   "source": [
    "tf3_top_20 = X_train_tf3.sum().sort_values(ascending=False)[:20]\n",
    "tf3_top_20"
   ]
  },
  {
   "cell_type": "code",
   "execution_count": 281,
   "id": "c23d0199-258c-4345-b685-c156dbb61db8",
   "metadata": {
    "tags": []
   },
   "outputs": [],
   "source": [
    "tf4 = TfidfVectorizer(min_df=15, max_df=.05)"
   ]
  },
  {
   "cell_type": "code",
   "execution_count": 291,
   "id": "a49415de-93a5-4ea2-bdbe-bb4a846a086c",
   "metadata": {},
   "outputs": [
    {
     "data": {
      "text/html": [
       "<div>\n",
       "<style scoped>\n",
       "    .dataframe tbody tr th:only-of-type {\n",
       "        vertical-align: middle;\n",
       "    }\n",
       "\n",
       "    .dataframe tbody tr th {\n",
       "        vertical-align: top;\n",
       "    }\n",
       "\n",
       "    .dataframe thead th {\n",
       "        text-align: right;\n",
       "    }\n",
       "</style>\n",
       "<table border=\"1\" class=\"dataframe\">\n",
       "  <thead>\n",
       "    <tr style=\"text-align: right;\">\n",
       "      <th></th>\n",
       "      <th>10</th>\n",
       "      <th>100</th>\n",
       "      <th>12</th>\n",
       "      <th>15</th>\n",
       "      <th>20</th>\n",
       "      <th>25</th>\n",
       "      <th>30</th>\n",
       "      <th>50</th>\n",
       "      <th>able</th>\n",
       "      <th>above</th>\n",
       "      <th>...</th>\n",
       "      <th>writing</th>\n",
       "      <th>wrong</th>\n",
       "      <th>www</th>\n",
       "      <th>x200b</th>\n",
       "      <th>year</th>\n",
       "      <th>yes</th>\n",
       "      <th>yet</th>\n",
       "      <th>young</th>\n",
       "      <th>youtube</th>\n",
       "      <th>zero</th>\n",
       "    </tr>\n",
       "  </thead>\n",
       "  <tbody>\n",
       "    <tr>\n",
       "      <th>0</th>\n",
       "      <td>0.0</td>\n",
       "      <td>0.0</td>\n",
       "      <td>0.0</td>\n",
       "      <td>0.0</td>\n",
       "      <td>0.0</td>\n",
       "      <td>0.0</td>\n",
       "      <td>0.0</td>\n",
       "      <td>0.0</td>\n",
       "      <td>0.0</td>\n",
       "      <td>0.000000</td>\n",
       "      <td>...</td>\n",
       "      <td>0.000000</td>\n",
       "      <td>0.00000</td>\n",
       "      <td>0.0</td>\n",
       "      <td>0.0</td>\n",
       "      <td>0.0</td>\n",
       "      <td>0.000000</td>\n",
       "      <td>0.0</td>\n",
       "      <td>0.0</td>\n",
       "      <td>0.0</td>\n",
       "      <td>0.000000</td>\n",
       "    </tr>\n",
       "    <tr>\n",
       "      <th>1</th>\n",
       "      <td>0.0</td>\n",
       "      <td>0.0</td>\n",
       "      <td>0.0</td>\n",
       "      <td>0.0</td>\n",
       "      <td>0.0</td>\n",
       "      <td>0.0</td>\n",
       "      <td>0.0</td>\n",
       "      <td>0.0</td>\n",
       "      <td>0.0</td>\n",
       "      <td>0.000000</td>\n",
       "      <td>...</td>\n",
       "      <td>0.000000</td>\n",
       "      <td>0.27878</td>\n",
       "      <td>0.0</td>\n",
       "      <td>0.0</td>\n",
       "      <td>0.0</td>\n",
       "      <td>0.149714</td>\n",
       "      <td>0.0</td>\n",
       "      <td>0.0</td>\n",
       "      <td>0.0</td>\n",
       "      <td>0.000000</td>\n",
       "    </tr>\n",
       "    <tr>\n",
       "      <th>2</th>\n",
       "      <td>0.0</td>\n",
       "      <td>0.0</td>\n",
       "      <td>0.0</td>\n",
       "      <td>0.0</td>\n",
       "      <td>0.0</td>\n",
       "      <td>0.0</td>\n",
       "      <td>0.0</td>\n",
       "      <td>0.0</td>\n",
       "      <td>0.0</td>\n",
       "      <td>0.038148</td>\n",
       "      <td>...</td>\n",
       "      <td>0.081017</td>\n",
       "      <td>0.00000</td>\n",
       "      <td>0.0</td>\n",
       "      <td>0.0</td>\n",
       "      <td>0.0</td>\n",
       "      <td>0.000000</td>\n",
       "      <td>0.0</td>\n",
       "      <td>0.0</td>\n",
       "      <td>0.0</td>\n",
       "      <td>0.040509</td>\n",
       "    </tr>\n",
       "    <tr>\n",
       "      <th>3</th>\n",
       "      <td>0.0</td>\n",
       "      <td>0.0</td>\n",
       "      <td>0.0</td>\n",
       "      <td>0.0</td>\n",
       "      <td>0.0</td>\n",
       "      <td>0.0</td>\n",
       "      <td>0.0</td>\n",
       "      <td>0.0</td>\n",
       "      <td>0.0</td>\n",
       "      <td>0.000000</td>\n",
       "      <td>...</td>\n",
       "      <td>0.000000</td>\n",
       "      <td>0.00000</td>\n",
       "      <td>0.0</td>\n",
       "      <td>0.0</td>\n",
       "      <td>0.0</td>\n",
       "      <td>0.000000</td>\n",
       "      <td>0.0</td>\n",
       "      <td>0.0</td>\n",
       "      <td>0.0</td>\n",
       "      <td>0.000000</td>\n",
       "    </tr>\n",
       "    <tr>\n",
       "      <th>4</th>\n",
       "      <td>0.0</td>\n",
       "      <td>0.0</td>\n",
       "      <td>0.0</td>\n",
       "      <td>0.0</td>\n",
       "      <td>0.0</td>\n",
       "      <td>0.0</td>\n",
       "      <td>0.0</td>\n",
       "      <td>0.0</td>\n",
       "      <td>0.0</td>\n",
       "      <td>0.000000</td>\n",
       "      <td>...</td>\n",
       "      <td>0.000000</td>\n",
       "      <td>0.00000</td>\n",
       "      <td>0.0</td>\n",
       "      <td>0.0</td>\n",
       "      <td>0.0</td>\n",
       "      <td>0.000000</td>\n",
       "      <td>0.0</td>\n",
       "      <td>0.0</td>\n",
       "      <td>0.0</td>\n",
       "      <td>0.000000</td>\n",
       "    </tr>\n",
       "  </tbody>\n",
       "</table>\n",
       "<p>5 rows × 863 columns</p>\n",
       "</div>"
      ],
      "text/plain": [
       "    10  100   12   15   20   25   30   50  able     above  ...   writing  \\\n",
       "0  0.0  0.0  0.0  0.0  0.0  0.0  0.0  0.0   0.0  0.000000  ...  0.000000   \n",
       "1  0.0  0.0  0.0  0.0  0.0  0.0  0.0  0.0   0.0  0.000000  ...  0.000000   \n",
       "2  0.0  0.0  0.0  0.0  0.0  0.0  0.0  0.0   0.0  0.038148  ...  0.081017   \n",
       "3  0.0  0.0  0.0  0.0  0.0  0.0  0.0  0.0   0.0  0.000000  ...  0.000000   \n",
       "4  0.0  0.0  0.0  0.0  0.0  0.0  0.0  0.0   0.0  0.000000  ...  0.000000   \n",
       "\n",
       "     wrong  www  x200b  year       yes  yet  young  youtube      zero  \n",
       "0  0.00000  0.0    0.0   0.0  0.000000  0.0    0.0      0.0  0.000000  \n",
       "1  0.27878  0.0    0.0   0.0  0.149714  0.0    0.0      0.0  0.000000  \n",
       "2  0.00000  0.0    0.0   0.0  0.000000  0.0    0.0      0.0  0.040509  \n",
       "3  0.00000  0.0    0.0   0.0  0.000000  0.0    0.0      0.0  0.000000  \n",
       "4  0.00000  0.0    0.0   0.0  0.000000  0.0    0.0      0.0  0.000000  \n",
       "\n",
       "[5 rows x 863 columns]"
      ]
     },
     "execution_count": 291,
     "metadata": {},
     "output_type": "execute_result"
    }
   ],
   "source": [
    "X_train_tf4 = pd.DataFrame(tf4.fit_transform(X_train).A, columns=tf4.get_feature_names_out())\n",
    "X_test_tf4 = pd.DataFrame(tf4.transform(X_test).A, columns=tf4.get_feature_names_out())\n",
    "X_train_tf4.head(5)"
   ]
  },
  {
   "cell_type": "code",
   "execution_count": 283,
   "id": "62838aee-ce43-4b70-b9e5-0e367491a5aa",
   "metadata": {},
   "outputs": [
    {
     "name": "stdout",
     "output_type": "stream",
     "text": [
      "(1857, 863) (619, 863)\n"
     ]
    }
   ],
   "source": [
    "print(X_train_tf4.shape, X_test_tf4.shape)"
   ]
  },
  {
   "cell_type": "code",
   "execution_count": 284,
   "id": "a8d80db5-eb58-4919-928a-66119fc8e070",
   "metadata": {},
   "outputs": [
    {
     "data": {
      "text/plain": [
       "-11510"
      ]
     },
     "execution_count": 284,
     "metadata": {},
     "output_type": "execute_result"
    }
   ],
   "source": [
    "X_train_tf4.shape[1] - X_train_cvec.shape[1]"
   ]
  },
  {
   "cell_type": "markdown",
   "id": "64123798-2185-4af1-ae9b-798fee19cabf",
   "metadata": {},
   "source": [
    "No difference in columns."
   ]
  },
  {
   "cell_type": "code",
   "execution_count": 285,
   "id": "cfd2b95b-51f2-49a1-9fd9-a404db866de5",
   "metadata": {},
   "outputs": [
    {
     "data": {
      "text/plain": [
       "he         22.873055\n",
       "car        22.859693\n",
       "amp        22.361545\n",
       "food       21.083131\n",
       "phone      20.869995\n",
       "com        20.155508\n",
       "job        19.964443\n",
       "her        19.318759\n",
       "easy       18.327044\n",
       "tell       18.104376\n",
       "makes      17.768162\n",
       "she        17.438670\n",
       "else       17.398295\n",
       "buy        17.185012\n",
       "why        16.733988\n",
       "days       16.692649\n",
       "next       16.552489\n",
       "thought    16.506108\n",
       "two        16.405383\n",
       "hard       16.388941\n",
       "dtype: float64"
      ]
     },
     "execution_count": 285,
     "metadata": {},
     "output_type": "execute_result"
    }
   ],
   "source": [
    "tf4_top_20 = X_train_tf4.sum().sort_values(ascending=False)[:20]\n",
    "tf4_top_20"
   ]
  },
  {
   "cell_type": "code",
   "execution_count": 297,
   "id": "2a3b7ac6-dcb4-4fcd-b1c5-a66439b097a3",
   "metadata": {
    "tags": []
   },
   "outputs": [],
   "source": [
    "tf5 = TfidfVectorizer(min_df=15, max_df=.05, ngram_range=(2, 2))"
   ]
  },
  {
   "cell_type": "code",
   "execution_count": 298,
   "id": "8e2711d6-efc5-4fb0-90eb-b1fe22dd9600",
   "metadata": {},
   "outputs": [
    {
     "data": {
      "text/html": [
       "<div>\n",
       "<style scoped>\n",
       "    .dataframe tbody tr th:only-of-type {\n",
       "        vertical-align: middle;\n",
       "    }\n",
       "\n",
       "    .dataframe tbody tr th {\n",
       "        vertical-align: top;\n",
       "    }\n",
       "\n",
       "    .dataframe thead th {\n",
       "        text-align: right;\n",
       "    }\n",
       "</style>\n",
       "<table border=\"1\" class=\"dataframe\">\n",
       "  <thead>\n",
       "    <tr style=\"text-align: right;\">\n",
       "      <th></th>\n",
       "      <th>able to</th>\n",
       "      <th>about how</th>\n",
       "      <th>about it</th>\n",
       "      <th>about the</th>\n",
       "      <th>about this</th>\n",
       "      <th>about what</th>\n",
       "      <th>after the</th>\n",
       "      <th>all my</th>\n",
       "      <th>all of</th>\n",
       "      <th>all you</th>\n",
       "      <th>...</th>\n",
       "      <th>you would</th>\n",
       "      <th>you you</th>\n",
       "      <th>your body</th>\n",
       "      <th>your car</th>\n",
       "      <th>your friends</th>\n",
       "      <th>your life</th>\n",
       "      <th>your mind</th>\n",
       "      <th>your own</th>\n",
       "      <th>your phone</th>\n",
       "      <th>your time</th>\n",
       "    </tr>\n",
       "  </thead>\n",
       "  <tbody>\n",
       "    <tr>\n",
       "      <th>0</th>\n",
       "      <td>0.0</td>\n",
       "      <td>0.0</td>\n",
       "      <td>0.000000</td>\n",
       "      <td>0.000000</td>\n",
       "      <td>0.0</td>\n",
       "      <td>0.00000</td>\n",
       "      <td>0.0</td>\n",
       "      <td>0.0</td>\n",
       "      <td>0.0</td>\n",
       "      <td>0.0</td>\n",
       "      <td>...</td>\n",
       "      <td>0.00000</td>\n",
       "      <td>0.0</td>\n",
       "      <td>0.0</td>\n",
       "      <td>0.0000</td>\n",
       "      <td>0.0</td>\n",
       "      <td>0.0</td>\n",
       "      <td>0.0</td>\n",
       "      <td>0.0</td>\n",
       "      <td>0.0</td>\n",
       "      <td>0.0</td>\n",
       "    </tr>\n",
       "    <tr>\n",
       "      <th>1</th>\n",
       "      <td>0.0</td>\n",
       "      <td>0.0</td>\n",
       "      <td>0.000000</td>\n",
       "      <td>0.000000</td>\n",
       "      <td>0.0</td>\n",
       "      <td>0.00000</td>\n",
       "      <td>0.0</td>\n",
       "      <td>0.0</td>\n",
       "      <td>0.0</td>\n",
       "      <td>0.0</td>\n",
       "      <td>...</td>\n",
       "      <td>0.00000</td>\n",
       "      <td>0.0</td>\n",
       "      <td>0.0</td>\n",
       "      <td>0.1638</td>\n",
       "      <td>0.0</td>\n",
       "      <td>0.0</td>\n",
       "      <td>0.0</td>\n",
       "      <td>0.0</td>\n",
       "      <td>0.0</td>\n",
       "      <td>0.0</td>\n",
       "    </tr>\n",
       "    <tr>\n",
       "      <th>2</th>\n",
       "      <td>0.0</td>\n",
       "      <td>0.0</td>\n",
       "      <td>0.067396</td>\n",
       "      <td>0.068213</td>\n",
       "      <td>0.0</td>\n",
       "      <td>0.07389</td>\n",
       "      <td>0.0</td>\n",
       "      <td>0.0</td>\n",
       "      <td>0.0</td>\n",
       "      <td>0.0</td>\n",
       "      <td>...</td>\n",
       "      <td>0.07389</td>\n",
       "      <td>0.0</td>\n",
       "      <td>0.0</td>\n",
       "      <td>0.0000</td>\n",
       "      <td>0.0</td>\n",
       "      <td>0.0</td>\n",
       "      <td>0.0</td>\n",
       "      <td>0.0</td>\n",
       "      <td>0.0</td>\n",
       "      <td>0.0</td>\n",
       "    </tr>\n",
       "    <tr>\n",
       "      <th>3</th>\n",
       "      <td>0.0</td>\n",
       "      <td>0.0</td>\n",
       "      <td>0.000000</td>\n",
       "      <td>0.000000</td>\n",
       "      <td>0.0</td>\n",
       "      <td>0.00000</td>\n",
       "      <td>0.0</td>\n",
       "      <td>0.0</td>\n",
       "      <td>0.0</td>\n",
       "      <td>0.0</td>\n",
       "      <td>...</td>\n",
       "      <td>0.00000</td>\n",
       "      <td>0.0</td>\n",
       "      <td>0.0</td>\n",
       "      <td>0.0000</td>\n",
       "      <td>0.0</td>\n",
       "      <td>0.0</td>\n",
       "      <td>0.0</td>\n",
       "      <td>0.0</td>\n",
       "      <td>0.0</td>\n",
       "      <td>0.0</td>\n",
       "    </tr>\n",
       "    <tr>\n",
       "      <th>4</th>\n",
       "      <td>0.0</td>\n",
       "      <td>0.0</td>\n",
       "      <td>0.000000</td>\n",
       "      <td>0.000000</td>\n",
       "      <td>0.0</td>\n",
       "      <td>0.00000</td>\n",
       "      <td>0.0</td>\n",
       "      <td>0.0</td>\n",
       "      <td>0.0</td>\n",
       "      <td>0.0</td>\n",
       "      <td>...</td>\n",
       "      <td>0.00000</td>\n",
       "      <td>0.0</td>\n",
       "      <td>0.0</td>\n",
       "      <td>0.0000</td>\n",
       "      <td>0.0</td>\n",
       "      <td>0.0</td>\n",
       "      <td>0.0</td>\n",
       "      <td>0.0</td>\n",
       "      <td>0.0</td>\n",
       "      <td>0.0</td>\n",
       "    </tr>\n",
       "  </tbody>\n",
       "</table>\n",
       "<p>5 rows × 758 columns</p>\n",
       "</div>"
      ],
      "text/plain": [
       "   able to  about how  about it  about the  about this  about what  after the  \\\n",
       "0      0.0        0.0  0.000000   0.000000         0.0     0.00000        0.0   \n",
       "1      0.0        0.0  0.000000   0.000000         0.0     0.00000        0.0   \n",
       "2      0.0        0.0  0.067396   0.068213         0.0     0.07389        0.0   \n",
       "3      0.0        0.0  0.000000   0.000000         0.0     0.00000        0.0   \n",
       "4      0.0        0.0  0.000000   0.000000         0.0     0.00000        0.0   \n",
       "\n",
       "   all my  all of  all you  ...  you would  you you  your body  your car  \\\n",
       "0     0.0     0.0      0.0  ...    0.00000      0.0        0.0    0.0000   \n",
       "1     0.0     0.0      0.0  ...    0.00000      0.0        0.0    0.1638   \n",
       "2     0.0     0.0      0.0  ...    0.07389      0.0        0.0    0.0000   \n",
       "3     0.0     0.0      0.0  ...    0.00000      0.0        0.0    0.0000   \n",
       "4     0.0     0.0      0.0  ...    0.00000      0.0        0.0    0.0000   \n",
       "\n",
       "   your friends  your life  your mind  your own  your phone  your time  \n",
       "0           0.0        0.0        0.0       0.0         0.0        0.0  \n",
       "1           0.0        0.0        0.0       0.0         0.0        0.0  \n",
       "2           0.0        0.0        0.0       0.0         0.0        0.0  \n",
       "3           0.0        0.0        0.0       0.0         0.0        0.0  \n",
       "4           0.0        0.0        0.0       0.0         0.0        0.0  \n",
       "\n",
       "[5 rows x 758 columns]"
      ]
     },
     "execution_count": 298,
     "metadata": {},
     "output_type": "execute_result"
    }
   ],
   "source": [
    "X_train_tf5 = pd.DataFrame(tf5.fit_transform(X_train).A, columns=tf5.get_feature_names_out())\n",
    "X_test_tf5 = pd.DataFrame(tf5.transform(X_test).A, columns=tf5.get_feature_names_out())\n",
    "X_train_tf5.head(5)"
   ]
  },
  {
   "cell_type": "code",
   "execution_count": 299,
   "id": "66e394a7-3621-40b0-adea-338ff3101292",
   "metadata": {},
   "outputs": [
    {
     "name": "stdout",
     "output_type": "stream",
     "text": [
      "(1857, 758) (619, 758)\n"
     ]
    }
   ],
   "source": [
    "print(X_train_tf5.shape, X_test_tf5.shape)"
   ]
  },
  {
   "cell_type": "code",
   "execution_count": 300,
   "id": "7cbef4cd-302a-42d4-b806-cab090a8971e",
   "metadata": {},
   "outputs": [
    {
     "data": {
      "text/plain": [
       "-11615"
      ]
     },
     "execution_count": 300,
     "metadata": {},
     "output_type": "execute_result"
    }
   ],
   "source": [
    "X_train_tf5.shape[1] - X_train_cvec.shape[1]"
   ]
  },
  {
   "cell_type": "markdown",
   "id": "93b7d8ae-f3b4-470a-8e57-5fb6803e3835",
   "metadata": {},
   "source": [
    "No difference in columns."
   ]
  },
  {
   "cell_type": "code",
   "execution_count": 301,
   "id": "af0166a5-a170-4b77-a026-82b6034f153c",
   "metadata": {},
   "outputs": [
    {
     "data": {
      "text/plain": [
       "you ll       24.111328\n",
       "from the     21.767009\n",
       "way to       21.294578\n",
       "how to       21.213515\n",
       "it will      21.071963\n",
       "https www    20.078578\n",
       "they re      19.447098\n",
       "you will     19.194376\n",
       "the time     18.674134\n",
       "you to       18.444543\n",
       "you need     18.297080\n",
       "at least     18.058391\n",
       "if it        17.878540\n",
       "going to     17.767393\n",
       "of my        17.702946\n",
       "you want     17.591376\n",
       "ve been      17.305209\n",
       "on my        17.287241\n",
       "the first    17.192915\n",
       "able to      16.728176\n",
       "dtype: float64"
      ]
     },
     "execution_count": 301,
     "metadata": {},
     "output_type": "execute_result"
    }
   ],
   "source": [
    "tf5_top_20 = X_train_tf5.sum().sort_values(ascending=False)[:20]\n",
    "tf5_top_20"
   ]
  },
  {
   "cell_type": "markdown",
   "id": "95aeeb2b-194b-41a1-9228-c5ff63efade3",
   "metadata": {},
   "source": [
    "----"
   ]
  },
  {
   "cell_type": "code",
   "execution_count": 303,
   "id": "a615e3f4-8918-4cf1-bda9-dff6a3345f81",
   "metadata": {},
   "outputs": [],
   "source": [
    "## adding lemmatization\n",
    "class LemmaTokenizer():\n",
    "    def __init__(self):\n",
    "        self.wnl = WordNetLemmatizer()\n",
    "        \n",
    "    def __call__(self, doc):\n",
    "        return [self.wnl.lemmatize(word) for word in word_tokenize(doc)]"
   ]
  },
  {
   "cell_type": "code",
   "execution_count": 349,
   "id": "4cdd9cf7-f1a0-4f85-a38d-6aec55aa55d1",
   "metadata": {
    "tags": []
   },
   "outputs": [
    {
     "data": {
      "text/plain": [
       "CountVectorizer(tokenizer=<__main__.LemmaTokenizer object at 0x0000018739674F10>)"
      ]
     },
     "execution_count": 349,
     "metadata": {},
     "output_type": "execute_result"
    }
   ],
   "source": [
    "lt = CountVectorizer(tokenizer=LemmaTokenizer())\n",
    "lt"
   ]
  },
  {
   "cell_type": "code",
   "execution_count": 350,
   "id": "147e3e68-4548-4a88-baa6-fd157e0a7dc6",
   "metadata": {},
   "outputs": [
    {
     "data": {
      "text/html": [
       "<div>\n",
       "<style scoped>\n",
       "    .dataframe tbody tr th:only-of-type {\n",
       "        vertical-align: middle;\n",
       "    }\n",
       "\n",
       "    .dataframe tbody tr th {\n",
       "        vertical-align: top;\n",
       "    }\n",
       "\n",
       "    .dataframe thead th {\n",
       "        text-align: right;\n",
       "    }\n",
       "</style>\n",
       "<table border=\"1\" class=\"dataframe\">\n",
       "  <thead>\n",
       "    <tr style=\"text-align: right;\">\n",
       "      <th></th>\n",
       "      <th>!</th>\n",
       "      <th>#</th>\n",
       "      <th>$</th>\n",
       "      <th>%</th>\n",
       "      <th>&amp;</th>\n",
       "      <th>'</th>\n",
       "      <th>''</th>\n",
       "      <th>'actually</th>\n",
       "      <th>'advice</th>\n",
       "      <th>'alpha</th>\n",
       "      <th>...</th>\n",
       "      <th>🙏</th>\n",
       "      <th>🙏❤️</th>\n",
       "      <th>🛑</th>\n",
       "      <th>🤒</th>\n",
       "      <th>🤮</th>\n",
       "      <th>🥑</th>\n",
       "      <th>🥶</th>\n",
       "      <th>🧵</th>\n",
       "      <th>🪖</th>\n",
       "      <th>🪡</th>\n",
       "    </tr>\n",
       "  </thead>\n",
       "  <tbody>\n",
       "    <tr>\n",
       "      <th>0</th>\n",
       "      <td>0</td>\n",
       "      <td>0</td>\n",
       "      <td>0</td>\n",
       "      <td>0</td>\n",
       "      <td>0</td>\n",
       "      <td>0</td>\n",
       "      <td>0</td>\n",
       "      <td>0</td>\n",
       "      <td>0</td>\n",
       "      <td>0</td>\n",
       "      <td>...</td>\n",
       "      <td>0</td>\n",
       "      <td>0</td>\n",
       "      <td>0</td>\n",
       "      <td>0</td>\n",
       "      <td>0</td>\n",
       "      <td>0</td>\n",
       "      <td>0</td>\n",
       "      <td>0</td>\n",
       "      <td>0</td>\n",
       "      <td>0</td>\n",
       "    </tr>\n",
       "    <tr>\n",
       "      <th>1</th>\n",
       "      <td>0</td>\n",
       "      <td>0</td>\n",
       "      <td>0</td>\n",
       "      <td>0</td>\n",
       "      <td>0</td>\n",
       "      <td>0</td>\n",
       "      <td>0</td>\n",
       "      <td>0</td>\n",
       "      <td>0</td>\n",
       "      <td>0</td>\n",
       "      <td>...</td>\n",
       "      <td>0</td>\n",
       "      <td>0</td>\n",
       "      <td>0</td>\n",
       "      <td>0</td>\n",
       "      <td>0</td>\n",
       "      <td>0</td>\n",
       "      <td>0</td>\n",
       "      <td>0</td>\n",
       "      <td>0</td>\n",
       "      <td>0</td>\n",
       "    </tr>\n",
       "    <tr>\n",
       "      <th>2</th>\n",
       "      <td>3</td>\n",
       "      <td>0</td>\n",
       "      <td>0</td>\n",
       "      <td>0</td>\n",
       "      <td>0</td>\n",
       "      <td>1</td>\n",
       "      <td>2</td>\n",
       "      <td>0</td>\n",
       "      <td>0</td>\n",
       "      <td>0</td>\n",
       "      <td>...</td>\n",
       "      <td>0</td>\n",
       "      <td>0</td>\n",
       "      <td>0</td>\n",
       "      <td>0</td>\n",
       "      <td>0</td>\n",
       "      <td>0</td>\n",
       "      <td>0</td>\n",
       "      <td>0</td>\n",
       "      <td>0</td>\n",
       "      <td>0</td>\n",
       "    </tr>\n",
       "    <tr>\n",
       "      <th>3</th>\n",
       "      <td>0</td>\n",
       "      <td>0</td>\n",
       "      <td>0</td>\n",
       "      <td>0</td>\n",
       "      <td>0</td>\n",
       "      <td>0</td>\n",
       "      <td>0</td>\n",
       "      <td>0</td>\n",
       "      <td>0</td>\n",
       "      <td>0</td>\n",
       "      <td>...</td>\n",
       "      <td>0</td>\n",
       "      <td>0</td>\n",
       "      <td>0</td>\n",
       "      <td>0</td>\n",
       "      <td>0</td>\n",
       "      <td>0</td>\n",
       "      <td>0</td>\n",
       "      <td>0</td>\n",
       "      <td>0</td>\n",
       "      <td>0</td>\n",
       "    </tr>\n",
       "    <tr>\n",
       "      <th>4</th>\n",
       "      <td>0</td>\n",
       "      <td>0</td>\n",
       "      <td>0</td>\n",
       "      <td>0</td>\n",
       "      <td>0</td>\n",
       "      <td>0</td>\n",
       "      <td>0</td>\n",
       "      <td>0</td>\n",
       "      <td>0</td>\n",
       "      <td>0</td>\n",
       "      <td>...</td>\n",
       "      <td>0</td>\n",
       "      <td>0</td>\n",
       "      <td>0</td>\n",
       "      <td>0</td>\n",
       "      <td>0</td>\n",
       "      <td>0</td>\n",
       "      <td>0</td>\n",
       "      <td>0</td>\n",
       "      <td>0</td>\n",
       "      <td>0</td>\n",
       "    </tr>\n",
       "  </tbody>\n",
       "</table>\n",
       "<p>5 rows × 11800 columns</p>\n",
       "</div>"
      ],
      "text/plain": [
       "   !  #  $  %  &  '  ''  'actually  'advice  'alpha  ...  🙏  🙏❤️  🛑  🤒  🤮  🥑  \\\n",
       "0  0  0  0  0  0  0   0          0        0       0  ...  0    0  0  0  0  0   \n",
       "1  0  0  0  0  0  0   0          0        0       0  ...  0    0  0  0  0  0   \n",
       "2  3  0  0  0  0  1   2          0        0       0  ...  0    0  0  0  0  0   \n",
       "3  0  0  0  0  0  0   0          0        0       0  ...  0    0  0  0  0  0   \n",
       "4  0  0  0  0  0  0   0          0        0       0  ...  0    0  0  0  0  0   \n",
       "\n",
       "   🥶  🧵  🪖  🪡  \n",
       "0  0  0  0  0  \n",
       "1  0  0  0  0  \n",
       "2  0  0  0  0  \n",
       "3  0  0  0  0  \n",
       "4  0  0  0  0  \n",
       "\n",
       "[5 rows x 11800 columns]"
      ]
     },
     "execution_count": 350,
     "metadata": {},
     "output_type": "execute_result"
    }
   ],
   "source": [
    "X_train_lt = pd.DataFrame(lt.fit_transform(X_train).A, columns=lt.get_feature_names_out())\n",
    "X_test_lt = pd.DataFrame(lt.transform(X_test).A, columns=lt.get_feature_names_out())\n",
    "X_train_lt.head(5)"
   ]
  },
  {
   "cell_type": "code",
   "execution_count": 351,
   "id": "dcf0fcc3-bf34-4b64-8434-d112dc7328ce",
   "metadata": {},
   "outputs": [
    {
     "name": "stdout",
     "output_type": "stream",
     "text": [
      "(1857, 11800) (619, 11800)\n"
     ]
    }
   ],
   "source": [
    "print(X_train_lt.shape, X_test_lt.shape)"
   ]
  },
  {
   "cell_type": "code",
   "execution_count": 352,
   "id": "40518c08-c704-4cb9-8d66-688b86e0d6d2",
   "metadata": {},
   "outputs": [
    {
     "data": {
      "text/plain": [
       "-573"
      ]
     },
     "execution_count": 352,
     "metadata": {},
     "output_type": "execute_result"
    }
   ],
   "source": [
    "X_train_lt.shape[1] - X_train_cvec.shape[1]"
   ]
  },
  {
   "cell_type": "markdown",
   "id": "ef425b01-e8d0-4f65-b858-7f4a43c9727f",
   "metadata": {},
   "source": [
    "No difference in columns."
   ]
  },
  {
   "cell_type": "code",
   "execution_count": 353,
   "id": "f917b428-e319-4cdc-9c1f-0c06d2ffbb86",
   "metadata": {},
   "outputs": [
    {
     "data": {
      "text/plain": [
       ".       8307\n",
       ",       6363\n",
       "the     5793\n",
       "to      5391\n",
       "a       5184\n",
       "and     4511\n",
       "i       4363\n",
       "you     4036\n",
       "it      3119\n",
       "of      2714\n",
       "in      2144\n",
       "that    2069\n",
       "for     1976\n",
       "is      1848\n",
       "your    1754\n",
       "’       1550\n",
       "this    1444\n",
       "*       1406\n",
       "if      1322\n",
       "on      1283\n",
       "dtype: int64"
      ]
     },
     "execution_count": 353,
     "metadata": {},
     "output_type": "execute_result"
    }
   ],
   "source": [
    "lt_top_20 = X_train_lt.sum().sort_values(ascending=False)[:20]\n",
    "lt_top_20"
   ]
  },
  {
   "cell_type": "code",
   "execution_count": 364,
   "id": "48172811-bcab-4355-88aa-623ae9c40f1e",
   "metadata": {
    "tags": []
   },
   "outputs": [
    {
     "data": {
      "text/plain": [
       "CountVectorizer(max_df=0.03, min_df=5,\n",
       "                tokenizer=<__main__.LemmaTokenizer object at 0x00000187396713D0>)"
      ]
     },
     "execution_count": 364,
     "metadata": {},
     "output_type": "execute_result"
    }
   ],
   "source": [
    "lt2 = CountVectorizer(tokenizer=LemmaTokenizer(), min_df=5, max_df=.03)\n",
    "lt2"
   ]
  },
  {
   "cell_type": "code",
   "execution_count": 374,
   "id": "220f95c8-cebc-4c5a-8e65-486edc1c0d21",
   "metadata": {},
   "outputs": [
    {
     "data": {
      "text/html": [
       "<div>\n",
       "<style scoped>\n",
       "    .dataframe tbody tr th:only-of-type {\n",
       "        vertical-align: middle;\n",
       "    }\n",
       "\n",
       "    .dataframe tbody tr th {\n",
       "        vertical-align: top;\n",
       "    }\n",
       "\n",
       "    .dataframe thead th {\n",
       "        text-align: right;\n",
       "    }\n",
       "</style>\n",
       "<table border=\"1\" class=\"dataframe\">\n",
       "  <thead>\n",
       "    <tr style=\"text-align: right;\">\n",
       "      <th></th>\n",
       "      <th>#</th>\n",
       "      <th>'</th>\n",
       "      <th>+</th>\n",
       "      <th>--</th>\n",
       "      <th>..</th>\n",
       "      <th>/</th>\n",
       "      <th>//www.youtube.com/watch</th>\n",
       "      <th>0</th>\n",
       "      <th>1.</th>\n",
       "      <th>10</th>\n",
       "      <th>...</th>\n",
       "      <th>yet</th>\n",
       "      <th>young</th>\n",
       "      <th>younger</th>\n",
       "      <th>yours</th>\n",
       "      <th>youtube</th>\n",
       "      <th>zero</th>\n",
       "      <th>zip</th>\n",
       "      <th>~</th>\n",
       "      <th>–</th>\n",
       "      <th>‘</th>\n",
       "    </tr>\n",
       "  </thead>\n",
       "  <tbody>\n",
       "    <tr>\n",
       "      <th>0</th>\n",
       "      <td>0</td>\n",
       "      <td>0</td>\n",
       "      <td>0</td>\n",
       "      <td>0</td>\n",
       "      <td>0</td>\n",
       "      <td>0</td>\n",
       "      <td>0</td>\n",
       "      <td>0</td>\n",
       "      <td>0</td>\n",
       "      <td>0</td>\n",
       "      <td>...</td>\n",
       "      <td>0</td>\n",
       "      <td>0</td>\n",
       "      <td>0</td>\n",
       "      <td>0</td>\n",
       "      <td>0</td>\n",
       "      <td>0</td>\n",
       "      <td>0</td>\n",
       "      <td>0</td>\n",
       "      <td>0</td>\n",
       "      <td>0</td>\n",
       "    </tr>\n",
       "    <tr>\n",
       "      <th>1</th>\n",
       "      <td>0</td>\n",
       "      <td>0</td>\n",
       "      <td>0</td>\n",
       "      <td>0</td>\n",
       "      <td>0</td>\n",
       "      <td>0</td>\n",
       "      <td>0</td>\n",
       "      <td>0</td>\n",
       "      <td>0</td>\n",
       "      <td>0</td>\n",
       "      <td>...</td>\n",
       "      <td>0</td>\n",
       "      <td>0</td>\n",
       "      <td>0</td>\n",
       "      <td>0</td>\n",
       "      <td>0</td>\n",
       "      <td>0</td>\n",
       "      <td>0</td>\n",
       "      <td>0</td>\n",
       "      <td>0</td>\n",
       "      <td>0</td>\n",
       "    </tr>\n",
       "    <tr>\n",
       "      <th>2</th>\n",
       "      <td>0</td>\n",
       "      <td>1</td>\n",
       "      <td>0</td>\n",
       "      <td>0</td>\n",
       "      <td>0</td>\n",
       "      <td>0</td>\n",
       "      <td>0</td>\n",
       "      <td>0</td>\n",
       "      <td>0</td>\n",
       "      <td>0</td>\n",
       "      <td>...</td>\n",
       "      <td>0</td>\n",
       "      <td>0</td>\n",
       "      <td>0</td>\n",
       "      <td>0</td>\n",
       "      <td>0</td>\n",
       "      <td>1</td>\n",
       "      <td>0</td>\n",
       "      <td>0</td>\n",
       "      <td>0</td>\n",
       "      <td>0</td>\n",
       "    </tr>\n",
       "    <tr>\n",
       "      <th>3</th>\n",
       "      <td>0</td>\n",
       "      <td>0</td>\n",
       "      <td>0</td>\n",
       "      <td>0</td>\n",
       "      <td>0</td>\n",
       "      <td>0</td>\n",
       "      <td>0</td>\n",
       "      <td>0</td>\n",
       "      <td>0</td>\n",
       "      <td>0</td>\n",
       "      <td>...</td>\n",
       "      <td>0</td>\n",
       "      <td>0</td>\n",
       "      <td>0</td>\n",
       "      <td>0</td>\n",
       "      <td>0</td>\n",
       "      <td>0</td>\n",
       "      <td>0</td>\n",
       "      <td>0</td>\n",
       "      <td>0</td>\n",
       "      <td>0</td>\n",
       "    </tr>\n",
       "    <tr>\n",
       "      <th>4</th>\n",
       "      <td>0</td>\n",
       "      <td>0</td>\n",
       "      <td>0</td>\n",
       "      <td>0</td>\n",
       "      <td>0</td>\n",
       "      <td>0</td>\n",
       "      <td>0</td>\n",
       "      <td>0</td>\n",
       "      <td>0</td>\n",
       "      <td>0</td>\n",
       "      <td>...</td>\n",
       "      <td>0</td>\n",
       "      <td>0</td>\n",
       "      <td>0</td>\n",
       "      <td>0</td>\n",
       "      <td>0</td>\n",
       "      <td>0</td>\n",
       "      <td>0</td>\n",
       "      <td>0</td>\n",
       "      <td>0</td>\n",
       "      <td>0</td>\n",
       "    </tr>\n",
       "  </tbody>\n",
       "</table>\n",
       "<p>5 rows × 2248 columns</p>\n",
       "</div>"
      ],
      "text/plain": [
       "   #  '  +  --  ..  /  //www.youtube.com/watch  0  1.  10  ...  yet  young  \\\n",
       "0  0  0  0   0   0  0                        0  0   0   0  ...    0      0   \n",
       "1  0  0  0   0   0  0                        0  0   0   0  ...    0      0   \n",
       "2  0  1  0   0   0  0                        0  0   0   0  ...    0      0   \n",
       "3  0  0  0   0   0  0                        0  0   0   0  ...    0      0   \n",
       "4  0  0  0   0   0  0                        0  0   0   0  ...    0      0   \n",
       "\n",
       "   younger  yours  youtube  zero  zip  ~  –  ‘  \n",
       "0        0      0        0     0    0  0  0  0  \n",
       "1        0      0        0     0    0  0  0  0  \n",
       "2        0      0        0     1    0  0  0  0  \n",
       "3        0      0        0     0    0  0  0  0  \n",
       "4        0      0        0     0    0  0  0  0  \n",
       "\n",
       "[5 rows x 2248 columns]"
      ]
     },
     "execution_count": 374,
     "metadata": {},
     "output_type": "execute_result"
    }
   ],
   "source": [
    "X_train_lt2 = pd.DataFrame(lt2.fit_transform(X_train).A, columns=lt2.get_feature_names_out())\n",
    "X_test_lt2 = pd.DataFrame(lt2.transform(X_test).A, columns=lt2.get_feature_names_out())\n",
    "X_train_lt2.head(5)"
   ]
  },
  {
   "cell_type": "code",
   "execution_count": 366,
   "id": "ea8d2473-7dbe-4274-aaab-a417c22b5fb7",
   "metadata": {},
   "outputs": [
    {
     "name": "stdout",
     "output_type": "stream",
     "text": [
      "(1857, 2248) (619, 2248)\n"
     ]
    }
   ],
   "source": [
    "print(X_train_lt2.shape, X_test_lt2.shape)"
   ]
  },
  {
   "cell_type": "code",
   "execution_count": 367,
   "id": "474687ae-ee6b-42f3-8121-70463e411aff",
   "metadata": {},
   "outputs": [
    {
     "data": {
      "text/plain": [
       "-10125"
      ]
     },
     "execution_count": 367,
     "metadata": {},
     "output_type": "execute_result"
    }
   ],
   "source": [
    "X_train_lt2.shape[1] - X_train_cvec.shape[1]"
   ]
  },
  {
   "cell_type": "markdown",
   "id": "bf6ba07f-31bd-422c-ac3b-4d78849067f8",
   "metadata": {},
   "source": [
    "No difference in columns."
   ]
  },
  {
   "cell_type": "code",
   "execution_count": 368,
   "id": "86d10f47-5310-450a-95d3-a0a431538cdf",
   "metadata": {},
   "outputs": [
    {
     "data": {
      "text/plain": [
       "#          143\n",
       "his        105\n",
       "price       97\n",
       "said        81\n",
       "him         81\n",
       "order       79\n",
       "app         77\n",
       "account     77\n",
       "item        76\n",
       "service     75\n",
       "school      74\n",
       "email       73\n",
       "cost        73\n",
       "'           72\n",
       "talk        70\n",
       "night       69\n",
       "line        68\n",
       "old         68\n",
       "name        68\n",
       "wanted      68\n",
       "dtype: int64"
      ]
     },
     "execution_count": 368,
     "metadata": {},
     "output_type": "execute_result"
    }
   ],
   "source": [
    "lt2_top_20 = X_train_lt2.sum().sort_values(ascending=False)[:20]\n",
    "lt2_top_20"
   ]
  },
  {
   "cell_type": "code",
   "execution_count": 560,
   "id": "d79f51d7-87c4-4727-9a36-42f9f9c04f78",
   "metadata": {},
   "outputs": [
    {
     "data": {
      "image/png": "[encoded data removed]",
      "text/plain": [
       "<Figure size 432x288 with 1 Axes>"
      ]
     },
     "metadata": {
      "needs_background": "light"
     },
     "output_type": "display_data"
    }
   ],
   "source": [
    "sns.barplot(y=list(lt2_top_20.index), x=lt2_top_20.values, orient='h', color='tab:blue')\n",
    "plt.title(\"Top 20 words without stopwords\");"
   ]
  },
  {
   "cell_type": "code",
   "execution_count": 459,
   "id": "e7c04e20-a44b-4ac5-b79b-bcf575b08fb6",
   "metadata": {
    "tags": []
   },
   "outputs": [
    {
     "data": {
      "text/plain": [
       "CountVectorizer(max_df=0.01,\n",
       "                tokenizer=<__main__.LemmaTokenizer object at 0x000001871608B8B0>)"
      ]
     },
     "execution_count": 459,
     "metadata": {},
     "output_type": "execute_result"
    }
   ],
   "source": [
    "lt3 = CountVectorizer(tokenizer=LemmaTokenizer(), min_df=1, max_df=.01)\n",
    "lt3"
   ]
  },
  {
   "cell_type": "code",
   "execution_count": 460,
   "id": "cbd3fd6b-e467-46a3-8d8d-68389de2bb11",
   "metadata": {},
   "outputs": [
    {
     "data": {
      "text/html": [
       "<div>\n",
       "<style scoped>\n",
       "    .dataframe tbody tr th:only-of-type {\n",
       "        vertical-align: middle;\n",
       "    }\n",
       "\n",
       "    .dataframe tbody tr th {\n",
       "        vertical-align: top;\n",
       "    }\n",
       "\n",
       "    .dataframe thead th {\n",
       "        text-align: right;\n",
       "    }\n",
       "</style>\n",
       "<table border=\"1\" class=\"dataframe\">\n",
       "  <thead>\n",
       "    <tr style=\"text-align: right;\">\n",
       "      <th></th>\n",
       "      <th>'actually</th>\n",
       "      <th>'advice</th>\n",
       "      <th>'alpha</th>\n",
       "      <th>'am</th>\n",
       "      <th>'auto</th>\n",
       "      <th>'bad</th>\n",
       "      <th>'blah</th>\n",
       "      <th>'bulking</th>\n",
       "      <th>'but</th>\n",
       "      <th>'cause</th>\n",
       "      <th>...</th>\n",
       "      <th>🙏</th>\n",
       "      <th>🙏❤️</th>\n",
       "      <th>🛑</th>\n",
       "      <th>🤒</th>\n",
       "      <th>🤮</th>\n",
       "      <th>🥑</th>\n",
       "      <th>🥶</th>\n",
       "      <th>🧵</th>\n",
       "      <th>🪖</th>\n",
       "      <th>🪡</th>\n",
       "    </tr>\n",
       "  </thead>\n",
       "  <tbody>\n",
       "    <tr>\n",
       "      <th>0</th>\n",
       "      <td>0</td>\n",
       "      <td>0</td>\n",
       "      <td>0</td>\n",
       "      <td>0</td>\n",
       "      <td>0</td>\n",
       "      <td>0</td>\n",
       "      <td>0</td>\n",
       "      <td>0</td>\n",
       "      <td>0</td>\n",
       "      <td>0</td>\n",
       "      <td>...</td>\n",
       "      <td>0</td>\n",
       "      <td>0</td>\n",
       "      <td>0</td>\n",
       "      <td>0</td>\n",
       "      <td>0</td>\n",
       "      <td>0</td>\n",
       "      <td>0</td>\n",
       "      <td>0</td>\n",
       "      <td>0</td>\n",
       "      <td>0</td>\n",
       "    </tr>\n",
       "    <tr>\n",
       "      <th>1</th>\n",
       "      <td>0</td>\n",
       "      <td>0</td>\n",
       "      <td>0</td>\n",
       "      <td>0</td>\n",
       "      <td>0</td>\n",
       "      <td>0</td>\n",
       "      <td>0</td>\n",
       "      <td>0</td>\n",
       "      <td>0</td>\n",
       "      <td>0</td>\n",
       "      <td>...</td>\n",
       "      <td>0</td>\n",
       "      <td>0</td>\n",
       "      <td>0</td>\n",
       "      <td>0</td>\n",
       "      <td>0</td>\n",
       "      <td>0</td>\n",
       "      <td>0</td>\n",
       "      <td>0</td>\n",
       "      <td>0</td>\n",
       "      <td>0</td>\n",
       "    </tr>\n",
       "    <tr>\n",
       "      <th>2</th>\n",
       "      <td>0</td>\n",
       "      <td>0</td>\n",
       "      <td>0</td>\n",
       "      <td>0</td>\n",
       "      <td>0</td>\n",
       "      <td>0</td>\n",
       "      <td>0</td>\n",
       "      <td>0</td>\n",
       "      <td>0</td>\n",
       "      <td>0</td>\n",
       "      <td>...</td>\n",
       "      <td>0</td>\n",
       "      <td>0</td>\n",
       "      <td>0</td>\n",
       "      <td>0</td>\n",
       "      <td>0</td>\n",
       "      <td>0</td>\n",
       "      <td>0</td>\n",
       "      <td>0</td>\n",
       "      <td>0</td>\n",
       "      <td>0</td>\n",
       "    </tr>\n",
       "    <tr>\n",
       "      <th>3</th>\n",
       "      <td>0</td>\n",
       "      <td>0</td>\n",
       "      <td>0</td>\n",
       "      <td>0</td>\n",
       "      <td>0</td>\n",
       "      <td>0</td>\n",
       "      <td>0</td>\n",
       "      <td>0</td>\n",
       "      <td>0</td>\n",
       "      <td>0</td>\n",
       "      <td>...</td>\n",
       "      <td>0</td>\n",
       "      <td>0</td>\n",
       "      <td>0</td>\n",
       "      <td>0</td>\n",
       "      <td>0</td>\n",
       "      <td>0</td>\n",
       "      <td>0</td>\n",
       "      <td>0</td>\n",
       "      <td>0</td>\n",
       "      <td>0</td>\n",
       "    </tr>\n",
       "    <tr>\n",
       "      <th>4</th>\n",
       "      <td>0</td>\n",
       "      <td>0</td>\n",
       "      <td>0</td>\n",
       "      <td>0</td>\n",
       "      <td>0</td>\n",
       "      <td>0</td>\n",
       "      <td>0</td>\n",
       "      <td>0</td>\n",
       "      <td>0</td>\n",
       "      <td>0</td>\n",
       "      <td>...</td>\n",
       "      <td>0</td>\n",
       "      <td>0</td>\n",
       "      <td>0</td>\n",
       "      <td>0</td>\n",
       "      <td>0</td>\n",
       "      <td>0</td>\n",
       "      <td>0</td>\n",
       "      <td>0</td>\n",
       "      <td>0</td>\n",
       "      <td>0</td>\n",
       "    </tr>\n",
       "  </tbody>\n",
       "</table>\n",
       "<p>5 rows × 10926 columns</p>\n",
       "</div>"
      ],
      "text/plain": [
       "   'actually  'advice  'alpha  'am  'auto  'bad  'blah  'bulking  'but  \\\n",
       "0          0        0       0    0      0     0      0         0     0   \n",
       "1          0        0       0    0      0     0      0         0     0   \n",
       "2          0        0       0    0      0     0      0         0     0   \n",
       "3          0        0       0    0      0     0      0         0     0   \n",
       "4          0        0       0    0      0     0      0         0     0   \n",
       "\n",
       "   'cause  ...  🙏  🙏❤️  🛑  🤒  🤮  🥑  🥶  🧵  🪖  🪡  \n",
       "0       0  ...  0    0  0  0  0  0  0  0  0  0  \n",
       "1       0  ...  0    0  0  0  0  0  0  0  0  0  \n",
       "2       0  ...  0    0  0  0  0  0  0  0  0  0  \n",
       "3       0  ...  0    0  0  0  0  0  0  0  0  0  \n",
       "4       0  ...  0    0  0  0  0  0  0  0  0  0  \n",
       "\n",
       "[5 rows x 10926 columns]"
      ]
     },
     "execution_count": 460,
     "metadata": {},
     "output_type": "execute_result"
    }
   ],
   "source": [
    "X_train_lt3 = pd.DataFrame(lt3.fit_transform(X_train).A, columns=lt3.get_feature_names_out())\n",
    "X_test_lt3 = pd.DataFrame(lt3.transform(X_test).A, columns=lt3.get_feature_names_out())\n",
    "X_train_lt3.head(5)"
   ]
  },
  {
   "cell_type": "code",
   "execution_count": 461,
   "id": "4eb5738f-d2a0-4ed7-9d51-4d994bd1a0c9",
   "metadata": {},
   "outputs": [
    {
     "name": "stdout",
     "output_type": "stream",
     "text": [
      "(1857, 10926) (619, 10926)\n"
     ]
    }
   ],
   "source": [
    "print(X_train_lt3.shape, X_test_lt3.shape)"
   ]
  },
  {
   "cell_type": "code",
   "execution_count": 462,
   "id": "dccae4b7-8d14-4549-8017-6e1da85b4d38",
   "metadata": {},
   "outputs": [
    {
     "data": {
      "text/plain": [
       "-1447"
      ]
     },
     "execution_count": 462,
     "metadata": {},
     "output_type": "execute_result"
    }
   ],
   "source": [
    "X_train_lt3.shape[1] - X_train_cvec.shape[1]"
   ]
  },
  {
   "cell_type": "markdown",
   "id": "b6533d9a-7d41-49c8-bc84-6301d1993c09",
   "metadata": {},
   "source": [
    "No difference in columns."
   ]
  },
  {
   "cell_type": "code",
   "execution_count": 463,
   "id": "26f54018-6415-422a-aa75-93830ff91e73",
   "metadata": {},
   "outputs": [
    {
     "data": {
      "text/plain": [
       "+           63\n",
       "debt        47\n",
       "\\-          45\n",
       "delivery    40\n",
       "ctrl        38\n",
       "sheet       38\n",
       "–           37\n",
       "data        36\n",
       "gt          35\n",
       "period      35\n",
       "click       35\n",
       "purchase    34\n",
       "red         34\n",
       "toilet      33\n",
       "housing     33\n",
       "market      33\n",
       "speed       32\n",
       "program     32\n",
       "fruit       32\n",
       "gift        32\n",
       "dtype: int64"
      ]
     },
     "execution_count": 463,
     "metadata": {},
     "output_type": "execute_result"
    }
   ],
   "source": [
    "lt3_top_20 = X_train_lt3.sum().sort_values(ascending=False)[:20]\n",
    "lt3_top_20"
   ]
  },
  {
   "cell_type": "code",
   "execution_count": 501,
   "id": "7dc067ea-2d25-447d-9b3a-a2967d50484b",
   "metadata": {
    "tags": []
   },
   "outputs": [
    {
     "data": {
      "text/plain": [
       "TfidfVectorizer(max_df=0.01, min_df=15,\n",
       "                tokenizer=<__main__.LemmaTokenizer object at 0x00000187136DDFA0>)"
      ]
     },
     "execution_count": 501,
     "metadata": {},
     "output_type": "execute_result"
    }
   ],
   "source": [
    "lt4 = TfidfVectorizer(tokenizer=LemmaTokenizer(), min_df=15, max_df=.01)\n",
    "lt4"
   ]
  },
  {
   "cell_type": "code",
   "execution_count": 502,
   "id": "02a31e8e-2b15-42ac-9c25-8adeec730a00",
   "metadata": {},
   "outputs": [
    {
     "data": {
      "text/html": [
       "<div>\n",
       "<style scoped>\n",
       "    .dataframe tbody tr th:only-of-type {\n",
       "        vertical-align: middle;\n",
       "    }\n",
       "\n",
       "    .dataframe tbody tr th {\n",
       "        vertical-align: top;\n",
       "    }\n",
       "\n",
       "    .dataframe thead th {\n",
       "        text-align: right;\n",
       "    }\n",
       "</style>\n",
       "<table border=\"1\" class=\"dataframe\">\n",
       "  <thead>\n",
       "    <tr style=\"text-align: right;\">\n",
       "      <th></th>\n",
       "      <th>12</th>\n",
       "      <th>5.</th>\n",
       "      <th>7</th>\n",
       "      <th>accept</th>\n",
       "      <th>active</th>\n",
       "      <th>activity</th>\n",
       "      <th>added</th>\n",
       "      <th>adding</th>\n",
       "      <th>adult</th>\n",
       "      <th>advance</th>\n",
       "      <th>...</th>\n",
       "      <th>washing</th>\n",
       "      <th>wear</th>\n",
       "      <th>wet</th>\n",
       "      <th>white</th>\n",
       "      <th>wife</th>\n",
       "      <th>willing</th>\n",
       "      <th>win</th>\n",
       "      <th>writing</th>\n",
       "      <th>young</th>\n",
       "      <th>zero</th>\n",
       "    </tr>\n",
       "  </thead>\n",
       "  <tbody>\n",
       "    <tr>\n",
       "      <th>0</th>\n",
       "      <td>0.0</td>\n",
       "      <td>0.0</td>\n",
       "      <td>0.0</td>\n",
       "      <td>0.0</td>\n",
       "      <td>0.0</td>\n",
       "      <td>0.0</td>\n",
       "      <td>0.0</td>\n",
       "      <td>0.0</td>\n",
       "      <td>0.000000</td>\n",
       "      <td>0.0</td>\n",
       "      <td>...</td>\n",
       "      <td>0.0</td>\n",
       "      <td>0.0</td>\n",
       "      <td>0.0</td>\n",
       "      <td>0.0</td>\n",
       "      <td>0.0</td>\n",
       "      <td>0.0</td>\n",
       "      <td>0.0</td>\n",
       "      <td>0.000000</td>\n",
       "      <td>0.0</td>\n",
       "      <td>0.000000</td>\n",
       "    </tr>\n",
       "    <tr>\n",
       "      <th>1</th>\n",
       "      <td>0.0</td>\n",
       "      <td>0.0</td>\n",
       "      <td>0.0</td>\n",
       "      <td>0.0</td>\n",
       "      <td>0.0</td>\n",
       "      <td>0.0</td>\n",
       "      <td>0.0</td>\n",
       "      <td>0.0</td>\n",
       "      <td>0.000000</td>\n",
       "      <td>0.0</td>\n",
       "      <td>...</td>\n",
       "      <td>0.0</td>\n",
       "      <td>0.0</td>\n",
       "      <td>0.0</td>\n",
       "      <td>0.0</td>\n",
       "      <td>0.0</td>\n",
       "      <td>0.0</td>\n",
       "      <td>0.0</td>\n",
       "      <td>0.000000</td>\n",
       "      <td>0.0</td>\n",
       "      <td>0.000000</td>\n",
       "    </tr>\n",
       "    <tr>\n",
       "      <th>2</th>\n",
       "      <td>0.0</td>\n",
       "      <td>0.0</td>\n",
       "      <td>0.0</td>\n",
       "      <td>0.0</td>\n",
       "      <td>0.0</td>\n",
       "      <td>0.0</td>\n",
       "      <td>0.0</td>\n",
       "      <td>0.0</td>\n",
       "      <td>0.146754</td>\n",
       "      <td>0.0</td>\n",
       "      <td>...</td>\n",
       "      <td>0.0</td>\n",
       "      <td>0.0</td>\n",
       "      <td>0.0</td>\n",
       "      <td>0.0</td>\n",
       "      <td>0.0</td>\n",
       "      <td>0.0</td>\n",
       "      <td>0.0</td>\n",
       "      <td>0.296352</td>\n",
       "      <td>0.0</td>\n",
       "      <td>0.149678</td>\n",
       "    </tr>\n",
       "    <tr>\n",
       "      <th>3</th>\n",
       "      <td>0.0</td>\n",
       "      <td>0.0</td>\n",
       "      <td>0.0</td>\n",
       "      <td>0.0</td>\n",
       "      <td>0.0</td>\n",
       "      <td>0.0</td>\n",
       "      <td>0.0</td>\n",
       "      <td>0.0</td>\n",
       "      <td>0.000000</td>\n",
       "      <td>0.0</td>\n",
       "      <td>...</td>\n",
       "      <td>0.0</td>\n",
       "      <td>0.0</td>\n",
       "      <td>0.0</td>\n",
       "      <td>0.0</td>\n",
       "      <td>0.0</td>\n",
       "      <td>0.0</td>\n",
       "      <td>0.0</td>\n",
       "      <td>0.000000</td>\n",
       "      <td>0.0</td>\n",
       "      <td>0.000000</td>\n",
       "    </tr>\n",
       "    <tr>\n",
       "      <th>4</th>\n",
       "      <td>0.0</td>\n",
       "      <td>0.0</td>\n",
       "      <td>0.0</td>\n",
       "      <td>0.0</td>\n",
       "      <td>0.0</td>\n",
       "      <td>0.0</td>\n",
       "      <td>0.0</td>\n",
       "      <td>0.0</td>\n",
       "      <td>0.000000</td>\n",
       "      <td>0.0</td>\n",
       "      <td>...</td>\n",
       "      <td>0.0</td>\n",
       "      <td>0.0</td>\n",
       "      <td>0.0</td>\n",
       "      <td>0.0</td>\n",
       "      <td>0.0</td>\n",
       "      <td>0.0</td>\n",
       "      <td>0.0</td>\n",
       "      <td>0.000000</td>\n",
       "      <td>0.0</td>\n",
       "      <td>0.000000</td>\n",
       "    </tr>\n",
       "  </tbody>\n",
       "</table>\n",
       "<p>5 rows × 204 columns</p>\n",
       "</div>"
      ],
      "text/plain": [
       "    12   5.    7  accept  active  activity  added  adding     adult  advance  \\\n",
       "0  0.0  0.0  0.0     0.0     0.0       0.0    0.0     0.0  0.000000      0.0   \n",
       "1  0.0  0.0  0.0     0.0     0.0       0.0    0.0     0.0  0.000000      0.0   \n",
       "2  0.0  0.0  0.0     0.0     0.0       0.0    0.0     0.0  0.146754      0.0   \n",
       "3  0.0  0.0  0.0     0.0     0.0       0.0    0.0     0.0  0.000000      0.0   \n",
       "4  0.0  0.0  0.0     0.0     0.0       0.0    0.0     0.0  0.000000      0.0   \n",
       "\n",
       "   ...  washing  wear  wet  white  wife  willing  win   writing  young  \\\n",
       "0  ...      0.0   0.0  0.0    0.0   0.0      0.0  0.0  0.000000    0.0   \n",
       "1  ...      0.0   0.0  0.0    0.0   0.0      0.0  0.0  0.000000    0.0   \n",
       "2  ...      0.0   0.0  0.0    0.0   0.0      0.0  0.0  0.296352    0.0   \n",
       "3  ...      0.0   0.0  0.0    0.0   0.0      0.0  0.0  0.000000    0.0   \n",
       "4  ...      0.0   0.0  0.0    0.0   0.0      0.0  0.0  0.000000    0.0   \n",
       "\n",
       "       zero  \n",
       "0  0.000000  \n",
       "1  0.000000  \n",
       "2  0.149678  \n",
       "3  0.000000  \n",
       "4  0.000000  \n",
       "\n",
       "[5 rows x 204 columns]"
      ]
     },
     "execution_count": 502,
     "metadata": {},
     "output_type": "execute_result"
    }
   ],
   "source": [
    "X_train_lt4 = pd.DataFrame(lt4.fit_transform(X_train).A, columns=lt4.get_feature_names_out())\n",
    "X_test_lt4 = pd.DataFrame(lt4.transform(X_test).A, columns=lt4.get_feature_names_out())\n",
    "X_train_lt4.head(5)"
   ]
  },
  {
   "cell_type": "code",
   "execution_count": 503,
   "id": "45ec669b-9ef3-4125-9e21-119587061c8a",
   "metadata": {},
   "outputs": [
    {
     "name": "stdout",
     "output_type": "stream",
     "text": [
      "(1857, 204) (619, 204)\n"
     ]
    }
   ],
   "source": [
    "print(X_train_lt4.shape, X_test_lt4.shape)"
   ]
  },
  {
   "cell_type": "code",
   "execution_count": 504,
   "id": "727c1cc0-b80d-407c-9861-0b346fe0ad43",
   "metadata": {},
   "outputs": [
    {
     "data": {
      "text/plain": [
       "-12169"
      ]
     },
     "execution_count": 504,
     "metadata": {},
     "output_type": "execute_result"
    }
   ],
   "source": [
    "X_train_lt4.shape[1] - X_train_cvec.shape[1]"
   ]
  },
  {
   "cell_type": "markdown",
   "id": "c4d5c9c5-2925-4aaa-b157-7c92501d696e",
   "metadata": {},
   "source": [
    "No difference in columns."
   ]
  },
  {
   "cell_type": "code",
   "execution_count": 505,
   "id": "4cdd069c-282c-49c8-9f99-ae93d9d0ed4d",
   "metadata": {},
   "outputs": [
    {
     "data": {
      "text/plain": [
       "pop         13.119122\n",
       "exact       12.700149\n",
       "amazon      12.368954\n",
       "toilet      12.288400\n",
       "click       12.133412\n",
       "tomorrow    11.990057\n",
       "speed       11.955813\n",
       "heat        11.787918\n",
       "news        11.752019\n",
       "apple       11.726121\n",
       "delivery    11.557661\n",
       "tiny        11.540897\n",
       "salt        11.527239\n",
       "win         11.509013\n",
       "language    11.464348\n",
       "double      11.435123\n",
       "black       11.321657\n",
       "fill        11.089262\n",
       "wake        11.079980\n",
       "sitting     11.064942\n",
       "dtype: float64"
      ]
     },
     "execution_count": 505,
     "metadata": {},
     "output_type": "execute_result"
    }
   ],
   "source": [
    "lt4_top_20 = X_train_lt4.sum().sort_values(ascending=False)[:20]\n",
    "lt4_top_20"
   ]
  },
  {
   "cell_type": "markdown",
   "id": "3f023e6c-d573-4f35-b384-a76104d4e1fd",
   "metadata": {},
   "source": [
    "### Baseline Model"
   ]
  },
  {
   "cell_type": "markdown",
   "id": "447dd23e-3691-404e-89c9-0ea3bce6cbe3",
   "metadata": {},
   "source": [
    "Let's create a baseline model to compare our results."
   ]
  },
  {
   "cell_type": "code",
   "execution_count": 8,
   "id": "ddc27ae3-1260-405e-8454-f9a6c3e36b8c",
   "metadata": {},
   "outputs": [],
   "source": [
    "dc = DummyClassifier()"
   ]
  },
  {
   "cell_type": "code",
   "execution_count": 9,
   "id": "123810de-7b26-4f05-b802-0ddf33f60b0e",
   "metadata": {},
   "outputs": [
    {
     "name": "stdout",
     "output_type": "stream",
     "text": [
      "\n",
      "        Training Accuracy Score: 0.7587506731287023\n",
      "        Test Accuracy Score: 0.7592891760904685\n",
      "        \n",
      "        --- Performance on unseen data ----\n",
      "        Recall (Sensitivity): 0.0\n",
      "        Specificity: 1.0\n",
      "        Precision: 0.0\n",
      "        \n",
      "        Balance Accuracy: 0.5\n",
      "        F1 Score: 0.0\n",
      "        \n"
     ]
    },
    {
     "name": "stderr",
     "output_type": "stream",
     "text": [
      "C:\\ProgramData\\Anaconda3\\lib\\site-packages\\sklearn\\metrics\\_classification.py:1318: UndefinedMetricWarning: Precision is ill-defined and being set to 0.0 due to no predicted samples. Use `zero_division` parameter to control this behavior.\n",
      "  _warn_prf(average, modifier, msg_start, len(result))\n"
     ]
    }
   ],
   "source": [
    "make_model(dc, X_train_cvec, X_test_cvec, y_train_encoded, y_test_encoded)"
   ]
  },
  {
   "cell_type": "markdown",
   "id": "1cc9d1de-d8e0-4c0d-a8bd-8ddbfc9abef0",
   "metadata": {},
   "source": [
    "- Regarding accuracy, 75.9% of our predictions correctly predicted if a posts belongs to `r/LifeProTips` or `r/lifehacks`.\n",
    "\n",
    "- Regarding recall, the proportion of correctly predicted `r/lifehacks` posts over actual `r/lifehacks` posts. <br />\n",
    "In this case we did not correctly predict any posts belong to `r/lifehacks`.\n",
    "\n",
    "- Regarding specificity, the proportion of correctly predicted `r/LifeProTips` posts over actual `r/LifeProTips` posts. <br />\n",
    "In this case we correctly predicted all `r/LifeProTips` posts that belong to `r/LifeProTips`.\n",
    "\n",
    "- Regarding precision, the proportion of correct `r/lifehacks` predictions over all `r/lifehacks` predictions. <br />\n",
    "Since we did not predict any post to belong to `r/lifehacks`, our precision score cannot be calculated (can't divide by zero). Defaults to zero instead.\n",
    "\n",
    "- Our balanced accuracy score is the average of our recall and specificty score. It's important for us here because our data is imbalanced (far more cases of `r/LifeProTips` than `r/lifehacks`). <br />\n",
    "Here we can see that our model is not doing a good job of predicting both classes correctly."
   ]
  },
  {
   "cell_type": "markdown",
   "id": "b096d517-7d57-4469-92a6-35898f194cf2",
   "metadata": {},
   "source": [
    "Given that our recall score is `0`, and our specifity score is `1`, our baseline model simply predicted all posts in the dataset to belong to `r/LifeProTips`! <br />\n",
    "That means we incorrectly predicted about `30%` of our data, hence our accuracy score of 0.759."
   ]
  },
  {
   "cell_type": "markdown",
   "id": "768f7ca5-e491-4fa1-b673-815f33b64ef3",
   "metadata": {},
   "source": [
    "F1 score...."
   ]
  },
  {
   "cell_type": "markdown",
   "id": "40b80a46-efee-4f9e-bc9d-504347ff8906",
   "metadata": {},
   "source": [
    "### Logistic Regression"
   ]
  },
  {
   "cell_type": "markdown",
   "id": "f930bfc3-e402-4618-a578-d1c4029872f6",
   "metadata": {},
   "source": [
    "Alias: Kronk"
   ]
  },
  {
   "cell_type": "code",
   "execution_count": 10,
   "id": "ef298f31-c339-40a4-a69a-d03e154f7f27",
   "metadata": {},
   "outputs": [],
   "source": [
    "lr = LogisticRegression(max_iter=1_000, random_state=14)"
   ]
  },
  {
   "cell_type": "code",
   "execution_count": 11,
   "id": "ac5e15d4-9809-45e1-bd37-a9295060d64c",
   "metadata": {},
   "outputs": [
    {
     "name": "stdout",
     "output_type": "stream",
     "text": [
      "\n",
      "        Training Accuracy Score: 0.9983844911147012\n",
      "        Test Accuracy Score: 0.7366720516962844\n",
      "        \n",
      "        --- Performance on unseen data ----\n",
      "        Recall (Sensitivity): 0.35570469798657717\n",
      "        Specificity: 0.8574468085106383\n",
      "        Precision: 0.44166666666666665\n",
      "        \n",
      "        Balance Accuracy: 0.6065757532486077\n",
      "        F1 Score: 0.3940520446096654\n",
      "        \n"
     ]
    }
   ],
   "source": [
    "make_model(lr, X_train_cvec, X_test_cvec, y_train_encoded, y_test_encoded)"
   ]
  },
  {
   "cell_type": "markdown",
   "id": "32f36923-4503-4740-ae09-2a08b66b53a4",
   "metadata": {},
   "source": [
    "Verdict: Worse than our baseline in terms of accuracy."
   ]
  },
  {
   "cell_type": "code",
   "execution_count": 12,
   "id": "a2c55dbd-25f6-4bea-a787-288ee9c4b6de",
   "metadata": {},
   "outputs": [
    {
     "data": {
      "text/html": [
       "<div>\n",
       "<style scoped>\n",
       "    .dataframe tbody tr th:only-of-type {\n",
       "        vertical-align: middle;\n",
       "    }\n",
       "\n",
       "    .dataframe tbody tr th {\n",
       "        vertical-align: top;\n",
       "    }\n",
       "\n",
       "    .dataframe thead th {\n",
       "        text-align: right;\n",
       "    }\n",
       "</style>\n",
       "<table border=\"1\" class=\"dataframe\">\n",
       "  <thead>\n",
       "    <tr style=\"text-align: right;\">\n",
       "      <th></th>\n",
       "      <th>0</th>\n",
       "    </tr>\n",
       "  </thead>\n",
       "  <tbody>\n",
       "    <tr>\n",
       "      <th>hack</th>\n",
       "      <td>1.316535</td>\n",
       "    </tr>\n",
       "    <tr>\n",
       "      <th>tried</th>\n",
       "      <td>1.203418</td>\n",
       "    </tr>\n",
       "    <tr>\n",
       "      <th>tips</th>\n",
       "      <td>1.167859</td>\n",
       "    </tr>\n",
       "    <tr>\n",
       "      <th>oil</th>\n",
       "      <td>0.963483</td>\n",
       "    </tr>\n",
       "    <tr>\n",
       "      <th>any</th>\n",
       "      <td>0.821774</td>\n",
       "    </tr>\n",
       "    <tr>\n",
       "      <th>...</th>\n",
       "      <td>...</td>\n",
       "    </tr>\n",
       "    <tr>\n",
       "      <th>people</th>\n",
       "      <td>-0.749673</td>\n",
       "    </tr>\n",
       "    <tr>\n",
       "      <th>money</th>\n",
       "      <td>-0.827517</td>\n",
       "    </tr>\n",
       "    <tr>\n",
       "      <th>often</th>\n",
       "      <td>-0.844439</td>\n",
       "    </tr>\n",
       "    <tr>\n",
       "      <th>many</th>\n",
       "      <td>-0.859666</td>\n",
       "    </tr>\n",
       "    <tr>\n",
       "      <th>lpt</th>\n",
       "      <td>-0.867368</td>\n",
       "    </tr>\n",
       "  </tbody>\n",
       "</table>\n",
       "<p>12373 rows × 1 columns</p>\n",
       "</div>"
      ],
      "text/plain": [
       "               0\n",
       "hack    1.316535\n",
       "tried   1.203418\n",
       "tips    1.167859\n",
       "oil     0.963483\n",
       "any     0.821774\n",
       "...          ...\n",
       "people -0.749673\n",
       "money  -0.827517\n",
       "often  -0.844439\n",
       "many   -0.859666\n",
       "lpt    -0.867368\n",
       "\n",
       "[12373 rows x 1 columns]"
      ]
     },
     "execution_count": 12,
     "metadata": {},
     "output_type": "execute_result"
    }
   ],
   "source": [
    "kronk_coefs = pd.DataFrame(lr.coef_[0], index=X_train_cvec.columns)\n",
    "kronk_coefs.sort_values(by=0, ascending=False)"
   ]
  },
  {
   "cell_type": "markdown",
   "id": "2bcc754d-02b4-4bca-b18f-a6447ee80880",
   "metadata": {},
   "source": [
    "Higher scores correlate with `r/lifehack` and lower scores correlate with `r/LifeProTips`."
   ]
  },
  {
   "cell_type": "markdown",
   "id": "4132761f-2c24-40c3-93f0-bc1826e54c73",
   "metadata": {},
   "source": [
    "#### Kronk v2.0"
   ]
  },
  {
   "cell_type": "code",
   "execution_count": 13,
   "id": "cbe26833-ef79-4aff-8f85-1783829f7b59",
   "metadata": {},
   "outputs": [
    {
     "data": {
      "text/plain": [
       "{'C': 1.0,\n",
       " 'class_weight': None,\n",
       " 'dual': False,\n",
       " 'fit_intercept': True,\n",
       " 'intercept_scaling': 1,\n",
       " 'l1_ratio': None,\n",
       " 'max_iter': 1000,\n",
       " 'multi_class': 'auto',\n",
       " 'n_jobs': None,\n",
       " 'penalty': 'l2',\n",
       " 'random_state': 14,\n",
       " 'solver': 'lbfgs',\n",
       " 'tol': 0.0001,\n",
       " 'verbose': 0,\n",
       " 'warm_start': False}"
      ]
     },
     "execution_count": 13,
     "metadata": {},
     "output_type": "execute_result"
    }
   ],
   "source": [
    "lr.get_params()"
   ]
  },
  {
   "cell_type": "raw",
   "id": "40b67e77-03a7-437b-8f9d-93d00734d7df",
   "metadata": {},
   "source": [
    "# will use this sample space for performing a randomsearch on hyperparameters\n",
    "C_sample_space = pd.DataFrame(list(np.round(np.arange(0.01, 1, 0.01), 2)) + list(np.arange(1, 10, 1)))"
   ]
  },
  {
   "cell_type": "raw",
   "id": "87006381-c3ab-4c51-8659-d34d97f34842",
   "metadata": {},
   "source": [
    "# sampling and converting results to a list\n",
    "np.random.seed(14)\n",
    "C_vals = list(C_sample_space.sample(n=5)[0].values)"
   ]
  },
  {
   "cell_type": "code",
   "execution_count": 14,
   "id": "72d310cc-000b-46a2-b185-7fcd053f8b0e",
   "metadata": {},
   "outputs": [
    {
     "data": {
      "text/plain": [
       "GridSearchCV(estimator=LogisticRegression(max_iter=1000, random_state=14),\n",
       "             n_jobs=-1, param_grid={'C': [1, 5, 10]})"
      ]
     },
     "execution_count": 14,
     "metadata": {},
     "output_type": "execute_result"
    }
   ],
   "source": [
    "lr_gs = GridSearchCV(\n",
    "    LogisticRegression(max_iter=1_000, random_state=14),\n",
    "    param_grid={\n",
    "        'C': [1, 5, 10]\n",
    "    },\n",
    "    n_jobs=-1\n",
    ")\n",
    "lr_gs"
   ]
  },
  {
   "cell_type": "code",
   "execution_count": 15,
   "id": "1dee9a28-9951-4314-87a7-c0b54d800f14",
   "metadata": {
    "tags": []
   },
   "outputs": [
    {
     "name": "stdout",
     "output_type": "stream",
     "text": [
      "\n",
      "        Training Accuracy Score: 0.9983844911147012\n",
      "        Test Accuracy Score: 0.7366720516962844\n",
      "        \n",
      "        --- Performance on unseen data ----\n",
      "        Recall (Sensitivity): 0.35570469798657717\n",
      "        Specificity: 0.8574468085106383\n",
      "        Precision: 0.44166666666666665\n",
      "        \n",
      "        Balance Accuracy: 0.6065757532486077\n",
      "        F1 Score: 0.3940520446096654\n",
      "        \n"
     ]
    }
   ],
   "source": [
    "make_model(lr_gs, X_train_cvec, X_test_cvec, y_train_encoded, y_test_encoded)"
   ]
  },
  {
   "cell_type": "code",
   "execution_count": 17,
   "id": "b06d7808-cfdd-4b60-85f7-d033af542d26",
   "metadata": {},
   "outputs": [
    {
     "data": {
      "text/plain": [
       "{'C': 1}"
      ]
     },
     "execution_count": 17,
     "metadata": {},
     "output_type": "execute_result"
    }
   ],
   "source": [
    "lr_gs.best_params_"
   ]
  },
  {
   "cell_type": "markdown",
   "id": "e3d058ef-4221-41ea-bb6b-b6f79580211a",
   "metadata": {},
   "source": [
    "For some reason this is not working on 'saga' solver!!"
   ]
  },
  {
   "cell_type": "code",
   "execution_count": 244,
   "id": "fee1419b-cd04-40ef-b447-51a001d9d267",
   "metadata": {},
   "outputs": [
    {
     "name": "stdout",
     "output_type": "stream",
     "text": [
      "\n",
      "        Training Accuracy Score: 0.9919224555735057\n",
      "        Test Accuracy Score: 0.752827140549273\n",
      "        \n",
      "        --- Performance on unseen data ----\n",
      "        Recall (Sensitivity): 0.3221476510067114\n",
      "        Specificity: 0.8893617021276595\n",
      "        Precision: 0.48\n",
      "        \n",
      "        Balance Accuracy: 0.6057546765671855\n",
      "        F1 Score: 0.38554216867469876\n",
      "        \n"
     ]
    }
   ],
   "source": [
    "make_model(lr_gs, X_train_cvec2, X_test_cvec2, y_train_encoded, y_test_encoded)"
   ]
  },
  {
   "cell_type": "code",
   "execution_count": 245,
   "id": "70c36cec-96a5-4bc3-97de-5e5ad27e6793",
   "metadata": {},
   "outputs": [
    {
     "name": "stdout",
     "output_type": "stream",
     "text": [
      "\n",
      "        Training Accuracy Score: 1.0\n",
      "        Test Accuracy Score: 0.7657512116316639\n",
      "        \n",
      "        --- Performance on unseen data ----\n",
      "        Recall (Sensitivity): 0.0738255033557047\n",
      "        Specificity: 0.9851063829787234\n",
      "        Precision: 0.6111111111111112\n",
      "        \n",
      "        Balance Accuracy: 0.5294659431672141\n",
      "        F1 Score: 0.1317365269461078\n",
      "        \n"
     ]
    }
   ],
   "source": [
    "make_model(lr_gs, X_train_cvec3, X_test_cvec3, y_train_encoded, y_test_encoded)"
   ]
  },
  {
   "cell_type": "code",
   "execution_count": 246,
   "id": "c83806b0-d8e7-4f01-87eb-e28e69280338",
   "metadata": {},
   "outputs": [
    {
     "name": "stdout",
     "output_type": "stream",
     "text": [
      "\n",
      "        Training Accuracy Score: 0.9859989229940764\n",
      "        Test Accuracy Score: 0.752827140549273\n",
      "        \n",
      "        --- Performance on unseen data ----\n",
      "        Recall (Sensitivity): 0.31543624161073824\n",
      "        Specificity: 0.8914893617021277\n",
      "        Precision: 0.47959183673469385\n",
      "        \n",
      "        Balance Accuracy: 0.603462801656433\n",
      "        F1 Score: 0.38056680161943324\n",
      "        \n"
     ]
    }
   ],
   "source": [
    "make_model(lr_gs, X_train_cvec4, X_test_cvec4, y_train_encoded, y_test_encoded)"
   ]
  },
  {
   "cell_type": "code",
   "execution_count": 465,
   "id": "a86a9aa8-b42f-42ee-93cf-62bdedbd71bd",
   "metadata": {},
   "outputs": [
    {
     "name": "stdout",
     "output_type": "stream",
     "text": [
      "\n",
      "        Training Accuracy Score: 0.9633817985998923\n",
      "        Test Accuracy Score: 0.7657512116316639\n",
      "        \n",
      "        --- Performance on unseen data ----\n",
      "        Recall (Sensitivity): 0.3691275167785235\n",
      "        Specificity: 0.8914893617021277\n",
      "        Precision: 0.5188679245283019\n",
      "        \n",
      "        Balance Accuracy: 0.6303084392403255\n",
      "        F1 Score: 0.43137254901960786\n",
      "        \n"
     ]
    }
   ],
   "source": [
    "make_model(lr_gs, X_train_lt2, X_test_lt2, y_train_encoded, y_test_encoded)"
   ]
  },
  {
   "cell_type": "code",
   "execution_count": 507,
   "id": "8d7ce4c4-e9f2-4d30-b831-92ba8c67dcf9",
   "metadata": {},
   "outputs": [
    {
     "name": "stdout",
     "output_type": "stream",
     "text": [
      "\n",
      "        Training Accuracy Score: 0.9633817985998923\n",
      "        Test Accuracy Score: 0.7657512116316639\n",
      "        \n",
      "        --- Performance on unseen data ----\n",
      "        Recall (Sensitivity): 0.3691275167785235\n",
      "        Specificity: 0.8914893617021277\n",
      "        Precision: 0.5188679245283019\n",
      "        \n",
      "        Balance Accuracy: 0.6303084392403255\n",
      "        F1 Score: 0.43137254901960786\n",
      "        \n"
     ]
    }
   ],
   "source": [
    "make_model(lr_gs, X_train_lt2, X_test_lt2, y_train_encoded, y_test_encoded)"
   ]
  },
  {
   "cell_type": "markdown",
   "id": "a755aafe-43ea-4939-b3b0-1d794e215b7f",
   "metadata": {},
   "source": [
    "## WINNNER"
   ]
  },
  {
   "cell_type": "code",
   "execution_count": 527,
   "id": "d2fa43d6-1257-4ec3-9566-e72036ad673c",
   "metadata": {},
   "outputs": [
    {
     "data": {
      "text/plain": [
       "GridSearchCV(estimator=LogisticRegression(max_iter=1000, random_state=14),\n",
       "             n_jobs=-1,\n",
       "             param_grid={'C': [1, 5, 10], 'class_weight': [None, 'balanced']},\n",
       "             scoring='recall')"
      ]
     },
     "execution_count": 527,
     "metadata": {},
     "output_type": "execute_result"
    }
   ],
   "source": [
    "lr_gs2 = GridSearchCV(\n",
    "    LogisticRegression(max_iter=1_000, random_state=14),\n",
    "    param_grid={\n",
    "        'C': [1, 5, 10],\n",
    "        'class_weight': [None, 'balanced']\n",
    "    },\n",
    "    scoring='recall', #'f1',\n",
    "    n_jobs=-1\n",
    ")\n",
    "lr_gs2"
   ]
  },
  {
   "cell_type": "code",
   "execution_count": 528,
   "id": "67de6e93-9fd0-4068-83a7-2750a904ef21",
   "metadata": {},
   "outputs": [
    {
     "name": "stdout",
     "output_type": "stream",
     "text": [
      "\n",
      "        Training Accuracy Score: 0.9888392857142857\n",
      "        Test Accuracy Score: 0.47651006711409394\n",
      "        \n",
      "        --- Performance on unseen data ----\n",
      "        Recall (Sensitivity): 0.47651006711409394\n",
      "        Specificity: 0.7957446808510639\n",
      "        Precision: 0.4251497005988024\n",
      "        \n",
      "        Balance Accuracy: 0.6361273739825789\n",
      "        F1 Score: 0.44936708860759494\n",
      "        \n"
     ]
    }
   ],
   "source": [
    "make_model(lr_gs2, X_train_lt2, X_test_lt2, y_train_encoded, y_test_encoded)"
   ]
  },
  {
   "cell_type": "code",
   "execution_count": 529,
   "id": "cf88934c-3cb8-498f-902d-42054adfe74e",
   "metadata": {},
   "outputs": [
    {
     "data": {
      "text/plain": [
       "{'C': 1, 'class_weight': 'balanced'}"
      ]
     },
     "execution_count": 529,
     "metadata": {},
     "output_type": "execute_result"
    }
   ],
   "source": [
    "lr_gs2.best_params_"
   ]
  },
  {
   "cell_type": "code",
   "execution_count": 543,
   "id": "58f66530-54eb-42f6-9b09-8d0c7ee89460",
   "metadata": {},
   "outputs": [
    {
     "data": {
      "text/html": [
       "<div>\n",
       "<style scoped>\n",
       "    .dataframe tbody tr th:only-of-type {\n",
       "        vertical-align: middle;\n",
       "    }\n",
       "\n",
       "    .dataframe tbody tr th {\n",
       "        vertical-align: top;\n",
       "    }\n",
       "\n",
       "    .dataframe thead th {\n",
       "        text-align: right;\n",
       "    }\n",
       "</style>\n",
       "<table border=\"1\" class=\"dataframe\">\n",
       "  <thead>\n",
       "    <tr style=\"text-align: right;\">\n",
       "      <th></th>\n",
       "      <th>0</th>\n",
       "    </tr>\n",
       "  </thead>\n",
       "  <tbody>\n",
       "    <tr>\n",
       "      <th>hack</th>\n",
       "      <td>2.209486</td>\n",
       "    </tr>\n",
       "    <tr>\n",
       "      <th>plug</th>\n",
       "      <td>1.511174</td>\n",
       "    </tr>\n",
       "    <tr>\n",
       "      <th>auto=webp</th>\n",
       "      <td>1.398988</td>\n",
       "    </tr>\n",
       "    <tr>\n",
       "      <th>hiccup</th>\n",
       "      <td>1.287466</td>\n",
       "    </tr>\n",
       "    <tr>\n",
       "      <th>slide</th>\n",
       "      <td>1.237272</td>\n",
       "    </tr>\n",
       "    <tr>\n",
       "      <th>reminder</th>\n",
       "      <td>1.203358</td>\n",
       "    </tr>\n",
       "    <tr>\n",
       "      <th>idk</th>\n",
       "      <td>1.191087</td>\n",
       "    </tr>\n",
       "    <tr>\n",
       "      <th>glove</th>\n",
       "      <td>1.159934</td>\n",
       "    </tr>\n",
       "    <tr>\n",
       "      <th>fly</th>\n",
       "      <td>1.139974</td>\n",
       "    </tr>\n",
       "    <tr>\n",
       "      <th>pop</th>\n",
       "      <td>1.136626</td>\n",
       "    </tr>\n",
       "  </tbody>\n",
       "</table>\n",
       "</div>"
      ],
      "text/plain": [
       "                  0\n",
       "hack       2.209486\n",
       "plug       1.511174\n",
       "auto=webp  1.398988\n",
       "hiccup     1.287466\n",
       "slide      1.237272\n",
       "reminder   1.203358\n",
       "idk        1.191087\n",
       "glove      1.159934\n",
       "fly        1.139974\n",
       "pop        1.136626"
      ]
     },
     "execution_count": 543,
     "metadata": {},
     "output_type": "execute_result"
    }
   ],
   "source": [
    "kronk_coefs2 = pd.DataFrame(lr_gs2.best_estimator_.coef_[0], index=X_train_lt2.columns)\n",
    "top_kronk_coefs = kronk_coefs2.sort_values(by=0, ascending=False)\n",
    "top_kronk_coefs[:10]"
   ]
  },
  {
   "cell_type": "code",
   "execution_count": 551,
   "id": "a82833a9-6371-44c4-8179-2841c2f477a6",
   "metadata": {
    "tags": []
   },
   "outputs": [
    {
     "data": {
      "text/plain": [
       "['hack',\n",
       " 'plug',\n",
       " 'auto=webp',\n",
       " 'hiccup',\n",
       " 'slide',\n",
       " 'reminder',\n",
       " 'idk',\n",
       " 'glove',\n",
       " 'fly',\n",
       " 'pop']"
      ]
     },
     "execution_count": 551,
     "metadata": {},
     "output_type": "execute_result"
    }
   ],
   "source": [
    "list(top_kronk_coefs.index)[:10]"
   ]
  },
  {
   "cell_type": "code",
   "execution_count": 574,
   "id": "809d73c8-41a5-4401-905a-feded5941e63",
   "metadata": {},
   "outputs": [
    {
     "data": {
      "text/plain": [
       "array([2.20948566, 1.51117434, 1.39898814, 1.28746568, 1.23727211,\n",
       "       1.20335831, 1.19108661, 1.1599337 , 1.13997376, 1.13662579])"
      ]
     },
     "execution_count": 574,
     "metadata": {},
     "output_type": "execute_result"
    }
   ],
   "source": [
    "top_kronk_coefs[0].values[:10]"
   ]
  },
  {
   "cell_type": "code",
   "execution_count": 580,
   "id": "f3333043-09bd-4a17-8662-b77baf8ed201",
   "metadata": {},
   "outputs": [
    {
     "data": {
      "image/png": "[encoded data removed]",
      "text/plain": [
       "<Figure size 432x288 with 1 Axes>"
      ]
     },
     "metadata": {
      "needs_background": "light"
     },
     "output_type": "display_data"
    }
   ],
   "source": [
    "sns.barplot(y=list(top_kronk_coefs.index)[:10], x=top_kronk_coefs[0].values[:10], orient='h', color='orange')\n",
    "plt.title(\"Top 10 most impactful words\")\n",
    "#plt.xlabel='Score'\n",
    "plt.savefig('../images/top_10.png');"
   ]
  },
  {
   "cell_type": "code",
   "execution_count": 586,
   "id": "1d9ad251-9e0c-47f0-bd78-f7c46d790cb4",
   "metadata": {},
   "outputs": [
    {
     "data": {
      "image/png": "[encoded data removed]",
      "text/plain": [
       "<Figure size 432x288 with 2 Axes>"
      ]
     },
     "metadata": {
      "needs_background": "light"
     },
     "output_type": "display_data"
    }
   ],
   "source": [
    "# Confusion matrix\n",
    "ConfusionMatrixDisplay.from_estimator(lr_gs2.best_estimator_, X_test_lt2, y_test_encoded, display_labels=['LPT (0)', 'LH (1)'])\n",
    "#plt.savefig(\"../images/confusion_matrix.png\");"
   ]
  },
  {
   "cell_type": "code",
   "execution_count": 532,
   "id": "d3cf9d65-8885-4006-a2a1-891c86620008",
   "metadata": {},
   "outputs": [
    {
     "data": {
      "text/plain": [
       "<sklearn.metrics._plot.confusion_matrix.ConfusionMatrixDisplay at 0x18716f00430>"
      ]
     },
     "execution_count": 532,
     "metadata": {},
     "output_type": "execute_result"
    },
    {
     "data": {
      "image/png": "[encoded data removed]",
      "text/plain": [
       "<Figure size 432x288 with 2 Axes>"
      ]
     },
     "metadata": {
      "needs_background": "light"
     },
     "output_type": "display_data"
    }
   ],
   "source": [
    "# Confusion matrix\n",
    "ConfusionMatrixDisplay.from_estimator(lr_gs2.best_estimator_, X_test_lt2, y_test_encoded, normalize='pred')\n",
    "#plt.savefig(\"../images/confusion_matrix.png\");"
   ]
  },
  {
   "cell_type": "code",
   "execution_count": 535,
   "id": "39471400-95ee-48cf-8277-6de7061c716e",
   "metadata": {},
   "outputs": [
    {
     "data": {
      "image/png": "[encoded data removed]",
      "text/plain": [
       "<Figure size 432x288 with 1 Axes>"
      ]
     },
     "metadata": {
      "needs_background": "light"
     },
     "output_type": "display_data"
    }
   ],
   "source": [
    "# most current method in scikit-learn is RocCurveDisplay\n",
    "RocCurveDisplay.from_estimator(lr_gs2.best_estimator_, X_test_lt2, y_test_encoded)\n",
    "\n",
    "# add 'worst case scenario' line\n",
    "plt.plot([0,1], [0,1], label='no prediction value', linestyle='--', color='gray')\n",
    "\n",
    "# add a legend\n",
    "plt.legend()\n",
    "plt.savefig(\"../images/roc_curve.png\");"
   ]
  },
  {
   "cell_type": "markdown",
   "id": "2c0b075d-68f6-4077-9d8d-7240ff8d4421",
   "metadata": {},
   "source": [
    "-----"
   ]
  },
  {
   "cell_type": "code",
   "execution_count": 508,
   "id": "36f73b11-87b8-4db6-9164-e45935c14a91",
   "metadata": {},
   "outputs": [
    {
     "data": {
      "text/plain": [
       "{'C': 1}"
      ]
     },
     "execution_count": 508,
     "metadata": {},
     "output_type": "execute_result"
    }
   ],
   "source": [
    "lr_gs.best_params_"
   ]
  },
  {
   "cell_type": "code",
   "execution_count": 486,
   "id": "8aa5d014-9a3b-45c2-a05d-bd8916ac00dc",
   "metadata": {},
   "outputs": [
    {
     "name": "stdout",
     "output_type": "stream",
     "text": [
      "\n",
      "        Training Accuracy Score: 0.8529886914378029\n",
      "        Test Accuracy Score: 0.7576736672051696\n",
      "        \n",
      "        --- Performance on unseen data ----\n",
      "        Recall (Sensitivity): 0.15436241610738255\n",
      "        Specificity: 0.948936170212766\n",
      "        Precision: 0.48936170212765956\n",
      "        \n",
      "        Balance Accuracy: 0.5516492931600743\n",
      "        F1 Score: 0.2346938775510204\n",
      "        \n"
     ]
    }
   ],
   "source": [
    "make_model(lr_gs, X_train_lt4, X_test_lt4, y_train_encoded, y_test_encoded)"
   ]
  },
  {
   "cell_type": "code",
   "execution_count": 506,
   "id": "b3733a27-6e70-453d-b1b2-8168689c6ef6",
   "metadata": {},
   "outputs": [
    {
     "name": "stdout",
     "output_type": "stream",
     "text": [
      "\n",
      "        Training Accuracy Score: 0.7689822294022617\n",
      "        Test Accuracy Score: 0.7576736672051696\n",
      "        \n",
      "        --- Performance on unseen data ----\n",
      "        Recall (Sensitivity): 0.040268456375838924\n",
      "        Specificity: 0.9851063829787234\n",
      "        Precision: 0.46153846153846156\n",
      "        \n",
      "        Balance Accuracy: 0.5126874196772812\n",
      "        F1 Score: 0.07407407407407406\n",
      "        \n"
     ]
    }
   ],
   "source": [
    "make_model(lr_gs, X_train_lt4, X_test_lt4, y_train_encoded, y_test_encoded)"
   ]
  },
  {
   "cell_type": "code",
   "execution_count": null,
   "id": "62ed5bf8-d528-4639-a6d6-ace335d24674",
   "metadata": {},
   "outputs": [],
   "source": [
    "lr_gs2 = GridSearchCV(\n",
    "    LogisticRegression(penalty='l1', max_iter=1_000, random_state=14, solver='saga'),\n",
    "    param_grid={\n",
    "        'C': [0.1, 0.5, 1]\n",
    "    },\n",
    "    n_jobs=-1\n",
    ")\n",
    "lr_gs2"
   ]
  },
  {
   "cell_type": "code",
   "execution_count": null,
   "id": "debf2d35-7c90-46dd-b458-a8ffe759fc50",
   "metadata": {
    "tags": []
   },
   "outputs": [],
   "source": [
    "#make_model(lr_gs2, X_train_cvec, X_test_cvec, y_train_encoded, y_test_encoded)"
   ]
  },
  {
   "cell_type": "markdown",
   "id": "4b9a0a54-6596-4f77-a664-cf390438ba29",
   "metadata": {},
   "source": [
    "### K-Nearest-Neighbors"
   ]
  },
  {
   "cell_type": "markdown",
   "id": "9376877b-a1ca-417c-9fbd-26df4d147786",
   "metadata": {},
   "source": [
    "Alisas: Kuzko"
   ]
  },
  {
   "cell_type": "code",
   "execution_count": 44,
   "id": "be24341e-4c60-451e-b0a3-ec385d9bbf79",
   "metadata": {},
   "outputs": [],
   "source": [
    "knn = KNeighborsClassifier(n_jobs=-1)"
   ]
  },
  {
   "cell_type": "code",
   "execution_count": 73,
   "id": "556e5b8f-43fb-43b7-82e6-8b46acc09e7e",
   "metadata": {},
   "outputs": [
    {
     "name": "stdout",
     "output_type": "stream",
     "text": [
      "\n",
      "        Training Accuracy Score: 0.8056004308023694\n",
      "        Test Accuracy Score: 0.7221324717285945\n",
      "        \n",
      "        --- Performance on unseen data ----\n",
      "        Recall (Sensitivity): 0.24161073825503357\n",
      "        Specificity: 0.874468085106383\n",
      "        Precision: 0.37894736842105264\n",
      "        \n",
      "        Balance Accuracy: 0.5580394116807083\n",
      "        F1 Score: 0.29508196721311475\n",
      "        \n"
     ]
    }
   ],
   "source": [
    "make_model(knn, X_train_cvec, X_test_cvec, y_train_encoded, y_test_encoded)"
   ]
  },
  {
   "cell_type": "markdown",
   "id": "fbb7a69e-5460-427a-aae1-c4862ab756d3",
   "metadata": {},
   "source": [
    "While the accuracy is better, the recall and precision score went down. This tells us that the model made more correct `r/LifeProTips` predictions, and more incorrect `r/lifehacks`. <br />\n",
    "Verdict: Worse than Kronk model."
   ]
  },
  {
   "cell_type": "code",
   "execution_count": 30,
   "id": "38ce3c88-a84a-4906-89f3-a09a7ef0ffc5",
   "metadata": {},
   "outputs": [
    {
     "data": {
      "text/plain": [
       "GridSearchCV(estimator=KNeighborsClassifier(n_jobs=-1), n_jobs=-1,\n",
       "             param_grid={'n_neighbors': [20, 25, 30, 35]})"
      ]
     },
     "execution_count": 30,
     "metadata": {},
     "output_type": "execute_result"
    }
   ],
   "source": [
    "knn_gs = GridSearchCV(\n",
    "    KNeighborsClassifier(n_jobs=-1),\n",
    "    param_grid={\n",
    "        'n_neighbors': [20, 25, 30, 35]\n",
    "    },\n",
    "    n_jobs=-1\n",
    ")\n",
    "knn_gs"
   ]
  },
  {
   "cell_type": "code",
   "execution_count": 31,
   "id": "84ac4505-5866-4402-b9b2-57d1ac2d7968",
   "metadata": {},
   "outputs": [
    {
     "name": "stdout",
     "output_type": "stream",
     "text": [
      "\n",
      "        Training Accuracy Score: 0.7587506731287023\n",
      "        Test Accuracy Score: 0.7576736672051696\n",
      "        \n",
      "        --- Performance on unseen data ----\n",
      "        Recall (Sensitivity): 0.006711409395973154\n",
      "        Specificity: 0.9957446808510638\n",
      "        Precision: 0.3333333333333333\n",
      "        \n",
      "        Balance Accuracy: 0.5012280451235185\n",
      "        F1 Score: 0.013157894736842106\n",
      "        \n"
     ]
    }
   ],
   "source": [
    "make_model(knn_gs, X_train_cvec, X_test_cvec, y_train_encoded, y_test_encoded)"
   ]
  },
  {
   "cell_type": "code",
   "execution_count": 32,
   "id": "028b9c77-6bbf-4223-9e79-82829bbf724a",
   "metadata": {},
   "outputs": [
    {
     "data": {
      "text/plain": [
       "{'n_neighbors': 30}"
      ]
     },
     "execution_count": 32,
     "metadata": {},
     "output_type": "execute_result"
    }
   ],
   "source": [
    "knn_gs.best_params_"
   ]
  },
  {
   "cell_type": "markdown",
   "id": "79252427-8637-4e76-9d52-16454e878cc6",
   "metadata": {},
   "source": [
    "### Bagging Classifier"
   ]
  },
  {
   "cell_type": "markdown",
   "id": "f9e1bda6-408a-44ea-bd43-a044563f3fb0",
   "metadata": {},
   "source": [
    "Alias: Yzma"
   ]
  },
  {
   "cell_type": "code",
   "execution_count": 59,
   "id": "78e71f59-27cc-493e-a9dd-0ac18961a9e1",
   "metadata": {},
   "outputs": [],
   "source": [
    "bc = BaggingClassifier(random_state=14, n_jobs=-1)"
   ]
  },
  {
   "cell_type": "code",
   "execution_count": 74,
   "id": "4bb6640c-d54d-44b4-ae33-752f681d17cc",
   "metadata": {},
   "outputs": [
    {
     "name": "stdout",
     "output_type": "stream",
     "text": [
      "\n",
      "        Training Accuracy Score: 0.975767366720517\n",
      "        Test Accuracy Score: 0.7625201938610663\n",
      "        \n",
      "        --- Performance on unseen data ----\n",
      "        Recall (Sensitivity): 0.1476510067114094\n",
      "        Specificity: 0.9574468085106383\n",
      "        Precision: 0.5238095238095238\n",
      "        \n",
      "        Balance Accuracy: 0.5525489076110239\n",
      "        F1 Score: 0.23036649214659685\n",
      "        \n"
     ]
    }
   ],
   "source": [
    "make_model(bc, X_train_cvec, X_test_cvec, y_train_encoded, y_test_encoded)"
   ]
  },
  {
   "cell_type": "markdown",
   "id": "975fd6f3-e379-4457-b350-bf000c037582",
   "metadata": {},
   "source": [
    "Looks like Yzma model is making less predictions of `r/lifehacks`; however, the few that it does predict, it's getting more of those correct, hence why our precision score has increased.\n",
    "Slight improvement over the Kuzko model."
   ]
  },
  {
   "cell_type": "code",
   "execution_count": 34,
   "id": "abd65891-fc5f-43fb-80ac-10f582cea8f5",
   "metadata": {},
   "outputs": [
    {
     "data": {
      "text/plain": [
       "GridSearchCV(estimator=BaggingClassifier(n_jobs=-1, random_state=14), n_jobs=-1,\n",
       "             param_grid={'bootstrap_features': [False, True],\n",
       "                         'n_estimators': [5, 10, 25, 50, 100]})"
      ]
     },
     "execution_count": 34,
     "metadata": {},
     "output_type": "execute_result"
    }
   ],
   "source": [
    "bc_gs = GridSearchCV(\n",
    "    BaggingClassifier(random_state=14, n_jobs=-1),\n",
    "    param_grid={\n",
    "        'n_estimators' : [5, 10, 25, 50, 100],\n",
    "        'bootstrap_features': [False, True]\n",
    "    },\n",
    "    n_jobs=-1\n",
    ")\n",
    "bc_gs"
   ]
  },
  {
   "cell_type": "code",
   "execution_count": 35,
   "id": "308b4692-0e6b-4147-9125-e536ad20550b",
   "metadata": {},
   "outputs": [
    {
     "name": "stdout",
     "output_type": "stream",
     "text": [
      "\n",
      "        Training Accuracy Score: 0.9983844911147012\n",
      "        Test Accuracy Score: 0.7625201938610663\n",
      "        \n",
      "        --- Performance on unseen data ----\n",
      "        Recall (Sensitivity): 0.1610738255033557\n",
      "        Specificity: 0.9531914893617022\n",
      "        Precision: 0.5217391304347826\n",
      "        \n",
      "        Balance Accuracy: 0.5571326574325289\n",
      "        F1 Score: 0.24615384615384617\n",
      "        \n"
     ]
    }
   ],
   "source": [
    "make_model(bc_gs, X_train_cvec, X_test_cvec, y_train_encoded, y_test_encoded)"
   ]
  },
  {
   "cell_type": "code",
   "execution_count": 36,
   "id": "b6079c1d-4d63-4fb0-b0af-d5803bdfe02d",
   "metadata": {},
   "outputs": [
    {
     "data": {
      "text/plain": [
       "{'bootstrap_features': False, 'n_estimators': 50}"
      ]
     },
     "execution_count": 36,
     "metadata": {},
     "output_type": "execute_result"
    }
   ],
   "source": [
    "bc_gs.best_params_"
   ]
  },
  {
   "cell_type": "markdown",
   "id": "47c67cb6-3462-4fac-b7c3-d14053f0c8d2",
   "metadata": {},
   "source": [
    "### Random Forests"
   ]
  },
  {
   "cell_type": "markdown",
   "id": "63171c7c-732c-40d1-83b3-45f5d428f3e7",
   "metadata": {},
   "source": [
    "Alias: Pacha"
   ]
  },
  {
   "cell_type": "code",
   "execution_count": 77,
   "id": "7e99b3e8-ecfd-46e4-94f1-edf479160336",
   "metadata": {},
   "outputs": [],
   "source": [
    "rf = RandomForestClassifier(random_state=14, n_jobs=-1)"
   ]
  },
  {
   "cell_type": "code",
   "execution_count": 78,
   "id": "fe872258-5795-4084-bc2c-3a2fa7e7b970",
   "metadata": {},
   "outputs": [
    {
     "name": "stdout",
     "output_type": "stream",
     "text": [
      "\n",
      "        Training Accuracy Score: 1.0\n",
      "        Test Accuracy Score: 0.7705977382875606\n",
      "        \n",
      "        --- Performance on unseen data ----\n",
      "        Recall (Sensitivity): 0.06711409395973154\n",
      "        Specificity: 0.9936170212765958\n",
      "        Precision: 0.7692307692307693\n",
      "        \n",
      "        Balance Accuracy: 0.5303655576181636\n",
      "        F1 Score: 0.12345679012345678\n",
      "        \n"
     ]
    }
   ],
   "source": [
    "make_model(rf, X_train_cvec, X_test_cvec, y_train_encoded, y_test_encoded)"
   ]
  },
  {
   "cell_type": "markdown",
   "id": "1acb1df8-b68d-42a9-a66e-2fa0e8279e10",
   "metadata": {},
   "source": [
    "Our recall has gone down significantly, which indicates very few predictions for `r/lifehacks` were made. The few predictions that were made about `r/lifehacks` were mostly correct, which is why we have a relatively high precision score.\n",
    "\n",
    "Making few predictoins for `r/lifehacks` is not ideal for us. Does not outperform Yzma model."
   ]
  },
  {
   "cell_type": "code",
   "execution_count": 38,
   "id": "08a082bd-9df0-44a1-bd24-4fdd85a7eb79",
   "metadata": {},
   "outputs": [
    {
     "data": {
      "text/plain": [
       "GridSearchCV(estimator=RandomForestClassifier(n_jobs=-1, random_state=14),\n",
       "             n_jobs=-1,\n",
       "             param_grid={'max_depth': [None, 5, 10, 15],\n",
       "                         'min_samples_split': [2, 3, 5],\n",
       "                         'n_estimators': [100, 150, 200]})"
      ]
     },
     "execution_count": 38,
     "metadata": {},
     "output_type": "execute_result"
    }
   ],
   "source": [
    "rf_gs = GridSearchCV(\n",
    "    RandomForestClassifier(random_state=14, n_jobs=-1),\n",
    "    param_grid={\n",
    "        'n_estimators': [100, 150, 200],\n",
    "        'max_depth': [None, 5, 10, 15],\n",
    "        'min_samples_split': [2, 3, 5]\n",
    "    },\n",
    "    n_jobs=-1\n",
    ")\n",
    "rf_gs"
   ]
  },
  {
   "cell_type": "code",
   "execution_count": 39,
   "id": "597b4f88-188e-4983-b533-07b37ffeea89",
   "metadata": {},
   "outputs": [
    {
     "name": "stdout",
     "output_type": "stream",
     "text": [
      "\n",
      "        Training Accuracy Score: 1.0\n",
      "        Test Accuracy Score: 0.7705977382875606\n",
      "        \n",
      "        --- Performance on unseen data ----\n",
      "        Recall (Sensitivity): 0.06711409395973154\n",
      "        Specificity: 0.9936170212765958\n",
      "        Precision: 0.7692307692307693\n",
      "        \n",
      "        Balance Accuracy: 0.5303655576181636\n",
      "        F1 Score: 0.12345679012345678\n",
      "        \n"
     ]
    }
   ],
   "source": [
    "make_model(rf_gs, X_train_cvec, X_test_cvec, y_train_encoded, y_test_encoded)"
   ]
  },
  {
   "cell_type": "code",
   "execution_count": 40,
   "id": "ac2fe223-6e4a-4d52-a5bd-44c86cccffb9",
   "metadata": {},
   "outputs": [
    {
     "data": {
      "text/plain": [
       "{'max_depth': None, 'min_samples_split': 2, 'n_estimators': 100}"
      ]
     },
     "execution_count": 40,
     "metadata": {},
     "output_type": "execute_result"
    }
   ],
   "source": [
    "rf_gs.best_params_"
   ]
  },
  {
   "cell_type": "code",
   "execution_count": 60,
   "id": "ed505776-06d4-4e93-a208-3a402a210fc5",
   "metadata": {},
   "outputs": [
    {
     "data": {
      "text/html": [
       "<div>\n",
       "<style scoped>\n",
       "    .dataframe tbody tr th:only-of-type {\n",
       "        vertical-align: middle;\n",
       "    }\n",
       "\n",
       "    .dataframe tbody tr th {\n",
       "        vertical-align: top;\n",
       "    }\n",
       "\n",
       "    .dataframe thead th {\n",
       "        text-align: right;\n",
       "    }\n",
       "</style>\n",
       "<table border=\"1\" class=\"dataframe\">\n",
       "  <thead>\n",
       "    <tr style=\"text-align: right;\">\n",
       "      <th></th>\n",
       "      <th>0</th>\n",
       "    </tr>\n",
       "  </thead>\n",
       "  <tbody>\n",
       "    <tr>\n",
       "      <th>hack</th>\n",
       "      <td>0.007384</td>\n",
       "    </tr>\n",
       "    <tr>\n",
       "      <th>you</th>\n",
       "      <td>0.006622</td>\n",
       "    </tr>\n",
       "    <tr>\n",
       "      <th>tried</th>\n",
       "      <td>0.004729</td>\n",
       "    </tr>\n",
       "    <tr>\n",
       "      <th>to</th>\n",
       "      <td>0.004566</td>\n",
       "    </tr>\n",
       "    <tr>\n",
       "      <th>https</th>\n",
       "      <td>0.004552</td>\n",
       "    </tr>\n",
       "    <tr>\n",
       "      <th>...</th>\n",
       "      <td>...</td>\n",
       "    </tr>\n",
       "    <tr>\n",
       "      <th>couldnt</th>\n",
       "      <td>0.000000</td>\n",
       "    </tr>\n",
       "    <tr>\n",
       "      <th>offhand</th>\n",
       "      <td>0.000000</td>\n",
       "    </tr>\n",
       "    <tr>\n",
       "      <th>counselors</th>\n",
       "      <td>0.000000</td>\n",
       "    </tr>\n",
       "    <tr>\n",
       "      <th>offensive</th>\n",
       "      <td>0.000000</td>\n",
       "    </tr>\n",
       "    <tr>\n",
       "      <th>餘生</th>\n",
       "      <td>0.000000</td>\n",
       "    </tr>\n",
       "  </tbody>\n",
       "</table>\n",
       "<p>12373 rows × 1 columns</p>\n",
       "</div>"
      ],
      "text/plain": [
       "                   0\n",
       "hack        0.007384\n",
       "you         0.006622\n",
       "tried       0.004729\n",
       "to          0.004566\n",
       "https       0.004552\n",
       "...              ...\n",
       "couldnt     0.000000\n",
       "offhand     0.000000\n",
       "counselors  0.000000\n",
       "offensive   0.000000\n",
       "餘生          0.000000\n",
       "\n",
       "[12373 rows x 1 columns]"
      ]
     },
     "execution_count": 60,
     "metadata": {},
     "output_type": "execute_result"
    }
   ],
   "source": [
    "pd.DataFrame(rf_gs.best_estimator_.feature_importances_, index=X_train_cvec.columns).sort_values(by=0, ascending=False)"
   ]
  },
  {
   "cell_type": "markdown",
   "id": "27f560e0-6efd-4b46-b53f-97e01f2f2bdb",
   "metadata": {},
   "source": [
    "### Extra Trees"
   ]
  },
  {
   "cell_type": "markdown",
   "id": "f012e15a-2d41-49f0-b7bf-e179e3d193a9",
   "metadata": {},
   "source": [
    "Alias: Chaca"
   ]
  },
  {
   "cell_type": "code",
   "execution_count": 81,
   "id": "6165d13a-ffdb-4a4c-bdd3-36e894450386",
   "metadata": {},
   "outputs": [],
   "source": [
    "et = ExtraTreesClassifier(random_state=14, n_jobs=-1)"
   ]
  },
  {
   "cell_type": "code",
   "execution_count": 82,
   "id": "75b90268-fdc4-45b9-a940-387669ef983e",
   "metadata": {},
   "outputs": [
    {
     "name": "stdout",
     "output_type": "stream",
     "text": [
      "\n",
      "        Training Accuracy Score: 1.0\n",
      "        Test Accuracy Score: 0.778675282714055\n",
      "        \n",
      "        --- Performance on unseen data ----\n",
      "        Recall (Sensitivity): 0.12080536912751678\n",
      "        Specificity: 0.9872340425531915\n",
      "        Precision: 0.75\n",
      "        \n",
      "        Balance Accuracy: 0.5540197058403541\n",
      "        F1 Score: 0.20809248554913296\n",
      "        \n"
     ]
    }
   ],
   "source": [
    "make_model(et, X_train_cvec, X_test_cvec, y_train_encoded, y_test_encoded)"
   ]
  },
  {
   "cell_type": "markdown",
   "id": "2b53042a-7bcb-4eed-8324-820b0e6ef144",
   "metadata": {},
   "source": [
    "Higher recall score than Pacha model (makes more `r/lifehacks` predictions) while maintaining essentially the same precision score (same correct/incorrect ratio predictions of `r/lifehacks`). This is a slight imporovement of the Pacha and Yzma model. "
   ]
  },
  {
   "cell_type": "code",
   "execution_count": 41,
   "id": "7c17de48-62f2-47d4-be75-effb6f66ac4a",
   "metadata": {},
   "outputs": [
    {
     "data": {
      "text/plain": [
       "GridSearchCV(estimator=ExtraTreesClassifier(n_jobs=-1, random_state=14),\n",
       "             param_grid={'max_depth': [None, 5, 10, 15],\n",
       "                         'min_samples_split': [2, 3, 5],\n",
       "                         'n_estimators': [100, 150, 200]})"
      ]
     },
     "execution_count": 41,
     "metadata": {},
     "output_type": "execute_result"
    }
   ],
   "source": [
    "et_gs = GridSearchCV(\n",
    "    ExtraTreesClassifier(random_state=14, n_jobs=-1),\n",
    "    param_grid={\n",
    "        'n_estimators': [100, 150, 200],\n",
    "        'max_depth': [None, 5, 10, 15],\n",
    "        'min_samples_split': [2, 3, 5]\n",
    "    },\n",
    "    n_jobs=-1\n",
    ")\n",
    "et_gs"
   ]
  },
  {
   "cell_type": "code",
   "execution_count": 42,
   "id": "61f1a7e7-da78-4ce6-9a9f-2a855523b123",
   "metadata": {},
   "outputs": [
    {
     "name": "stdout",
     "output_type": "stream",
     "text": [
      "\n",
      "        Training Accuracy Score: 1.0\n",
      "        Test Accuracy Score: 0.778675282714055\n",
      "        \n",
      "        --- Performance on unseen data ----\n",
      "        Recall (Sensitivity): 0.12080536912751678\n",
      "        Specificity: 0.9872340425531915\n",
      "        Precision: 0.75\n",
      "        \n",
      "        Balance Accuracy: 0.5540197058403541\n",
      "        F1 Score: 0.20809248554913296\n",
      "        \n"
     ]
    }
   ],
   "source": [
    "make_model(et_gs, X_train_cvec, X_test_cvec, y_train_encoded, y_test_encoded)"
   ]
  },
  {
   "cell_type": "code",
   "execution_count": 61,
   "id": "d3924427-e0de-4275-b37d-a836d4942245",
   "metadata": {},
   "outputs": [
    {
     "data": {
      "text/html": [
       "<div>\n",
       "<style scoped>\n",
       "    .dataframe tbody tr th:only-of-type {\n",
       "        vertical-align: middle;\n",
       "    }\n",
       "\n",
       "    .dataframe tbody tr th {\n",
       "        vertical-align: top;\n",
       "    }\n",
       "\n",
       "    .dataframe thead th {\n",
       "        text-align: right;\n",
       "    }\n",
       "</style>\n",
       "<table border=\"1\" class=\"dataframe\">\n",
       "  <thead>\n",
       "    <tr style=\"text-align: right;\">\n",
       "      <th></th>\n",
       "      <th>0</th>\n",
       "    </tr>\n",
       "  </thead>\n",
       "  <tbody>\n",
       "    <tr>\n",
       "      <th>hack</th>\n",
       "      <td>0.008882</td>\n",
       "    </tr>\n",
       "    <tr>\n",
       "      <th>hacks</th>\n",
       "      <td>0.005128</td>\n",
       "    </tr>\n",
       "    <tr>\n",
       "      <th>tried</th>\n",
       "      <td>0.004048</td>\n",
       "    </tr>\n",
       "    <tr>\n",
       "      <th>tips</th>\n",
       "      <td>0.003809</td>\n",
       "    </tr>\n",
       "    <tr>\n",
       "      <th>you</th>\n",
       "      <td>0.003743</td>\n",
       "    </tr>\n",
       "    <tr>\n",
       "      <th>...</th>\n",
       "      <td>...</td>\n",
       "    </tr>\n",
       "    <tr>\n",
       "      <th>cosmic</th>\n",
       "      <td>0.000000</td>\n",
       "    </tr>\n",
       "    <tr>\n",
       "      <th>costco</th>\n",
       "      <td>0.000000</td>\n",
       "    </tr>\n",
       "    <tr>\n",
       "      <th>costing</th>\n",
       "      <td>0.000000</td>\n",
       "    </tr>\n",
       "    <tr>\n",
       "      <th>proxy</th>\n",
       "      <td>0.000000</td>\n",
       "    </tr>\n",
       "    <tr>\n",
       "      <th>greeted</th>\n",
       "      <td>0.000000</td>\n",
       "    </tr>\n",
       "  </tbody>\n",
       "</table>\n",
       "<p>12373 rows × 1 columns</p>\n",
       "</div>"
      ],
      "text/plain": [
       "                0\n",
       "hack     0.008882\n",
       "hacks    0.005128\n",
       "tried    0.004048\n",
       "tips     0.003809\n",
       "you      0.003743\n",
       "...           ...\n",
       "cosmic   0.000000\n",
       "costco   0.000000\n",
       "costing  0.000000\n",
       "proxy    0.000000\n",
       "greeted  0.000000\n",
       "\n",
       "[12373 rows x 1 columns]"
      ]
     },
     "execution_count": 61,
     "metadata": {},
     "output_type": "execute_result"
    }
   ],
   "source": [
    "pd.DataFrame(et_gs.best_estimator_.feature_importances_, index=X_train_cvec.columns).sort_values(by=0, ascending=False)"
   ]
  },
  {
   "cell_type": "markdown",
   "id": "f8bad457-6bde-44d6-a88c-8b2b310eaeb1",
   "metadata": {},
   "source": [
    "### Ada Boost Classifier"
   ]
  },
  {
   "cell_type": "markdown",
   "id": "323021c8-d15e-46c4-be92-5feef3b069a8",
   "metadata": {},
   "source": [
    "Alias: Tipo"
   ]
  },
  {
   "cell_type": "code",
   "execution_count": 85,
   "id": "94d804b9-63fd-4d8e-8b6f-f5ddc024f226",
   "metadata": {},
   "outputs": [],
   "source": [
    "abc = AdaBoostClassifier(random_state=14)"
   ]
  },
  {
   "cell_type": "code",
   "execution_count": 86,
   "id": "4953d818-d6dd-4646-855b-b1f5e157c46a",
   "metadata": {},
   "outputs": [
    {
     "name": "stdout",
     "output_type": "stream",
     "text": [
      "\n",
      "        Training Accuracy Score: 0.8136779752288638\n",
      "        Test Accuracy Score: 0.7576736672051696\n",
      "        \n",
      "        --- Performance on unseen data ----\n",
      "        Recall (Sensitivity): 0.28859060402684567\n",
      "        Specificity: 0.9063829787234042\n",
      "        Precision: 0.4942528735632184\n",
      "        \n",
      "        Balance Accuracy: 0.597486791375125\n",
      "        F1 Score: 0.3644067796610169\n",
      "        \n"
     ]
    }
   ],
   "source": [
    "make_model(abc, X_train_cvec, X_test_cvec, y_train_encoded, y_test_encoded)"
   ]
  },
  {
   "cell_type": "markdown",
   "id": "2b306e7e-0e14-4861-91af-dcbf757543ce",
   "metadata": {},
   "source": [
    "It appears more predictions were made for `r/lifehacks` (higher recall score) but the amount of correct predictions went down (lower precision score). Our F1 score is only second to the Kronk model."
   ]
  },
  {
   "cell_type": "code",
   "execution_count": 44,
   "id": "22659c17-8d43-4110-9802-3d8b7f369e27",
   "metadata": {},
   "outputs": [
    {
     "data": {
      "text/plain": [
       "GridSearchCV(estimator=AdaBoostClassifier(random_state=14), n_jobs=-1,\n",
       "             param_grid={'n_estimators': [100, 150, 200, 250]})"
      ]
     },
     "execution_count": 44,
     "metadata": {},
     "output_type": "execute_result"
    }
   ],
   "source": [
    "abc_gs = GridSearchCV(\n",
    "    AdaBoostClassifier(random_state=14),\n",
    "    param_grid={\n",
    "        'n_estimators': [100, 150, 200, 250]\n",
    "    },\n",
    "    n_jobs=-1\n",
    ")\n",
    "abc_gs"
   ]
  },
  {
   "cell_type": "code",
   "execution_count": 45,
   "id": "984859c2-a943-4dac-a8cc-dc8f59c60a0a",
   "metadata": {},
   "outputs": [
    {
     "name": "stdout",
     "output_type": "stream",
     "text": [
      "\n",
      "        Training Accuracy Score: 0.8933764135702746\n",
      "        Test Accuracy Score: 0.7447495961227787\n",
      "        \n",
      "        --- Performance on unseen data ----\n",
      "        Recall (Sensitivity): 0.30201342281879195\n",
      "        Specificity: 0.8851063829787233\n",
      "        Precision: 0.45454545454545453\n",
      "        \n",
      "        Balance Accuracy: 0.5935599028987577\n",
      "        F1 Score: 0.3629032258064516\n",
      "        \n"
     ]
    }
   ],
   "source": [
    "make_model(abc_gs, X_train_cvec, X_test_cvec, y_train_encoded, y_test_encoded)"
   ]
  },
  {
   "cell_type": "code",
   "execution_count": 46,
   "id": "bc75cb23-6ee5-42ba-90e9-9b97aa26612d",
   "metadata": {},
   "outputs": [
    {
     "data": {
      "text/plain": [
       "{'n_estimators': 150}"
      ]
     },
     "execution_count": 46,
     "metadata": {},
     "output_type": "execute_result"
    }
   ],
   "source": [
    "abc_gs.best_params_"
   ]
  },
  {
   "cell_type": "code",
   "execution_count": 62,
   "id": "e83371ad-e971-4304-9975-e14c8cf44ee4",
   "metadata": {},
   "outputs": [
    {
     "data": {
      "text/html": [
       "<div>\n",
       "<style scoped>\n",
       "    .dataframe tbody tr th:only-of-type {\n",
       "        vertical-align: middle;\n",
       "    }\n",
       "\n",
       "    .dataframe tbody tr th {\n",
       "        vertical-align: top;\n",
       "    }\n",
       "\n",
       "    .dataframe thead th {\n",
       "        text-align: right;\n",
       "    }\n",
       "</style>\n",
       "<table border=\"1\" class=\"dataframe\">\n",
       "  <thead>\n",
       "    <tr style=\"text-align: right;\">\n",
       "      <th></th>\n",
       "      <th>0</th>\n",
       "    </tr>\n",
       "  </thead>\n",
       "  <tbody>\n",
       "    <tr>\n",
       "      <th>at</th>\n",
       "      <td>0.020000</td>\n",
       "    </tr>\n",
       "    <tr>\n",
       "      <th>often</th>\n",
       "      <td>0.013333</td>\n",
       "    </tr>\n",
       "    <tr>\n",
       "      <th>tips</th>\n",
       "      <td>0.013333</td>\n",
       "    </tr>\n",
       "    <tr>\n",
       "      <th>time</th>\n",
       "      <td>0.013333</td>\n",
       "    </tr>\n",
       "    <tr>\n",
       "      <th>be</th>\n",
       "      <td>0.013333</td>\n",
       "    </tr>\n",
       "    <tr>\n",
       "      <th>...</th>\n",
       "      <td>...</td>\n",
       "    </tr>\n",
       "    <tr>\n",
       "      <th>eyeball</th>\n",
       "      <td>0.000000</td>\n",
       "    </tr>\n",
       "    <tr>\n",
       "      <th>eyebrow</th>\n",
       "      <td>0.000000</td>\n",
       "    </tr>\n",
       "    <tr>\n",
       "      <th>eyeglasses</th>\n",
       "      <td>0.000000</td>\n",
       "    </tr>\n",
       "    <tr>\n",
       "      <th>eyeing</th>\n",
       "      <td>0.000000</td>\n",
       "    </tr>\n",
       "    <tr>\n",
       "      <th>餘生</th>\n",
       "      <td>0.000000</td>\n",
       "    </tr>\n",
       "  </tbody>\n",
       "</table>\n",
       "<p>12373 rows × 1 columns</p>\n",
       "</div>"
      ],
      "text/plain": [
       "                   0\n",
       "at          0.020000\n",
       "often       0.013333\n",
       "tips        0.013333\n",
       "time        0.013333\n",
       "be          0.013333\n",
       "...              ...\n",
       "eyeball     0.000000\n",
       "eyebrow     0.000000\n",
       "eyeglasses  0.000000\n",
       "eyeing      0.000000\n",
       "餘生          0.000000\n",
       "\n",
       "[12373 rows x 1 columns]"
      ]
     },
     "execution_count": 62,
     "metadata": {},
     "output_type": "execute_result"
    }
   ],
   "source": [
    "pd.DataFrame(abc_gs.best_estimator_.feature_importances_, index=X_train_cvec.columns).sort_values(by=0, ascending=False)"
   ]
  },
  {
   "cell_type": "code",
   "execution_count": 357,
   "id": "7302d13e-63e5-4c95-b9fa-80d8127d7e4d",
   "metadata": {},
   "outputs": [
    {
     "name": "stdout",
     "output_type": "stream",
     "text": [
      "\n",
      "        Training Accuracy Score: 0.8551427032848681\n",
      "        Test Accuracy Score: 0.7560581583198708\n",
      "        \n",
      "        --- Performance on unseen data ----\n",
      "        Recall (Sensitivity): 0.28859060402684567\n",
      "        Specificity: 0.9042553191489362\n",
      "        Precision: 0.48863636363636365\n",
      "        \n",
      "        Balance Accuracy: 0.5964229615878909\n",
      "        F1 Score: 0.3628691983122363\n",
      "        \n"
     ]
    }
   ],
   "source": [
    "make_model(abc_gs, X_train_lt2, X_test_lt2, y_train_encoded, y_test_encoded)"
   ]
  },
  {
   "cell_type": "markdown",
   "id": "21b9d83f-d37d-4636-9f5e-ed4dbc64e8af",
   "metadata": {},
   "source": [
    "-----"
   ]
  },
  {
   "cell_type": "markdown",
   "id": "1b797887-4ab9-4ea6-88da-18c57a43acb4",
   "metadata": {},
   "source": [
    "Now that we have found the best estimators in our gridsearches, let's ensemble all our models for the best possible classifications."
   ]
  },
  {
   "cell_type": "code",
   "execution_count": 238,
   "id": "84ade87d-bec7-4542-861d-2a1de705a4b2",
   "metadata": {},
   "outputs": [
    {
     "data": {
      "text/plain": [
       "VotingClassifier(estimators=[('lr_vr',\n",
       "                              LogisticRegression(C=1, max_iter=1000,\n",
       "                                                 random_state=14)),\n",
       "                             ('knn_vr',\n",
       "                              KNeighborsClassifier(n_jobs=-1, n_neighbors=30)),\n",
       "                             ('bc_vr',\n",
       "                              BaggingClassifier(n_estimators=50, n_jobs=-1,\n",
       "                                                random_state=14)),\n",
       "                             ('rf_vr',\n",
       "                              RandomForestClassifier(n_jobs=-1,\n",
       "                                                     random_state=14)),\n",
       "                             ('et_vr',\n",
       "                              ExtraTreesClassifier(n_jobs=-1, random_state=14)),\n",
       "                             ('abc_vr',\n",
       "                              AdaBoostClassifier(n_estimators=150,\n",
       "                                                 random_state=14))],\n",
       "                 n_jobs=-1)"
      ]
     },
     "execution_count": 238,
     "metadata": {},
     "output_type": "execute_result"
    }
   ],
   "source": [
    "vr = VotingClassifier(\n",
    "    [\n",
    "        ('lr_vr', lr_gs.best_estimator_),\n",
    "        ('knn_vr', knn_gs.best_estimator_),\n",
    "        ('bc_vr', bc_gs.best_estimator_),\n",
    "        ('rf_vr', rf_gs.best_estimator_),\n",
    "        ('et_vr', et_gs.best_estimator_),\n",
    "        ('abc_vr', abc_gs.best_estimator_)\n",
    "    ],\n",
    "    n_jobs=-1,\n",
    ")\n",
    "vr"
   ]
  },
  {
   "cell_type": "code",
   "execution_count": 241,
   "id": "9fa2fe96-396d-4225-9951-193ad1ad4b03",
   "metadata": {},
   "outputs": [
    {
     "name": "stdout",
     "output_type": "stream",
     "text": [
      "\n",
      "        Training Accuracy Score: 0.9967689822294022\n",
      "        Test Accuracy Score: 0.777059773828756\n",
      "        \n",
      "        --- Performance on unseen data ----\n",
      "        Recall (Sensitivity): 0.10067114093959731\n",
      "        Specificity: 0.9914893617021276\n",
      "        Precision: 0.7894736842105263\n",
      "        \n",
      "        Balance Accuracy: 0.5460802513208625\n",
      "        F1 Score: 0.17857142857142858\n",
      "        \n"
     ]
    }
   ],
   "source": [
    "make_model(vr, X_train_cvec, X_test_cvec, y_train_encoded, y_test_encoded)"
   ]
  },
  {
   "cell_type": "code",
   "execution_count": 240,
   "id": "a3ba4c35-40fe-4e2e-8417-53355081bd41",
   "metadata": {},
   "outputs": [
    {
     "name": "stdout",
     "output_type": "stream",
     "text": [
      "\n",
      "        Training Accuracy Score: 0.9913839526117394\n",
      "        Test Accuracy Score: 0.7705977382875606\n",
      "        \n",
      "        --- Performance on unseen data ----\n",
      "        Recall (Sensitivity): 0.1342281879194631\n",
      "        Specificity: 0.9723404255319149\n",
      "        Precision: 0.6060606060606061\n",
      "        \n",
      "        Balance Accuracy: 0.553284306725689\n",
      "        F1 Score: 0.21978021978021978\n",
      "        \n"
     ]
    }
   ],
   "source": [
    "make_model(vr, X_train_cvec2, X_test_cvec2, y_train_encoded, y_test_encoded)"
   ]
  },
  {
   "cell_type": "code",
   "execution_count": 242,
   "id": "e929d0c0-a920-45ca-aa3a-023657695b38",
   "metadata": {},
   "outputs": [
    {
     "name": "stdout",
     "output_type": "stream",
     "text": [
      "\n",
      "        Training Accuracy Score: 0.9924609585352719\n",
      "        Test Accuracy Score: 0.7705977382875606\n",
      "        \n",
      "        --- Performance on unseen data ----\n",
      "        Recall (Sensitivity): 0.06040268456375839\n",
      "        Specificity: 0.9957446808510638\n",
      "        Precision: 0.8181818181818182\n",
      "        \n",
      "        Balance Accuracy: 0.5280736827074111\n",
      "        F1 Score: 0.1125\n",
      "        \n"
     ]
    }
   ],
   "source": [
    "make_model(vr, X_train_cvec3, X_test_cvec3, y_train_encoded, y_test_encoded)"
   ]
  },
  {
   "cell_type": "code",
   "execution_count": 243,
   "id": "3b86602e-5fb1-46da-b119-2d98d089c1d5",
   "metadata": {},
   "outputs": [
    {
     "name": "stdout",
     "output_type": "stream",
     "text": [
      "\n",
      "        Training Accuracy Score: 0.9859989229940764\n",
      "        Test Accuracy Score: 0.7705977382875606\n",
      "        \n",
      "        --- Performance on unseen data ----\n",
      "        Recall (Sensitivity): 0.18120805369127516\n",
      "        Specificity: 0.9574468085106383\n",
      "        Precision: 0.574468085106383\n",
      "        \n",
      "        Balance Accuracy: 0.5693274311009567\n",
      "        F1 Score: 0.2755102040816327\n",
      "        \n"
     ]
    }
   ],
   "source": [
    "make_model(vr, X_train_cvec4, X_test_cvec4, y_train_encoded, y_test_encoded)"
   ]
  },
  {
   "cell_type": "markdown",
   "id": "c151e445-f1a4-4332-a23c-3e8980f69b08",
   "metadata": {},
   "source": [
    "-----"
   ]
  },
  {
   "cell_type": "code",
   "execution_count": 514,
   "id": "5619c617-2643-434d-af25-cae1149f1626",
   "metadata": {},
   "outputs": [
    {
     "data": {
      "text/plain": [
       "VotingClassifier(estimators=[('lr2_vr',\n",
       "                              LogisticRegression(C=1, class_weight='balanced',\n",
       "                                                 max_iter=1000,\n",
       "                                                 random_state=14)),\n",
       "                             ('rf_vr',\n",
       "                              RandomForestClassifier(n_jobs=-1,\n",
       "                                                     random_state=14)),\n",
       "                             ('abc_vr',\n",
       "                              AdaBoostClassifier(n_estimators=100,\n",
       "                                                 random_state=14))],\n",
       "                 n_jobs=-1)"
      ]
     },
     "execution_count": 514,
     "metadata": {},
     "output_type": "execute_result"
    }
   ],
   "source": [
    "vr2 = VotingClassifier(\n",
    "    [\n",
    "        ('lr2_vr', lr_gs2.best_estimator_),\n",
    "        ('rf_vr', rf_gs.best_estimator_),\n",
    "        ('abc_vr', abc_gs.best_estimator_)\n",
    "    ],\n",
    "    n_jobs=-1\n",
    ")\n",
    "vr2"
   ]
  },
  {
   "cell_type": "code",
   "execution_count": 260,
   "id": "6a529c7d-b9e2-4849-bae6-940b6fed2979",
   "metadata": {},
   "outputs": [
    {
     "name": "stdout",
     "output_type": "stream",
     "text": [
      "\n",
      "        Training Accuracy Score: 0.9477652127086699\n",
      "        Test Accuracy Score: 0.7722132471728594\n",
      "        \n",
      "        --- Performance on unseen data ----\n",
      "        Recall (Sensitivity): 0.087248322147651\n",
      "        Specificity: 0.9893617021276596\n",
      "        Precision: 0.7222222222222222\n",
      "        \n",
      "        Balance Accuracy: 0.5383050121376554\n",
      "        F1 Score: 0.15568862275449102\n",
      "        \n"
     ]
    }
   ],
   "source": [
    "make_model(vr, X_train_tf, X_test_tf, y_train_encoded, y_test_encoded)"
   ]
  },
  {
   "cell_type": "code",
   "execution_count": 268,
   "id": "eade27f7-9cd4-4eab-be8b-0e668b375a7f",
   "metadata": {},
   "outputs": [
    {
     "name": "stdout",
     "output_type": "stream",
     "text": [
      "\n",
      "        Training Accuracy Score: 0.946149703823371\n",
      "        Test Accuracy Score: 0.7689822294022617\n",
      "        \n",
      "        --- Performance on unseen data ----\n",
      "        Recall (Sensitivity): 0.087248322147651\n",
      "        Specificity: 0.9851063829787234\n",
      "        Precision: 0.65\n",
      "        \n",
      "        Balance Accuracy: 0.5361773525631872\n",
      "        F1 Score: 0.15384615384615385\n",
      "        \n"
     ]
    }
   ],
   "source": [
    "make_model(vr, X_train_tf2, X_test_tf2, y_train_encoded, y_test_encoded)"
   ]
  },
  {
   "cell_type": "code",
   "execution_count": 274,
   "id": "5f2ca347-7381-46d2-b426-fba83bb607eb",
   "metadata": {},
   "outputs": [
    {
     "name": "stdout",
     "output_type": "stream",
     "text": [
      "\n",
      "        Training Accuracy Score: 0.9407646742057081\n",
      "        Test Accuracy Score: 0.7705977382875606\n",
      "        \n",
      "        --- Performance on unseen data ----\n",
      "        Recall (Sensitivity): 0.12751677852348994\n",
      "        Specificity: 0.9744680851063829\n",
      "        Precision: 0.6129032258064516\n",
      "        \n",
      "        Balance Accuracy: 0.5509924318149364\n",
      "        F1 Score: 0.21111111111111114\n",
      "        \n"
     ]
    }
   ],
   "source": [
    "make_model(vr, X_train_tf3, X_test_tf3, y_train_encoded, y_test_encoded)"
   ]
  },
  {
   "cell_type": "code",
   "execution_count": 286,
   "id": "e980605b-f272-4a56-8fdc-b778b12d9d78",
   "metadata": {},
   "outputs": [
    {
     "name": "stdout",
     "output_type": "stream",
     "text": [
      "\n",
      "        Training Accuracy Score: 0.929456112008616\n",
      "        Test Accuracy Score: 0.7689822294022617\n",
      "        \n",
      "        --- Performance on unseen data ----\n",
      "        Recall (Sensitivity): 0.14093959731543623\n",
      "        Specificity: 0.9680851063829787\n",
      "        Precision: 0.5833333333333334\n",
      "        \n",
      "        Balance Accuracy: 0.5545123518492074\n",
      "        F1 Score: 0.22702702702702704\n",
      "        \n"
     ]
    }
   ],
   "source": [
    "make_model(vr, X_train_tf4, X_test_tf4, y_train_encoded, y_test_encoded)"
   ]
  },
  {
   "cell_type": "code",
   "execution_count": 302,
   "id": "d056a430-7a3c-4538-9f74-44474b256bb8",
   "metadata": {},
   "outputs": [
    {
     "name": "stdout",
     "output_type": "stream",
     "text": [
      "\n",
      "        Training Accuracy Score: 0.9116855142703285\n",
      "        Test Accuracy Score: 0.7560581583198708\n",
      "        \n",
      "        --- Performance on unseen data ----\n",
      "        Recall (Sensitivity): 0.06711409395973154\n",
      "        Specificity: 0.9744680851063829\n",
      "        Precision: 0.45454545454545453\n",
      "        \n",
      "        Balance Accuracy: 0.5207910895330572\n",
      "        F1 Score: 0.11695906432748539\n",
      "        \n"
     ]
    }
   ],
   "source": [
    "make_model(vr, X_train_tf5, X_test_tf5, y_train_encoded, y_test_encoded)"
   ]
  },
  {
   "cell_type": "markdown",
   "id": "2d1bd2ae-94a8-43d5-89f3-30536f71483d",
   "metadata": {},
   "source": [
    "-----"
   ]
  },
  {
   "cell_type": "code",
   "execution_count": 355,
   "id": "6e19fcef-204d-4784-af71-ae8c4acfbff7",
   "metadata": {},
   "outputs": [
    {
     "name": "stdout",
     "output_type": "stream",
     "text": [
      "\n",
      "        Training Accuracy Score: 0.996230479267636\n",
      "        Test Accuracy Score: 0.7657512116316639\n",
      "        \n",
      "        --- Performance on unseen data ----\n",
      "        Recall (Sensitivity): 0.053691275167785234\n",
      "        Specificity: 0.9914893617021276\n",
      "        Precision: 0.6666666666666666\n",
      "        \n",
      "        Balance Accuracy: 0.5225903184349564\n",
      "        F1 Score: 0.09937888198757763\n",
      "        \n"
     ]
    }
   ],
   "source": [
    "make_model(vr, X_train_lt, X_test_lt, y_train_encoded, y_test_encoded)"
   ]
  },
  {
   "cell_type": "code",
   "execution_count": 369,
   "id": "563cd7fc-15f9-4877-be18-3325008db1dc",
   "metadata": {},
   "outputs": [
    {
     "name": "stdout",
     "output_type": "stream",
     "text": [
      "\n",
      "        Training Accuracy Score: 0.96661281637049\n",
      "        Test Accuracy Score: 0.778675282714055\n",
      "        \n",
      "        --- Performance on unseen data ----\n",
      "        Recall (Sensitivity): 0.2348993288590604\n",
      "        Specificity: 0.951063829787234\n",
      "        Precision: 0.603448275862069\n",
      "        \n",
      "        Balance Accuracy: 0.5929815793231472\n",
      "        F1 Score: 0.33816425120772947\n",
      "        \n"
     ]
    }
   ],
   "source": [
    "make_model(vr, X_train_lt2, X_test_lt2, y_train_encoded, y_test_encoded)"
   ]
  },
  {
   "cell_type": "code",
   "execution_count": 363,
   "id": "5d5949a6-c34f-4481-bf05-d82c0f77883a",
   "metadata": {},
   "outputs": [
    {
     "name": "stdout",
     "output_type": "stream",
     "text": [
      "\n",
      "        Training Accuracy Score: 0.9644588045234249\n",
      "        Test Accuracy Score: 0.7625201938610663\n",
      "        \n",
      "        --- Performance on unseen data ----\n",
      "        Recall (Sensitivity): 0.24161073825503357\n",
      "        Specificity: 0.9276595744680851\n",
      "        Precision: 0.5142857142857142\n",
      "        \n",
      "        Balance Accuracy: 0.5846351563615594\n",
      "        F1 Score: 0.3287671232876712\n",
      "        \n"
     ]
    }
   ],
   "source": [
    "make_model(vr, X_train_lt2, X_test_lt2, y_train_encoded, y_test_encoded)"
   ]
  },
  {
   "cell_type": "code",
   "execution_count": 464,
   "id": "9e416422-2cda-4c2b-9a4f-504882bf7a63",
   "metadata": {},
   "outputs": [
    {
     "name": "stdout",
     "output_type": "stream",
     "text": [
      "\n",
      "        Training Accuracy Score: 0.975767366720517\n",
      "        Test Accuracy Score: 0.7657512116316639\n",
      "        \n",
      "        --- Performance on unseen data ----\n",
      "        Recall (Sensitivity): 0.1610738255033557\n",
      "        Specificity: 0.9574468085106383\n",
      "        Precision: 0.5454545454545454\n",
      "        \n",
      "        Balance Accuracy: 0.559260317006997\n",
      "        F1 Score: 0.24870466321243523\n",
      "        \n"
     ]
    }
   ],
   "source": [
    "make_model(vr, X_train_lt3, X_test_lt3, y_train_encoded, y_test_encoded)"
   ]
  },
  {
   "cell_type": "code",
   "execution_count": 515,
   "id": "f383f06b-3f7e-4469-94b5-7cfb5bd0aaa9",
   "metadata": {},
   "outputs": [
    {
     "name": "stdout",
     "output_type": "stream",
     "text": [
      "\n",
      "        Training Accuracy Score: 0.9940764674205708\n",
      "        Test Accuracy Score: 0.7641357027463651\n",
      "        \n",
      "        --- Performance on unseen data ----\n",
      "        Recall (Sensitivity): 0.3087248322147651\n",
      "        Specificity: 0.9085106382978724\n",
      "        Precision: 0.5168539325842697\n",
      "        \n",
      "        Balance Accuracy: 0.6086177352563187\n",
      "        F1 Score: 0.3865546218487395\n",
      "        \n"
     ]
    }
   ],
   "source": [
    "make_model(vr2, X_train_lt2, X_test_lt2, y_train_encoded, y_test_encoded)"
   ]
  },
  {
   "cell_type": "raw",
   "id": "8a0c6edd-e84e-4019-bd48-b409d6026906",
   "metadata": {},
   "source": [
    "# saving train test splits for next notebook\n",
    "stored_data['X_train_cvec'] = X_train_cvec\n",
    "stored_data['X_test_cvec'] = X_test_cvec\n",
    "\n",
    "stored_data['y_train_encoded'] = y_train_encoded\n",
    "stored_data['y_test_encoded'] = y_test_encoded"
   ]
  },
  {
   "cell_type": "raw",
   "id": "72c2fa77-4c86-4874-8545-c3ebf759bf71",
   "metadata": {},
   "source": [
    "%store stored_data\n",
    "del stored_data"
   ]
  }
 ],
 "metadata": {
  "kernelspec": {
   "display_name": "Python 3 (ipykernel)",
   "language": "python",
   "name": "python3"
  },
  "language_info": {
   "codemirror_mode": {
    "name": "ipython",
    "version": 3
   },
   "file_extension": ".py",
   "mimetype": "text/x-python",
   "name": "python",
   "nbconvert_exporter": "python",
   "pygments_lexer": "ipython3",
   "version": "3.9.7"
  }
 },
 "nbformat": 4,
 "nbformat_minor": 5
}
