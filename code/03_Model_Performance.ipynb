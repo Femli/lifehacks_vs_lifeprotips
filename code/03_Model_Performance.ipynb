{
 "cells": [
  {
   "cell_type": "markdown",
   "id": "e183cf95-f1e2-4f2c-ab4c-a892cc6dceae",
   "metadata": {},
   "source": [
    "# Models and Performance"
   ]
  },
  {
   "cell_type": "markdown",
   "id": "5e32cb6f-596e-4b39-8966-753d202a4ac8",
   "metadata": {},
   "source": [
    "This notebook is dedicated to iterating various models on the engineering features, with the goals of finding the best predictive model.\n",
    "\n",
    "Note that we will exahustively run models without much analysis. Our insights will be in the next notebook for the best performing model."
   ]
  },
  {
   "cell_type": "markdown",
   "id": "7aa52892-c9ff-4c24-a225-418933e79930",
   "metadata": {},
   "source": [
    "## Library Imports"
   ]
  },
  {
   "cell_type": "code",
   "execution_count": 602,
   "id": "2ed60d12-3bf6-43f4-8c2a-d430f186a99a",
   "metadata": {},
   "outputs": [],
   "source": [
    "import pandas as pd\n",
    "import numpy as np\n",
    "import matplotlib.pyplot as plt\n",
    "import seaborn as sns\n",
    "import warnings\n",
    "\n",
    "## workflow\n",
    "from sklearn.model_selection import GridSearchCV\n",
    "\n",
    "## models\n",
    "from sklearn.dummy import DummyClassifier\n",
    "from sklearn.linear_model import LogisticRegression\n",
    "from sklearn.neighbors import KNeighborsClassifier\n",
    "from sklearn.ensemble import BaggingClassifier, RandomForestClassifier, ExtraTreesClassifier, AdaBoostClassifier, VotingClassifier\n",
    "\n",
    "## metrics\n",
    "from sklearn.metrics import (accuracy_score, balanced_accuracy_score, recall_score, precision_score, f1_score, confusion_matrix, \n",
    "                            ConfusionMatrixDisplay, plot_roc_curve, roc_auc_score, classification_report, RocCurveDisplay)"
   ]
  },
  {
   "cell_type": "code",
   "execution_count": 2,
   "id": "c80b62c4-6aa4-4213-8294-74fd555fb442",
   "metadata": {},
   "outputs": [],
   "source": [
    "%run 00_Workflow_Functions.ipynb import na_only, make_model"
   ]
  },
  {
   "cell_type": "code",
   "execution_count": 608,
   "id": "1a66c32a-5635-4c35-abfd-9725514a4fcf",
   "metadata": {},
   "outputs": [],
   "source": [
    "# recovering train and test data\n",
    "%store -r stored_data"
   ]
  },
  {
   "cell_type": "raw",
   "id": "a946a3b1-fbc8-4a7c-b444-568d6eae121e",
   "metadata": {},
   "source": [
    "# recovering data\n",
    "X_train_cvec = stored_data['X_train_cvec']\n",
    "X_test_cvec = stored_data['X_test_cvec']\n",
    "X_train_cvec2 = stored_data['X_train_cvec2']\n",
    "X_test_cvec2 = stored_data['X_test_cvec2']\n",
    "X_train_cvec3 = stored_data['X_train_cvec3']\n",
    "X_test_cvec3 = stored_data['X_test_cvec3']\n",
    "X_train_cvec4 = stored_data['X_train_cvec4']\n",
    "X_test_cvec4 = stored_data['X_test_cvec4']\n",
    "\n",
    "X_train_tf = stored_data['X_train_tf']\n",
    "X_test_tf = stored_data['X_test_tf']\n",
    "X_train_tf2 = stored_data['X_train_tf2']\n",
    "X_test_tf2 = stored_data['X_test_tf2']\n",
    "X_train_tf3 = stored_data['X_train_tf3']\n",
    "X_test_tf3 = stored_data['X_test_tf3']\n",
    "X_train_tf4 = stored_data['X_train_tf4']\n",
    "X_test_tf4 = stored_data['X_test_tf4']\n",
    "X_train_tf5 = stored_data['X_train_tf5']\n",
    "X_test_tf5 = stored_data['X_test_tf5']\n",
    "\n",
    "X_train_lt = stored_data['X_train_lt']\n",
    "X_test_lt = stored_data['X_test_lt']\n",
    "X_train_lt2 = stored_data['X_train_lt2']\n",
    "X_test_lt2 = stored_data['X_test_lt2']\n",
    "X_train_lt4 = stored_data['X_train_lt4']\n",
    "X_test_lt4 = stored_data['X_test_lt4']\n",
    "\n",
    "stored_data['y_train_encoded'] = y_train_encoded\n",
    "stored_data['y_test_encoded'] = y_test_encoded"
   ]
  },
  {
   "cell_type": "markdown",
   "id": "40b80a46-efee-4f9e-bc9d-504347ff8906",
   "metadata": {},
   "source": [
    "### Logistic Regression"
   ]
  },
  {
   "cell_type": "markdown",
   "id": "f930bfc3-e402-4618-a578-d1c4029872f6",
   "metadata": {},
   "source": [
    "Alias: Kronk"
   ]
  },
  {
   "cell_type": "code",
   "execution_count": 10,
   "id": "ef298f31-c339-40a4-a69a-d03e154f7f27",
   "metadata": {
    "jupyter": {
     "source_hidden": true
    },
    "tags": []
   },
   "outputs": [],
   "source": [
    "lr = LogisticRegression(max_iter=1_000, random_state=14)"
   ]
  },
  {
   "cell_type": "code",
   "execution_count": 11,
   "id": "ac5e15d4-9809-45e1-bd37-a9295060d64c",
   "metadata": {
    "collapsed": true,
    "jupyter": {
     "outputs_hidden": true,
     "source_hidden": true
    },
    "tags": []
   },
   "outputs": [
    {
     "name": "stdout",
     "output_type": "stream",
     "text": [
      "\n",
      "        Training Accuracy Score: 0.9983844911147012\n",
      "        Test Accuracy Score: 0.7366720516962844\n",
      "        \n",
      "        --- Performance on unseen data ----\n",
      "        Recall (Sensitivity): 0.35570469798657717\n",
      "        Specificity: 0.8574468085106383\n",
      "        Precision: 0.44166666666666665\n",
      "        \n",
      "        Balance Accuracy: 0.6065757532486077\n",
      "        F1 Score: 0.3940520446096654\n",
      "        \n"
     ]
    }
   ],
   "source": [
    "make_model(lr, X_train_cvec, X_test_cvec, y_train_encoded, y_test_encoded)"
   ]
  },
  {
   "cell_type": "code",
   "execution_count": 12,
   "id": "a2c55dbd-25f6-4bea-a787-288ee9c4b6de",
   "metadata": {
    "collapsed": true,
    "jupyter": {
     "outputs_hidden": true,
     "source_hidden": true
    },
    "tags": []
   },
   "outputs": [
    {
     "data": {
      "text/html": [
       "<div>\n",
       "<style scoped>\n",
       "    .dataframe tbody tr th:only-of-type {\n",
       "        vertical-align: middle;\n",
       "    }\n",
       "\n",
       "    .dataframe tbody tr th {\n",
       "        vertical-align: top;\n",
       "    }\n",
       "\n",
       "    .dataframe thead th {\n",
       "        text-align: right;\n",
       "    }\n",
       "</style>\n",
       "<table border=\"1\" class=\"dataframe\">\n",
       "  <thead>\n",
       "    <tr style=\"text-align: right;\">\n",
       "      <th></th>\n",
       "      <th>0</th>\n",
       "    </tr>\n",
       "  </thead>\n",
       "  <tbody>\n",
       "    <tr>\n",
       "      <th>hack</th>\n",
       "      <td>1.316535</td>\n",
       "    </tr>\n",
       "    <tr>\n",
       "      <th>tried</th>\n",
       "      <td>1.203418</td>\n",
       "    </tr>\n",
       "    <tr>\n",
       "      <th>tips</th>\n",
       "      <td>1.167859</td>\n",
       "    </tr>\n",
       "    <tr>\n",
       "      <th>oil</th>\n",
       "      <td>0.963483</td>\n",
       "    </tr>\n",
       "    <tr>\n",
       "      <th>any</th>\n",
       "      <td>0.821774</td>\n",
       "    </tr>\n",
       "    <tr>\n",
       "      <th>...</th>\n",
       "      <td>...</td>\n",
       "    </tr>\n",
       "    <tr>\n",
       "      <th>people</th>\n",
       "      <td>-0.749673</td>\n",
       "    </tr>\n",
       "    <tr>\n",
       "      <th>money</th>\n",
       "      <td>-0.827517</td>\n",
       "    </tr>\n",
       "    <tr>\n",
       "      <th>often</th>\n",
       "      <td>-0.844439</td>\n",
       "    </tr>\n",
       "    <tr>\n",
       "      <th>many</th>\n",
       "      <td>-0.859666</td>\n",
       "    </tr>\n",
       "    <tr>\n",
       "      <th>lpt</th>\n",
       "      <td>-0.867368</td>\n",
       "    </tr>\n",
       "  </tbody>\n",
       "</table>\n",
       "<p>12373 rows × 1 columns</p>\n",
       "</div>"
      ],
      "text/plain": [
       "               0\n",
       "hack    1.316535\n",
       "tried   1.203418\n",
       "tips    1.167859\n",
       "oil     0.963483\n",
       "any     0.821774\n",
       "...          ...\n",
       "people -0.749673\n",
       "money  -0.827517\n",
       "often  -0.844439\n",
       "many   -0.859666\n",
       "lpt    -0.867368\n",
       "\n",
       "[12373 rows x 1 columns]"
      ]
     },
     "execution_count": 12,
     "metadata": {},
     "output_type": "execute_result"
    }
   ],
   "source": [
    "kronk_coefs = pd.DataFrame(lr.coef_[0], index=X_train_cvec.columns)\n",
    "kronk_coefs.sort_values(by=0, ascending=False)"
   ]
  },
  {
   "cell_type": "code",
   "execution_count": 14,
   "id": "72d310cc-000b-46a2-b185-7fcd053f8b0e",
   "metadata": {
    "collapsed": true,
    "jupyter": {
     "outputs_hidden": true,
     "source_hidden": true
    },
    "tags": []
   },
   "outputs": [
    {
     "data": {
      "text/plain": [
       "GridSearchCV(estimator=LogisticRegression(max_iter=1000, random_state=14),\n",
       "             n_jobs=-1, param_grid={'C': [1, 5, 10]})"
      ]
     },
     "execution_count": 14,
     "metadata": {},
     "output_type": "execute_result"
    }
   ],
   "source": [
    "lr_gs = GridSearchCV(\n",
    "    LogisticRegression(max_iter=1_000, random_state=14),\n",
    "    param_grid={\n",
    "        'C': [1, 5, 10]\n",
    "    },\n",
    "    n_jobs=-1\n",
    ")\n",
    "lr_gs"
   ]
  },
  {
   "cell_type": "code",
   "execution_count": 15,
   "id": "1dee9a28-9951-4314-87a7-c0b54d800f14",
   "metadata": {
    "collapsed": true,
    "jupyter": {
     "outputs_hidden": true,
     "source_hidden": true
    },
    "tags": []
   },
   "outputs": [
    {
     "name": "stdout",
     "output_type": "stream",
     "text": [
      "\n",
      "        Training Accuracy Score: 0.9983844911147012\n",
      "        Test Accuracy Score: 0.7366720516962844\n",
      "        \n",
      "        --- Performance on unseen data ----\n",
      "        Recall (Sensitivity): 0.35570469798657717\n",
      "        Specificity: 0.8574468085106383\n",
      "        Precision: 0.44166666666666665\n",
      "        \n",
      "        Balance Accuracy: 0.6065757532486077\n",
      "        F1 Score: 0.3940520446096654\n",
      "        \n"
     ]
    }
   ],
   "source": [
    "make_model(lr_gs, X_train_cvec, X_test_cvec, y_train_encoded, y_test_encoded)"
   ]
  },
  {
   "cell_type": "code",
   "execution_count": 17,
   "id": "b06d7808-cfdd-4b60-85f7-d033af542d26",
   "metadata": {
    "collapsed": true,
    "jupyter": {
     "outputs_hidden": true,
     "source_hidden": true
    },
    "tags": []
   },
   "outputs": [
    {
     "data": {
      "text/plain": [
       "{'C': 1}"
      ]
     },
     "execution_count": 17,
     "metadata": {},
     "output_type": "execute_result"
    }
   ],
   "source": [
    "lr_gs.best_params_"
   ]
  },
  {
   "cell_type": "code",
   "execution_count": 244,
   "id": "fee1419b-cd04-40ef-b447-51a001d9d267",
   "metadata": {
    "collapsed": true,
    "jupyter": {
     "outputs_hidden": true,
     "source_hidden": true
    },
    "tags": []
   },
   "outputs": [
    {
     "name": "stdout",
     "output_type": "stream",
     "text": [
      "\n",
      "        Training Accuracy Score: 0.9919224555735057\n",
      "        Test Accuracy Score: 0.752827140549273\n",
      "        \n",
      "        --- Performance on unseen data ----\n",
      "        Recall (Sensitivity): 0.3221476510067114\n",
      "        Specificity: 0.8893617021276595\n",
      "        Precision: 0.48\n",
      "        \n",
      "        Balance Accuracy: 0.6057546765671855\n",
      "        F1 Score: 0.38554216867469876\n",
      "        \n"
     ]
    }
   ],
   "source": [
    "make_model(lr_gs, X_train_cvec2, X_test_cvec2, y_train_encoded, y_test_encoded)"
   ]
  },
  {
   "cell_type": "code",
   "execution_count": 245,
   "id": "70c36cec-96a5-4bc3-97de-5e5ad27e6793",
   "metadata": {
    "collapsed": true,
    "jupyter": {
     "outputs_hidden": true,
     "source_hidden": true
    },
    "tags": []
   },
   "outputs": [
    {
     "name": "stdout",
     "output_type": "stream",
     "text": [
      "\n",
      "        Training Accuracy Score: 1.0\n",
      "        Test Accuracy Score: 0.7657512116316639\n",
      "        \n",
      "        --- Performance on unseen data ----\n",
      "        Recall (Sensitivity): 0.0738255033557047\n",
      "        Specificity: 0.9851063829787234\n",
      "        Precision: 0.6111111111111112\n",
      "        \n",
      "        Balance Accuracy: 0.5294659431672141\n",
      "        F1 Score: 0.1317365269461078\n",
      "        \n"
     ]
    }
   ],
   "source": [
    "make_model(lr_gs, X_train_cvec3, X_test_cvec3, y_train_encoded, y_test_encoded)"
   ]
  },
  {
   "cell_type": "code",
   "execution_count": 246,
   "id": "c83806b0-d8e7-4f01-87eb-e28e69280338",
   "metadata": {
    "collapsed": true,
    "jupyter": {
     "outputs_hidden": true,
     "source_hidden": true
    },
    "tags": []
   },
   "outputs": [
    {
     "name": "stdout",
     "output_type": "stream",
     "text": [
      "\n",
      "        Training Accuracy Score: 0.9859989229940764\n",
      "        Test Accuracy Score: 0.752827140549273\n",
      "        \n",
      "        --- Performance on unseen data ----\n",
      "        Recall (Sensitivity): 0.31543624161073824\n",
      "        Specificity: 0.8914893617021277\n",
      "        Precision: 0.47959183673469385\n",
      "        \n",
      "        Balance Accuracy: 0.603462801656433\n",
      "        F1 Score: 0.38056680161943324\n",
      "        \n"
     ]
    }
   ],
   "source": [
    "make_model(lr_gs, X_train_cvec4, X_test_cvec4, y_train_encoded, y_test_encoded)"
   ]
  },
  {
   "cell_type": "code",
   "execution_count": 465,
   "id": "a86a9aa8-b42f-42ee-93cf-62bdedbd71bd",
   "metadata": {
    "collapsed": true,
    "jupyter": {
     "outputs_hidden": true,
     "source_hidden": true
    },
    "tags": []
   },
   "outputs": [
    {
     "name": "stdout",
     "output_type": "stream",
     "text": [
      "\n",
      "        Training Accuracy Score: 0.9633817985998923\n",
      "        Test Accuracy Score: 0.7657512116316639\n",
      "        \n",
      "        --- Performance on unseen data ----\n",
      "        Recall (Sensitivity): 0.3691275167785235\n",
      "        Specificity: 0.8914893617021277\n",
      "        Precision: 0.5188679245283019\n",
      "        \n",
      "        Balance Accuracy: 0.6303084392403255\n",
      "        F1 Score: 0.43137254901960786\n",
      "        \n"
     ]
    }
   ],
   "source": [
    "make_model(lr_gs, X_train_lt2, X_test_lt2, y_train_encoded, y_test_encoded)"
   ]
  },
  {
   "cell_type": "code",
   "execution_count": 507,
   "id": "8d7ce4c4-e9f2-4d30-b831-92ba8c67dcf9",
   "metadata": {
    "collapsed": true,
    "jupyter": {
     "outputs_hidden": true,
     "source_hidden": true
    },
    "tags": []
   },
   "outputs": [
    {
     "name": "stdout",
     "output_type": "stream",
     "text": [
      "\n",
      "        Training Accuracy Score: 0.9633817985998923\n",
      "        Test Accuracy Score: 0.7657512116316639\n",
      "        \n",
      "        --- Performance on unseen data ----\n",
      "        Recall (Sensitivity): 0.3691275167785235\n",
      "        Specificity: 0.8914893617021277\n",
      "        Precision: 0.5188679245283019\n",
      "        \n",
      "        Balance Accuracy: 0.6303084392403255\n",
      "        F1 Score: 0.43137254901960786\n",
      "        \n"
     ]
    }
   ],
   "source": [
    "make_model(lr_gs, X_train_lt2, X_test_lt2, y_train_encoded, y_test_encoded)"
   ]
  },
  {
   "cell_type": "markdown",
   "id": "a755aafe-43ea-4939-b3b0-1d794e215b7f",
   "metadata": {
    "jupyter": {
     "source_hidden": true
    },
    "tags": []
   },
   "source": [
    "## WINNNER"
   ]
  },
  {
   "cell_type": "code",
   "execution_count": 587,
   "id": "d2fa43d6-1257-4ec3-9566-e72036ad673c",
   "metadata": {},
   "outputs": [
    {
     "data": {
      "text/plain": [
       "GridSearchCV(estimator=LogisticRegression(max_iter=1000, random_state=14),\n",
       "             n_jobs=-1,\n",
       "             param_grid={'C': [1, 5, 10], 'class_weight': [None, 'balanced']},\n",
       "             scoring='f1')"
      ]
     },
     "execution_count": 587,
     "metadata": {},
     "output_type": "execute_result"
    }
   ],
   "source": [
    "lr_gs2 = GridSearchCV(\n",
    "    LogisticRegression(max_iter=1_000, random_state=14),\n",
    "    param_grid={\n",
    "        'C': [1, 5, 10],\n",
    "        'class_weight': [None, 'balanced']\n",
    "    },\n",
    "    scoring='f1', #'f1',\n",
    "    n_jobs=-1\n",
    ")\n",
    "lr_gs2"
   ]
  },
  {
   "cell_type": "code",
   "execution_count": 600,
   "id": "726138e7-8a5a-47c4-8a13-cc67d62e3fb4",
   "metadata": {},
   "outputs": [
    {
     "name": "stdout",
     "output_type": "stream",
     "text": [
      "\n",
      "        Training Accuracy Score: 0.9966629588431591\n",
      "        Test Accuracy Score: 0.43506493506493504\n",
      "        \n",
      "        --- Performance on unseen data ----\n",
      "        Recall (Sensitivity): 0.44966442953020136\n",
      "        Specificity: 0.8042553191489362\n",
      "        Precision: 0.42138364779874216\n",
      "        \n",
      "        Balance Accuracy: 0.6269598743395688\n",
      "        F1 Score: 0.43506493506493504\n",
      "        \n"
     ]
    }
   ],
   "source": [
    "make_model(lr_gs2, X_train_cvec, X_test_cvec, y_train_encoded, y_test_encoded)"
   ]
  },
  {
   "cell_type": "code",
   "execution_count": 589,
   "id": "34c678f6-df87-480a-b4cc-59bb9bdcbf23",
   "metadata": {
    "tags": []
   },
   "outputs": [
    {
     "name": "stdout",
     "output_type": "stream",
     "text": [
      "\n",
      "        Training Accuracy Score: 0.9977728285077951\n",
      "        Test Accuracy Score: 0.4135593220338983\n",
      "        \n",
      "        --- Performance on unseen data ----\n",
      "        Recall (Sensitivity): 0.40939597315436244\n",
      "        Specificity: 0.8191489361702128\n",
      "        Precision: 0.4178082191780822\n",
      "        \n",
      "        Balance Accuracy: 0.6142724546622876\n",
      "        F1 Score: 0.4135593220338983\n",
      "        \n"
     ]
    }
   ],
   "source": [
    "make_model(lr_gs2, X_train_cvec2, X_test_cvec2, y_train_encoded, y_test_encoded)"
   ]
  },
  {
   "cell_type": "code",
   "execution_count": 590,
   "id": "f1cdfbaf-7ac0-4d8c-af31-2b136fc65764",
   "metadata": {
    "tags": []
   },
   "outputs": [
    {
     "name": "stdout",
     "output_type": "stream",
     "text": [
      "\n",
      "        Training Accuracy Score: 0.9988851727982163\n",
      "        Test Accuracy Score: 0.1724137931034483\n",
      "        \n",
      "        --- Performance on unseen data ----\n",
      "        Recall (Sensitivity): 0.10067114093959731\n",
      "        Specificity: 0.9787234042553191\n",
      "        Precision: 0.6\n",
      "        \n",
      "        Balance Accuracy: 0.5396972725974583\n",
      "        F1 Score: 0.1724137931034483\n",
      "        \n"
     ]
    }
   ],
   "source": [
    "make_model(lr_gs2, X_train_cvec3, X_test_cvec3, y_train_encoded, y_test_encoded)"
   ]
  },
  {
   "cell_type": "code",
   "execution_count": 591,
   "id": "fd90f983-22e3-42b7-9111-a169eeca45f1",
   "metadata": {
    "tags": []
   },
   "outputs": [
    {
     "name": "stdout",
     "output_type": "stream",
     "text": [
      "\n",
      "        Training Accuracy Score: 0.9944506104328523\n",
      "        Test Accuracy Score: 0.4067796610169491\n",
      "        \n",
      "        --- Performance on unseen data ----\n",
      "        Recall (Sensitivity): 0.40268456375838924\n",
      "        Specificity: 0.8170212765957446\n",
      "        Precision: 0.410958904109589\n",
      "        \n",
      "        Balance Accuracy: 0.6098529201770669\n",
      "        F1 Score: 0.4067796610169491\n",
      "        \n"
     ]
    }
   ],
   "source": [
    "make_model(lr_gs2, X_train_cvec4, X_test_cvec4, y_train_encoded, y_test_encoded)"
   ]
  },
  {
   "cell_type": "code",
   "execution_count": 617,
   "id": "2b868b13-8951-4da7-9558-105e078be4d8",
   "metadata": {},
   "outputs": [
    {
     "name": "stdout",
     "output_type": "stream",
     "text": [
      "\n",
      "        Training Accuracy Score: 0.847457627118644\n",
      "        Test Accuracy Score: 0.5285285285285286\n",
      "        \n",
      "        --- Performance on unseen data ----\n",
      "        Recall (Sensitivity): 0.5906040268456376\n",
      "        Specificity: 0.7957446808510639\n",
      "        Precision: 0.4782608695652174\n",
      "        \n",
      "        Balance Accuracy: 0.6931743538483508\n",
      "        F1 Score: 0.5285285285285286\n",
      "        \n"
     ]
    }
   ],
   "source": [
    "make_model(lr_gs2, X_train_tf, X_test_tf, y_train_encoded, y_test_encoded)"
   ]
  },
  {
   "cell_type": "code",
   "execution_count": 621,
   "id": "62ff19c4-ec1b-46ad-a647-633c5ec5f87a",
   "metadata": {},
   "outputs": [],
   "source": [
    "best_model = lr_gs2.best_estimator_"
   ]
  },
  {
   "cell_type": "code",
   "execution_count": 592,
   "id": "714c599c-01b4-4079-8493-cb537bbc1d57",
   "metadata": {
    "tags": []
   },
   "outputs": [
    {
     "name": "stdout",
     "output_type": "stream",
     "text": [
      "\n",
      "        Training Accuracy Score: 0.9026178010471205\n",
      "        Test Accuracy Score: 0.4999999999999999\n",
      "        \n",
      "        --- Performance on unseen data ----\n",
      "        Recall (Sensitivity): 0.5369127516778524\n",
      "        Specificity: 0.8063829787234043\n",
      "        Precision: 0.4678362573099415\n",
      "        \n",
      "        Balance Accuracy: 0.6716478652006284\n",
      "        F1 Score: 0.4999999999999999\n",
      "        \n"
     ]
    }
   ],
   "source": [
    "make_model(lr_gs2, X_train_tf2, X_test_tf2, y_train_encoded, y_test_encoded)"
   ]
  },
  {
   "cell_type": "code",
   "execution_count": 593,
   "id": "442a0f8f-85be-46e4-b6b0-685681fe5247",
   "metadata": {
    "tags": []
   },
   "outputs": [
    {
     "name": "stdout",
     "output_type": "stream",
     "text": [
      "\n",
      "        Training Accuracy Score: 0.897119341563786\n",
      "        Test Accuracy Score: 0.46645367412140576\n",
      "        \n",
      "        --- Performance on unseen data ----\n",
      "        Recall (Sensitivity): 0.4899328859060403\n",
      "        Specificity: 0.8063829787234043\n",
      "        Precision: 0.4451219512195122\n",
      "        \n",
      "        Balance Accuracy: 0.6481579323147223\n",
      "        F1 Score: 0.46645367412140576\n",
      "        \n"
     ]
    }
   ],
   "source": [
    "make_model(lr_gs2, X_train_tf3, X_test_tf3, y_train_encoded, y_test_encoded)"
   ]
  },
  {
   "cell_type": "code",
   "execution_count": 594,
   "id": "28b65a62-bc66-45ed-81d9-f1f44500bb9b",
   "metadata": {
    "tags": []
   },
   "outputs": [
    {
     "name": "stdout",
     "output_type": "stream",
     "text": [
      "\n",
      "        Training Accuracy Score: 0.7276119402985074\n",
      "        Test Accuracy Score: 0.47457627118644063\n",
      "        \n",
      "        --- Performance on unseen data ----\n",
      "        Recall (Sensitivity): 0.5637583892617449\n",
      "        Specificity: 0.7425531914893617\n",
      "        Precision: 0.4097560975609756\n",
      "        \n",
      "        Balance Accuracy: 0.6531557903755534\n",
      "        F1 Score: 0.47457627118644063\n",
      "        \n"
     ]
    }
   ],
   "source": [
    "make_model(lr_gs2, X_train_tf4, X_test_tf4, y_train_encoded, y_test_encoded)"
   ]
  },
  {
   "cell_type": "code",
   "execution_count": 595,
   "id": "96d2238e-9c6c-43fd-a51e-35e009061831",
   "metadata": {
    "tags": []
   },
   "outputs": [
    {
     "name": "stdout",
     "output_type": "stream",
     "text": [
      "\n",
      "        Training Accuracy Score: 0.6975023126734505\n",
      "        Test Accuracy Score: 0.42979942693409745\n",
      "        \n",
      "        --- Performance on unseen data ----\n",
      "        Recall (Sensitivity): 0.5033557046979866\n",
      "        Specificity: 0.7340425531914894\n",
      "        Precision: 0.375\n",
      "        \n",
      "        Balance Accuracy: 0.618699128944738\n",
      "        F1 Score: 0.42979942693409745\n",
      "        \n"
     ]
    }
   ],
   "source": [
    "make_model(lr_gs2, X_train_tf5, X_test_tf5, y_train_encoded, y_test_encoded)"
   ]
  },
  {
   "cell_type": "code",
   "execution_count": 596,
   "id": "8388e911-4370-4272-86db-25235cadab57",
   "metadata": {
    "tags": []
   },
   "outputs": [
    {
     "name": "stdout",
     "output_type": "stream",
     "text": [
      "\n",
      "        Training Accuracy Score: 0.9955555555555555\n",
      "        Test Accuracy Score: 0.47138047138047134\n",
      "        \n",
      "        --- Performance on unseen data ----\n",
      "        Recall (Sensitivity): 0.4697986577181208\n",
      "        Specificity: 0.8340425531914893\n",
      "        Precision: 0.47297297297297297\n",
      "        \n",
      "        Balance Accuracy: 0.651920605454805\n",
      "        F1 Score: 0.47138047138047134\n",
      "        \n"
     ]
    }
   ],
   "source": [
    "make_model(lr_gs2, X_train_lt, X_test_lt, y_train_encoded, y_test_encoded)"
   ]
  },
  {
   "cell_type": "code",
   "execution_count": 528,
   "id": "67de6e93-9fd0-4068-83a7-2750a904ef21",
   "metadata": {},
   "outputs": [
    {
     "name": "stdout",
     "output_type": "stream",
     "text": [
      "\n",
      "        Training Accuracy Score: 0.9888392857142857\n",
      "        Test Accuracy Score: 0.47651006711409394\n",
      "        \n",
      "        --- Performance on unseen data ----\n",
      "        Recall (Sensitivity): 0.47651006711409394\n",
      "        Specificity: 0.7957446808510639\n",
      "        Precision: 0.4251497005988024\n",
      "        \n",
      "        Balance Accuracy: 0.6361273739825789\n",
      "        F1 Score: 0.44936708860759494\n",
      "        \n"
     ]
    }
   ],
   "source": [
    "make_model(lr_gs2, X_train_lt2, X_test_lt2, y_train_encoded, y_test_encoded)"
   ]
  },
  {
   "cell_type": "code",
   "execution_count": 597,
   "id": "713ef75d-0cec-433d-b979-b1e16fc1fb50",
   "metadata": {
    "collapsed": true,
    "jupyter": {
     "outputs_hidden": true,
     "source_hidden": true
    },
    "tags": []
   },
   "outputs": [
    {
     "name": "stdout",
     "output_type": "stream",
     "text": [
      "\n",
      "        Training Accuracy Score: 0.9921787709497206\n",
      "        Test Accuracy Score: 0.39846743295019155\n",
      "        \n",
      "        --- Performance on unseen data ----\n",
      "        Recall (Sensitivity): 0.348993288590604\n",
      "        Specificity: 0.8723404255319149\n",
      "        Precision: 0.4642857142857143\n",
      "        \n",
      "        Balance Accuracy: 0.6106668570612594\n",
      "        F1 Score: 0.39846743295019155\n",
      "        \n"
     ]
    }
   ],
   "source": [
    "make_model(lr_gs2, X_train_lt3, X_test_lt3, y_train_encoded, y_test_encoded)"
   ]
  },
  {
   "cell_type": "code",
   "execution_count": 598,
   "id": "2e03424a-60bd-439d-bf48-65d1ec720360",
   "metadata": {
    "tags": []
   },
   "outputs": [
    {
     "name": "stdout",
     "output_type": "stream",
     "text": [
      "\n",
      "        Training Accuracy Score: 0.5057251908396947\n",
      "        Test Accuracy Score: 0.3687150837988827\n",
      "        \n",
      "        --- Performance on unseen data ----\n",
      "        Recall (Sensitivity): 0.4429530201342282\n",
      "        Specificity: 0.6957446808510638\n",
      "        Precision: 0.3157894736842105\n",
      "        \n",
      "        Balance Accuracy: 0.569348850492646\n",
      "        F1 Score: 0.3687150837988827\n",
      "        \n"
     ]
    }
   ],
   "source": [
    "make_model(lr_gs2, X_train_lt4, X_test_lt4, y_train_encoded, y_test_encoded)"
   ]
  },
  {
   "cell_type": "code",
   "execution_count": 529,
   "id": "cf88934c-3cb8-498f-902d-42054adfe74e",
   "metadata": {
    "collapsed": true,
    "jupyter": {
     "outputs_hidden": true,
     "source_hidden": true
    },
    "tags": []
   },
   "outputs": [
    {
     "data": {
      "text/plain": [
       "{'C': 1, 'class_weight': 'balanced'}"
      ]
     },
     "execution_count": 529,
     "metadata": {},
     "output_type": "execute_result"
    }
   ],
   "source": [
    "lr_gs2.best_params_"
   ]
  },
  {
   "cell_type": "code",
   "execution_count": 543,
   "id": "58f66530-54eb-42f6-9b09-8d0c7ee89460",
   "metadata": {
    "collapsed": true,
    "jupyter": {
     "outputs_hidden": true
    },
    "tags": []
   },
   "outputs": [
    {
     "data": {
      "text/html": [
       "<div>\n",
       "<style scoped>\n",
       "    .dataframe tbody tr th:only-of-type {\n",
       "        vertical-align: middle;\n",
       "    }\n",
       "\n",
       "    .dataframe tbody tr th {\n",
       "        vertical-align: top;\n",
       "    }\n",
       "\n",
       "    .dataframe thead th {\n",
       "        text-align: right;\n",
       "    }\n",
       "</style>\n",
       "<table border=\"1\" class=\"dataframe\">\n",
       "  <thead>\n",
       "    <tr style=\"text-align: right;\">\n",
       "      <th></th>\n",
       "      <th>0</th>\n",
       "    </tr>\n",
       "  </thead>\n",
       "  <tbody>\n",
       "    <tr>\n",
       "      <th>hack</th>\n",
       "      <td>2.209486</td>\n",
       "    </tr>\n",
       "    <tr>\n",
       "      <th>plug</th>\n",
       "      <td>1.511174</td>\n",
       "    </tr>\n",
       "    <tr>\n",
       "      <th>auto=webp</th>\n",
       "      <td>1.398988</td>\n",
       "    </tr>\n",
       "    <tr>\n",
       "      <th>hiccup</th>\n",
       "      <td>1.287466</td>\n",
       "    </tr>\n",
       "    <tr>\n",
       "      <th>slide</th>\n",
       "      <td>1.237272</td>\n",
       "    </tr>\n",
       "    <tr>\n",
       "      <th>reminder</th>\n",
       "      <td>1.203358</td>\n",
       "    </tr>\n",
       "    <tr>\n",
       "      <th>idk</th>\n",
       "      <td>1.191087</td>\n",
       "    </tr>\n",
       "    <tr>\n",
       "      <th>glove</th>\n",
       "      <td>1.159934</td>\n",
       "    </tr>\n",
       "    <tr>\n",
       "      <th>fly</th>\n",
       "      <td>1.139974</td>\n",
       "    </tr>\n",
       "    <tr>\n",
       "      <th>pop</th>\n",
       "      <td>1.136626</td>\n",
       "    </tr>\n",
       "  </tbody>\n",
       "</table>\n",
       "</div>"
      ],
      "text/plain": [
       "                  0\n",
       "hack       2.209486\n",
       "plug       1.511174\n",
       "auto=webp  1.398988\n",
       "hiccup     1.287466\n",
       "slide      1.237272\n",
       "reminder   1.203358\n",
       "idk        1.191087\n",
       "glove      1.159934\n",
       "fly        1.139974\n",
       "pop        1.136626"
      ]
     },
     "execution_count": 543,
     "metadata": {},
     "output_type": "execute_result"
    }
   ],
   "source": [
    "kronk_coefs2 = pd.DataFrame(lr_gs2.best_estimator_.coef_[0], index=X_train_lt2.columns)\n",
    "top_kronk_coefs = kronk_coefs2.sort_values(by=0, ascending=False)\n",
    "top_kronk_coefs[:10]"
   ]
  },
  {
   "cell_type": "code",
   "execution_count": 551,
   "id": "a82833a9-6371-44c4-8179-2841c2f477a6",
   "metadata": {
    "tags": []
   },
   "outputs": [
    {
     "data": {
      "text/plain": [
       "['hack',\n",
       " 'plug',\n",
       " 'auto=webp',\n",
       " 'hiccup',\n",
       " 'slide',\n",
       " 'reminder',\n",
       " 'idk',\n",
       " 'glove',\n",
       " 'fly',\n",
       " 'pop']"
      ]
     },
     "execution_count": 551,
     "metadata": {},
     "output_type": "execute_result"
    }
   ],
   "source": [
    "list(top_kronk_coefs.index)[:10]"
   ]
  },
  {
   "cell_type": "code",
   "execution_count": 574,
   "id": "809d73c8-41a5-4401-905a-feded5941e63",
   "metadata": {
    "tags": []
   },
   "outputs": [
    {
     "data": {
      "text/plain": [
       "array([2.20948566, 1.51117434, 1.39898814, 1.28746568, 1.23727211,\n",
       "       1.20335831, 1.19108661, 1.1599337 , 1.13997376, 1.13662579])"
      ]
     },
     "execution_count": 574,
     "metadata": {},
     "output_type": "execute_result"
    }
   ],
   "source": [
    "top_kronk_coefs[0].values[:10]"
   ]
  },
  {
   "cell_type": "code",
   "execution_count": 580,
   "id": "f3333043-09bd-4a17-8662-b77baf8ed201",
   "metadata": {
    "tags": []
   },
   "outputs": [
    {
     "data": {
      "image/png": "[encoded data removed]",
      "text/plain": [
       "<Figure size 432x288 with 1 Axes>"
      ]
     },
     "metadata": {
      "needs_background": "light"
     },
     "output_type": "display_data"
    }
   ],
   "source": [
    "sns.barplot(y=list(top_kronk_coefs.index)[:10], x=top_kronk_coefs[0].values[:10], orient='h', color='orange')\n",
    "plt.title(\"Top 10 most impactful words\")\n",
    "#plt.xlabel='Score'\n",
    "plt.savefig('../images/top_10.png');"
   ]
  },
  {
   "cell_type": "code",
   "execution_count": 586,
   "id": "1d9ad251-9e0c-47f0-bd78-f7c46d790cb4",
   "metadata": {
    "tags": []
   },
   "outputs": [
    {
     "data": {
      "image/png": "[encoded data removed]",
      "text/plain": [
       "<Figure size 432x288 with 2 Axes>"
      ]
     },
     "metadata": {
      "needs_background": "light"
     },
     "output_type": "display_data"
    }
   ],
   "source": [
    "# Confusion matrix\n",
    "ConfusionMatrixDisplay.from_estimator(lr_gs2.best_estimator_, X_test_lt2, y_test_encoded, display_labels=['LPT (0)', 'LH (1)'])\n",
    "#plt.savefig(\"../images/confusion_matrix.png\");"
   ]
  },
  {
   "cell_type": "code",
   "execution_count": 532,
   "id": "d3cf9d65-8885-4006-a2a1-891c86620008",
   "metadata": {
    "tags": []
   },
   "outputs": [
    {
     "data": {
      "text/plain": [
       "<sklearn.metrics._plot.confusion_matrix.ConfusionMatrixDisplay at 0x18716f00430>"
      ]
     },
     "execution_count": 532,
     "metadata": {},
     "output_type": "execute_result"
    },
    {
     "data": {
      "image/png": "[encoded data removed]",
      "text/plain": [
       "<Figure size 432x288 with 2 Axes>"
      ]
     },
     "metadata": {
      "needs_background": "light"
     },
     "output_type": "display_data"
    }
   ],
   "source": [
    "# Confusion matrix\n",
    "ConfusionMatrixDisplay.from_estimator(lr_gs2.best_estimator_, X_test_lt2, y_test_encoded, normalize='pred')\n",
    "#plt.savefig(\"../images/confusion_matrix.png\");"
   ]
  },
  {
   "cell_type": "code",
   "execution_count": 535,
   "id": "39471400-95ee-48cf-8277-6de7061c716e",
   "metadata": {
    "tags": []
   },
   "outputs": [
    {
     "data": {
      "image/png": "[encoded data removed]",
      "text/plain": [
       "<Figure size 432x288 with 1 Axes>"
      ]
     },
     "metadata": {
      "needs_background": "light"
     },
     "output_type": "display_data"
    }
   ],
   "source": [
    "# most current method in scikit-learn is RocCurveDisplay\n",
    "RocCurveDisplay.from_estimator(lr_gs2.best_estimator_, X_test_lt2, y_test_encoded)\n",
    "\n",
    "# add 'worst case scenario' line\n",
    "plt.plot([0,1], [0,1], label='no prediction value', linestyle='--', color='gray')\n",
    "\n",
    "# add a legend\n",
    "plt.legend()\n",
    "plt.savefig(\"../images/roc_curve.png\");"
   ]
  },
  {
   "cell_type": "markdown",
   "id": "2c0b075d-68f6-4077-9d8d-7240ff8d4421",
   "metadata": {},
   "source": [
    "-----"
   ]
  },
  {
   "cell_type": "code",
   "execution_count": 508,
   "id": "36f73b11-87b8-4db6-9164-e45935c14a91",
   "metadata": {
    "collapsed": true,
    "jupyter": {
     "outputs_hidden": true,
     "source_hidden": true
    },
    "tags": []
   },
   "outputs": [
    {
     "data": {
      "text/plain": [
       "{'C': 1}"
      ]
     },
     "execution_count": 508,
     "metadata": {},
     "output_type": "execute_result"
    }
   ],
   "source": [
    "lr_gs.best_params_"
   ]
  },
  {
   "cell_type": "code",
   "execution_count": 486,
   "id": "8aa5d014-9a3b-45c2-a05d-bd8916ac00dc",
   "metadata": {
    "collapsed": true,
    "jupyter": {
     "outputs_hidden": true,
     "source_hidden": true
    },
    "tags": []
   },
   "outputs": [
    {
     "name": "stdout",
     "output_type": "stream",
     "text": [
      "\n",
      "        Training Accuracy Score: 0.8529886914378029\n",
      "        Test Accuracy Score: 0.7576736672051696\n",
      "        \n",
      "        --- Performance on unseen data ----\n",
      "        Recall (Sensitivity): 0.15436241610738255\n",
      "        Specificity: 0.948936170212766\n",
      "        Precision: 0.48936170212765956\n",
      "        \n",
      "        Balance Accuracy: 0.5516492931600743\n",
      "        F1 Score: 0.2346938775510204\n",
      "        \n"
     ]
    }
   ],
   "source": [
    "make_model(lr_gs, X_train_lt4, X_test_lt4, y_train_encoded, y_test_encoded)"
   ]
  },
  {
   "cell_type": "code",
   "execution_count": 506,
   "id": "b3733a27-6e70-453d-b1b2-8168689c6ef6",
   "metadata": {
    "collapsed": true,
    "jupyter": {
     "outputs_hidden": true,
     "source_hidden": true
    },
    "tags": []
   },
   "outputs": [
    {
     "name": "stdout",
     "output_type": "stream",
     "text": [
      "\n",
      "        Training Accuracy Score: 0.7689822294022617\n",
      "        Test Accuracy Score: 0.7576736672051696\n",
      "        \n",
      "        --- Performance on unseen data ----\n",
      "        Recall (Sensitivity): 0.040268456375838924\n",
      "        Specificity: 0.9851063829787234\n",
      "        Precision: 0.46153846153846156\n",
      "        \n",
      "        Balance Accuracy: 0.5126874196772812\n",
      "        F1 Score: 0.07407407407407406\n",
      "        \n"
     ]
    }
   ],
   "source": [
    "make_model(lr_gs, X_train_lt4, X_test_lt4, y_train_encoded, y_test_encoded)"
   ]
  },
  {
   "cell_type": "code",
   "execution_count": null,
   "id": "62ed5bf8-d528-4639-a6d6-ace335d24674",
   "metadata": {
    "jupyter": {
     "source_hidden": true
    },
    "tags": []
   },
   "outputs": [],
   "source": [
    "lr_gs2 = GridSearchCV(\n",
    "    LogisticRegression(penalty='l1', max_iter=1_000, random_state=14, solver='saga'),\n",
    "    param_grid={\n",
    "        'C': [0.1, 0.5, 1]\n",
    "    },\n",
    "    n_jobs=-1\n",
    ")\n",
    "lr_gs2"
   ]
  },
  {
   "cell_type": "code",
   "execution_count": null,
   "id": "debf2d35-7c90-46dd-b458-a8ffe759fc50",
   "metadata": {
    "jupyter": {
     "source_hidden": true
    },
    "tags": []
   },
   "outputs": [],
   "source": [
    "#make_model(lr_gs2, X_train_cvec, X_test_cvec, y_train_encoded, y_test_encoded)"
   ]
  },
  {
   "cell_type": "markdown",
   "id": "4b9a0a54-6596-4f77-a664-cf390438ba29",
   "metadata": {},
   "source": [
    "### K-Nearest-Neighbors"
   ]
  },
  {
   "cell_type": "markdown",
   "id": "9376877b-a1ca-417c-9fbd-26df4d147786",
   "metadata": {},
   "source": [
    "Alisas: Kuzko"
   ]
  },
  {
   "cell_type": "code",
   "execution_count": 44,
   "id": "be24341e-4c60-451e-b0a3-ec385d9bbf79",
   "metadata": {
    "jupyter": {
     "source_hidden": true
    },
    "tags": []
   },
   "outputs": [],
   "source": [
    "knn = KNeighborsClassifier(n_jobs=-1)"
   ]
  },
  {
   "cell_type": "code",
   "execution_count": 73,
   "id": "556e5b8f-43fb-43b7-82e6-8b46acc09e7e",
   "metadata": {
    "collapsed": true,
    "jupyter": {
     "outputs_hidden": true,
     "source_hidden": true
    },
    "tags": []
   },
   "outputs": [
    {
     "name": "stdout",
     "output_type": "stream",
     "text": [
      "\n",
      "        Training Accuracy Score: 0.8056004308023694\n",
      "        Test Accuracy Score: 0.7221324717285945\n",
      "        \n",
      "        --- Performance on unseen data ----\n",
      "        Recall (Sensitivity): 0.24161073825503357\n",
      "        Specificity: 0.874468085106383\n",
      "        Precision: 0.37894736842105264\n",
      "        \n",
      "        Balance Accuracy: 0.5580394116807083\n",
      "        F1 Score: 0.29508196721311475\n",
      "        \n"
     ]
    }
   ],
   "source": [
    "make_model(knn, X_train_cvec, X_test_cvec, y_train_encoded, y_test_encoded)"
   ]
  },
  {
   "cell_type": "code",
   "execution_count": 30,
   "id": "38ce3c88-a84a-4906-89f3-a09a7ef0ffc5",
   "metadata": {},
   "outputs": [
    {
     "data": {
      "text/plain": [
       "GridSearchCV(estimator=KNeighborsClassifier(n_jobs=-1), n_jobs=-1,\n",
       "             param_grid={'n_neighbors': [20, 25, 30, 35]})"
      ]
     },
     "execution_count": 30,
     "metadata": {},
     "output_type": "execute_result"
    }
   ],
   "source": [
    "knn_gs = GridSearchCV(\n",
    "    KNeighborsClassifier(n_jobs=-1),\n",
    "    param_grid={\n",
    "        'n_neighbors': [5, 20, 25, 30, 35]\n",
    "    },\n",
    "    n_jobs=-1\n",
    ")\n",
    "knn_gs"
   ]
  },
  {
   "cell_type": "code",
   "execution_count": 31,
   "id": "84ac4505-5866-4402-b9b2-57d1ac2d7968",
   "metadata": {},
   "outputs": [
    {
     "name": "stdout",
     "output_type": "stream",
     "text": [
      "\n",
      "        Training Accuracy Score: 0.7587506731287023\n",
      "        Test Accuracy Score: 0.7576736672051696\n",
      "        \n",
      "        --- Performance on unseen data ----\n",
      "        Recall (Sensitivity): 0.006711409395973154\n",
      "        Specificity: 0.9957446808510638\n",
      "        Precision: 0.3333333333333333\n",
      "        \n",
      "        Balance Accuracy: 0.5012280451235185\n",
      "        F1 Score: 0.013157894736842106\n",
      "        \n"
     ]
    }
   ],
   "source": [
    "make_model(knn_gs, X_train_cvec, X_test_cvec, y_train_encoded, y_test_encoded)"
   ]
  },
  {
   "cell_type": "code",
   "execution_count": 32,
   "id": "028b9c77-6bbf-4223-9e79-82829bbf724a",
   "metadata": {
    "tags": []
   },
   "outputs": [
    {
     "data": {
      "text/plain": [
       "{'n_neighbors': 30}"
      ]
     },
     "execution_count": 32,
     "metadata": {},
     "output_type": "execute_result"
    }
   ],
   "source": [
    "knn_gs.best_params_"
   ]
  },
  {
   "cell_type": "markdown",
   "id": "79252427-8637-4e76-9d52-16454e878cc6",
   "metadata": {},
   "source": [
    "### Bagging Classifier"
   ]
  },
  {
   "cell_type": "markdown",
   "id": "f9e1bda6-408a-44ea-bd43-a044563f3fb0",
   "metadata": {},
   "source": [
    "Alias: Yzma"
   ]
  },
  {
   "cell_type": "code",
   "execution_count": 59,
   "id": "78e71f59-27cc-493e-a9dd-0ac18961a9e1",
   "metadata": {
    "jupyter": {
     "source_hidden": true
    },
    "tags": []
   },
   "outputs": [],
   "source": [
    "bc = BaggingClassifier(random_state=14, n_jobs=-1)"
   ]
  },
  {
   "cell_type": "code",
   "execution_count": 74,
   "id": "4bb6640c-d54d-44b4-ae33-752f681d17cc",
   "metadata": {
    "collapsed": true,
    "jupyter": {
     "outputs_hidden": true,
     "source_hidden": true
    },
    "tags": []
   },
   "outputs": [
    {
     "name": "stdout",
     "output_type": "stream",
     "text": [
      "\n",
      "        Training Accuracy Score: 0.975767366720517\n",
      "        Test Accuracy Score: 0.7625201938610663\n",
      "        \n",
      "        --- Performance on unseen data ----\n",
      "        Recall (Sensitivity): 0.1476510067114094\n",
      "        Specificity: 0.9574468085106383\n",
      "        Precision: 0.5238095238095238\n",
      "        \n",
      "        Balance Accuracy: 0.5525489076110239\n",
      "        F1 Score: 0.23036649214659685\n",
      "        \n"
     ]
    }
   ],
   "source": [
    "make_model(bc, X_train_cvec, X_test_cvec, y_train_encoded, y_test_encoded)"
   ]
  },
  {
   "cell_type": "markdown",
   "id": "975fd6f3-e379-4457-b350-bf000c037582",
   "metadata": {
    "jupyter": {
     "source_hidden": true
    },
    "tags": []
   },
   "source": [
    "Looks like Yzma model is making less predictions of `r/lifehacks`; however, the few that it does predict, it's getting more of those correct, hence why our precision score has increased.\n",
    "Slight improvement over the Kuzko model."
   ]
  },
  {
   "cell_type": "code",
   "execution_count": 34,
   "id": "abd65891-fc5f-43fb-80ac-10f582cea8f5",
   "metadata": {},
   "outputs": [
    {
     "data": {
      "text/plain": [
       "GridSearchCV(estimator=BaggingClassifier(n_jobs=-1, random_state=14), n_jobs=-1,\n",
       "             param_grid={'bootstrap_features': [False, True],\n",
       "                         'n_estimators': [5, 10, 25, 50, 100]})"
      ]
     },
     "execution_count": 34,
     "metadata": {},
     "output_type": "execute_result"
    }
   ],
   "source": [
    "bc_gs = GridSearchCV(\n",
    "    BaggingClassifier(random_state=14, n_jobs=-1),\n",
    "    param_grid={\n",
    "        'n_estimators' : [5, 10, 25, 50, 100],\n",
    "        'bootstrap_features': [False, True]\n",
    "    },\n",
    "    n_jobs=-1\n",
    ")\n",
    "bc_gs"
   ]
  },
  {
   "cell_type": "code",
   "execution_count": 35,
   "id": "308b4692-0e6b-4147-9125-e536ad20550b",
   "metadata": {},
   "outputs": [
    {
     "name": "stdout",
     "output_type": "stream",
     "text": [
      "\n",
      "        Training Accuracy Score: 0.9983844911147012\n",
      "        Test Accuracy Score: 0.7625201938610663\n",
      "        \n",
      "        --- Performance on unseen data ----\n",
      "        Recall (Sensitivity): 0.1610738255033557\n",
      "        Specificity: 0.9531914893617022\n",
      "        Precision: 0.5217391304347826\n",
      "        \n",
      "        Balance Accuracy: 0.5571326574325289\n",
      "        F1 Score: 0.24615384615384617\n",
      "        \n"
     ]
    }
   ],
   "source": [
    "make_model(bc_gs, X_train_cvec, X_test_cvec, y_train_encoded, y_test_encoded)"
   ]
  },
  {
   "cell_type": "code",
   "execution_count": 36,
   "id": "b6079c1d-4d63-4fb0-b0af-d5803bdfe02d",
   "metadata": {
    "tags": []
   },
   "outputs": [
    {
     "data": {
      "text/plain": [
       "{'bootstrap_features': False, 'n_estimators': 50}"
      ]
     },
     "execution_count": 36,
     "metadata": {},
     "output_type": "execute_result"
    }
   ],
   "source": [
    "bc_gs.best_params_"
   ]
  },
  {
   "cell_type": "markdown",
   "id": "47c67cb6-3462-4fac-b7c3-d14053f0c8d2",
   "metadata": {},
   "source": [
    "### Random Forests"
   ]
  },
  {
   "cell_type": "markdown",
   "id": "63171c7c-732c-40d1-83b3-45f5d428f3e7",
   "metadata": {},
   "source": [
    "Alias: Pacha"
   ]
  },
  {
   "cell_type": "code",
   "execution_count": 77,
   "id": "7e99b3e8-ecfd-46e4-94f1-edf479160336",
   "metadata": {
    "jupyter": {
     "source_hidden": true
    },
    "tags": []
   },
   "outputs": [],
   "source": [
    "rf = RandomForestClassifier(random_state=14, n_jobs=-1)"
   ]
  },
  {
   "cell_type": "code",
   "execution_count": 78,
   "id": "fe872258-5795-4084-bc2c-3a2fa7e7b970",
   "metadata": {
    "collapsed": true,
    "jupyter": {
     "outputs_hidden": true,
     "source_hidden": true
    },
    "tags": []
   },
   "outputs": [
    {
     "name": "stdout",
     "output_type": "stream",
     "text": [
      "\n",
      "        Training Accuracy Score: 1.0\n",
      "        Test Accuracy Score: 0.7705977382875606\n",
      "        \n",
      "        --- Performance on unseen data ----\n",
      "        Recall (Sensitivity): 0.06711409395973154\n",
      "        Specificity: 0.9936170212765958\n",
      "        Precision: 0.7692307692307693\n",
      "        \n",
      "        Balance Accuracy: 0.5303655576181636\n",
      "        F1 Score: 0.12345679012345678\n",
      "        \n"
     ]
    }
   ],
   "source": [
    "make_model(rf, X_train_cvec, X_test_cvec, y_train_encoded, y_test_encoded)"
   ]
  },
  {
   "cell_type": "markdown",
   "id": "1acb1df8-b68d-42a9-a66e-2fa0e8279e10",
   "metadata": {
    "jupyter": {
     "source_hidden": true
    },
    "tags": []
   },
   "source": [
    "Our recall has gone down significantly, which indicates very few predictions for `r/lifehacks` were made. The few predictions that were made about `r/lifehacks` were mostly correct, which is why we have a relatively high precision score.\n",
    "\n",
    "Making few predictoins for `r/lifehacks` is not ideal for us. Does not outperform Yzma model."
   ]
  },
  {
   "cell_type": "code",
   "execution_count": 38,
   "id": "08a082bd-9df0-44a1-bd24-4fdd85a7eb79",
   "metadata": {},
   "outputs": [
    {
     "data": {
      "text/plain": [
       "GridSearchCV(estimator=RandomForestClassifier(n_jobs=-1, random_state=14),\n",
       "             n_jobs=-1,\n",
       "             param_grid={'max_depth': [None, 5, 10, 15],\n",
       "                         'min_samples_split': [2, 3, 5],\n",
       "                         'n_estimators': [100, 150, 200]})"
      ]
     },
     "execution_count": 38,
     "metadata": {},
     "output_type": "execute_result"
    }
   ],
   "source": [
    "rf_gs = GridSearchCV(\n",
    "    RandomForestClassifier(random_state=14, n_jobs=-1),\n",
    "    param_grid={\n",
    "        'n_estimators': [100, 150, 200],\n",
    "        'max_depth': [None, 5, 10, 15],\n",
    "        'min_samples_split': [2, 3, 5]\n",
    "    },\n",
    "    n_jobs=-1\n",
    ")\n",
    "rf_gs"
   ]
  },
  {
   "cell_type": "code",
   "execution_count": 39,
   "id": "597b4f88-188e-4983-b533-07b37ffeea89",
   "metadata": {},
   "outputs": [
    {
     "name": "stdout",
     "output_type": "stream",
     "text": [
      "\n",
      "        Training Accuracy Score: 1.0\n",
      "        Test Accuracy Score: 0.7705977382875606\n",
      "        \n",
      "        --- Performance on unseen data ----\n",
      "        Recall (Sensitivity): 0.06711409395973154\n",
      "        Specificity: 0.9936170212765958\n",
      "        Precision: 0.7692307692307693\n",
      "        \n",
      "        Balance Accuracy: 0.5303655576181636\n",
      "        F1 Score: 0.12345679012345678\n",
      "        \n"
     ]
    }
   ],
   "source": [
    "make_model(rf_gs, X_train_cvec, X_test_cvec, y_train_encoded, y_test_encoded)"
   ]
  },
  {
   "cell_type": "code",
   "execution_count": 40,
   "id": "ac2fe223-6e4a-4d52-a5bd-44c86cccffb9",
   "metadata": {
    "tags": []
   },
   "outputs": [
    {
     "data": {
      "text/plain": [
       "{'max_depth': None, 'min_samples_split': 2, 'n_estimators': 100}"
      ]
     },
     "execution_count": 40,
     "metadata": {},
     "output_type": "execute_result"
    }
   ],
   "source": [
    "rf_gs.best_params_"
   ]
  },
  {
   "cell_type": "code",
   "execution_count": 60,
   "id": "ed505776-06d4-4e93-a208-3a402a210fc5",
   "metadata": {
    "tags": []
   },
   "outputs": [
    {
     "data": {
      "text/html": [
       "<div>\n",
       "<style scoped>\n",
       "    .dataframe tbody tr th:only-of-type {\n",
       "        vertical-align: middle;\n",
       "    }\n",
       "\n",
       "    .dataframe tbody tr th {\n",
       "        vertical-align: top;\n",
       "    }\n",
       "\n",
       "    .dataframe thead th {\n",
       "        text-align: right;\n",
       "    }\n",
       "</style>\n",
       "<table border=\"1\" class=\"dataframe\">\n",
       "  <thead>\n",
       "    <tr style=\"text-align: right;\">\n",
       "      <th></th>\n",
       "      <th>0</th>\n",
       "    </tr>\n",
       "  </thead>\n",
       "  <tbody>\n",
       "    <tr>\n",
       "      <th>hack</th>\n",
       "      <td>0.007384</td>\n",
       "    </tr>\n",
       "    <tr>\n",
       "      <th>you</th>\n",
       "      <td>0.006622</td>\n",
       "    </tr>\n",
       "    <tr>\n",
       "      <th>tried</th>\n",
       "      <td>0.004729</td>\n",
       "    </tr>\n",
       "    <tr>\n",
       "      <th>to</th>\n",
       "      <td>0.004566</td>\n",
       "    </tr>\n",
       "    <tr>\n",
       "      <th>https</th>\n",
       "      <td>0.004552</td>\n",
       "    </tr>\n",
       "    <tr>\n",
       "      <th>...</th>\n",
       "      <td>...</td>\n",
       "    </tr>\n",
       "    <tr>\n",
       "      <th>couldnt</th>\n",
       "      <td>0.000000</td>\n",
       "    </tr>\n",
       "    <tr>\n",
       "      <th>offhand</th>\n",
       "      <td>0.000000</td>\n",
       "    </tr>\n",
       "    <tr>\n",
       "      <th>counselors</th>\n",
       "      <td>0.000000</td>\n",
       "    </tr>\n",
       "    <tr>\n",
       "      <th>offensive</th>\n",
       "      <td>0.000000</td>\n",
       "    </tr>\n",
       "    <tr>\n",
       "      <th>餘生</th>\n",
       "      <td>0.000000</td>\n",
       "    </tr>\n",
       "  </tbody>\n",
       "</table>\n",
       "<p>12373 rows × 1 columns</p>\n",
       "</div>"
      ],
      "text/plain": [
       "                   0\n",
       "hack        0.007384\n",
       "you         0.006622\n",
       "tried       0.004729\n",
       "to          0.004566\n",
       "https       0.004552\n",
       "...              ...\n",
       "couldnt     0.000000\n",
       "offhand     0.000000\n",
       "counselors  0.000000\n",
       "offensive   0.000000\n",
       "餘生          0.000000\n",
       "\n",
       "[12373 rows x 1 columns]"
      ]
     },
     "execution_count": 60,
     "metadata": {},
     "output_type": "execute_result"
    }
   ],
   "source": [
    "pd.DataFrame(rf_gs.best_estimator_.feature_importances_, index=X_train_cvec.columns).sort_values(by=0, ascending=False)"
   ]
  },
  {
   "cell_type": "markdown",
   "id": "27f560e0-6efd-4b46-b53f-97e01f2f2bdb",
   "metadata": {},
   "source": [
    "### Extra Trees"
   ]
  },
  {
   "cell_type": "markdown",
   "id": "f012e15a-2d41-49f0-b7bf-e179e3d193a9",
   "metadata": {},
   "source": [
    "Alias: Chaca"
   ]
  },
  {
   "cell_type": "code",
   "execution_count": 81,
   "id": "6165d13a-ffdb-4a4c-bdd3-36e894450386",
   "metadata": {
    "jupyter": {
     "source_hidden": true
    },
    "tags": []
   },
   "outputs": [],
   "source": [
    "et = ExtraTreesClassifier(random_state=14, n_jobs=-1)"
   ]
  },
  {
   "cell_type": "code",
   "execution_count": 82,
   "id": "75b90268-fdc4-45b9-a940-387669ef983e",
   "metadata": {
    "collapsed": true,
    "jupyter": {
     "outputs_hidden": true,
     "source_hidden": true
    },
    "tags": []
   },
   "outputs": [
    {
     "name": "stdout",
     "output_type": "stream",
     "text": [
      "\n",
      "        Training Accuracy Score: 1.0\n",
      "        Test Accuracy Score: 0.778675282714055\n",
      "        \n",
      "        --- Performance on unseen data ----\n",
      "        Recall (Sensitivity): 0.12080536912751678\n",
      "        Specificity: 0.9872340425531915\n",
      "        Precision: 0.75\n",
      "        \n",
      "        Balance Accuracy: 0.5540197058403541\n",
      "        F1 Score: 0.20809248554913296\n",
      "        \n"
     ]
    }
   ],
   "source": [
    "make_model(et, X_train_cvec, X_test_cvec, y_train_encoded, y_test_encoded)"
   ]
  },
  {
   "cell_type": "markdown",
   "id": "2b53042a-7bcb-4eed-8324-820b0e6ef144",
   "metadata": {
    "jupyter": {
     "source_hidden": true
    },
    "tags": []
   },
   "source": [
    "Higher recall score than Pacha model (makes more `r/lifehacks` predictions) while maintaining essentially the same precision score (same correct/incorrect ratio predictions of `r/lifehacks`). This is a slight imporovement of the Pacha and Yzma model. "
   ]
  },
  {
   "cell_type": "code",
   "execution_count": 41,
   "id": "7c17de48-62f2-47d4-be75-effb6f66ac4a",
   "metadata": {},
   "outputs": [
    {
     "data": {
      "text/plain": [
       "GridSearchCV(estimator=ExtraTreesClassifier(n_jobs=-1, random_state=14),\n",
       "             param_grid={'max_depth': [None, 5, 10, 15],\n",
       "                         'min_samples_split': [2, 3, 5],\n",
       "                         'n_estimators': [100, 150, 200]})"
      ]
     },
     "execution_count": 41,
     "metadata": {},
     "output_type": "execute_result"
    }
   ],
   "source": [
    "et_gs = GridSearchCV(\n",
    "    ExtraTreesClassifier(random_state=14, n_jobs=-1),\n",
    "    param_grid={\n",
    "        'n_estimators': [100, 150, 200],\n",
    "        'max_depth': [None, 5, 10, 15],\n",
    "        'min_samples_split': [2, 3, 5]\n",
    "    },\n",
    "    n_jobs=-1\n",
    ")\n",
    "et_gs"
   ]
  },
  {
   "cell_type": "code",
   "execution_count": 42,
   "id": "61f1a7e7-da78-4ce6-9a9f-2a855523b123",
   "metadata": {},
   "outputs": [
    {
     "name": "stdout",
     "output_type": "stream",
     "text": [
      "\n",
      "        Training Accuracy Score: 1.0\n",
      "        Test Accuracy Score: 0.778675282714055\n",
      "        \n",
      "        --- Performance on unseen data ----\n",
      "        Recall (Sensitivity): 0.12080536912751678\n",
      "        Specificity: 0.9872340425531915\n",
      "        Precision: 0.75\n",
      "        \n",
      "        Balance Accuracy: 0.5540197058403541\n",
      "        F1 Score: 0.20809248554913296\n",
      "        \n"
     ]
    }
   ],
   "source": [
    "make_model(et_gs, X_train_cvec, X_test_cvec, y_train_encoded, y_test_encoded)"
   ]
  },
  {
   "cell_type": "code",
   "execution_count": 61,
   "id": "d3924427-e0de-4275-b37d-a836d4942245",
   "metadata": {},
   "outputs": [
    {
     "data": {
      "text/html": [
       "<div>\n",
       "<style scoped>\n",
       "    .dataframe tbody tr th:only-of-type {\n",
       "        vertical-align: middle;\n",
       "    }\n",
       "\n",
       "    .dataframe tbody tr th {\n",
       "        vertical-align: top;\n",
       "    }\n",
       "\n",
       "    .dataframe thead th {\n",
       "        text-align: right;\n",
       "    }\n",
       "</style>\n",
       "<table border=\"1\" class=\"dataframe\">\n",
       "  <thead>\n",
       "    <tr style=\"text-align: right;\">\n",
       "      <th></th>\n",
       "      <th>0</th>\n",
       "    </tr>\n",
       "  </thead>\n",
       "  <tbody>\n",
       "    <tr>\n",
       "      <th>hack</th>\n",
       "      <td>0.008882</td>\n",
       "    </tr>\n",
       "    <tr>\n",
       "      <th>hacks</th>\n",
       "      <td>0.005128</td>\n",
       "    </tr>\n",
       "    <tr>\n",
       "      <th>tried</th>\n",
       "      <td>0.004048</td>\n",
       "    </tr>\n",
       "    <tr>\n",
       "      <th>tips</th>\n",
       "      <td>0.003809</td>\n",
       "    </tr>\n",
       "    <tr>\n",
       "      <th>you</th>\n",
       "      <td>0.003743</td>\n",
       "    </tr>\n",
       "    <tr>\n",
       "      <th>...</th>\n",
       "      <td>...</td>\n",
       "    </tr>\n",
       "    <tr>\n",
       "      <th>cosmic</th>\n",
       "      <td>0.000000</td>\n",
       "    </tr>\n",
       "    <tr>\n",
       "      <th>costco</th>\n",
       "      <td>0.000000</td>\n",
       "    </tr>\n",
       "    <tr>\n",
       "      <th>costing</th>\n",
       "      <td>0.000000</td>\n",
       "    </tr>\n",
       "    <tr>\n",
       "      <th>proxy</th>\n",
       "      <td>0.000000</td>\n",
       "    </tr>\n",
       "    <tr>\n",
       "      <th>greeted</th>\n",
       "      <td>0.000000</td>\n",
       "    </tr>\n",
       "  </tbody>\n",
       "</table>\n",
       "<p>12373 rows × 1 columns</p>\n",
       "</div>"
      ],
      "text/plain": [
       "                0\n",
       "hack     0.008882\n",
       "hacks    0.005128\n",
       "tried    0.004048\n",
       "tips     0.003809\n",
       "you      0.003743\n",
       "...           ...\n",
       "cosmic   0.000000\n",
       "costco   0.000000\n",
       "costing  0.000000\n",
       "proxy    0.000000\n",
       "greeted  0.000000\n",
       "\n",
       "[12373 rows x 1 columns]"
      ]
     },
     "execution_count": 61,
     "metadata": {},
     "output_type": "execute_result"
    }
   ],
   "source": [
    "pd.DataFrame(et_gs.best_estimator_.feature_importances_, index=X_train_cvec.columns).sort_values(by=0, ascending=False)"
   ]
  },
  {
   "cell_type": "markdown",
   "id": "f8bad457-6bde-44d6-a88c-8b2b310eaeb1",
   "metadata": {},
   "source": [
    "### Ada Boost Classifier"
   ]
  },
  {
   "cell_type": "markdown",
   "id": "323021c8-d15e-46c4-be92-5feef3b069a8",
   "metadata": {},
   "source": [
    "Alias: Tipo"
   ]
  },
  {
   "cell_type": "code",
   "execution_count": 85,
   "id": "94d804b9-63fd-4d8e-8b6f-f5ddc024f226",
   "metadata": {
    "jupyter": {
     "source_hidden": true
    },
    "tags": []
   },
   "outputs": [],
   "source": [
    "abc = AdaBoostClassifier(random_state=14)"
   ]
  },
  {
   "cell_type": "code",
   "execution_count": 86,
   "id": "4953d818-d6dd-4646-855b-b1f5e157c46a",
   "metadata": {
    "collapsed": true,
    "jupyter": {
     "outputs_hidden": true,
     "source_hidden": true
    },
    "tags": []
   },
   "outputs": [
    {
     "name": "stdout",
     "output_type": "stream",
     "text": [
      "\n",
      "        Training Accuracy Score: 0.8136779752288638\n",
      "        Test Accuracy Score: 0.7576736672051696\n",
      "        \n",
      "        --- Performance on unseen data ----\n",
      "        Recall (Sensitivity): 0.28859060402684567\n",
      "        Specificity: 0.9063829787234042\n",
      "        Precision: 0.4942528735632184\n",
      "        \n",
      "        Balance Accuracy: 0.597486791375125\n",
      "        F1 Score: 0.3644067796610169\n",
      "        \n"
     ]
    }
   ],
   "source": [
    "make_model(abc, X_train_cvec, X_test_cvec, y_train_encoded, y_test_encoded)"
   ]
  },
  {
   "cell_type": "markdown",
   "id": "2b306e7e-0e14-4861-91af-dcbf757543ce",
   "metadata": {
    "jupyter": {
     "source_hidden": true
    },
    "tags": []
   },
   "source": [
    "It appears more predictions were made for `r/lifehacks` (higher recall score) but the amount of correct predictions went down (lower precision score). Our F1 score is only second to the Kronk model."
   ]
  },
  {
   "cell_type": "code",
   "execution_count": 44,
   "id": "22659c17-8d43-4110-9802-3d8b7f369e27",
   "metadata": {},
   "outputs": [
    {
     "data": {
      "text/plain": [
       "GridSearchCV(estimator=AdaBoostClassifier(random_state=14), n_jobs=-1,\n",
       "             param_grid={'n_estimators': [100, 150, 200, 250]})"
      ]
     },
     "execution_count": 44,
     "metadata": {},
     "output_type": "execute_result"
    }
   ],
   "source": [
    "abc_gs = GridSearchCV(\n",
    "    AdaBoostClassifier(random_state=14),\n",
    "    param_grid={\n",
    "        'n_estimators': [50, 100, 150, 200, 250]\n",
    "    },\n",
    "    n_jobs=-1\n",
    ")\n",
    "abc_gs"
   ]
  },
  {
   "cell_type": "code",
   "execution_count": 45,
   "id": "984859c2-a943-4dac-a8cc-dc8f59c60a0a",
   "metadata": {},
   "outputs": [
    {
     "name": "stdout",
     "output_type": "stream",
     "text": [
      "\n",
      "        Training Accuracy Score: 0.8933764135702746\n",
      "        Test Accuracy Score: 0.7447495961227787\n",
      "        \n",
      "        --- Performance on unseen data ----\n",
      "        Recall (Sensitivity): 0.30201342281879195\n",
      "        Specificity: 0.8851063829787233\n",
      "        Precision: 0.45454545454545453\n",
      "        \n",
      "        Balance Accuracy: 0.5935599028987577\n",
      "        F1 Score: 0.3629032258064516\n",
      "        \n"
     ]
    }
   ],
   "source": [
    "make_model(abc_gs, X_train_cvec, X_test_cvec, y_train_encoded, y_test_encoded)"
   ]
  },
  {
   "cell_type": "code",
   "execution_count": 46,
   "id": "bc75cb23-6ee5-42ba-90e9-9b97aa26612d",
   "metadata": {},
   "outputs": [
    {
     "data": {
      "text/plain": [
       "{'n_estimators': 150}"
      ]
     },
     "execution_count": 46,
     "metadata": {},
     "output_type": "execute_result"
    }
   ],
   "source": [
    "abc_gs.best_params_"
   ]
  },
  {
   "cell_type": "code",
   "execution_count": 62,
   "id": "e83371ad-e971-4304-9975-e14c8cf44ee4",
   "metadata": {},
   "outputs": [
    {
     "data": {
      "text/html": [
       "<div>\n",
       "<style scoped>\n",
       "    .dataframe tbody tr th:only-of-type {\n",
       "        vertical-align: middle;\n",
       "    }\n",
       "\n",
       "    .dataframe tbody tr th {\n",
       "        vertical-align: top;\n",
       "    }\n",
       "\n",
       "    .dataframe thead th {\n",
       "        text-align: right;\n",
       "    }\n",
       "</style>\n",
       "<table border=\"1\" class=\"dataframe\">\n",
       "  <thead>\n",
       "    <tr style=\"text-align: right;\">\n",
       "      <th></th>\n",
       "      <th>0</th>\n",
       "    </tr>\n",
       "  </thead>\n",
       "  <tbody>\n",
       "    <tr>\n",
       "      <th>at</th>\n",
       "      <td>0.020000</td>\n",
       "    </tr>\n",
       "    <tr>\n",
       "      <th>often</th>\n",
       "      <td>0.013333</td>\n",
       "    </tr>\n",
       "    <tr>\n",
       "      <th>tips</th>\n",
       "      <td>0.013333</td>\n",
       "    </tr>\n",
       "    <tr>\n",
       "      <th>time</th>\n",
       "      <td>0.013333</td>\n",
       "    </tr>\n",
       "    <tr>\n",
       "      <th>be</th>\n",
       "      <td>0.013333</td>\n",
       "    </tr>\n",
       "    <tr>\n",
       "      <th>...</th>\n",
       "      <td>...</td>\n",
       "    </tr>\n",
       "    <tr>\n",
       "      <th>eyeball</th>\n",
       "      <td>0.000000</td>\n",
       "    </tr>\n",
       "    <tr>\n",
       "      <th>eyebrow</th>\n",
       "      <td>0.000000</td>\n",
       "    </tr>\n",
       "    <tr>\n",
       "      <th>eyeglasses</th>\n",
       "      <td>0.000000</td>\n",
       "    </tr>\n",
       "    <tr>\n",
       "      <th>eyeing</th>\n",
       "      <td>0.000000</td>\n",
       "    </tr>\n",
       "    <tr>\n",
       "      <th>餘生</th>\n",
       "      <td>0.000000</td>\n",
       "    </tr>\n",
       "  </tbody>\n",
       "</table>\n",
       "<p>12373 rows × 1 columns</p>\n",
       "</div>"
      ],
      "text/plain": [
       "                   0\n",
       "at          0.020000\n",
       "often       0.013333\n",
       "tips        0.013333\n",
       "time        0.013333\n",
       "be          0.013333\n",
       "...              ...\n",
       "eyeball     0.000000\n",
       "eyebrow     0.000000\n",
       "eyeglasses  0.000000\n",
       "eyeing      0.000000\n",
       "餘生          0.000000\n",
       "\n",
       "[12373 rows x 1 columns]"
      ]
     },
     "execution_count": 62,
     "metadata": {},
     "output_type": "execute_result"
    }
   ],
   "source": [
    "pd.DataFrame(abc_gs.best_estimator_.feature_importances_, index=X_train_cvec.columns).sort_values(by=0, ascending=False)"
   ]
  },
  {
   "cell_type": "code",
   "execution_count": 357,
   "id": "7302d13e-63e5-4c95-b9fa-80d8127d7e4d",
   "metadata": {
    "collapsed": true,
    "jupyter": {
     "outputs_hidden": true,
     "source_hidden": true
    },
    "tags": []
   },
   "outputs": [
    {
     "name": "stdout",
     "output_type": "stream",
     "text": [
      "\n",
      "        Training Accuracy Score: 0.8551427032848681\n",
      "        Test Accuracy Score: 0.7560581583198708\n",
      "        \n",
      "        --- Performance on unseen data ----\n",
      "        Recall (Sensitivity): 0.28859060402684567\n",
      "        Specificity: 0.9042553191489362\n",
      "        Precision: 0.48863636363636365\n",
      "        \n",
      "        Balance Accuracy: 0.5964229615878909\n",
      "        F1 Score: 0.3628691983122363\n",
      "        \n"
     ]
    }
   ],
   "source": [
    "make_model(abc_gs, X_train_lt2, X_test_lt2, y_train_encoded, y_test_encoded)"
   ]
  },
  {
   "cell_type": "markdown",
   "id": "21b9d83f-d37d-4636-9f5e-ed4dbc64e8af",
   "metadata": {},
   "source": [
    "-----"
   ]
  },
  {
   "cell_type": "markdown",
   "id": "1b797887-4ab9-4ea6-88da-18c57a43acb4",
   "metadata": {},
   "source": [
    "Now that we have found the best estimators in our gridsearches, let's ensemble all our models for the best possible classifications."
   ]
  },
  {
   "cell_type": "code",
   "execution_count": 238,
   "id": "84ade87d-bec7-4542-861d-2a1de705a4b2",
   "metadata": {},
   "outputs": [
    {
     "data": {
      "text/plain": [
       "VotingClassifier(estimators=[('lr_vr',\n",
       "                              LogisticRegression(C=1, max_iter=1000,\n",
       "                                                 random_state=14)),\n",
       "                             ('knn_vr',\n",
       "                              KNeighborsClassifier(n_jobs=-1, n_neighbors=30)),\n",
       "                             ('bc_vr',\n",
       "                              BaggingClassifier(n_estimators=50, n_jobs=-1,\n",
       "                                                random_state=14)),\n",
       "                             ('rf_vr',\n",
       "                              RandomForestClassifier(n_jobs=-1,\n",
       "                                                     random_state=14)),\n",
       "                             ('et_vr',\n",
       "                              ExtraTreesClassifier(n_jobs=-1, random_state=14)),\n",
       "                             ('abc_vr',\n",
       "                              AdaBoostClassifier(n_estimators=150,\n",
       "                                                 random_state=14))],\n",
       "                 n_jobs=-1)"
      ]
     },
     "execution_count": 238,
     "metadata": {},
     "output_type": "execute_result"
    }
   ],
   "source": [
    "vr = VotingClassifier(\n",
    "    [\n",
    "        ('lr_vr', lr_gs.best_estimator_),\n",
    "        ('knn_vr', knn_gs.best_estimator_),\n",
    "        ('bc_vr', bc_gs.best_estimator_),\n",
    "        ('rf_vr', rf_gs.best_estimator_),\n",
    "        ('et_vr', et_gs.best_estimator_),\n",
    "        ('abc_vr', abc_gs.best_estimator_)\n",
    "    ],\n",
    "    n_jobs=-1,\n",
    ")\n",
    "vr"
   ]
  },
  {
   "cell_type": "code",
   "execution_count": 241,
   "id": "9fa2fe96-396d-4225-9951-193ad1ad4b03",
   "metadata": {},
   "outputs": [
    {
     "name": "stdout",
     "output_type": "stream",
     "text": [
      "\n",
      "        Training Accuracy Score: 0.9967689822294022\n",
      "        Test Accuracy Score: 0.777059773828756\n",
      "        \n",
      "        --- Performance on unseen data ----\n",
      "        Recall (Sensitivity): 0.10067114093959731\n",
      "        Specificity: 0.9914893617021276\n",
      "        Precision: 0.7894736842105263\n",
      "        \n",
      "        Balance Accuracy: 0.5460802513208625\n",
      "        F1 Score: 0.17857142857142858\n",
      "        \n"
     ]
    }
   ],
   "source": [
    "make_model(vr, X_train_cvec, X_test_cvec, y_train_encoded, y_test_encoded)"
   ]
  },
  {
   "cell_type": "code",
   "execution_count": 240,
   "id": "a3ba4c35-40fe-4e2e-8417-53355081bd41",
   "metadata": {},
   "outputs": [
    {
     "name": "stdout",
     "output_type": "stream",
     "text": [
      "\n",
      "        Training Accuracy Score: 0.9913839526117394\n",
      "        Test Accuracy Score: 0.7705977382875606\n",
      "        \n",
      "        --- Performance on unseen data ----\n",
      "        Recall (Sensitivity): 0.1342281879194631\n",
      "        Specificity: 0.9723404255319149\n",
      "        Precision: 0.6060606060606061\n",
      "        \n",
      "        Balance Accuracy: 0.553284306725689\n",
      "        F1 Score: 0.21978021978021978\n",
      "        \n"
     ]
    }
   ],
   "source": [
    "make_model(vr, X_train_cvec2, X_test_cvec2, y_train_encoded, y_test_encoded)"
   ]
  },
  {
   "cell_type": "code",
   "execution_count": 242,
   "id": "e929d0c0-a920-45ca-aa3a-023657695b38",
   "metadata": {},
   "outputs": [
    {
     "name": "stdout",
     "output_type": "stream",
     "text": [
      "\n",
      "        Training Accuracy Score: 0.9924609585352719\n",
      "        Test Accuracy Score: 0.7705977382875606\n",
      "        \n",
      "        --- Performance on unseen data ----\n",
      "        Recall (Sensitivity): 0.06040268456375839\n",
      "        Specificity: 0.9957446808510638\n",
      "        Precision: 0.8181818181818182\n",
      "        \n",
      "        Balance Accuracy: 0.5280736827074111\n",
      "        F1 Score: 0.1125\n",
      "        \n"
     ]
    }
   ],
   "source": [
    "make_model(vr, X_train_cvec3, X_test_cvec3, y_train_encoded, y_test_encoded)"
   ]
  },
  {
   "cell_type": "code",
   "execution_count": 243,
   "id": "3b86602e-5fb1-46da-b119-2d98d089c1d5",
   "metadata": {},
   "outputs": [
    {
     "name": "stdout",
     "output_type": "stream",
     "text": [
      "\n",
      "        Training Accuracy Score: 0.9859989229940764\n",
      "        Test Accuracy Score: 0.7705977382875606\n",
      "        \n",
      "        --- Performance on unseen data ----\n",
      "        Recall (Sensitivity): 0.18120805369127516\n",
      "        Specificity: 0.9574468085106383\n",
      "        Precision: 0.574468085106383\n",
      "        \n",
      "        Balance Accuracy: 0.5693274311009567\n",
      "        F1 Score: 0.2755102040816327\n",
      "        \n"
     ]
    }
   ],
   "source": [
    "make_model(vr, X_train_cvec4, X_test_cvec4, y_train_encoded, y_test_encoded)"
   ]
  },
  {
   "cell_type": "markdown",
   "id": "c151e445-f1a4-4332-a23c-3e8980f69b08",
   "metadata": {},
   "source": [
    "-----"
   ]
  },
  {
   "cell_type": "code",
   "execution_count": 514,
   "id": "5619c617-2643-434d-af25-cae1149f1626",
   "metadata": {},
   "outputs": [
    {
     "data": {
      "text/plain": [
       "VotingClassifier(estimators=[('lr2_vr',\n",
       "                              LogisticRegression(C=1, class_weight='balanced',\n",
       "                                                 max_iter=1000,\n",
       "                                                 random_state=14)),\n",
       "                             ('rf_vr',\n",
       "                              RandomForestClassifier(n_jobs=-1,\n",
       "                                                     random_state=14)),\n",
       "                             ('abc_vr',\n",
       "                              AdaBoostClassifier(n_estimators=100,\n",
       "                                                 random_state=14))],\n",
       "                 n_jobs=-1)"
      ]
     },
     "execution_count": 514,
     "metadata": {},
     "output_type": "execute_result"
    }
   ],
   "source": [
    "vr2 = VotingClassifier(\n",
    "    [\n",
    "        ('lr2_vr', lr_gs2.best_estimator_),\n",
    "        ('rf_vr', rf_gs.best_estimator_),\n",
    "        ('abc_vr', abc_gs.best_estimator_)\n",
    "    ],\n",
    "    n_jobs=-1\n",
    ")\n",
    "vr2"
   ]
  },
  {
   "cell_type": "code",
   "execution_count": 260,
   "id": "6a529c7d-b9e2-4849-bae6-940b6fed2979",
   "metadata": {},
   "outputs": [
    {
     "name": "stdout",
     "output_type": "stream",
     "text": [
      "\n",
      "        Training Accuracy Score: 0.9477652127086699\n",
      "        Test Accuracy Score: 0.7722132471728594\n",
      "        \n",
      "        --- Performance on unseen data ----\n",
      "        Recall (Sensitivity): 0.087248322147651\n",
      "        Specificity: 0.9893617021276596\n",
      "        Precision: 0.7222222222222222\n",
      "        \n",
      "        Balance Accuracy: 0.5383050121376554\n",
      "        F1 Score: 0.15568862275449102\n",
      "        \n"
     ]
    }
   ],
   "source": [
    "make_model(vr, X_train_tf, X_test_tf, y_train_encoded, y_test_encoded)"
   ]
  },
  {
   "cell_type": "code",
   "execution_count": 268,
   "id": "eade27f7-9cd4-4eab-be8b-0e668b375a7f",
   "metadata": {},
   "outputs": [
    {
     "name": "stdout",
     "output_type": "stream",
     "text": [
      "\n",
      "        Training Accuracy Score: 0.946149703823371\n",
      "        Test Accuracy Score: 0.7689822294022617\n",
      "        \n",
      "        --- Performance on unseen data ----\n",
      "        Recall (Sensitivity): 0.087248322147651\n",
      "        Specificity: 0.9851063829787234\n",
      "        Precision: 0.65\n",
      "        \n",
      "        Balance Accuracy: 0.5361773525631872\n",
      "        F1 Score: 0.15384615384615385\n",
      "        \n"
     ]
    }
   ],
   "source": [
    "make_model(vr, X_train_tf2, X_test_tf2, y_train_encoded, y_test_encoded)"
   ]
  },
  {
   "cell_type": "code",
   "execution_count": 274,
   "id": "5f2ca347-7381-46d2-b426-fba83bb607eb",
   "metadata": {},
   "outputs": [
    {
     "name": "stdout",
     "output_type": "stream",
     "text": [
      "\n",
      "        Training Accuracy Score: 0.9407646742057081\n",
      "        Test Accuracy Score: 0.7705977382875606\n",
      "        \n",
      "        --- Performance on unseen data ----\n",
      "        Recall (Sensitivity): 0.12751677852348994\n",
      "        Specificity: 0.9744680851063829\n",
      "        Precision: 0.6129032258064516\n",
      "        \n",
      "        Balance Accuracy: 0.5509924318149364\n",
      "        F1 Score: 0.21111111111111114\n",
      "        \n"
     ]
    }
   ],
   "source": [
    "make_model(vr, X_train_tf3, X_test_tf3, y_train_encoded, y_test_encoded)"
   ]
  },
  {
   "cell_type": "code",
   "execution_count": 286,
   "id": "e980605b-f272-4a56-8fdc-b778b12d9d78",
   "metadata": {},
   "outputs": [
    {
     "name": "stdout",
     "output_type": "stream",
     "text": [
      "\n",
      "        Training Accuracy Score: 0.929456112008616\n",
      "        Test Accuracy Score: 0.7689822294022617\n",
      "        \n",
      "        --- Performance on unseen data ----\n",
      "        Recall (Sensitivity): 0.14093959731543623\n",
      "        Specificity: 0.9680851063829787\n",
      "        Precision: 0.5833333333333334\n",
      "        \n",
      "        Balance Accuracy: 0.5545123518492074\n",
      "        F1 Score: 0.22702702702702704\n",
      "        \n"
     ]
    }
   ],
   "source": [
    "make_model(vr, X_train_tf4, X_test_tf4, y_train_encoded, y_test_encoded)"
   ]
  },
  {
   "cell_type": "code",
   "execution_count": 302,
   "id": "d056a430-7a3c-4538-9f74-44474b256bb8",
   "metadata": {},
   "outputs": [
    {
     "name": "stdout",
     "output_type": "stream",
     "text": [
      "\n",
      "        Training Accuracy Score: 0.9116855142703285\n",
      "        Test Accuracy Score: 0.7560581583198708\n",
      "        \n",
      "        --- Performance on unseen data ----\n",
      "        Recall (Sensitivity): 0.06711409395973154\n",
      "        Specificity: 0.9744680851063829\n",
      "        Precision: 0.45454545454545453\n",
      "        \n",
      "        Balance Accuracy: 0.5207910895330572\n",
      "        F1 Score: 0.11695906432748539\n",
      "        \n"
     ]
    }
   ],
   "source": [
    "make_model(vr, X_train_tf5, X_test_tf5, y_train_encoded, y_test_encoded)"
   ]
  },
  {
   "cell_type": "markdown",
   "id": "2d1bd2ae-94a8-43d5-89f3-30536f71483d",
   "metadata": {},
   "source": [
    "-----"
   ]
  },
  {
   "cell_type": "code",
   "execution_count": 355,
   "id": "6e19fcef-204d-4784-af71-ae8c4acfbff7",
   "metadata": {},
   "outputs": [
    {
     "name": "stdout",
     "output_type": "stream",
     "text": [
      "\n",
      "        Training Accuracy Score: 0.996230479267636\n",
      "        Test Accuracy Score: 0.7657512116316639\n",
      "        \n",
      "        --- Performance on unseen data ----\n",
      "        Recall (Sensitivity): 0.053691275167785234\n",
      "        Specificity: 0.9914893617021276\n",
      "        Precision: 0.6666666666666666\n",
      "        \n",
      "        Balance Accuracy: 0.5225903184349564\n",
      "        F1 Score: 0.09937888198757763\n",
      "        \n"
     ]
    }
   ],
   "source": [
    "make_model(vr, X_train_lt, X_test_lt, y_train_encoded, y_test_encoded)"
   ]
  },
  {
   "cell_type": "code",
   "execution_count": 369,
   "id": "563cd7fc-15f9-4877-be18-3325008db1dc",
   "metadata": {
    "collapsed": true,
    "jupyter": {
     "outputs_hidden": true,
     "source_hidden": true
    },
    "tags": []
   },
   "outputs": [
    {
     "name": "stdout",
     "output_type": "stream",
     "text": [
      "\n",
      "        Training Accuracy Score: 0.96661281637049\n",
      "        Test Accuracy Score: 0.778675282714055\n",
      "        \n",
      "        --- Performance on unseen data ----\n",
      "        Recall (Sensitivity): 0.2348993288590604\n",
      "        Specificity: 0.951063829787234\n",
      "        Precision: 0.603448275862069\n",
      "        \n",
      "        Balance Accuracy: 0.5929815793231472\n",
      "        F1 Score: 0.33816425120772947\n",
      "        \n"
     ]
    }
   ],
   "source": [
    "make_model(vr, X_train_lt2, X_test_lt2, y_train_encoded, y_test_encoded)"
   ]
  },
  {
   "cell_type": "code",
   "execution_count": 363,
   "id": "5d5949a6-c34f-4481-bf05-d82c0f77883a",
   "metadata": {
    "collapsed": true,
    "jupyter": {
     "outputs_hidden": true,
     "source_hidden": true
    },
    "tags": []
   },
   "outputs": [
    {
     "name": "stdout",
     "output_type": "stream",
     "text": [
      "\n",
      "        Training Accuracy Score: 0.9644588045234249\n",
      "        Test Accuracy Score: 0.7625201938610663\n",
      "        \n",
      "        --- Performance on unseen data ----\n",
      "        Recall (Sensitivity): 0.24161073825503357\n",
      "        Specificity: 0.9276595744680851\n",
      "        Precision: 0.5142857142857142\n",
      "        \n",
      "        Balance Accuracy: 0.5846351563615594\n",
      "        F1 Score: 0.3287671232876712\n",
      "        \n"
     ]
    }
   ],
   "source": [
    "make_model(vr, X_train_lt2, X_test_lt2, y_train_encoded, y_test_encoded)"
   ]
  },
  {
   "cell_type": "code",
   "execution_count": 464,
   "id": "9e416422-2cda-4c2b-9a4f-504882bf7a63",
   "metadata": {
    "collapsed": true,
    "jupyter": {
     "outputs_hidden": true,
     "source_hidden": true
    },
    "tags": []
   },
   "outputs": [
    {
     "name": "stdout",
     "output_type": "stream",
     "text": [
      "\n",
      "        Training Accuracy Score: 0.975767366720517\n",
      "        Test Accuracy Score: 0.7657512116316639\n",
      "        \n",
      "        --- Performance on unseen data ----\n",
      "        Recall (Sensitivity): 0.1610738255033557\n",
      "        Specificity: 0.9574468085106383\n",
      "        Precision: 0.5454545454545454\n",
      "        \n",
      "        Balance Accuracy: 0.559260317006997\n",
      "        F1 Score: 0.24870466321243523\n",
      "        \n"
     ]
    }
   ],
   "source": [
    "make_model(vr, X_train_lt3, X_test_lt3, y_train_encoded, y_test_encoded)"
   ]
  },
  {
   "cell_type": "code",
   "execution_count": 515,
   "id": "f383f06b-3f7e-4469-94b5-7cfb5bd0aaa9",
   "metadata": {},
   "outputs": [
    {
     "name": "stdout",
     "output_type": "stream",
     "text": [
      "\n",
      "        Training Accuracy Score: 0.9940764674205708\n",
      "        Test Accuracy Score: 0.7641357027463651\n",
      "        \n",
      "        --- Performance on unseen data ----\n",
      "        Recall (Sensitivity): 0.3087248322147651\n",
      "        Specificity: 0.9085106382978724\n",
      "        Precision: 0.5168539325842697\n",
      "        \n",
      "        Balance Accuracy: 0.6086177352563187\n",
      "        F1 Score: 0.3865546218487395\n",
      "        \n"
     ]
    }
   ],
   "source": [
    "make_model(vr2, X_train_lt2, X_test_lt2, y_train_encoded, y_test_encoded)"
   ]
  },
  {
   "cell_type": "code",
   "execution_count": 622,
   "id": "2373c849-b5b3-4507-aa24-d9dc7afba1c8",
   "metadata": {},
   "outputs": [],
   "source": [
    "# saving train test splits for next notebook\n",
    "stored_data['best_model'] = best_model"
   ]
  },
  {
   "cell_type": "code",
   "execution_count": 623,
   "id": "a5026219-46f0-4da5-bcab-f0199b8144bf",
   "metadata": {},
   "outputs": [
    {
     "name": "stdout",
     "output_type": "stream",
     "text": [
      "Stored 'stored_data' (dict)\n"
     ]
    }
   ],
   "source": [
    "%store stored_data\n",
    "#del stored_data"
   ]
  },
  {
   "cell_type": "code",
   "execution_count": null,
   "id": "76cd380d-e5c9-425a-be71-0bf031021c4c",
   "metadata": {},
   "outputs": [],
   "source": []
  }
 ],
 "metadata": {
  "kernelspec": {
   "display_name": "Python 3 (ipykernel)",
   "language": "python",
   "name": "python3"
  },
  "language_info": {
   "codemirror_mode": {
    "name": "ipython",
    "version": 3
   },
   "file_extension": ".py",
   "mimetype": "text/x-python",
   "name": "python",
   "nbconvert_exporter": "python",
   "pygments_lexer": "ipython3",
   "version": "3.9.7"
  }
 },
 "nbformat": 4,
 "nbformat_minor": 5
}
