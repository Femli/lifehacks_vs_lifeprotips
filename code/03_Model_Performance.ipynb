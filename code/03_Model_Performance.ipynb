{
 "cells": [
  {
   "cell_type": "markdown",
   "id": "e183cf95-f1e2-4f2c-ab4c-a892cc6dceae",
   "metadata": {},
   "source": [
    "# Models and Performance"
   ]
  },
  {
   "cell_type": "markdown",
   "id": "5e32cb6f-596e-4b39-8966-753d202a4ac8",
   "metadata": {},
   "source": [
    "This notebook is dedicated to iterating various models on the engineering features, with the goals of finding the best predictive model.\n",
    "\n",
    "Note that we will exahustively run models without much analysis. Our insights will be in the next notebook for the best performing model."
   ]
  },
  {
   "cell_type": "markdown",
   "id": "7aa52892-c9ff-4c24-a225-418933e79930",
   "metadata": {},
   "source": [
    "## Library Imports"
   ]
  },
  {
   "cell_type": "code",
   "execution_count": 602,
   "id": "2ed60d12-3bf6-43f4-8c2a-d430f186a99a",
   "metadata": {},
   "outputs": [],
   "source": [
    "import pandas as pd\n",
    "import numpy as np\n",
    "import matplotlib.pyplot as plt\n",
    "import seaborn as sns\n",
    "import warnings\n",
    "\n",
    "## workflow\n",
    "from sklearn.model_selection import GridSearchCV\n",
    "\n",
    "## models\n",
    "from sklearn.dummy import DummyClassifier\n",
    "from sklearn.linear_model import LogisticRegression\n",
    "from sklearn.neighbors import KNeighborsClassifier\n",
    "from sklearn.ensemble import BaggingClassifier, RandomForestClassifier, ExtraTreesClassifier, AdaBoostClassifier, VotingClassifier\n",
    "\n",
    "## metrics\n",
    "from sklearn.metrics import (accuracy_score, balanced_accuracy_score, recall_score, precision_score, f1_score, confusion_matrix, \n",
    "                            ConfusionMatrixDisplay, plot_roc_curve, roc_auc_score, classification_report, RocCurveDisplay)"
   ]
  },
  {
   "cell_type": "code",
   "execution_count": 2,
   "id": "c80b62c4-6aa4-4213-8294-74fd555fb442",
   "metadata": {},
   "outputs": [],
   "source": [
    "%run 00_Workflow_Functions.ipynb import na_only, make_model"
   ]
  },
  {
   "cell_type": "code",
   "execution_count": 608,
   "id": "1a66c32a-5635-4c35-abfd-9725514a4fcf",
   "metadata": {},
   "outputs": [],
   "source": [
    "# recovering train and test data\n",
    "%store -r stored_data"
   ]
  },
  {
   "cell_type": "raw",
   "id": "a946a3b1-fbc8-4a7c-b444-568d6eae121e",
   "metadata": {},
   "source": [
    "# recovering data\n",
    "X_train_cvec = stored_data['X_train_cvec']\n",
    "X_test_cvec = stored_data['X_test_cvec']\n",
    "X_train_cvec2 = stored_data['X_train_cvec2']\n",
    "X_test_cvec2 = stored_data['X_test_cvec2']\n",
    "X_train_cvec3 = stored_data['X_train_cvec3']\n",
    "X_test_cvec3 = stored_data['X_test_cvec3']\n",
    "X_train_cvec4 = stored_data['X_train_cvec4']\n",
    "X_test_cvec4 = stored_data['X_test_cvec4']\n",
    "\n",
    "X_train_tf = stored_data['X_train_tf']\n",
    "X_test_tf = stored_data['X_test_tf']\n",
    "X_train_tf2 = stored_data['X_train_tf2']\n",
    "X_test_tf2 = stored_data['X_test_tf2']\n",
    "X_train_tf3 = stored_data['X_train_tf3']\n",
    "X_test_tf3 = stored_data['X_test_tf3']\n",
    "X_train_tf4 = stored_data['X_train_tf4']\n",
    "X_test_tf4 = stored_data['X_test_tf4']\n",
    "X_train_tf5 = stored_data['X_train_tf5']\n",
    "X_test_tf5 = stored_data['X_test_tf5']\n",
    "\n",
    "X_train_lt = stored_data['X_train_lt']\n",
    "X_test_lt = stored_data['X_test_lt']\n",
    "X_train_lt2 = stored_data['X_train_lt2']\n",
    "X_test_lt2 = stored_data['X_test_lt2']\n",
    "X_train_lt4 = stored_data['X_train_lt4']\n",
    "X_test_lt4 = stored_data['X_test_lt4']\n",
    "\n",
    "stored_data['y_train_encoded'] = y_train_encoded\n",
    "stored_data['y_test_encoded'] = y_test_encoded"
   ]
  },
  {
   "cell_type": "markdown",
   "id": "40b80a46-efee-4f9e-bc9d-504347ff8906",
   "metadata": {},
   "source": [
    "## Logistic Regression"
   ]
  },
  {
   "cell_type": "code",
   "execution_count": 587,
   "id": "d2fa43d6-1257-4ec3-9566-e72036ad673c",
   "metadata": {},
   "outputs": [
    {
     "data": {
      "text/plain": [
       "GridSearchCV(estimator=LogisticRegression(max_iter=1000, random_state=14),\n",
       "             n_jobs=-1,\n",
       "             param_grid={'C': [1, 5, 10], 'class_weight': [None, 'balanced']},\n",
       "             scoring='f1')"
      ]
     },
     "execution_count": 587,
     "metadata": {},
     "output_type": "execute_result"
    }
   ],
   "source": [
    "lr_gs2 = GridSearchCV(\n",
    "    LogisticRegression(max_iter=1_000, random_state=14),\n",
    "    param_grid={\n",
    "        'C': [1, 5, 10],\n",
    "        'class_weight': [None, 'balanced']\n",
    "    },\n",
    "    scoring='f1', #'f1',\n",
    "    n_jobs=-1\n",
    ")\n",
    "lr_gs2"
   ]
  },
  {
   "cell_type": "code",
   "execution_count": 600,
   "id": "726138e7-8a5a-47c4-8a13-cc67d62e3fb4",
   "metadata": {},
   "outputs": [
    {
     "name": "stdout",
     "output_type": "stream",
     "text": [
      "\n",
      "        Training Accuracy Score: 0.9966629588431591\n",
      "        Test Accuracy Score: 0.43506493506493504\n",
      "        \n",
      "        --- Performance on unseen data ----\n",
      "        Recall (Sensitivity): 0.44966442953020136\n",
      "        Specificity: 0.8042553191489362\n",
      "        Precision: 0.42138364779874216\n",
      "        \n",
      "        Balance Accuracy: 0.6269598743395688\n",
      "        F1 Score: 0.43506493506493504\n",
      "        \n"
     ]
    }
   ],
   "source": [
    "make_model(lr_gs2, X_train_cvec, X_test_cvec, y_train_encoded, y_test_encoded)"
   ]
  },
  {
   "cell_type": "code",
   "execution_count": 589,
   "id": "34c678f6-df87-480a-b4cc-59bb9bdcbf23",
   "metadata": {
    "tags": []
   },
   "outputs": [
    {
     "name": "stdout",
     "output_type": "stream",
     "text": [
      "\n",
      "        Training Accuracy Score: 0.9977728285077951\n",
      "        Test Accuracy Score: 0.4135593220338983\n",
      "        \n",
      "        --- Performance on unseen data ----\n",
      "        Recall (Sensitivity): 0.40939597315436244\n",
      "        Specificity: 0.8191489361702128\n",
      "        Precision: 0.4178082191780822\n",
      "        \n",
      "        Balance Accuracy: 0.6142724546622876\n",
      "        F1 Score: 0.4135593220338983\n",
      "        \n"
     ]
    }
   ],
   "source": [
    "make_model(lr_gs2, X_train_cvec2, X_test_cvec2, y_train_encoded, y_test_encoded)"
   ]
  },
  {
   "cell_type": "code",
   "execution_count": 590,
   "id": "f1cdfbaf-7ac0-4d8c-af31-2b136fc65764",
   "metadata": {
    "tags": []
   },
   "outputs": [
    {
     "name": "stdout",
     "output_type": "stream",
     "text": [
      "\n",
      "        Training Accuracy Score: 0.9988851727982163\n",
      "        Test Accuracy Score: 0.1724137931034483\n",
      "        \n",
      "        --- Performance on unseen data ----\n",
      "        Recall (Sensitivity): 0.10067114093959731\n",
      "        Specificity: 0.9787234042553191\n",
      "        Precision: 0.6\n",
      "        \n",
      "        Balance Accuracy: 0.5396972725974583\n",
      "        F1 Score: 0.1724137931034483\n",
      "        \n"
     ]
    }
   ],
   "source": [
    "make_model(lr_gs2, X_train_cvec3, X_test_cvec3, y_train_encoded, y_test_encoded)"
   ]
  },
  {
   "cell_type": "code",
   "execution_count": 591,
   "id": "fd90f983-22e3-42b7-9111-a169eeca45f1",
   "metadata": {
    "tags": []
   },
   "outputs": [
    {
     "name": "stdout",
     "output_type": "stream",
     "text": [
      "\n",
      "        Training Accuracy Score: 0.9944506104328523\n",
      "        Test Accuracy Score: 0.4067796610169491\n",
      "        \n",
      "        --- Performance on unseen data ----\n",
      "        Recall (Sensitivity): 0.40268456375838924\n",
      "        Specificity: 0.8170212765957446\n",
      "        Precision: 0.410958904109589\n",
      "        \n",
      "        Balance Accuracy: 0.6098529201770669\n",
      "        F1 Score: 0.4067796610169491\n",
      "        \n"
     ]
    }
   ],
   "source": [
    "make_model(lr_gs2, X_train_cvec4, X_test_cvec4, y_train_encoded, y_test_encoded)"
   ]
  },
  {
   "cell_type": "code",
   "execution_count": 617,
   "id": "2b868b13-8951-4da7-9558-105e078be4d8",
   "metadata": {},
   "outputs": [
    {
     "name": "stdout",
     "output_type": "stream",
     "text": [
      "\n",
      "        Training Accuracy Score: 0.847457627118644\n",
      "        Test Accuracy Score: 0.5285285285285286\n",
      "        \n",
      "        --- Performance on unseen data ----\n",
      "        Recall (Sensitivity): 0.5906040268456376\n",
      "        Specificity: 0.7957446808510639\n",
      "        Precision: 0.4782608695652174\n",
      "        \n",
      "        Balance Accuracy: 0.6931743538483508\n",
      "        F1 Score: 0.5285285285285286\n",
      "        \n"
     ]
    }
   ],
   "source": [
    "make_model(lr_gs2, X_train_tf, X_test_tf, y_train_encoded, y_test_encoded)"
   ]
  },
  {
   "cell_type": "code",
   "execution_count": 621,
   "id": "62ff19c4-ec1b-46ad-a647-633c5ec5f87a",
   "metadata": {},
   "outputs": [],
   "source": [
    "best_model = lr_gs2.best_estimator_"
   ]
  },
  {
   "cell_type": "code",
   "execution_count": 592,
   "id": "714c599c-01b4-4079-8493-cb537bbc1d57",
   "metadata": {
    "tags": []
   },
   "outputs": [
    {
     "name": "stdout",
     "output_type": "stream",
     "text": [
      "\n",
      "        Training Accuracy Score: 0.9026178010471205\n",
      "        Test Accuracy Score: 0.4999999999999999\n",
      "        \n",
      "        --- Performance on unseen data ----\n",
      "        Recall (Sensitivity): 0.5369127516778524\n",
      "        Specificity: 0.8063829787234043\n",
      "        Precision: 0.4678362573099415\n",
      "        \n",
      "        Balance Accuracy: 0.6716478652006284\n",
      "        F1 Score: 0.4999999999999999\n",
      "        \n"
     ]
    }
   ],
   "source": [
    "make_model(lr_gs2, X_train_tf2, X_test_tf2, y_train_encoded, y_test_encoded)"
   ]
  },
  {
   "cell_type": "code",
   "execution_count": 593,
   "id": "442a0f8f-85be-46e4-b6b0-685681fe5247",
   "metadata": {
    "tags": []
   },
   "outputs": [
    {
     "name": "stdout",
     "output_type": "stream",
     "text": [
      "\n",
      "        Training Accuracy Score: 0.897119341563786\n",
      "        Test Accuracy Score: 0.46645367412140576\n",
      "        \n",
      "        --- Performance on unseen data ----\n",
      "        Recall (Sensitivity): 0.4899328859060403\n",
      "        Specificity: 0.8063829787234043\n",
      "        Precision: 0.4451219512195122\n",
      "        \n",
      "        Balance Accuracy: 0.6481579323147223\n",
      "        F1 Score: 0.46645367412140576\n",
      "        \n"
     ]
    }
   ],
   "source": [
    "make_model(lr_gs2, X_train_tf3, X_test_tf3, y_train_encoded, y_test_encoded)"
   ]
  },
  {
   "cell_type": "code",
   "execution_count": 594,
   "id": "28b65a62-bc66-45ed-81d9-f1f44500bb9b",
   "metadata": {
    "tags": []
   },
   "outputs": [
    {
     "name": "stdout",
     "output_type": "stream",
     "text": [
      "\n",
      "        Training Accuracy Score: 0.7276119402985074\n",
      "        Test Accuracy Score: 0.47457627118644063\n",
      "        \n",
      "        --- Performance on unseen data ----\n",
      "        Recall (Sensitivity): 0.5637583892617449\n",
      "        Specificity: 0.7425531914893617\n",
      "        Precision: 0.4097560975609756\n",
      "        \n",
      "        Balance Accuracy: 0.6531557903755534\n",
      "        F1 Score: 0.47457627118644063\n",
      "        \n"
     ]
    }
   ],
   "source": [
    "make_model(lr_gs2, X_train_tf4, X_test_tf4, y_train_encoded, y_test_encoded)"
   ]
  },
  {
   "cell_type": "code",
   "execution_count": 595,
   "id": "96d2238e-9c6c-43fd-a51e-35e009061831",
   "metadata": {
    "tags": []
   },
   "outputs": [
    {
     "name": "stdout",
     "output_type": "stream",
     "text": [
      "\n",
      "        Training Accuracy Score: 0.6975023126734505\n",
      "        Test Accuracy Score: 0.42979942693409745\n",
      "        \n",
      "        --- Performance on unseen data ----\n",
      "        Recall (Sensitivity): 0.5033557046979866\n",
      "        Specificity: 0.7340425531914894\n",
      "        Precision: 0.375\n",
      "        \n",
      "        Balance Accuracy: 0.618699128944738\n",
      "        F1 Score: 0.42979942693409745\n",
      "        \n"
     ]
    }
   ],
   "source": [
    "make_model(lr_gs2, X_train_tf5, X_test_tf5, y_train_encoded, y_test_encoded)"
   ]
  },
  {
   "cell_type": "code",
   "execution_count": 596,
   "id": "8388e911-4370-4272-86db-25235cadab57",
   "metadata": {
    "tags": []
   },
   "outputs": [
    {
     "name": "stdout",
     "output_type": "stream",
     "text": [
      "\n",
      "        Training Accuracy Score: 0.9955555555555555\n",
      "        Test Accuracy Score: 0.47138047138047134\n",
      "        \n",
      "        --- Performance on unseen data ----\n",
      "        Recall (Sensitivity): 0.4697986577181208\n",
      "        Specificity: 0.8340425531914893\n",
      "        Precision: 0.47297297297297297\n",
      "        \n",
      "        Balance Accuracy: 0.651920605454805\n",
      "        F1 Score: 0.47138047138047134\n",
      "        \n"
     ]
    }
   ],
   "source": [
    "make_model(lr_gs2, X_train_lt, X_test_lt, y_train_encoded, y_test_encoded)"
   ]
  },
  {
   "cell_type": "code",
   "execution_count": 528,
   "id": "67de6e93-9fd0-4068-83a7-2750a904ef21",
   "metadata": {},
   "outputs": [
    {
     "name": "stdout",
     "output_type": "stream",
     "text": [
      "\n",
      "        Training Accuracy Score: 0.9888392857142857\n",
      "        Test Accuracy Score: 0.47651006711409394\n",
      "        \n",
      "        --- Performance on unseen data ----\n",
      "        Recall (Sensitivity): 0.47651006711409394\n",
      "        Specificity: 0.7957446808510639\n",
      "        Precision: 0.4251497005988024\n",
      "        \n",
      "        Balance Accuracy: 0.6361273739825789\n",
      "        F1 Score: 0.44936708860759494\n",
      "        \n"
     ]
    }
   ],
   "source": [
    "make_model(lr_gs2, X_train_lt2, X_test_lt2, y_train_encoded, y_test_encoded)"
   ]
  },
  {
   "cell_type": "markdown",
   "id": "4b9a0a54-6596-4f77-a664-cf390438ba29",
   "metadata": {},
   "source": [
    "## K-Nearest-Neighbors"
   ]
  },
  {
   "cell_type": "code",
   "execution_count": 30,
   "id": "38ce3c88-a84a-4906-89f3-a09a7ef0ffc5",
   "metadata": {},
   "outputs": [
    {
     "data": {
      "text/plain": [
       "GridSearchCV(estimator=KNeighborsClassifier(n_jobs=-1), n_jobs=-1,\n",
       "             param_grid={'n_neighbors': [20, 25, 30, 35]})"
      ]
     },
     "execution_count": 30,
     "metadata": {},
     "output_type": "execute_result"
    }
   ],
   "source": [
    "knn_gs = GridSearchCV(\n",
    "    KNeighborsClassifier(n_jobs=-1),\n",
    "    param_grid={\n",
    "        'n_neighbors': [5, 20, 25, 30, 35]\n",
    "    },\n",
    "    n_jobs=-1\n",
    ")\n",
    "knn_gs"
   ]
  },
  {
   "cell_type": "code",
   "execution_count": 31,
   "id": "84ac4505-5866-4402-b9b2-57d1ac2d7968",
   "metadata": {},
   "outputs": [
    {
     "name": "stdout",
     "output_type": "stream",
     "text": [
      "\n",
      "        Training Accuracy Score: 0.7587506731287023\n",
      "        Test Accuracy Score: 0.7576736672051696\n",
      "        \n",
      "        --- Performance on unseen data ----\n",
      "        Recall (Sensitivity): 0.006711409395973154\n",
      "        Specificity: 0.9957446808510638\n",
      "        Precision: 0.3333333333333333\n",
      "        \n",
      "        Balance Accuracy: 0.5012280451235185\n",
      "        F1 Score: 0.013157894736842106\n",
      "        \n"
     ]
    }
   ],
   "source": [
    "make_model(knn_gs, X_train_cvec, X_test_cvec, y_train_encoded, y_test_encoded)"
   ]
  },
  {
   "cell_type": "markdown",
   "id": "79252427-8637-4e76-9d52-16454e878cc6",
   "metadata": {},
   "source": [
    "## Bagging Classifier"
   ]
  },
  {
   "cell_type": "code",
   "execution_count": 34,
   "id": "abd65891-fc5f-43fb-80ac-10f582cea8f5",
   "metadata": {},
   "outputs": [
    {
     "data": {
      "text/plain": [
       "GridSearchCV(estimator=BaggingClassifier(n_jobs=-1, random_state=14), n_jobs=-1,\n",
       "             param_grid={'bootstrap_features': [False, True],\n",
       "                         'n_estimators': [5, 10, 25, 50, 100]})"
      ]
     },
     "execution_count": 34,
     "metadata": {},
     "output_type": "execute_result"
    }
   ],
   "source": [
    "bc_gs = GridSearchCV(\n",
    "    BaggingClassifier(random_state=14, n_jobs=-1),\n",
    "    param_grid={\n",
    "        'n_estimators' : [5, 10, 25, 50, 100],\n",
    "        'bootstrap_features': [False, True]\n",
    "    },\n",
    "    n_jobs=-1\n",
    ")\n",
    "bc_gs"
   ]
  },
  {
   "cell_type": "code",
   "execution_count": 35,
   "id": "308b4692-0e6b-4147-9125-e536ad20550b",
   "metadata": {},
   "outputs": [
    {
     "name": "stdout",
     "output_type": "stream",
     "text": [
      "\n",
      "        Training Accuracy Score: 0.9983844911147012\n",
      "        Test Accuracy Score: 0.7625201938610663\n",
      "        \n",
      "        --- Performance on unseen data ----\n",
      "        Recall (Sensitivity): 0.1610738255033557\n",
      "        Specificity: 0.9531914893617022\n",
      "        Precision: 0.5217391304347826\n",
      "        \n",
      "        Balance Accuracy: 0.5571326574325289\n",
      "        F1 Score: 0.24615384615384617\n",
      "        \n"
     ]
    }
   ],
   "source": [
    "make_model(bc_gs, X_train_cvec, X_test_cvec, y_train_encoded, y_test_encoded)"
   ]
  },
  {
   "cell_type": "markdown",
   "id": "47c67cb6-3462-4fac-b7c3-d14053f0c8d2",
   "metadata": {},
   "source": [
    "### Random Forests"
   ]
  },
  {
   "cell_type": "code",
   "execution_count": 38,
   "id": "08a082bd-9df0-44a1-bd24-4fdd85a7eb79",
   "metadata": {},
   "outputs": [
    {
     "data": {
      "text/plain": [
       "GridSearchCV(estimator=RandomForestClassifier(n_jobs=-1, random_state=14),\n",
       "             n_jobs=-1,\n",
       "             param_grid={'max_depth': [None, 5, 10, 15],\n",
       "                         'min_samples_split': [2, 3, 5],\n",
       "                         'n_estimators': [100, 150, 200]})"
      ]
     },
     "execution_count": 38,
     "metadata": {},
     "output_type": "execute_result"
    }
   ],
   "source": [
    "rf_gs = GridSearchCV(\n",
    "    RandomForestClassifier(random_state=14, n_jobs=-1),\n",
    "    param_grid={\n",
    "        'n_estimators': [100, 150, 200],\n",
    "        'max_depth': [None, 5, 10, 15],\n",
    "        'min_samples_split': [2, 3, 5]\n",
    "    },\n",
    "    n_jobs=-1\n",
    ")\n",
    "rf_gs"
   ]
  },
  {
   "cell_type": "code",
   "execution_count": 39,
   "id": "597b4f88-188e-4983-b533-07b37ffeea89",
   "metadata": {},
   "outputs": [
    {
     "name": "stdout",
     "output_type": "stream",
     "text": [
      "\n",
      "        Training Accuracy Score: 1.0\n",
      "        Test Accuracy Score: 0.7705977382875606\n",
      "        \n",
      "        --- Performance on unseen data ----\n",
      "        Recall (Sensitivity): 0.06711409395973154\n",
      "        Specificity: 0.9936170212765958\n",
      "        Precision: 0.7692307692307693\n",
      "        \n",
      "        Balance Accuracy: 0.5303655576181636\n",
      "        F1 Score: 0.12345679012345678\n",
      "        \n"
     ]
    }
   ],
   "source": [
    "make_model(rf_gs, X_train_cvec, X_test_cvec, y_train_encoded, y_test_encoded)"
   ]
  },
  {
   "cell_type": "markdown",
   "id": "27f560e0-6efd-4b46-b53f-97e01f2f2bdb",
   "metadata": {},
   "source": [
    "### Extra Trees"
   ]
  },
  {
   "cell_type": "code",
   "execution_count": 41,
   "id": "7c17de48-62f2-47d4-be75-effb6f66ac4a",
   "metadata": {},
   "outputs": [
    {
     "data": {
      "text/plain": [
       "GridSearchCV(estimator=ExtraTreesClassifier(n_jobs=-1, random_state=14),\n",
       "             param_grid={'max_depth': [None, 5, 10, 15],\n",
       "                         'min_samples_split': [2, 3, 5],\n",
       "                         'n_estimators': [100, 150, 200]})"
      ]
     },
     "execution_count": 41,
     "metadata": {},
     "output_type": "execute_result"
    }
   ],
   "source": [
    "et_gs = GridSearchCV(\n",
    "    ExtraTreesClassifier(random_state=14, n_jobs=-1),\n",
    "    param_grid={\n",
    "        'n_estimators': [100, 150, 200],\n",
    "        'max_depth': [None, 5, 10, 15],\n",
    "        'min_samples_split': [2, 3, 5]\n",
    "    },\n",
    "    n_jobs=-1\n",
    ")\n",
    "et_gs"
   ]
  },
  {
   "cell_type": "code",
   "execution_count": 42,
   "id": "61f1a7e7-da78-4ce6-9a9f-2a855523b123",
   "metadata": {},
   "outputs": [
    {
     "name": "stdout",
     "output_type": "stream",
     "text": [
      "\n",
      "        Training Accuracy Score: 1.0\n",
      "        Test Accuracy Score: 0.778675282714055\n",
      "        \n",
      "        --- Performance on unseen data ----\n",
      "        Recall (Sensitivity): 0.12080536912751678\n",
      "        Specificity: 0.9872340425531915\n",
      "        Precision: 0.75\n",
      "        \n",
      "        Balance Accuracy: 0.5540197058403541\n",
      "        F1 Score: 0.20809248554913296\n",
      "        \n"
     ]
    }
   ],
   "source": [
    "make_model(et_gs, X_train_cvec, X_test_cvec, y_train_encoded, y_test_encoded)"
   ]
  },
  {
   "cell_type": "markdown",
   "id": "f8bad457-6bde-44d6-a88c-8b2b310eaeb1",
   "metadata": {},
   "source": [
    "### Ada Boost Classifier"
   ]
  },
  {
   "cell_type": "code",
   "execution_count": 44,
   "id": "22659c17-8d43-4110-9802-3d8b7f369e27",
   "metadata": {},
   "outputs": [
    {
     "data": {
      "text/plain": [
       "GridSearchCV(estimator=AdaBoostClassifier(random_state=14), n_jobs=-1,\n",
       "             param_grid={'n_estimators': [100, 150, 200, 250]})"
      ]
     },
     "execution_count": 44,
     "metadata": {},
     "output_type": "execute_result"
    }
   ],
   "source": [
    "abc_gs = GridSearchCV(\n",
    "    AdaBoostClassifier(random_state=14),\n",
    "    param_grid={\n",
    "        'n_estimators': [50, 100, 150, 200, 250]\n",
    "    },\n",
    "    n_jobs=-1\n",
    ")\n",
    "abc_gs"
   ]
  },
  {
   "cell_type": "code",
   "execution_count": 45,
   "id": "984859c2-a943-4dac-a8cc-dc8f59c60a0a",
   "metadata": {},
   "outputs": [
    {
     "name": "stdout",
     "output_type": "stream",
     "text": [
      "\n",
      "        Training Accuracy Score: 0.8933764135702746\n",
      "        Test Accuracy Score: 0.7447495961227787\n",
      "        \n",
      "        --- Performance on unseen data ----\n",
      "        Recall (Sensitivity): 0.30201342281879195\n",
      "        Specificity: 0.8851063829787233\n",
      "        Precision: 0.45454545454545453\n",
      "        \n",
      "        Balance Accuracy: 0.5935599028987577\n",
      "        F1 Score: 0.3629032258064516\n",
      "        \n"
     ]
    }
   ],
   "source": [
    "make_model(abc_gs, X_train_cvec, X_test_cvec, y_train_encoded, y_test_encoded)"
   ]
  },
  {
   "cell_type": "markdown",
   "id": "386ae7d1-abbd-42d2-92f1-c8d80544c602",
   "metadata": {},
   "source": [
    "## Ensembles"
   ]
  },
  {
   "cell_type": "markdown",
   "id": "1b797887-4ab9-4ea6-88da-18c57a43acb4",
   "metadata": {},
   "source": [
    "Now that we have found the best estimators in our gridsearches, let's ensemble all our models for the best possible classifications."
   ]
  },
  {
   "cell_type": "code",
   "execution_count": 238,
   "id": "84ade87d-bec7-4542-861d-2a1de705a4b2",
   "metadata": {},
   "outputs": [
    {
     "data": {
      "text/plain": [
       "VotingClassifier(estimators=[('lr_vr',\n",
       "                              LogisticRegression(C=1, max_iter=1000,\n",
       "                                                 random_state=14)),\n",
       "                             ('knn_vr',\n",
       "                              KNeighborsClassifier(n_jobs=-1, n_neighbors=30)),\n",
       "                             ('bc_vr',\n",
       "                              BaggingClassifier(n_estimators=50, n_jobs=-1,\n",
       "                                                random_state=14)),\n",
       "                             ('rf_vr',\n",
       "                              RandomForestClassifier(n_jobs=-1,\n",
       "                                                     random_state=14)),\n",
       "                             ('et_vr',\n",
       "                              ExtraTreesClassifier(n_jobs=-1, random_state=14)),\n",
       "                             ('abc_vr',\n",
       "                              AdaBoostClassifier(n_estimators=150,\n",
       "                                                 random_state=14))],\n",
       "                 n_jobs=-1)"
      ]
     },
     "execution_count": 238,
     "metadata": {},
     "output_type": "execute_result"
    }
   ],
   "source": [
    "vr = VotingClassifier(\n",
    "    [\n",
    "        ('lr_vr', lr_gs.best_estimator_),\n",
    "        ('knn_vr', knn_gs.best_estimator_),\n",
    "        ('bc_vr', bc_gs.best_estimator_),\n",
    "        ('rf_vr', rf_gs.best_estimator_),\n",
    "        ('et_vr', et_gs.best_estimator_),\n",
    "        ('abc_vr', abc_gs.best_estimator_)\n",
    "    ],\n",
    "    n_jobs=-1,\n",
    ")\n",
    "vr"
   ]
  },
  {
   "cell_type": "code",
   "execution_count": 241,
   "id": "9fa2fe96-396d-4225-9951-193ad1ad4b03",
   "metadata": {},
   "outputs": [
    {
     "name": "stdout",
     "output_type": "stream",
     "text": [
      "\n",
      "        Training Accuracy Score: 0.9967689822294022\n",
      "        Test Accuracy Score: 0.777059773828756\n",
      "        \n",
      "        --- Performance on unseen data ----\n",
      "        Recall (Sensitivity): 0.10067114093959731\n",
      "        Specificity: 0.9914893617021276\n",
      "        Precision: 0.7894736842105263\n",
      "        \n",
      "        Balance Accuracy: 0.5460802513208625\n",
      "        F1 Score: 0.17857142857142858\n",
      "        \n"
     ]
    }
   ],
   "source": [
    "make_model(vr, X_train_cvec, X_test_cvec, y_train_encoded, y_test_encoded)"
   ]
  },
  {
   "cell_type": "code",
   "execution_count": 240,
   "id": "a3ba4c35-40fe-4e2e-8417-53355081bd41",
   "metadata": {},
   "outputs": [
    {
     "name": "stdout",
     "output_type": "stream",
     "text": [
      "\n",
      "        Training Accuracy Score: 0.9913839526117394\n",
      "        Test Accuracy Score: 0.7705977382875606\n",
      "        \n",
      "        --- Performance on unseen data ----\n",
      "        Recall (Sensitivity): 0.1342281879194631\n",
      "        Specificity: 0.9723404255319149\n",
      "        Precision: 0.6060606060606061\n",
      "        \n",
      "        Balance Accuracy: 0.553284306725689\n",
      "        F1 Score: 0.21978021978021978\n",
      "        \n"
     ]
    }
   ],
   "source": [
    "make_model(vr, X_train_cvec2, X_test_cvec2, y_train_encoded, y_test_encoded)"
   ]
  },
  {
   "cell_type": "code",
   "execution_count": 242,
   "id": "e929d0c0-a920-45ca-aa3a-023657695b38",
   "metadata": {},
   "outputs": [
    {
     "name": "stdout",
     "output_type": "stream",
     "text": [
      "\n",
      "        Training Accuracy Score: 0.9924609585352719\n",
      "        Test Accuracy Score: 0.7705977382875606\n",
      "        \n",
      "        --- Performance on unseen data ----\n",
      "        Recall (Sensitivity): 0.06040268456375839\n",
      "        Specificity: 0.9957446808510638\n",
      "        Precision: 0.8181818181818182\n",
      "        \n",
      "        Balance Accuracy: 0.5280736827074111\n",
      "        F1 Score: 0.1125\n",
      "        \n"
     ]
    }
   ],
   "source": [
    "make_model(vr, X_train_cvec3, X_test_cvec3, y_train_encoded, y_test_encoded)"
   ]
  },
  {
   "cell_type": "code",
   "execution_count": 243,
   "id": "3b86602e-5fb1-46da-b119-2d98d089c1d5",
   "metadata": {},
   "outputs": [
    {
     "name": "stdout",
     "output_type": "stream",
     "text": [
      "\n",
      "        Training Accuracy Score: 0.9859989229940764\n",
      "        Test Accuracy Score: 0.7705977382875606\n",
      "        \n",
      "        --- Performance on unseen data ----\n",
      "        Recall (Sensitivity): 0.18120805369127516\n",
      "        Specificity: 0.9574468085106383\n",
      "        Precision: 0.574468085106383\n",
      "        \n",
      "        Balance Accuracy: 0.5693274311009567\n",
      "        F1 Score: 0.2755102040816327\n",
      "        \n"
     ]
    }
   ],
   "source": [
    "make_model(vr, X_train_cvec4, X_test_cvec4, y_train_encoded, y_test_encoded)"
   ]
  },
  {
   "cell_type": "markdown",
   "id": "c151e445-f1a4-4332-a23c-3e8980f69b08",
   "metadata": {},
   "source": [
    "Let's narrow down our voting classifier to the highest performing models."
   ]
  },
  {
   "cell_type": "code",
   "execution_count": 514,
   "id": "5619c617-2643-434d-af25-cae1149f1626",
   "metadata": {},
   "outputs": [
    {
     "data": {
      "text/plain": [
       "VotingClassifier(estimators=[('lr2_vr',\n",
       "                              LogisticRegression(C=1, class_weight='balanced',\n",
       "                                                 max_iter=1000,\n",
       "                                                 random_state=14)),\n",
       "                             ('rf_vr',\n",
       "                              RandomForestClassifier(n_jobs=-1,\n",
       "                                                     random_state=14)),\n",
       "                             ('abc_vr',\n",
       "                              AdaBoostClassifier(n_estimators=100,\n",
       "                                                 random_state=14))],\n",
       "                 n_jobs=-1)"
      ]
     },
     "execution_count": 514,
     "metadata": {},
     "output_type": "execute_result"
    }
   ],
   "source": [
    "vr2 = VotingClassifier(\n",
    "    [\n",
    "        ('lr2_vr', lr_gs2.best_estimator_),\n",
    "        ('rf_vr', rf_gs.best_estimator_),\n",
    "        ('abc_vr', abc_gs.best_estimator_)\n",
    "    ],\n",
    "    n_jobs=-1\n",
    ")\n",
    "vr2"
   ]
  },
  {
   "cell_type": "code",
   "execution_count": 260,
   "id": "6a529c7d-b9e2-4849-bae6-940b6fed2979",
   "metadata": {},
   "outputs": [
    {
     "name": "stdout",
     "output_type": "stream",
     "text": [
      "\n",
      "        Training Accuracy Score: 0.9477652127086699\n",
      "        Test Accuracy Score: 0.7722132471728594\n",
      "        \n",
      "        --- Performance on unseen data ----\n",
      "        Recall (Sensitivity): 0.087248322147651\n",
      "        Specificity: 0.9893617021276596\n",
      "        Precision: 0.7222222222222222\n",
      "        \n",
      "        Balance Accuracy: 0.5383050121376554\n",
      "        F1 Score: 0.15568862275449102\n",
      "        \n"
     ]
    }
   ],
   "source": [
    "make_model(vr, X_train_tf, X_test_tf, y_train_encoded, y_test_encoded)"
   ]
  },
  {
   "cell_type": "code",
   "execution_count": 268,
   "id": "eade27f7-9cd4-4eab-be8b-0e668b375a7f",
   "metadata": {},
   "outputs": [
    {
     "name": "stdout",
     "output_type": "stream",
     "text": [
      "\n",
      "        Training Accuracy Score: 0.946149703823371\n",
      "        Test Accuracy Score: 0.7689822294022617\n",
      "        \n",
      "        --- Performance on unseen data ----\n",
      "        Recall (Sensitivity): 0.087248322147651\n",
      "        Specificity: 0.9851063829787234\n",
      "        Precision: 0.65\n",
      "        \n",
      "        Balance Accuracy: 0.5361773525631872\n",
      "        F1 Score: 0.15384615384615385\n",
      "        \n"
     ]
    }
   ],
   "source": [
    "make_model(vr, X_train_tf2, X_test_tf2, y_train_encoded, y_test_encoded)"
   ]
  },
  {
   "cell_type": "code",
   "execution_count": 274,
   "id": "5f2ca347-7381-46d2-b426-fba83bb607eb",
   "metadata": {},
   "outputs": [
    {
     "name": "stdout",
     "output_type": "stream",
     "text": [
      "\n",
      "        Training Accuracy Score: 0.9407646742057081\n",
      "        Test Accuracy Score: 0.7705977382875606\n",
      "        \n",
      "        --- Performance on unseen data ----\n",
      "        Recall (Sensitivity): 0.12751677852348994\n",
      "        Specificity: 0.9744680851063829\n",
      "        Precision: 0.6129032258064516\n",
      "        \n",
      "        Balance Accuracy: 0.5509924318149364\n",
      "        F1 Score: 0.21111111111111114\n",
      "        \n"
     ]
    }
   ],
   "source": [
    "make_model(vr, X_train_tf3, X_test_tf3, y_train_encoded, y_test_encoded)"
   ]
  },
  {
   "cell_type": "code",
   "execution_count": 286,
   "id": "e980605b-f272-4a56-8fdc-b778b12d9d78",
   "metadata": {},
   "outputs": [
    {
     "name": "stdout",
     "output_type": "stream",
     "text": [
      "\n",
      "        Training Accuracy Score: 0.929456112008616\n",
      "        Test Accuracy Score: 0.7689822294022617\n",
      "        \n",
      "        --- Performance on unseen data ----\n",
      "        Recall (Sensitivity): 0.14093959731543623\n",
      "        Specificity: 0.9680851063829787\n",
      "        Precision: 0.5833333333333334\n",
      "        \n",
      "        Balance Accuracy: 0.5545123518492074\n",
      "        F1 Score: 0.22702702702702704\n",
      "        \n"
     ]
    }
   ],
   "source": [
    "make_model(vr, X_train_tf4, X_test_tf4, y_train_encoded, y_test_encoded)"
   ]
  },
  {
   "cell_type": "code",
   "execution_count": 302,
   "id": "d056a430-7a3c-4538-9f74-44474b256bb8",
   "metadata": {},
   "outputs": [
    {
     "name": "stdout",
     "output_type": "stream",
     "text": [
      "\n",
      "        Training Accuracy Score: 0.9116855142703285\n",
      "        Test Accuracy Score: 0.7560581583198708\n",
      "        \n",
      "        --- Performance on unseen data ----\n",
      "        Recall (Sensitivity): 0.06711409395973154\n",
      "        Specificity: 0.9744680851063829\n",
      "        Precision: 0.45454545454545453\n",
      "        \n",
      "        Balance Accuracy: 0.5207910895330572\n",
      "        F1 Score: 0.11695906432748539\n",
      "        \n"
     ]
    }
   ],
   "source": [
    "make_model(vr, X_train_tf5, X_test_tf5, y_train_encoded, y_test_encoded)"
   ]
  },
  {
   "cell_type": "code",
   "execution_count": 355,
   "id": "6e19fcef-204d-4784-af71-ae8c4acfbff7",
   "metadata": {},
   "outputs": [
    {
     "name": "stdout",
     "output_type": "stream",
     "text": [
      "\n",
      "        Training Accuracy Score: 0.996230479267636\n",
      "        Test Accuracy Score: 0.7657512116316639\n",
      "        \n",
      "        --- Performance on unseen data ----\n",
      "        Recall (Sensitivity): 0.053691275167785234\n",
      "        Specificity: 0.9914893617021276\n",
      "        Precision: 0.6666666666666666\n",
      "        \n",
      "        Balance Accuracy: 0.5225903184349564\n",
      "        F1 Score: 0.09937888198757763\n",
      "        \n"
     ]
    }
   ],
   "source": [
    "make_model(vr, X_train_lt, X_test_lt, y_train_encoded, y_test_encoded)"
   ]
  },
  {
   "cell_type": "code",
   "execution_count": 515,
   "id": "f383f06b-3f7e-4469-94b5-7cfb5bd0aaa9",
   "metadata": {},
   "outputs": [
    {
     "name": "stdout",
     "output_type": "stream",
     "text": [
      "\n",
      "        Training Accuracy Score: 0.9940764674205708\n",
      "        Test Accuracy Score: 0.7641357027463651\n",
      "        \n",
      "        --- Performance on unseen data ----\n",
      "        Recall (Sensitivity): 0.3087248322147651\n",
      "        Specificity: 0.9085106382978724\n",
      "        Precision: 0.5168539325842697\n",
      "        \n",
      "        Balance Accuracy: 0.6086177352563187\n",
      "        F1 Score: 0.3865546218487395\n",
      "        \n"
     ]
    }
   ],
   "source": [
    "make_model(vr2, X_train_lt2, X_test_lt2, y_train_encoded, y_test_encoded)"
   ]
  },
  {
   "cell_type": "code",
   "execution_count": 622,
   "id": "2373c849-b5b3-4507-aa24-d9dc7afba1c8",
   "metadata": {},
   "outputs": [],
   "source": [
    "# storing the best model for production analysis\n",
    "stored_data['best_model'] = best_model"
   ]
  },
  {
   "cell_type": "code",
   "execution_count": 623,
   "id": "a5026219-46f0-4da5-bcab-f0199b8144bf",
   "metadata": {},
   "outputs": [
    {
     "name": "stdout",
     "output_type": "stream",
     "text": [
      "Stored 'stored_data' (dict)\n"
     ]
    }
   ],
   "source": [
    "%store stored_data\n",
    "del stored_data"
   ]
  }
 ],
 "metadata": {
  "kernelspec": {
   "display_name": "Python 3 (ipykernel)",
   "language": "python",
   "name": "python3"
  },
  "language_info": {
   "codemirror_mode": {
    "name": "ipython",
    "version": 3
   },
   "file_extension": ".py",
   "mimetype": "text/x-python",
   "name": "python",
   "nbconvert_exporter": "python",
   "pygments_lexer": "ipython3",
   "version": "3.9.7"
  }
 },
 "nbformat": 4,
 "nbformat_minor": 5
}
